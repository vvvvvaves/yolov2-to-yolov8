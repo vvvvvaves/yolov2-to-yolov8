{
 "cells": [
  {
   "cell_type": "code",
   "execution_count": 8,
   "id": "38b66103-b466-4697-867a-49e611fae097",
   "metadata": {},
   "outputs": [],
   "source": [
    "import sys\n",
    "sys.path.insert(1, '../')"
   ]
  },
  {
   "cell_type": "code",
   "execution_count": 9,
   "id": "d074d533-b3de-43f7-aeda-e373aba7a11a",
   "metadata": {},
   "outputs": [],
   "source": [
    "import torch\n",
    "import torch.nn as nn\n",
    "from Models.block import *\n",
    "from torch.autograd.profiler import record_function\n",
    "from torch.nn.modules.upsampling import Upsample"
   ]
  },
  {
   "cell_type": "code",
   "execution_count": 10,
   "id": "337405e1-a59a-49a2-b6c9-4d0960c138a4",
   "metadata": {},
   "outputs": [],
   "source": [
    "class SPPF(nn.Module):\n",
    "    def __init__(self, in_channels, out_channels, kernel_size=5, \n",
    "                 device=None, dtype=None):\n",
    "        super().__init__()\n",
    "        self.hidden_channels = out_channels//2\n",
    "        self.conv1 = Conv(in_channels, out_channels=self.hidden_channels, kernel_size=(1,1), stride=(1,1),\n",
    "                          padding=(0,0), bias=False,\n",
    "                          device=device, dtype=dtype)\n",
    "        self.conv2 = Conv(self.hidden_channels * 4, out_channels=out_channels, kernel_size=(1,1), stride=(1,1), \n",
    "                          padding=(0,0), bias=False,\n",
    "                          device=device, dtype=dtype)\n",
    "        self.max_pool = nn.MaxPool2d(kernel_size=kernel_size, stride=(1,1), padding=kernel_size // 2)\n",
    "\n",
    "    def forward(self, x):\n",
    "        out = self.conv1(x)\n",
    "        \n",
    "        _l = [out]\n",
    "        for i in range(3):\n",
    "            out = self.max_pool(out)\n",
    "            _l.append(out)\n",
    "        out = torch.cat(_l, 1)\n",
    "        \n",
    "        out = self.conv2(out)\n",
    "        return out"
   ]
  },
  {
   "cell_type": "code",
   "execution_count": 11,
   "id": "5ba44dde-04b9-4ea8-9435-b2de2e0b4ff7",
   "metadata": {},
   "outputs": [
    {
     "data": {
      "text/plain": [
       "torch.Size([1, 32, 20, 20])"
      ]
     },
     "execution_count": 11,
     "metadata": {},
     "output_type": "execute_result"
    }
   ],
   "source": [
    "inp = torch.rand(1,32,20,20)\n",
    "sppf = SPPF(32,32)\n",
    "out = sppf(inp)\n",
    "out.shape"
   ]
  },
  {
   "cell_type": "markdown",
   "id": "581424fe-3253-47e9-a86c-2c5f0ed50a9c",
   "metadata": {},
   "source": [
    "# Can I decrease the number of tensors created?"
   ]
  },
  {
   "cell_type": "code",
   "execution_count": 29,
   "id": "ed0f73ee-ecaf-4b20-8daf-38f409ea271f",
   "metadata": {},
   "outputs": [],
   "source": [
    "class FPN(nn.Module):\n",
    "    def __init__(self, residual_connection=True, \n",
    "                 CSP=True, add_hidden=True, variant='n',\n",
    "                 device=None, dtype=None):\n",
    "        super().__init__()\n",
    "\n",
    "        if variant not in Model.variants.keys():\n",
    "            raise Exception(\"Invalid variant.\")\n",
    "            \n",
    "        self.variant = variant\n",
    "        self.mc = Model.variants[self.variant]['mc']\n",
    "        self.w = Model.variants[self.variant]['w']\n",
    "        self.d = Model.variants[self.variant]['d']\n",
    "        \n",
    "        self.upsample = Upsample(scale_factor=2.0, mode='nearest')\n",
    "\n",
    "        self.c2f_16 = C2f(self._ch(512)+self._ch(1024), out_channels=self._ch(512), n=self._d(3), residual_connection=residual_connection, \n",
    "                        CSP=CSP, add_hidden=add_hidden, bottleneck=1.0,\n",
    "                        device=device, dtype=dtype)\n",
    "\n",
    "        self.c2f_8 = C2f(self._ch(256)+self._ch(512), out_channels=self._ch(256), n=self._d(3), residual_connection=residual_connection, \n",
    "                        CSP=CSP, add_hidden=add_hidden, bottleneck=1.0,\n",
    "                        device=device, dtype=dtype)\n",
    "        \n",
    "        \n",
    "    def forward(self, out_8, out_16, out_32):\n",
    "        out = self.upsample(out_32)\n",
    "\n",
    "        out = torch.cat([out, out_16], 1)\n",
    "        out_16 = self.c2f_16(out)\n",
    "\n",
    "        out = self.upsample(out_16)\n",
    "        out = torch.cat([out, out_8], 1)\n",
    "        out_8 = self.c2f_8(out)\n",
    "\n",
    "        return out_8, out_16, out_32\n",
    "\n",
    "    def _ch(self, ch):\n",
    "        return int(min(ch, self.mc)*self.w)\n",
    "\n",
    "    def _d(self, d):\n",
    "        return int(d * self.d)"
   ]
  },
  {
   "cell_type": "code",
   "execution_count": 30,
   "id": "de21dbd7-8140-4245-bce6-25965e73b692",
   "metadata": {},
   "outputs": [
    {
     "data": {
      "text/plain": [
       "192"
      ]
     },
     "execution_count": 30,
     "metadata": {},
     "output_type": "execute_result"
    }
   ],
   "source": [
    "64+128"
   ]
  },
  {
   "cell_type": "code",
   "execution_count": 31,
   "id": "85c0ba51-0f40-44b3-9a47-22b615c92f0b",
   "metadata": {},
   "outputs": [],
   "source": [
    "fpn = FPN()\n",
    "out_32 = torch.rand(1, 256, 20, 20)\n",
    "out_16 = torch.rand(1, 128, 40, 40)\n",
    "out_8 = torch.rand(1, 64, 80, 80)\n",
    "_t = fpn(out_8, out_16, out_32)"
   ]
  },
  {
   "cell_type": "code",
   "execution_count": 32,
   "id": "4bda4d5d-6dd8-4697-acad-4dd4591d0c04",
   "metadata": {},
   "outputs": [
    {
     "name": "stdout",
     "output_type": "stream",
     "text": [
      "torch.Size([1, 64, 80, 80])\n",
      "torch.Size([1, 128, 40, 40])\n",
      "torch.Size([1, 256, 20, 20])\n"
     ]
    }
   ],
   "source": [
    "for t in _t:\n",
    "    print(t.shape)"
   ]
  },
  {
   "cell_type": "code",
   "execution_count": 35,
   "id": "5dd715df-ed8f-4caa-91e2-1783ee5f59f1",
   "metadata": {},
   "outputs": [],
   "source": [
    "class Model(nn.Module):\n",
    "    variants = {'n': {'d': 0.34, 'w': 0.25, 'mc': 1024},\n",
    "                's': {'d': 0.34, 'w': 0.50, 'mc': 1024},\n",
    "                'm': {'d': 0.67, 'w': 0.75, 'mc': 768},\n",
    "                'l': {'d': 1.00, 'w': 1.00, 'mc': 512},\n",
    "                'xl': {'d': 1.00, 'w': 1.25, 'mc': 512}}\n",
    "\n",
    "    def __init__(self, device=None, dtype=None, \n",
    "                 num_classes=1000, variant='n'):\n",
    "        super().__init__()\n",
    "\n",
    "        # Backbone model parameters\n",
    "        residual_connection = True\n",
    "        CSP = True\n",
    "        add_hidden = True\n",
    "        bottleneck = 1.0\n",
    "        \n",
    "        if variant not in Model.variants.keys():\n",
    "            raise Exception(\"Invalid variant.\")\n",
    "        self.variant = variant\n",
    "        self.mc = Model.variants[self.variant]['mc']\n",
    "        self.w = Model.variants[self.variant]['w']\n",
    "        self.d = Model.variants[self.variant]['d']\n",
    "        \n",
    "\n",
    "        self.conv1 = Conv(3, out_channels=self._ch(64), kernel_size=(3, 3), stride=(2, 2), \n",
    "                         padding=(1, 1), bias=False, \n",
    "                         device=device, dtype=dtype)\n",
    "        self.conv2 = Conv(self._ch(64), out_channels=self._ch(128), kernel_size=(3, 3), stride=(2, 2), \n",
    "                          padding=(1, 1), bias=False,\n",
    "                          device=device, dtype=dtype)\n",
    "        self.c2f1 = C2f(self._ch(128), out_channels=self._ch(128), n=self._d(3), residual_connection=residual_connection, \n",
    "                        CSP=CSP, add_hidden=add_hidden, bottleneck=1.0,\n",
    "                        device=device, dtype=dtype)\n",
    "        self.conv3 = Conv(self._ch(128), out_channels=self._ch(256), kernel_size=(3, 3), stride=(2, 2), \n",
    "                         padding=(1, 1), bias=False, \n",
    "                         device=device, dtype=dtype)\n",
    "        self.c2f2 = C2f(self._ch(256), out_channels=self._ch(256), n=self._d(6), residual_connection=residual_connection, \n",
    "                        CSP=CSP, add_hidden=add_hidden, bottleneck=1.0,\n",
    "                        device=device, dtype=dtype)\n",
    "        # c2f2 --- stride 8 ---->\n",
    "        \n",
    "        self.conv4 = Conv(self._ch(256), out_channels=self._ch(512), kernel_size=(3, 3), stride=(2, 2), \n",
    "                         padding=(1, 1), bias=False, \n",
    "                         device=device, dtype=dtype)\n",
    "        self.c2f3 = C2f(self._ch(512), out_channels=self._ch(512), n=self._d(6), residual_connection=residual_connection, \n",
    "                        CSP=CSP, add_hidden=add_hidden, bottleneck=1.0,\n",
    "                        device=device, dtype=dtype)\n",
    "        # c2f3 --- stride 16 ---->\n",
    "        \n",
    "        self.conv5 = Conv(self._ch(512), out_channels=self._ch(1024), kernel_size=(3, 3), stride=(2, 2), \n",
    "                         padding=(1, 1), bias=False, \n",
    "                         device=device, dtype=dtype)\n",
    "        self.c2f4 = C2f(self._ch(1024), out_channels=self._ch(1024), n=self._d(3), residual_connection=residual_connection, \n",
    "                        CSP=CSP, add_hidden=add_hidden, bottleneck=1.0,\n",
    "                        device=device, dtype=dtype)\n",
    "        \n",
    "        self.sppf = SPPF(self._ch(1024), out_channels=self._ch(1024), kernel_size=5,\n",
    "                        device=device, dtype=dtype)\n",
    "        # sppf --- stride 32 ---->\n",
    "\n",
    "        self.fpn = FPN(residual_connection=residual_connection, \n",
    "                       CSP=CSP, add_hidden=add_hidden, \n",
    "                       variant=variant,\n",
    "                       device=device, dtype=dtype)\n",
    "        \n",
    "\n",
    "    def _ch(self, ch):\n",
    "        return int(min(ch, self.mc)*self.w)\n",
    "\n",
    "    def _d(self, d):\n",
    "        return int(d * self.d)\n",
    "\n",
    "    def forward(self, x):\n",
    "        with record_function('conv1'):\n",
    "            out = self.conv1(x)\n",
    "        \n",
    "        with record_function('conv2'):\n",
    "            out = self.conv2(out)\n",
    "        with record_function('c2f1'):\n",
    "            out = self.c2f1(out)\n",
    "\n",
    "        with record_function('conv3'):\n",
    "            out = self.conv3(out)\n",
    "        with record_function('c2f2'):\n",
    "            out = self.c2f2(out)\n",
    "        \n",
    "        # c2f2 --- stride 8 ---->\n",
    "        out_8 = out\n",
    "            \n",
    "        with record_function('conv4'):\n",
    "            out = self.conv4(out)\n",
    "        with record_function('c2f3'):\n",
    "            out = self.c2f3(out)\n",
    "\n",
    "        # c2f3 --- stride 16 ---->\n",
    "        out_16 = out\n",
    "            \n",
    "        with record_function('conv5'):\n",
    "            out = self.conv5(out)\n",
    "        with record_function('c2f4'):\n",
    "            out = self.c2f4(out)\n",
    "\n",
    "        with record_function('sppf'):\n",
    "            out = self.sppf(out)\n",
    "\n",
    "        # sppf --- stride 32 ---->\n",
    "\n",
    "        with record_function('fpn'):\n",
    "            out_8, out_16, out = self.fpn(out_8, out_16, out)\n",
    "            \n",
    "            \n",
    "        return out_8, out_16, out"
   ]
  },
  {
   "cell_type": "code",
   "execution_count": 36,
   "id": "0d50a19e-0f0f-4aaf-a954-98111e329747",
   "metadata": {},
   "outputs": [],
   "source": [
    "model = Model()"
   ]
  },
  {
   "cell_type": "code",
   "execution_count": 37,
   "id": "7f0d17ca-ad90-44b5-8f8a-b25161cb7066",
   "metadata": {},
   "outputs": [],
   "source": [
    "img = torch.rand(1,3,640,640)\n",
    "out = model(img)"
   ]
  },
  {
   "cell_type": "code",
   "execution_count": 40,
   "id": "9a48523d-a306-4cef-8971-a1ecc32d74af",
   "metadata": {},
   "outputs": [
    {
     "data": {
      "text/plain": [
       "(torch.Size([1, 64, 80, 80]),\n",
       " torch.Size([1, 128, 40, 40]),\n",
       " torch.Size([1, 256, 20, 20]))"
      ]
     },
     "execution_count": 40,
     "metadata": {},
     "output_type": "execute_result"
    }
   ],
   "source": [
    "out[0].shape, out[1].shape, out[2].shape"
   ]
  },
  {
   "cell_type": "code",
   "execution_count": 48,
   "id": "ac35a0f6-ac2a-4d4c-8e65-3ee20c9df403",
   "metadata": {},
   "outputs": [],
   "source": [
    "img = img+1"
   ]
  },
  {
   "cell_type": "code",
   "execution_count": 9,
   "id": "7affb7cc-d8fc-439e-9d10-6a6a5002b441",
   "metadata": {},
   "outputs": [
    {
     "name": "stderr",
     "output_type": "stream",
     "text": [
      "C:\\conda_tmp\\ipykernel_29784\\2873115710.py:1: FutureWarning: You are using `torch.load` with `weights_only=False` (the current default value), which uses the default pickle module implicitly. It is possible to construct malicious pickle data which will execute arbitrary code during unpickling (See https://github.com/pytorch/pytorch/blob/main/SECURITY.md#untrusted-models for more details). In a future release, the default value for `weights_only` will be flipped to `True`. This limits the functions that could be executed during unpickling. Arbitrary objects will no longer be allowed to be loaded via this mode unless they are explicitly allowlisted by the user via `torch.serialization.add_safe_globals`. We recommend you start setting `weights_only=True` for any use case where you don't have full control of the loaded file. Please open an issue on GitHub for any issues related to this experimental feature.\n",
      "  reference = torch.load('yolov8m.pt')['model'].model\n"
     ]
    }
   ],
   "source": [
    "reference = torch.load('yolov8m.pt')['model'].model"
   ]
  },
  {
   "cell_type": "code",
   "execution_count": 20,
   "id": "12568682-de7b-416f-8766-e14f06be431a",
   "metadata": {},
   "outputs": [],
   "source": [
    "up = None\n",
    "for i, (name, m) in enumerate(reference.named_modules()):\n",
    "    if name == '10':\n",
    "        up = m"
   ]
  },
  {
   "cell_type": "code",
   "execution_count": 22,
   "id": "078b7a85-824c-4124-9ec2-d10ebb0dc224",
   "metadata": {},
   "outputs": [
    {
     "data": {
      "text/plain": [
       "torch.nn.modules.upsampling.Upsample"
      ]
     },
     "execution_count": 22,
     "metadata": {},
     "output_type": "execute_result"
    }
   ],
   "source": [
    "type(up)"
   ]
  },
  {
   "cell_type": "code",
   "execution_count": 23,
   "id": "fc6eede8-956f-4920-b199-6acaeea14a22",
   "metadata": {},
   "outputs": [
    {
     "data": {
      "text/plain": [
       "Upsample(scale_factor=2.0, mode='nearest')"
      ]
     },
     "execution_count": 23,
     "metadata": {},
     "output_type": "execute_result"
    }
   ],
   "source": [
    "up"
   ]
  },
  {
   "cell_type": "code",
   "execution_count": 28,
   "id": "3f8d1517-c612-4448-af86-da917ce3e2e6",
   "metadata": {},
   "outputs": [
    {
     "data": {
      "text/plain": [
       "torch.Size([1, 2, 2])"
      ]
     },
     "execution_count": 28,
     "metadata": {},
     "output_type": "execute_result"
    }
   ],
   "source": [
    "tensor = torch.tensor([[[1.,2.],[3.,4.]]])\n",
    "tensor.shape"
   ]
  },
  {
   "cell_type": "code",
   "execution_count": 29,
   "id": "76cdee67-75e9-4218-905b-5ab09ea8778a",
   "metadata": {},
   "outputs": [
    {
     "data": {
      "text/plain": [
       "tensor([[[1., 1., 2., 2.],\n",
       "         [3., 3., 4., 4.]]])"
      ]
     },
     "execution_count": 29,
     "metadata": {},
     "output_type": "execute_result"
    }
   ],
   "source": [
    "out = up(tensor)\n",
    "out"
   ]
  },
  {
   "cell_type": "code",
   "execution_count": 30,
   "id": "df3e00db-e5db-488e-8e9f-a13496069891",
   "metadata": {},
   "outputs": [
    {
     "data": {
      "text/plain": [
       "torch.Size([1, 2, 4])"
      ]
     },
     "execution_count": 30,
     "metadata": {},
     "output_type": "execute_result"
    }
   ],
   "source": [
    "out.shape"
   ]
  },
  {
   "cell_type": "code",
   "execution_count": 19,
   "id": "447ccfb6-fe08-4bfa-ba80-0049867c9173",
   "metadata": {},
   "outputs": [
    {
     "data": {
      "text/plain": [
       "Sequential(\n",
       "  (0): Conv(\n",
       "    (conv): Conv2d(3, 48, kernel_size=(3, 3), stride=(2, 2), padding=(1, 1), bias=False)\n",
       "    (bn): BatchNorm2d(48, eps=0.001, momentum=0.03, affine=True, track_running_stats=True)\n",
       "    (act): SiLU(inplace=True)\n",
       "  )\n",
       "  (1): Conv(\n",
       "    (conv): Conv2d(48, 96, kernel_size=(3, 3), stride=(2, 2), padding=(1, 1), bias=False)\n",
       "    (bn): BatchNorm2d(96, eps=0.001, momentum=0.03, affine=True, track_running_stats=True)\n",
       "    (act): SiLU(inplace=True)\n",
       "  )\n",
       "  (2): C2f(\n",
       "    (cv1): Conv(\n",
       "      (conv): Conv2d(96, 96, kernel_size=(1, 1), stride=(1, 1), bias=False)\n",
       "      (bn): BatchNorm2d(96, eps=0.001, momentum=0.03, affine=True, track_running_stats=True)\n",
       "      (act): SiLU(inplace=True)\n",
       "    )\n",
       "    (cv2): Conv(\n",
       "      (conv): Conv2d(192, 96, kernel_size=(1, 1), stride=(1, 1), bias=False)\n",
       "      (bn): BatchNorm2d(96, eps=0.001, momentum=0.03, affine=True, track_running_stats=True)\n",
       "      (act): SiLU(inplace=True)\n",
       "    )\n",
       "    (m): ModuleList(\n",
       "      (0-1): 2 x Bottleneck(\n",
       "        (cv1): Conv(\n",
       "          (conv): Conv2d(48, 48, kernel_size=(3, 3), stride=(1, 1), padding=(1, 1), bias=False)\n",
       "          (bn): BatchNorm2d(48, eps=0.001, momentum=0.03, affine=True, track_running_stats=True)\n",
       "          (act): SiLU(inplace=True)\n",
       "        )\n",
       "        (cv2): Conv(\n",
       "          (conv): Conv2d(48, 48, kernel_size=(3, 3), stride=(1, 1), padding=(1, 1), bias=False)\n",
       "          (bn): BatchNorm2d(48, eps=0.001, momentum=0.03, affine=True, track_running_stats=True)\n",
       "          (act): SiLU(inplace=True)\n",
       "        )\n",
       "      )\n",
       "    )\n",
       "  )\n",
       "  (3): Conv(\n",
       "    (conv): Conv2d(96, 192, kernel_size=(3, 3), stride=(2, 2), padding=(1, 1), bias=False)\n",
       "    (bn): BatchNorm2d(192, eps=0.001, momentum=0.03, affine=True, track_running_stats=True)\n",
       "    (act): SiLU(inplace=True)\n",
       "  )\n",
       "  (4): C2f(\n",
       "    (cv1): Conv(\n",
       "      (conv): Conv2d(192, 192, kernel_size=(1, 1), stride=(1, 1), bias=False)\n",
       "      (bn): BatchNorm2d(192, eps=0.001, momentum=0.03, affine=True, track_running_stats=True)\n",
       "      (act): SiLU(inplace=True)\n",
       "    )\n",
       "    (cv2): Conv(\n",
       "      (conv): Conv2d(576, 192, kernel_size=(1, 1), stride=(1, 1), bias=False)\n",
       "      (bn): BatchNorm2d(192, eps=0.001, momentum=0.03, affine=True, track_running_stats=True)\n",
       "      (act): SiLU(inplace=True)\n",
       "    )\n",
       "    (m): ModuleList(\n",
       "      (0-3): 4 x Bottleneck(\n",
       "        (cv1): Conv(\n",
       "          (conv): Conv2d(96, 96, kernel_size=(3, 3), stride=(1, 1), padding=(1, 1), bias=False)\n",
       "          (bn): BatchNorm2d(96, eps=0.001, momentum=0.03, affine=True, track_running_stats=True)\n",
       "          (act): SiLU(inplace=True)\n",
       "        )\n",
       "        (cv2): Conv(\n",
       "          (conv): Conv2d(96, 96, kernel_size=(3, 3), stride=(1, 1), padding=(1, 1), bias=False)\n",
       "          (bn): BatchNorm2d(96, eps=0.001, momentum=0.03, affine=True, track_running_stats=True)\n",
       "          (act): SiLU(inplace=True)\n",
       "        )\n",
       "      )\n",
       "    )\n",
       "  )\n",
       "  (5): Conv(\n",
       "    (conv): Conv2d(192, 384, kernel_size=(3, 3), stride=(2, 2), padding=(1, 1), bias=False)\n",
       "    (bn): BatchNorm2d(384, eps=0.001, momentum=0.03, affine=True, track_running_stats=True)\n",
       "    (act): SiLU(inplace=True)\n",
       "  )\n",
       "  (6): C2f(\n",
       "    (cv1): Conv(\n",
       "      (conv): Conv2d(384, 384, kernel_size=(1, 1), stride=(1, 1), bias=False)\n",
       "      (bn): BatchNorm2d(384, eps=0.001, momentum=0.03, affine=True, track_running_stats=True)\n",
       "      (act): SiLU(inplace=True)\n",
       "    )\n",
       "    (cv2): Conv(\n",
       "      (conv): Conv2d(1152, 384, kernel_size=(1, 1), stride=(1, 1), bias=False)\n",
       "      (bn): BatchNorm2d(384, eps=0.001, momentum=0.03, affine=True, track_running_stats=True)\n",
       "      (act): SiLU(inplace=True)\n",
       "    )\n",
       "    (m): ModuleList(\n",
       "      (0-3): 4 x Bottleneck(\n",
       "        (cv1): Conv(\n",
       "          (conv): Conv2d(192, 192, kernel_size=(3, 3), stride=(1, 1), padding=(1, 1), bias=False)\n",
       "          (bn): BatchNorm2d(192, eps=0.001, momentum=0.03, affine=True, track_running_stats=True)\n",
       "          (act): SiLU(inplace=True)\n",
       "        )\n",
       "        (cv2): Conv(\n",
       "          (conv): Conv2d(192, 192, kernel_size=(3, 3), stride=(1, 1), padding=(1, 1), bias=False)\n",
       "          (bn): BatchNorm2d(192, eps=0.001, momentum=0.03, affine=True, track_running_stats=True)\n",
       "          (act): SiLU(inplace=True)\n",
       "        )\n",
       "      )\n",
       "    )\n",
       "  )\n",
       "  (7): Conv(\n",
       "    (conv): Conv2d(384, 576, kernel_size=(3, 3), stride=(2, 2), padding=(1, 1), bias=False)\n",
       "    (bn): BatchNorm2d(576, eps=0.001, momentum=0.03, affine=True, track_running_stats=True)\n",
       "    (act): SiLU(inplace=True)\n",
       "  )\n",
       "  (8): C2f(\n",
       "    (cv1): Conv(\n",
       "      (conv): Conv2d(576, 576, kernel_size=(1, 1), stride=(1, 1), bias=False)\n",
       "      (bn): BatchNorm2d(576, eps=0.001, momentum=0.03, affine=True, track_running_stats=True)\n",
       "      (act): SiLU(inplace=True)\n",
       "    )\n",
       "    (cv2): Conv(\n",
       "      (conv): Conv2d(1152, 576, kernel_size=(1, 1), stride=(1, 1), bias=False)\n",
       "      (bn): BatchNorm2d(576, eps=0.001, momentum=0.03, affine=True, track_running_stats=True)\n",
       "      (act): SiLU(inplace=True)\n",
       "    )\n",
       "    (m): ModuleList(\n",
       "      (0-1): 2 x Bottleneck(\n",
       "        (cv1): Conv(\n",
       "          (conv): Conv2d(288, 288, kernel_size=(3, 3), stride=(1, 1), padding=(1, 1), bias=False)\n",
       "          (bn): BatchNorm2d(288, eps=0.001, momentum=0.03, affine=True, track_running_stats=True)\n",
       "          (act): SiLU(inplace=True)\n",
       "        )\n",
       "        (cv2): Conv(\n",
       "          (conv): Conv2d(288, 288, kernel_size=(3, 3), stride=(1, 1), padding=(1, 1), bias=False)\n",
       "          (bn): BatchNorm2d(288, eps=0.001, momentum=0.03, affine=True, track_running_stats=True)\n",
       "          (act): SiLU(inplace=True)\n",
       "        )\n",
       "      )\n",
       "    )\n",
       "  )\n",
       "  (9): SPPF(\n",
       "    (cv1): Conv(\n",
       "      (conv): Conv2d(576, 288, kernel_size=(1, 1), stride=(1, 1), bias=False)\n",
       "      (bn): BatchNorm2d(288, eps=0.001, momentum=0.03, affine=True, track_running_stats=True)\n",
       "      (act): SiLU(inplace=True)\n",
       "    )\n",
       "    (cv2): Conv(\n",
       "      (conv): Conv2d(1152, 576, kernel_size=(1, 1), stride=(1, 1), bias=False)\n",
       "      (bn): BatchNorm2d(576, eps=0.001, momentum=0.03, affine=True, track_running_stats=True)\n",
       "      (act): SiLU(inplace=True)\n",
       "    )\n",
       "    (m): MaxPool2d(kernel_size=5, stride=1, padding=2, dilation=1, ceil_mode=False)\n",
       "  )\n",
       "  (10): Upsample(scale_factor=2.0, mode='nearest')\n",
       "  (11): Concat()\n",
       "  (12): C2f(\n",
       "    (cv1): Conv(\n",
       "      (conv): Conv2d(960, 384, kernel_size=(1, 1), stride=(1, 1), bias=False)\n",
       "      (bn): BatchNorm2d(384, eps=0.001, momentum=0.03, affine=True, track_running_stats=True)\n",
       "      (act): SiLU(inplace=True)\n",
       "    )\n",
       "    (cv2): Conv(\n",
       "      (conv): Conv2d(768, 384, kernel_size=(1, 1), stride=(1, 1), bias=False)\n",
       "      (bn): BatchNorm2d(384, eps=0.001, momentum=0.03, affine=True, track_running_stats=True)\n",
       "      (act): SiLU(inplace=True)\n",
       "    )\n",
       "    (m): ModuleList(\n",
       "      (0-1): 2 x Bottleneck(\n",
       "        (cv1): Conv(\n",
       "          (conv): Conv2d(192, 192, kernel_size=(3, 3), stride=(1, 1), padding=(1, 1), bias=False)\n",
       "          (bn): BatchNorm2d(192, eps=0.001, momentum=0.03, affine=True, track_running_stats=True)\n",
       "          (act): SiLU(inplace=True)\n",
       "        )\n",
       "        (cv2): Conv(\n",
       "          (conv): Conv2d(192, 192, kernel_size=(3, 3), stride=(1, 1), padding=(1, 1), bias=False)\n",
       "          (bn): BatchNorm2d(192, eps=0.001, momentum=0.03, affine=True, track_running_stats=True)\n",
       "          (act): SiLU(inplace=True)\n",
       "        )\n",
       "      )\n",
       "    )\n",
       "  )\n",
       "  (13): Upsample(scale_factor=2.0, mode='nearest')\n",
       "  (14): Concat()\n",
       "  (15): C2f(\n",
       "    (cv1): Conv(\n",
       "      (conv): Conv2d(576, 192, kernel_size=(1, 1), stride=(1, 1), bias=False)\n",
       "      (bn): BatchNorm2d(192, eps=0.001, momentum=0.03, affine=True, track_running_stats=True)\n",
       "      (act): SiLU(inplace=True)\n",
       "    )\n",
       "    (cv2): Conv(\n",
       "      (conv): Conv2d(384, 192, kernel_size=(1, 1), stride=(1, 1), bias=False)\n",
       "      (bn): BatchNorm2d(192, eps=0.001, momentum=0.03, affine=True, track_running_stats=True)\n",
       "      (act): SiLU(inplace=True)\n",
       "    )\n",
       "    (m): ModuleList(\n",
       "      (0-1): 2 x Bottleneck(\n",
       "        (cv1): Conv(\n",
       "          (conv): Conv2d(96, 96, kernel_size=(3, 3), stride=(1, 1), padding=(1, 1), bias=False)\n",
       "          (bn): BatchNorm2d(96, eps=0.001, momentum=0.03, affine=True, track_running_stats=True)\n",
       "          (act): SiLU(inplace=True)\n",
       "        )\n",
       "        (cv2): Conv(\n",
       "          (conv): Conv2d(96, 96, kernel_size=(3, 3), stride=(1, 1), padding=(1, 1), bias=False)\n",
       "          (bn): BatchNorm2d(96, eps=0.001, momentum=0.03, affine=True, track_running_stats=True)\n",
       "          (act): SiLU(inplace=True)\n",
       "        )\n",
       "      )\n",
       "    )\n",
       "  )\n",
       "  (16): Conv(\n",
       "    (conv): Conv2d(192, 192, kernel_size=(3, 3), stride=(2, 2), padding=(1, 1), bias=False)\n",
       "    (bn): BatchNorm2d(192, eps=0.001, momentum=0.03, affine=True, track_running_stats=True)\n",
       "    (act): SiLU(inplace=True)\n",
       "  )\n",
       "  (17): Concat()\n",
       "  (18): C2f(\n",
       "    (cv1): Conv(\n",
       "      (conv): Conv2d(576, 384, kernel_size=(1, 1), stride=(1, 1), bias=False)\n",
       "      (bn): BatchNorm2d(384, eps=0.001, momentum=0.03, affine=True, track_running_stats=True)\n",
       "      (act): SiLU(inplace=True)\n",
       "    )\n",
       "    (cv2): Conv(\n",
       "      (conv): Conv2d(768, 384, kernel_size=(1, 1), stride=(1, 1), bias=False)\n",
       "      (bn): BatchNorm2d(384, eps=0.001, momentum=0.03, affine=True, track_running_stats=True)\n",
       "      (act): SiLU(inplace=True)\n",
       "    )\n",
       "    (m): ModuleList(\n",
       "      (0-1): 2 x Bottleneck(\n",
       "        (cv1): Conv(\n",
       "          (conv): Conv2d(192, 192, kernel_size=(3, 3), stride=(1, 1), padding=(1, 1), bias=False)\n",
       "          (bn): BatchNorm2d(192, eps=0.001, momentum=0.03, affine=True, track_running_stats=True)\n",
       "          (act): SiLU(inplace=True)\n",
       "        )\n",
       "        (cv2): Conv(\n",
       "          (conv): Conv2d(192, 192, kernel_size=(3, 3), stride=(1, 1), padding=(1, 1), bias=False)\n",
       "          (bn): BatchNorm2d(192, eps=0.001, momentum=0.03, affine=True, track_running_stats=True)\n",
       "          (act): SiLU(inplace=True)\n",
       "        )\n",
       "      )\n",
       "    )\n",
       "  )\n",
       "  (19): Conv(\n",
       "    (conv): Conv2d(384, 384, kernel_size=(3, 3), stride=(2, 2), padding=(1, 1), bias=False)\n",
       "    (bn): BatchNorm2d(384, eps=0.001, momentum=0.03, affine=True, track_running_stats=True)\n",
       "    (act): SiLU(inplace=True)\n",
       "  )\n",
       "  (20): Concat()\n",
       "  (21): C2f(\n",
       "    (cv1): Conv(\n",
       "      (conv): Conv2d(960, 576, kernel_size=(1, 1), stride=(1, 1), bias=False)\n",
       "      (bn): BatchNorm2d(576, eps=0.001, momentum=0.03, affine=True, track_running_stats=True)\n",
       "      (act): SiLU(inplace=True)\n",
       "    )\n",
       "    (cv2): Conv(\n",
       "      (conv): Conv2d(1152, 576, kernel_size=(1, 1), stride=(1, 1), bias=False)\n",
       "      (bn): BatchNorm2d(576, eps=0.001, momentum=0.03, affine=True, track_running_stats=True)\n",
       "      (act): SiLU(inplace=True)\n",
       "    )\n",
       "    (m): ModuleList(\n",
       "      (0-1): 2 x Bottleneck(\n",
       "        (cv1): Conv(\n",
       "          (conv): Conv2d(288, 288, kernel_size=(3, 3), stride=(1, 1), padding=(1, 1), bias=False)\n",
       "          (bn): BatchNorm2d(288, eps=0.001, momentum=0.03, affine=True, track_running_stats=True)\n",
       "          (act): SiLU(inplace=True)\n",
       "        )\n",
       "        (cv2): Conv(\n",
       "          (conv): Conv2d(288, 288, kernel_size=(3, 3), stride=(1, 1), padding=(1, 1), bias=False)\n",
       "          (bn): BatchNorm2d(288, eps=0.001, momentum=0.03, affine=True, track_running_stats=True)\n",
       "          (act): SiLU(inplace=True)\n",
       "        )\n",
       "      )\n",
       "    )\n",
       "  )\n",
       "  (22): Detect(\n",
       "    (cv2): ModuleList(\n",
       "      (0): Sequential(\n",
       "        (0): Conv(\n",
       "          (conv): Conv2d(192, 64, kernel_size=(3, 3), stride=(1, 1), padding=(1, 1), bias=False)\n",
       "          (bn): BatchNorm2d(64, eps=0.001, momentum=0.03, affine=True, track_running_stats=True)\n",
       "          (act): SiLU(inplace=True)\n",
       "        )\n",
       "        (1): Conv(\n",
       "          (conv): Conv2d(64, 64, kernel_size=(3, 3), stride=(1, 1), padding=(1, 1), bias=False)\n",
       "          (bn): BatchNorm2d(64, eps=0.001, momentum=0.03, affine=True, track_running_stats=True)\n",
       "          (act): SiLU(inplace=True)\n",
       "        )\n",
       "        (2): Conv2d(64, 64, kernel_size=(1, 1), stride=(1, 1))\n",
       "      )\n",
       "      (1): Sequential(\n",
       "        (0): Conv(\n",
       "          (conv): Conv2d(384, 64, kernel_size=(3, 3), stride=(1, 1), padding=(1, 1), bias=False)\n",
       "          (bn): BatchNorm2d(64, eps=0.001, momentum=0.03, affine=True, track_running_stats=True)\n",
       "          (act): SiLU(inplace=True)\n",
       "        )\n",
       "        (1): Conv(\n",
       "          (conv): Conv2d(64, 64, kernel_size=(3, 3), stride=(1, 1), padding=(1, 1), bias=False)\n",
       "          (bn): BatchNorm2d(64, eps=0.001, momentum=0.03, affine=True, track_running_stats=True)\n",
       "          (act): SiLU(inplace=True)\n",
       "        )\n",
       "        (2): Conv2d(64, 64, kernel_size=(1, 1), stride=(1, 1))\n",
       "      )\n",
       "      (2): Sequential(\n",
       "        (0): Conv(\n",
       "          (conv): Conv2d(576, 64, kernel_size=(3, 3), stride=(1, 1), padding=(1, 1), bias=False)\n",
       "          (bn): BatchNorm2d(64, eps=0.001, momentum=0.03, affine=True, track_running_stats=True)\n",
       "          (act): SiLU(inplace=True)\n",
       "        )\n",
       "        (1): Conv(\n",
       "          (conv): Conv2d(64, 64, kernel_size=(3, 3), stride=(1, 1), padding=(1, 1), bias=False)\n",
       "          (bn): BatchNorm2d(64, eps=0.001, momentum=0.03, affine=True, track_running_stats=True)\n",
       "          (act): SiLU(inplace=True)\n",
       "        )\n",
       "        (2): Conv2d(64, 64, kernel_size=(1, 1), stride=(1, 1))\n",
       "      )\n",
       "    )\n",
       "    (cv3): ModuleList(\n",
       "      (0): Sequential(\n",
       "        (0): Conv(\n",
       "          (conv): Conv2d(192, 192, kernel_size=(3, 3), stride=(1, 1), padding=(1, 1), bias=False)\n",
       "          (bn): BatchNorm2d(192, eps=0.001, momentum=0.03, affine=True, track_running_stats=True)\n",
       "          (act): SiLU(inplace=True)\n",
       "        )\n",
       "        (1): Conv(\n",
       "          (conv): Conv2d(192, 192, kernel_size=(3, 3), stride=(1, 1), padding=(1, 1), bias=False)\n",
       "          (bn): BatchNorm2d(192, eps=0.001, momentum=0.03, affine=True, track_running_stats=True)\n",
       "          (act): SiLU(inplace=True)\n",
       "        )\n",
       "        (2): Conv2d(192, 80, kernel_size=(1, 1), stride=(1, 1))\n",
       "      )\n",
       "      (1): Sequential(\n",
       "        (0): Conv(\n",
       "          (conv): Conv2d(384, 192, kernel_size=(3, 3), stride=(1, 1), padding=(1, 1), bias=False)\n",
       "          (bn): BatchNorm2d(192, eps=0.001, momentum=0.03, affine=True, track_running_stats=True)\n",
       "          (act): SiLU(inplace=True)\n",
       "        )\n",
       "        (1): Conv(\n",
       "          (conv): Conv2d(192, 192, kernel_size=(3, 3), stride=(1, 1), padding=(1, 1), bias=False)\n",
       "          (bn): BatchNorm2d(192, eps=0.001, momentum=0.03, affine=True, track_running_stats=True)\n",
       "          (act): SiLU(inplace=True)\n",
       "        )\n",
       "        (2): Conv2d(192, 80, kernel_size=(1, 1), stride=(1, 1))\n",
       "      )\n",
       "      (2): Sequential(\n",
       "        (0): Conv(\n",
       "          (conv): Conv2d(576, 192, kernel_size=(3, 3), stride=(1, 1), padding=(1, 1), bias=False)\n",
       "          (bn): BatchNorm2d(192, eps=0.001, momentum=0.03, affine=True, track_running_stats=True)\n",
       "          (act): SiLU(inplace=True)\n",
       "        )\n",
       "        (1): Conv(\n",
       "          (conv): Conv2d(192, 192, kernel_size=(3, 3), stride=(1, 1), padding=(1, 1), bias=False)\n",
       "          (bn): BatchNorm2d(192, eps=0.001, momentum=0.03, affine=True, track_running_stats=True)\n",
       "          (act): SiLU(inplace=True)\n",
       "        )\n",
       "        (2): Conv2d(192, 80, kernel_size=(1, 1), stride=(1, 1))\n",
       "      )\n",
       "    )\n",
       "    (dfl): DFL(\n",
       "      (conv): Conv2d(16, 1, kernel_size=(1, 1), stride=(1, 1), bias=False)\n",
       "    )\n",
       "  )\n",
       ")"
      ]
     },
     "execution_count": 19,
     "metadata": {},
     "output_type": "execute_result"
    }
   ],
   "source": [
    "reference"
   ]
  },
  {
   "cell_type": "code",
   "execution_count": null,
   "id": "8143e66c-aae9-4279-aa81-aa7c08d280ef",
   "metadata": {},
   "outputs": [],
   "source": []
  }
 ],
 "metadata": {
  "kernelspec": {
   "display_name": "Python 3 (ipykernel)",
   "language": "python",
   "name": "python3"
  },
  "language_info": {
   "codemirror_mode": {
    "name": "ipython",
    "version": 3
   },
   "file_extension": ".py",
   "mimetype": "text/x-python",
   "name": "python",
   "nbconvert_exporter": "python",
   "pygments_lexer": "ipython3",
   "version": "3.9.20"
  }
 },
 "nbformat": 4,
 "nbformat_minor": 5
}
