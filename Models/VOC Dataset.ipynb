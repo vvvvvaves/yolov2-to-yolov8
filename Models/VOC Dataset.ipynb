{
 "cells": [
  {
   "cell_type": "code",
   "execution_count": 1,
   "id": "6b4b0840-b07e-4fb1-9f71-74ded9239322",
   "metadata": {},
   "outputs": [],
   "source": [
    "import torch\n",
    "import torch.nn as nn\n",
    "from torch.utils.data import Dataset"
   ]
  },
  {
   "cell_type": "code",
   "execution_count": 3,
   "id": "5c6248c8-a816-4400-a5fc-6d5e3b4c7844",
   "metadata": {},
   "outputs": [],
   "source": [
    "class VOCDataset(Dataset):\n",
    "    def __init__(self, anchors, scales, \n",
    "                 dtype=None, device=None):\n",
    "        super().__init__()\n",
    "        self.anchors = anchors\n",
    "        self.scales = scales\n",
    "        self.dtype = dtype"
   ]
  },
  {
   "cell_type": "code",
   "execution_count": null,
   "id": "a8031a5d-829f-41d6-b2bc-68f4f6ea516b",
   "metadata": {},
   "outputs": [],
   "source": []
  }
 ],
 "metadata": {
  "kernelspec": {
   "display_name": "New Python (GPU)",
   "language": "python",
   "name": "new_gpu_env"
  },
  "language_info": {
   "codemirror_mode": {
    "name": "ipython",
    "version": 3
   },
   "file_extension": ".py",
   "mimetype": "text/x-python",
   "name": "python",
   "nbconvert_exporter": "python",
   "pygments_lexer": "ipython3",
   "version": "3.9.20"
  }
 },
 "nbformat": 4,
 "nbformat_minor": 5
}
