{
 "cells": [
  {
   "cell_type": "code",
   "execution_count": 5,
   "id": "a4236603-cdf3-4a70-ae38-3095d710a5ae",
   "metadata": {},
   "outputs": [],
   "source": [
    "import torch\n",
    "import torch.nn as nn"
   ]
  },
  {
   "cell_type": "code",
   "execution_count": 6,
   "id": "09d5d8ee-f783-4cf7-85bc-b5a8ebdbd54b",
   "metadata": {},
   "outputs": [],
   "source": [
    "import sys\n",
    "sys.path.insert(1, '../')\n",
    "from darknet19 import *"
   ]
  },
  {
   "cell_type": "code",
   "execution_count": 7,
   "id": "5bae538a-89aa-4d1c-827b-d41ecc497764",
   "metadata": {},
   "outputs": [],
   "source": [
    "img = torch.randint(0, 1, (1, 3, 224, 224)).to(torch.float32)"
   ]
  },
  {
   "cell_type": "code",
   "execution_count": 8,
   "id": "af4c7f07-cebd-4c86-a364-e45075df5a56",
   "metadata": {},
   "outputs": [],
   "source": [
    "darknet19 = Darknet19(num_classes=10)"
   ]
  },
  {
   "cell_type": "code",
   "execution_count": 9,
   "id": "e86b0668-765c-4603-8133-45fed63c68cd",
   "metadata": {},
   "outputs": [],
   "source": [
    "out = darknet19(img)"
   ]
  },
  {
   "cell_type": "code",
   "execution_count": 10,
   "id": "a2563fdb-8b6f-4049-8e5d-0d6718102cb2",
   "metadata": {},
   "outputs": [
    {
     "data": {
      "text/plain": [
       "torch.Size([1, 10])"
      ]
     },
     "execution_count": 10,
     "metadata": {},
     "output_type": "execute_result"
    }
   ],
   "source": [
    "out.shape"
   ]
  },
  {
   "cell_type": "markdown",
   "id": "6dd37217-6645-450a-8d26-ebe06fcce4d2",
   "metadata": {},
   "source": [
    "## Count parameters:"
   ]
  },
  {
   "cell_type": "code",
   "execution_count": 12,
   "id": "3dc2d217-cbef-407c-a6ef-65d0b715bde1",
   "metadata": {},
   "outputs": [
    {
     "data": {
      "text/plain": [
       "19827616"
      ]
     },
     "execution_count": 12,
     "metadata": {},
     "output_type": "execute_result"
    }
   ],
   "source": [
    "total_params = sum(p.numel() for p in darknet19.parameters())\n",
    "total_params"
   ]
  },
  {
   "cell_type": "markdown",
   "id": "089b5369-e405-437d-bad1-f304a6ef1a0f",
   "metadata": {},
   "source": [
    "19.8 M"
   ]
  },
  {
   "cell_type": "markdown",
   "id": "8b74fd27-3562-4892-b6b5-f48242245dbb",
   "metadata": {},
   "source": [
    "# Performance"
   ]
  },
  {
   "cell_type": "markdown",
   "id": "be03e29d-c174-4330-b834-8652dcf685fd",
   "metadata": {},
   "source": [
    "Top-1 accuracy on ImageNet: 72.9%\n",
    "</br>Top-5 accuracy on ImageNet: 91.2% "
   ]
  }
 ],
 "metadata": {
  "kernelspec": {
   "display_name": "Python 3 (ipykernel)",
   "language": "python",
   "name": "python3"
  },
  "language_info": {
   "codemirror_mode": {
    "name": "ipython",
    "version": 3
   },
   "file_extension": ".py",
   "mimetype": "text/x-python",
   "name": "python",
   "nbconvert_exporter": "python",
   "pygments_lexer": "ipython3",
   "version": "3.12.6"
  }
 },
 "nbformat": 4,
 "nbformat_minor": 5
}
