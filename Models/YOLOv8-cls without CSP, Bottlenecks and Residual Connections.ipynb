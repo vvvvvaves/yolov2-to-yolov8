{
 "cells": [
  {
   "cell_type": "code",
   "execution_count": 213,
   "id": "f95160e7-d90e-4421-97f5-14cd46d16dd2",
   "metadata": {},
   "outputs": [],
   "source": [
    "import torch\n",
    "import torch.nn as nn"
   ]
  },
  {
   "cell_type": "code",
   "execution_count": 214,
   "id": "b35c8bc7-1ab2-46df-a9b9-38941d8ada08",
   "metadata": {},
   "outputs": [],
   "source": [
    "reference = torch.load('yolov8n-cls_10.pt')"
   ]
  },
  {
   "cell_type": "code",
   "execution_count": 215,
   "id": "397a9a26-a188-49f9-92b4-fdcdb24e7c60",
   "metadata": {},
   "outputs": [
    {
     "data": {
      "text/plain": [
       "Sequential(\n",
       "  (0): Conv(\n",
       "    (conv): Conv2d(3, 16, kernel_size=(3, 3), stride=(2, 2), padding=(1, 1), bias=False)\n",
       "    (bn): BatchNorm2d(16, eps=1e-05, momentum=0.1, affine=True, track_running_stats=True)\n",
       "    (act): SiLU()\n",
       "  )\n",
       "  (1): Conv(\n",
       "    (conv): Conv2d(16, 32, kernel_size=(3, 3), stride=(2, 2), padding=(1, 1), bias=False)\n",
       "    (bn): BatchNorm2d(32, eps=1e-05, momentum=0.1, affine=True, track_running_stats=True)\n",
       "    (act): SiLU()\n",
       "  )\n",
       "  (2): C2f(\n",
       "    (cv1): Conv(\n",
       "      (conv): Conv2d(32, 32, kernel_size=(1, 1), stride=(1, 1), bias=False)\n",
       "      (bn): BatchNorm2d(32, eps=1e-05, momentum=0.1, affine=True, track_running_stats=True)\n",
       "      (act): SiLU()\n",
       "    )\n",
       "    (cv2): Conv(\n",
       "      (conv): Conv2d(48, 32, kernel_size=(1, 1), stride=(1, 1), bias=False)\n",
       "      (bn): BatchNorm2d(32, eps=1e-05, momentum=0.1, affine=True, track_running_stats=True)\n",
       "      (act): SiLU()\n",
       "    )\n",
       "    (m): ModuleList(\n",
       "      (0): Bottleneck(\n",
       "        (cv1): Conv(\n",
       "          (conv): Conv2d(16, 16, kernel_size=(3, 3), stride=(1, 1), padding=(1, 1), bias=False)\n",
       "          (bn): BatchNorm2d(16, eps=1e-05, momentum=0.1, affine=True, track_running_stats=True)\n",
       "          (act): SiLU()\n",
       "        )\n",
       "        (cv2): Conv(\n",
       "          (conv): Conv2d(16, 16, kernel_size=(3, 3), stride=(1, 1), padding=(1, 1), bias=False)\n",
       "          (bn): BatchNorm2d(16, eps=1e-05, momentum=0.1, affine=True, track_running_stats=True)\n",
       "          (act): SiLU()\n",
       "        )\n",
       "      )\n",
       "    )\n",
       "  )\n",
       "  (3): Conv(\n",
       "    (conv): Conv2d(32, 64, kernel_size=(3, 3), stride=(2, 2), padding=(1, 1), bias=False)\n",
       "    (bn): BatchNorm2d(64, eps=1e-05, momentum=0.1, affine=True, track_running_stats=True)\n",
       "    (act): SiLU()\n",
       "  )\n",
       "  (4): C2f(\n",
       "    (cv1): Conv(\n",
       "      (conv): Conv2d(64, 64, kernel_size=(1, 1), stride=(1, 1), bias=False)\n",
       "      (bn): BatchNorm2d(64, eps=1e-05, momentum=0.1, affine=True, track_running_stats=True)\n",
       "      (act): SiLU()\n",
       "    )\n",
       "    (cv2): Conv(\n",
       "      (conv): Conv2d(128, 64, kernel_size=(1, 1), stride=(1, 1), bias=False)\n",
       "      (bn): BatchNorm2d(64, eps=1e-05, momentum=0.1, affine=True, track_running_stats=True)\n",
       "      (act): SiLU()\n",
       "    )\n",
       "    (m): ModuleList(\n",
       "      (0-1): 2 x Bottleneck(\n",
       "        (cv1): Conv(\n",
       "          (conv): Conv2d(32, 32, kernel_size=(3, 3), stride=(1, 1), padding=(1, 1), bias=False)\n",
       "          (bn): BatchNorm2d(32, eps=1e-05, momentum=0.1, affine=True, track_running_stats=True)\n",
       "          (act): SiLU()\n",
       "        )\n",
       "        (cv2): Conv(\n",
       "          (conv): Conv2d(32, 32, kernel_size=(3, 3), stride=(1, 1), padding=(1, 1), bias=False)\n",
       "          (bn): BatchNorm2d(32, eps=1e-05, momentum=0.1, affine=True, track_running_stats=True)\n",
       "          (act): SiLU()\n",
       "        )\n",
       "      )\n",
       "    )\n",
       "  )\n",
       "  (5): Conv(\n",
       "    (conv): Conv2d(64, 128, kernel_size=(3, 3), stride=(2, 2), padding=(1, 1), bias=False)\n",
       "    (bn): BatchNorm2d(128, eps=1e-05, momentum=0.1, affine=True, track_running_stats=True)\n",
       "    (act): SiLU()\n",
       "  )\n",
       "  (6): C2f(\n",
       "    (cv1): Conv(\n",
       "      (conv): Conv2d(128, 128, kernel_size=(1, 1), stride=(1, 1), bias=False)\n",
       "      (bn): BatchNorm2d(128, eps=1e-05, momentum=0.1, affine=True, track_running_stats=True)\n",
       "      (act): SiLU()\n",
       "    )\n",
       "    (cv2): Conv(\n",
       "      (conv): Conv2d(256, 128, kernel_size=(1, 1), stride=(1, 1), bias=False)\n",
       "      (bn): BatchNorm2d(128, eps=1e-05, momentum=0.1, affine=True, track_running_stats=True)\n",
       "      (act): SiLU()\n",
       "    )\n",
       "    (m): ModuleList(\n",
       "      (0-1): 2 x Bottleneck(\n",
       "        (cv1): Conv(\n",
       "          (conv): Conv2d(64, 64, kernel_size=(3, 3), stride=(1, 1), padding=(1, 1), bias=False)\n",
       "          (bn): BatchNorm2d(64, eps=1e-05, momentum=0.1, affine=True, track_running_stats=True)\n",
       "          (act): SiLU()\n",
       "        )\n",
       "        (cv2): Conv(\n",
       "          (conv): Conv2d(64, 64, kernel_size=(3, 3), stride=(1, 1), padding=(1, 1), bias=False)\n",
       "          (bn): BatchNorm2d(64, eps=1e-05, momentum=0.1, affine=True, track_running_stats=True)\n",
       "          (act): SiLU()\n",
       "        )\n",
       "      )\n",
       "    )\n",
       "  )\n",
       "  (7): Conv(\n",
       "    (conv): Conv2d(128, 256, kernel_size=(3, 3), stride=(2, 2), padding=(1, 1), bias=False)\n",
       "    (bn): BatchNorm2d(256, eps=1e-05, momentum=0.1, affine=True, track_running_stats=True)\n",
       "    (act): SiLU()\n",
       "  )\n",
       "  (8): C2f(\n",
       "    (cv1): Conv(\n",
       "      (conv): Conv2d(256, 256, kernel_size=(1, 1), stride=(1, 1), bias=False)\n",
       "      (bn): BatchNorm2d(256, eps=1e-05, momentum=0.1, affine=True, track_running_stats=True)\n",
       "      (act): SiLU()\n",
       "    )\n",
       "    (cv2): Conv(\n",
       "      (conv): Conv2d(384, 256, kernel_size=(1, 1), stride=(1, 1), bias=False)\n",
       "      (bn): BatchNorm2d(256, eps=1e-05, momentum=0.1, affine=True, track_running_stats=True)\n",
       "      (act): SiLU()\n",
       "    )\n",
       "    (m): ModuleList(\n",
       "      (0): Bottleneck(\n",
       "        (cv1): Conv(\n",
       "          (conv): Conv2d(128, 128, kernel_size=(3, 3), stride=(1, 1), padding=(1, 1), bias=False)\n",
       "          (bn): BatchNorm2d(128, eps=1e-05, momentum=0.1, affine=True, track_running_stats=True)\n",
       "          (act): SiLU()\n",
       "        )\n",
       "        (cv2): Conv(\n",
       "          (conv): Conv2d(128, 128, kernel_size=(3, 3), stride=(1, 1), padding=(1, 1), bias=False)\n",
       "          (bn): BatchNorm2d(128, eps=1e-05, momentum=0.1, affine=True, track_running_stats=True)\n",
       "          (act): SiLU()\n",
       "        )\n",
       "      )\n",
       "    )\n",
       "  )\n",
       "  (9): Classify(\n",
       "    (conv): Conv(\n",
       "      (conv): Conv2d(256, 1280, kernel_size=(1, 1), stride=(1, 1), bias=False)\n",
       "      (bn): BatchNorm2d(1280, eps=1e-05, momentum=0.1, affine=True, track_running_stats=True)\n",
       "      (act): SiLU()\n",
       "    )\n",
       "    (pool): AdaptiveAvgPool2d(output_size=1)\n",
       "    (drop): Dropout(p=0.0, inplace=True)\n",
       "    (linear): Linear(in_features=1280, out_features=10, bias=True)\n",
       "  )\n",
       ")"
      ]
     },
     "execution_count": 215,
     "metadata": {},
     "output_type": "execute_result"
    }
   ],
   "source": [
    "reference"
   ]
  },
  {
   "cell_type": "code",
   "execution_count": 216,
   "id": "806d5824-5037-4bba-bde4-534b7d26c601",
   "metadata": {},
   "outputs": [],
   "source": [
    "class Conv(nn.Module): # for my experiments, it is identical to the ultralytics conv module\n",
    "    def __init__(self, in_channels, out_channels, \n",
    "                 kernel_size, stride=1, padding=1, \n",
    "                 dilation=1, groups=1, bias=False, \n",
    "                 padding_mode='zeros', device=None, dtype=None):\n",
    "        super().__init__()\n",
    "        self.conv = nn.Conv2d(in_channels, out_channels, \n",
    "                             kernel_size, stride, padding, \n",
    "                             dilation, groups, bias, \n",
    "                             padding_mode, device, dtype)\n",
    "        self.bn = nn.BatchNorm2d(out_channels)\n",
    "        self.act = nn.SiLU()\n",
    "\n",
    "    def forward(self, x):\n",
    "        out = self.act(self.bn(self.conv(x)))\n",
    "        return out"
   ]
  },
  {
   "cell_type": "code",
   "execution_count": 217,
   "id": "2dff751d-59fe-4329-be7d-9842349d3eee",
   "metadata": {},
   "outputs": [],
   "source": [
    "class Bottleneck(nn.Module):\n",
    "    def __init__(self, in_channels, out_channels, \n",
    "                 residual_connection=True, bottleneck=0.5):\n",
    "        super().__init__()\n",
    "        self.hidden_channels = int(out_channels*bottleneck)\n",
    "        self.conv1 = Conv(in_channels, out_channels=self.hidden_channels, kernel_size=(3,3), stride=1, padding=1)\n",
    "        self.conv2 = Conv(self.hidden_channels, out_channels=out_channels, kernel_size=(3,3), stride=1, padding=1)\n",
    "        self.add = residual_connection and in_channels == out_channels\n",
    "\n",
    "    def forward(self, x):\n",
    "        out = self.conv1(x)\n",
    "        out = self.conv2(out)\n",
    "\n",
    "        if self.add:\n",
    "            return x + out\n",
    "        else:\n",
    "            return out"
   ]
  },
  {
   "cell_type": "code",
   "execution_count": 218,
   "id": "5cf9e3d5-3580-465f-815e-b06a9999bea9",
   "metadata": {},
   "outputs": [],
   "source": [
    "class C2f(nn.Module):\n",
    "    def __init__(self, in_channels, out_channels, n=1, residual_connection=False, CSP=False, add_hidden=False, bottleneck=1.0):\n",
    "        super().__init__()\n",
    "        self.conv1 = Conv(in_channels, out_channels=out_channels, kernel_size=(1,1), stride=1, padding=0)\n",
    "        self.hidden_channels = out_channels // 2 if CSP else out_channels\n",
    "        self.n_blocks = nn.ParameterList([\n",
    "            Bottleneck(self.hidden_channels, self.hidden_channels, \n",
    "                       residual_connection=residual_connection, bottleneck=bottleneck) for _ in range(n)\n",
    "        ])\n",
    "        self.CSP = CSP\n",
    "        self.add_hidden = CSP and add_hidden\n",
    "        if self.add_hidden:\n",
    "            self.conv2 = Conv((2 + n) * self.hidden_channels, out_channels=out_channels, kernel_size=(1,1), stride=1, padding=0)\n",
    "        else:\n",
    "            self.conv2 = Conv(out_channels, out_channels=out_channels, kernel_size=(1,1), stride=1, padding=0)\n",
    "\n",
    "    def forward(self, x):\n",
    "        out = self.conv1(x)\n",
    "        if self.CSP:\n",
    "            _out = list(out.chunk(2, dim=1))\n",
    "            out = _out[0]\n",
    "            for block in self.n_blocks:\n",
    "                out = block(out)\n",
    "                if self.add_hidden:\n",
    "                    _out.append(out)\n",
    "            out = torch.cat(_out, 1)\n",
    "        else:\n",
    "            for block in self.n_blocks:\n",
    "                out = block(out)\n",
    "        out = self.conv2(out)\n",
    "        return out"
   ]
  },
  {
   "cell_type": "code",
   "execution_count": 219,
   "id": "934f1a34-2abf-4eda-86d3-6dbb264d91c4",
   "metadata": {},
   "outputs": [],
   "source": [
    "class Classify(nn.Module):\n",
    "    def __init__(self, in_channels, num_classes=10, device=None, dtype=None):\n",
    "        super().__init__()\n",
    "        self.hidden_channels = 1280\n",
    "        self.conv = Conv(in_channels, out_channels=self.hidden_channels, kernel_size=(1, 1), stride=1, padding=0)\n",
    "        self.pool = nn.AdaptiveAvgPool2d(1)\n",
    "        self.linear = nn.Linear(self.hidden_channels, out_features=num_classes)\n",
    "\n",
    "    def forward(self, x):\n",
    "        if type(x) is list:\n",
    "            x = torch.cat(x, 1)\n",
    "        out = self.conv(x)\n",
    "        out = self.pool(out)\n",
    "        out = self.linear(out.flatten(1))\n",
    "        return out if self.training else out.softmax(1)"
   ]
  },
  {
   "cell_type": "code",
   "execution_count": 220,
   "id": "ee2d6d95-a70b-45e6-9d0b-7d52c31bcd18",
   "metadata": {},
   "outputs": [],
   "source": [
    "class Model(nn.Module):\n",
    "    def __init__(self, device=None, dtype=None, \n",
    "                 residual_connection=False, CSP=False, add_hidden=False, bottleneck=1.0,\n",
    "                 num_classes=1000):\n",
    "        super().__init__()\n",
    "        self.conv1 = Conv(3, out_channels=16, kernel_size=(3, 3), stride=(2, 2), \n",
    "                         padding=(1, 1), bias=False, \n",
    "                         device=device, dtype=dtype)\n",
    "        self.conv2 = Conv(16, out_channels=32, kernel_size=(3, 3), stride=(2, 2), \n",
    "                          padding=(1, 1), bias=False,\n",
    "                          device=device, dtype=dtype)\n",
    "        self.c2f1 = C2f(32, out_channels=32, n=1, residual_connection=residual_connection, CSP=CSP, add_hidden=add_hidden, bottleneck=1.0)\n",
    "        self.conv3 = Conv(32, out_channels=64, kernel_size=(3, 3), stride=(2, 2), \n",
    "                         padding=(1, 1), bias=False, \n",
    "                         device=device, dtype=dtype)\n",
    "        self.c2f2 = C2f(64, out_channels=64, n=2, residual_connection=residual_connection, CSP=CSP, add_hidden=add_hidden, bottleneck=1.0)\n",
    "        self.conv4 = Conv(64, out_channels=128, kernel_size=(3, 3), stride=(2, 2), \n",
    "                         padding=(1, 1), bias=False, \n",
    "                         device=device, dtype=dtype)\n",
    "        self.c2f3 = C2f(128, out_channels=128, n=2, residual_connection=residual_connection, CSP=CSP, add_hidden=add_hidden, bottleneck=1.0)\n",
    "        self.conv5 = Conv(128, out_channels=256, kernel_size=(3, 3), stride=(2, 2), \n",
    "                         padding=(1, 1), bias=False, \n",
    "                         device=device, dtype=dtype)\n",
    "        self.c2f4 = C2f(256, out_channels=256, n=1, residual_connection=residual_connection, CSP=CSP, add_hidden=add_hidden, bottleneck=1.0)\n",
    "        self.classify = Classify(256, num_classes=num_classes)\n",
    "\n",
    "    def forward(self, x):\n",
    "        out = self.conv1(x)\n",
    "        out = self.conv2(out)\n",
    "\n",
    "        out = self.c2f1(out)\n",
    "        out = self.conv3(out)\n",
    "\n",
    "        out = self.c2f2(out)\n",
    "        out = self.conv4(out)\n",
    "\n",
    "        out = self.c2f3(out)\n",
    "        out = self.conv5(out)\n",
    "\n",
    "        out = self.c2f4(out)\n",
    "\n",
    "        out = self.classify(out)\n",
    "        return out"
   ]
  },
  {
   "cell_type": "code",
   "execution_count": 221,
   "id": "0d60c10e-0f95-4ad0-b623-0812ffd1a521",
   "metadata": {},
   "outputs": [],
   "source": [
    "inp = torch.rand(1, 3,640,640)"
   ]
  },
  {
   "cell_type": "code",
   "execution_count": 222,
   "id": "f2d18f56-7db0-4d4f-bfce-bca20af4b9ec",
   "metadata": {},
   "outputs": [],
   "source": [
    "model1 = Model(num_classes=10)"
   ]
  },
  {
   "cell_type": "code",
   "execution_count": 223,
   "id": "1bddf213-1e69-4188-ab9e-5c701ba88acb",
   "metadata": {},
   "outputs": [],
   "source": [
    "out = model1(inp)"
   ]
  },
  {
   "cell_type": "code",
   "execution_count": 224,
   "id": "5b746142-15c5-4006-bd8f-c6d943c80664",
   "metadata": {},
   "outputs": [
    {
     "data": {
      "text/plain": [
       "torch.Size([1, 10])"
      ]
     },
     "execution_count": 224,
     "metadata": {},
     "output_type": "execute_result"
    }
   ],
   "source": [
    "out.shape"
   ]
  },
  {
   "cell_type": "code",
   "execution_count": 225,
   "id": "2ecd55a2-e99d-459d-8160-87ef39b35a97",
   "metadata": {},
   "outputs": [
    {
     "data": {
      "text/plain": [
       "2850202"
      ]
     },
     "execution_count": 225,
     "metadata": {},
     "output_type": "execute_result"
    }
   ],
   "source": [
    "total_params = sum(p.numel() for p in model1.parameters())\n",
    "total_params"
   ]
  },
  {
   "cell_type": "code",
   "execution_count": 226,
   "id": "f1a39397-1743-4252-963e-6731d31dcf2a",
   "metadata": {},
   "outputs": [],
   "source": [
    "model2 = Model(num_classes=10, residual_connection=True, CSP=True)"
   ]
  },
  {
   "cell_type": "code",
   "execution_count": 227,
   "id": "347bd85f-cd0c-4f45-9c48-18cbf8be36c6",
   "metadata": {},
   "outputs": [],
   "source": [
    "out = model2(inp)"
   ]
  },
  {
   "cell_type": "code",
   "execution_count": 228,
   "id": "acfd71e1-d739-4018-b939-416c4a3b8a1e",
   "metadata": {},
   "outputs": [
    {
     "data": {
      "text/plain": [
       "torch.Size([1, 10])"
      ]
     },
     "execution_count": 228,
     "metadata": {},
     "output_type": "execute_result"
    }
   ],
   "source": [
    "out.shape"
   ]
  },
  {
   "cell_type": "code",
   "execution_count": 229,
   "id": "d418200f-889e-4db8-8581-2f0c8af74498",
   "metadata": {},
   "outputs": [
    {
     "data": {
      "text/plain": [
       "1397338"
      ]
     },
     "execution_count": 229,
     "metadata": {},
     "output_type": "execute_result"
    }
   ],
   "source": [
    "total_params = sum(p.numel() for p in model2.parameters())\n",
    "total_params"
   ]
  },
  {
   "cell_type": "code",
   "execution_count": 230,
   "id": "da742d22-f7b2-4df7-a537-a62484730939",
   "metadata": {},
   "outputs": [],
   "source": [
    "model3 = Model(num_classes=10, residual_connection=True, CSP=True, add_hidden=True)"
   ]
  },
  {
   "cell_type": "code",
   "execution_count": 231,
   "id": "bb7eca49-351a-4447-b40e-174ff5ca2940",
   "metadata": {},
   "outputs": [],
   "source": [
    "out = model3(inp)"
   ]
  },
  {
   "cell_type": "code",
   "execution_count": 232,
   "id": "be02a60f-891a-4116-858d-8166a535517a",
   "metadata": {},
   "outputs": [
    {
     "data": {
      "text/plain": [
       "1451098"
      ]
     },
     "execution_count": 232,
     "metadata": {},
     "output_type": "execute_result"
    }
   ],
   "source": [
    "total_params = sum(p.numel() for p in model3.parameters())\n",
    "total_params"
   ]
  }
 ],
 "metadata": {
  "kernelspec": {
   "display_name": "Python 3 (ipykernel)",
   "language": "python",
   "name": "python3"
  },
  "language_info": {
   "codemirror_mode": {
    "name": "ipython",
    "version": 3
   },
   "file_extension": ".py",
   "mimetype": "text/x-python",
   "name": "python",
   "nbconvert_exporter": "python",
   "pygments_lexer": "ipython3",
   "version": "3.12.6"
  }
 },
 "nbformat": 4,
 "nbformat_minor": 5
}
