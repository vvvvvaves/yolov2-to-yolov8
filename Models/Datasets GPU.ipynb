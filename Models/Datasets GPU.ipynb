{
 "cells": [
  {
   "cell_type": "code",
   "execution_count": 1,
   "id": "23780f50-5483-46ef-bef6-75643d3f6b0e",
   "metadata": {},
   "outputs": [
    {
     "name": "stderr",
     "output_type": "stream",
     "text": [
      "C:\\Vstanovlene\\Anaconda Distribution\\envs\\new_gpu_env\\lib\\site-packages\\albumentations\\__init__.py:24: UserWarning: A new version of Albumentations is available: 2.0.3 (you have 1.4.23). Upgrade using: pip install -U albumentations. To disable automatic update checks, set the environment variable NO_ALBUMENTATIONS_UPDATE to 1.\n",
      "  check_for_updates()\n"
     ]
    }
   ],
   "source": [
    "import torch\n",
    "import os\n",
    "import torch.nn as nn\n",
    "from torch.utils.data import DataLoader\n",
    "import albumentations as A\n",
    "from albumentations.pytorch import ToTensorV2\n",
    "import pickle\n",
    "from detection_datasets import *\n",
    "with open('anchors_VOC0712trainval.pickle', 'rb') as handle:\n",
    "    anchors = pickle.load(handle)\n",
    "\n",
    "transforms = A.Compose([\n",
    "    A.Resize(width=224, height=224),\n",
    "    A.VerticalFlip(p=1.0),\n",
    "    ToTensorV2()\n",
    "], bbox_params=A.BboxParams(format='pascal_voc'))\n",
    "\n",
    "device = torch.device('cuda:0')\n",
    "dtype=torch.float32"
   ]
  },
  {
   "cell_type": "code",
   "execution_count": 2,
   "id": "2551e6f1-df77-470c-bf60-1e4b94c0eaa6",
   "metadata": {},
   "outputs": [
    {
     "name": "stdout",
     "output_type": "stream",
     "text": [
      "True ../../datasets/VOCdevkit/VOC2007\\ImageSets\\Main\\trainval.txt\n",
      "True ../../datasets/VOCdevkit/VOC2012\\ImageSets\\Main\\trainval.txt\n"
     ]
    }
   ],
   "source": [
    "# train_set = VOCDatasetV8(devkit_path = '../../datasets/VOCdevkit/', scales=[80, 40, 20], transforms=transforms, device=device, dtype=dtype)\n",
    "train_set = VOCDatasetV2(devkit_path = '../../datasets/VOCdevkit/', scales=[20], anchors=anchors, transforms=transforms, device=device, dtype=dtype)"
   ]
  },
  {
   "cell_type": "code",
   "execution_count": 3,
   "id": "78bfb6ed-dc75-4e29-ba93-52d888b4df71",
   "metadata": {},
   "outputs": [],
   "source": [
    "train_loader = DataLoader(train_set, batch_size=64, shuffle=False)"
   ]
  },
  {
   "cell_type": "code",
   "execution_count": 4,
   "id": "69908b43-022f-4ed8-876d-f3137ee682b0",
   "metadata": {},
   "outputs": [],
   "source": [
    "from torch.profiler import profile, ProfilerActivity"
   ]
  },
  {
   "cell_type": "code",
   "execution_count": 7,
   "id": "b53d7a4d-c7df-482d-8c4a-6c07ede24b06",
   "metadata": {},
   "outputs": [],
   "source": [
    "with profile(activities=[ProfilerActivity.CPU, ProfilerActivity.CUDA],\n",
    "                                    schedule=torch.profiler.schedule(wait=1, warmup=1, active=1, repeat=1),\n",
    "                                    on_trace_ready=torch.profiler.tensorboard_trace_handler('../../log/YOLOv8cls-version-5/inference_at_640'),\n",
    "                                    record_shapes=True,\n",
    "                                    profile_memory=True,\n",
    "                                    with_flops=True,\n",
    "                                    with_modules=True,\n",
    "                                    with_stack=False) as prof:\n",
    "    for i, img in enumerate(train_loader):\n",
    "        del img\n",
    "        prof.step()\n",
    "        if i == 4:\n",
    "            break"
   ]
  },
  {
   "cell_type": "code",
   "execution_count": 8,
   "id": "3e191530-1743-421b-9403-ec5d521e0092",
   "metadata": {},
   "outputs": [
    {
     "name": "stdout",
     "output_type": "stream",
     "text": [
      "-------------------------------------------------------  ------------  ------------  ------------  ------------  ------------  ------------  ------------  ------------  ------------  ------------  ------------  ------------  ------------  ------------  -----------------------------------------------  ------------  \n",
      "                                                   Name    Self CPU %      Self CPU   CPU total %     CPU total  CPU time avg     Self CUDA   Self CUDA %    CUDA total  CUDA time avg       CPU Mem  Self CPU Mem      CUDA Mem  Self CUDA Mem    # of Calls                                     Input Shapes  Total KFLOPs  \n",
      "-------------------------------------------------------  ------------  ------------  ------------  ------------  ------------  ------------  ------------  ------------  ------------  ------------  ------------  ------------  ------------  ------------  -----------------------------------------------  ------------  \n",
      "                                          ProfilerStep*         0.00%      84.800us       100.00%        4.037s        4.037s      13.000us         0.00%        4.037s        4.037s           0 b           0 b           0 b     -48.96 Mb             1                                               []            --  \n",
      "enumerate(DataLoader)#_SingleProcessDataLoaderIter._...         1.24%      50.217ms       100.00%        4.037s        4.037s      42.675ms         1.06%        4.037s        4.037s           0 b           0 b      48.96 Mb     -49.19 Mb             1                                               []            --  \n",
      "                                                get PIL         0.93%      37.536ms         0.93%      37.536ms     586.503us      39.486ms         0.98%      39.486ms     616.969us           0 b           0 b           0 b           0 b            64                                               []            --  \n",
      "                                             Transforms         8.00%     323.039ms         9.91%     400.062ms       6.251ms     324.653ms         8.04%     396.196ms       6.191ms           0 b     -36.75 Mb      36.75 Mb           0 b            64                                               []            --  \n",
      "                                       aten::lift_fresh         0.01%     260.900us         0.01%     260.900us       4.077us     383.000us         0.01%     383.000us       5.984us           0 b           0 b           0 b           0 b            64                                  [[3, 224, 224]]            --  \n",
      "                                               aten::to         0.04%       1.435ms         0.27%      10.728ms     167.627us     795.000us         0.02%       6.899ms     107.797us      36.75 Mb           0 b           0 b           0 b            64                  [[3, 224, 224], [], [], [], []]            --  \n",
      "                                         aten::_to_copy         0.15%       6.229ms         1.84%      74.090ms     578.824us       3.443ms         0.09%      69.196ms     540.594us      36.75 Mb           0 b      36.75 Mb           0 b           128          [[3, 224, 224], [], [], [], [], [], []]            --  \n",
      "                                    aten::empty_strided         0.19%       7.553ms         0.19%       7.553ms       5.873us      15.116ms         0.37%      15.116ms      11.754us      36.75 Mb      36.75 Mb      37.32 Mb      37.32 Mb          1286                         [[], [], [], [], [], []]            --  \n",
      "                                            aten::copy_         1.63%      65.874ms         1.63%      65.874ms     514.639us      63.497ms         1.57%      63.497ms     496.070us           0 b           0 b           0 b           0 b           128               [[3, 224, 224], [3, 224, 224], []]            --  \n",
      "                                               aten::to         0.03%       1.239ms         1.64%      66.035ms       1.032ms       1.169ms         0.03%      64.261ms       1.004ms           0 b           0 b      36.75 Mb           0 b            64      [[3, 224, 224], [], [], [], [], [], [], []]            --  \n",
      "                                            gt_out init         0.15%       6.159ms         0.33%      13.503ms     210.989us       3.997ms         0.10%      41.698ms     651.531us           0 b           0 b      12.22 Mb           0 b            64                                               []            --  \n",
      "                                            aten::zeros         0.06%       2.492ms         0.18%       7.344ms     114.755us       1.878ms         0.05%      37.701ms     589.078us           0 b           0 b      12.22 Mb           0 b            64                             [[], [], [], [], []]            --  \n",
      "                                            aten::empty         0.15%       6.236ms         0.15%       6.236ms       3.878us      20.848ms         0.52%      20.848ms      12.965us      18.09 Kb      18.09 Kb      12.31 Mb      12.31 Mb          1608                         [[], [], [], [], [], []]            --  \n",
      "                                            aten::zero_         0.04%       1.557ms         0.10%       4.071ms      63.606us       1.244ms         0.03%      34.637ms     541.203us           0 b           0 b           0 b           0 b            64                                  [[125, 20, 20]]            --  \n",
      "                                            aten::fill_         0.06%       2.514ms         0.06%       2.514ms      39.281us      33.393ms         0.83%      33.393ms     521.766us           0 b           0 b           0 b           0 b            64                              [[125, 20, 20], []]            --  \n",
      "                                         Box processing        37.77%        1.525s        87.58%        3.536s      18.319ms        1.002s        24.82%        3.511s      18.192ms           0 b     -18.09 Kb     224.00 Kb     -18.08 Mb           193                                               []            --  \n",
      "                                               aten::to         0.52%      20.877ms         3.57%     144.160ms     124.490us      21.751ms         0.54%     124.153ms     107.213us           0 b           0 b     579.00 Kb           0 b          1158                        [[4], [], [], [], [], []]            --  \n",
      "                                         aten::_to_copy         1.25%      50.315ms         3.05%     123.283ms     106.462us      45.179ms         1.12%     102.402ms      88.430us           0 b           0 b     579.00 Kb           0 b          1158                    [[4], [], [], [], [], [], []]            --  \n",
      "                                            aten::copy_         1.78%      71.718ms         1.78%      71.718ms      53.124us      52.639ms         1.30%      52.639ms      38.992us           0 b           0 b           0 b           0 b          1350                                   [[4], [4], []]            --  \n",
      "                                       aten::lift_fresh         0.01%     417.100us         0.01%     417.100us       0.360us      15.690ms         0.39%      15.690ms      13.549us           0 b           0 b           0 b           0 b          1158                                            [[4]]            --  \n",
      "                                          aten::detach_         0.49%      19.694ms         0.53%      21.276ms      18.373us      19.767ms         0.49%      28.357ms      24.488us           0 b           0 b           0 b           0 b          1158                                            [[4]]            --  \n",
      "                                                detach_         0.04%       1.582ms         0.04%       1.582ms       1.366us       8.590ms         0.21%       8.590ms       7.418us           0 b           0 b           0 b           0 b          1158                                            [[4]]            --  \n",
      "                                           aten::select         4.74%     191.554ms         4.99%     201.454ms      23.734us     204.075ms         5.05%     277.303ms      32.670us           0 b           0 b           0 b           0 b          8488                                    [[4], [], []]            --  \n",
      "                                       aten::as_strided         0.25%       9.900ms         0.25%       9.900ms       1.166us      73.228ms         1.81%      73.228ms       8.627us           0 b           0 b           0 b           0 b          8488                                [[4], [], [], []]            --  \n",
      "                                              aten::div         3.54%     143.025ms         3.54%     143.025ms      16.468us     211.319ms         5.23%     211.319ms      24.331us           0 b           0 b       4.24 Mb       4.24 Mb          8685                                         [[], []]            --  \n",
      "                                              aten::sub         4.12%     166.300ms         4.12%     166.300ms      15.667us     330.562ms         8.19%     330.562ms      31.141us           0 b           0 b       5.18 Mb       5.18 Mb         10615                                     [[], [], []]            --  \n",
      "                                              aten::add         2.67%     107.811ms         2.67%     107.811ms      15.972us     162.494ms         4.03%     162.494ms      24.073us           0 b           0 b       3.30 Mb       3.30 Mb          6750                                     [[], [], []]         6.750  \n",
      "                                               aten::gt         1.27%      51.337ms         1.27%      51.337ms      19.028us      99.516ms         2.47%      99.516ms      36.885us           0 b           0 b       1.32 Mb       1.32 Mb          2698                                         [[], []]            --  \n",
      "                                       aten::is_nonzero         3.50%     141.353ms        16.94%     684.006ms     100.975us     110.351ms         2.73%     620.357ms      91.579us           0 b           0 b           0 b           0 b          6774                                             [[]]            --  \n",
      "                                             aten::item         4.13%     166.632ms        16.29%     657.478ms      76.907us     153.243ms         3.80%     618.392ms      72.335us           0 b           0 b           0 b           0 b          8549                                             [[]]            --  \n",
      "                              aten::_local_scalar_dense        12.16%     490.846ms        12.16%     490.846ms      57.416us     465.149ms        11.52%     465.149ms      54.410us           0 b           0 b           0 b           0 b          8549                                             [[]]            --  \n",
      "                                               aten::lt         1.79%      72.201ms         1.79%      72.201ms      18.705us     131.594ms         3.26%     131.594ms      34.092us           0 b           0 b       1.88 Mb       1.88 Mb          3860                                         [[], []]            --  \n",
      "                                              aten::mul         1.37%      55.402ms         1.37%      55.402ms      17.808us      81.764ms         2.03%      81.764ms      26.282us           0 b           0 b       1.52 Mb       1.52 Mb          3111                                         [[], []]         3.111  \n",
      "                                           aten::select         1.15%      46.407ms         1.22%      49.226ms      25.558us      46.317ms         1.15%      58.871ms      30.566us           0 b           0 b           0 b           0 b          1926                                    [[5], [], []]            --  \n",
      "                                       aten::as_strided         0.08%       3.050ms         0.08%       3.050ms       1.440us      13.864ms         0.34%      13.864ms       6.546us           0 b           0 b           0 b           0 b          2118                                [[5], [], [], []]            --  \n",
      "                                            aten::copy_         1.15%      46.269ms         1.15%      46.269ms      33.724us      55.262ms         1.37%      55.262ms      40.278us           0 b           0 b           0 b           0 b          1372                                     [[], [], []]            --  \n",
      "                                          aten::argsort         0.10%       3.853ms         1.48%      59.772ms     309.701us       6.171ms         0.15%      65.596ms     339.876us           0 b           0 b      96.50 Kb     -96.50 Kb           193                                    [[5], [], []]            --  \n",
      "                                             aten::sort         0.78%      31.298ms         1.39%      55.920ms     289.738us      23.756ms         0.59%      59.425ms     307.902us           0 b           0 b     193.00 Kb      96.50 Kb           193                                    [[5], [], []]            --  \n",
      "                                            aten::copy_         0.21%       8.631ms         0.21%       8.631ms      14.907us      15.953ms         0.40%      15.953ms      27.553us           0 b           0 b           0 b           0 b           579                                   [[5], [5], []]            --  \n",
      "                                           aten::arange         0.19%       7.759ms         0.38%      15.344ms      79.501us       7.565ms         0.19%      18.148ms      94.031us           0 b           0 b      96.50 Kb           0 b           193                             [[], [], [], [], []]            --  \n",
      "                                           aten::arange         0.15%       5.974ms         0.17%       6.881ms      35.655us       7.007ms         0.17%       8.721ms      45.187us           0 b           0 b      96.50 Kb           0 b           193                                [[], [], [], [0]]            --  \n",
      "                                          aten::resize_         0.02%     907.400us         0.02%     907.400us       4.702us       1.714ms         0.04%       1.714ms       8.881us           0 b           0 b      96.50 Kb      96.50 Kb           193                                    [[0], [], []]            --  \n",
      "                                             aten::view         0.02%     646.600us         0.02%     646.600us       3.350us       1.568ms         0.04%       1.568ms       8.124us           0 b           0 b           0 b           0 b           193                                        [[5], []]            --  \n",
      "                                           aten::select         0.37%      14.830ms         0.39%      15.867ms      25.469us      17.269ms         0.43%      21.541ms      34.576us           0 b           0 b           0 b           0 b           623                          [[125, 20, 20], [], []]            --  \n",
      "                                       aten::as_strided         0.03%       1.347ms         0.03%       1.347ms       1.652us       5.271ms         0.13%       5.271ms       6.467us           0 b           0 b           0 b           0 b           815                      [[125, 20, 20], [], [], []]            --  \n",
      "                                           aten::select         0.35%      13.961ms         0.36%      14.676ms      23.557us      13.891ms         0.34%      17.981ms      28.862us           0 b           0 b           0 b           0 b           623                               [[20, 20], [], []]            --  \n",
      "                                       aten::as_strided         0.02%     714.800us         0.02%     714.800us       1.147us       4.090ms         0.10%       4.090ms       6.565us           0 b           0 b           0 b           0 b           623                           [[20, 20], [], [], []]            --  \n",
      "                                           aten::select         0.30%      12.213ms         0.32%      12.885ms      20.682us      15.000ms         0.37%      18.755ms      30.104us           0 b           0 b           0 b           0 b           623                                   [[20], [], []]            --  \n",
      "                                       aten::as_strided         0.02%     672.000us         0.02%     672.000us       1.079us       3.755ms         0.09%       3.755ms       6.027us           0 b           0 b           0 b           0 b           623                               [[20], [], [], []]            --  \n",
      "                                               aten::eq         0.15%       5.958ms         0.15%       5.958ms      27.582us       8.253ms         0.20%       8.253ms      38.208us           0 b           0 b     108.00 Kb     108.00 Kb           216                                         [[], []]            --  \n",
      "                                       aten::lift_fresh         0.00%     155.500us         0.00%     155.500us       0.382us       9.009ms         0.22%       9.009ms      22.135us           0 b           0 b           0 b           0 b           407                                             [[]]            --  \n",
      "                                            aten::slice         0.14%       5.565ms         0.15%       5.874ms      30.595us       6.238ms         0.15%       7.237ms      37.693us           0 b           0 b           0 b           0 b           192                  [[125, 20, 20], [], [], [], []]            --  \n",
      "                                           aten::select         0.10%       3.987ms         0.10%       4.228ms      22.022us       3.994ms         0.10%       5.059ms      26.349us           0 b           0 b           0 b           0 b           192                            [[4, 20, 20], [], []]            --  \n",
      "                                       aten::as_strided         0.01%     241.500us         0.01%     241.500us       1.258us       1.065ms         0.03%       1.065ms       5.547us           0 b           0 b           0 b           0 b           192                        [[4, 20, 20], [], [], []]            --  \n",
      "                                           aten::select         0.10%       4.146ms         0.11%       4.317ms      22.485us       4.117ms         0.10%       5.175ms      26.953us           0 b           0 b           0 b           0 b           192                                [[4, 20], [], []]            --  \n",
      "                                       aten::as_strided         0.00%     170.900us         0.00%     170.900us       0.890us       1.058ms         0.03%       1.058ms       5.510us           0 b           0 b           0 b           0 b           192                            [[4, 20], [], [], []]            --  \n",
      "                                            aten::slice         0.10%       4.126ms         0.11%       4.357ms      22.694us       4.087ms         0.10%       5.397ms      28.109us           0 b           0 b           0 b           0 b           192                            [[5], [], [], [], []]            --  \n",
      "                                           aten::unbind         0.39%      15.730ms         0.80%      32.306ms     168.260us      13.266ms         0.33%      38.579ms     200.932us           0 b           0 b           0 b           0 b           192                                        [[4], []]            --  \n",
      "                                            aten::stack         0.00%      78.800us         0.00%     165.600us      82.800us      43.000us         0.00%       5.983ms       2.991ms           0 b           0 b      48.96 Mb           0 b             2                                         [[], []]            --  \n",
      "                                              aten::cat         0.00%      82.500us         0.00%      82.500us      41.250us       5.933ms         0.15%       5.933ms       2.966ms           0 b           0 b      48.96 Mb      48.96 Mb             2                                         [[], []]            --  \n",
      "                                             aten::view         0.00%       3.100us         0.00%       3.100us       3.100us       4.000us         0.00%       4.000us       4.000us           0 b           0 b           0 b           0 b             1                            [[192, 224, 224], []]            --  \n",
      "                                             aten::view         0.00%       1.200us         0.00%       1.200us       1.200us       3.000us         0.00%       3.000us       3.000us           0 b           0 b           0 b           0 b             1                             [[8000, 20, 20], []]            --  \n",
      "-------------------------------------------------------  ------------  ------------  ------------  ------------  ------------  ------------  ------------  ------------  ------------  ------------  ------------  ------------  ------------  ------------  -----------------------------------------------  ------------  \n",
      "Self CPU time total: 4.037s\n",
      "Self CUDA time total: 4.037s\n",
      "\n"
     ]
    }
   ],
   "source": [
    "print(prof.key_averages(group_by_input_shape=True).table(row_limit=-1))"
   ]
  },
  {
   "cell_type": "code",
   "execution_count": null,
   "id": "b61c2f66-37d8-4869-ac38-0be2e90c3135",
   "metadata": {},
   "outputs": [],
   "source": [
    "print(train_set.object_placed, train_set.object_not_placed, train_set.object_placed + train_set.object_not_placed, train_set.total)"
   ]
  }
 ],
 "metadata": {
  "kernelspec": {
   "display_name": "New Python (GPU)",
   "language": "python",
   "name": "new_gpu_env"
  },
  "language_info": {
   "codemirror_mode": {
    "name": "ipython",
    "version": 3
   },
   "file_extension": ".py",
   "mimetype": "text/x-python",
   "name": "python",
   "nbconvert_exporter": "python",
   "pygments_lexer": "ipython3",
   "version": "3.9.20"
  }
 },
 "nbformat": 4,
 "nbformat_minor": 5
}
