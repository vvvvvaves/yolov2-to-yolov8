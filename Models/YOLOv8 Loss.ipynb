{
 "cells": [
  {
   "cell_type": "code",
   "execution_count": 14,
   "id": "1540ea44-c0c3-422f-a856-2d1256c0de6a",
   "metadata": {},
   "outputs": [
    {
     "ename": "ImportError",
     "evalue": "cannot import name 'VOCDataset' from 'detection_datasets' (C:\\Me\\PJAIT\\Thesis\\Code\\yolov2-to-yolov8\\Models\\detection_datasets.py)",
     "output_type": "error",
     "traceback": [
      "\u001b[1;31m---------------------------------------------------------------------------\u001b[0m",
      "\u001b[1;31mImportError\u001b[0m                               Traceback (most recent call last)",
      "Cell \u001b[1;32mIn[14], line 6\u001b[0m\n\u001b[0;32m      4\u001b[0m \u001b[38;5;28;01mimport\u001b[39;00m \u001b[38;5;21;01mtorch\u001b[39;00m\u001b[38;5;21;01m.\u001b[39;00m\u001b[38;5;21;01mnn\u001b[39;00m \u001b[38;5;28;01mas\u001b[39;00m \u001b[38;5;21;01mnn\u001b[39;00m\n\u001b[0;32m      5\u001b[0m \u001b[38;5;28;01mfrom\u001b[39;00m \u001b[38;5;21;01myolov8_path\u001b[39;00m \u001b[38;5;28;01mimport\u001b[39;00m Model\n\u001b[1;32m----> 6\u001b[0m \u001b[38;5;28;01mfrom\u001b[39;00m \u001b[38;5;21;01mdetection_datasets\u001b[39;00m \u001b[38;5;28;01mimport\u001b[39;00m VOCDataset\n",
      "\u001b[1;31mImportError\u001b[0m: cannot import name 'VOCDataset' from 'detection_datasets' (C:\\Me\\PJAIT\\Thesis\\Code\\yolov2-to-yolov8\\Models\\detection_datasets.py)"
     ]
    }
   ],
   "source": [
    "import torch\n",
    "import sys\n",
    "sys.path.insert(1, '../')\n",
    "import torch.nn as nn\n",
    "from yolov8_path import Model\n",
    "from detection_datasets import VOCDataset"
   ]
  },
  {
   "cell_type": "markdown",
   "id": "99cd15a8-acb9-4900-938d-70ceca3f80b3",
   "metadata": {},
   "source": [
    "v8DetectionLoss: https://github.com/ultralytics/ultralytics/blob/de05d1b65509e14ff9396a3aa5ba8a958bcedcf9/ultralytics/utils/loss.py#L157"
   ]
  },
  {
   "cell_type": "code",
   "execution_count": 2,
   "id": "2b1644f3-6b5c-49af-bab5-4a07a8c200e1",
   "metadata": {},
   "outputs": [],
   "source": [
    "model = Model(three_heads=True, \n",
    "              decoupled=True,\n",
    "              _FPN=True, \n",
    "              _PANet=True, \n",
    "              _SPPF=True,\n",
    "              num_classes=80, \n",
    "              num_boxes=16, \n",
    "              variant='n', \n",
    "              device=None, \n",
    "              dtype=None)\n",
    "img = torch.rand(1,3,640,640)\n",
    "out = model(img)"
   ]
  },
  {
   "cell_type": "code",
   "execution_count": 3,
   "id": "a5fc245b-dd1f-4e98-83d3-e7d6eda903ac",
   "metadata": {},
   "outputs": [],
   "source": [
    "class CIoU(nn.Module):\n",
    "    def __init__(self):\n",
    "        super().__init__()\n",
    "\n",
    "    def forward(out, gt_out):\n",
    "        pass"
   ]
  },
  {
   "cell_type": "code",
   "execution_count": 2,
   "id": "00ecf223-8a6c-4af7-b596-3c1ecf83b10e",
   "metadata": {},
   "outputs": [
    {
     "ename": "SyntaxError",
     "evalue": "invalid syntax (2752314610.py, line 24)",
     "output_type": "error",
     "traceback": [
      "\u001b[1;36m  Cell \u001b[1;32mIn[2], line 24\u001b[1;36m\u001b[0m\n\u001b[1;33m    cls_loss =\u001b[0m\n\u001b[1;37m               ^\u001b[0m\n\u001b[1;31mSyntaxError\u001b[0m\u001b[1;31m:\u001b[0m invalid syntax\n"
     ]
    }
   ],
   "source": [
    "class YOLOv8Loss(nn.Module):\n",
    "    def __init__(self, cls_coeff=0.5, ciou_coeff=7.5, dfl_coeff=1.5, \n",
    "                 three_heads=True, decoupled=True):\n",
    "        super().__init__()\n",
    "\n",
    "        self.cls_coeff = cls_coeff\n",
    "        self.cls = nn.BCEWithLogitsLoss(reduction=\"none\")\n",
    "\n",
    "        self.ciou_coeff = ciou_coeff\n",
    "\n",
    "        self.dfl_coeff = dfl_coeff\n",
    "\n",
    "        self.decoupled = decoupled\n",
    "        self.three_heads = three_heads\n",
    "\n",
    "    def forward(self, out, gt_out):\n",
    "        loss = 0\n",
    "        if self.three_heads:\n",
    "            for head, out_i in out.items():\n",
    "                if self.decoupled:\n",
    "                    out_bb = out_i['bb']\n",
    "                    out_cls = out_i['cls']\n",
    "\n",
    "                    cls_loss = "
   ]
  },
  {
   "cell_type": "code",
   "execution_count": 8,
   "id": "a3dd5cdc-6a9f-4064-bd0d-7a2b3ee9f041",
   "metadata": {},
   "outputs": [],
   "source": [
    "__ = img"
   ]
  },
  {
   "cell_type": "code",
   "execution_count": 10,
   "id": "27e068f8-e1ba-4bcf-834c-d187f0ace6e7",
   "metadata": {},
   "outputs": [],
   "source": [
    "__ = __ + 1"
   ]
  },
  {
   "cell_type": "code",
   "execution_count": 12,
   "id": "209451fd-1286-4d84-949f-d5da78ccdb85",
   "metadata": {},
   "outputs": [
    {
     "data": {
      "text/plain": [
       "tensor([[[[0.2037, 0.1958, 0.1735,  ..., 0.6241, 0.5926, 0.3296],\n",
       "          [0.6614, 0.9628, 0.4218,  ..., 0.6091, 0.8753, 0.4576],\n",
       "          [0.8549, 0.5711, 0.2435,  ..., 0.2170, 0.2820, 0.1835],\n",
       "          ...,\n",
       "          [0.7600, 0.5198, 0.0527,  ..., 0.4828, 0.2643, 0.8504],\n",
       "          [0.3136, 0.1376, 0.4225,  ..., 0.3183, 0.9950, 0.0281],\n",
       "          [0.6227, 0.8020, 0.8874,  ..., 0.1111, 0.6795, 0.9128]],\n",
       "\n",
       "         [[0.6771, 0.5007, 0.6971,  ..., 0.0533, 0.8299, 0.0306],\n",
       "          [0.6584, 0.4599, 0.5582,  ..., 0.1928, 0.8253, 0.2665],\n",
       "          [0.1961, 0.7570, 0.0883,  ..., 0.0782, 0.4160, 0.9714],\n",
       "          ...,\n",
       "          [0.7584, 0.6049, 0.7684,  ..., 0.4733, 0.1254, 0.8213],\n",
       "          [0.3202, 0.1277, 0.0483,  ..., 0.0041, 0.4067, 0.1842],\n",
       "          [0.6252, 0.8064, 0.9512,  ..., 0.9640, 0.8313, 0.4359]],\n",
       "\n",
       "         [[0.8803, 0.4909, 0.8046,  ..., 0.6357, 0.3204, 0.3916],\n",
       "          [0.8996, 0.0668, 0.8748,  ..., 0.2905, 0.7305, 0.9517],\n",
       "          [0.7690, 0.0916, 0.7367,  ..., 0.1077, 0.7643, 0.4254],\n",
       "          ...,\n",
       "          [0.7038, 0.5330, 0.3401,  ..., 0.0167, 0.0824, 0.0640],\n",
       "          [0.6399, 0.5343, 0.6079,  ..., 0.7285, 0.7371, 0.0625],\n",
       "          [0.7469, 0.8803, 0.7476,  ..., 0.8622, 0.6707, 0.7981]]]])"
      ]
     },
     "execution_count": 12,
     "metadata": {},
     "output_type": "execute_result"
    }
   ],
   "source": [
    "img"
   ]
  },
  {
   "cell_type": "code",
   "execution_count": null,
   "id": "bd284b71-2476-4fde-a6d4-c451bae58507",
   "metadata": {},
   "outputs": [],
   "source": []
  }
 ],
 "metadata": {
  "kernelspec": {
   "display_name": "New Python (GPU)",
   "language": "python",
   "name": "new_gpu_env"
  },
  "language_info": {
   "codemirror_mode": {
    "name": "ipython",
    "version": 3
   },
   "file_extension": ".py",
   "mimetype": "text/x-python",
   "name": "python",
   "nbconvert_exporter": "python",
   "pygments_lexer": "ipython3",
   "version": "3.9.20"
  }
 },
 "nbformat": 4,
 "nbformat_minor": 5
}
