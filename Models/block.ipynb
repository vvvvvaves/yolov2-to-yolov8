{
 "cells": [
  {
   "cell_type": "code",
   "execution_count": 1,
   "id": "9572d1ec-138c-4946-9005-b3814cc8c549",
   "metadata": {},
   "outputs": [],
   "source": [
    "import torch\n",
    "import torch.nn as nn"
   ]
  },
  {
   "cell_type": "code",
   "execution_count": 5,
   "id": "a7908d4d-f1ef-4454-9897-119788b192ba",
   "metadata": {},
   "outputs": [],
   "source": [
    "class Conv(nn.Module): # for my experiments, it is identical to the ultralytics conv module\n",
    "    def __init__(self, in_channels, out_channels, \n",
    "                 kernel_size, stride=1, padding=1, \n",
    "                 dilation=1, groups=1, bias=False, \n",
    "                 padding_mode='zeros', act='SiLU', device=None, dtype=None):\n",
    "        super().__init__()\n",
    "        self.conv = nn.Conv2d(in_channels, out_channels, \n",
    "                             kernel_size, stride, padding, \n",
    "                             dilation, groups, bias, \n",
    "                             padding_mode, device, dtype)\n",
    "        self.bn = nn.BatchNorm2d(out_channels, device=device, dtype=dtype)\n",
    "        if act == 'Leaky':\n",
    "            self.act = nn.LeakyReLU(0.1)\n",
    "        elif act == 'SiLU':\n",
    "            self.act = nn.SiLU()\n",
    "        else:\n",
    "            raise Exception(\"Invalid activation function.\")\n",
    "\n",
    "    def forward(self, x):\n",
    "        out = self.act(self.bn(self.conv(x)))\n",
    "        return out"
   ]
  },
  {
   "cell_type": "code",
   "execution_count": 3,
   "id": "2f9a9d1d-9790-4f5b-87fa-ab2e7e41d6ee",
   "metadata": {},
   "outputs": [],
   "source": [
    "class Bottleneck(nn.Module):\n",
    "    def __init__(self, in_channels, out_channels, \n",
    "                 residual_connection=True, bottleneck=0.5):\n",
    "        super().__init__()\n",
    "        self.hidden_channels = int(out_channels*bottleneck)\n",
    "        self.conv1 = Conv(in_channels, out_channels=self.hidden_channels, kernel_size=(3,3), stride=1, padding=1)\n",
    "        self.conv2 = Conv(self.hidden_channels, out_channels=out_channels, kernel_size=(3,3), stride=1, padding=1)\n",
    "        self.add = residual_connection and in_channels == out_channels\n",
    "\n",
    "    def forward(self, x):\n",
    "        out = self.conv1(x)\n",
    "        out = self.conv2(out)\n",
    "\n",
    "        if self.add:\n",
    "            return x + out\n",
    "        else:\n",
    "            return out"
   ]
  },
  {
   "cell_type": "code",
   "execution_count": 4,
   "id": "55d58490-c9f5-49ed-af84-4dfc50412162",
   "metadata": {},
   "outputs": [],
   "source": [
    "class C2f(nn.Module):\n",
    "    def __init__(self, in_channels, out_channels, n=1, residual_connection=False, CSP=False, add_hidden=False, bottleneck=1.0):\n",
    "        super().__init__()\n",
    "        self.conv1 = Conv(in_channels, out_channels=out_channels, kernel_size=(1,1), stride=1, padding=0)\n",
    "        self.hidden_channels = out_channels // 2 if CSP else out_channels\n",
    "        self.n_blocks = nn.ParameterList([\n",
    "            Bottleneck(self.hidden_channels, self.hidden_channels, \n",
    "                       residual_connection=residual_connection, bottleneck=bottleneck) for _ in range(n)\n",
    "        ])\n",
    "        self.CSP = CSP\n",
    "        self.add_hidden = CSP and add_hidden\n",
    "        if self.add_hidden:\n",
    "            self.conv2 = Conv((2 + n) * self.hidden_channels, out_channels=out_channels, kernel_size=(1,1), stride=1, padding=0)\n",
    "        else:\n",
    "            self.conv2 = Conv(out_channels, out_channels=out_channels, kernel_size=(1,1), stride=1, padding=0)\n",
    "\n",
    "    def forward(self, x):\n",
    "        out = self.conv1(x)\n",
    "        if self.CSP:\n",
    "            _out = list(out.chunk(2, dim=1))\n",
    "            out = _out[0]\n",
    "            for block in self.n_blocks:\n",
    "                out = block(out)\n",
    "                if self.add_hidden:\n",
    "                    _out.append(out)\n",
    "            out = torch.cat(_out, 1)\n",
    "        else:\n",
    "            for block in self.n_blocks:\n",
    "                out = block(out)\n",
    "        out = self.conv2(out)\n",
    "        return out"
   ]
  },
  {
   "cell_type": "code",
   "execution_count": null,
   "id": "9f9155ba-386f-4675-9acc-bbfeb0726d71",
   "metadata": {},
   "outputs": [],
   "source": []
  }
 ],
 "metadata": {
  "kernelspec": {
   "display_name": "Python 3 (ipykernel)",
   "language": "python",
   "name": "python3"
  },
  "language_info": {
   "codemirror_mode": {
    "name": "ipython",
    "version": 3
   },
   "file_extension": ".py",
   "mimetype": "text/x-python",
   "name": "python",
   "nbconvert_exporter": "python",
   "pygments_lexer": "ipython3",
   "version": "3.12.6"
  }
 },
 "nbformat": 4,
 "nbformat_minor": 5
}
