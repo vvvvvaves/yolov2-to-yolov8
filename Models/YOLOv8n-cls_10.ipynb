{
 "cells": [
  {
   "cell_type": "code",
   "execution_count": 12,
   "id": "a761e20f-7161-4f35-8acf-6c9f4cb41993",
   "metadata": {},
   "outputs": [],
   "source": [
    "import torch\n",
    "from ultralytics import YOLO"
   ]
  },
  {
   "cell_type": "markdown",
   "id": "3bf26895-933e-4e16-9065-c91c07874502",
   "metadata": {},
   "source": [
    "#### Download the model"
   ]
  },
  {
   "cell_type": "code",
   "execution_count": 13,
   "id": "de063c53-cc1a-439f-af0b-8b6975cc1891",
   "metadata": {},
   "outputs": [],
   "source": [
    "# model = YOLO(\"yolov8n-cls.pt\")"
   ]
  },
  {
   "cell_type": "code",
   "execution_count": 14,
   "id": "fc894648-f414-4741-8bea-f5b00989903b",
   "metadata": {},
   "outputs": [],
   "source": [
    "# 1000 output classes\n",
    "# results = model.train(data=\"imagenette\", epochs=100, imgsz=224) # KeyboardInterrupt after \"Overriding model.yaml nc=1000 with nc=10\""
   ]
  },
  {
   "cell_type": "code",
   "execution_count": 15,
   "id": "c5012c93-49ea-4539-ae0d-319d5806937b",
   "metadata": {},
   "outputs": [],
   "source": [
    "# model = model.model.model # 10 output classes"
   ]
  },
  {
   "cell_type": "code",
   "execution_count": 16,
   "id": "aa022f7c-d346-40a9-aa64-ac4383eb2dd5",
   "metadata": {},
   "outputs": [],
   "source": [
    "# torch.save(model, \"./yolov8n-cls_10.pt\")"
   ]
  },
  {
   "cell_type": "markdown",
   "id": "e3b771dd-851d-4134-9070-7b465d0253af",
   "metadata": {},
   "source": [
    "#### Load the model"
   ]
  },
  {
   "cell_type": "code",
   "execution_count": 18,
   "id": "ca451afa-69c2-4dca-908d-de76ef30736d",
   "metadata": {},
   "outputs": [],
   "source": [
    "model = torch.load('yolov8n-cls_10.pt')"
   ]
  },
  {
   "cell_type": "markdown",
   "id": "000b2192-c6e9-4de2-a26d-114843bd4d76",
   "metadata": {},
   "source": [
    "## Count parameters:"
   ]
  },
  {
   "cell_type": "code",
   "execution_count": 23,
   "id": "75204b12-e61e-4dcf-8dc5-e3a95ced653d",
   "metadata": {},
   "outputs": [
    {
     "data": {
      "text/plain": [
       "1451098"
      ]
     },
     "execution_count": 23,
     "metadata": {},
     "output_type": "execute_result"
    }
   ],
   "source": [
    "total_params = sum(p.numel() for p in model.parameters())\n",
    "total_params"
   ]
  },
  {
   "cell_type": "markdown",
   "id": "21d556a0-1497-4699-b48f-67c332c11631",
   "metadata": {},
   "source": [
    "1.4 M"
   ]
  },
  {
   "cell_type": "markdown",
   "id": "f457cce0-2a9b-4f8f-a28b-98dfe2b83b28",
   "metadata": {},
   "source": [
    "# Performance"
   ]
  },
  {
   "cell_type": "markdown",
   "id": "e5166564-d213-4b92-bcf8-db05ef51aae6",
   "metadata": {},
   "source": [
    "Top-1 accuracy on ImageNet (1000 classes): 69.0\n",
    "<br>Top-5 accuracy on ImageNet (1000 classes): 88.3"
   ]
  },
  {
   "cell_type": "code",
   "execution_count": null,
   "id": "beb495a0-b996-4b4f-a438-ab15c80711f8",
   "metadata": {},
   "outputs": [],
   "source": []
  }
 ],
 "metadata": {
  "kernelspec": {
   "display_name": "Python 3 (ipykernel)",
   "language": "python",
   "name": "python3"
  },
  "language_info": {
   "codemirror_mode": {
    "name": "ipython",
    "version": 3
   },
   "file_extension": ".py",
   "mimetype": "text/x-python",
   "name": "python",
   "nbconvert_exporter": "python",
   "pygments_lexer": "ipython3",
   "version": "3.12.6"
  }
 },
 "nbformat": 4,
 "nbformat_minor": 5
}
