{
 "cells": [
  {
   "cell_type": "code",
   "execution_count": 1,
   "id": "6b4b0840-b07e-4fb1-9f71-74ded9239322",
   "metadata": {},
   "outputs": [],
   "source": [
    "import torch\n",
    "import os\n",
    "import torch.nn as nn\n",
    "from torch.utils.data import Dataset, DataLoader\n",
    "import xml.etree.ElementTree as ET\n",
    "import pandas as pd"
   ]
  },
  {
   "cell_type": "markdown",
   "id": "6a14bbe7-4302-4dd1-bb18-e67df6bc2411",
   "metadata": {},
   "source": [
    "I'll get anchor boxes' width and height relatively to the size of the image to make them more universal.\n",
    "I need 5 anchor boxes, not 15, cause the best anchor for each object each the same no matter what the grid size is"
   ]
  },
  {
   "cell_type": "code",
   "execution_count": 2,
   "id": "5c6248c8-a816-4400-a5fc-6d5e3b4c7844",
   "metadata": {},
   "outputs": [],
   "source": [
    "class VOCDataset(Dataset):\n",
    "    def __init__(self, devkit_path, \n",
    "                 subsets = [('VOC2007', 'trainval'), ('VOC2012', 'trainval') ]):\n",
    "        super().__init__()\n",
    "        self.devkit_path = devkit_path\n",
    "        self.subsets = subsets\n",
    "\n",
    "        self.all_labels = []\n",
    "        for subset in self.subsets:\n",
    "            subset_path = os.path.join(self.devkit_path, subset[0], 'ImageSets', 'Main', '{}.txt'.format(subset[1]))\n",
    "            print(os.path.exists(subset_path), subset_path)\n",
    "            with open(subset_path, 'r') as file:\n",
    "                subset_labels = file.read().splitlines()\n",
    "            self.all_labels.append(subset_labels)\n",
    "\n",
    "    def __getitem__(self, idx):\n",
    "        # get paths\n",
    "        subset_idx = 0\n",
    "        for subset_labels in self.all_labels:\n",
    "            if idx < len(subset_labels):\n",
    "                break\n",
    "            else:\n",
    "                subset_idx += 1\n",
    "                idx -= len(subset_labels)\n",
    "\n",
    "        if idx < 0 or subset_idx >= len(self.subsets):\n",
    "            raise Exception(\"Index out of range.\")\n",
    "\n",
    "        # print(subset_idx, idx)\n",
    "        annotation_path = os.path.join(self.devkit_path, self.subsets[subset_idx][0], 'Annotations', '{}.xml'.format(self.all_labels[subset_idx][idx]))\n",
    "\n",
    "        # print(os.path.exists(annotation_path), annotation_path)\n",
    "        \n",
    "        # parse annotations\n",
    "        tree = ET.parse(annotation_path)\n",
    "        root = tree.getroot()\n",
    "\n",
    "        img_w = int(root.find(\"./size/width\").text)\n",
    "        img_h = int(root.find(\"./size/height\").text)\n",
    "        img_d = int(root.find(\"./size/depth\").text)\n",
    "\n",
    "        boxes = []\n",
    "        for i, item in enumerate(root.findall('./object')):\n",
    "            label = item.find(\"name\").text\n",
    "            bndbox = item.find(\"bndbox\")\n",
    "            xmin = int(bndbox.find(\"xmin\").text)\n",
    "            ymin = int(bndbox.find(\"ymin\").text)\n",
    "            xmax = int(bndbox.find(\"xmax\").text)\n",
    "            ymax = int(bndbox.find(\"ymax\").text)\n",
    "        \n",
    "            obj_w = (xmax - xmin) / img_w\n",
    "            obj_h = (ymax - ymin) / img_h\n",
    "\n",
    "            boxes.append((obj_w, obj_h))\n",
    "\n",
    "        return boxes\n",
    "        \n",
    "    def __len__(self):\n",
    "        summed_len = 0\n",
    "        for _subset in self.all_labels:\n",
    "            summed_len += len(_subset)\n",
    "        return summed_len"
   ]
  },
  {
   "cell_type": "code",
   "execution_count": 3,
   "id": "a8031a5d-829f-41d6-b2bc-68f4f6ea516b",
   "metadata": {},
   "outputs": [
    {
     "name": "stdout",
     "output_type": "stream",
     "text": [
      "True ../../datasets/VOCdevkit/VOC2007\\ImageSets\\Main\\trainval.txt\n",
      "True ../../datasets/VOCdevkit/VOC2012\\ImageSets\\Main\\trainval.txt\n"
     ]
    }
   ],
   "source": [
    "train_set = VOCDataset(devkit_path = '../../datasets/VOCdevkit/')"
   ]
  },
  {
   "cell_type": "code",
   "execution_count": 4,
   "id": "f65f00fb-4cbc-40cf-9dbc-3ff98759da3b",
   "metadata": {
    "scrolled": true
   },
   "outputs": [],
   "source": [
    "boxes = []\n",
    "for idx in range(len(train_set)):\n",
    "    boxes += train_set[idx]"
   ]
  },
  {
   "cell_type": "code",
   "execution_count": 5,
   "id": "764dfc81-82b4-49af-b6bc-e8beeeee73df",
   "metadata": {},
   "outputs": [],
   "source": [
    "df = pd.DataFrame(boxes, columns = [\"box_w\", \"box_h\"])"
   ]
  },
  {
   "cell_type": "code",
   "execution_count": 6,
   "id": "230ea7f5-097d-4f2d-90b6-0c6f1191107b",
   "metadata": {},
   "outputs": [
    {
     "data": {
      "text/html": [
       "<div>\n",
       "<style scoped>\n",
       "    .dataframe tbody tr th:only-of-type {\n",
       "        vertical-align: middle;\n",
       "    }\n",
       "\n",
       "    .dataframe tbody tr th {\n",
       "        vertical-align: top;\n",
       "    }\n",
       "\n",
       "    .dataframe thead th {\n",
       "        text-align: right;\n",
       "    }\n",
       "</style>\n",
       "<table border=\"1\" class=\"dataframe\">\n",
       "  <thead>\n",
       "    <tr style=\"text-align: right;\">\n",
       "      <th></th>\n",
       "      <th>box_w</th>\n",
       "      <th>box_h</th>\n",
       "    </tr>\n",
       "  </thead>\n",
       "  <tbody>\n",
       "    <tr>\n",
       "      <th>0</th>\n",
       "      <td>0.122000</td>\n",
       "      <td>0.341333</td>\n",
       "    </tr>\n",
       "    <tr>\n",
       "      <th>1</th>\n",
       "      <td>0.176000</td>\n",
       "      <td>0.288000</td>\n",
       "    </tr>\n",
       "    <tr>\n",
       "      <th>2</th>\n",
       "      <td>0.124000</td>\n",
       "      <td>0.346667</td>\n",
       "    </tr>\n",
       "    <tr>\n",
       "      <th>3</th>\n",
       "      <td>0.108000</td>\n",
       "      <td>0.280000</td>\n",
       "    </tr>\n",
       "    <tr>\n",
       "      <th>4</th>\n",
       "      <td>0.070000</td>\n",
       "      <td>0.090667</td>\n",
       "    </tr>\n",
       "    <tr>\n",
       "      <th>...</th>\n",
       "      <td>...</td>\n",
       "      <td>...</td>\n",
       "    </tr>\n",
       "    <tr>\n",
       "      <th>47218</th>\n",
       "      <td>0.868263</td>\n",
       "      <td>0.228000</td>\n",
       "    </tr>\n",
       "    <tr>\n",
       "      <th>47219</th>\n",
       "      <td>0.802000</td>\n",
       "      <td>0.808000</td>\n",
       "    </tr>\n",
       "    <tr>\n",
       "      <th>47220</th>\n",
       "      <td>0.766000</td>\n",
       "      <td>0.272000</td>\n",
       "    </tr>\n",
       "    <tr>\n",
       "      <th>47221</th>\n",
       "      <td>0.812000</td>\n",
       "      <td>0.575682</td>\n",
       "    </tr>\n",
       "    <tr>\n",
       "      <th>47222</th>\n",
       "      <td>0.056000</td>\n",
       "      <td>0.187500</td>\n",
       "    </tr>\n",
       "  </tbody>\n",
       "</table>\n",
       "<p>47223 rows × 2 columns</p>\n",
       "</div>"
      ],
      "text/plain": [
       "          box_w     box_h\n",
       "0      0.122000  0.341333\n",
       "1      0.176000  0.288000\n",
       "2      0.124000  0.346667\n",
       "3      0.108000  0.280000\n",
       "4      0.070000  0.090667\n",
       "...         ...       ...\n",
       "47218  0.868263  0.228000\n",
       "47219  0.802000  0.808000\n",
       "47220  0.766000  0.272000\n",
       "47221  0.812000  0.575682\n",
       "47222  0.056000  0.187500\n",
       "\n",
       "[47223 rows x 2 columns]"
      ]
     },
     "execution_count": 6,
     "metadata": {},
     "output_type": "execute_result"
    }
   ],
   "source": [
    "df"
   ]
  },
  {
   "cell_type": "code",
   "execution_count": 26,
   "id": "205ce665-307c-41d0-8e00-f2d330e61485",
   "metadata": {},
   "outputs": [],
   "source": [
    "def distance_f(box, centroid):\n",
    "    iou = IoU([0, 0] + list(box), [0, 0] + list(centroid), midpoint=True)\n",
    "    return 1 - iou"
   ]
  },
  {
   "cell_type": "code",
   "execution_count": 27,
   "id": "3c55180c-9e2b-4c7a-b6c4-f6bace366464",
   "metadata": {},
   "outputs": [],
   "source": [
    "def IoU(box1, box2, midpoint=True):\n",
    "    if midpoint:\n",
    "        x1 = box1[0]\n",
    "        y1 = box1[1]\n",
    "        w1 = box1[2]\n",
    "        h1 = box1[3]\n",
    "    \n",
    "        x2 = box2[0]\n",
    "        y2 = box2[1]\n",
    "        w2 = box2[2]\n",
    "        h2 = box2[3]\n",
    "    \n",
    "        xmin1 = x1 - w1/2\n",
    "        xmin2 = x2 - w2/2\n",
    "        ymin1 = y1 - h1/2\n",
    "        ymin2 = y2 - h2/2\n",
    "    \n",
    "        xmax1 = x1 + w1/2\n",
    "        xmax2 = x2 + w2/2\n",
    "        ymax1 = y1 + h1/2\n",
    "        ymax2 = y2 + h2/2\n",
    "    else:\n",
    "        xmin1, ymin1, xmax1, ymax1 = box1\n",
    "        xmin2, ymin2, xmax2, ymax2 = box2\n",
    "    \n",
    "    xmin_i = max(xmin1, xmin2)\n",
    "    xmax_i = min(xmax1, xmax2)\n",
    "    ymin_i = max(ymin1, ymin2)\n",
    "    ymax_i = min(ymax1, ymax2)\n",
    "\n",
    "    intersection = max(xmax_i-xmin_i, 0) * max(ymax_i-ymin_i, 0)\n",
    "\n",
    "    area1 = (xmax1 - xmin1) * (ymax1 - ymin1)\n",
    "    area2 = (xmax2 - xmin2) * (ymax2 - ymin2)\n",
    "\n",
    "    return intersection / (area1 + area2 - intersection + 1e-6)"
   ]
  },
  {
   "cell_type": "code",
   "execution_count": 44,
   "id": "2efdf6e2-dcb9-475c-8a5e-dee9fec3ceda",
   "metadata": {},
   "outputs": [],
   "source": [
    "from pyclustering.cluster.kmeans import kmeans\n",
    "from pyclustering.utils.metric import type_metric, distance_metric\n",
    "\n",
    "metric = distance_metric(type_metric.USER_DEFINED, func=distance_f)\n",
    "\n",
    "# create K-Means algorithm with specific distance metric\n",
    "start_centers = torch.rand(5, 2).tolist()\n",
    "kmeans_instance = kmeans(df, start_centers, metric=metric, tolerance=0.00001)\n",
    "\n",
    "# run cluster analysis and obtain results\n",
    "kmeans_instance.process()\n",
    "centers = kmeans_instance.get_centers()"
   ]
  },
  {
   "cell_type": "code",
   "execution_count": 43,
   "id": "0f32c75a-b092-4d4c-89fc-5ee147e8f9c1",
   "metadata": {},
   "outputs": [
    {
     "data": {
      "text/plain": [
       "([[0.38347065448760986, 0.9537832736968994],\n",
       "  [0.8005502820014954, 0.17438530921936035],\n",
       "  [0.9535838961601257, 0.8640784025192261],\n",
       "  [0.32188349962234497, 0.49408531188964844],\n",
       "  [0.568794846534729, 0.9568654298782349]],\n",
       " [[0.32882816561531697, 0.6554346360225188],\n",
       "  [0.07522471620262354, 0.1241032298491792],\n",
       "  [0.7862514755140577, 0.8175396064741282],\n",
       "  [0.1944210942223786, 0.3173615394924991],\n",
       "  [0.6152915161928911, 0.3970012983608503]])"
      ]
     },
     "execution_count": 43,
     "metadata": {},
     "output_type": "execute_result"
    }
   ],
   "source": [
    "start_centers, centers"
   ]
  },
  {
   "cell_type": "code",
   "execution_count": 46,
   "id": "fda7dd62-22c4-4425-99a5-f80ee7403945",
   "metadata": {},
   "outputs": [],
   "source": [
    "import pickle\n",
    "with open(\"anchors_VOC0712trainval.pickle\", \"wb\") as file:\n",
    "    pickle.dump(centers, file, protocol=pickle.HIGHEST_PROTOCOL)"
   ]
  },
  {
   "cell_type": "code",
   "execution_count": null,
   "id": "b25c0ef6-da67-4720-b5d8-3bf88554ccdc",
   "metadata": {},
   "outputs": [],
   "source": []
  }
 ],
 "metadata": {
  "kernelspec": {
   "display_name": "New Python (GPU)",
   "language": "python",
   "name": "new_gpu_env"
  },
  "language_info": {
   "codemirror_mode": {
    "name": "ipython",
    "version": 3
   },
   "file_extension": ".py",
   "mimetype": "text/x-python",
   "name": "python",
   "nbconvert_exporter": "python",
   "pygments_lexer": "ipython3",
   "version": "3.9.20"
  }
 },
 "nbformat": 4,
 "nbformat_minor": 5
}
