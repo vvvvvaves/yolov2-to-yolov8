{
 "cells": [
  {
   "cell_type": "code",
   "execution_count": 1,
   "id": "bd791246-0d84-4821-8b11-647cadf2e227",
   "metadata": {},
   "outputs": [],
   "source": [
    "import torch\n",
    "import torch.nn as nn\n",
    "from torch.utils.data import DataLoader\n",
    "import albumentations as A\n",
    "from albumentations.pytorch import ToTensorV2\n",
    "from yolov2 import YOLOv2D19 as YOLOv2\n",
    "from detection_datasets import VOCDatasetV2\n",
    "import pickle\n",
    "with open('anchors_VOC0712trainval.pickle', 'rb') as handle:\n",
    "    anchors = pickle.load(handle)"
   ]
  },
  {
   "cell_type": "code",
   "execution_count": 2,
   "id": "8f50a13e-439c-4247-ab71-da63170b0d52",
   "metadata": {},
   "outputs": [
    {
     "name": "stderr",
     "output_type": "stream",
     "text": [
      "C:\\Me\\PJAIT\\Thesis\\Code\\yolov2-to-yolov8\\Models\\yolov2.py:138: FutureWarning: You are using `torch.load` with `weights_only=False` (the current default value), which uses the default pickle module implicitly. It is possible to construct malicious pickle data which will execute arbitrary code during unpickling (See https://github.com/pytorch/pytorch/blob/main/SECURITY.md#untrusted-models for more details). In a future release, the default value for `weights_only` will be flipped to `True`. This limits the functions that could be executed during unpickling. Arbitrary objects will no longer be allowed to be loaded via this mode unless they are explicitly allowlisted by the user via `torch.serialization.add_safe_globals`. We recommend you start setting `weights_only=True` for any use case where you don't have full control of the loaded file. Please open an issue on GitHub for any issues related to this experimental feature.\n",
      "  state_dict = torch.load(state_dict_path, map_location=self.device)\n"
     ]
    }
   ],
   "source": [
    "model = YOLOv2(device=torch.device('cpu'), dtype=torch.float32)"
   ]
  },
  {
   "cell_type": "code",
   "execution_count": 3,
   "id": "0af22e8a-6c07-4425-bc08-a976987c1e5a",
   "metadata": {},
   "outputs": [
    {
     "name": "stdout",
     "output_type": "stream",
     "text": [
      "True ../../datasets/VOCdevkit/VOC2007\\ImageSets\\Main\\trainval.txt\n",
      "True ../../datasets/VOCdevkit/VOC2012\\ImageSets\\Main\\trainval.txt\n"
     ]
    }
   ],
   "source": [
    "transforms = A.Compose([\n",
    "    A.Resize(width=416, height=416),\n",
    "    A.VerticalFlip(p=1.0),\n",
    "    ToTensorV2()\n",
    "], bbox_params=A.BboxParams(format='pascal_voc'))\n",
    "train_set = VOCDatasetV2(devkit_path = '../../datasets/VOCdevkit/', scales=[13], anchors=anchors, transforms=transforms, \n",
    "                         dtype=torch.float32, device=torch.device('cpu'))"
   ]
  },
  {
   "cell_type": "code",
   "execution_count": 4,
   "id": "b1163e40-c3bd-4c7d-ab8f-e0b2b38d9865",
   "metadata": {},
   "outputs": [],
   "source": [
    "class YOLOv2Loss(nn.Module):\n",
    "    def __init__(self, lambda_noobj=0.5, lambda_coord=5.0, num_classes=20):\n",
    "        super().__init__()\n",
    "        self.mse = torch.nn.MSELoss(reduction='sum')\n",
    "        self.softmax = torch.nn.Softmax(dim=2)\n",
    "        self.lambda_noobj = lambda_noobj\n",
    "        self.lambda_coord = lambda_coord\n",
    "        self.num_classes = num_classes\n",
    "        \n",
    "    def forward(self, out, gt_out, anchors):\n",
    "        # [conf, obj_xc, obj_yc, obj_w, obj_h]\n",
    "        is_obj = gt_out[:, 0::25, ...] == 1.0\n",
    "        no_obj = gt_out[:, 0::25, ...] == 0.0\n",
    "\n",
    "        # CONFIDENCE LOSS ===========\n",
    "        conf_true = gt_out[:, 0::25, ...]\n",
    "        conf_pred = out[:, 0::25, ...].sigmoid()\n",
    "\n",
    "        is_obj_conf_pred = is_obj * conf_pred\n",
    "        is_obj_conf_true = is_obj * conf_true\n",
    "        \n",
    "        no_obj_conf_pred = no_obj * conf_pred\n",
    "        no_obj_conf_true = no_obj * conf_true\n",
    "\n",
    "        is_obj_conf_loss = self.mse(is_obj_conf_pred, is_obj_conf_true)\n",
    "        no_obj_conf_loss = self.mse(no_obj_conf_pred, no_obj_conf_true) \n",
    "        # ===========================\n",
    "\n",
    "        # BOX LOSS ==================\n",
    "        xc_true = gt_out[:, 1::25, ...]\n",
    "        yc_true = gt_out[:, 2::25, ...]\n",
    "        w_true = gt_out[:, 3::25, ...]\n",
    "        h_true = gt_out[:, 4::25, ...]\n",
    "        \n",
    "        xc_pred = out[:, 1::25, ...].sigmoid()\n",
    "        yc_pred = out[:, 2::25, ...].sigmoid()\n",
    "        \n",
    "        scale = gt_out.shape[-1]\n",
    "        _anchors = torch.tensor(anchors) * scale\n",
    "        pw = _anchors[:, 0]\n",
    "        ph = _anchors[:, 1]\n",
    "        \n",
    "        w_pred = pw[None, :, None, None] * out[:, 3::25, ...].exp()\n",
    "        h_pred = ph[None, :, None, None] * out[:, 4::25, ...].exp()\n",
    "\n",
    "        xc_pred = is_obj * xc_pred\n",
    "        xc_true = is_obj * xc_true\n",
    "        yc_pred = is_obj * yc_pred\n",
    "        yc_true = is_obj * yc_true\n",
    "        \n",
    "        w_pred = is_obj * w_pred\n",
    "        w_true = is_obj * w_true\n",
    "        h_pred = is_obj * h_pred\n",
    "        h_true = is_obj * h_true\n",
    "\n",
    "        xc_loss = self.mse(xc_pred, xc_true)\n",
    "        yc_loss = self.mse(yc_pred, yc_true)\n",
    "        w_loss = self.mse(w_pred.sqrt(), w_true.sqrt())\n",
    "        h_loss = self.mse(h_pred.sqrt(), h_true.sqrt())\n",
    "        # ===========================\n",
    "\n",
    "        # CLASS LOSS ================\n",
    "        class_true = []\n",
    "        for i in range(len(anchors)):\n",
    "            first_idx = 5 + i*(5+self.num_classes)\n",
    "            last_idx = 25 + i*(5+self.num_classes)\n",
    "            class_true.append(gt_out[:, first_idx:last_idx, ...])\n",
    "        class_true = torch.stack(class_true, dim=1)\n",
    "\n",
    "        class_pred = []\n",
    "        for i in range(len(anchors)):\n",
    "            first_idx = 5 + i*(5+self.num_classes)\n",
    "            last_idx = 25 + i*(5+self.num_classes)\n",
    "            class_pred.append(gt_out[:, first_idx:last_idx, ...])\n",
    "        class_pred = torch.stack(class_pred, dim=1)\n",
    "\n",
    "        class_pred = self.softmax(class_pred)\n",
    "        \n",
    "        class_pred = is_obj[:, :, None, :, :] * class_pred\n",
    "        class_true = is_obj[:, :, None, :, :] * class_true\n",
    "\n",
    "        class_loss = self.mse(class_pred, class_true)\n",
    "        # ===========================\n",
    "\n",
    "        loss =  self.lambda_coord * (xc_loss + yc_loss) + \\\n",
    "                self.lambda_coord * (w_loss + h_loss) + \\\n",
    "                is_obj_conf_loss + \\\n",
    "                self.lambda_noobj * no_obj_conf_loss + \\\n",
    "                class_loss\n",
    "\n",
    "        return loss\n",
    "        \n"
   ]
  },
  {
   "cell_type": "code",
   "execution_count": 5,
   "id": "3e4eba89-da08-43d7-8aac-1a0248073264",
   "metadata": {},
   "outputs": [],
   "source": [
    "loss = YOLOv2Loss()"
   ]
  },
  {
   "cell_type": "code",
   "execution_count": 6,
   "id": "1ee492b9-fc55-4b68-be26-27efd052d831",
   "metadata": {},
   "outputs": [],
   "source": [
    "image, gt_out = train_set[2]\n",
    "gt_out = gt_out.unsqueeze(0)\n",
    "image = image.unsqueeze(0)\n",
    "out = model(image)"
   ]
  },
  {
   "cell_type": "code",
   "execution_count": 7,
   "id": "1cea5f77-7413-4259-b9eb-6f4355b9daed",
   "metadata": {},
   "outputs": [
    {
     "data": {
      "text/plain": [
       "tensor(116.3473, grad_fn=<AddBackward0>)"
      ]
     },
     "execution_count": 7,
     "metadata": {},
     "output_type": "execute_result"
    }
   ],
   "source": [
    "loss(out, gt_out, anchors)"
   ]
  },
  {
   "cell_type": "code",
   "execution_count": null,
   "id": "d414fa80-9495-431d-9f0a-d7f918e0cd03",
   "metadata": {},
   "outputs": [],
   "source": []
  }
 ],
 "metadata": {
  "kernelspec": {
   "display_name": "New Python (GPU)",
   "language": "python",
   "name": "new_gpu_env"
  },
  "language_info": {
   "codemirror_mode": {
    "name": "ipython",
    "version": 3
   },
   "file_extension": ".py",
   "mimetype": "text/x-python",
   "name": "python",
   "nbconvert_exporter": "python",
   "pygments_lexer": "ipython3",
   "version": "3.9.20"
  }
 },
 "nbformat": 4,
 "nbformat_minor": 5
}
