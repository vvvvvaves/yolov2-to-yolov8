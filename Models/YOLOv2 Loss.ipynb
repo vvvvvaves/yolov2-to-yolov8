{
 "cells": [
  {
   "cell_type": "code",
   "execution_count": 1,
   "id": "bd791246-0d84-4821-8b11-647cadf2e227",
   "metadata": {},
   "outputs": [],
   "source": [
    "import torch\n",
    "import torch.nn as nn\n",
    "from torch.utils.data import DataLoader\n",
    "import albumentations as A\n",
    "from albumentations.pytorch import ToTensorV2\n",
    "from yolov2 import YOLOv2D19 as YOLOv2\n",
    "from loss import YOLOv2Loss\n",
    "from utils import IoU\n",
    "from detection_datasets import VOCDatasetV2\n",
    "from torch.profiler import profile, ProfilerActivity\n",
    "import pickle\n",
    "import datetime\n",
    "with open('anchors_VOC0712trainval.pickle', 'rb') as handle:\n",
    "    anchors = pickle.load(handle)"
   ]
  },
  {
   "cell_type": "code",
   "execution_count": 2,
   "id": "65312f92-7de2-4e25-9948-8e498b79267f",
   "metadata": {},
   "outputs": [],
   "source": [
    "import sys\n",
    "sys.path.insert(1, '../')\n",
    "from data_preprocessing import get_norms"
   ]
  },
  {
   "cell_type": "code",
   "execution_count": 3,
   "id": "d2a7238f-1e20-4d64-8805-8266c94d7b24",
   "metadata": {},
   "outputs": [],
   "source": [
    "torch.cuda.empty_cache()"
   ]
  },
  {
   "cell_type": "code",
   "execution_count": 4,
   "id": "eae796da-4b78-4edf-bc5c-cf82df899184",
   "metadata": {},
   "outputs": [],
   "source": [
    "device = torch.device('cuda:0')\n",
    "dtype = torch.float32"
   ]
  },
  {
   "cell_type": "code",
   "execution_count": 5,
   "id": "bd3d9d52-55a1-4500-b630-05f2c9088cfd",
   "metadata": {},
   "outputs": [],
   "source": [
    "scaler = torch.amp.GradScaler(\"cuda\")"
   ]
  },
  {
   "cell_type": "code",
   "execution_count": 6,
   "id": "8f50a13e-439c-4247-ab71-da63170b0d52",
   "metadata": {},
   "outputs": [
    {
     "name": "stderr",
     "output_type": "stream",
     "text": [
      "C:\\Me\\PJAIT\\Thesis\\Code\\yolov2-to-yolov8\\Models\\yolov2.py:138: FutureWarning: You are using `torch.load` with `weights_only=False` (the current default value), which uses the default pickle module implicitly. It is possible to construct malicious pickle data which will execute arbitrary code during unpickling (See https://github.com/pytorch/pytorch/blob/main/SECURITY.md#untrusted-models for more details). In a future release, the default value for `weights_only` will be flipped to `True`. This limits the functions that could be executed during unpickling. Arbitrary objects will no longer be allowed to be loaded via this mode unless they are explicitly allowlisted by the user via `torch.serialization.add_safe_globals`. We recommend you start setting `weights_only=True` for any use case where you don't have full control of the loaded file. Please open an issue on GitHub for any issues related to this experimental feature.\n",
      "  state_dict = torch.load(state_dict_path, map_location=self.device)\n"
     ]
    }
   ],
   "source": [
    "model = YOLOv2(device=device, dtype=dtype)"
   ]
  },
  {
   "cell_type": "code",
   "execution_count": 7,
   "id": "dde6b24e-a1f4-43cb-9591-92976ba6fcf3",
   "metadata": {},
   "outputs": [],
   "source": [
    "norms = get_norms('../../datasets/VOCdevkit/trainval_norms.json')\n",
    "means = norms['means']\n",
    "stds = norms['stds']"
   ]
  },
  {
   "cell_type": "code",
   "execution_count": 8,
   "id": "0af22e8a-6c07-4425-bc08-a976987c1e5a",
   "metadata": {},
   "outputs": [
    {
     "name": "stdout",
     "output_type": "stream",
     "text": [
      "True ../../datasets/VOCdevkit/VOC2007\\ImageSets\\Main\\trainval.txt\n",
      "True ../../datasets/VOCdevkit/VOC2012\\ImageSets\\Main\\trainval.txt\n"
     ]
    }
   ],
   "source": [
    "transforms = A.Compose([\n",
    "    A.Resize(width=416, height=416),\n",
    "    A.VerticalFlip(p=1.0),\n",
    "    A.Normalize(mean=means, std=stds),\n",
    "    ToTensorV2()\n",
    "], bbox_params=A.BboxParams(format='pascal_voc'))\n",
    "train_set = VOCDatasetV2(devkit_path = '../../datasets/VOCdevkit/', scales=[13], anchors=anchors, transforms=transforms, \n",
    "                         dtype=dtype, device=device)"
   ]
  },
  {
   "cell_type": "code",
   "execution_count": 9,
   "id": "c5a8dac3-4f9f-46f2-a23d-fb64a644a6d3",
   "metadata": {},
   "outputs": [],
   "source": [
    "train_loader = DataLoader(train_set, batch_size=64, shuffle=False)"
   ]
  },
  {
   "cell_type": "markdown",
   "id": "170352d5-6a7d-4a5c-9702-e2b7f305d64c",
   "metadata": {},
   "source": [
    "My Loss"
   ]
  },
  {
   "cell_type": "code",
   "execution_count": 70,
   "id": "30781774-bbfa-429b-ab43-a2125ab404bc",
   "metadata": {},
   "outputs": [],
   "source": [
    "loss_fn = YOLOv2Loss(anchors=anchors)"
   ]
  },
  {
   "cell_type": "code",
   "execution_count": 71,
   "id": "c8a753bb-7592-49d2-afa4-77f8b234ea36",
   "metadata": {},
   "outputs": [],
   "source": [
    "torch.cuda.empty_cache()"
   ]
  },
  {
   "cell_type": "code",
   "execution_count": 72,
   "id": "8fe9f325-38f3-4d27-b89f-2afd9a8a87e0",
   "metadata": {},
   "outputs": [
    {
     "name": "stderr",
     "output_type": "stream",
     "text": [
      "C:\\conda_tmp\\ipykernel_10768\\1383623768.py:1: FutureWarning: `torch.cuda.amp.GradScaler(args...)` is deprecated. Please use `torch.amp.GradScaler('cuda', args...)` instead.\n",
      "  scaler = torch.cuda.amp.GradScaler()\n",
      "C:\\conda_tmp\\ipykernel_10768\\1383623768.py:3: FutureWarning: `torch.cuda.amp.autocast(args...)` is deprecated. Please use `torch.amp.autocast('cuda', args...)` instead.\n",
      "  with torch.cuda.amp.autocast():\n"
     ]
    },
    {
     "name": "stdout",
     "output_type": "stream",
     "text": [
      "2024-12-22 12:32:56.145343\n",
      "2024-12-22 12:32:56.255371\n"
     ]
    }
   ],
   "source": [
    "scaler = torch.cuda.amp.GradScaler()\n",
    "for img, label in train_loader:\n",
    "    with torch.cuda.amp.autocast():\n",
    "        out = model(img)\n",
    "        loss = loss_fn(out, label)\n",
    "\n",
    "        _datetime = datetime.datetime.now()\n",
    "        print(f\"{_datetime}\")\n",
    "        scaler.scale(loss).backward()\n",
    "        _datetime = datetime.datetime.now()\n",
    "        print(f\"{_datetime}\")\n",
    "    break"
   ]
  },
  {
   "cell_type": "code",
   "execution_count": 73,
   "id": "e484a090-03ce-45e1-86b8-5a5577e2d1ab",
   "metadata": {},
   "outputs": [
    {
     "data": {
      "text/plain": [
       "tensor(7507.0454, device='cuda:0', grad_fn=<AddBackward0>)"
      ]
     },
     "execution_count": 73,
     "metadata": {},
     "output_type": "execute_result"
    }
   ],
   "source": [
    "loss"
   ]
  },
  {
   "cell_type": "code",
   "execution_count": 74,
   "id": "c37eaba6-4dc0-49bc-b9a3-cb1af397a7f7",
   "metadata": {},
   "outputs": [
    {
     "name": "stdout",
     "output_type": "stream",
     "text": [
      "2024-12-22 12:33:42.113198\n",
      "2024-12-22 12:34:17.220017\n"
     ]
    }
   ],
   "source": [
    "for img, label in train_loader:\n",
    "    out = model(img)\n",
    "    loss = loss_fn(out, label)\n",
    "\n",
    "    _datetime = datetime.datetime.now()\n",
    "    print(f\"{_datetime}\")\n",
    "    loss.backward()\n",
    "    _datetime = datetime.datetime.now()\n",
    "    print(f\"{_datetime}\")\n",
    "    break"
   ]
  },
  {
   "cell_type": "code",
   "execution_count": 75,
   "id": "419804ff-c984-4b07-878d-f34f30312416",
   "metadata": {},
   "outputs": [
    {
     "data": {
      "text/plain": [
       "tensor(7526.1958, device='cuda:0', grad_fn=<AddBackward0>)"
      ]
     },
     "execution_count": 75,
     "metadata": {},
     "output_type": "execute_result"
    }
   ],
   "source": [
    "loss"
   ]
  }
 ],
 "metadata": {
  "kernelspec": {
   "display_name": "New Python (GPU)",
   "language": "python",
   "name": "new_gpu_env"
  },
  "language_info": {
   "codemirror_mode": {
    "name": "ipython",
    "version": 3
   },
   "file_extension": ".py",
   "mimetype": "text/x-python",
   "name": "python",
   "nbconvert_exporter": "python",
   "pygments_lexer": "ipython3",
   "version": "3.9.20"
  }
 },
 "nbformat": 4,
 "nbformat_minor": 5
}
