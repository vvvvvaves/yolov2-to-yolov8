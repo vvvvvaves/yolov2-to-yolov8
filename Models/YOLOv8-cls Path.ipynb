{
 "cells": [
  {
   "cell_type": "code",
   "execution_count": 28,
   "id": "f95160e7-d90e-4421-97f5-14cd46d16dd2",
   "metadata": {},
   "outputs": [],
   "source": [
    "import torch\n",
    "import torch.nn as nn\n",
    "from ultralytics import YOLO"
   ]
  },
  {
   "cell_type": "code",
   "execution_count": 29,
   "id": "c25094e0-3147-42c3-a4a8-83dd06377e1c",
   "metadata": {},
   "outputs": [],
   "source": [
    "%run block.ipynb"
   ]
  },
  {
   "cell_type": "markdown",
   "id": "1f89e086-42b9-4d3e-b77b-3ee9ccccd889",
   "metadata": {},
   "source": [
    "variants taken from https://github.com/ultralytics/ultralytics/blob/07a5ff9ddca487581035b61ff7678c0f7e0f40d9/ultralytics/cfg/models/v8/yolov8.yaml"
   ]
  },
  {
   "cell_type": "code",
   "execution_count": 30,
   "id": "ee2d6d95-a70b-45e6-9d0b-7d52c31bcd18",
   "metadata": {},
   "outputs": [],
   "source": [
    "class Model(nn.Module):\n",
    "    variants = {'n': {'d': 0.34, 'w': 0.25, 'mc': 1024},\n",
    "                's': {'d': 0.34, 'w': 0.50, 'mc': 1024},\n",
    "                'm': {'d': 0.67, 'w': 0.75, 'mc': 768},\n",
    "                'l': {'d': 1.00, 'w': 1.00, 'mc': 512},\n",
    "                'xl': {'d': 1.00, 'w': 1.25, 'mc': 512}}\n",
    "    def __init__(self, device=None, dtype=None, \n",
    "                 residual_connection=False, CSP=False, add_hidden=False, bottleneck=1.0,\n",
    "                 num_classes=1000, variant='n', classifyV8=False):\n",
    "        super().__init__()\n",
    "        \n",
    "        if variant not in Model.variants.keys():\n",
    "            raise Exception(\"Invalid variant.\")\n",
    "        self.variant = variant\n",
    "        self.mc = Model.variants[self.variant]['mc']\n",
    "        self.w = Model.variants[self.variant]['w']\n",
    "        self.d = Model.variants[self.variant]['d']\n",
    "        self._ch = lambda ch: int(min(ch, self.mc)*self.w)\n",
    "        self._d = lambda d: int(d * self.d)\n",
    "        \n",
    "        self.conv1 = Conv(3, out_channels=self._ch(64), kernel_size=(3, 3), stride=(2, 2), \n",
    "                         padding=(1, 1), bias=False, \n",
    "                         device=device, dtype=dtype)\n",
    "        self.conv2 = Conv(self._ch(64), out_channels=self._ch(128), kernel_size=(3, 3), stride=(2, 2), \n",
    "                          padding=(1, 1), bias=False,\n",
    "                          device=device, dtype=dtype)\n",
    "        self.c2f1 = C2f(self._ch(128), out_channels=self._ch(128), n=self._d(3), residual_connection=residual_connection, CSP=CSP, add_hidden=add_hidden, bottleneck=1.0,\n",
    "                        device=device, dtype=dtype)\n",
    "        self.conv3 = Conv(self._ch(128), out_channels=self._ch(256), kernel_size=(3, 3), stride=(2, 2), \n",
    "                         padding=(1, 1), bias=False, \n",
    "                         device=device, dtype=dtype)\n",
    "        self.c2f2 = C2f(self._ch(256), out_channels=self._ch(256), n=self._d(6), residual_connection=residual_connection, CSP=CSP, add_hidden=add_hidden, bottleneck=1.0,\n",
    "                        device=device, dtype=dtype)\n",
    "        self.conv4 = Conv(self._ch(256), out_channels=self._ch(512), kernel_size=(3, 3), stride=(2, 2), \n",
    "                         padding=(1, 1), bias=False, \n",
    "                         device=device, dtype=dtype)\n",
    "        self.c2f3 = C2f(self._ch(512), out_channels=self._ch(512), n=self._d(6), residual_connection=residual_connection, CSP=CSP, add_hidden=add_hidden, bottleneck=1.0,\n",
    "                        device=device, dtype=dtype)\n",
    "        self.conv5 = Conv(self._ch(512), out_channels=self._ch(1024), kernel_size=(3, 3), stride=(2, 2), \n",
    "                         padding=(1, 1), bias=False, \n",
    "                         device=device, dtype=dtype)\n",
    "        self.c2f4 = C2f(self._ch(1024), out_channels=self._ch(1024), n=self._d(3), residual_connection=residual_connection, CSP=CSP, add_hidden=add_hidden, bottleneck=1.0,\n",
    "                       device=device, dtype=dtype)\n",
    "\n",
    "        if classifyV8:\n",
    "            self.classify = ClassifyV8(self._ch(1024), num_classes=num_classes,\n",
    "                                      device=device, dtype=dtype)\n",
    "        else:\n",
    "            self.classify = ClassifyV2(self._ch(1024), num_classes=num_classes,\n",
    "                                      device=device, dtype=dtype)\n",
    "\n",
    "    def forward(self, x):\n",
    "        out = self.conv1(x)\n",
    "        out = self.conv2(out)\n",
    "\n",
    "        out = self.c2f1(out)\n",
    "        out = self.conv3(out)\n",
    "\n",
    "        out = self.c2f2(out)\n",
    "        out = self.conv4(out)\n",
    "\n",
    "        out = self.c2f3(out)\n",
    "        out = self.conv5(out)\n",
    "\n",
    "        out = self.c2f4(out)\n",
    "\n",
    "        out = self.classify(out)\n",
    "        return out"
   ]
  },
  {
   "cell_type": "markdown",
   "id": "e262ab37-460e-4b59-89f2-cbceb30a754b",
   "metadata": {},
   "source": [
    "### Path:"
   ]
  },
  {
   "cell_type": "code",
   "execution_count": null,
   "id": "09962d4c-64b8-47d3-b40a-2acb9e0a0cb1",
   "metadata": {},
   "outputs": [],
   "source": []
  },
  {
   "cell_type": "code",
   "execution_count": 68,
   "id": "0d60c10e-0f95-4ad0-b623-0812ffd1a521",
   "metadata": {},
   "outputs": [],
   "source": [
    "inp = torch.rand(1,3,640,640)"
   ]
  },
  {
   "cell_type": "code",
   "execution_count": 19,
   "id": "1bddf213-1e69-4188-ab9e-5c701ba88acb",
   "metadata": {},
   "outputs": [],
   "source": [
    "out = model1(inp)"
   ]
  },
  {
   "cell_type": "code",
   "execution_count": 20,
   "id": "5b746142-15c5-4006-bd8f-c6d943c80664",
   "metadata": {},
   "outputs": [
    {
     "data": {
      "text/plain": [
       "torch.Size([1, 1000])"
      ]
     },
     "execution_count": 20,
     "metadata": {},
     "output_type": "execute_result"
    }
   ],
   "source": [
    "out.shape"
   ]
  },
  {
   "cell_type": "code",
   "execution_count": 20,
   "id": "2ecd55a2-e99d-459d-8160-87ef39b35a97",
   "metadata": {},
   "outputs": [
    {
     "data": {
      "text/plain": [
       "2850202"
      ]
     },
     "execution_count": 20,
     "metadata": {},
     "output_type": "execute_result"
    }
   ],
   "source": [
    "total_params = sum(p.numel() for p in model1.parameters())\n",
    "total_params"
   ]
  },
  {
   "cell_type": "code",
   "execution_count": 21,
   "id": "f1a39397-1743-4252-963e-6731d31dcf2a",
   "metadata": {},
   "outputs": [],
   "source": [
    "model2 = Model(num_classes=10, residual_connection=True, CSP=True)"
   ]
  },
  {
   "cell_type": "code",
   "execution_count": 22,
   "id": "347bd85f-cd0c-4f45-9c48-18cbf8be36c6",
   "metadata": {},
   "outputs": [],
   "source": [
    "out = model2(inp)"
   ]
  },
  {
   "cell_type": "code",
   "execution_count": 23,
   "id": "acfd71e1-d739-4018-b939-416c4a3b8a1e",
   "metadata": {},
   "outputs": [
    {
     "data": {
      "text/plain": [
       "torch.Size([1, 10])"
      ]
     },
     "execution_count": 23,
     "metadata": {},
     "output_type": "execute_result"
    }
   ],
   "source": [
    "out.shape"
   ]
  },
  {
   "cell_type": "code",
   "execution_count": 24,
   "id": "d418200f-889e-4db8-8581-2f0c8af74498",
   "metadata": {},
   "outputs": [
    {
     "data": {
      "text/plain": [
       "1397338"
      ]
     },
     "execution_count": 24,
     "metadata": {},
     "output_type": "execute_result"
    }
   ],
   "source": [
    "total_params = sum(p.numel() for p in model2.parameters())\n",
    "total_params"
   ]
  },
  {
   "cell_type": "code",
   "execution_count": 25,
   "id": "da742d22-f7b2-4df7-a537-a62484730939",
   "metadata": {},
   "outputs": [],
   "source": [
    "model3 = Model(num_classes=10, residual_connection=True, CSP=True, add_hidden=True)"
   ]
  },
  {
   "cell_type": "code",
   "execution_count": 26,
   "id": "bb7eca49-351a-4447-b40e-174ff5ca2940",
   "metadata": {},
   "outputs": [],
   "source": [
    "out = model3(inp)"
   ]
  },
  {
   "cell_type": "code",
   "execution_count": 27,
   "id": "be02a60f-891a-4116-858d-8166a535517a",
   "metadata": {},
   "outputs": [
    {
     "data": {
      "text/plain": [
       "1451098"
      ]
     },
     "execution_count": 27,
     "metadata": {},
     "output_type": "execute_result"
    }
   ],
   "source": [
    "total_params = sum(p.numel() for p in model3.parameters())\n",
    "total_params"
   ]
  },
  {
   "cell_type": "markdown",
   "id": "e956a50c-47cb-43ab-8b14-baffd76d0abe",
   "metadata": {},
   "source": [
    "## Do the parameters match?"
   ]
  },
  {
   "cell_type": "markdown",
   "id": "9f3fff61-7531-431f-a793-6e12206c33c2",
   "metadata": {},
   "source": [
    "### YOLOv2n-cls"
   ]
  },
  {
   "cell_type": "code",
   "execution_count": 44,
   "id": "e12eb628-49e8-42b1-8674-2e572f51f02c",
   "metadata": {},
   "outputs": [],
   "source": [
    "model1 = Model(residual_connection=True, CSP=True, add_hidden=True, bottleneck=1.0,\n",
    "                 num_classes=1000, variant='n', classifyV8=True, dtype=torch.float32)"
   ]
  },
  {
   "cell_type": "code",
   "execution_count": 45,
   "id": "2c0e8ef3-9918-4444-bf6c-ede549389e4f",
   "metadata": {},
   "outputs": [],
   "source": [
    "reference = torch.load('yolov8n-cls.pt')['model'].model"
   ]
  },
  {
   "cell_type": "code",
   "execution_count": 46,
   "id": "e5f8245b-7326-48e0-8e82-76e07ebe7c66",
   "metadata": {},
   "outputs": [],
   "source": [
    "all_parameters_match = True\n",
    "for i, (p1, p2) in enumerate(zip(model1.parameters(), reference.parameters())):\n",
    "    all_parameters_math = all_parameters_match and p1.shape == p2.shape"
   ]
  },
  {
   "cell_type": "code",
   "execution_count": 47,
   "id": "5c71d70d-031e-4188-be40-45859e5f511a",
   "metadata": {},
   "outputs": [
    {
     "data": {
      "text/plain": [
       "True"
      ]
     },
     "execution_count": 47,
     "metadata": {},
     "output_type": "execute_result"
    }
   ],
   "source": [
    "all_parameters_match"
   ]
  },
  {
   "cell_type": "code",
   "execution_count": 48,
   "id": "618514e6-c606-4aa3-8e76-cd31cf87445d",
   "metadata": {},
   "outputs": [
    {
     "data": {
      "text/plain": [
       "2719288"
      ]
     },
     "execution_count": 48,
     "metadata": {},
     "output_type": "execute_result"
    }
   ],
   "source": [
    "total_params = sum(p.numel() for p in model1.parameters())\n",
    "total_params"
   ]
  },
  {
   "cell_type": "code",
   "execution_count": 49,
   "id": "f6959353-87a1-49a9-a220-23a513344566",
   "metadata": {},
   "outputs": [
    {
     "data": {
      "text/plain": [
       "2719288"
      ]
     },
     "execution_count": 49,
     "metadata": {},
     "output_type": "execute_result"
    }
   ],
   "source": [
    "total_params_reference = sum(p.numel() for p in reference.parameters())\n",
    "total_params_reference"
   ]
  },
  {
   "cell_type": "code",
   "execution_count": 50,
   "id": "9d59f9ea-f237-4765-a45b-36189b372b77",
   "metadata": {},
   "outputs": [
    {
     "data": {
      "text/plain": [
       "True"
      ]
     },
     "execution_count": 50,
     "metadata": {},
     "output_type": "execute_result"
    }
   ],
   "source": [
    "total_params == total_params_reference"
   ]
  },
  {
   "cell_type": "markdown",
   "id": "6358b14c-031a-43f3-ad11-227a5d761355",
   "metadata": {},
   "source": [
    "### YOLOv2s-cls"
   ]
  },
  {
   "cell_type": "code",
   "execution_count": 61,
   "id": "b35c8bc7-1ab2-46df-a9b9-38941d8ada08",
   "metadata": {},
   "outputs": [],
   "source": [
    "reference = torch.load('yolov8s-cls.pt')['model'].model"
   ]
  },
  {
   "cell_type": "code",
   "execution_count": 62,
   "id": "f2d18f56-7db0-4d4f-bfce-bca20af4b9ec",
   "metadata": {},
   "outputs": [],
   "source": [
    "model1 = Model(residual_connection=True, CSP=True, add_hidden=True, bottleneck=1.0,\n",
    "                 num_classes=1000, variant='s', classifyV8=True, dtype=torch.float32)"
   ]
  },
  {
   "cell_type": "code",
   "execution_count": 63,
   "id": "447322e9-cdce-463e-86d3-86505376fa38",
   "metadata": {},
   "outputs": [],
   "source": [
    "all_parameters_match = True\n",
    "for i, (p1, p2) in enumerate(zip(model1.parameters(), reference.parameters())):\n",
    "    all_parameters_math = all_parameters_match and p1.shape == p2.shape"
   ]
  },
  {
   "cell_type": "code",
   "execution_count": 64,
   "id": "6ac9e0e8-229f-48cb-88d2-461c4ef0381b",
   "metadata": {},
   "outputs": [
    {
     "data": {
      "text/plain": [
       "True"
      ]
     },
     "execution_count": 64,
     "metadata": {},
     "output_type": "execute_result"
    }
   ],
   "source": [
    "all_parameters_math"
   ]
  },
  {
   "cell_type": "code",
   "execution_count": 65,
   "id": "141ef846-f15b-48b2-8871-9ddf3d90e25c",
   "metadata": {},
   "outputs": [
    {
     "data": {
      "text/plain": [
       "6361736"
      ]
     },
     "execution_count": 65,
     "metadata": {},
     "output_type": "execute_result"
    }
   ],
   "source": [
    "total_params = sum(p.numel() for p in model1.parameters())\n",
    "total_params"
   ]
  },
  {
   "cell_type": "code",
   "execution_count": 66,
   "id": "c6834dc0-8d0c-4294-87c7-0d3c793b16fb",
   "metadata": {},
   "outputs": [
    {
     "data": {
      "text/plain": [
       "6361736"
      ]
     },
     "execution_count": 66,
     "metadata": {},
     "output_type": "execute_result"
    }
   ],
   "source": [
    "total_params_reference = sum(p.numel() for p in reference.parameters())\n",
    "total_params_reference"
   ]
  },
  {
   "cell_type": "code",
   "execution_count": 69,
   "id": "b7b9947d-d427-4e3e-92af-847b2e3d4d19",
   "metadata": {},
   "outputs": [
    {
     "data": {
      "text/plain": [
       "True"
      ]
     },
     "execution_count": 69,
     "metadata": {},
     "output_type": "execute_result"
    }
   ],
   "source": [
    "total_params == total_params_reference"
   ]
  },
  {
   "cell_type": "code",
   "execution_count": null,
   "id": "0edb5692-e2d2-4d11-880f-c194b0040715",
   "metadata": {},
   "outputs": [],
   "source": []
  }
 ],
 "metadata": {
  "kernelspec": {
   "display_name": "Python 3 (ipykernel)",
   "language": "python",
   "name": "python3"
  },
  "language_info": {
   "codemirror_mode": {
    "name": "ipython",
    "version": 3
   },
   "file_extension": ".py",
   "mimetype": "text/x-python",
   "name": "python",
   "nbconvert_exporter": "python",
   "pygments_lexer": "ipython3",
   "version": "3.12.6"
  }
 },
 "nbformat": 4,
 "nbformat_minor": 5
}
