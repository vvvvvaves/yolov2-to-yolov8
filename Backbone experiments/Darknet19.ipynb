{
 "cells": [
  {
   "cell_type": "code",
   "execution_count": 1,
   "id": "a5258e5c-2fd1-45d6-bf25-96674d504f91",
   "metadata": {},
   "outputs": [],
   "source": [
    "import torch\n",
    "import torch.nn as nn\n",
    "from torchvision import transforms\n",
    "from torch.utils.data import DataLoader\n",
    "from torch import optim"
   ]
  },
  {
   "cell_type": "code",
   "execution_count": 2,
   "id": "c9deb7c5-1256-4fdd-b447-69f25786c0e8",
   "metadata": {},
   "outputs": [],
   "source": [
    "import sys\n",
    "sys.path.insert(1, \"../\")"
   ]
  },
  {
   "cell_type": "code",
   "execution_count": 3,
   "id": "43b63379-9363-448e-b927-2231dbb097b1",
   "metadata": {},
   "outputs": [],
   "source": [
    "from train import *\n",
    "from data_preprocessing import *\n",
    "from Models.darknet19 import *"
   ]
  },
  {
   "cell_type": "code",
   "execution_count": 4,
   "id": "cbdae16b-4251-46a6-865b-bfa81a9a5ea1",
   "metadata": {},
   "outputs": [],
   "source": [
    "if torch.cuda.is_available():\n",
    "    device=torch.device('cuda')\n",
    "else:\n",
    "    device=torch.device('cpu') "
   ]
  },
  {
   "cell_type": "code",
   "execution_count": 5,
   "id": "8fa53c4a-3fb5-4406-9cea-f145fe80399e",
   "metadata": {},
   "outputs": [],
   "source": [
    "model = Darknet19(num_classes=10)"
   ]
  },
  {
   "cell_type": "code",
   "execution_count": 6,
   "id": "ae3c5dd0-ac5d-4cbb-8463-d9ebe0621f3c",
   "metadata": {},
   "outputs": [],
   "source": [
    "data_path = '../../dummy_datasets/'\n",
    "norms_path = os.path.join(data_path, 'norms.json')"
   ]
  },
  {
   "cell_type": "code",
   "execution_count": 7,
   "id": "e608e517-6da7-41c7-b62d-81cca6aecf54",
   "metadata": {},
   "outputs": [
    {
     "name": "stdout",
     "output_type": "stream",
     "text": [
      "Means are: [0.4405549168586731, 0.4407285749912262, 0.4381718039512634]\n",
      "stds are: [0.25142669677734375, 0.25270089507102966, 0.25131651759147644]\n"
     ]
    }
   ],
   "source": [
    "means = get_means(path=norms_path, train_loader=None)\n",
    "stds = get_stds(path=norms_path, train_loader=None)"
   ]
  },
  {
   "cell_type": "code",
   "execution_count": 8,
   "id": "840c3bfd-3f57-4508-9834-fd0c87b7532a",
   "metadata": {},
   "outputs": [],
   "source": [
    "transformations = transforms.Compose([transforms.ToTensor(),\n",
    "                                      transforms.Resize((224, 224)),\n",
    "                                      transforms.Normalize(mean=means, std=stds)])"
   ]
  },
  {
   "cell_type": "code",
   "execution_count": 9,
   "id": "dfaadddf-3f19-4b50-93b4-98cf177980fb",
   "metadata": {},
   "outputs": [],
   "source": [
    "train_dataset = ImageNetSubset(path=data_path, train=True, transform=transformations, half=False, show=False)\n",
    "val_dataset = ImageNetSubset(path=data_path, train=False, transform=transformations, half=False, show=False)"
   ]
  },
  {
   "cell_type": "code",
   "execution_count": 10,
   "id": "a5d356b0-68a7-44f8-bf1b-397f7889dfb9",
   "metadata": {},
   "outputs": [],
   "source": [
    "epochs=3\n",
    "train_loader = DataLoader(train_dataset, batch_size=256, shuffle=True, num_workers=4)\n",
    "val_loader = DataLoader(val_dataset, batch_size=256, shuffle=False, num_workers=4)"
   ]
  },
  {
   "cell_type": "code",
   "execution_count": 11,
   "id": "53e72a95-3140-4c39-afd7-e64d63bd5940",
   "metadata": {},
   "outputs": [],
   "source": [
    "optimizer = optim.SGD(model.parameters(), lr=0.001, momentum=0.9, weight_decay=0.0001)"
   ]
  },
  {
   "cell_type": "code",
   "execution_count": 12,
   "id": "85cc427f-08e2-43c3-a496-6f1c967a2325",
   "metadata": {},
   "outputs": [],
   "source": [
    "loss_fn = nn.NLLLoss()"
   ]
  },
  {
   "cell_type": "code",
   "execution_count": 13,
   "id": "d9efeae0-85c6-42a3-9006-f1f7de738641",
   "metadata": {},
   "outputs": [],
   "source": [
    "prof = torch.profiler.profile(\n",
    "        # schedule=torch.profiler.schedule(wait=0, warmup=0, active=1, repeat=1),\n",
    "        on_trace_ready=torch.profiler.tensorboard_trace_handler('./log/darknet19'),\n",
    "        record_shapes=True,\n",
    "        profile_memory=True,\n",
    "        with_flops=True,\n",
    "        with_modules=True,\n",
    "        with_stack=True)"
   ]
  },
  {
   "cell_type": "markdown",
   "id": "d9c4a012-f83a-495c-929b-939db6549642",
   "metadata": {},
   "source": [
    "\n",
    "Profiling your personal module \n",
    "https://pytorch.org/tutorials/beginner/profiler.html"
   ]
  },
  {
   "cell_type": "code",
   "execution_count": 14,
   "id": "a40a8174-7e18-43aa-83fd-41a98bf6ea0b",
   "metadata": {},
   "outputs": [
    {
     "name": "stdout",
     "output_type": "stream",
     "text": [
      "2024-11-16 18:25:15.257475 Epoch 1: \n",
      "2024-11-16 18:25:21.629539 Batch 1: \n",
      "torch.Size([30, 10, 1, 1])\n",
      "torch.Size([30, 10])\n",
      "[Train] Accuracy: 13.3333, Loss per batch: 2.2849\n",
      "2024-11-16 18:25:33.310796 Batch 1: \n",
      "torch.Size([256, 10, 1, 1])\n",
      "torch.Size([256, 10])\n",
      "2024-11-16 18:25:44.577420 Batch 2: \n",
      "torch.Size([244, 10, 1, 1])\n",
      "torch.Size([244, 10])\n",
      "[Val] Accuracy: 10.0%, loss per batch: 2.3026\n",
      "2024-11-16 18:25:55.961150 Epoch 2: \n",
      "2024-11-16 18:26:04.550771 Batch 1: \n",
      "torch.Size([30, 10, 1, 1])\n",
      "torch.Size([30, 10])\n",
      "[Train] Accuracy: 23.3333, Loss per batch: 2.2079\n",
      "2024-11-16 18:26:16.975491 Batch 1: \n",
      "torch.Size([256, 10, 1, 1])\n",
      "torch.Size([256, 10])\n",
      "2024-11-16 18:26:26.980195 Batch 2: \n",
      "torch.Size([244, 10, 1, 1])\n",
      "torch.Size([244, 10])\n",
      "[Val] Accuracy: 10.0%, loss per batch: 2.3027\n",
      "2024-11-16 18:26:39.092225 Epoch 3: \n",
      "2024-11-16 18:26:45.962882 Batch 1: \n",
      "torch.Size([30, 10, 1, 1])\n",
      "torch.Size([30, 10])\n",
      "[Train] Accuracy: 40.0, Loss per batch: 2.0945\n",
      "2024-11-16 18:26:59.123262 Batch 1: \n",
      "torch.Size([256, 10, 1, 1])\n",
      "torch.Size([256, 10])\n",
      "2024-11-16 18:27:09.713768 Batch 2: \n",
      "torch.Size([244, 10, 1, 1])\n",
      "torch.Size([244, 10])\n",
      "[Val] Accuracy: 10.0%, loss per batch: 2.3028\n"
     ]
    }
   ],
   "source": [
    "darknet_history, darknet_gradient_stats, prof = train(epochs, train_loader, val_loader, model, optimizer, loss_fn, prof)"
   ]
  },
  {
   "cell_type": "code",
   "execution_count": 40,
   "id": "7085e540-7f7f-45fe-a6d2-0331f242a584",
   "metadata": {},
   "outputs": [
    {
     "name": "stdout",
     "output_type": "stream",
     "text": [
      "<torch.profiler.profiler.profile object at 0x00000241AC07F920>\n"
     ]
    }
   ],
   "source": [
    "print(prof)"
   ]
  },
  {
   "cell_type": "markdown",
   "id": "1826fb63-f1e9-4b4e-9bf6-6b061b127c33",
   "metadata": {},
   "source": [
    "## Inference time\n",
    "## Training time"
   ]
  },
  {
   "cell_type": "code",
   "execution_count": 14,
   "id": "0c74c18e-ac17-4de9-a2a4-4787cb14017d",
   "metadata": {},
   "outputs": [],
   "source": [
    "img = train_dataset[0][0].unsqueeze(0)"
   ]
  },
  {
   "cell_type": "markdown",
   "id": "d911f2bc-5931-4d83-b1f9-fb9239cc86f1",
   "metadata": {},
   "source": [
    "From YOLOv2 paper: Darknet-19 only requires 5.58 billion operations"
   ]
  },
  {
   "cell_type": "code",
   "execution_count": 34,
   "id": "d2426ee4-b05b-47a4-8824-f1f603966f87",
   "metadata": {},
   "outputs": [
    {
     "name": "stdout",
     "output_type": "stream",
     "text": [
      "---------------------------------  ------------  ------------  ------------  ------------  ------------  ------------  ------------  ------------  ------------  \n",
      "                             Name    Self CPU %      Self CPU   CPU total %     CPU total  CPU time avg       CPU Mem  Self CPU Mem    # of Calls  Total GFLOPs  \n",
      "---------------------------------  ------------  ------------  ------------  ------------  ------------  ------------  ------------  ------------  ------------  \n",
      "                       Conv block         6.79%       7.276ms        85.61%      91.696ms       5.094ms      51.73 Mb           0 b            18            --  \n",
      "                     aten::conv2d         0.17%     184.700us        62.52%      66.961ms       3.524ms      17.23 Mb           0 b            19         5.483  \n",
      "                aten::convolution         0.44%     469.900us        62.35%      66.776ms       3.515ms      17.23 Mb           0 b            19            --  \n",
      "               aten::_convolution         0.32%     346.700us        61.91%      66.306ms       3.490ms      17.23 Mb           0 b            19            --  \n",
      "         aten::mkldnn_convolution        61.15%      65.493ms        61.58%      65.960ms       3.472ms      17.23 Mb           0 b            19            --  \n",
      "                      aten::empty         0.60%     640.700us         0.60%     640.700us       3.520us      34.62 Mb      34.62 Mb           182            --  \n",
      "                aten::as_strided_         0.11%     121.300us         0.11%     121.300us       6.384us           0 b           0 b            19            --  \n",
      "                    aten::resize_         0.03%      33.200us         0.03%      33.200us       1.747us           0 b           0 b            19            --  \n",
      "                       aten::add_         0.28%     303.900us         0.28%     303.900us      16.883us           0 b           0 b            18            --  \n",
      "                 aten::batch_norm         0.12%     127.000us        11.74%      12.571ms     698.372us      17.28 Mb           0 b            18            --  \n",
      "     aten::_batch_norm_impl_index         0.25%     269.100us        11.62%      12.444ms     691.317us      17.28 Mb           0 b            18            --  \n",
      "          aten::native_batch_norm        10.97%      11.749ms        11.33%      12.137ms     674.294us      17.28 Mb    -112.50 Kb            18            --  \n",
      "                 aten::empty_like         0.09%      96.600us         0.19%     204.300us      11.350us      17.23 Mb           0 b            18            --  \n",
      "                 aten::leaky_relu         4.45%       4.768ms         4.45%       4.768ms     264.900us      17.23 Mb      17.23 Mb            18            --  \n",
      "                      Max pooling         0.96%       1.025ms        13.93%      14.923ms       2.985ms       8.90 Mb           0 b             5            --  \n",
      "                 aten::max_pool2d         0.05%      53.100us        12.98%      13.898ms       2.780ms       8.90 Mb           0 b             5            --  \n",
      "    aten::max_pool2d_with_indices        12.93%      13.845ms        12.93%      13.845ms       2.769ms       8.90 Mb       8.90 Mb             5            --  \n",
      "         Adaptive Average Pooling         0.09%      96.400us         0.15%     161.900us     161.900us      -1.88 Kb      -1.91 Kb             1            --  \n",
      "        aten::adaptive_avg_pool2d         0.00%       3.900us         0.06%      65.500us      65.500us          40 b           0 b             1            --  \n",
      "                       aten::mean         0.01%      14.800us         0.06%      61.600us      61.600us          40 b          40 b             1            --  \n",
      "                        aten::sum         0.01%      11.100us         0.01%      14.600us      14.600us           0 b           0 b             1            --  \n",
      "                      aten::fill_         0.00%       3.500us         0.00%       3.500us       3.500us           0 b           0 b             1            --  \n",
      "                       aten::div_         0.01%      12.900us         0.03%      32.200us      32.200us           0 b          -4 b             1            --  \n",
      "                         aten::to         0.00%       2.900us         0.02%      19.300us      19.300us           4 b           0 b             1            --  \n",
      "                   aten::_to_copy         0.01%       9.000us         0.02%      16.400us      16.400us           4 b           0 b             1            --  \n",
      "              aten::empty_strided         0.00%       2.500us         0.00%       2.500us       2.500us           4 b           4 b             1            --  \n",
      "                      aten::copy_         0.00%       4.900us         0.00%       4.900us       4.900us           0 b           0 b             1            --  \n",
      "                          Flatten         0.04%      45.400us         0.06%      60.500us      60.500us           0 b           0 b             1            --  \n",
      "                    aten::flatten         0.00%       4.200us         0.01%      15.100us      15.100us           0 b           0 b             1            --  \n",
      "                       aten::view         0.01%      10.900us         0.01%      10.900us      10.900us           0 b           0 b             1            --  \n",
      "                      Log Softmax         0.06%      64.400us         0.07%      80.100us      80.100us           0 b         -40 b             1            --  \n",
      "                aten::log_softmax         0.00%       3.800us         0.01%      15.700us      15.700us          40 b           0 b             1            --  \n",
      "               aten::_log_softmax         0.01%      11.900us         0.01%      11.900us      11.900us          40 b          40 b             1            --  \n",
      "                         [memory]         0.00%       0.000us         0.00%       0.000us       0.000us     -60.64 Mb     -60.64 Mb           101            --  \n",
      "---------------------------------  ------------  ------------  ------------  ------------  ------------  ------------  ------------  ------------  ------------  \n",
      "Self CPU time total: 107.105ms\n",
      "\n"
     ]
    }
   ],
   "source": [
    "with torch.autograd.profiler.profile(use_device='cpu',\n",
    "                                    record_shapes=True,\n",
    "                                    profile_memory=True,\n",
    "                                    with_flops=True,\n",
    "                                    with_modules=True,\n",
    "                                    with_stack=True) as prof:\n",
    "   out = model(img)\n",
    "print(prof.key_averages().table(row_limit=-1))"
   ]
  },
  {
   "cell_type": "code",
   "execution_count": 19,
   "id": "c250d5c8-4b7d-4566-870d-c40703525cde",
   "metadata": {},
   "outputs": [
    {
     "data": {
      "text/plain": [
       "99.77000000000001"
      ]
     },
     "execution_count": 19,
     "metadata": {},
     "output_type": "execute_result"
    }
   ],
   "source": [
    "85.45+14.01+0.17+0.06+0.08"
   ]
  },
  {
   "cell_type": "code",
   "execution_count": 27,
   "id": "c98afbe5-b091-4c23-b8d4-736d51e7d935",
   "metadata": {},
   "outputs": [
    {
     "data": {
      "text/plain": [
       "103.8442"
      ]
     },
     "execution_count": 27,
     "metadata": {},
     "output_type": "execute_result"
    }
   ],
   "source": [
    "88.930+14.583+0.180900+0.062100+0.088200 # CPU Total (time, ms)"
   ]
  },
  {
   "cell_type": "code",
   "execution_count": 30,
   "id": "ef2009b9-af57-47d1-b579-e288e9983639",
   "metadata": {},
   "outputs": [
    {
     "data": {
      "text/plain": [
       "103.8326344"
      ]
     },
     "execution_count": 30,
     "metadata": {},
     "output_type": "execute_result"
    }
   ],
   "source": [
    "104.072*0.9977 # CPU Total % is the same thing as CPU Total, just in relative values"
   ]
  },
  {
   "cell_type": "code",
   "execution_count": 26,
   "id": "9bbf55cd-a5c3-40b2-a0f2-011cbb50fc27",
   "metadata": {},
   "outputs": [
    {
     "data": {
      "text/plain": [
       "5.483"
      ]
     },
     "execution_count": 26,
     "metadata": {},
     "output_type": "execute_result"
    }
   ],
   "source": [
    "5.483 #GFLOPS"
   ]
  },
  {
   "cell_type": "markdown",
   "id": "afc27a8d-5036-4ad1-b706-8ef98fff15bc",
   "metadata": {},
   "source": [
    "Conclusion: my decorated functions can account for 99.77% of operations that are happening during inference. There are marginal inaccuracies in CPU Total % and CPU Total but those are insignificant. GFLOPs counted by the profiler almost matches the one that was mentioned in the original paper. In the paper it was 5.58GFLOPs, the profiler states that my implementation takes 5.48GFLOPs"
   ]
  },
  {
   "cell_type": "code",
   "execution_count": 45,
   "id": "6f323675-6281-488d-ad17-b281d1893688",
   "metadata": {},
   "outputs": [],
   "source": [
    "from torch.profiler import profile, record_function, ProfilerActivity"
   ]
  },
  {
   "cell_type": "markdown",
   "id": "5de4a4ff-436b-45ac-aad4-0fd9c5eb42f5",
   "metadata": {},
   "source": [
    "Conclusion:\n",
    "- I can record how much time and memory every operation took\n",
    "- Which means I can find computational bottlenecks\n",
    "- Using tensor boards, I can look up how much time was the memory allocated by every operation\n",
    "- I can write my own operators, I think\n",
    "- I do not need to rewrite DataLoader, as it basically occupies no time or memory"
   ]
  },
  {
   "cell_type": "code",
   "execution_count": 48,
   "id": "3058fc42-4a84-4169-9fb4-f8ba02db6808",
   "metadata": {},
   "outputs": [],
   "source": [
    "with profile(activities=[ProfilerActivity.CPU], record_shapes=True, profile_memory=True) as prof:\n",
    "    with record_function(\"model_inference\"):\n",
    "        model(img)"
   ]
  },
  {
   "cell_type": "code",
   "execution_count": 54,
   "id": "a5919c8e-45a8-434b-920b-92ed7c6e2eff",
   "metadata": {},
   "outputs": [
    {
     "name": "stdout",
     "output_type": "stream",
     "text": [
      "---------------------------------  ------------  ------------  ------------  ------------  ------------  ------------  ------------  ------------  \n",
      "                             Name    Self CPU %      Self CPU   CPU total %     CPU total  CPU time avg       CPU Mem  Self CPU Mem    # of Calls  \n",
      "---------------------------------  ------------  ------------  ------------  ------------  ------------  ------------  ------------  ------------  \n",
      "                  model_inference         4.18%       4.529ms       100.00%     108.450ms     108.450ms           0 b     -60.64 Mb             1  \n",
      "                     aten::conv2d         0.15%     166.100us        68.60%      74.399ms       3.916ms      17.23 Mb           0 b            19  \n",
      "                aten::convolution         0.54%     589.100us        68.45%      74.233ms       3.907ms      17.23 Mb           0 b            19  \n",
      "               aten::_convolution         0.31%     334.000us        67.91%      73.644ms       3.876ms      17.23 Mb           0 b            19  \n",
      "         aten::mkldnn_convolution        67.15%      72.821ms        67.60%      73.310ms       3.858ms      17.23 Mb           0 b            19  \n",
      "                      aten::empty         0.60%     655.700us         0.60%     655.700us       3.603us      34.62 Mb      34.62 Mb           182  \n",
      "                aten::as_strided_         0.12%     129.600us         0.12%     129.600us       6.821us           0 b           0 b            19  \n",
      "                    aten::resize_         0.04%      43.500us         0.04%      43.500us       2.289us           0 b           0 b            19  \n",
      "                       aten::add_         0.30%     322.300us         0.30%     322.300us      17.906us           0 b           0 b            18  \n",
      "                 aten::batch_norm         0.08%      88.700us        10.19%      11.054ms     614.100us      17.28 Mb           0 b            18  \n",
      "     aten::_batch_norm_impl_index         0.21%     229.300us        10.11%      10.965ms     609.172us      17.28 Mb           0 b            18  \n",
      "          aten::native_batch_norm         9.50%      10.306ms         9.87%      10.704ms     594.678us      17.28 Mb    -112.50 Kb            18  \n",
      "                 aten::empty_like         0.08%      90.600us         0.15%     166.100us       9.228us      17.23 Mb           0 b            18  \n",
      "                 aten::leaky_relu         4.02%       4.361ms         4.02%       4.361ms     242.300us      17.23 Mb      17.23 Mb            18  \n",
      "                 aten::max_pool2d         0.06%      67.000us        12.66%      13.726ms       2.745ms       8.90 Mb           0 b             5  \n",
      "    aten::max_pool2d_with_indices        12.59%      13.659ms        12.59%      13.659ms       2.732ms       8.90 Mb       8.90 Mb             5  \n",
      "                 aten::avg_pool2d         0.02%      19.300us         0.02%      19.300us      19.300us          40 b          40 b             1  \n",
      "                       aten::view         0.01%      14.900us         0.01%      14.900us      14.900us           0 b           0 b             1  \n",
      "                aten::log_softmax         0.01%       5.500us         0.02%      23.800us      23.800us          40 b           0 b             1  \n",
      "               aten::_log_softmax         0.02%      18.300us         0.02%      18.300us      18.300us          40 b          40 b             1  \n",
      "---------------------------------  ------------  ------------  ------------  ------------  ------------  ------------  ------------  ------------  \n",
      "Self CPU time total: 108.450ms\n",
      "\n"
     ]
    }
   ],
   "source": [
    "print(prof.key_averages().table())"
   ]
  },
  {
   "cell_type": "code",
   "execution_count": 57,
   "id": "3eeec415-ca86-40db-8a4d-ec1e65398190",
   "metadata": {},
   "outputs": [
    {
     "data": {
      "text/plain": [
       "<FunctionEventAvg key=aten::conv2d self_cpu_time=143.900us cpu_time=3.958ms  self_cuda_time=0.000us cuda_time=0.000us input_shapes= cpu_memory_usage=18065320 cuda_memory_usage=0>"
      ]
     },
     "execution_count": 57,
     "metadata": {},
     "output_type": "execute_result"
    }
   ],
   "source": [
    "prof.key_averages()[0]"
   ]
  },
  {
   "cell_type": "markdown",
   "id": "08a91788-22f4-417c-8f29-5c1bfeedf41a",
   "metadata": {},
   "source": [
    "There is also cuda_memory_usage, so I can measure cuda memory and time as well"
   ]
  }
 ],
 "metadata": {
  "kernelspec": {
   "display_name": "Python 3 (ipykernel)",
   "language": "python",
   "name": "python3"
  },
  "language_info": {
   "codemirror_mode": {
    "name": "ipython",
    "version": 3
   },
   "file_extension": ".py",
   "mimetype": "text/x-python",
   "name": "python",
   "nbconvert_exporter": "python",
   "pygments_lexer": "ipython3",
   "version": "3.12.6"
  }
 },
 "nbformat": 4,
 "nbformat_minor": 5
}
