{
 "cells": [
  {
   "cell_type": "code",
   "execution_count": 14,
   "id": "a5258e5c-2fd1-45d6-bf25-96674d504f91",
   "metadata": {},
   "outputs": [],
   "source": [
    "import torch\n",
    "import torch.nn as nn\n",
    "from torchvision import transforms\n",
    "from torch.utils.data import DataLoader\n",
    "from torch import optim"
   ]
  },
  {
   "cell_type": "code",
   "execution_count": 15,
   "id": "c9deb7c5-1256-4fdd-b447-69f25786c0e8",
   "metadata": {},
   "outputs": [],
   "source": [
    "import sys\n",
    "sys.path.insert(1, \"../\")"
   ]
  },
  {
   "cell_type": "code",
   "execution_count": 16,
   "id": "43b63379-9363-448e-b927-2231dbb097b1",
   "metadata": {},
   "outputs": [],
   "source": [
    "from train import *\n",
    "from data_preprocessing import *\n",
    "from Models.darknet19 import *"
   ]
  },
  {
   "cell_type": "code",
   "execution_count": 17,
   "id": "cbdae16b-4251-46a6-865b-bfa81a9a5ea1",
   "metadata": {},
   "outputs": [],
   "source": [
    "if torch.cuda.is_available():\n",
    "    device=torch.device('cuda')\n",
    "else:\n",
    "    device=torch.device('cpu') "
   ]
  },
  {
   "cell_type": "code",
   "execution_count": 18,
   "id": "8fa53c4a-3fb5-4406-9cea-f145fe80399e",
   "metadata": {},
   "outputs": [],
   "source": [
    "model = Darknet19(num_classes=10)"
   ]
  },
  {
   "cell_type": "code",
   "execution_count": 19,
   "id": "ae3c5dd0-ac5d-4cbb-8463-d9ebe0621f3c",
   "metadata": {},
   "outputs": [],
   "source": [
    "data_path = '../../dummy_datasets/'\n",
    "norms_path = os.path.join(data_path, 'norms.json')"
   ]
  },
  {
   "cell_type": "code",
   "execution_count": 20,
   "id": "e608e517-6da7-41c7-b62d-81cca6aecf54",
   "metadata": {},
   "outputs": [
    {
     "name": "stdout",
     "output_type": "stream",
     "text": [
      "Means are: [0.4405549168586731, 0.4407285749912262, 0.4381718039512634]\n",
      "stds are: [0.25142669677734375, 0.25270089507102966, 0.25131651759147644]\n"
     ]
    }
   ],
   "source": [
    "means = get_means(path=norms_path, train_loader=None)\n",
    "stds = get_stds(path=norms_path, train_loader=None)"
   ]
  },
  {
   "cell_type": "code",
   "execution_count": 21,
   "id": "840c3bfd-3f57-4508-9834-fd0c87b7532a",
   "metadata": {},
   "outputs": [],
   "source": [
    "transformations = transforms.Compose([transforms.ToTensor(),\n",
    "                                      transforms.Resize((224, 224)),\n",
    "                                      transforms.Normalize(mean=means, std=stds)])"
   ]
  },
  {
   "cell_type": "code",
   "execution_count": 22,
   "id": "dfaadddf-3f19-4b50-93b4-98cf177980fb",
   "metadata": {},
   "outputs": [],
   "source": [
    "train_dataset = ImageNetSubset(path=data_path, train=True, transform=transformations, half=False, show=False)\n",
    "val_dataset = ImageNetSubset(path=data_path, train=False, transform=transformations, half=False, show=False)"
   ]
  },
  {
   "cell_type": "code",
   "execution_count": 23,
   "id": "a5d356b0-68a7-44f8-bf1b-397f7889dfb9",
   "metadata": {},
   "outputs": [],
   "source": [
    "epochs=10\n",
    "train_loader = DataLoader(train_dataset, batch_size=256, shuffle=True, num_workers=4)\n",
    "val_loader = DataLoader(val_dataset, batch_size=256, shuffle=False, num_workers=4)"
   ]
  },
  {
   "cell_type": "code",
   "execution_count": 24,
   "id": "53e72a95-3140-4c39-afd7-e64d63bd5940",
   "metadata": {},
   "outputs": [],
   "source": [
    "optimizer = optim.SGD(model.parameters(), lr=0.001, momentum=0.9, weight_decay=0.0001)"
   ]
  },
  {
   "cell_type": "code",
   "execution_count": 25,
   "id": "85cc427f-08e2-43c3-a496-6f1c967a2325",
   "metadata": {},
   "outputs": [],
   "source": [
    "loss_fn = nn.NLLLoss()"
   ]
  },
  {
   "cell_type": "code",
   "execution_count": 13,
   "id": "a40a8174-7e18-43aa-83fd-41a98bf6ea0b",
   "metadata": {},
   "outputs": [
    {
     "name": "stdout",
     "output_type": "stream",
     "text": [
      "2024-11-15 15:32:20.678039 Epoch 1: \n",
      "2024-11-15 15:32:27.769869 Batch 1: \n",
      "[Train] Accuracy: 3.3333, Loss per batch: 2.3073\n",
      "2024-11-15 15:32:40.186194 Batch 1: \n",
      "2024-11-15 15:32:53.185183 Batch 2: \n",
      "[Val] Accuracy: 10.0%, loss per batch: 2.3026\n"
     ]
    },
    {
     "ename": "ValueError",
     "evalue": "cannot set a row with mismatched columns",
     "output_type": "error",
     "traceback": [
      "\u001b[1;31m---------------------------------------------------------------------------\u001b[0m",
      "\u001b[1;31mValueError\u001b[0m                                Traceback (most recent call last)",
      "Cell \u001b[1;32mIn[13], line 1\u001b[0m\n\u001b[1;32m----> 1\u001b[0m darknet_history, darknet_gradient_stats \u001b[38;5;241m=\u001b[39m \u001b[43mtrain\u001b[49m\u001b[43m(\u001b[49m\u001b[43mepochs\u001b[49m\u001b[43m,\u001b[49m\u001b[43m \u001b[49m\u001b[43mtrain_loader\u001b[49m\u001b[43m,\u001b[49m\u001b[43m \u001b[49m\u001b[43mval_loader\u001b[49m\u001b[43m,\u001b[49m\u001b[43m \u001b[49m\u001b[43mmodel\u001b[49m\u001b[43m,\u001b[49m\u001b[43m \u001b[49m\u001b[43moptimizer\u001b[49m\u001b[43m,\u001b[49m\u001b[43m \u001b[49m\u001b[43mloss_fn\u001b[49m\u001b[43m)\u001b[49m\n",
      "File \u001b[1;32mC:\\Me\\PJAIT\\Thesis\\Code\\yolov2-to-yolov8\\Backbone experiments\\..\\train.py:36\u001b[0m, in \u001b[0;36mtrain\u001b[1;34m(epochs, train_loader, val_loader, model, optimizer, loss_fn)\u001b[0m\n\u001b[0;32m     33\u001b[0m     val_accuracy, val_loss \u001b[38;5;241m=\u001b[39m validation_loop(model, val_loader, loss_fn)\n\u001b[0;32m     34\u001b[0m     _gradient_stats \u001b[38;5;241m=\u001b[39m get_gradient_stats(model)\n\u001b[1;32m---> 36\u001b[0m     \u001b[43mhistory\u001b[49m\u001b[38;5;241;43m.\u001b[39;49m\u001b[43mloc\u001b[49m\u001b[43m[\u001b[49m\u001b[43mepoch\u001b[49m\u001b[43m \u001b[49m\u001b[38;5;241;43m-\u001b[39;49m\u001b[43m \u001b[49m\u001b[38;5;241;43m1\u001b[39;49m\u001b[43m]\u001b[49m \u001b[38;5;241m=\u001b[39m [_datetime, epoch, train_accuracy, train_loss, val_accuracy, val_loss]\n\u001b[0;32m     37\u001b[0m     gradient_stats\u001b[38;5;241m.\u001b[39mappend(_gradient_stats)\n\u001b[0;32m     39\u001b[0m \u001b[38;5;66;03m#    result = {'stats': [_datetime, epoch] + stats,\u001b[39;00m\n\u001b[0;32m     40\u001b[0m \u001b[38;5;66;03m#              'model': model.state_dict()}\u001b[39;00m\n\u001b[0;32m     41\u001b[0m \n\u001b[0;32m     42\u001b[0m \u001b[38;5;66;03m#    torch.save(result, f\"./result_e{epoch}.pt\")\u001b[39;00m\n",
      "File \u001b[1;32m~\\AppData\\Local\\Programs\\Python\\Python312\\Lib\\site-packages\\pandas\\core\\indexing.py:911\u001b[0m, in \u001b[0;36m_LocationIndexer.__setitem__\u001b[1;34m(self, key, value)\u001b[0m\n\u001b[0;32m    908\u001b[0m \u001b[38;5;28mself\u001b[39m\u001b[38;5;241m.\u001b[39m_has_valid_setitem_indexer(key)\n\u001b[0;32m    910\u001b[0m iloc \u001b[38;5;241m=\u001b[39m \u001b[38;5;28mself\u001b[39m \u001b[38;5;28;01mif\u001b[39;00m \u001b[38;5;28mself\u001b[39m\u001b[38;5;241m.\u001b[39mname \u001b[38;5;241m==\u001b[39m \u001b[38;5;124m\"\u001b[39m\u001b[38;5;124miloc\u001b[39m\u001b[38;5;124m\"\u001b[39m \u001b[38;5;28;01melse\u001b[39;00m \u001b[38;5;28mself\u001b[39m\u001b[38;5;241m.\u001b[39mobj\u001b[38;5;241m.\u001b[39miloc\n\u001b[1;32m--> 911\u001b[0m \u001b[43miloc\u001b[49m\u001b[38;5;241;43m.\u001b[39;49m\u001b[43m_setitem_with_indexer\u001b[49m\u001b[43m(\u001b[49m\u001b[43mindexer\u001b[49m\u001b[43m,\u001b[49m\u001b[43m \u001b[49m\u001b[43mvalue\u001b[49m\u001b[43m,\u001b[49m\u001b[43m \u001b[49m\u001b[38;5;28;43mself\u001b[39;49m\u001b[38;5;241;43m.\u001b[39;49m\u001b[43mname\u001b[49m\u001b[43m)\u001b[49m\n",
      "File \u001b[1;32m~\\AppData\\Local\\Programs\\Python\\Python312\\Lib\\site-packages\\pandas\\core\\indexing.py:1932\u001b[0m, in \u001b[0;36m_iLocIndexer._setitem_with_indexer\u001b[1;34m(self, indexer, value, name)\u001b[0m\n\u001b[0;32m   1929\u001b[0m     indexer, missing \u001b[38;5;241m=\u001b[39m convert_missing_indexer(indexer)\n\u001b[0;32m   1931\u001b[0m     \u001b[38;5;28;01mif\u001b[39;00m missing:\n\u001b[1;32m-> 1932\u001b[0m         \u001b[38;5;28;43mself\u001b[39;49m\u001b[38;5;241;43m.\u001b[39;49m\u001b[43m_setitem_with_indexer_missing\u001b[49m\u001b[43m(\u001b[49m\u001b[43mindexer\u001b[49m\u001b[43m,\u001b[49m\u001b[43m \u001b[49m\u001b[43mvalue\u001b[49m\u001b[43m)\u001b[49m\n\u001b[0;32m   1933\u001b[0m         \u001b[38;5;28;01mreturn\u001b[39;00m\n\u001b[0;32m   1935\u001b[0m \u001b[38;5;28;01mif\u001b[39;00m name \u001b[38;5;241m==\u001b[39m \u001b[38;5;124m\"\u001b[39m\u001b[38;5;124mloc\u001b[39m\u001b[38;5;124m\"\u001b[39m:\n\u001b[0;32m   1936\u001b[0m     \u001b[38;5;66;03m# must come after setting of missing\u001b[39;00m\n",
      "File \u001b[1;32m~\\AppData\\Local\\Programs\\Python\\Python312\\Lib\\site-packages\\pandas\\core\\indexing.py:2306\u001b[0m, in \u001b[0;36m_iLocIndexer._setitem_with_indexer_missing\u001b[1;34m(self, indexer, value)\u001b[0m\n\u001b[0;32m   2303\u001b[0m     \u001b[38;5;28;01mif\u001b[39;00m is_list_like_indexer(value):\n\u001b[0;32m   2304\u001b[0m         \u001b[38;5;66;03m# must have conforming columns\u001b[39;00m\n\u001b[0;32m   2305\u001b[0m         \u001b[38;5;28;01mif\u001b[39;00m \u001b[38;5;28mlen\u001b[39m(value) \u001b[38;5;241m!=\u001b[39m \u001b[38;5;28mlen\u001b[39m(\u001b[38;5;28mself\u001b[39m\u001b[38;5;241m.\u001b[39mobj\u001b[38;5;241m.\u001b[39mcolumns):\n\u001b[1;32m-> 2306\u001b[0m             \u001b[38;5;28;01mraise\u001b[39;00m \u001b[38;5;167;01mValueError\u001b[39;00m(\u001b[38;5;124m\"\u001b[39m\u001b[38;5;124mcannot set a row with mismatched columns\u001b[39m\u001b[38;5;124m\"\u001b[39m)\n\u001b[0;32m   2308\u001b[0m     value \u001b[38;5;241m=\u001b[39m Series(value, index\u001b[38;5;241m=\u001b[39m\u001b[38;5;28mself\u001b[39m\u001b[38;5;241m.\u001b[39mobj\u001b[38;5;241m.\u001b[39mcolumns, name\u001b[38;5;241m=\u001b[39mindexer)\n\u001b[0;32m   2310\u001b[0m \u001b[38;5;28;01mif\u001b[39;00m \u001b[38;5;129;01mnot\u001b[39;00m \u001b[38;5;28mlen\u001b[39m(\u001b[38;5;28mself\u001b[39m\u001b[38;5;241m.\u001b[39mobj):\n\u001b[0;32m   2311\u001b[0m     \u001b[38;5;66;03m# We will ignore the existing dtypes instead of using\u001b[39;00m\n\u001b[0;32m   2312\u001b[0m     \u001b[38;5;66;03m#  internals.concat logic\u001b[39;00m\n",
      "\u001b[1;31mValueError\u001b[0m: cannot set a row with mismatched columns"
     ]
    }
   ],
   "source": [
    "darknet_history, darknet_gradient_stats = train(epochs, train_loader, val_loader, model, optimizer, loss_fn)"
   ]
  },
  {
   "cell_type": "markdown",
   "id": "1826fb63-f1e9-4b4e-9bf6-6b061b127c33",
   "metadata": {},
   "source": [
    "## Inference time\n",
    "## Training time"
   ]
  },
  {
   "cell_type": "code",
   "execution_count": 33,
   "id": "0c74c18e-ac17-4de9-a2a4-4787cb14017d",
   "metadata": {},
   "outputs": [],
   "source": [
    "img = train_dataset[0][0].unsqueeze(0)"
   ]
  },
  {
   "cell_type": "code",
   "execution_count": 55,
   "id": "d2426ee4-b05b-47a4-8824-f1f603966f87",
   "metadata": {},
   "outputs": [
    {
     "name": "stdout",
     "output_type": "stream",
     "text": [
      "---------------------------------  ------------  ------------  ------------  ------------  ------------  ------------  ------------  ------------  \n",
      "                             Name    Self CPU %      Self CPU   CPU total %     CPU total  CPU time avg       CPU Mem  Self CPU Mem    # of Calls  \n",
      "---------------------------------  ------------  ------------  ------------  ------------  ------------  ------------  ------------  ------------  \n",
      "                     aten::conv2d         0.02%      18.100us        11.81%      11.774ms      11.774ms       6.12 Mb           0 b             1  \n",
      "                aten::convolution         0.07%      65.800us        11.80%      11.755ms      11.755ms       6.12 Mb           0 b             1  \n",
      "               aten::_convolution         0.03%      31.200us        11.73%      11.690ms      11.690ms       6.12 Mb           0 b             1  \n",
      "         aten::mkldnn_convolution        11.65%      11.605ms        11.70%      11.659ms      11.659ms       6.12 Mb           0 b             1  \n",
      "                      aten::empty         0.01%      13.200us         0.01%      13.200us      13.200us           0 b           0 b             1  \n",
      "                      aten::empty         0.02%      18.400us         0.02%      18.400us      18.400us       6.12 Mb       6.12 Mb             1  \n",
      "                aten::as_strided_         0.02%      17.500us         0.02%      17.500us      17.500us           0 b           0 b             1  \n",
      "                    aten::resize_         0.00%       3.900us         0.00%       3.900us       3.900us           0 b           0 b             1  \n",
      "                         [memory]         0.00%       0.000us         0.00%       0.000us       0.000us           8 b           8 b             1  \n",
      "                       aten::add_         0.03%      30.700us         0.03%      30.700us      30.700us           0 b           0 b             1  \n",
      "                         [memory]         0.00%       0.000us         0.00%       0.000us       0.000us          -8 b          -8 b             1  \n",
      "                 aten::batch_norm         0.01%       7.100us         3.53%       3.521ms       3.521ms       6.13 Mb           0 b             1  \n",
      "     aten::_batch_norm_impl_index         0.02%      18.700us         3.53%       3.514ms       3.514ms       6.13 Mb           0 b             1  \n",
      "                      aten::empty         0.00%       4.800us         0.00%       4.800us       4.800us           0 b           0 b             1  \n",
      "          aten::native_batch_norm         3.44%       3.432ms         3.50%       3.490ms       3.490ms       6.13 Mb        -512 b             1  \n",
      "                 aten::empty_like         0.00%       4.400us         0.04%      44.000us      44.000us       6.12 Mb           0 b             1  \n",
      "                      aten::empty         0.04%      39.600us         0.04%      39.600us      39.600us       6.12 Mb       6.12 Mb             1  \n",
      "                      aten::empty         0.00%       2.600us         0.00%       2.600us       2.600us         128 b         128 b             1  \n",
      "                      aten::empty         0.00%       1.900us         0.00%       1.900us       1.900us         128 b         128 b             1  \n",
      "                      aten::empty         0.00%       2.800us         0.00%       2.800us       2.800us         128 b         128 b             1  \n",
      "                      aten::empty         0.00%       2.100us         0.00%       2.100us       2.100us         128 b         128 b             1  \n",
      "                      aten::empty         0.00%       3.400us         0.00%       3.400us       3.400us         128 b         128 b             1  \n",
      "                      aten::empty         0.00%       1.400us         0.00%       1.400us       1.400us         128 b         128 b             1  \n",
      "                 aten::leaky_relu         1.23%       1.227ms         1.23%       1.227ms       1.227ms       6.12 Mb       6.12 Mb             1  \n",
      "                 aten::max_pool2d         0.02%      18.300us         5.16%       5.137ms       5.137ms       4.59 Mb           0 b             1  \n",
      "    aten::max_pool2d_with_indices         5.14%       5.119ms         5.14%       5.119ms       5.119ms       4.59 Mb       4.59 Mb             1  \n",
      "                     aten::conv2d         0.01%      12.700us         4.07%       4.055ms       4.055ms       3.06 Mb           0 b             1  \n",
      "                aten::convolution         0.07%      65.000us         4.06%       4.042ms       4.042ms       3.06 Mb           0 b             1  \n",
      "               aten::_convolution         0.02%      23.400us         3.99%       3.977ms       3.977ms       3.06 Mb           0 b             1  \n",
      "         aten::mkldnn_convolution         3.92%       3.902ms         3.97%       3.954ms       3.954ms       3.06 Mb           0 b             1  \n",
      "                      aten::empty         0.01%       9.600us         0.01%       9.600us       9.600us           0 b           0 b             1  \n",
      "                      aten::empty         0.03%      29.100us         0.03%      29.100us      29.100us       3.06 Mb       3.06 Mb             1  \n",
      "                aten::as_strided_         0.01%      10.800us         0.01%      10.800us      10.800us           0 b           0 b             1  \n",
      "                    aten::resize_         0.00%       2.600us         0.00%       2.600us       2.600us           0 b           0 b             1  \n",
      "                         [memory]         0.00%       0.000us         0.00%       0.000us       0.000us           8 b           8 b             1  \n",
      "                       aten::add_         0.03%      25.000us         0.03%      25.000us      25.000us           0 b           0 b             1  \n",
      "                         [memory]         0.00%       0.000us         0.00%       0.000us       0.000us          -8 b          -8 b             1  \n",
      "                 aten::batch_norm         0.01%       6.100us         1.46%       1.456ms       1.456ms       3.06 Mb           0 b             1  \n",
      "     aten::_batch_norm_impl_index         0.01%      14.700us         1.46%       1.450ms       1.450ms       3.06 Mb           0 b             1  \n",
      "                      aten::empty         0.00%       2.800us         0.00%       2.800us       2.800us           0 b           0 b             1  \n",
      "          aten::native_batch_norm         1.41%       1.409ms         1.44%       1.433ms       1.433ms       3.06 Mb      -1.00 Kb             1  \n",
      "                 aten::empty_like         0.01%       5.100us         0.01%      10.000us      10.000us       3.06 Mb           0 b             1  \n",
      "                      aten::empty         0.00%       4.900us         0.00%       4.900us       4.900us       3.06 Mb       3.06 Mb             1  \n",
      "                      aten::empty         0.00%       2.400us         0.00%       2.400us       2.400us         256 b         256 b             1  \n",
      "                      aten::empty         0.00%       1.300us         0.00%       1.300us       1.300us         256 b         256 b             1  \n",
      "                      aten::empty         0.00%       1.500us         0.00%       1.500us       1.500us         256 b         256 b             1  \n",
      "                      aten::empty         0.00%       1.200us         0.00%       1.200us       1.200us         256 b         256 b             1  \n",
      "                      aten::empty         0.01%       5.200us         0.01%       5.200us       5.200us         256 b         256 b             1  \n",
      "                      aten::empty         0.00%       2.000us         0.00%       2.000us       2.000us         256 b         256 b             1  \n",
      "                 aten::leaky_relu         0.65%     645.100us         0.65%     645.100us     645.100us       3.06 Mb       3.06 Mb             1  \n",
      "                 aten::max_pool2d         0.01%       9.800us         2.78%       2.769ms       2.769ms       2.30 Mb           0 b             1  \n",
      "    aten::max_pool2d_with_indices         2.77%       2.760ms         2.77%       2.760ms       2.760ms       2.30 Mb       2.30 Mb             1  \n",
      "                     aten::conv2d         0.01%       9.300us         4.17%       4.153ms       4.153ms       1.53 Mb           0 b             1  \n",
      "                aten::convolution         0.05%      45.700us         4.16%       4.144ms       4.144ms       1.53 Mb           0 b             1  \n",
      "               aten::_convolution         0.02%      20.800us         4.11%       4.098ms       4.098ms       1.53 Mb           0 b             1  \n",
      "         aten::mkldnn_convolution         4.05%       4.036ms         4.09%       4.077ms       4.077ms       1.53 Mb           0 b             1  \n",
      "                      aten::empty         0.01%       6.300us         0.01%       6.300us       6.300us           0 b           0 b             1  \n",
      "                      aten::empty         0.02%      20.200us         0.02%      20.200us      20.200us       1.53 Mb       1.53 Mb             1  \n",
      "                aten::as_strided_         0.01%      11.100us         0.01%      11.100us      11.100us           0 b           0 b             1  \n",
      "                    aten::resize_         0.00%       3.400us         0.00%       3.400us       3.400us           0 b           0 b             1  \n",
      "                         [memory]         0.00%       0.000us         0.00%       0.000us       0.000us           8 b           8 b             1  \n",
      "                       aten::add_         0.03%      25.800us         0.03%      25.800us      25.800us           0 b           0 b             1  \n",
      "                         [memory]         0.00%       0.000us         0.00%       0.000us       0.000us          -8 b          -8 b             1  \n",
      "                 aten::batch_norm         0.01%       6.300us         0.76%     758.500us     758.500us       1.53 Mb           0 b             1  \n",
      "     aten::_batch_norm_impl_index         0.01%      11.800us         0.75%     752.200us     752.200us       1.53 Mb           0 b             1  \n",
      "                      aten::empty         0.00%       3.000us         0.00%       3.000us       3.000us           0 b           0 b             1  \n",
      "          aten::native_batch_norm         0.72%     713.300us         0.74%     737.400us     737.400us       1.53 Mb      -2.00 Kb             1  \n",
      "                 aten::empty_like         0.01%       5.400us         0.01%       8.500us       8.500us       1.53 Mb           0 b             1  \n",
      "                      aten::empty         0.00%       3.100us         0.00%       3.100us       3.100us       1.53 Mb       1.53 Mb             1  \n",
      "                      aten::empty         0.00%       2.400us         0.00%       2.400us       2.400us         512 b         512 b             1  \n",
      "                      aten::empty         0.00%       1.900us         0.00%       1.900us       1.900us         512 b         512 b             1  \n",
      "                      aten::empty         0.00%       2.400us         0.00%       2.400us       2.400us         512 b         512 b             1  \n",
      "                      aten::empty         0.00%       1.500us         0.00%       1.500us       1.500us         512 b         512 b             1  \n",
      "                      aten::empty         0.00%       4.000us         0.00%       4.000us       4.000us         512 b         512 b             1  \n",
      "                      aten::empty         0.00%       3.400us         0.00%       3.400us       3.400us         512 b         512 b             1  \n",
      "                 aten::leaky_relu         0.46%     457.700us         0.46%     457.700us     457.700us       1.53 Mb       1.53 Mb             1  \n",
      "                     aten::conv2d         0.01%       7.100us         1.34%       1.336ms       1.336ms     784.00 Kb           0 b             1  \n",
      "                aten::convolution         0.02%      24.400us         1.33%       1.329ms       1.329ms     784.00 Kb           0 b             1  \n",
      "               aten::_convolution         0.02%      19.900us         1.31%       1.305ms       1.305ms     784.00 Kb           0 b             1  \n",
      "         aten::mkldnn_convolution         1.27%       1.265ms         1.29%       1.285ms       1.285ms     784.00 Kb           0 b             1  \n",
      "                      aten::empty         0.00%       2.400us         0.00%       2.400us       2.400us           0 b           0 b             1  \n",
      "                      aten::empty         0.00%       3.700us         0.00%       3.700us       3.700us     784.00 Kb     784.00 Kb             1  \n",
      "                aten::as_strided_         0.01%       9.400us         0.01%       9.400us       9.400us           0 b           0 b             1  \n",
      "                    aten::resize_         0.00%       4.400us         0.00%       4.400us       4.400us           0 b           0 b             1  \n",
      "                         [memory]         0.00%       0.000us         0.00%       0.000us       0.000us           8 b           8 b             1  \n",
      "                       aten::add_         0.02%      17.800us         0.02%      17.800us      17.800us           0 b           0 b             1  \n",
      "                         [memory]         0.00%       0.000us         0.00%       0.000us       0.000us          -8 b          -8 b             1  \n",
      "                 aten::batch_norm         0.00%       4.400us         0.43%     426.300us     426.300us     784.50 Kb           0 b             1  \n",
      "     aten::_batch_norm_impl_index         0.01%       8.900us         0.42%     421.900us     421.900us     784.50 Kb           0 b             1  \n",
      "                      aten::empty         0.00%       1.500us         0.00%       1.500us       1.500us           0 b           0 b             1  \n",
      "          aten::native_batch_norm         0.40%     393.800us         0.41%     411.500us     411.500us     784.50 Kb      -1.00 Kb             1  \n",
      "                 aten::empty_like         0.01%       6.200us         0.01%       8.700us       8.700us     784.00 Kb           0 b             1  \n",
      "                      aten::empty         0.00%       2.500us         0.00%       2.500us       2.500us     784.00 Kb     784.00 Kb             1  \n",
      "                      aten::empty         0.00%       1.800us         0.00%       1.800us       1.800us         256 b         256 b             1  \n",
      "                      aten::empty         0.00%       1.800us         0.00%       1.800us       1.800us         256 b         256 b             1  \n",
      "                      aten::empty         0.00%       1.300us         0.00%       1.300us       1.300us         256 b         256 b             1  \n",
      "                      aten::empty         0.00%       1.300us         0.00%       1.300us       1.300us         256 b         256 b             1  \n",
      "                      aten::empty         0.00%       1.500us         0.00%       1.500us       1.500us         256 b         256 b             1  \n",
      "                      aten::empty         0.00%       1.300us         0.00%       1.300us       1.300us         256 b         256 b             1  \n",
      "                 aten::leaky_relu         0.39%     391.000us         0.39%     391.000us     391.000us     784.00 Kb     784.00 Kb             1  \n",
      "---------------------------------  ------------  ------------  ------------  ------------  ------------  ------------  ------------  ------------  \n",
      "Self CPU time total: 99.653ms\n",
      "\n"
     ]
    }
   ],
   "source": [
    "with torch.autograd.profiler.profile(use_device='cuda', profile_memory=True) as prof:\n",
    "   model(img)\n",
    "print(prof)"
   ]
  },
  {
   "cell_type": "code",
   "execution_count": 43,
   "id": "1fc884b4-08a5-4595-ab39-a9256492d92b",
   "metadata": {},
   "outputs": [
    {
     "ename": "ValueError",
     "evalue": "Expected a cuda device, but got: cpu",
     "output_type": "error",
     "traceback": [
      "\u001b[1;31m---------------------------------------------------------------------------\u001b[0m",
      "\u001b[1;31mValueError\u001b[0m                                Traceback (most recent call last)",
      "Cell \u001b[1;32mIn[43], line 1\u001b[0m\n\u001b[1;32m----> 1\u001b[0m \u001b[43mtorch\u001b[49m\u001b[38;5;241;43m.\u001b[39;49m\u001b[43mcuda\u001b[49m\u001b[38;5;241;43m.\u001b[39;49m\u001b[43mmemory_summary\u001b[49m\u001b[43m(\u001b[49m\u001b[43mdevice\u001b[49m\u001b[38;5;241;43m=\u001b[39;49m\u001b[43mtorch\u001b[49m\u001b[38;5;241;43m.\u001b[39;49m\u001b[43mdevice\u001b[49m\u001b[43m(\u001b[49m\u001b[38;5;124;43m'\u001b[39;49m\u001b[38;5;124;43mcpu\u001b[39;49m\u001b[38;5;124;43m'\u001b[39;49m\u001b[43m)\u001b[49m\u001b[43m)\u001b[49m\n",
      "File \u001b[1;32m~\\AppData\\Local\\Programs\\Python\\Python312\\Lib\\site-packages\\torch\\cuda\\memory.py:499\u001b[0m, in \u001b[0;36mmemory_summary\u001b[1;34m(device, abbreviated)\u001b[0m\n\u001b[0;32m    482\u001b[0m \u001b[38;5;28;01mdef\u001b[39;00m \u001b[38;5;21mmemory_summary\u001b[39m(device: Union[Device, \u001b[38;5;28mint\u001b[39m] \u001b[38;5;241m=\u001b[39m \u001b[38;5;28;01mNone\u001b[39;00m, abbreviated: \u001b[38;5;28mbool\u001b[39m \u001b[38;5;241m=\u001b[39m \u001b[38;5;28;01mFalse\u001b[39;00m) \u001b[38;5;241m-\u001b[39m\u001b[38;5;241m>\u001b[39m \u001b[38;5;28mstr\u001b[39m:\n\u001b[0;32m    483\u001b[0m \u001b[38;5;250m    \u001b[39m\u001b[38;5;124mr\u001b[39m\u001b[38;5;124;03m\"\"\"Return a human-readable printout of the current memory allocator statistics for a given device.\u001b[39;00m\n\u001b[0;32m    484\u001b[0m \n\u001b[0;32m    485\u001b[0m \u001b[38;5;124;03m    This can be useful to display periodically during training, or when\u001b[39;00m\n\u001b[1;32m   (...)\u001b[0m\n\u001b[0;32m    497\u001b[0m \u001b[38;5;124;03m        management.\u001b[39;00m\n\u001b[0;32m    498\u001b[0m \u001b[38;5;124;03m    \"\"\"\u001b[39;00m\n\u001b[1;32m--> 499\u001b[0m     device \u001b[38;5;241m=\u001b[39m \u001b[43m_get_device_index\u001b[49m\u001b[43m(\u001b[49m\u001b[43mdevice\u001b[49m\u001b[43m,\u001b[49m\u001b[43m \u001b[49m\u001b[43moptional\u001b[49m\u001b[38;5;241;43m=\u001b[39;49m\u001b[38;5;28;43;01mTrue\u001b[39;49;00m\u001b[43m)\u001b[49m\n\u001b[0;32m    500\u001b[0m     stats \u001b[38;5;241m=\u001b[39m memory_stats(device\u001b[38;5;241m=\u001b[39mdevice)\n\u001b[0;32m    502\u001b[0m     \u001b[38;5;28;01mdef\u001b[39;00m \u001b[38;5;21m_format_size\u001b[39m(sz, pref_sz):\n",
      "File \u001b[1;32m~\\AppData\\Local\\Programs\\Python\\Python312\\Lib\\site-packages\\torch\\cuda\\_utils.py:34\u001b[0m, in \u001b[0;36m_get_device_index\u001b[1;34m(device, optional, allow_cpu)\u001b[0m\n\u001b[0;32m     32\u001b[0m             \u001b[38;5;28;01mraise\u001b[39;00m \u001b[38;5;167;01mValueError\u001b[39;00m(\u001b[38;5;124mf\u001b[39m\u001b[38;5;124m\"\u001b[39m\u001b[38;5;124mExpected a cuda or cpu device, but got: \u001b[39m\u001b[38;5;132;01m{\u001b[39;00mdevice\u001b[38;5;132;01m}\u001b[39;00m\u001b[38;5;124m\"\u001b[39m)\n\u001b[0;32m     33\u001b[0m     \u001b[38;5;28;01melif\u001b[39;00m device\u001b[38;5;241m.\u001b[39mtype \u001b[38;5;241m!=\u001b[39m \u001b[38;5;124m\"\u001b[39m\u001b[38;5;124mcuda\u001b[39m\u001b[38;5;124m\"\u001b[39m:\n\u001b[1;32m---> 34\u001b[0m         \u001b[38;5;28;01mraise\u001b[39;00m \u001b[38;5;167;01mValueError\u001b[39;00m(\u001b[38;5;124mf\u001b[39m\u001b[38;5;124m\"\u001b[39m\u001b[38;5;124mExpected a cuda device, but got: \u001b[39m\u001b[38;5;132;01m{\u001b[39;00mdevice\u001b[38;5;132;01m}\u001b[39;00m\u001b[38;5;124m\"\u001b[39m)\n\u001b[0;32m     35\u001b[0m \u001b[38;5;28;01mif\u001b[39;00m \u001b[38;5;129;01mnot\u001b[39;00m torch\u001b[38;5;241m.\u001b[39mjit\u001b[38;5;241m.\u001b[39mis_scripting():\n\u001b[0;32m     36\u001b[0m     \u001b[38;5;28;01mif\u001b[39;00m \u001b[38;5;28misinstance\u001b[39m(device, torch\u001b[38;5;241m.\u001b[39mcuda\u001b[38;5;241m.\u001b[39mdevice):\n",
      "\u001b[1;31mValueError\u001b[0m: Expected a cuda device, but got: cpu"
     ]
    }
   ],
   "source": [
    "torch.cuda.memory_summary(device=torch.device('cpu'))"
   ]
  },
  {
   "cell_type": "code",
   "execution_count": 45,
   "id": "6f323675-6281-488d-ad17-b281d1893688",
   "metadata": {},
   "outputs": [],
   "source": [
    "from torch.profiler import profile, record_function, ProfilerActivity"
   ]
  },
  {
   "cell_type": "code",
   "execution_count": 48,
   "id": "3058fc42-4a84-4169-9fb4-f8ba02db6808",
   "metadata": {},
   "outputs": [],
   "source": [
    "with profile(activities=[ProfilerActivity.CPU], record_shapes=True, profile_memory=True) as prof:\n",
    "    with record_function(\"model_inference\"):\n",
    "        model(img)"
   ]
  },
  {
   "cell_type": "code",
   "execution_count": 54,
   "id": "a5919c8e-45a8-434b-920b-92ed7c6e2eff",
   "metadata": {},
   "outputs": [
    {
     "name": "stdout",
     "output_type": "stream",
     "text": [
      "---------------------------------  ------------  ------------  ------------  ------------  ------------  ------------  ------------  ------------  \n",
      "                             Name    Self CPU %      Self CPU   CPU total %     CPU total  CPU time avg       CPU Mem  Self CPU Mem    # of Calls  \n",
      "---------------------------------  ------------  ------------  ------------  ------------  ------------  ------------  ------------  ------------  \n",
      "                  model_inference         4.18%       4.529ms       100.00%     108.450ms     108.450ms           0 b     -60.64 Mb             1  \n",
      "                     aten::conv2d         0.15%     166.100us        68.60%      74.399ms       3.916ms      17.23 Mb           0 b            19  \n",
      "                aten::convolution         0.54%     589.100us        68.45%      74.233ms       3.907ms      17.23 Mb           0 b            19  \n",
      "               aten::_convolution         0.31%     334.000us        67.91%      73.644ms       3.876ms      17.23 Mb           0 b            19  \n",
      "         aten::mkldnn_convolution        67.15%      72.821ms        67.60%      73.310ms       3.858ms      17.23 Mb           0 b            19  \n",
      "                      aten::empty         0.60%     655.700us         0.60%     655.700us       3.603us      34.62 Mb      34.62 Mb           182  \n",
      "                aten::as_strided_         0.12%     129.600us         0.12%     129.600us       6.821us           0 b           0 b            19  \n",
      "                    aten::resize_         0.04%      43.500us         0.04%      43.500us       2.289us           0 b           0 b            19  \n",
      "                       aten::add_         0.30%     322.300us         0.30%     322.300us      17.906us           0 b           0 b            18  \n",
      "                 aten::batch_norm         0.08%      88.700us        10.19%      11.054ms     614.100us      17.28 Mb           0 b            18  \n",
      "     aten::_batch_norm_impl_index         0.21%     229.300us        10.11%      10.965ms     609.172us      17.28 Mb           0 b            18  \n",
      "          aten::native_batch_norm         9.50%      10.306ms         9.87%      10.704ms     594.678us      17.28 Mb    -112.50 Kb            18  \n",
      "                 aten::empty_like         0.08%      90.600us         0.15%     166.100us       9.228us      17.23 Mb           0 b            18  \n",
      "                 aten::leaky_relu         4.02%       4.361ms         4.02%       4.361ms     242.300us      17.23 Mb      17.23 Mb            18  \n",
      "                 aten::max_pool2d         0.06%      67.000us        12.66%      13.726ms       2.745ms       8.90 Mb           0 b             5  \n",
      "    aten::max_pool2d_with_indices        12.59%      13.659ms        12.59%      13.659ms       2.732ms       8.90 Mb       8.90 Mb             5  \n",
      "                 aten::avg_pool2d         0.02%      19.300us         0.02%      19.300us      19.300us          40 b          40 b             1  \n",
      "                       aten::view         0.01%      14.900us         0.01%      14.900us      14.900us           0 b           0 b             1  \n",
      "                aten::log_softmax         0.01%       5.500us         0.02%      23.800us      23.800us          40 b           0 b             1  \n",
      "               aten::_log_softmax         0.02%      18.300us         0.02%      18.300us      18.300us          40 b          40 b             1  \n",
      "---------------------------------  ------------  ------------  ------------  ------------  ------------  ------------  ------------  ------------  \n",
      "Self CPU time total: 108.450ms\n",
      "\n"
     ]
    }
   ],
   "source": [
    "print(prof.key_averages().table())"
   ]
  },
  {
   "cell_type": "code",
   "execution_count": 57,
   "id": "3eeec415-ca86-40db-8a4d-ec1e65398190",
   "metadata": {},
   "outputs": [
    {
     "data": {
      "text/plain": [
       "<FunctionEventAvg key=aten::conv2d self_cpu_time=143.900us cpu_time=3.958ms  self_cuda_time=0.000us cuda_time=0.000us input_shapes= cpu_memory_usage=18065320 cuda_memory_usage=0>"
      ]
     },
     "execution_count": 57,
     "metadata": {},
     "output_type": "execute_result"
    }
   ],
   "source": [
    "prof.key_averages()[0]"
   ]
  },
  {
   "cell_type": "markdown",
   "id": "08a91788-22f4-417c-8f29-5c1bfeedf41a",
   "metadata": {},
   "source": [
    "There is also cuda_memory_usage, so I can measure cuda memory and time as well"
   ]
  },
  {
   "cell_type": "code",
   "execution_count": 60,
   "id": "7a833aa3-1a69-4362-bcea-e97abc75f79b",
   "metadata": {},
   "outputs": [],
   "source": [
    "import torch_tb_profiler"
   ]
  },
  {
   "cell_type": "code",
   "execution_count": 62,
   "id": "2c7344f5-3b40-486b-8697-3fa089ec82a4",
   "metadata": {},
   "outputs": [],
   "source": [
    "prof = torch.profiler.profile(\n",
    "        schedule=torch.profiler.schedule(wait=1, warmup=1, active=3, repeat=1),\n",
    "        on_trace_ready=torch.profiler.tensorboard_trace_handler('./log/darknet19'),\n",
    "        record_shapes=True,\n",
    "        profile_memory=True,\n",
    "        with_stack=True)\n"
   ]
  },
  {
   "cell_type": "code",
   "execution_count": null,
   "id": "b3f14c96-774a-44c5-a60a-2dca3aad008e",
   "metadata": {},
   "outputs": [],
   "source": []
  }
 ],
 "metadata": {
  "kernelspec": {
   "display_name": "Python 3 (ipykernel)",
   "language": "python",
   "name": "python3"
  },
  "language_info": {
   "codemirror_mode": {
    "name": "ipython",
    "version": 3
   },
   "file_extension": ".py",
   "mimetype": "text/x-python",
   "name": "python",
   "nbconvert_exporter": "python",
   "pygments_lexer": "ipython3",
   "version": "3.12.6"
  }
 },
 "nbformat": 4,
 "nbformat_minor": 5
}
