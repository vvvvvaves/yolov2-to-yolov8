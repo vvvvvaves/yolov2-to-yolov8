{
 "cells": [
  {
   "cell_type": "code",
   "execution_count": 11,
   "id": "a5258e5c-2fd1-45d6-bf25-96674d504f91",
   "metadata": {},
   "outputs": [],
   "source": [
    "import torch\n",
    "import torch.nn as nn\n",
    "from torchvision import transforms\n",
    "from torch.utils.data import DataLoader\n",
    "from torch import optim"
   ]
  },
  {
   "cell_type": "code",
   "execution_count": 12,
   "id": "43b63379-9363-448e-b927-2231dbb097b1",
   "metadata": {},
   "outputs": [],
   "source": [
    "from train import *"
   ]
  },
  {
   "cell_type": "code",
   "execution_count": 13,
   "id": "d6da0181-aeae-429b-a1fc-6493a2709ce9",
   "metadata": {},
   "outputs": [],
   "source": [
    "from data_preprocessing import *"
   ]
  },
  {
   "cell_type": "code",
   "execution_count": 14,
   "id": "d0664c30-ac1b-4b97-9f6d-c077dc7f1104",
   "metadata": {},
   "outputs": [],
   "source": [
    "from Models.yolov8cls_path import *"
   ]
  },
  {
   "cell_type": "code",
   "execution_count": 15,
   "id": "d1d82cb8-f5f7-4bed-8f98-df790e624e50",
   "metadata": {},
   "outputs": [],
   "source": [
    "from Models.darknet19 import *"
   ]
  },
  {
   "cell_type": "code",
   "execution_count": 6,
   "id": "cbdae16b-4251-46a6-865b-bfa81a9a5ea1",
   "metadata": {},
   "outputs": [],
   "source": [
    "if torch.cuda.is_available():\n",
    "    device=torch.device('cuda')\n",
    "else:\n",
    "    device=torch.device('cpu') "
   ]
  },
  {
   "cell_type": "code",
   "execution_count": 7,
   "id": "8fa53c4a-3fb5-4406-9cea-f145fe80399e",
   "metadata": {},
   "outputs": [],
   "source": [
    "model = Darknet19(num_classes=10)"
   ]
  },
  {
   "cell_type": "code",
   "execution_count": 8,
   "id": "ae3c5dd0-ac5d-4cbb-8463-d9ebe0621f3c",
   "metadata": {},
   "outputs": [],
   "source": [
    "data_path = '../dummy_datasets/'\n",
    "norms_path = os.path.join(data_path, 'norms.json')"
   ]
  },
  {
   "cell_type": "code",
   "execution_count": 9,
   "id": "e608e517-6da7-41c7-b62d-81cca6aecf54",
   "metadata": {},
   "outputs": [
    {
     "name": "stdout",
     "output_type": "stream",
     "text": [
      "Means are: [0.4405549168586731, 0.4407285749912262, 0.4381718039512634]\n",
      "stds are: [0.25142669677734375, 0.25270089507102966, 0.25131651759147644]\n"
     ]
    }
   ],
   "source": [
    "means = get_means(path=norms_path, train_loader=None)\n",
    "stds = get_stds(path=norms_path, train_loader=None)"
   ]
  },
  {
   "cell_type": "code",
   "execution_count": 10,
   "id": "840c3bfd-3f57-4508-9834-fd0c87b7532a",
   "metadata": {},
   "outputs": [],
   "source": [
    "transformations = transforms.Compose([transforms.ToTensor(),\n",
    "                                      transforms.Resize((224, 224)),\n",
    "                                      transforms.Normalize(mean=means, std=stds)])"
   ]
  },
  {
   "cell_type": "code",
   "execution_count": 11,
   "id": "dfaadddf-3f19-4b50-93b4-98cf177980fb",
   "metadata": {},
   "outputs": [],
   "source": [
    "train_dataset = ImageNetSubset(path=data_path, train=True, transform=transformations, half=False, show=False)\n",
    "val_dataset = ImageNetSubset(path=data_path, train=False, transform=transformations, half=False, show=False)"
   ]
  },
  {
   "cell_type": "code",
   "execution_count": 12,
   "id": "a5d356b0-68a7-44f8-bf1b-397f7889dfb9",
   "metadata": {},
   "outputs": [],
   "source": [
    "epochs=10\n",
    "train_loader = DataLoader(train_dataset, batch_size=256, shuffle=True, num_workers=4)\n",
    "val_loader = DataLoader(val_dataset, batch_size=256, shuffle=True, num_workers=4)"
   ]
  },
  {
   "cell_type": "code",
   "execution_count": 13,
   "id": "53e72a95-3140-4c39-afd7-e64d63bd5940",
   "metadata": {},
   "outputs": [],
   "source": [
    "optimizer = optim.SGD(model.parameters(), lr=0.001, momentum=0.9, weight_decay=0.0001)"
   ]
  },
  {
   "cell_type": "code",
   "execution_count": 14,
   "id": "85cc427f-08e2-43c3-a496-6f1c967a2325",
   "metadata": {},
   "outputs": [],
   "source": [
    "loss_fn = nn.NLLLoss()"
   ]
  },
  {
   "cell_type": "code",
   "execution_count": 15,
   "id": "a40a8174-7e18-43aa-83fd-41a98bf6ea0b",
   "metadata": {},
   "outputs": [
    {
     "name": "stdout",
     "output_type": "stream",
     "text": [
      "2024-11-15 15:14:28.073286 Epoch 1: \n",
      "2024-11-15 15:14:36.217391 Batch 1: \n",
      "[Train] Accuracy: 6.6667, Loss per batch: 2.3559\n",
      "2024-11-15 15:14:51.078507 Batch 1: \n",
      "2024-11-15 15:15:03.448726 Batch 2: \n",
      "[Val] Accuracy: 10.0%, loss per batch: 2.3026\n",
      "2024-11-15 15:15:16.146504 Epoch 2: \n",
      "2024-11-15 15:15:24.359607 Batch 1: \n"
     ]
    },
    {
     "ename": "KeyboardInterrupt",
     "evalue": "",
     "output_type": "error",
     "traceback": [
      "\u001b[1;31m---------------------------------------------------------------------------\u001b[0m",
      "\u001b[1;31mKeyboardInterrupt\u001b[0m                         Traceback (most recent call last)",
      "Cell \u001b[1;32mIn[15], line 1\u001b[0m\n\u001b[1;32m----> 1\u001b[0m darknet_history \u001b[38;5;241m=\u001b[39m \u001b[43mtrain\u001b[49m\u001b[43m(\u001b[49m\u001b[43mepochs\u001b[49m\u001b[43m,\u001b[49m\u001b[43m \u001b[49m\u001b[43mtrain_loader\u001b[49m\u001b[43m,\u001b[49m\u001b[43m \u001b[49m\u001b[43mval_loader\u001b[49m\u001b[43m,\u001b[49m\u001b[43m \u001b[49m\u001b[43mmodel\u001b[49m\u001b[43m,\u001b[49m\u001b[43m \u001b[49m\u001b[43moptimizer\u001b[49m\u001b[43m,\u001b[49m\u001b[43m \u001b[49m\u001b[43mloss_fn\u001b[49m\u001b[43m)\u001b[49m\n",
      "File \u001b[1;32mC:\\Me\\PJAIT\\Thesis\\Code\\yolov2-to-yolov8\\train.py:31\u001b[0m, in \u001b[0;36mtrain\u001b[1;34m(epochs, train_loader, val_loader, model, optimizer, loss_fn)\u001b[0m\n\u001b[0;32m     29\u001b[0m _datetime \u001b[38;5;241m=\u001b[39m datetime\u001b[38;5;241m.\u001b[39mdatetime\u001b[38;5;241m.\u001b[39mnow()\n\u001b[0;32m     30\u001b[0m \u001b[38;5;28mprint\u001b[39m(\u001b[38;5;124mf\u001b[39m\u001b[38;5;124m\"\u001b[39m\u001b[38;5;132;01m{\u001b[39;00m_datetime\u001b[38;5;132;01m}\u001b[39;00m\u001b[38;5;124m Epoch \u001b[39m\u001b[38;5;132;01m{\u001b[39;00mepoch\u001b[38;5;132;01m}\u001b[39;00m\u001b[38;5;124m: \u001b[39m\u001b[38;5;124m\"\u001b[39m)\n\u001b[1;32m---> 31\u001b[0m train_accuracy, train_loss \u001b[38;5;241m=\u001b[39m \u001b[43mtraining_loop\u001b[49m\u001b[43m(\u001b[49m\u001b[43moptimizer\u001b[49m\u001b[43m,\u001b[49m\u001b[43m \u001b[49m\u001b[43mmodel\u001b[49m\u001b[43m,\u001b[49m\u001b[43m \u001b[49m\u001b[43mloss_fn\u001b[49m\u001b[43m,\u001b[49m\u001b[43m \u001b[49m\u001b[43mtrain_loader\u001b[49m\u001b[43m)\u001b[49m\n\u001b[0;32m     32\u001b[0m val_accuracy, val_loss \u001b[38;5;241m=\u001b[39m validation_loop(model, val_loader, loss_fn)\n\u001b[0;32m     33\u001b[0m gradient_stats \u001b[38;5;241m=\u001b[39m get_gradient_stats(model)\n",
      "File \u001b[1;32mC:\\Me\\PJAIT\\Thesis\\Code\\yolov2-to-yolov8\\training_loop.py:23\u001b[0m, in \u001b[0;36mtraining_loop\u001b[1;34m(optimizer, model, loss_fn, train_loader)\u001b[0m\n\u001b[0;32m     19\u001b[0m loss \u001b[38;5;241m=\u001b[39m loss_fn(outputs, labels)\n\u001b[0;32m     21\u001b[0m optimizer\u001b[38;5;241m.\u001b[39mzero_grad()\n\u001b[1;32m---> 23\u001b[0m \u001b[43mloss\u001b[49m\u001b[38;5;241;43m.\u001b[39;49m\u001b[43mbackward\u001b[49m\u001b[43m(\u001b[49m\u001b[43m)\u001b[49m\n\u001b[0;32m     25\u001b[0m optimizer\u001b[38;5;241m.\u001b[39mstep()\n\u001b[0;32m     27\u001b[0m loss_train \u001b[38;5;241m+\u001b[39m\u001b[38;5;241m=\u001b[39m loss\u001b[38;5;241m.\u001b[39mitem()\n",
      "File \u001b[1;32m~\\AppData\\Local\\Programs\\Python\\Python312\\Lib\\site-packages\\torch\\_tensor.py:521\u001b[0m, in \u001b[0;36mTensor.backward\u001b[1;34m(self, gradient, retain_graph, create_graph, inputs)\u001b[0m\n\u001b[0;32m    511\u001b[0m \u001b[38;5;28;01mif\u001b[39;00m has_torch_function_unary(\u001b[38;5;28mself\u001b[39m):\n\u001b[0;32m    512\u001b[0m     \u001b[38;5;28;01mreturn\u001b[39;00m handle_torch_function(\n\u001b[0;32m    513\u001b[0m         Tensor\u001b[38;5;241m.\u001b[39mbackward,\n\u001b[0;32m    514\u001b[0m         (\u001b[38;5;28mself\u001b[39m,),\n\u001b[1;32m   (...)\u001b[0m\n\u001b[0;32m    519\u001b[0m         inputs\u001b[38;5;241m=\u001b[39minputs,\n\u001b[0;32m    520\u001b[0m     )\n\u001b[1;32m--> 521\u001b[0m \u001b[43mtorch\u001b[49m\u001b[38;5;241;43m.\u001b[39;49m\u001b[43mautograd\u001b[49m\u001b[38;5;241;43m.\u001b[39;49m\u001b[43mbackward\u001b[49m\u001b[43m(\u001b[49m\n\u001b[0;32m    522\u001b[0m \u001b[43m    \u001b[49m\u001b[38;5;28;43mself\u001b[39;49m\u001b[43m,\u001b[49m\u001b[43m \u001b[49m\u001b[43mgradient\u001b[49m\u001b[43m,\u001b[49m\u001b[43m \u001b[49m\u001b[43mretain_graph\u001b[49m\u001b[43m,\u001b[49m\u001b[43m \u001b[49m\u001b[43mcreate_graph\u001b[49m\u001b[43m,\u001b[49m\u001b[43m \u001b[49m\u001b[43minputs\u001b[49m\u001b[38;5;241;43m=\u001b[39;49m\u001b[43minputs\u001b[49m\n\u001b[0;32m    523\u001b[0m \u001b[43m\u001b[49m\u001b[43m)\u001b[49m\n",
      "File \u001b[1;32m~\\AppData\\Local\\Programs\\Python\\Python312\\Lib\\site-packages\\torch\\autograd\\__init__.py:289\u001b[0m, in \u001b[0;36mbackward\u001b[1;34m(tensors, grad_tensors, retain_graph, create_graph, grad_variables, inputs)\u001b[0m\n\u001b[0;32m    284\u001b[0m     retain_graph \u001b[38;5;241m=\u001b[39m create_graph\n\u001b[0;32m    286\u001b[0m \u001b[38;5;66;03m# The reason we repeat the same comment below is that\u001b[39;00m\n\u001b[0;32m    287\u001b[0m \u001b[38;5;66;03m# some Python versions print out the first line of a multi-line function\u001b[39;00m\n\u001b[0;32m    288\u001b[0m \u001b[38;5;66;03m# calls in the traceback and some print out the last line\u001b[39;00m\n\u001b[1;32m--> 289\u001b[0m \u001b[43m_engine_run_backward\u001b[49m\u001b[43m(\u001b[49m\n\u001b[0;32m    290\u001b[0m \u001b[43m    \u001b[49m\u001b[43mtensors\u001b[49m\u001b[43m,\u001b[49m\n\u001b[0;32m    291\u001b[0m \u001b[43m    \u001b[49m\u001b[43mgrad_tensors_\u001b[49m\u001b[43m,\u001b[49m\n\u001b[0;32m    292\u001b[0m \u001b[43m    \u001b[49m\u001b[43mretain_graph\u001b[49m\u001b[43m,\u001b[49m\n\u001b[0;32m    293\u001b[0m \u001b[43m    \u001b[49m\u001b[43mcreate_graph\u001b[49m\u001b[43m,\u001b[49m\n\u001b[0;32m    294\u001b[0m \u001b[43m    \u001b[49m\u001b[43minputs\u001b[49m\u001b[43m,\u001b[49m\n\u001b[0;32m    295\u001b[0m \u001b[43m    \u001b[49m\u001b[43mallow_unreachable\u001b[49m\u001b[38;5;241;43m=\u001b[39;49m\u001b[38;5;28;43;01mTrue\u001b[39;49;00m\u001b[43m,\u001b[49m\n\u001b[0;32m    296\u001b[0m \u001b[43m    \u001b[49m\u001b[43maccumulate_grad\u001b[49m\u001b[38;5;241;43m=\u001b[39;49m\u001b[38;5;28;43;01mTrue\u001b[39;49;00m\u001b[43m,\u001b[49m\n\u001b[0;32m    297\u001b[0m \u001b[43m\u001b[49m\u001b[43m)\u001b[49m\n",
      "File \u001b[1;32m~\\AppData\\Local\\Programs\\Python\\Python312\\Lib\\site-packages\\torch\\autograd\\graph.py:769\u001b[0m, in \u001b[0;36m_engine_run_backward\u001b[1;34m(t_outputs, *args, **kwargs)\u001b[0m\n\u001b[0;32m    767\u001b[0m     unregister_hooks \u001b[38;5;241m=\u001b[39m _register_logging_hooks_on_whole_graph(t_outputs)\n\u001b[0;32m    768\u001b[0m \u001b[38;5;28;01mtry\u001b[39;00m:\n\u001b[1;32m--> 769\u001b[0m     \u001b[38;5;28;01mreturn\u001b[39;00m \u001b[43mVariable\u001b[49m\u001b[38;5;241;43m.\u001b[39;49m\u001b[43m_execution_engine\u001b[49m\u001b[38;5;241;43m.\u001b[39;49m\u001b[43mrun_backward\u001b[49m\u001b[43m(\u001b[49m\u001b[43m  \u001b[49m\u001b[38;5;66;43;03m# Calls into the C++ engine to run the backward pass\u001b[39;49;00m\n\u001b[0;32m    770\u001b[0m \u001b[43m        \u001b[49m\u001b[43mt_outputs\u001b[49m\u001b[43m,\u001b[49m\u001b[43m \u001b[49m\u001b[38;5;241;43m*\u001b[39;49m\u001b[43margs\u001b[49m\u001b[43m,\u001b[49m\u001b[43m \u001b[49m\u001b[38;5;241;43m*\u001b[39;49m\u001b[38;5;241;43m*\u001b[39;49m\u001b[43mkwargs\u001b[49m\n\u001b[0;32m    771\u001b[0m \u001b[43m    \u001b[49m\u001b[43m)\u001b[49m  \u001b[38;5;66;03m# Calls into the C++ engine to run the backward pass\u001b[39;00m\n\u001b[0;32m    772\u001b[0m \u001b[38;5;28;01mfinally\u001b[39;00m:\n\u001b[0;32m    773\u001b[0m     \u001b[38;5;28;01mif\u001b[39;00m attach_logging_hooks:\n",
      "\u001b[1;31mKeyboardInterrupt\u001b[0m: "
     ]
    }
   ],
   "source": [
    "darknet_history = train(epochs, train_loader, val_loader, model, optimizer, loss_fn)"
   ]
  },
  {
   "cell_type": "code",
   "execution_count": 25,
   "id": "708b91f8-c723-464a-94e5-f92d449ca7ea",
   "metadata": {},
   "outputs": [],
   "source": [
    "model = Model(num_classes=10, residual_connection=True, CSP=True, add_hidden=True, classifyV8=True, variant='n')"
   ]
  },
  {
   "cell_type": "code",
   "execution_count": 26,
   "id": "9a4ec54f-00d9-4487-85ac-105f1c38405e",
   "metadata": {},
   "outputs": [
    {
     "name": "stdout",
     "output_type": "stream",
     "text": [
      "Means are: [0.4405549168586731, 0.4407285749912262, 0.4381718039512634]\n",
      "stds are: [0.25142669677734375, 0.25270089507102966, 0.25131651759147644]\n"
     ]
    }
   ],
   "source": [
    "means = get_means(path=norms_path, train_loader=None)\n",
    "stds = get_stds(path=norms_path, train_loader=None)"
   ]
  },
  {
   "cell_type": "code",
   "execution_count": 27,
   "id": "c7e19f97-ef4f-4a11-a4dd-532ef1d3465e",
   "metadata": {},
   "outputs": [],
   "source": [
    "transformations = transforms.Compose([transforms.ToTensor(),\n",
    "                                      transforms.Resize((224, 224)),\n",
    "                                      transforms.Normalize(mean=means, std=stds)])"
   ]
  },
  {
   "cell_type": "code",
   "execution_count": 28,
   "id": "d5f9fdc5-1027-476c-a74d-d4684c8d1841",
   "metadata": {},
   "outputs": [],
   "source": [
    "train_dataset = ImageNetSubset(path=data_path, train=True, transform=transformations, half=False, show=False)\n",
    "val_dataset = ImageNetSubset(path=data_path, train=False, transform=transformations, half=False, show=False)"
   ]
  },
  {
   "cell_type": "code",
   "execution_count": 29,
   "id": "42809ddb-3697-4623-8d0e-c12b0126fb6f",
   "metadata": {},
   "outputs": [],
   "source": [
    "epochs=10\n",
    "train_loader = DataLoader(train_dataset, batch_size=256, shuffle=True, num_workers=4)\n",
    "val_loader = DataLoader(val_dataset, batch_size=256, shuffle=True, num_workers=4)"
   ]
  },
  {
   "cell_type": "code",
   "execution_count": 30,
   "id": "ea7e0701-0a25-49d8-a6d5-ee7e0a294dc4",
   "metadata": {},
   "outputs": [],
   "source": [
    "optimizer = optim.SGD(model.parameters(), lr=0.1, momentum=0.9, weight_decay=0.0001)"
   ]
  },
  {
   "cell_type": "code",
   "execution_count": 31,
   "id": "787dfdc7-c8be-43e1-a71a-c7e7556ff988",
   "metadata": {},
   "outputs": [],
   "source": [
    "loss_fn = nn.NLLLoss()"
   ]
  },
  {
   "cell_type": "code",
   "execution_count": 32,
   "id": "d22d91d9-3748-4826-9a1c-adb7a5a82fe9",
   "metadata": {},
   "outputs": [],
   "source": [
    "# model = torch.load('./Models/yolov8n-cls_10.pt')"
   ]
  },
  {
   "cell_type": "code",
   "execution_count": 33,
   "id": "723ed59c-ee17-439d-bff0-7675b05f71b0",
   "metadata": {},
   "outputs": [
    {
     "name": "stdout",
     "output_type": "stream",
     "text": [
      "2024-11-15 15:09:40.734455 Epoch 1: \n",
      "2024-11-15 15:09:47.250327 Batch 1: \n",
      "[Train] Accuracy: 16.6667, Loss per batch: 228.2945\n",
      "2024-11-15 15:09:57.824027 Batch 1: \n",
      "2024-11-15 15:09:59.551688 Batch 2: \n",
      "[Val] Accuracy: 10.0%, loss per batch: 2.3027\n",
      "2024-11-15 15:10:01.853936 Epoch 2: \n",
      "2024-11-15 15:10:09.282009 Batch 1: \n",
      "[Train] Accuracy: 23.3333, Loss per batch: 211.7474\n",
      "2024-11-15 15:10:22.127428 Batch 1: \n",
      "2024-11-15 15:10:23.642064 Batch 2: \n",
      "[Val] Accuracy: 10.0%, loss per batch: 2.3028\n",
      "2024-11-15 15:10:25.979758 Epoch 3: \n",
      "2024-11-15 15:10:33.930216 Batch 1: \n",
      "[Train] Accuracy: 23.3333, Loss per batch: 200.3377\n",
      "2024-11-15 15:10:45.970939 Batch 1: \n",
      "2024-11-15 15:10:47.594775 Batch 2: \n",
      "[Val] Accuracy: 10.0%, loss per batch: 2.3039\n",
      "2024-11-15 15:10:49.993453 Epoch 4: \n",
      "2024-11-15 15:10:58.065890 Batch 1: \n",
      "[Train] Accuracy: 20.0, Loss per batch: 199.3719\n",
      "2024-11-15 15:11:10.925165 Batch 1: \n",
      "2024-11-15 15:11:12.459968 Batch 2: \n",
      "[Val] Accuracy: 10.0%, loss per batch: 2.3077\n",
      "2024-11-15 15:11:14.881570 Epoch 5: \n",
      "2024-11-15 15:11:22.434879 Batch 1: \n",
      "[Train] Accuracy: 36.6667, Loss per batch: 185.7577\n",
      "2024-11-15 15:11:32.318044 Batch 1: \n",
      "2024-11-15 15:11:33.781419 Batch 2: \n",
      "[Val] Accuracy: 10.0%, loss per batch: 2.3172\n",
      "2024-11-15 15:11:36.000333 Epoch 6: \n",
      "2024-11-15 15:11:43.388403 Batch 1: \n",
      "[Train] Accuracy: 36.6667, Loss per batch: 166.1549\n",
      "2024-11-15 15:11:54.204752 Batch 1: \n",
      "2024-11-15 15:11:55.676702 Batch 2: \n",
      "[Val] Accuracy: 10.0%, loss per batch: 2.3341\n",
      "2024-11-15 15:11:58.206147 Epoch 7: \n",
      "2024-11-15 15:12:05.713184 Batch 1: \n",
      "[Train] Accuracy: 43.3333, Loss per batch: 156.4607\n",
      "2024-11-15 15:12:17.000167 Batch 1: \n",
      "2024-11-15 15:12:18.824163 Batch 2: \n",
      "[Val] Accuracy: 10.0%, loss per batch: 2.3576\n",
      "2024-11-15 15:12:21.153509 Epoch 8: \n",
      "2024-11-15 15:12:28.571484 Batch 1: \n",
      "[Train] Accuracy: 60.0, Loss per batch: 138.3323\n",
      "2024-11-15 15:12:40.086622 Batch 1: \n",
      "2024-11-15 15:12:41.570008 Batch 2: \n",
      "[Val] Accuracy: 10.0%, loss per batch: 2.394\n",
      "2024-11-15 15:12:43.874051 Epoch 9: \n",
      "2024-11-15 15:12:51.198262 Batch 1: \n",
      "[Train] Accuracy: 63.3333, Loss per batch: 116.8988\n",
      "2024-11-15 15:13:01.820987 Batch 1: \n",
      "2024-11-15 15:13:03.518779 Batch 2: \n",
      "[Val] Accuracy: 10.0%, loss per batch: 2.4469\n",
      "2024-11-15 15:13:05.918656 Epoch 10: \n"
     ]
    },
    {
     "name": "stderr",
     "output_type": "stream",
     "text": [
      "\n",
      "KeyboardInterrupt\n",
      "\n"
     ]
    }
   ],
   "source": [
    "yolov8n_history = train(epochs, train_loader, val_loader, model, optimizer, loss_fn)"
   ]
  },
  {
   "cell_type": "code",
   "execution_count": 29,
   "id": "710b1c95-f986-4d70-be3b-2cd7668109b7",
   "metadata": {},
   "outputs": [],
   "source": [
    "for name, parameter in model.named_parameters():\n",
    "    if parameter.grad is None:\n",
    "        print(name, parameter.grad)"
   ]
  },
  {
   "cell_type": "code",
   "execution_count": 28,
   "id": "19b1bd83-4a1d-460d-9d4b-3f2de763b412",
   "metadata": {},
   "outputs": [
    {
     "data": {
      "text/plain": [
       "<pandas.core.strings.accessor.StringMethods at 0x21102e0c2c0>"
      ]
     },
     "execution_count": 28,
     "metadata": {},
     "output_type": "execute_result"
    }
   ],
   "source": [
    "yolov8n_history['gradient_stats'].str"
   ]
  },
  {
   "cell_type": "code",
   "execution_count": 19,
   "id": "da42fdc3-85a7-401d-9562-bf2ba5fac0a1",
   "metadata": {},
   "outputs": [],
   "source": [
    "optimizer = optim.SGD(model.parameters(), lr=0.001, momentum=0.9, weight_decay=0.0001)\n",
    "loss_fn = nn.NLLLoss()"
   ]
  },
  {
   "cell_type": "code",
   "execution_count": 20,
   "id": "69262d40-7596-4727-a97e-06c362f74324",
   "metadata": {},
   "outputs": [],
   "source": [
    "model = Model(num_classes=10, residual_connection=True, CSP=True, add_hidden=True, classifyV8=False, variant='n')"
   ]
  },
  {
   "cell_type": "code",
   "execution_count": 21,
   "id": "37d0a853-d6aa-44d3-a875-25c8a29a2b93",
   "metadata": {},
   "outputs": [
    {
     "name": "stdout",
     "output_type": "stream",
     "text": [
      "2024-11-13 20:34:54.609810 Epoch 1: \n",
      "2024-11-13 20:35:01.528314 Batch 1: \n",
      "[Train] Accuracy: 10.0, Loss per batch: 231.3896\n",
      "2024-11-13 20:35:11.716568 Batch 1: \n",
      "2024-11-13 20:35:13.047293 Batch 2: \n",
      "[Val] Accuracy: 10.0%, loss per batch: 2.3026\n",
      "2024-11-13 20:35:15.126867 Epoch 2: \n",
      "2024-11-13 20:35:21.963489 Batch 1: \n",
      "[Train] Accuracy: 10.0, Loss per batch: 231.3896\n",
      "2024-11-13 20:35:32.011069 Batch 1: \n",
      "2024-11-13 20:35:33.278962 Batch 2: \n",
      "[Val] Accuracy: 10.0%, loss per batch: 2.3026\n",
      "2024-11-13 20:35:35.492923 Epoch 3: \n",
      "2024-11-13 20:35:42.290099 Batch 1: \n",
      "[Train] Accuracy: 10.0, Loss per batch: 231.3896\n",
      "2024-11-13 20:35:53.578318 Batch 1: \n",
      "2024-11-13 20:35:55.024058 Batch 2: \n",
      "[Val] Accuracy: 10.0%, loss per batch: 2.3027\n",
      "2024-11-13 20:35:57.522354 Epoch 4: \n",
      "2024-11-13 20:36:05.163501 Batch 1: \n",
      "[Train] Accuracy: 10.0, Loss per batch: 231.3896\n",
      "2024-11-13 20:36:14.993197 Batch 1: \n",
      "2024-11-13 20:44:54.904659 Batch 2: \n",
      "[Val] Accuracy: 10.0%, loss per batch: 2.3027\n",
      "2024-11-13 20:44:59.799053 Epoch 5: \n",
      "2024-11-13 20:45:08.609369 Batch 1: \n",
      "[Train] Accuracy: 10.0, Loss per batch: 231.3897\n",
      "2024-11-13 20:45:18.890486 Batch 1: \n",
      "2024-11-13 20:45:20.317867 Batch 2: \n",
      "[Val] Accuracy: 10.0%, loss per batch: 2.3028\n",
      "2024-11-13 20:45:22.435942 Epoch 6: \n",
      "2024-11-13 20:45:29.008640 Batch 1: \n",
      "[Train] Accuracy: 10.0, Loss per batch: 231.3896\n",
      "2024-11-13 20:45:38.781683 Batch 1: \n",
      "2024-11-13 20:45:40.044055 Batch 2: \n",
      "[Val] Accuracy: 10.0%, loss per batch: 2.3029\n",
      "2024-11-13 20:45:42.137794 Epoch 7: \n",
      "2024-11-13 20:45:48.658469 Batch 1: \n",
      "[Train] Accuracy: 10.0, Loss per batch: 231.3896\n",
      "2024-11-13 20:45:59.004334 Batch 1: \n",
      "2024-11-13 20:46:00.407137 Batch 2: \n",
      "[Val] Accuracy: 10.0%, loss per batch: 2.303\n",
      "2024-11-13 20:46:02.534780 Epoch 8: \n",
      "2024-11-13 20:46:09.030865 Batch 1: \n",
      "[Train] Accuracy: 10.0, Loss per batch: 231.3896\n",
      "2024-11-13 20:46:18.968888 Batch 1: \n",
      "2024-11-13 20:46:20.331951 Batch 2: \n",
      "[Val] Accuracy: 10.0%, loss per batch: 2.303\n",
      "2024-11-13 20:46:22.437675 Epoch 9: \n",
      "2024-11-13 20:46:28.771139 Batch 1: \n",
      "[Train] Accuracy: 10.0, Loss per batch: 231.3896\n",
      "2024-11-13 20:46:38.855259 Batch 1: \n",
      "2024-11-13 20:46:40.167357 Batch 2: \n",
      "[Val] Accuracy: 10.0%, loss per batch: 2.3032\n",
      "2024-11-13 20:46:42.262677 Epoch 10: \n",
      "2024-11-13 20:46:49.209329 Batch 1: \n",
      "[Train] Accuracy: 10.0, Loss per batch: 231.3896\n",
      "2024-11-13 20:46:59.716597 Batch 1: \n",
      "2024-11-13 20:47:01.239762 Batch 2: \n",
      "[Val] Accuracy: 10.0%, loss per batch: 2.3033\n"
     ]
    }
   ],
   "source": [
    "yolov8nV2Head_history = train(epochs, train_loader, val_loader, model, optimizer, loss_fn)"
   ]
  },
  {
   "cell_type": "code",
   "execution_count": null,
   "id": "f8037ab2-e4e5-4677-9f40-9d48a341c152",
   "metadata": {},
   "outputs": [],
   "source": [
    "plt.plot(stats_v82['median'][:-2], label='YOLOv8-V2Head')\n",
    "plt.plot(stats_v8['median'][:-2], label='YOLOv8')\n",
    "plt.plot(stats['median'][:-2], label='Darknet19')\n",
    "plt.legend()"
   ]
  },
  {
   "cell_type": "code",
   "execution_count": null,
   "id": "fd8ab5bd-c465-497a-bb76-ab447b107a8f",
   "metadata": {},
   "outputs": [],
   "source": []
  }
 ],
 "metadata": {
  "kernelspec": {
   "display_name": "Python 3 (ipykernel)",
   "language": "python",
   "name": "python3"
  },
  "language_info": {
   "codemirror_mode": {
    "name": "ipython",
    "version": 3
   },
   "file_extension": ".py",
   "mimetype": "text/x-python",
   "name": "python",
   "nbconvert_exporter": "python",
   "pygments_lexer": "ipython3",
   "version": "3.12.6"
  }
 },
 "nbformat": 4,
 "nbformat_minor": 5
}
