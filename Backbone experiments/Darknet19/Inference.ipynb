{
 "cells": [
  {
   "cell_type": "code",
   "execution_count": 1,
   "id": "a5258e5c-2fd1-45d6-bf25-96674d504f91",
   "metadata": {},
   "outputs": [],
   "source": [
    "import os\n",
    "import torch\n",
    "import torch.nn as nn\n",
    "from torchvision import transforms"
   ]
  },
  {
   "cell_type": "code",
   "execution_count": 2,
   "id": "c9deb7c5-1256-4fdd-b447-69f25786c0e8",
   "metadata": {},
   "outputs": [],
   "source": [
    "import sys\n",
    "sys.path.insert(1, \"../../\")"
   ]
  },
  {
   "cell_type": "code",
   "execution_count": 3,
   "id": "43b63379-9363-448e-b927-2231dbb097b1",
   "metadata": {},
   "outputs": [],
   "source": [
    "from data_preprocessing import get_means, get_stds, ImageNetSubset\n",
    "from Models.darknet19 import Darknet19"
   ]
  },
  {
   "cell_type": "code",
   "execution_count": 4,
   "id": "cbdae16b-4251-46a6-865b-bfa81a9a5ea1",
   "metadata": {},
   "outputs": [],
   "source": [
    "if torch.cuda.is_available():\n",
    "    device=torch.device('cuda')\n",
    "else:\n",
    "    device=torch.device('cpu') "
   ]
  },
  {
   "cell_type": "code",
   "execution_count": 5,
   "id": "ae3c5dd0-ac5d-4cbb-8463-d9ebe0621f3c",
   "metadata": {},
   "outputs": [],
   "source": [
    "data_path = '../../../dummy_datasets/'\n",
    "norms_path = os.path.join(data_path, 'norms.json')"
   ]
  },
  {
   "cell_type": "code",
   "execution_count": 6,
   "id": "e608e517-6da7-41c7-b62d-81cca6aecf54",
   "metadata": {},
   "outputs": [
    {
     "name": "stdout",
     "output_type": "stream",
     "text": [
      "Means are: [0.4405549168586731, 0.4407285749912262, 0.4381718039512634]\n",
      "stds are: [0.25142669677734375, 0.25270089507102966, 0.25131651759147644]\n"
     ]
    }
   ],
   "source": [
    "means = get_means(path=norms_path, train_loader=None)\n",
    "stds = get_stds(path=norms_path, train_loader=None)"
   ]
  },
  {
   "cell_type": "code",
   "execution_count": 7,
   "id": "840c3bfd-3f57-4508-9834-fd0c87b7532a",
   "metadata": {},
   "outputs": [],
   "source": [
    "transformations = transforms.Compose([transforms.ToTensor(),\n",
    "                                      transforms.Resize((224, 224)),\n",
    "                                      transforms.Normalize(mean=means, std=stds)])"
   ]
  },
  {
   "cell_type": "code",
   "execution_count": 8,
   "id": "dfaadddf-3f19-4b50-93b4-98cf177980fb",
   "metadata": {},
   "outputs": [],
   "source": [
    "train_dataset = ImageNetSubset(path=data_path, train=True, transform=transformations, half=False, show=False)"
   ]
  },
  {
   "cell_type": "markdown",
   "id": "102fb805-2a55-41c6-8ef3-82c9c46dca89",
   "metadata": {},
   "source": [
    "# Inference"
   ]
  },
  {
   "cell_type": "code",
   "execution_count": 24,
   "id": "0334802c-836d-4d5e-84fb-3bb63513304b",
   "metadata": {},
   "outputs": [],
   "source": [
    "model = Darknet19(num_classes=1000, device=device, dtype=torch.float32)"
   ]
  },
  {
   "cell_type": "code",
   "execution_count": 25,
   "id": "0c74c18e-ac17-4de9-a2a4-4787cb14017d",
   "metadata": {},
   "outputs": [],
   "source": [
    "img = train_dataset[0][0].unsqueeze(0)"
   ]
  },
  {
   "cell_type": "code",
   "execution_count": 26,
   "id": "49cee9ed-c904-430e-8547-65f4a7d374fa",
   "metadata": {},
   "outputs": [],
   "source": [
    "from torch.profiler import profile, ProfilerActivity"
   ]
  },
  {
   "cell_type": "code",
   "execution_count": 27,
   "id": "d2426ee4-b05b-47a4-8824-f1f603966f87",
   "metadata": {},
   "outputs": [
    {
     "name": "stdout",
     "output_type": "stream",
     "text": [
      "---------------------------------  ------------  ------------  ------------  ------------  ------------  ------------  ------------  ------------  ------------  \n",
      "                             Name    Self CPU %      Self CPU   CPU total %     CPU total  CPU time avg       CPU Mem  Self CPU Mem    # of Calls  Total GFLOPs  \n",
      "---------------------------------  ------------  ------------  ------------  ------------  ------------  ------------  ------------  ------------  ------------  \n",
      "                       Conv block         7.39%       9.074ms        80.42%      98.734ms       5.485ms      51.73 Mb           0 b            18            --  \n",
      "                     aten::conv2d         0.22%     267.500us        55.62%      68.292ms       3.594ms      17.41 Mb           0 b            19         5.582  \n",
      "                aten::convolution         0.54%     660.400us        55.40%      68.024ms       3.580ms      17.41 Mb           0 b            19            --  \n",
      "               aten::_convolution         0.30%     372.500us        54.87%      67.364ms       3.545ms      17.41 Mb           0 b            19            --  \n",
      "         aten::mkldnn_convolution        53.93%      66.211ms        54.56%      66.991ms       3.526ms      17.41 Mb           0 b            19            --  \n",
      "                      aten::empty         0.66%     806.400us         0.66%     806.400us       4.431us      34.80 Mb      34.80 Mb           182            --  \n",
      "                aten::as_strided_         0.20%     249.900us         0.20%     249.900us      13.153us           0 b           0 b            19            --  \n",
      "                    aten::resize_         0.04%      53.600us         0.04%      53.600us       2.821us           0 b           0 b            19            --  \n",
      "                       aten::add_         0.29%     358.000us         0.29%     358.000us      19.889us           0 b           0 b            18            --  \n",
      "                 aten::batch_norm         0.12%     152.300us        13.37%      16.415ms     911.944us      17.28 Mb           0 b            18            --  \n",
      "     aten::_batch_norm_impl_index         0.26%     316.500us        13.25%      16.263ms     903.483us      17.28 Mb           0 b            18            --  \n",
      "          aten::native_batch_norm        12.62%      15.496ms        12.95%      15.901ms     883.406us      17.28 Mb    -112.50 Kb            18            --  \n",
      "                 aten::empty_like         0.10%     119.900us         0.15%     182.600us      10.144us      17.23 Mb           0 b            18            --  \n",
      "                 aten::leaky_relu         4.80%       5.888ms         4.80%       5.888ms     327.111us      17.23 Mb      17.23 Mb            18            --  \n",
      "                      Max pooling         1.18%       1.444ms        18.17%      22.312ms       4.462ms       8.90 Mb           0 b             5            --  \n",
      "                 aten::max_pool2d         0.07%      84.900us        17.00%      20.867ms       4.173ms       8.90 Mb           0 b             5            --  \n",
      "    aten::max_pool2d_with_indices        16.93%      20.783ms        16.93%      20.783ms       4.157ms       8.90 Mb       8.90 Mb             5            --  \n",
      "         Adaptive Average Pooling         0.13%     154.500us         0.21%     260.800us     260.800us    -187.50 Kb    -191.41 Kb             1            --  \n",
      "        aten::adaptive_avg_pool2d         0.00%       5.200us         0.09%     106.300us     106.300us       3.91 Kb           0 b             1            --  \n",
      "                       aten::mean         0.02%      21.000us         0.08%     101.100us     101.100us       3.91 Kb       3.90 Kb             1            --  \n",
      "                        aten::sum         0.03%      32.900us         0.03%      36.800us      36.800us           0 b           0 b             1            --  \n",
      "                      aten::fill_         0.00%       3.900us         0.00%       3.900us       3.900us           0 b           0 b             1            --  \n",
      "                       aten::div_         0.02%      18.500us         0.04%      43.300us      43.300us           8 b           4 b             1            --  \n",
      "                         aten::to         0.00%       4.600us         0.02%      24.800us      24.800us           4 b           0 b             1            --  \n",
      "                   aten::_to_copy         0.01%      10.900us         0.02%      20.200us      20.200us           4 b           0 b             1            --  \n",
      "              aten::empty_strided         0.00%       3.400us         0.00%       3.400us       3.400us           4 b           4 b             1            --  \n",
      "                      aten::copy_         0.00%       5.900us         0.00%       5.900us       5.900us           0 b           0 b             1            --  \n",
      "                          Flatten         0.05%      59.100us         0.06%      76.000us      76.000us           0 b           0 b             1            --  \n",
      "                    aten::flatten         0.00%       5.600us         0.01%      16.900us      16.900us           0 b           0 b             1            --  \n",
      "                       aten::view         0.01%      11.300us         0.01%      11.300us      11.300us           0 b           0 b             1            --  \n",
      "                      Log Softmax         0.07%      81.300us         0.08%     102.900us     102.900us           0 b      -3.91 Kb             1            --  \n",
      "                aten::log_softmax         0.00%       5.000us         0.02%      21.600us      21.600us       3.91 Kb           0 b             1            --  \n",
      "               aten::_log_softmax         0.01%      16.600us         0.01%      16.600us      16.600us       3.91 Kb       3.91 Kb             1            --  \n",
      "                         [memory]         0.00%       0.000us         0.00%       0.000us       0.000us     -60.64 Mb     -60.64 Mb           101            --  \n",
      "---------------------------------  ------------  ------------  ------------  ------------  ------------  ------------  ------------  ------------  ------------  \n",
      "Self CPU time total: 122.778ms\n",
      "\n"
     ]
    }
   ],
   "source": [
    "with profile(activities=[ProfilerActivity.CPU, ProfilerActivity.CUDA],\n",
    "                                    # schedule=torch.profiler.schedule(wait=0, warmup=0, active=1, repeat=1),\n",
    "                                    on_trace_ready=torch.profiler.tensorboard_trace_handler('../log/darknet19/inference'),\n",
    "                                    record_shapes=True,\n",
    "                                    profile_memory=True,\n",
    "                                    with_flops=True,\n",
    "                                    with_modules=True,\n",
    "                                    with_stack=True) as prof:\n",
    "   out = model(img)\n",
    "print(prof.key_averages().table(row_limit=-1))"
   ]
  },
  {
   "cell_type": "code",
   "execution_count": null,
   "id": "c1fd1d57-8d3c-4729-b794-804774926d7f",
   "metadata": {},
   "outputs": [],
   "source": []
  }
 ],
 "metadata": {
  "kernelspec": {
   "display_name": "Python 3 (ipykernel)",
   "language": "python",
   "name": "python3"
  },
  "language_info": {
   "codemirror_mode": {
    "name": "ipython",
    "version": 3
   },
   "file_extension": ".py",
   "mimetype": "text/x-python",
   "name": "python",
   "nbconvert_exporter": "python",
   "pygments_lexer": "ipython3",
   "version": "3.12.6"
  }
 },
 "nbformat": 4,
 "nbformat_minor": 5
}
