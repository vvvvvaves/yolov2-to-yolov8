{
 "cells": [
  {
   "cell_type": "code",
   "execution_count": 4,
   "id": "a5258e5c-2fd1-45d6-bf25-96674d504f91",
   "metadata": {},
   "outputs": [],
   "source": [
    "import os\n",
    "import torch\n",
    "import torch.nn as nn\n",
    "from torchvision import transforms"
   ]
  },
  {
   "cell_type": "code",
   "execution_count": 5,
   "id": "c9deb7c5-1256-4fdd-b447-69f25786c0e8",
   "metadata": {},
   "outputs": [],
   "source": [
    "import sys\n",
    "sys.path.insert(1, \"../../\")"
   ]
  },
  {
   "cell_type": "code",
   "execution_count": 6,
   "id": "43b63379-9363-448e-b927-2231dbb097b1",
   "metadata": {},
   "outputs": [],
   "source": [
    "from data_preprocessing import get_means, get_stds, ImageNetSubset\n",
    "from Models.darknet19 import Darknet19\n",
    "from evaluation import count_parameters"
   ]
  },
  {
   "cell_type": "code",
   "execution_count": 7,
   "id": "cbdae16b-4251-46a6-865b-bfa81a9a5ea1",
   "metadata": {},
   "outputs": [],
   "source": [
    "if torch.cuda.is_available():\n",
    "    device=torch.device('cuda')\n",
    "else:\n",
    "    device=torch.device('cpu') "
   ]
  },
  {
   "cell_type": "code",
   "execution_count": 8,
   "id": "ae3c5dd0-ac5d-4cbb-8463-d9ebe0621f3c",
   "metadata": {},
   "outputs": [],
   "source": [
    "data_path = '../../../dummy_datasets/'\n",
    "norms_path = os.path.join(data_path, 'norms.json')"
   ]
  },
  {
   "cell_type": "code",
   "execution_count": 9,
   "id": "e608e517-6da7-41c7-b62d-81cca6aecf54",
   "metadata": {},
   "outputs": [
    {
     "name": "stdout",
     "output_type": "stream",
     "text": [
      "Means are: [0.4405549168586731, 0.4407285749912262, 0.4381718039512634]\n",
      "stds are: [0.25142669677734375, 0.25270089507102966, 0.25131651759147644]\n"
     ]
    }
   ],
   "source": [
    "means = get_means(path=norms_path, train_loader=None)\n",
    "stds = get_stds(path=norms_path, train_loader=None)"
   ]
  },
  {
   "cell_type": "markdown",
   "id": "102fb805-2a55-41c6-8ef3-82c9c46dca89",
   "metadata": {},
   "source": [
    "# Inference at 640x640"
   ]
  },
  {
   "cell_type": "code",
   "execution_count": 10,
   "id": "840c3bfd-3f57-4508-9834-fd0c87b7532a",
   "metadata": {},
   "outputs": [],
   "source": [
    "transformations = transforms.Compose([transforms.ToTensor(),\n",
    "                                      transforms.Resize((640, 640)),\n",
    "                                      transforms.Normalize(mean=means, std=stds)])"
   ]
  },
  {
   "cell_type": "code",
   "execution_count": 11,
   "id": "dfaadddf-3f19-4b50-93b4-98cf177980fb",
   "metadata": {},
   "outputs": [],
   "source": [
    "train_dataset = ImageNetSubset(path=data_path, train=True, transform=transformations, half=False, show=False)"
   ]
  },
  {
   "cell_type": "code",
   "execution_count": 12,
   "id": "0334802c-836d-4d5e-84fb-3bb63513304b",
   "metadata": {},
   "outputs": [],
   "source": [
    "model = Darknet19(num_classes=1000, device=device, dtype=torch.float32)"
   ]
  },
  {
   "cell_type": "code",
   "execution_count": 13,
   "id": "0c74c18e-ac17-4de9-a2a4-4787cb14017d",
   "metadata": {},
   "outputs": [],
   "source": [
    "img = train_dataset[0][0].unsqueeze(0)"
   ]
  },
  {
   "cell_type": "code",
   "execution_count": 14,
   "id": "49cee9ed-c904-430e-8547-65f4a7d374fa",
   "metadata": {},
   "outputs": [],
   "source": [
    "from torch.profiler import profile, ProfilerActivity"
   ]
  },
  {
   "cell_type": "code",
   "execution_count": 15,
   "id": "1fc42bb0-bc21-48e3-886d-eec03d7cdc1b",
   "metadata": {},
   "outputs": [
    {
     "name": "stdout",
     "output_type": "stream",
     "text": [
      "---------------------------------  ------------  ------------  ------------  ------------  ------------  ------------  ------------  ------------  ------------  \n",
      "                             Name    Self CPU %      Self CPU   CPU total %     CPU total  CPU time avg       CPU Mem  Self CPU Mem    # of Calls  Total GFLOPs  \n",
      "---------------------------------  ------------  ------------  ------------  ------------  ------------  ------------  ------------  ------------  ------------  \n",
      "                    ProfilerStep*         0.43%      20.764ms       100.00%        4.779s     477.914ms     494.59 Mb      -4.35 Gb            10            --  \n",
      "                       Conv block         1.87%      89.259ms        81.75%        3.907s      21.704ms       4.12 Gb           0 b           180            --  \n",
      "                     aten::conv2d         0.05%       2.483ms        61.81%        2.954s      15.548ms       1.39 Gb           0 b           190       455.672  \n",
      "                aten::convolution         0.14%       6.792ms        61.76%        2.952s      15.535ms       1.39 Gb           0 b           190            --  \n",
      "               aten::_convolution         0.10%       4.652ms        61.62%        2.945s      15.499ms       1.39 Gb           0 b           190            --  \n",
      "         aten::mkldnn_convolution        61.40%        2.935s        61.52%        2.940s      15.475ms       1.39 Gb           0 b           190            --  \n",
      "                      aten::empty         0.15%       7.258ms         0.15%       7.258ms       3.988us       2.76 Gb       2.76 Gb          1820            --  \n",
      "                aten::as_strided_         0.04%       1.769ms         0.04%       1.769ms       9.313us           0 b           0 b           190            --  \n",
      "                    aten::resize_         0.01%     498.100us         0.01%     498.100us       2.622us           0 b           0 b           190            --  \n",
      "                       aten::add_         0.08%       3.955ms         0.08%       3.955ms      21.974us           0 b           0 b           180            --  \n",
      "                 aten::batch_norm         0.03%       1.657ms        14.93%     713.563ms       3.964ms       1.37 Gb           0 b           180            --  \n",
      "     aten::_batch_norm_impl_index         0.08%       3.817ms        14.90%     711.906ms       3.955ms       1.37 Gb           0 b           180            --  \n",
      "          aten::native_batch_norm        14.71%     702.883ms        14.81%     707.633ms       3.931ms       1.37 Gb      -1.10 Mb           180            --  \n",
      "                 aten::empty_like         0.03%       1.243ms         0.04%       2.046ms      11.368us       1.37 Gb           0 b           180            --  \n",
      "                 aten::leaky_relu         4.22%     201.506ms         4.22%     201.506ms       1.119ms       1.37 Gb       1.37 Gb           180            --  \n",
      "                      Max pooling         0.28%      13.389ms        16.46%     786.613ms      15.732ms     726.56 Mb           0 b            50            --  \n",
      "                 aten::max_pool2d         0.01%     691.700us        16.18%     773.224ms      15.464ms     726.56 Mb           0 b            50            --  \n",
      "    aten::max_pool2d_with_indices        16.16%     772.533ms        16.16%     772.533ms      15.451ms     726.56 Mb     726.56 Mb            50            --  \n",
      "                       ClassifyV2         0.05%       2.588ms         1.36%      64.956ms       6.496ms      39.06 Kb           0 b            10            --  \n",
      "         Adaptive Average Pooling         0.04%       2.079ms         0.10%       4.728ms     472.800us     -15.22 Mb     -15.26 Mb            10            --  \n",
      "        aten::adaptive_avg_pool2d         0.00%      70.200us         0.06%       2.649ms     264.940us      39.06 Kb           0 b            10            --  \n",
      "                       aten::mean         0.01%     308.200us         0.05%       2.579ms     257.920us      39.06 Kb      39.05 Kb            10            --  \n",
      "                        aten::sum         0.02%       1.057ms         0.02%       1.117ms     111.720us           0 b           0 b            10            --  \n",
      "                      aten::fill_         0.00%      60.100us         0.00%      60.100us       6.010us           0 b           0 b            10            --  \n",
      "                       aten::div_         0.01%     247.900us         0.02%       1.154ms     115.380us           8 b         -32 b            10            --  \n",
      "                         aten::to         0.00%      72.800us         0.02%     905.900us      90.590us          40 b           0 b            10            --  \n",
      "                   aten::_to_copy         0.02%     729.000us         0.02%     833.100us      83.310us          40 b           0 b            10            --  \n",
      "              aten::empty_strided         0.00%      43.200us         0.00%      43.200us       4.320us          40 b          40 b            10            --  \n",
      "                      aten::copy_         0.00%      60.900us         0.00%      60.900us       6.090us           0 b           0 b            10            --  \n",
      "                          Flatten         0.01%     690.100us         0.02%     903.100us      90.310us           0 b           0 b            10            --  \n",
      "                    aten::flatten         0.00%      68.500us         0.00%     213.000us      21.300us           0 b           0 b            10            --  \n",
      "                       aten::view         0.00%     144.500us         0.00%     144.500us      14.450us           0 b           0 b            10            --  \n",
      "                      Log Softmax         0.02%     884.300us         0.02%       1.152ms     115.160us           0 b     -39.06 Kb            10            --  \n",
      "                aten::log_softmax         0.00%      53.600us         0.01%     267.300us      26.730us      39.06 Kb           0 b            10            --  \n",
      "               aten::_log_softmax         0.00%     213.700us         0.00%     213.700us      21.370us      39.06 Kb      39.06 Kb            10            --  \n",
      "---------------------------------  ------------  ------------  ------------  ------------  ------------  ------------  ------------  ------------  ------------  \n",
      "Self CPU time total: 4.779s\n",
      "\n"
     ]
    }
   ],
   "source": [
    "with profile(activities=[ProfilerActivity.CPU],\n",
    "                                    schedule=torch.profiler.schedule(wait=1, warmup=1, active=10, repeat=1),\n",
    "                                    on_trace_ready=torch.profiler.tensorboard_trace_handler('../log/darknet19/inference_at_640'),\n",
    "                                    record_shapes=True,\n",
    "                                    profile_memory=True,\n",
    "                                    with_flops=True,\n",
    "                                    with_modules=True,\n",
    "                                    with_stack=True) as prof:\n",
    "    for i in range(12):\n",
    "        out = model(img)\n",
    "        prof.step()\n",
    "print(prof.key_averages().table(row_limit=-1))"
   ]
  },
  {
   "cell_type": "markdown",
   "id": "bd5625b3-8ce9-448c-a2b3-d99ff04551f5",
   "metadata": {},
   "source": [
    "# Inference at 224x224"
   ]
  },
  {
   "cell_type": "code",
   "execution_count": 16,
   "id": "beab481d-2aad-432e-872e-ec056fa55e91",
   "metadata": {},
   "outputs": [],
   "source": [
    "transformations = transforms.Compose([transforms.ToTensor(),\n",
    "                                      transforms.Resize((224, 224)),\n",
    "                                      transforms.Normalize(mean=means, std=stds)])"
   ]
  },
  {
   "cell_type": "code",
   "execution_count": 17,
   "id": "3628ab1c-3662-4a23-a7c0-5dc2b9e2d650",
   "metadata": {},
   "outputs": [],
   "source": [
    "train_dataset = ImageNetSubset(path=data_path, train=True, transform=transformations, half=False, show=False)"
   ]
  },
  {
   "cell_type": "code",
   "execution_count": 18,
   "id": "af5c0bac-91d1-41cb-af78-df9e04bd88da",
   "metadata": {},
   "outputs": [],
   "source": [
    "model = Darknet19(num_classes=1000, device=device, dtype=torch.float32)"
   ]
  },
  {
   "cell_type": "code",
   "execution_count": 19,
   "id": "f65d3fec-2152-4b5a-9a62-50d8670a24c5",
   "metadata": {},
   "outputs": [],
   "source": [
    "img = train_dataset[0][0].unsqueeze(0)"
   ]
  },
  {
   "cell_type": "code",
   "execution_count": 20,
   "id": "e28edd54-ce44-41ac-aed4-b3aced1f70ef",
   "metadata": {},
   "outputs": [],
   "source": [
    "from torch.profiler import profile, ProfilerActivity"
   ]
  },
  {
   "cell_type": "code",
   "execution_count": 21,
   "id": "f7fcc41d-607f-4715-9099-f12a757cb2a0",
   "metadata": {},
   "outputs": [
    {
     "name": "stdout",
     "output_type": "stream",
     "text": [
      "---------------------------------  ------------  ------------  ------------  ------------  ------------  ------------  ------------  ------------  ------------  \n",
      "                             Name    Self CPU %      Self CPU   CPU total %     CPU total  CPU time avg       CPU Mem  Self CPU Mem    # of Calls  Total GFLOPs  \n",
      "---------------------------------  ------------  ------------  ------------  ------------  ------------  ------------  ------------  ------------  ------------  \n",
      "                    ProfilerStep*         1.64%      11.799ms       100.00%     718.170ms      71.817ms      53.61 Mb    -552.78 Mb            10            --  \n",
      "                       Conv block         5.79%      41.586ms        82.39%     591.718ms       3.287ms     517.35 Mb           0 b           180            --  \n",
      "                     aten::conv2d         0.19%       1.394ms        64.84%     465.640ms       2.451ms     174.13 Mb           0 b           190        55.820  \n",
      "                aten::convolution         0.46%       3.311ms        64.64%     464.246ms       2.443ms     174.13 Mb           0 b           190            --  \n",
      "               aten::_convolution         0.39%       2.832ms        64.18%     460.935ms       2.426ms     174.13 Mb           0 b           190            --  \n",
      "         aten::mkldnn_convolution        63.46%     455.716ms        63.79%     458.103ms       2.411ms     174.13 Mb           0 b           190            --  \n",
      "                      aten::empty         0.50%       3.597ms         0.50%       3.597ms       1.976us     348.05 Mb     348.05 Mb          1820            --  \n",
      "                aten::as_strided_         0.11%     782.000us         0.11%     782.000us       4.116us           0 b           0 b           190            --  \n",
      "                    aten::resize_         0.03%     250.500us         0.03%     250.500us       1.318us           0 b           0 b           190            --  \n",
      "                       aten::add_         0.26%       1.892ms         0.26%       1.892ms      10.510us           0 b           0 b           180            --  \n",
      "                 aten::batch_norm         0.13%     944.100us        10.85%      77.940ms     432.999us     172.81 Mb           0 b           180            --  \n",
      "     aten::_batch_norm_impl_index         0.29%       2.080ms        10.72%      76.996ms     427.754us     172.81 Mb           0 b           180            --  \n",
      "          aten::native_batch_norm        10.00%      71.827ms        10.39%      74.646ms     414.699us     172.81 Mb      -1.10 Mb           180            --  \n",
      "                 aten::empty_like         0.12%     846.800us         0.17%       1.254ms       6.966us     172.27 Mb           0 b           180            --  \n",
      "                 aten::leaky_relu         2.38%      17.126ms         2.38%      17.126ms      95.144us     172.27 Mb     172.27 Mb           180            --  \n",
      "                      Max pooling         0.86%       6.161ms        13.41%      96.328ms       1.927ms      89.00 Mb           0 b            50            --  \n",
      "                 aten::max_pool2d         0.06%     452.300us        12.56%      90.166ms       1.803ms      89.00 Mb           0 b            50            --  \n",
      "    aten::max_pool2d_with_indices        12.49%      89.714ms        12.49%      89.714ms       1.794ms      89.00 Mb      89.00 Mb            50            --  \n",
      "                       ClassifyV2         0.23%       1.652ms         2.55%      18.325ms       1.833ms      39.06 Kb           0 b            10            --  \n",
      "         Adaptive Average Pooling         0.16%       1.183ms         0.35%       2.502ms     250.170us      -1.83 Mb      -1.87 Mb            10            --  \n",
      "        aten::adaptive_avg_pool2d         0.01%      54.600us         0.18%       1.319ms     131.880us      39.06 Kb           0 b            10            --  \n",
      "                       aten::mean         0.03%     209.300us         0.18%       1.264ms     126.420us      39.06 Kb      39.06 Kb            10            --  \n",
      "                        aten::sum         0.05%     332.800us         0.05%     373.800us      37.380us           0 b           0 b            10            --  \n",
      "                      aten::fill_         0.01%      41.000us         0.01%      41.000us       4.100us           0 b           0 b            10            --  \n",
      "                       aten::div_         0.03%     182.300us         0.09%     681.100us      68.110us           0 b         -40 b            10            --  \n",
      "                         aten::to         0.01%      46.400us         0.07%     498.800us      49.880us          40 b           0 b            10            --  \n",
      "                   aten::_to_copy         0.05%     362.000us         0.06%     452.400us      45.240us          40 b           0 b            10            --  \n",
      "              aten::empty_strided         0.01%      37.100us         0.01%      37.100us       3.710us          40 b          40 b            10            --  \n",
      "                      aten::copy_         0.01%      53.300us         0.01%      53.300us       5.330us           0 b           0 b            10            --  \n",
      "                          Flatten         0.08%     589.100us         0.11%     770.100us      77.010us           0 b           0 b            10            --  \n",
      "                    aten::flatten         0.01%      59.400us         0.03%     181.000us      18.100us           0 b           0 b            10            --  \n",
      "                       aten::view         0.02%     121.600us         0.02%     121.600us      12.160us           0 b           0 b            10            --  \n",
      "                      Log Softmax         0.10%     720.100us         0.13%     935.500us      93.550us           0 b     -39.06 Kb            10            --  \n",
      "                aten::log_softmax         0.01%      50.900us         0.03%     215.400us      21.540us      39.06 Kb           0 b            10            --  \n",
      "               aten::_log_softmax         0.02%     164.500us         0.02%     164.500us      16.450us      39.06 Kb      39.06 Kb            10            --  \n",
      "---------------------------------  ------------  ------------  ------------  ------------  ------------  ------------  ------------  ------------  ------------  \n",
      "Self CPU time total: 718.170ms\n",
      "\n"
     ]
    }
   ],
   "source": [
    "with profile(activities=[ProfilerActivity.CPU],\n",
    "                                    schedule=torch.profiler.schedule(wait=1, warmup=1, active=10, repeat=1),\n",
    "                                    on_trace_ready=torch.profiler.tensorboard_trace_handler('../log/darknet19/inference_at_224'),\n",
    "                                    record_shapes=True,\n",
    "                                    profile_memory=True,\n",
    "                                    with_flops=True,\n",
    "                                    with_modules=True,\n",
    "                                    with_stack=True) as prof:\n",
    "    for i in range(12):\n",
    "        out = model(img)\n",
    "        prof.step()\n",
    "print(prof.key_averages().table(row_limit=-1))"
   ]
  },
  {
   "cell_type": "markdown",
   "id": "7bbda685-2209-439b-ad06-2b1df4546208",
   "metadata": {},
   "source": [
    "# Inference at 224x224 using Ultralytics functions"
   ]
  },
  {
   "cell_type": "code",
   "execution_count": 22,
   "id": "3a35eafd-8192-40c2-a17b-131c0a5232e7",
   "metadata": {},
   "outputs": [],
   "source": [
    "from ultralytics_flops import get_flops, get_flops_with_torch_profiler"
   ]
  },
  {
   "cell_type": "code",
   "execution_count": 23,
   "id": "34b7d9f4-58b7-4786-8683-247c2ff86c24",
   "metadata": {},
   "outputs": [
    {
     "data": {
      "text/plain": [
       "5.618206368"
      ]
     },
     "execution_count": 23,
     "metadata": {},
     "output_type": "execute_result"
    }
   ],
   "source": [
    "get_flops(model, imgsz=224)"
   ]
  },
  {
   "cell_type": "code",
   "execution_count": 24,
   "id": "0cd1b292-523b-4c02-a95a-08d5b88cf3f2",
   "metadata": {},
   "outputs": [
    {
     "data": {
      "text/plain": [
       "5.581979648"
      ]
     },
     "execution_count": 24,
     "metadata": {},
     "output_type": "execute_result"
    }
   ],
   "source": [
    "get_flops_with_torch_profiler(model, imgsz=224)"
   ]
  },
  {
   "cell_type": "markdown",
   "id": "378058ae-3c50-407b-bdec-918e73c04470",
   "metadata": {},
   "source": [
    "# Count Parameters"
   ]
  },
  {
   "cell_type": "code",
   "execution_count": 207,
   "id": "7ed1cb6d-7a10-4249-a95b-91c871b6bf8a",
   "metadata": {},
   "outputs": [
    {
     "data": {
      "text/plain": [
       "20841376"
      ]
     },
     "execution_count": 207,
     "metadata": {},
     "output_type": "execute_result"
    }
   ],
   "source": [
    "count_parameters(model)"
   ]
  }
 ],
 "metadata": {
  "kernelspec": {
   "display_name": "Python 3 (ipykernel)",
   "language": "python",
   "name": "python3"
  },
  "language_info": {
   "codemirror_mode": {
    "name": "ipython",
    "version": 3
   },
   "file_extension": ".py",
   "mimetype": "text/x-python",
   "name": "python",
   "nbconvert_exporter": "python",
   "pygments_lexer": "ipython3",
   "version": "3.12.6"
  }
 },
 "nbformat": 4,
 "nbformat_minor": 5
}
