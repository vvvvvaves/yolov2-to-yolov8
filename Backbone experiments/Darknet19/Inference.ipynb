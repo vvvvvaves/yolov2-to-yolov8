{
 "cells": [
  {
   "cell_type": "code",
   "execution_count": 1,
   "id": "a5258e5c-2fd1-45d6-bf25-96674d504f91",
   "metadata": {},
   "outputs": [],
   "source": [
    "import os\n",
    "import torch\n",
    "import torch.nn as nn\n",
    "from torchvision import transforms"
   ]
  },
  {
   "cell_type": "code",
   "execution_count": 2,
   "id": "c9deb7c5-1256-4fdd-b447-69f25786c0e8",
   "metadata": {},
   "outputs": [],
   "source": [
    "import sys\n",
    "sys.path.insert(1, \"../../\")"
   ]
  },
  {
   "cell_type": "code",
   "execution_count": 3,
   "id": "43b63379-9363-448e-b927-2231dbb097b1",
   "metadata": {},
   "outputs": [],
   "source": [
    "from data_preprocessing import get_means, get_stds, ImageNetSubset\n",
    "from Models.darknet19 import Darknet19"
   ]
  },
  {
   "cell_type": "code",
   "execution_count": 4,
   "id": "cbdae16b-4251-46a6-865b-bfa81a9a5ea1",
   "metadata": {},
   "outputs": [],
   "source": [
    "if torch.cuda.is_available():\n",
    "    device=torch.device('cuda')\n",
    "else:\n",
    "    device=torch.device('cpu') "
   ]
  },
  {
   "cell_type": "code",
   "execution_count": 5,
   "id": "ae3c5dd0-ac5d-4cbb-8463-d9ebe0621f3c",
   "metadata": {},
   "outputs": [],
   "source": [
    "data_path = '../../../dummy_datasets/'\n",
    "norms_path = os.path.join(data_path, 'norms.json')"
   ]
  },
  {
   "cell_type": "code",
   "execution_count": 6,
   "id": "e608e517-6da7-41c7-b62d-81cca6aecf54",
   "metadata": {},
   "outputs": [
    {
     "name": "stdout",
     "output_type": "stream",
     "text": [
      "Means are: [0.4405549168586731, 0.4407285749912262, 0.4381718039512634]\n",
      "stds are: [0.25142669677734375, 0.25270089507102966, 0.25131651759147644]\n"
     ]
    }
   ],
   "source": [
    "means = get_means(path=norms_path, train_loader=None)\n",
    "stds = get_stds(path=norms_path, train_loader=None)"
   ]
  },
  {
   "cell_type": "code",
   "execution_count": 7,
   "id": "840c3bfd-3f57-4508-9834-fd0c87b7532a",
   "metadata": {},
   "outputs": [],
   "source": [
    "transformations = transforms.Compose([transforms.ToTensor(),\n",
    "                                      transforms.Resize((224, 224)),\n",
    "                                      transforms.Normalize(mean=means, std=stds)])"
   ]
  },
  {
   "cell_type": "code",
   "execution_count": 8,
   "id": "dfaadddf-3f19-4b50-93b4-98cf177980fb",
   "metadata": {},
   "outputs": [],
   "source": [
    "train_dataset = ImageNetSubset(path=data_path, train=True, transform=transformations, half=False, show=False)"
   ]
  },
  {
   "cell_type": "markdown",
   "id": "102fb805-2a55-41c6-8ef3-82c9c46dca89",
   "metadata": {},
   "source": [
    "# Inference"
   ]
  },
  {
   "cell_type": "code",
   "execution_count": 9,
   "id": "0334802c-836d-4d5e-84fb-3bb63513304b",
   "metadata": {},
   "outputs": [],
   "source": [
    "model = Darknet19(num_classes=1000, device=device, dtype=torch.float32)"
   ]
  },
  {
   "cell_type": "code",
   "execution_count": 10,
   "id": "0c74c18e-ac17-4de9-a2a4-4787cb14017d",
   "metadata": {},
   "outputs": [],
   "source": [
    "img = train_dataset[0][0].unsqueeze(0)"
   ]
  },
  {
   "cell_type": "code",
   "execution_count": 11,
   "id": "49cee9ed-c904-430e-8547-65f4a7d374fa",
   "metadata": {},
   "outputs": [],
   "source": [
    "from torch.profiler import profile, ProfilerActivity"
   ]
  },
  {
   "cell_type": "code",
   "execution_count": 158,
   "id": "1fc42bb0-bc21-48e3-886d-eec03d7cdc1b",
   "metadata": {},
   "outputs": [
    {
     "name": "stdout",
     "output_type": "stream",
     "text": [
      "---------------------------------  ------------  ------------  ------------  ------------  ------------  ------------  ------------  ------------  ------------  \n",
      "                             Name    Self CPU %      Self CPU   CPU total %     CPU total  CPU time avg       CPU Mem  Self CPU Mem    # of Calls  Total GFLOPs  \n",
      "---------------------------------  ------------  ------------  ------------  ------------  ------------  ------------  ------------  ------------  ------------  \n",
      "                    ProfilerStep*         1.87%      13.470ms       100.00%     719.479ms      71.948ms      60.63 Mb    -545.76 Mb            10            --  \n",
      "                       Conv block         6.61%      47.561ms        82.21%     591.478ms       3.286ms     517.35 Mb           0 b           180            --  \n",
      "                     aten::conv2d         0.21%       1.499ms        63.68%     458.174ms       2.411ms     174.13 Mb           0 b           190        55.820  \n",
      "                aten::convolution         0.52%       3.724ms        63.47%     456.675ms       2.404ms     174.13 Mb           0 b           190            --  \n",
      "               aten::_convolution         0.43%       3.060ms        62.96%     452.951ms       2.384ms     174.13 Mb           0 b           190            --  \n",
      "         aten::mkldnn_convolution        62.17%     447.267ms        62.53%     449.891ms       2.368ms     174.13 Mb           0 b           190            --  \n",
      "                      aten::empty         0.52%       3.770ms         0.52%       3.770ms       2.072us     348.05 Mb     348.05 Mb          1820            --  \n",
      "                aten::as_strided_         0.12%     890.900us         0.12%     890.900us       4.689us           0 b           0 b           190            --  \n",
      "                    aten::resize_         0.04%     269.100us         0.04%     269.100us       1.416us           0 b           0 b           190            --  \n",
      "                       aten::add_         0.31%       2.216ms         0.31%       2.216ms      12.309us           0 b           0 b           180            --  \n",
      "                 aten::batch_norm         0.16%       1.146ms        11.17%      80.397ms     446.652us     172.81 Mb           0 b           180            --  \n",
      "     aten::_batch_norm_impl_index         0.33%       2.380ms        11.02%      79.252ms     440.287us     172.81 Mb           0 b           180            --  \n",
      "          aten::native_batch_norm        10.24%      73.710ms        10.65%      76.617ms     425.648us     172.81 Mb      -1.10 Mb           180            --  \n",
      "                 aten::empty_like         0.12%     855.000us         0.18%       1.264ms       7.024us     172.27 Mb           0 b           180            --  \n",
      "                 aten::leaky_relu         2.55%      18.348ms         2.55%      18.348ms     101.933us     172.27 Mb     172.27 Mb           180            --  \n",
      "                      Max pooling         1.00%       7.181ms        12.87%      92.624ms       1.852ms      89.00 Mb           0 b            50            --  \n",
      "                 aten::max_pool2d         0.06%     399.100us        11.88%      85.444ms       1.709ms      89.00 Mb           0 b            50            --  \n",
      "    aten::max_pool2d_with_indices        11.82%      85.044ms        11.82%      85.044ms       1.701ms      89.00 Mb      89.00 Mb            50            --  \n",
      "                       ClassifyV2         0.27%       1.957ms         3.04%      21.906ms       2.191ms      39.06 Kb           0 b            10            --  \n",
      "         Adaptive Average Pooling         0.20%       1.426ms         0.41%       2.938ms     293.820us      -1.83 Mb      -1.87 Mb            10            --  \n",
      "        aten::adaptive_avg_pool2d         0.01%      66.800us         0.21%       1.512ms     151.250us      39.06 Kb           0 b            10            --  \n",
      "                       aten::mean         0.04%     266.100us         0.20%       1.446ms     144.570us      39.06 Kb      39.06 Kb            10            --  \n",
      "                        aten::sum         0.05%     377.000us         0.06%     421.100us      42.110us           0 b           0 b            10            --  \n",
      "                      aten::fill_         0.01%      44.100us         0.01%      44.100us       4.410us           0 b           0 b            10            --  \n",
      "                       aten::div_         0.03%     197.800us         0.11%     758.500us      75.850us           0 b         -40 b            10            --  \n",
      "                         aten::to         0.01%      49.800us         0.08%     560.700us      56.070us          40 b           0 b            10            --  \n",
      "                   aten::_to_copy         0.06%     414.200us         0.07%     510.900us      51.090us          40 b           0 b            10            --  \n",
      "              aten::empty_strided         0.01%      39.400us         0.01%      39.400us       3.940us          40 b          40 b            10            --  \n",
      "                      aten::copy_         0.01%      57.300us         0.01%      57.300us       5.730us           0 b           0 b            10            --  \n",
      "                          Flatten         0.08%     564.700us         0.11%     757.400us      75.740us           0 b           0 b            10            --  \n",
      "                    aten::flatten         0.01%      62.400us         0.03%     192.700us      19.270us           0 b           0 b            10            --  \n",
      "                       aten::view         0.02%     130.300us         0.02%     130.300us      13.030us           0 b           0 b            10            --  \n",
      "                      Log Softmax         0.11%     798.600us         0.14%       1.037ms     103.690us           0 b     -39.06 Kb            10            --  \n",
      "                aten::log_softmax         0.01%      52.600us         0.03%     238.300us      23.830us      39.06 Kb           0 b            10            --  \n",
      "               aten::_log_softmax         0.03%     185.700us         0.03%     185.700us      18.570us      39.06 Kb      39.06 Kb            10            --  \n",
      "---------------------------------  ------------  ------------  ------------  ------------  ------------  ------------  ------------  ------------  ------------  \n",
      "Self CPU time total: 719.479ms\n",
      "\n"
     ]
    }
   ],
   "source": [
    "with profile(activities=[ProfilerActivity.CPU],\n",
    "                                    schedule=torch.profiler.schedule(wait=1, warmup=2, active=10, repeat=1),\n",
    "                                    on_trace_ready=torch.profiler.tensorboard_trace_handler('../log/darknet19/inference'),\n",
    "                                    record_shapes=True,\n",
    "                                    profile_memory=True,\n",
    "                                    with_flops=True,\n",
    "                                    with_modules=True,\n",
    "                                    with_stack=True) as prof:\n",
    "    for i in range(13):\n",
    "        out = model(img)\n",
    "        prof.step()\n",
    "print(prof.key_averages().table(row_limit=-1))"
   ]
  },
  {
   "cell_type": "code",
   "execution_count": null,
   "id": "7ed1cb6d-7a10-4249-a95b-91c871b6bf8a",
   "metadata": {},
   "outputs": [],
   "source": []
  }
 ],
 "metadata": {
  "kernelspec": {
   "display_name": "Python 3 (ipykernel)",
   "language": "python",
   "name": "python3"
  },
  "language_info": {
   "codemirror_mode": {
    "name": "ipython",
    "version": 3
   },
   "file_extension": ".py",
   "mimetype": "text/x-python",
   "name": "python",
   "nbconvert_exporter": "python",
   "pygments_lexer": "ipython3",
   "version": "3.12.6"
  }
 },
 "nbformat": 4,
 "nbformat_minor": 5
}
