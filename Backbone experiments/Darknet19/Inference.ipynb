{
 "cells": [
  {
   "cell_type": "code",
   "execution_count": 1,
   "id": "a5258e5c-2fd1-45d6-bf25-96674d504f91",
   "metadata": {},
   "outputs": [],
   "source": [
    "import os\n",
    "import torch\n",
    "import torch.nn as nn\n",
    "from torchvision import transforms\n",
    "import numpy as np"
   ]
  },
  {
   "cell_type": "code",
   "execution_count": 2,
   "id": "c9deb7c5-1256-4fdd-b447-69f25786c0e8",
   "metadata": {},
   "outputs": [],
   "source": [
    "import sys\n",
    "sys.path.insert(1, \"../../\")"
   ]
  },
  {
   "cell_type": "code",
   "execution_count": 14,
   "id": "43b63379-9363-448e-b927-2231dbb097b1",
   "metadata": {},
   "outputs": [],
   "source": [
    "from data_preprocessing import get_norms, ImageNetSubset\n",
    "from Models.darknet19 import Darknet19\n",
    "from evaluation import count_parameters"
   ]
  },
  {
   "cell_type": "code",
   "execution_count": 4,
   "id": "cbdae16b-4251-46a6-865b-bfa81a9a5ea1",
   "metadata": {},
   "outputs": [],
   "source": [
    "if torch.cuda.is_available():\n",
    "    device=torch.device('cuda:0')\n",
    "else:\n",
    "    device=torch.device('cpu') \n",
    "device=torch.device('cpu') "
   ]
  },
  {
   "cell_type": "code",
   "execution_count": 5,
   "id": "0bfde785-3fa9-49ce-a786-88c459176a05",
   "metadata": {},
   "outputs": [
    {
     "data": {
      "text/plain": [
       "device(type='cpu')"
      ]
     },
     "execution_count": 5,
     "metadata": {},
     "output_type": "execute_result"
    }
   ],
   "source": [
    "device"
   ]
  },
  {
   "cell_type": "code",
   "execution_count": 16,
   "id": "ae3c5dd0-ac5d-4cbb-8463-d9ebe0621f3c",
   "metadata": {},
   "outputs": [],
   "source": [
    "data_path = '../../../datasets/imagenette2/'\n",
    "norms_path = os.path.join(data_path, 'norms.json')\n",
    "norms = get_norms(path=norms_path, train_loader=None)\n",
    "means, stds = norms['means'], norms['stds']"
   ]
  },
  {
   "cell_type": "code",
   "execution_count": 17,
   "id": "e608e517-6da7-41c7-b62d-81cca6aecf54",
   "metadata": {},
   "outputs": [],
   "source": [
    "norms = get_norms(path=norms_path, train_loader=None)\n",
    "means, stds = norms['means'], norms['stds']"
   ]
  },
  {
   "cell_type": "markdown",
   "id": "102fb805-2a55-41c6-8ef3-82c9c46dca89",
   "metadata": {},
   "source": [
    "# Inference at 640x640"
   ]
  },
  {
   "cell_type": "code",
   "execution_count": 18,
   "id": "840c3bfd-3f57-4508-9834-fd0c87b7532a",
   "metadata": {},
   "outputs": [],
   "source": [
    "transformations = transforms.Compose([transforms.ToTensor(),\n",
    "                                      transforms.Resize((640, 640)),\n",
    "                                      transforms.Normalize(mean=means, std=stds)])"
   ]
  },
  {
   "cell_type": "code",
   "execution_count": 19,
   "id": "dfaadddf-3f19-4b50-93b4-98cf177980fb",
   "metadata": {},
   "outputs": [],
   "source": [
    "train_dataset = ImageNetSubset(path=data_path, train=True, transform=transformations, half=False, show=False)"
   ]
  },
  {
   "cell_type": "code",
   "execution_count": 20,
   "id": "0334802c-836d-4d5e-84fb-3bb63513304b",
   "metadata": {},
   "outputs": [],
   "source": [
    "model = Darknet19(num_classes=1000, device=device, dtype=torch.float32)"
   ]
  },
  {
   "cell_type": "code",
   "execution_count": 21,
   "id": "a24f3a51-d717-4810-802d-852807cb5e5f",
   "metadata": {},
   "outputs": [
    {
     "data": {
      "text/plain": [
       "Darknet19(\n",
       "  (max_pool): MaxPool2d(kernel_size=2, stride=2, padding=0, dilation=1, ceil_mode=False)\n",
       "  (conv1): Conv(\n",
       "    (conv): Conv2d(3, 32, kernel_size=(3, 3), stride=(1, 1), padding=(1, 1), bias=False)\n",
       "    (bn): BatchNorm2d(32, eps=1e-05, momentum=0.1, affine=True, track_running_stats=True)\n",
       "    (act): LeakyReLU(negative_slope=0.1)\n",
       "  )\n",
       "  (conv2): Conv(\n",
       "    (conv): Conv2d(32, 64, kernel_size=(3, 3), stride=(1, 1), padding=(1, 1), bias=False)\n",
       "    (bn): BatchNorm2d(64, eps=1e-05, momentum=0.1, affine=True, track_running_stats=True)\n",
       "    (act): LeakyReLU(negative_slope=0.1)\n",
       "  )\n",
       "  (seq3_5): Sequential(\n",
       "    (conv3): Conv(\n",
       "      (conv): Conv2d(64, 128, kernel_size=(3, 3), stride=(1, 1), padding=(1, 1), bias=False)\n",
       "      (bn): BatchNorm2d(128, eps=1e-05, momentum=0.1, affine=True, track_running_stats=True)\n",
       "      (act): LeakyReLU(negative_slope=0.1)\n",
       "    )\n",
       "    (conv4): Conv(\n",
       "      (conv): Conv2d(128, 64, kernel_size=(1, 1), stride=(1, 1), bias=False)\n",
       "      (bn): BatchNorm2d(64, eps=1e-05, momentum=0.1, affine=True, track_running_stats=True)\n",
       "      (act): LeakyReLU(negative_slope=0.1)\n",
       "    )\n",
       "    (conv5): Conv(\n",
       "      (conv): Conv2d(64, 128, kernel_size=(3, 3), stride=(1, 1), padding=(1, 1), bias=False)\n",
       "      (bn): BatchNorm2d(128, eps=1e-05, momentum=0.1, affine=True, track_running_stats=True)\n",
       "      (act): LeakyReLU(negative_slope=0.1)\n",
       "    )\n",
       "  )\n",
       "  (seq6_8): Sequential(\n",
       "    (conv6): Conv(\n",
       "      (conv): Conv2d(128, 256, kernel_size=(3, 3), stride=(1, 1), padding=(1, 1), bias=False)\n",
       "      (bn): BatchNorm2d(256, eps=1e-05, momentum=0.1, affine=True, track_running_stats=True)\n",
       "      (act): LeakyReLU(negative_slope=0.1)\n",
       "    )\n",
       "    (conv7): Conv(\n",
       "      (conv): Conv2d(256, 128, kernel_size=(1, 1), stride=(1, 1), bias=False)\n",
       "      (bn): BatchNorm2d(128, eps=1e-05, momentum=0.1, affine=True, track_running_stats=True)\n",
       "      (act): LeakyReLU(negative_slope=0.1)\n",
       "    )\n",
       "    (conv8): Conv(\n",
       "      (conv): Conv2d(128, 256, kernel_size=(3, 3), stride=(1, 1), padding=(1, 1), bias=False)\n",
       "      (bn): BatchNorm2d(256, eps=1e-05, momentum=0.1, affine=True, track_running_stats=True)\n",
       "      (act): LeakyReLU(negative_slope=0.1)\n",
       "    )\n",
       "  )\n",
       "  (seq9_13): Sequential(\n",
       "    (conv9): Conv(\n",
       "      (conv): Conv2d(256, 512, kernel_size=(3, 3), stride=(1, 1), padding=(1, 1), bias=False)\n",
       "      (bn): BatchNorm2d(512, eps=1e-05, momentum=0.1, affine=True, track_running_stats=True)\n",
       "      (act): LeakyReLU(negative_slope=0.1)\n",
       "    )\n",
       "    (conv10): Conv(\n",
       "      (conv): Conv2d(512, 256, kernel_size=(1, 1), stride=(1, 1), bias=False)\n",
       "      (bn): BatchNorm2d(256, eps=1e-05, momentum=0.1, affine=True, track_running_stats=True)\n",
       "      (act): LeakyReLU(negative_slope=0.1)\n",
       "    )\n",
       "    (conv11): Conv(\n",
       "      (conv): Conv2d(256, 512, kernel_size=(3, 3), stride=(1, 1), padding=(1, 1), bias=False)\n",
       "      (bn): BatchNorm2d(512, eps=1e-05, momentum=0.1, affine=True, track_running_stats=True)\n",
       "      (act): LeakyReLU(negative_slope=0.1)\n",
       "    )\n",
       "    (conv12): Conv(\n",
       "      (conv): Conv2d(512, 256, kernel_size=(1, 1), stride=(1, 1), bias=False)\n",
       "      (bn): BatchNorm2d(256, eps=1e-05, momentum=0.1, affine=True, track_running_stats=True)\n",
       "      (act): LeakyReLU(negative_slope=0.1)\n",
       "    )\n",
       "    (conv13): Conv(\n",
       "      (conv): Conv2d(256, 512, kernel_size=(3, 3), stride=(1, 1), padding=(1, 1), bias=False)\n",
       "      (bn): BatchNorm2d(512, eps=1e-05, momentum=0.1, affine=True, track_running_stats=True)\n",
       "      (act): LeakyReLU(negative_slope=0.1)\n",
       "    )\n",
       "  )\n",
       "  (seq14_18): Sequential(\n",
       "    (conv14): Conv(\n",
       "      (conv): Conv2d(512, 1024, kernel_size=(3, 3), stride=(1, 1), padding=(1, 1), bias=False)\n",
       "      (bn): BatchNorm2d(1024, eps=1e-05, momentum=0.1, affine=True, track_running_stats=True)\n",
       "      (act): LeakyReLU(negative_slope=0.1)\n",
       "    )\n",
       "    (conv15): Conv(\n",
       "      (conv): Conv2d(1024, 512, kernel_size=(1, 1), stride=(1, 1), bias=False)\n",
       "      (bn): BatchNorm2d(512, eps=1e-05, momentum=0.1, affine=True, track_running_stats=True)\n",
       "      (act): LeakyReLU(negative_slope=0.1)\n",
       "    )\n",
       "    (conv16): Conv(\n",
       "      (conv): Conv2d(512, 1024, kernel_size=(3, 3), stride=(1, 1), padding=(1, 1), bias=False)\n",
       "      (bn): BatchNorm2d(1024, eps=1e-05, momentum=0.1, affine=True, track_running_stats=True)\n",
       "      (act): LeakyReLU(negative_slope=0.1)\n",
       "    )\n",
       "    (conv17): Conv(\n",
       "      (conv): Conv2d(1024, 512, kernel_size=(1, 1), stride=(1, 1), bias=False)\n",
       "      (bn): BatchNorm2d(512, eps=1e-05, momentum=0.1, affine=True, track_running_stats=True)\n",
       "      (act): LeakyReLU(negative_slope=0.1)\n",
       "    )\n",
       "    (conv18): Conv(\n",
       "      (conv): Conv2d(512, 1024, kernel_size=(3, 3), stride=(1, 1), padding=(1, 1), bias=False)\n",
       "      (bn): BatchNorm2d(1024, eps=1e-05, momentum=0.1, affine=True, track_running_stats=True)\n",
       "      (act): LeakyReLU(negative_slope=0.1)\n",
       "    )\n",
       "  )\n",
       "  (classify): ClassifyV2(\n",
       "    (conv): Conv2d(1024, 1000, kernel_size=(1, 1), stride=(1, 1), bias=False)\n",
       "    (avg_pool): AdaptiveAvgPool2d(output_size=1)\n",
       "    (softmax): LogSoftmax(dim=1)\n",
       "  )\n",
       ")"
      ]
     },
     "execution_count": 21,
     "metadata": {},
     "output_type": "execute_result"
    }
   ],
   "source": [
    "model"
   ]
  },
  {
   "cell_type": "code",
   "execution_count": 135,
   "id": "49cee9ed-c904-430e-8547-65f4a7d374fa",
   "metadata": {},
   "outputs": [],
   "source": [
    "from torch.profiler import profile, ProfilerActivity"
   ]
  },
  {
   "cell_type": "code",
   "execution_count": 136,
   "id": "dbc06dd4-0bbe-43e9-bf86-b7b9ae88a69c",
   "metadata": {},
   "outputs": [],
   "source": [
    "from torch.autograd.profiler import record_function"
   ]
  },
  {
   "cell_type": "code",
   "execution_count": 103,
   "id": "1fc42bb0-bc21-48e3-886d-eec03d7cdc1b",
   "metadata": {
    "scrolled": true
   },
   "outputs": [
    {
     "name": "stdout",
     "output_type": "stream",
     "text": [
      "---------------------------------  ------------  ------------  ------------  ------------  ------------  ------------  ------------  ------------  --------------------------------------------------------------------------------  ------------  \n",
      "                             Name    Self CPU %      Self CPU   CPU total %     CPU total  CPU time avg       CPU Mem  Self CPU Mem    # of Calls                                                                      Input Shapes  Total GFLOPs  \n",
      "---------------------------------  ------------  ------------  ------------  ------------  ------------  ------------  ------------  ------------  --------------------------------------------------------------------------------  ------------  \n",
      "                    ProfilerStep*         0.01%     345.200us       100.00%        3.798s     379.828ms           0 b           0 b            10                                                                                []            --  \n",
      "                        inference         0.31%      11.893ms        99.99%        3.798s     379.794ms           0 b    -679.73 Mb            10                                                                                []            --  \n",
      "                       Conv block         1.46%      55.431ms        82.19%        3.122s      17.342ms       1.37 Gb      -2.75 Gb           180                                                                                []            --  \n",
      "                     aten::conv2d         0.00%      92.600us         4.11%     156.198ms      15.620ms     500.00 Mb           0 b            10                             [[1, 3, 640, 640], [32, 3, 3, 3], [], [], [], [], []]         7.078  \n",
      "                aten::convolution         0.00%     120.100us         4.11%     156.106ms      15.611ms     500.00 Mb           0 b            10                     [[1, 3, 640, 640], [32, 3, 3, 3], [], [], [], [], [], [], []]            --  \n",
      "               aten::_convolution         0.00%     153.200us         4.11%     155.986ms      15.599ms     500.00 Mb           0 b            10     [[1, 3, 640, 640], [32, 3, 3, 3], [], [], [], [], [], [], [], [], [], [], []]            --  \n",
      "         aten::mkldnn_convolution         4.10%     155.621ms         4.10%     155.832ms      15.583ms     500.00 Mb           0 b            10                             [[1, 3, 640, 640], [32, 3, 3, 3], [], [], [], [], []]            --  \n",
      "                      aten::empty         0.12%       4.598ms         0.12%       4.598ms       2.526us       2.76 Gb       2.76 Gb          1820                                                          [[], [], [], [], [], []]            --  \n",
      "                aten::as_strided_         0.00%      70.600us         0.00%      70.600us       7.060us           0 b           0 b            10                                                   [[1, 32, 640, 640], [], [], []]            --  \n",
      "                    aten::resize_         0.00%      21.600us         0.00%      21.600us       2.160us           0 b           0 b            10                                                       [[1, 32, 640, 640], [], []]            --  \n",
      "                       aten::add_         0.08%       3.212ms         0.08%       3.212ms      17.847us           0 b           0 b           180                                                                      [[], [], []]            --  \n",
      "                 aten::batch_norm         0.00%      99.200us         5.04%     191.277ms      19.128ms     500.00 Mb      -2.50 Kb            10                       [[1, 32, 640, 640], [32], [32], [32], [32], [], [], [], []]            --  \n",
      "     aten::_batch_norm_impl_index         0.01%     193.700us         5.03%     191.178ms      19.118ms     500.00 Mb           0 b            10                       [[1, 32, 640, 640], [32], [32], [32], [32], [], [], [], []]            --  \n",
      "          aten::native_batch_norm         5.02%     190.638ms         5.03%     190.960ms      19.096ms     500.00 Mb      -5.00 Kb            10                           [[1, 32, 640, 640], [32], [32], [32], [32], [], [], []]            --  \n",
      "                 aten::empty_like         0.00%      63.400us         0.00%      94.300us       9.430us     500.00 Mb           0 b            10                                           [[1, 32, 640, 640], [], [], [], [], []]            --  \n",
      "                 aten::leaky_relu         1.64%      62.186ms         1.64%      62.186ms       6.219ms     500.00 Mb     500.00 Mb            10                                                           [[1, 32, 640, 640], []]            --  \n",
      "                      Max pooling         0.20%       7.683ms        16.12%     612.122ms      12.242ms    -726.56 Mb    -968.75 Mb            50                                                                                []            --  \n",
      "                 aten::max_pool2d         0.01%     242.300us         7.88%     299.419ms      29.942ms     125.00 Mb    -250.00 Mb            10                                           [[1, 32, 640, 640], [], [], [], [], []]            --  \n",
      "    aten::max_pool2d_with_indices         7.88%     299.176ms         7.88%     299.176ms      29.918ms     375.00 Mb     375.00 Mb            10                                           [[1, 32, 640, 640], [], [], [], [], []]            --  \n",
      "                     aten::conv2d         0.00%     119.500us         6.31%     239.734ms      23.973ms     250.00 Mb           0 b            10                           [[1, 32, 320, 320], [64, 32, 3, 3], [], [], [], [], []]        37.749  \n",
      "                aten::convolution         0.00%     175.800us         6.31%     239.614ms      23.961ms     250.00 Mb           0 b            10                   [[1, 32, 320, 320], [64, 32, 3, 3], [], [], [], [], [], [], []]            --  \n",
      "               aten::_convolution         0.01%     201.400us         6.30%     239.439ms      23.944ms     250.00 Mb           0 b            10   [[1, 32, 320, 320], [64, 32, 3, 3], [], [], [], [], [], [], [], [], [], [], []]            --  \n",
      "         aten::mkldnn_convolution         6.29%     238.957ms         6.30%     239.237ms      23.924ms     250.00 Mb           0 b            10                           [[1, 32, 320, 320], [64, 32, 3, 3], [], [], [], [], []]            --  \n",
      "                aten::as_strided_         0.00%      82.600us         0.00%      82.600us       8.260us           0 b           0 b            10                                                   [[1, 64, 320, 320], [], [], []]            --  \n",
      "                    aten::resize_         0.00%      22.500us         0.00%      22.500us       2.250us           0 b           0 b            10                                                       [[1, 64, 320, 320], [], []]            --  \n",
      "                 aten::batch_norm         0.00%      88.100us         2.40%      91.314ms       9.131ms     250.00 Mb      -5.00 Kb            10                       [[1, 64, 320, 320], [64], [64], [64], [64], [], [], [], []]            --  \n",
      "     aten::_batch_norm_impl_index         0.00%     183.100us         2.40%      91.226ms       9.123ms     250.00 Mb           0 b            10                       [[1, 64, 320, 320], [64], [64], [64], [64], [], [], [], []]            --  \n",
      "          aten::native_batch_norm         2.39%      90.811ms         2.40%      91.019ms       9.102ms     250.00 Mb     -10.00 Kb            10                           [[1, 64, 320, 320], [64], [64], [64], [64], [], [], []]            --  \n",
      "                 aten::empty_like         0.00%      52.900us         0.00%      85.800us       8.580us     250.00 Mb           0 b            10                                           [[1, 64, 320, 320], [], [], [], [], []]            --  \n",
      "                 aten::leaky_relu         0.76%      28.864ms         0.76%      28.864ms       2.886ms     250.00 Mb     250.00 Mb            10                                                           [[1, 64, 320, 320], []]            --  \n",
      "                 aten::max_pool2d         0.01%     193.600us         4.28%     162.394ms      16.239ms      62.50 Mb    -125.00 Mb            10                                           [[1, 64, 320, 320], [], [], [], [], []]            --  \n",
      "    aten::max_pool2d_with_indices         4.27%     162.200ms         4.27%     162.200ms      16.220ms     187.50 Mb     187.50 Mb            10                                           [[1, 64, 320, 320], [], [], [], [], []]            --  \n",
      "                     aten::conv2d         0.01%     211.400us        10.46%     397.315ms      19.866ms     250.00 Mb           0 b            20                          [[1, 64, 160, 160], [128, 64, 3, 3], [], [], [], [], []]        75.497  \n",
      "                aten::convolution         0.01%     309.100us        10.45%     397.103ms      19.855ms     250.00 Mb           0 b            20                  [[1, 64, 160, 160], [128, 64, 3, 3], [], [], [], [], [], [], []]            --  \n",
      "               aten::_convolution         0.01%     377.800us        10.45%     396.794ms      19.840ms     250.00 Mb           0 b            20  [[1, 64, 160, 160], [128, 64, 3, 3], [], [], [], [], [], [], [], [], [], [], []]            --  \n",
      "         aten::mkldnn_convolution        10.42%     395.899ms        10.44%     396.416ms      19.821ms     250.00 Mb           0 b            20                          [[1, 64, 160, 160], [128, 64, 3, 3], [], [], [], [], []]            --  \n",
      "                aten::as_strided_         0.00%     158.900us         0.00%     158.900us       7.945us           0 b           0 b            20                                                  [[1, 128, 160, 160], [], [], []]            --  \n",
      "                    aten::resize_         0.00%      43.400us         0.00%      43.400us       2.170us           0 b           0 b            20                                                      [[1, 128, 160, 160], [], []]            --  \n",
      "                 aten::batch_norm         0.00%     189.600us         2.43%      92.449ms       4.622ms     250.00 Mb     -20.00 Kb            20                  [[1, 128, 160, 160], [128], [128], [128], [128], [], [], [], []]            --  \n",
      "     aten::_batch_norm_impl_index         0.01%     360.000us         2.43%      92.259ms       4.613ms     250.02 Mb           0 b            20                  [[1, 128, 160, 160], [128], [128], [128], [128], [], [], [], []]            --  \n",
      "          aten::native_batch_norm         2.41%      91.501ms         2.42%      91.852ms       4.593ms     250.02 Mb     -40.00 Kb            20                      [[1, 128, 160, 160], [128], [128], [128], [128], [], [], []]            --  \n",
      "                 aten::empty_like         0.00%     106.300us         0.00%     157.400us       7.870us     250.00 Mb           0 b            20                                          [[1, 128, 160, 160], [], [], [], [], []]            --  \n",
      "                 aten::leaky_relu         0.70%      26.525ms         0.70%      26.525ms       1.326ms     250.00 Mb     250.00 Mb            20                                                          [[1, 128, 160, 160], []]            --  \n",
      "                     aten::conv2d         0.00%     112.700us         1.32%      50.153ms       5.015ms      62.50 Mb           0 b            10                         [[1, 128, 160, 160], [64, 128, 1, 1], [], [], [], [], []]         4.194  \n",
      "                aten::convolution         0.00%     154.100us         1.32%      50.040ms       5.004ms      62.50 Mb           0 b            10                 [[1, 128, 160, 160], [64, 128, 1, 1], [], [], [], [], [], [], []]            --  \n",
      "               aten::_convolution         0.01%     211.400us         1.31%      49.886ms       4.989ms      62.50 Mb           0 b            10  [[1, 128, 160, 160], [64, 128, 1, 1], [], [], [], [], [], [], [], [], [], [], []            --  \n",
      "         aten::mkldnn_convolution         1.30%      49.418ms         1.31%      49.675ms       4.968ms      62.50 Mb           0 b            10                         [[1, 128, 160, 160], [64, 128, 1, 1], [], [], [], [], []]            --  \n",
      "                aten::as_strided_         0.00%      78.300us         0.00%      78.300us       7.830us           0 b           0 b            10                                                   [[1, 64, 160, 160], [], [], []]            --  \n",
      "                    aten::resize_         0.00%      22.000us         0.00%      22.000us       2.200us           0 b           0 b            10                                                       [[1, 64, 160, 160], [], []]            --  \n",
      "                 aten::batch_norm         0.00%     101.300us         0.57%      21.794ms       2.179ms      62.50 Mb      -5.00 Kb            10                       [[1, 64, 160, 160], [64], [64], [64], [64], [], [], [], []]            --  \n",
      "     aten::_batch_norm_impl_index         0.00%     183.400us         0.57%      21.693ms       2.169ms      62.50 Mb           0 b            10                       [[1, 64, 160, 160], [64], [64], [64], [64], [], [], [], []]            --  \n",
      "          aten::native_batch_norm         0.56%      21.297ms         0.57%      21.487ms       2.149ms      62.50 Mb     -10.00 Kb            10                           [[1, 64, 160, 160], [64], [64], [64], [64], [], [], []]            --  \n",
      "                 aten::empty_like         0.00%      65.800us         0.00%     101.300us      10.130us      62.50 Mb           0 b            10                                           [[1, 64, 160, 160], [], [], [], [], []]            --  \n",
      "                 aten::leaky_relu         0.10%       3.611ms         0.10%       3.611ms     361.090us      62.50 Mb      62.50 Mb            10                                                           [[1, 64, 160, 160], []]            --  \n",
      "                 aten::max_pool2d         0.01%     192.600us         2.15%      81.628ms       8.163ms      31.25 Mb     -62.50 Mb            10                                          [[1, 128, 160, 160], [], [], [], [], []]            --  \n",
      "    aten::max_pool2d_with_indices         2.14%      81.435ms         2.14%      81.435ms       8.144ms      93.75 Mb      93.75 Mb            10                                          [[1, 128, 160, 160], [], [], [], [], []]            --  \n",
      "                     aten::conv2d         0.01%     200.100us         9.49%     360.271ms      18.014ms     125.00 Mb           0 b            20                          [[1, 128, 80, 80], [256, 128, 3, 3], [], [], [], [], []]        75.497  \n",
      "                aten::convolution         0.01%     298.600us         9.48%     360.071ms      18.004ms     125.00 Mb           0 b            20                  [[1, 128, 80, 80], [256, 128, 3, 3], [], [], [], [], [], [], []]            --  \n",
      "               aten::_convolution         0.01%     350.000us         9.47%     359.772ms      17.989ms     125.00 Mb           0 b            20  [[1, 128, 80, 80], [256, 128, 3, 3], [], [], [], [], [], [], [], [], [], [], []]            --  \n",
      "         aten::mkldnn_convolution         9.45%     358.935ms         9.46%     359.422ms      17.971ms     125.00 Mb           0 b            20                          [[1, 128, 80, 80], [256, 128, 3, 3], [], [], [], [], []]            --  \n",
      "                aten::as_strided_         0.00%     146.100us         0.00%     146.100us       7.305us           0 b           0 b            20                                                    [[1, 256, 80, 80], [], [], []]            --  \n",
      "                    aten::resize_         0.00%      47.000us         0.00%      47.000us       2.350us           0 b           0 b            20                                                        [[1, 256, 80, 80], [], []]            --  \n",
      "                 aten::batch_norm         0.00%     169.700us         1.14%      43.241ms       2.162ms     125.00 Mb     -40.00 Kb            20                    [[1, 256, 80, 80], [256], [256], [256], [256], [], [], [], []]            --  \n",
      "     aten::_batch_norm_impl_index         0.01%     332.700us         1.13%      43.071ms       2.154ms     125.04 Mb           0 b            20                    [[1, 256, 80, 80], [256], [256], [256], [256], [], [], [], []]            --  \n",
      "          aten::native_batch_norm         1.11%      42.350ms         1.12%      42.699ms       2.135ms     125.04 Mb     -80.00 Kb            20                        [[1, 256, 80, 80], [256], [256], [256], [256], [], [], []]            --  \n",
      "                 aten::empty_like         0.00%     111.900us         0.00%     168.200us       8.410us     125.00 Mb           0 b            20                                            [[1, 256, 80, 80], [], [], [], [], []]            --  \n",
      "                 aten::leaky_relu         0.18%       6.804ms         0.18%       6.804ms     340.215us     125.00 Mb     125.00 Mb            20                                                            [[1, 256, 80, 80], []]            --  \n",
      "                     aten::conv2d         0.00%     103.300us         0.71%      26.823ms       2.682ms      31.25 Mb           0 b            10                          [[1, 256, 80, 80], [128, 256, 1, 1], [], [], [], [], []]         4.194  \n",
      "                aten::convolution         0.00%     140.700us         0.70%      26.720ms       2.672ms      31.25 Mb           0 b            10                  [[1, 256, 80, 80], [128, 256, 1, 1], [], [], [], [], [], [], []]            --  \n",
      "               aten::_convolution         0.00%     183.800us         0.70%      26.579ms       2.658ms      31.25 Mb           0 b            10  [[1, 256, 80, 80], [128, 256, 1, 1], [], [], [], [], [], [], [], [], [], [], []]            --  \n",
      "         aten::mkldnn_convolution         0.69%      26.215ms         0.69%      26.396ms       2.640ms      31.25 Mb           0 b            10                          [[1, 256, 80, 80], [128, 256, 1, 1], [], [], [], [], []]            --  \n",
      "                aten::as_strided_         0.00%      64.600us         0.00%      64.600us       6.460us           0 b           0 b            10                                                    [[1, 128, 80, 80], [], [], []]            --  \n",
      "                    aten::resize_         0.00%      18.800us         0.00%      18.800us       1.880us           0 b           0 b            10                                                        [[1, 128, 80, 80], [], []]            --  \n",
      "                 aten::batch_norm         0.00%      78.700us         0.30%      11.248ms       1.125ms      31.25 Mb     -10.00 Kb            10                    [[1, 128, 80, 80], [128], [128], [128], [128], [], [], [], []]            --  \n",
      "     aten::_batch_norm_impl_index         0.00%     153.400us         0.29%      11.170ms       1.117ms      31.26 Mb           0 b            10                    [[1, 128, 80, 80], [128], [128], [128], [128], [], [], [], []]            --  \n",
      "          aten::native_batch_norm         0.29%      10.837ms         0.29%      11.000ms       1.100ms      31.26 Mb     -20.00 Kb            10                        [[1, 128, 80, 80], [128], [128], [128], [128], [], [], []]            --  \n",
      "                 aten::empty_like         0.00%      54.300us         0.00%      78.600us       7.860us      31.25 Mb           0 b            10                                            [[1, 128, 80, 80], [], [], [], [], []]            --  \n",
      "                 aten::leaky_relu         0.04%       1.406ms         0.04%       1.406ms     140.600us      31.25 Mb      31.25 Mb            10                                                            [[1, 128, 80, 80], []]            --  \n",
      "                 aten::max_pool2d         0.00%     151.700us         1.06%      40.154ms       4.015ms      15.62 Mb     -31.25 Mb            10                                            [[1, 256, 80, 80], [], [], [], [], []]            --  \n",
      "    aten::max_pool2d_with_indices         1.05%      40.002ms         1.05%      40.002ms       4.000ms      46.88 Mb      46.88 Mb            10                                            [[1, 256, 80, 80], [], [], [], [], []]            --  \n",
      "                     aten::conv2d         0.01%     289.900us        13.31%     505.661ms      16.855ms      93.75 Mb           0 b            30                          [[1, 256, 40, 40], [512, 256, 3, 3], [], [], [], [], []]       113.246  \n",
      "                aten::convolution         0.01%     400.400us        13.31%     505.371ms      16.846ms      93.75 Mb           0 b            30                  [[1, 256, 40, 40], [512, 256, 3, 3], [], [], [], [], [], [], []]            --  \n",
      "               aten::_convolution         0.01%     478.900us        13.29%     504.970ms      16.832ms      93.75 Mb           0 b            30  [[1, 256, 40, 40], [512, 256, 3, 3], [], [], [], [], [], [], [], [], [], [], []]            --  \n",
      "         aten::mkldnn_convolution        13.26%     503.830ms        13.28%     504.491ms      16.816ms      93.75 Mb           0 b            30                          [[1, 256, 40, 40], [512, 256, 3, 3], [], [], [], [], []]            --  \n",
      "                aten::as_strided_         0.01%     206.800us         0.01%     206.800us       6.893us           0 b           0 b            30                                                    [[1, 512, 40, 40], [], [], []]            --  \n",
      "                    aten::resize_         0.00%      60.400us         0.00%      60.400us       2.013us           0 b           0 b            30                                                        [[1, 512, 40, 40], [], []]            --  \n",
      "                 aten::batch_norm         0.01%     269.400us         1.06%      40.160ms       1.339ms      93.75 Mb    -120.00 Kb            30                    [[1, 512, 40, 40], [512], [512], [512], [512], [], [], [], []]            --  \n",
      "     aten::_batch_norm_impl_index         0.01%     474.900us         1.05%      39.891ms       1.330ms      93.87 Mb           0 b            30                    [[1, 512, 40, 40], [512], [512], [512], [512], [], [], [], []]            --  \n",
      "          aten::native_batch_norm         1.02%      38.855ms         1.04%      39.364ms       1.312ms      93.87 Mb    -240.00 Kb            30                        [[1, 512, 40, 40], [512], [512], [512], [512], [], [], []]            --  \n",
      "                 aten::empty_like         0.00%     174.800us         0.01%     250.300us       8.343us      93.75 Mb           0 b            30                                            [[1, 512, 40, 40], [], [], [], [], []]            --  \n",
      "                 aten::leaky_relu         0.13%       5.003ms         0.13%       5.003ms     166.753us      93.75 Mb      93.75 Mb            30                                                            [[1, 512, 40, 40], []]            --  \n",
      "                     aten::conv2d         0.01%     202.200us         1.27%      48.105ms       2.405ms      31.25 Mb           0 b            20                          [[1, 512, 40, 40], [256, 512, 1, 1], [], [], [], [], []]         8.389  \n",
      "                aten::convolution         0.01%     234.800us         1.26%      47.903ms       2.395ms      31.25 Mb           0 b            20                  [[1, 512, 40, 40], [256, 512, 1, 1], [], [], [], [], [], [], []]            --  \n",
      "               aten::_convolution         0.01%     319.900us         1.25%      47.668ms       2.383ms      31.25 Mb           0 b            20  [[1, 512, 40, 40], [256, 512, 1, 1], [], [], [], [], [], [], [], [], [], [], []]            --  \n",
      "         aten::mkldnn_convolution         1.24%      47.054ms         1.25%      47.348ms       2.367ms      31.25 Mb           0 b            20                          [[1, 512, 40, 40], [256, 512, 1, 1], [], [], [], [], []]            --  \n",
      "                aten::as_strided_         0.00%     108.300us         0.00%     108.300us       5.415us           0 b           0 b            20                                                    [[1, 256, 40, 40], [], [], []]            --  \n",
      "                    aten::resize_         0.00%      33.600us         0.00%      33.600us       1.680us           0 b           0 b            20                                                        [[1, 256, 40, 40], [], []]            --  \n",
      "                 aten::batch_norm         0.00%     139.000us         0.31%      11.587ms     579.365us      31.25 Mb     -40.00 Kb            20                    [[1, 256, 40, 40], [256], [256], [256], [256], [], [], [], []]            --  \n",
      "     aten::_batch_norm_impl_index         0.01%     248.900us         0.30%      11.448ms     572.415us      31.29 Mb           0 b            20                    [[1, 256, 40, 40], [256], [256], [256], [256], [], [], [], []]            --  \n",
      "          aten::native_batch_norm         0.29%      10.894ms         0.29%      11.174ms     558.715us      31.29 Mb     -80.00 Kb            20                        [[1, 256, 40, 40], [256], [256], [256], [256], [], [], []]            --  \n",
      "                 aten::empty_like         0.00%     103.500us         0.00%     135.600us       6.780us      31.25 Mb           0 b            20                                            [[1, 256, 40, 40], [], [], [], [], []]            --  \n",
      "                 aten::leaky_relu         0.02%     916.900us         0.02%     916.900us      45.845us      31.25 Mb      31.25 Mb            20                                                            [[1, 256, 40, 40], []]            --  \n",
      "                 aten::max_pool2d         0.00%      99.000us         0.55%      20.846ms       2.085ms       7.81 Mb     -15.62 Mb            10                                            [[1, 512, 40, 40], [], [], [], [], []]            --  \n",
      "    aten::max_pool2d_with_indices         0.55%      20.747ms         0.55%      20.747ms       2.075ms      23.44 Mb      23.44 Mb            10                                            [[1, 512, 40, 40], [], [], [], [], []]            --  \n",
      "                     aten::conv2d         0.01%     273.900us        14.84%     563.788ms      18.793ms      46.88 Mb           0 b            30                         [[1, 512, 20, 20], [1024, 512, 3, 3], [], [], [], [], []]       113.246  \n",
      "                aten::convolution         0.01%     378.900us        14.84%     563.514ms      18.784ms      46.88 Mb           0 b            30                 [[1, 512, 20, 20], [1024, 512, 3, 3], [], [], [], [], [], [], []]            --  \n",
      "               aten::_convolution         0.01%     471.200us        14.83%     563.135ms      18.771ms      46.88 Mb           0 b            30  [[1, 512, 20, 20], [1024, 512, 3, 3], [], [], [], [], [], [], [], [], [], [], []            --  \n",
      "         aten::mkldnn_convolution        14.80%     562.176ms        14.81%     562.664ms      18.755ms      46.88 Mb           0 b            30                         [[1, 512, 20, 20], [1024, 512, 3, 3], [], [], [], [], []]            --  \n",
      "                aten::as_strided_         0.00%     173.800us         0.00%     173.800us       5.793us           0 b           0 b            30                                                   [[1, 1024, 20, 20], [], [], []]            --  \n",
      "                    aten::resize_         0.00%      53.800us         0.00%      53.800us       1.793us           0 b           0 b            30                                                       [[1, 1024, 20, 20], [], []]            --  \n",
      "                 aten::batch_norm         0.01%     265.600us         0.49%      18.649ms     621.637us      46.88 Mb    -240.00 Kb            30               [[1, 1024, 20, 20], [1024], [1024], [1024], [1024], [], [], [], []]            --  \n",
      "     aten::_batch_norm_impl_index         0.01%     422.800us         0.48%      18.384ms     612.783us      47.11 Mb           0 b            30               [[1, 1024, 20, 20], [1024], [1024], [1024], [1024], [], [], [], []]            --  \n",
      "          aten::native_batch_norm         0.46%      17.438ms         0.47%      17.914ms     597.127us      47.11 Mb    -480.00 Kb            30                   [[1, 1024, 20, 20], [1024], [1024], [1024], [1024], [], [], []]            --  \n",
      "                 aten::empty_like         0.00%     185.200us         0.01%     235.400us       7.847us      46.88 Mb           0 b            30                                           [[1, 1024, 20, 20], [], [], [], [], []]            --  \n",
      "                 aten::leaky_relu         0.05%       1.912ms         0.05%       1.912ms      63.747us      46.88 Mb      46.88 Mb            30                                                           [[1, 1024, 20, 20], []]            --  \n",
      "                     aten::conv2d         0.00%     182.100us         1.29%      49.031ms       2.452ms      15.62 Mb           0 b            20                        [[1, 1024, 20, 20], [512, 1024, 1, 1], [], [], [], [], []]         8.389  \n",
      "                aten::convolution         0.01%     212.300us         1.29%      48.849ms       2.442ms      15.62 Mb           0 b            20                [[1, 1024, 20, 20], [512, 1024, 1, 1], [], [], [], [], [], [], []]            --  \n",
      "               aten::_convolution         0.01%     291.800us         1.28%      48.637ms       2.432ms      15.62 Mb           0 b            20  [[1, 1024, 20, 20], [512, 1024, 1, 1], [], [], [], [], [], [], [], [], [], [], [            --  \n",
      "         aten::mkldnn_convolution         1.27%      48.098ms         1.27%      48.345ms       2.417ms      15.62 Mb           0 b            20                        [[1, 1024, 20, 20], [512, 1024, 1, 1], [], [], [], [], []]            --  \n",
      "                aten::as_strided_         0.00%      86.500us         0.00%      86.500us       4.325us           0 b           0 b            20                                                    [[1, 512, 20, 20], [], [], []]            --  \n",
      "                    aten::resize_         0.00%      27.600us         0.00%      27.600us       1.380us           0 b           0 b            20                                                        [[1, 512, 20, 20], [], []]            --  \n",
      "                 aten::batch_norm         0.00%     125.900us         0.17%       6.562ms     328.085us      15.62 Mb     -80.00 Kb            20                    [[1, 512, 20, 20], [512], [512], [512], [512], [], [], [], []]            --  \n",
      "     aten::_batch_norm_impl_index         0.01%     239.900us         0.17%       6.436ms     321.790us      15.70 Mb           0 b            20                    [[1, 512, 20, 20], [512], [512], [512], [512], [], [], [], []]            --  \n",
      "          aten::native_batch_norm         0.16%       5.903ms         0.16%       6.171ms     308.555us      15.70 Mb    -160.00 Kb            20                        [[1, 512, 20, 20], [512], [512], [512], [512], [], [], []]            --  \n",
      "                 aten::empty_like         0.00%     100.600us         0.00%     129.000us       6.450us      15.62 Mb           0 b            20                                            [[1, 512, 20, 20], [], [], [], [], []]            --  \n",
      "                 aten::leaky_relu         0.01%     387.700us         0.01%     387.700us      19.385us      15.62 Mb      15.62 Mb            20                                                            [[1, 512, 20, 20], []]            --  \n",
      "                       ClassifyV2         0.06%       2.392ms         1.38%      52.302ms       5.230ms      39.06 Kb           0 b            10                                                                                []            --  \n",
      "                     aten::conv2d         0.00%      88.200us         1.21%      45.940ms       4.594ms      15.26 Mb           0 b            10                       [[1, 1024, 20, 20], [1000, 1024, 1, 1], [], [], [], [], []]         8.192  \n",
      "                aten::convolution         0.00%     113.700us         1.21%      45.851ms       4.585ms      15.26 Mb           0 b            10               [[1, 1024, 20, 20], [1000, 1024, 1, 1], [], [], [], [], [], [], []]            --  \n",
      "               aten::_convolution         0.00%     151.800us         1.20%      45.738ms       4.574ms      15.26 Mb           0 b            10  [[1, 1024, 20, 20], [1000, 1024, 1, 1], [], [], [], [], [], [], [], [], [], [],             --  \n",
      "         aten::mkldnn_convolution         1.20%      45.431ms         1.20%      45.586ms       4.559ms      15.26 Mb           0 b            10                       [[1, 1024, 20, 20], [1000, 1024, 1, 1], [], [], [], [], []]            --  \n",
      "                aten::as_strided_         0.00%      59.100us         0.00%      59.100us       5.910us           0 b           0 b            10                                                   [[1, 1000, 20, 20], [], [], []]            --  \n",
      "                    aten::resize_         0.00%      15.800us         0.00%      15.800us       1.580us           0 b           0 b            10                                                       [[1, 1000, 20, 20], [], []]            --  \n",
      "         Adaptive Average Pooling         0.03%       1.231ms         0.08%       2.877ms     287.690us     -15.22 Mb     -15.26 Mb            10                                                                                []            --  \n",
      "        aten::adaptive_avg_pool2d         0.00%      64.900us         0.04%       1.646ms     164.600us      39.06 Kb           0 b            10                                                           [[1, 1000, 20, 20], []]            --  \n",
      "                       aten::mean         0.01%     214.600us         0.04%       1.581ms     158.110us      39.06 Kb      39.05 Kb            10                                                   [[1, 1000, 20, 20], [], [], []]            --  \n",
      "                        aten::sum         0.02%     815.600us         0.02%     863.600us      86.360us           0 b           0 b            10                                  [[1, 1000, 20, 20], [], [], [], [1, 1000, 1, 1]]            --  \n",
      "                      aten::fill_         0.00%      48.000us         0.00%      48.000us       4.800us           0 b           0 b            10                                                             [[1, 1000, 1, 1], []]            --  \n",
      "                       aten::div_         0.01%     227.100us         0.01%     502.900us      50.290us          16 b         -24 b            10                                                             [[1, 1000, 1, 1], []]            --  \n",
      "                         aten::to         0.00%      54.900us         0.01%     275.800us      27.580us          40 b           0 b            10                                                              [[], [], [], [], []]            --  \n",
      "                   aten::_to_copy         0.00%     131.500us         0.01%     220.900us      22.090us          40 b           0 b            10                                                      [[], [], [], [], [], [], []]            --  \n",
      "              aten::empty_strided         0.00%      33.400us         0.00%      33.400us       3.340us          40 b          40 b            10                                                          [[], [], [], [], [], []]            --  \n",
      "                      aten::copy_         0.00%      56.000us         0.00%      56.000us       5.600us           0 b           0 b            10                                                                      [[], [], []]            --  \n",
      "                          Flatten         0.01%     311.200us         0.01%     484.200us      48.420us           0 b           0 b            10                                                                                []            --  \n",
      "                    aten::flatten         0.00%      70.300us         0.00%     173.000us      17.300us           0 b           0 b            10                                                         [[1, 1000, 1, 1], [], []]            --  \n",
      "                       aten::view         0.00%     102.700us         0.00%     102.700us      10.270us           0 b           0 b            10                                                             [[1, 1000, 1, 1], []]            --  \n",
      "                      Log Softmax         0.01%     423.000us         0.02%     609.000us      60.900us           0 b     -39.06 Kb            10                                                                                []            --  \n",
      "                aten::log_softmax         0.00%      54.600us         0.00%     186.000us      18.600us      39.06 Kb           0 b            10                                                               [[1, 1000], [], []]            --  \n",
      "               aten::_log_softmax         0.00%     131.400us         0.00%     131.400us      13.140us      39.06 Kb      39.06 Kb            10                                                               [[1, 1000], [], []]            --  \n",
      "---------------------------------  ------------  ------------  ------------  ------------  ------------  ------------  ------------  ------------  --------------------------------------------------------------------------------  ------------  \n",
      "Self CPU time total: 3.798s\n",
      "\n"
     ]
    }
   ],
   "source": [
    "img = train_dataset[6][0].unsqueeze(0).to(device)\n",
    "with profile(activities=[ProfilerActivity.CPU],\n",
    "                                    schedule=torch.profiler.schedule(wait=3, warmup=1, active=10, repeat=1),\n",
    "                                    on_trace_ready=torch.profiler.tensorboard_trace_handler('../log/darknet19/inference_at_640'),\n",
    "                                    record_shapes=True,\n",
    "                                    profile_memory=True,\n",
    "                                    with_flops=True,\n",
    "                                    with_modules=True,\n",
    "                                    with_stack=False) as prof:\n",
    "    for i in range(14):\n",
    "        # torch.cuda.synchronize(device=device)\n",
    "        with record_function('inference'):\n",
    "            with torch.no_grad():\n",
    "                model(img)\n",
    "        # torch.cuda.synchronize(device=device)\n",
    "        prof.step()\n",
    "print(prof.key_averages(group_by_input_shape=True).table(row_limit=-1))"
   ]
  },
  {
   "cell_type": "code",
   "execution_count": 104,
   "id": "a967eadd-9735-4067-88f0-82b3ad8747ad",
   "metadata": {},
   "outputs": [],
   "source": [
    "from evaluation import *\n",
    "df = generate_dataframe(prof)"
   ]
  },
  {
   "cell_type": "code",
   "execution_count": 142,
   "id": "7582f51c-d490-4def-87eb-ba4db52da391",
   "metadata": {},
   "outputs": [
    {
     "data": {
      "text/plain": [
       "torch.Size([1, 3, 640, 640])"
      ]
     },
     "execution_count": 142,
     "metadata": {},
     "output_type": "execute_result"
    }
   ],
   "source": [
    "img.shape"
   ]
  },
  {
   "cell_type": "code",
   "execution_count": 141,
   "id": "9e6d7090-f1f5-4908-9a97-6b9bc458b2ca",
   "metadata": {
    "scrolled": true
   },
   "outputs": [
    {
     "name": "stdout",
     "output_type": "stream",
     "text": [
      "---------------------------------  ------------  ------------  ------------  ------------  ------------  ------------  ------------  ------------  --------------------------------------------------------------------------------  ------------  \n",
      "                             Name    Self CPU %      Self CPU   CPU total %     CPU total  CPU time avg       CPU Mem  Self CPU Mem    # of Calls                                                                      Input Shapes  Total MFLOPs  \n",
      "---------------------------------  ------------  ------------  ------------  ------------  ------------  ------------  ------------  ------------  --------------------------------------------------------------------------------  ------------  \n",
      "                    ProfilerStep*         0.02%      57.900us       100.00%     372.378ms     372.378ms           0 b           0 b             1                                                                                []            --  \n",
      "                        inference         0.42%       1.581ms        99.98%     372.320ms     372.320ms           0 b     -67.97 Mb             1                                                                                []            --  \n",
      "                       Conv block         1.40%       5.224ms        81.62%     303.939ms      16.886ms     140.62 Mb    -281.25 Mb            18                                                                                []            --  \n",
      "                     aten::conv2d         0.00%      12.400us         4.19%      15.600ms      15.600ms      50.00 Mb           0 b             1                             [[1, 3, 640, 640], [32, 3, 3, 3], [], [], [], [], []]       707.789  \n",
      "                aten::convolution         0.00%      14.000us         4.19%      15.588ms      15.588ms      50.00 Mb           0 b             1                     [[1, 3, 640, 640], [32, 3, 3, 3], [], [], [], [], [], [], []]            --  \n",
      "               aten::_convolution         0.00%      16.200us         4.18%      15.574ms      15.574ms      50.00 Mb           0 b             1     [[1, 3, 640, 640], [32, 3, 3, 3], [], [], [], [], [], [], [], [], [], [], []]            --  \n",
      "         aten::mkldnn_convolution         4.17%      15.538ms         4.18%      15.558ms      15.558ms      50.00 Mb           0 b             1                             [[1, 3, 640, 640], [32, 3, 3, 3], [], [], [], [], []]            --  \n",
      "                      aten::empty         0.12%     441.000us         0.12%     441.000us       2.423us     282.94 Mb     282.94 Mb           182                                                          [[], [], [], [], [], []]            --  \n",
      "                aten::as_strided_         0.00%       6.800us         0.00%       6.800us       6.800us           0 b           0 b             1                                                   [[1, 32, 640, 640], [], [], []]            --  \n",
      "                    aten::resize_         0.00%       1.600us         0.00%       1.600us       1.600us           0 b           0 b             1                                                       [[1, 32, 640, 640], [], []]            --  \n",
      "                       aten::add_         0.08%     304.400us         0.08%     304.400us      16.911us           0 b           0 b            18                                                                      [[], [], []]            --  \n",
      "                 aten::batch_norm         0.00%       9.500us         5.08%      18.916ms      18.916ms      50.00 Mb        -256 b             1                       [[1, 32, 640, 640], [32], [32], [32], [32], [], [], [], []]            --  \n",
      "     aten::_batch_norm_impl_index         0.01%      20.000us         5.08%      18.907ms      18.907ms      50.00 Mb           0 b             1                       [[1, 32, 640, 640], [32], [32], [32], [32], [], [], [], []]            --  \n",
      "          aten::native_batch_norm         5.06%      18.859ms         5.07%      18.884ms      18.884ms      50.00 Mb        -512 b             1                           [[1, 32, 640, 640], [32], [32], [32], [32], [], [], []]            --  \n",
      "                 aten::empty_like         0.00%      10.100us         0.00%      12.700us      12.700us      50.00 Mb           0 b             1                                           [[1, 32, 640, 640], [], [], [], [], []]            --  \n",
      "                 aten::leaky_relu         1.66%       6.172ms         1.66%       6.172ms       6.172ms      50.00 Mb      50.00 Mb             1                                                           [[1, 32, 640, 640], []]            --  \n",
      "                      Max pooling         0.24%     878.400us        16.50%      61.440ms      12.288ms     -72.66 Mb     -96.88 Mb             5                                                                                []            --  \n",
      "                 aten::max_pool2d         0.01%      31.100us         7.86%      29.250ms      29.250ms      12.50 Mb     -25.00 Mb             1                                           [[1, 32, 640, 640], [], [], [], [], []]            --  \n",
      "    aten::max_pool2d_with_indices         7.85%      29.219ms         7.85%      29.219ms      29.219ms      37.50 Mb      37.50 Mb             1                                           [[1, 32, 640, 640], [], [], [], [], []]            --  \n",
      "                     aten::conv2d         0.01%      20.500us         6.47%      24.075ms      24.075ms      25.00 Mb           0 b             1                           [[1, 32, 320, 320], [64, 32, 3, 3], [], [], [], [], []]      3774.874  \n",
      "                aten::convolution         0.00%      17.600us         6.46%      24.055ms      24.055ms      25.00 Mb           0 b             1                   [[1, 32, 320, 320], [64, 32, 3, 3], [], [], [], [], [], [], []]            --  \n",
      "               aten::_convolution         0.01%      22.100us         6.46%      24.037ms      24.037ms      25.00 Mb           0 b             1   [[1, 32, 320, 320], [64, 32, 3, 3], [], [], [], [], [], [], [], [], [], [], []]            --  \n",
      "         aten::mkldnn_convolution         6.44%      23.977ms         6.45%      24.015ms      24.015ms      25.00 Mb           0 b             1                           [[1, 32, 320, 320], [64, 32, 3, 3], [], [], [], [], []]            --  \n",
      "                aten::as_strided_         0.00%      12.100us         0.00%      12.100us      12.100us           0 b           0 b             1                                                   [[1, 64, 320, 320], [], [], []]            --  \n",
      "                    aten::resize_         0.00%       3.800us         0.00%       3.800us       3.800us           0 b           0 b             1                                                       [[1, 64, 320, 320], [], []]            --  \n",
      "                 aten::batch_norm         0.00%      10.400us         2.57%       9.556ms       9.556ms      25.00 Mb        -512 b             1                       [[1, 64, 320, 320], [64], [64], [64], [64], [], [], [], []]            --  \n",
      "     aten::_batch_norm_impl_index         0.01%      20.700us         2.56%       9.546ms       9.546ms      25.00 Mb           0 b             1                       [[1, 64, 320, 320], [64], [64], [64], [64], [], [], [], []]            --  \n",
      "          aten::native_batch_norm         2.55%       9.497ms         2.56%       9.521ms       9.521ms      25.00 Mb      -1.00 Kb             1                           [[1, 64, 320, 320], [64], [64], [64], [64], [], [], []]            --  \n",
      "                 aten::empty_like         0.00%       5.300us         0.00%      10.400us      10.400us      25.00 Mb           0 b             1                                           [[1, 64, 320, 320], [], [], [], [], []]            --  \n",
      "                 aten::leaky_relu         0.83%       3.096ms         0.83%       3.096ms       3.096ms      25.00 Mb      25.00 Mb             1                                                           [[1, 64, 320, 320], []]            --  \n",
      "                 aten::max_pool2d         0.01%      22.400us         4.15%      15.449ms      15.449ms       6.25 Mb     -12.50 Mb             1                                           [[1, 64, 320, 320], [], [], [], [], []]            --  \n",
      "    aten::max_pool2d_with_indices         4.14%      15.427ms         4.14%      15.427ms      15.427ms      18.75 Mb      18.75 Mb             1                                           [[1, 64, 320, 320], [], [], [], [], []]            --  \n",
      "                     aten::conv2d         0.01%      23.000us        10.86%      40.451ms      20.225ms      25.00 Mb           0 b             2                          [[1, 64, 160, 160], [128, 64, 3, 3], [], [], [], [], []]      7549.747  \n",
      "                aten::convolution         0.01%      32.300us        10.86%      40.428ms      20.214ms      25.00 Mb           0 b             2                  [[1, 64, 160, 160], [128, 64, 3, 3], [], [], [], [], [], [], []]            --  \n",
      "               aten::_convolution         0.01%      39.300us        10.85%      40.396ms      20.198ms      25.00 Mb           0 b             2  [[1, 64, 160, 160], [128, 64, 3, 3], [], [], [], [], [], [], [], [], [], [], []]            --  \n",
      "         aten::mkldnn_convolution        10.82%      40.304ms        10.84%      40.356ms      20.178ms      25.00 Mb           0 b             2                          [[1, 64, 160, 160], [128, 64, 3, 3], [], [], [], [], []]            --  \n",
      "                aten::as_strided_         0.00%      16.000us         0.00%      16.000us       8.000us           0 b           0 b             2                                                  [[1, 128, 160, 160], [], [], []]            --  \n",
      "                    aten::resize_         0.00%       4.300us         0.00%       4.300us       2.150us           0 b           0 b             2                                                      [[1, 128, 160, 160], [], []]            --  \n",
      "                 aten::batch_norm         0.00%      17.600us         2.46%       9.151ms       4.575ms      25.00 Mb      -2.00 Kb             2                  [[1, 128, 160, 160], [128], [128], [128], [128], [], [], [], []]            --  \n",
      "     aten::_batch_norm_impl_index         0.01%      36.400us         2.45%       9.133ms       4.566ms      25.00 Mb           0 b             2                  [[1, 128, 160, 160], [128], [128], [128], [128], [], [], [], []]            --  \n",
      "          aten::native_batch_norm         2.43%       9.056ms         2.44%       9.092ms       4.546ms      25.00 Mb      -4.00 Kb             2                      [[1, 128, 160, 160], [128], [128], [128], [128], [], [], []]            --  \n",
      "                 aten::empty_like         0.00%      11.000us         0.00%      16.600us       8.300us      25.00 Mb           0 b             2                                          [[1, 128, 160, 160], [], [], [], [], []]            --  \n",
      "                 aten::leaky_relu         0.79%       2.941ms         0.79%       2.941ms       1.470ms      25.00 Mb      25.00 Mb             2                                                          [[1, 128, 160, 160], []]            --  \n",
      "                     aten::conv2d         0.00%      11.700us         1.45%       5.390ms       5.390ms       6.25 Mb           0 b             1                         [[1, 128, 160, 160], [64, 128, 1, 1], [], [], [], [], []]       419.430  \n",
      "                aten::convolution         0.01%      18.800us         1.44%       5.378ms       5.378ms       6.25 Mb           0 b             1                 [[1, 128, 160, 160], [64, 128, 1, 1], [], [], [], [], [], [], []]            --  \n",
      "               aten::_convolution         0.01%      21.700us         1.44%       5.359ms       5.359ms       6.25 Mb           0 b             1  [[1, 128, 160, 160], [64, 128, 1, 1], [], [], [], [], [], [], [], [], [], [], []            --  \n",
      "         aten::mkldnn_convolution         1.43%       5.314ms         1.43%       5.338ms       5.338ms       6.25 Mb           0 b             1                         [[1, 128, 160, 160], [64, 128, 1, 1], [], [], [], [], []]            --  \n",
      "                aten::as_strided_         0.00%       9.700us         0.00%       9.700us       9.700us           0 b           0 b             1                                                   [[1, 64, 160, 160], [], [], []]            --  \n",
      "                    aten::resize_         0.00%       2.200us         0.00%       2.200us       2.200us           0 b           0 b             1                                                       [[1, 64, 160, 160], [], []]            --  \n",
      "                 aten::batch_norm         0.00%       8.300us         0.62%       2.318ms       2.318ms       6.25 Mb        -512 b             1                       [[1, 64, 160, 160], [64], [64], [64], [64], [], [], [], []]            --  \n",
      "     aten::_batch_norm_impl_index         0.01%      18.700us         0.62%       2.310ms       2.310ms       6.25 Mb           0 b             1                       [[1, 64, 160, 160], [64], [64], [64], [64], [], [], [], []]            --  \n",
      "          aten::native_batch_norm         0.61%       2.271ms         0.61%       2.288ms       2.288ms       6.25 Mb      -1.00 Kb             1                           [[1, 64, 160, 160], [64], [64], [64], [64], [], [], []]            --  \n",
      "                 aten::empty_like         0.00%       5.800us         0.00%       9.000us       9.000us       6.25 Mb           0 b             1                                           [[1, 64, 160, 160], [], [], [], [], []]            --  \n",
      "                 aten::leaky_relu         0.13%     468.000us         0.13%     468.000us     468.000us       6.25 Mb       6.25 Mb             1                                                           [[1, 64, 160, 160], []]            --  \n",
      "                 aten::max_pool2d         0.15%     541.300us         2.43%       9.040ms       9.040ms       3.12 Mb      -6.25 Mb             1                                          [[1, 128, 160, 160], [], [], [], [], []]            --  \n",
      "    aten::max_pool2d_with_indices         2.28%       8.499ms         2.28%       8.499ms       8.499ms       9.38 Mb       9.38 Mb             1                                          [[1, 128, 160, 160], [], [], [], [], []]            --  \n",
      "                     aten::conv2d         0.01%      21.400us         9.24%      34.400ms      17.200ms      12.50 Mb           0 b             2                          [[1, 128, 80, 80], [256, 128, 3, 3], [], [], [], [], []]      7549.747  \n",
      "                aten::convolution         0.01%      30.200us         9.23%      34.378ms      17.189ms      12.50 Mb           0 b             2                  [[1, 128, 80, 80], [256, 128, 3, 3], [], [], [], [], [], [], []]            --  \n",
      "               aten::_convolution         0.01%      34.300us         9.22%      34.348ms      17.174ms      12.50 Mb           0 b             2  [[1, 128, 80, 80], [256, 128, 3, 3], [], [], [], [], [], [], [], [], [], [], []]            --  \n",
      "         aten::mkldnn_convolution         9.20%      34.266ms         9.21%      34.314ms      17.157ms      12.50 Mb           0 b             2                          [[1, 128, 80, 80], [256, 128, 3, 3], [], [], [], [], []]            --  \n",
      "                aten::as_strided_         0.00%      14.900us         0.00%      14.900us       7.450us           0 b           0 b             2                                                    [[1, 256, 80, 80], [], [], []]            --  \n",
      "                    aten::resize_         0.00%       3.500us         0.00%       3.500us       1.750us           0 b           0 b             2                                                        [[1, 256, 80, 80], [], []]            --  \n",
      "                 aten::batch_norm         0.00%      14.000us         1.13%       4.209ms       2.105ms      12.50 Mb      -4.00 Kb             2                    [[1, 256, 80, 80], [256], [256], [256], [256], [], [], [], []]            --  \n",
      "     aten::_batch_norm_impl_index         0.01%      30.800us         1.13%       4.195ms       2.098ms      12.50 Mb           0 b             2                    [[1, 256, 80, 80], [256], [256], [256], [256], [], [], [], []]            --  \n",
      "          aten::native_batch_norm         1.11%       4.131ms         1.12%       4.161ms       2.081ms      12.50 Mb      -8.00 Kb             2                        [[1, 256, 80, 80], [256], [256], [256], [256], [], [], []]            --  \n",
      "                 aten::empty_like         0.00%       9.800us         0.00%      15.400us       7.700us      12.50 Mb           0 b             2                                            [[1, 256, 80, 80], [], [], [], [], []]            --  \n",
      "                 aten::leaky_relu         0.16%     593.400us         0.16%     593.400us     296.700us      12.50 Mb      12.50 Mb             2                                                            [[1, 256, 80, 80], []]            --  \n",
      "                     aten::conv2d         0.00%       9.900us         0.84%       3.146ms       3.146ms       3.12 Mb           0 b             1                          [[1, 256, 80, 80], [128, 256, 1, 1], [], [], [], [], []]       419.430  \n",
      "                aten::convolution         0.00%      13.800us         0.84%       3.136ms       3.136ms       3.12 Mb           0 b             1                  [[1, 256, 80, 80], [128, 256, 1, 1], [], [], [], [], [], [], []]            --  \n",
      "               aten::_convolution         0.00%      18.200us         0.84%       3.123ms       3.123ms       3.12 Mb           0 b             1  [[1, 256, 80, 80], [128, 256, 1, 1], [], [], [], [], [], [], [], [], [], [], []]            --  \n",
      "         aten::mkldnn_convolution         0.83%       3.081ms         0.83%       3.104ms       3.104ms       3.12 Mb           0 b             1                          [[1, 256, 80, 80], [128, 256, 1, 1], [], [], [], [], []]            --  \n",
      "                aten::as_strided_         0.00%       7.000us         0.00%       7.000us       7.000us           0 b           0 b             1                                                    [[1, 128, 80, 80], [], [], []]            --  \n",
      "                    aten::resize_         0.00%       2.300us         0.00%       2.300us       2.300us           0 b           0 b             1                                                        [[1, 128, 80, 80], [], []]            --  \n",
      "                 aten::batch_norm         0.00%       9.700us         0.28%       1.026ms       1.026ms       3.12 Mb      -1.00 Kb             1                    [[1, 128, 80, 80], [128], [128], [128], [128], [], [], [], []]            --  \n",
      "     aten::_batch_norm_impl_index         0.00%      17.700us         0.27%       1.016ms       1.016ms       3.13 Mb           0 b             1                    [[1, 128, 80, 80], [128], [128], [128], [128], [], [], [], []]            --  \n",
      "          aten::native_batch_norm         0.26%     979.400us         0.27%     995.700us     995.700us       3.13 Mb      -2.00 Kb             1                        [[1, 128, 80, 80], [128], [128], [128], [128], [], [], []]            --  \n",
      "                 aten::empty_like         0.00%       5.700us         0.00%       7.900us       7.900us       3.12 Mb           0 b             1                                            [[1, 128, 80, 80], [], [], [], [], []]            --  \n",
      "                 aten::leaky_relu         0.04%     140.300us         0.04%     140.300us     140.300us       3.12 Mb       3.12 Mb             1                                                            [[1, 128, 80, 80], []]            --  \n",
      "                 aten::max_pool2d         0.01%      21.800us         1.22%       4.554ms       4.554ms       1.56 Mb      -3.12 Mb             1                                            [[1, 256, 80, 80], [], [], [], [], []]            --  \n",
      "    aten::max_pool2d_with_indices         1.22%       4.532ms         1.22%       4.532ms       4.532ms       4.69 Mb       4.69 Mb             1                                            [[1, 256, 80, 80], [], [], [], [], []]            --  \n",
      "                     aten::conv2d         0.01%      42.300us        13.28%      49.449ms      16.483ms       9.38 Mb           0 b             3                          [[1, 256, 40, 40], [512, 256, 3, 3], [], [], [], [], []]     11324.621  \n",
      "                aten::convolution         0.01%      35.000us        13.27%      49.407ms      16.469ms       9.38 Mb           0 b             3                  [[1, 256, 40, 40], [512, 256, 3, 3], [], [], [], [], [], [], []]            --  \n",
      "               aten::_convolution         0.03%     112.200us        13.26%      49.372ms      16.457ms       9.38 Mb           0 b             3  [[1, 256, 40, 40], [512, 256, 3, 3], [], [], [], [], [], [], [], [], [], [], []]            --  \n",
      "         aten::mkldnn_convolution        13.21%      49.196ms        13.23%      49.260ms      16.420ms       9.38 Mb           0 b             3                          [[1, 256, 40, 40], [512, 256, 3, 3], [], [], [], [], []]            --  \n",
      "                aten::as_strided_         0.01%      19.000us         0.01%      19.000us       6.333us           0 b           0 b             3                                                    [[1, 512, 40, 40], [], [], []]            --  \n",
      "                    aten::resize_         0.00%       5.200us         0.00%       5.200us       1.733us           0 b           0 b             3                                                        [[1, 512, 40, 40], [], []]            --  \n",
      "                 aten::batch_norm         0.00%      17.800us         0.86%       3.201ms       1.067ms       9.38 Mb     -12.00 Kb             3                    [[1, 512, 40, 40], [512], [512], [512], [512], [], [], [], []]            --  \n",
      "     aten::_batch_norm_impl_index         0.01%      35.900us         0.85%       3.183ms       1.061ms       9.39 Mb           0 b             3                    [[1, 512, 40, 40], [512], [512], [512], [512], [], [], [], []]            --  \n",
      "          aten::native_batch_norm         0.83%       3.096ms         0.84%       3.143ms       1.048ms       9.39 Mb     -24.00 Kb             3                        [[1, 512, 40, 40], [512], [512], [512], [512], [], [], []]            --  \n",
      "                 aten::empty_like         0.01%      22.700us         0.01%      29.700us       9.900us       9.38 Mb           0 b             3                                            [[1, 512, 40, 40], [], [], [], [], []]            --  \n",
      "                 aten::leaky_relu         0.08%     293.500us         0.08%     293.500us      97.833us       9.38 Mb       9.38 Mb             3                                                            [[1, 512, 40, 40], []]            --  \n",
      "                     aten::conv2d         0.00%      13.400us         1.28%       4.775ms       2.387ms       3.12 Mb           0 b             2                          [[1, 512, 40, 40], [256, 512, 1, 1], [], [], [], [], []]       838.861  \n",
      "                aten::convolution         0.01%      19.500us         1.28%       4.761ms       2.381ms       3.12 Mb           0 b             2                  [[1, 512, 40, 40], [256, 512, 1, 1], [], [], [], [], [], [], []]            --  \n",
      "               aten::_convolution         0.01%      25.400us         1.27%       4.742ms       2.371ms       3.12 Mb           0 b             2  [[1, 512, 40, 40], [256, 512, 1, 1], [], [], [], [], [], [], [], [], [], [], []]            --  \n",
      "         aten::mkldnn_convolution         1.26%       4.692ms         1.27%       4.716ms       2.358ms       3.12 Mb           0 b             2                          [[1, 512, 40, 40], [256, 512, 1, 1], [], [], [], [], []]            --  \n",
      "                aten::as_strided_         0.00%       8.900us         0.00%       8.900us       4.450us           0 b           0 b             2                                                    [[1, 256, 40, 40], [], [], []]            --  \n",
      "                    aten::resize_         0.00%       2.700us         0.00%       2.700us       1.350us           0 b           0 b             2                                                        [[1, 256, 40, 40], [], []]            --  \n",
      "                 aten::batch_norm         0.00%      10.500us         0.31%       1.170ms     584.850us       3.12 Mb      -4.00 Kb             2                    [[1, 256, 40, 40], [256], [256], [256], [256], [], [], [], []]            --  \n",
      "     aten::_batch_norm_impl_index         0.01%      27.200us         0.31%       1.159ms     579.600us       3.13 Mb           0 b             2                    [[1, 256, 40, 40], [256], [256], [256], [256], [], [], [], []]            --  \n",
      "          aten::native_batch_norm         0.30%       1.100ms         0.30%       1.120ms     559.800us       3.13 Mb      -8.00 Kb             2                        [[1, 256, 40, 40], [256], [256], [256], [256], [], [], []]            --  \n",
      "                 aten::empty_like         0.00%       8.300us         0.00%      10.800us       5.400us       3.12 Mb           0 b             2                                            [[1, 256, 40, 40], [], [], [], [], []]            --  \n",
      "                 aten::leaky_relu         0.02%      84.600us         0.02%      84.600us      42.300us       3.12 Mb       3.12 Mb             2                                                            [[1, 256, 40, 40], []]            --  \n",
      "                 aten::max_pool2d         0.01%      20.000us         0.61%       2.268ms       2.268ms     800.00 Kb      -1.56 Mb             1                                            [[1, 512, 40, 40], [], [], [], [], []]            --  \n",
      "    aten::max_pool2d_with_indices         0.60%       2.248ms         0.60%       2.248ms       2.248ms       2.34 Mb       2.34 Mb             1                                            [[1, 512, 40, 40], [], [], [], [], []]            --  \n",
      "                     aten::conv2d         0.01%      24.900us        13.75%      51.211ms      17.070ms       4.69 Mb           0 b             3                         [[1, 512, 20, 20], [1024, 512, 3, 3], [], [], [], [], []]     11324.621  \n",
      "                aten::convolution         0.01%      33.200us        13.75%      51.186ms      17.062ms       4.69 Mb           0 b             3                 [[1, 512, 20, 20], [1024, 512, 3, 3], [], [], [], [], [], [], []]            --  \n",
      "               aten::_convolution         0.01%      42.900us        13.74%      51.153ms      17.051ms       4.69 Mb           0 b             3  [[1, 512, 20, 20], [1024, 512, 3, 3], [], [], [], [], [], [], [], [], [], [], []            --  \n",
      "         aten::mkldnn_convolution        13.71%      51.063ms        13.73%      51.110ms      17.037ms       4.69 Mb           0 b             3                         [[1, 512, 20, 20], [1024, 512, 3, 3], [], [], [], [], []]            --  \n",
      "                aten::as_strided_         0.00%      15.800us         0.00%      15.800us       5.267us           0 b           0 b             3                                                   [[1, 1024, 20, 20], [], [], []]            --  \n",
      "                    aten::resize_         0.00%       4.800us         0.00%       4.800us       1.600us           0 b           0 b             3                                                       [[1, 1024, 20, 20], [], []]            --  \n",
      "                 aten::batch_norm         0.01%      30.400us         0.43%       1.605ms     534.900us       4.69 Mb     -24.00 Kb             3               [[1, 1024, 20, 20], [1024], [1024], [1024], [1024], [], [], [], []]            --  \n",
      "     aten::_batch_norm_impl_index         0.01%      36.200us         0.42%       1.574ms     524.767us       4.71 Mb           0 b             3               [[1, 1024, 20, 20], [1024], [1024], [1024], [1024], [], [], [], []]            --  \n",
      "          aten::native_batch_norm         0.40%       1.496ms         0.41%       1.534ms     511.333us       4.71 Mb     -48.00 Kb             3                   [[1, 1024, 20, 20], [1024], [1024], [1024], [1024], [], [], []]            --  \n",
      "                 aten::empty_like         0.00%      14.100us         0.00%      17.800us       5.933us       4.69 Mb           0 b             3                                           [[1, 1024, 20, 20], [], [], [], [], []]            --  \n",
      "                 aten::leaky_relu         0.03%     125.400us         0.03%     125.400us      41.800us       4.69 Mb       4.69 Mb             3                                                           [[1, 1024, 20, 20], []]            --  \n",
      "                     aten::conv2d         0.00%      13.400us         1.09%       4.044ms       2.022ms       1.56 Mb           0 b             2                        [[1, 1024, 20, 20], [512, 1024, 1, 1], [], [], [], [], []]       838.861  \n",
      "                aten::convolution         0.01%      18.900us         1.08%       4.031ms       2.015ms       1.56 Mb           0 b             2                [[1, 1024, 20, 20], [512, 1024, 1, 1], [], [], [], [], [], [], []]            --  \n",
      "               aten::_convolution         0.01%      25.500us         1.08%       4.012ms       2.006ms       1.56 Mb           0 b             2  [[1, 1024, 20, 20], [512, 1024, 1, 1], [], [], [], [], [], [], [], [], [], [], [            --  \n",
      "         aten::mkldnn_convolution         1.06%       3.964ms         1.07%       3.987ms       1.993ms       1.56 Mb           0 b             2                        [[1, 1024, 20, 20], [512, 1024, 1, 1], [], [], [], [], []]            --  \n",
      "                aten::as_strided_         0.00%       8.400us         0.00%       8.400us       4.200us           0 b           0 b             2                                                    [[1, 512, 20, 20], [], [], []]            --  \n",
      "                    aten::resize_         0.00%       2.600us         0.00%       2.600us       1.300us           0 b           0 b             2                                                        [[1, 512, 20, 20], [], []]            --  \n",
      "                 aten::batch_norm         0.00%      12.100us         0.20%     759.400us     379.700us       1.56 Mb      -8.00 Kb             2                    [[1, 512, 20, 20], [512], [512], [512], [512], [], [], [], []]            --  \n",
      "     aten::_batch_norm_impl_index         0.01%      21.700us         0.20%     747.300us     373.650us       1.57 Mb           0 b             2                    [[1, 512, 20, 20], [512], [512], [512], [512], [], [], [], []]            --  \n",
      "          aten::native_batch_norm         0.19%     694.300us         0.19%     722.300us     361.150us       1.57 Mb     -16.00 Kb             2                        [[1, 512, 20, 20], [512], [512], [512], [512], [], [], []]            --  \n",
      "                 aten::empty_like         0.00%       9.600us         0.00%      12.800us       6.400us       1.56 Mb           0 b             2                                            [[1, 512, 20, 20], [], [], [], [], []]            --  \n",
      "                 aten::leaky_relu         0.01%      44.300us         0.01%      44.300us      22.150us       1.56 Mb       1.56 Mb             2                                                            [[1, 512, 20, 20], []]            --  \n",
      "                       ClassifyV2         0.03%     129.700us         1.44%       5.360ms       5.360ms       3.91 Kb           0 b             1                                                                                []            --  \n",
      "                     aten::conv2d         0.00%       7.000us         1.31%       4.860ms       4.860ms       1.53 Mb           0 b             1                       [[1, 1024, 20, 20], [1000, 1024, 1, 1], [], [], [], [], []]       819.200  \n",
      "                aten::convolution         0.00%      10.600us         1.30%       4.853ms       4.853ms       1.53 Mb           0 b             1               [[1, 1024, 20, 20], [1000, 1024, 1, 1], [], [], [], [], [], [], []]            --  \n",
      "               aten::_convolution         0.00%      14.300us         1.30%       4.843ms       4.843ms       1.53 Mb           0 b             1  [[1, 1024, 20, 20], [1000, 1024, 1, 1], [], [], [], [], [], [], [], [], [], [],             --  \n",
      "         aten::mkldnn_convolution         1.29%       4.816ms         1.30%       4.828ms       4.828ms       1.53 Mb           0 b             1                       [[1, 1024, 20, 20], [1000, 1024, 1, 1], [], [], [], [], []]            --  \n",
      "                aten::as_strided_         0.00%       4.700us         0.00%       4.700us       4.700us           0 b           0 b             1                                                   [[1, 1000, 20, 20], [], [], []]            --  \n",
      "                    aten::resize_         0.00%       1.200us         0.00%       1.200us       1.200us           0 b           0 b             1                                                       [[1, 1000, 20, 20], [], []]            --  \n",
      "         Adaptive Average Pooling         0.03%     110.900us         0.07%     269.700us     269.700us      -1.52 Mb      -1.53 Mb             1                                                                                []            --  \n",
      "        aten::adaptive_avg_pool2d         0.00%       6.600us         0.04%     158.800us     158.800us       3.91 Kb           0 b             1                                                           [[1, 1000, 20, 20], []]            --  \n",
      "                       aten::mean         0.00%      18.200us         0.04%     152.200us     152.200us       3.91 Kb       3.91 Kb             1                                                   [[1, 1000, 20, 20], [], [], []]            --  \n",
      "                        aten::sum         0.02%      81.400us         0.02%      86.200us      86.200us           0 b           0 b             1                                  [[1, 1000, 20, 20], [], [], [], [1, 1000, 1, 1]]            --  \n",
      "                      aten::fill_         0.00%       4.800us         0.00%       4.800us       4.800us           0 b           0 b             1                                                             [[1, 1000, 1, 1], []]            --  \n",
      "                       aten::div_         0.01%      20.300us         0.01%      47.800us      47.800us           0 b          -4 b             1                                                             [[1, 1000, 1, 1], []]            --  \n",
      "                         aten::to         0.00%       5.600us         0.01%      27.500us      27.500us           4 b           0 b             1                                                              [[], [], [], [], []]            --  \n",
      "                   aten::_to_copy         0.00%      12.200us         0.01%      21.900us      21.900us           4 b           0 b             1                                                      [[], [], [], [], [], [], []]            --  \n",
      "              aten::empty_strided         0.00%       3.600us         0.00%       3.600us       3.600us           4 b           4 b             1                                                          [[], [], [], [], [], []]            --  \n",
      "                      aten::copy_         0.00%       6.100us         0.00%       6.100us       6.100us           0 b           0 b             1                                                                      [[], [], []]            --  \n",
      "                          Flatten         0.01%      28.700us         0.01%      45.100us      45.100us           0 b           0 b             1                                                                                []            --  \n",
      "                    aten::flatten         0.00%       6.200us         0.00%      16.400us      16.400us           0 b           0 b             1                                                         [[1, 1000, 1, 1], [], []]            --  \n",
      "                       aten::view         0.00%      10.200us         0.00%      10.200us      10.200us           0 b           0 b             1                                                             [[1, 1000, 1, 1], []]            --  \n",
      "                      Log Softmax         0.01%      39.700us         0.01%      55.600us      55.600us           0 b      -3.91 Kb             1                                                                                []            --  \n",
      "                aten::log_softmax         0.00%       6.000us         0.00%      15.900us      15.900us       3.91 Kb           0 b             1                                                               [[1, 1000], [], []]            --  \n",
      "               aten::_log_softmax         0.00%       9.900us         0.00%       9.900us       9.900us       3.91 Kb       3.91 Kb             1                                                               [[1, 1000], [], []]            --  \n",
      "---------------------------------  ------------  ------------  ------------  ------------  ------------  ------------  ------------  ------------  --------------------------------------------------------------------------------  ------------  \n",
      "Self CPU time total: 372.378ms\n",
      "\n"
     ]
    }
   ],
   "source": [
    "img = train_dataset[6][0].unsqueeze(0).to(device)\n",
    "with profile(activities=[ProfilerActivity.CPU],\n",
    "                                    schedule=torch.profiler.schedule(wait=1, warmup=1, active=1, repeat=1),\n",
    "                                    on_trace_ready=torch.profiler.tensorboard_trace_handler('../log/darknet19/inference_at_640'),\n",
    "                                    record_shapes=True,\n",
    "                                    profile_memory=True,\n",
    "                                    with_flops=True,\n",
    "                                    with_modules=True,\n",
    "                                    with_stack=False) as prof:\n",
    "    for i in range(3):\n",
    "        # torch.cuda.synchronize(device=device)\n",
    "        with record_function('inference'):\n",
    "            with torch.no_grad():\n",
    "                model(img)\n",
    "        # torch.cuda.synchronize(device=device)\n",
    "        prof.step()\n",
    "print(prof.key_averages(group_by_input_shape=True).table(row_limit=-1))"
   ]
  },
  {
   "cell_type": "markdown",
   "id": "bd5625b3-8ce9-448c-a2b3-d99ff04551f5",
   "metadata": {},
   "source": [
    "# Inference at 224x224"
   ]
  },
  {
   "cell_type": "code",
   "execution_count": 107,
   "id": "beab481d-2aad-432e-872e-ec056fa55e91",
   "metadata": {},
   "outputs": [],
   "source": [
    "transformations = transforms.Compose([transforms.ToTensor(),\n",
    "                                      transforms.Resize((224, 224)),\n",
    "                                      transforms.Normalize(mean=means, std=stds)])"
   ]
  },
  {
   "cell_type": "code",
   "execution_count": 108,
   "id": "3628ab1c-3662-4a23-a7c0-5dc2b9e2d650",
   "metadata": {},
   "outputs": [],
   "source": [
    "train_dataset = ImageNetSubset(path=data_path, train=True, transform=transformations, half=False, show=False)"
   ]
  },
  {
   "cell_type": "code",
   "execution_count": 109,
   "id": "af5c0bac-91d1-41cb-af78-df9e04bd88da",
   "metadata": {},
   "outputs": [],
   "source": [
    "model = Darknet19(num_classes=1000, device=device, dtype=torch.float32)"
   ]
  },
  {
   "cell_type": "code",
   "execution_count": 110,
   "id": "e28edd54-ce44-41ac-aed4-b3aced1f70ef",
   "metadata": {},
   "outputs": [],
   "source": [
    "from torch.profiler import profile, ProfilerActivity"
   ]
  },
  {
   "cell_type": "code",
   "execution_count": 111,
   "id": "b4db4328-6bbb-44a3-85ab-17840e8761de",
   "metadata": {},
   "outputs": [
    {
     "data": {
      "text/plain": [
       "(torch.Size([1, 3, 224, 224]), device(type='cpu'))"
      ]
     },
     "execution_count": 111,
     "metadata": {},
     "output_type": "execute_result"
    }
   ],
   "source": [
    "img = train_dataset[6][0].unsqueeze(0).to(device)\n",
    "img.shape, img.device"
   ]
  },
  {
   "cell_type": "code",
   "execution_count": 121,
   "id": "f7fcc41d-607f-4715-9099-f12a757cb2a0",
   "metadata": {
    "scrolled": true
   },
   "outputs": [
    {
     "name": "stdout",
     "output_type": "stream",
     "text": [
      "---------------------------------  ------------  ------------  ------------  ------------  ------------  ------------  ------------  ------------  ------------  ------------  ------------  ------------  --------------------------------------------------------------------------------  ------------  \n",
      "                             Name    Self CPU %      Self CPU   CPU total %     CPU total  CPU time avg     Self CUDA   Self CUDA %    CUDA total  CUDA time avg       CPU Mem  Self CPU Mem    # of Calls                                                                      Input Shapes  Total MFLOPs  \n",
      "---------------------------------  ------------  ------------  ------------  ------------  ------------  ------------  ------------  ------------  ------------  ------------  ------------  ------------  --------------------------------------------------------------------------------  ------------  \n",
      "                    ProfilerStep*         0.08%     544.200us       100.00%     706.746ms      70.675ms     555.000us         0.08%     706.587ms      70.659ms           0 b           0 b            10                                                                                []            --  \n",
      "                        inference         1.87%      13.250ms        99.92%     706.202ms      70.620ms       8.673ms         1.23%     706.032ms      70.603ms           0 b     -83.30 Mb            10                                                                                []            --  \n",
      "                       Conv block         6.47%      45.708ms        83.32%     588.886ms       3.272ms      29.953ms         4.24%     586.920ms       3.261ms     172.27 Mb    -344.53 Mb           180                                                                                []            --  \n",
      "                     aten::conv2d         0.03%     239.000us         2.59%      18.270ms       1.827ms     177.000us         0.03%      19.456ms       1.946ms      61.25 Mb           0 b            10                             [[1, 3, 224, 224], [32, 3, 3, 3], [], [], [], [], []]       867.041  \n",
      "                aten::convolution         0.03%     224.800us         2.55%      18.031ms       1.803ms     223.000us         0.03%      19.279ms       1.928ms      61.25 Mb           0 b            10                     [[1, 3, 224, 224], [32, 3, 3, 3], [], [], [], [], [], [], []]            --  \n",
      "               aten::_convolution         0.05%     347.200us         2.52%      17.806ms       1.781ms     265.000us         0.04%      19.056ms       1.906ms      61.25 Mb           0 b            10     [[1, 3, 224, 224], [32, 3, 3, 3], [], [], [], [], [], [], [], [], [], [], []]            --  \n",
      "         aten::mkldnn_convolution         2.45%      17.313ms         2.47%      17.459ms       1.746ms      18.584ms         2.63%      18.791ms       1.879ms      61.25 Mb           0 b            10                             [[1, 3, 224, 224], [32, 3, 3, 3], [], [], [], [], []]            --  \n",
      "                      aten::empty         0.51%       3.638ms         0.51%       3.638ms       1.999us      13.108ms         1.86%      13.108ms       7.202us     348.05 Mb     348.05 Mb          1820                                                          [[], [], [], [], [], []]            --  \n",
      "                aten::as_strided_         0.01%      69.500us         0.01%      69.500us       6.950us      51.000us         0.01%      51.000us       5.100us           0 b           0 b            10                                                   [[1, 32, 224, 224], [], [], []]            --  \n",
      "                    aten::resize_         0.00%      16.300us         0.00%      16.300us       1.630us      43.000us         0.01%      43.000us       4.300us           0 b           0 b            10                                                       [[1, 32, 224, 224], [], []]            --  \n",
      "                       aten::add_         0.27%       1.910ms         0.27%       1.910ms      10.611us       1.715ms         0.24%       1.715ms       9.528us           0 b           0 b           180                                                                      [[], [], []]            --  \n",
      "                 aten::batch_norm         0.04%     250.600us         3.15%      22.264ms       2.226ms     114.000us         0.02%      22.942ms       2.294ms      61.25 Mb      -2.50 Kb            10                       [[1, 32, 224, 224], [32], [32], [32], [32], [], [], [], []]            --  \n",
      "     aten::_batch_norm_impl_index         0.08%     557.600us         3.11%      22.013ms       2.201ms     214.000us         0.03%      22.828ms       2.283ms      61.25 Mb           0 b            10                       [[1, 32, 224, 224], [32], [32], [32], [32], [], [], [], []]            --  \n",
      "          aten::native_batch_norm         2.99%      21.106ms         3.03%      21.436ms       2.144ms      22.034ms         3.12%      22.571ms       2.257ms      61.25 Mb      -5.00 Kb            10                           [[1, 32, 224, 224], [32], [32], [32], [32], [], [], []]            --  \n",
      "                 aten::empty_like         0.03%     200.700us         0.03%     227.400us      22.740us     139.000us         0.02%     194.000us      19.400us      61.25 Mb           0 b            10                                           [[1, 32, 224, 224], [], [], [], [], []]            --  \n",
      "                 aten::leaky_relu         0.56%       3.991ms         0.56%       3.991ms     399.080us       4.970ms         0.70%       4.970ms     497.000us      61.25 Mb      61.25 Mb            10                                                           [[1, 32, 224, 224], []]            --  \n",
      "                      Max pooling         0.77%       5.426ms        11.70%      82.661ms       1.653ms       3.079ms         0.44%      88.938ms       1.779ms     -89.00 Mb    -118.67 Mb            50                                                                                []            --  \n",
      "                 aten::max_pool2d         0.09%     606.700us         5.51%      38.963ms       3.896ms     248.000us         0.04%      40.720ms       4.072ms      15.31 Mb     -30.62 Mb            10                                           [[1, 32, 224, 224], [], [], [], [], []]            --  \n",
      "    aten::max_pool2d_with_indices         5.43%      38.356ms         5.43%      38.356ms       3.836ms      40.472ms         5.73%      40.472ms       4.047ms      45.94 Mb      45.94 Mb            10                                           [[1, 32, 224, 224], [], [], [], [], []]            --  \n",
      "                     aten::conv2d         0.04%     308.100us         4.46%      31.551ms       3.155ms     155.000us         0.02%      31.634ms       3.163ms      30.62 Mb           0 b            10                           [[1, 32, 112, 112], [64, 32, 3, 3], [], [], [], [], []]      4624.220  \n",
      "                aten::convolution         0.04%     312.800us         4.42%      31.243ms       3.124ms     323.000us         0.05%      31.479ms       3.148ms      30.62 Mb           0 b            10                   [[1, 32, 112, 112], [64, 32, 3, 3], [], [], [], [], [], [], []]            --  \n",
      "               aten::_convolution         0.07%     466.100us         4.38%      30.930ms       3.093ms     399.000us         0.06%      31.156ms       3.116ms      30.62 Mb           0 b            10   [[1, 32, 112, 112], [64, 32, 3, 3], [], [], [], [], [], [], [], [], [], [], []]            --  \n",
      "         aten::mkldnn_convolution         4.28%      30.243ms         4.31%      30.464ms       3.046ms      30.429ms         4.31%      30.757ms       3.076ms      30.62 Mb           0 b            10                           [[1, 32, 112, 112], [64, 32, 3, 3], [], [], [], [], []]            --  \n",
      "                aten::as_strided_         0.01%      75.100us         0.01%      75.100us       7.510us     120.000us         0.02%     120.000us      12.000us           0 b           0 b            10                                                   [[1, 64, 112, 112], [], [], []]            --  \n",
      "                    aten::resize_         0.00%      21.800us         0.00%      21.800us       2.180us      96.000us         0.01%      96.000us       9.600us           0 b           0 b            10                                                       [[1, 64, 112, 112], [], []]            --  \n",
      "                 aten::batch_norm         0.03%     202.400us         1.70%      12.017ms       1.202ms     162.000us         0.02%      12.205ms       1.220ms      30.62 Mb      -5.00 Kb            10                       [[1, 64, 112, 112], [64], [64], [64], [64], [], [], [], []]            --  \n",
      "     aten::_batch_norm_impl_index         0.07%     501.500us         1.67%      11.815ms       1.181ms     357.000us         0.05%      12.043ms       1.204ms      30.63 Mb           0 b            10                       [[1, 64, 112, 112], [64], [64], [64], [64], [], [], [], []]            --  \n",
      "          aten::native_batch_norm         1.55%      10.984ms         1.60%      11.296ms       1.130ms      10.924ms         1.55%      11.624ms       1.162ms      30.63 Mb     -10.00 Kb            10                           [[1, 64, 112, 112], [64], [64], [64], [64], [], [], []]            --  \n",
      "                 aten::empty_like         0.03%     186.600us         0.03%     212.900us      21.290us     264.000us         0.04%     340.000us      34.000us      30.62 Mb           0 b            10                                           [[1, 64, 112, 112], [], [], [], [], []]            --  \n",
      "                 aten::leaky_relu         0.13%     942.800us         0.13%     942.800us      94.280us       1.078ms         0.15%       1.078ms     107.800us      30.62 Mb      30.62 Mb            10                                                           [[1, 64, 112, 112], []]            --  \n",
      "                 aten::max_pool2d         0.05%     362.800us         2.87%      20.276ms       2.028ms     196.000us         0.03%      22.030ms       2.203ms       7.66 Mb     -15.31 Mb            10                                           [[1, 64, 112, 112], [], [], [], [], []]            --  \n",
      "    aten::max_pool2d_with_indices         2.82%      19.913ms         2.82%      19.913ms       1.991ms      21.834ms         3.09%      21.834ms       2.183ms      22.97 Mb      22.97 Mb            10                                           [[1, 64, 112, 112], [], [], [], [], []]            --  \n",
      "                     aten::conv2d         0.08%     553.200us         7.24%      51.202ms       2.560ms     399.000us         0.06%      51.383ms       2.569ms      30.62 Mb           0 b            20                            [[1, 64, 56, 56], [128, 64, 3, 3], [], [], [], [], []]      9248.440  \n",
      "                aten::convolution         0.07%     497.600us         7.17%      50.649ms       2.532ms     483.000us         0.07%      50.984ms       2.549ms      30.62 Mb           0 b            20                    [[1, 64, 56, 56], [128, 64, 3, 3], [], [], [], [], [], [], []]            --  \n",
      "               aten::_convolution         0.09%     671.300us         7.10%      50.151ms       2.508ms     445.000us         0.06%      50.501ms       2.525ms      30.62 Mb           0 b            20    [[1, 64, 56, 56], [128, 64, 3, 3], [], [], [], [], [], [], [], [], [], [], []]            --  \n",
      "         aten::mkldnn_convolution         6.96%      49.212ms         7.00%      49.480ms       2.474ms      49.477ms         7.00%      50.056ms       2.503ms      30.62 Mb           0 b            20                            [[1, 64, 56, 56], [128, 64, 3, 3], [], [], [], [], []]            --  \n",
      "                aten::as_strided_         0.01%     102.800us         0.01%     102.800us       5.140us     210.000us         0.03%     210.000us      10.500us           0 b           0 b            20                                                    [[1, 128, 56, 56], [], [], []]            --  \n",
      "                    aten::resize_         0.00%      33.300us         0.00%      33.300us       1.665us     130.000us         0.02%     130.000us       6.500us           0 b           0 b            20                                                        [[1, 128, 56, 56], [], []]            --  \n",
      "                 aten::batch_norm         0.07%     463.900us         2.15%      15.224ms     761.215us     369.000us         0.05%      16.997ms     849.850us      30.62 Mb     -20.00 Kb            20                    [[1, 128, 56, 56], [128], [128], [128], [128], [], [], [], []]            --  \n",
      "     aten::_batch_norm_impl_index         0.14%       1.010ms         2.09%      14.760ms     738.020us     706.000us         0.10%      16.628ms     831.400us      30.64 Mb           0 b            20                    [[1, 128, 56, 56], [128], [128], [128], [128], [], [], [], []]            --  \n",
      "          aten::native_batch_norm         1.85%      13.057ms         1.94%      13.716ms     685.795us      14.537ms         2.06%      15.774ms     788.700us      30.64 Mb     -40.00 Kb            20                        [[1, 128, 56, 56], [128], [128], [128], [128], [], [], []]            --  \n",
      "                 aten::empty_like         0.06%     425.300us         0.07%     467.900us      23.395us     398.000us         0.06%     527.000us      26.350us      30.62 Mb           0 b            20                                            [[1, 128, 56, 56], [], [], [], [], []]            --  \n",
      "                 aten::leaky_relu         0.12%     849.700us         0.12%     849.700us      42.485us     251.000us         0.04%     251.000us      12.550us      30.62 Mb      30.62 Mb            20                                                            [[1, 128, 56, 56], []]            --  \n",
      "                     aten::conv2d         0.03%     213.100us         0.90%       6.346ms     634.580us     191.000us         0.03%       7.266ms     726.600us       7.66 Mb           0 b            10                           [[1, 128, 56, 56], [64, 128, 1, 1], [], [], [], [], []]       513.802  \n",
      "                aten::convolution         0.03%     211.400us         0.87%       6.133ms     613.270us     184.000us         0.03%       7.075ms     707.500us       7.66 Mb           0 b            10                   [[1, 128, 56, 56], [64, 128, 1, 1], [], [], [], [], [], [], []]            --  \n",
      "               aten::_convolution         0.04%     282.200us         0.84%       5.921ms     592.130us     251.000us         0.04%       6.891ms     689.100us       7.66 Mb           0 b            10   [[1, 128, 56, 56], [64, 128, 1, 1], [], [], [], [], [], [], [], [], [], [], []]            --  \n",
      "         aten::mkldnn_convolution         0.78%       5.538ms         0.80%       5.639ms     563.910us       6.437ms         0.91%       6.640ms     664.000us       7.66 Mb           0 b            10                           [[1, 128, 56, 56], [64, 128, 1, 1], [], [], [], [], []]            --  \n",
      "                aten::as_strided_         0.00%      29.200us         0.00%      29.200us       2.920us      37.000us         0.01%      37.000us       3.700us           0 b           0 b            10                                                     [[1, 64, 56, 56], [], [], []]            --  \n",
      "                    aten::resize_         0.00%       8.600us         0.00%       8.600us       0.860us      36.000us         0.01%      36.000us       3.600us           0 b           0 b            10                                                         [[1, 64, 56, 56], [], []]            --  \n",
      "                 aten::batch_norm         0.03%     180.200us         0.65%       4.612ms     461.250us     139.000us         0.02%       4.395ms     439.500us       7.66 Mb      -5.00 Kb            10                         [[1, 64, 56, 56], [64], [64], [64], [64], [], [], [], []]            --  \n",
      "     aten::_batch_norm_impl_index         0.07%     462.400us         0.63%       4.432ms     443.230us     191.000us         0.03%       4.256ms     425.600us       7.66 Mb           0 b            10                         [[1, 64, 56, 56], [64], [64], [64], [64], [], [], [], []]            --  \n",
      "          aten::native_batch_norm         0.51%       3.637ms         0.56%       3.955ms     395.510us       3.388ms         0.48%       4.024ms     402.400us       7.66 Mb     -10.00 Kb            10                             [[1, 64, 56, 56], [64], [64], [64], [64], [], [], []]            --  \n",
      "                 aten::empty_like         0.03%     222.100us         0.03%     238.500us      23.850us     139.000us         0.02%     268.000us      26.800us       7.66 Mb           0 b            10                                             [[1, 64, 56, 56], [], [], [], [], []]            --  \n",
      "                 aten::leaky_relu         0.03%     220.400us         0.03%     220.400us      22.040us     306.000us         0.04%     306.000us      30.600us       7.66 Mb       7.66 Mb            10                                                             [[1, 64, 56, 56], []]            --  \n",
      "                 aten::max_pool2d         0.04%     271.800us         1.37%       9.651ms     965.060us     166.000us         0.02%      11.540ms       1.154ms       3.83 Mb      -7.66 Mb            10                                            [[1, 128, 56, 56], [], [], [], [], []]            --  \n",
      "    aten::max_pool2d_with_indices         1.33%       9.379ms         1.33%       9.379ms     937.880us      11.374ms         1.61%      11.374ms       1.137ms      11.48 Mb      11.48 Mb            10                                            [[1, 128, 56, 56], [], [], [], [], []]            --  \n",
      "                     aten::conv2d         0.06%     413.700us         6.79%      47.985ms       2.399ms     274.000us         0.04%      48.557ms       2.428ms      15.31 Mb           0 b            20                          [[1, 128, 28, 28], [256, 128, 3, 3], [], [], [], [], []]      9248.440  \n",
      "                aten::convolution         0.06%     452.900us         6.73%      47.571ms       2.379ms     312.000us         0.04%      48.283ms       2.414ms      15.31 Mb           0 b            20                  [[1, 128, 28, 28], [256, 128, 3, 3], [], [], [], [], [], [], []]            --  \n",
      "               aten::_convolution         0.08%     574.900us         6.67%      47.119ms       2.356ms     388.000us         0.05%      47.971ms       2.399ms      15.31 Mb           0 b            20  [[1, 128, 28, 28], [256, 128, 3, 3], [], [], [], [], [], [], [], [], [], [], []]            --  \n",
      "         aten::mkldnn_convolution         6.56%      46.339ms         6.59%      46.544ms       2.327ms      47.243ms         6.69%      47.583ms       2.379ms      15.31 Mb           0 b            20                          [[1, 128, 28, 28], [256, 128, 3, 3], [], [], [], [], []]            --  \n",
      "                aten::as_strided_         0.01%      64.200us         0.01%      64.200us       3.210us      93.000us         0.01%      93.000us       4.650us           0 b           0 b            20                                                    [[1, 256, 28, 28], [], [], []]            --  \n",
      "                    aten::resize_         0.00%      20.500us         0.00%      20.500us       1.025us      78.000us         0.01%      78.000us       3.900us           0 b           0 b            20                                                        [[1, 256, 28, 28], [], []]            --  \n",
      "                 aten::batch_norm         0.07%     512.500us         1.48%      10.463ms     523.140us     445.000us         0.06%      10.425ms     521.250us      15.31 Mb     -40.00 Kb            20                    [[1, 256, 28, 28], [256], [256], [256], [256], [], [], [], []]            --  \n",
      "     aten::_batch_norm_impl_index         0.13%     950.000us         1.41%       9.950ms     497.515us     555.000us         0.08%       9.980ms     499.000us      15.35 Mb           0 b            20                    [[1, 256, 28, 28], [256], [256], [256], [256], [], [], [], []]            --  \n",
      "          aten::native_batch_norm         1.17%       8.240ms         1.27%       8.968ms     448.400us       7.778ms         1.10%       9.299ms     464.950us      15.35 Mb     -80.00 Kb            20                        [[1, 256, 28, 28], [256], [256], [256], [256], [], [], []]            --  \n",
      "                 aten::empty_like         0.07%     497.800us         0.08%     536.400us      26.820us     483.000us         0.07%     655.000us      32.750us      15.31 Mb           0 b            20                                            [[1, 256, 28, 28], [], [], [], [], []]            --  \n",
      "                 aten::leaky_relu         0.09%     644.500us         0.09%     644.500us      32.225us     781.000us         0.11%     781.000us      39.050us      15.31 Mb      15.31 Mb            20                                                            [[1, 256, 28, 28], []]            --  \n",
      "                     aten::conv2d         0.03%     188.300us         0.85%       5.977ms     597.670us     169.000us         0.02%       7.233ms     723.300us       3.83 Mb           0 b            10                          [[1, 256, 28, 28], [128, 256, 1, 1], [], [], [], [], []]       513.802  \n",
      "                aten::convolution         0.03%     212.800us         0.82%       5.788ms     578.840us     186.000us         0.03%       7.064ms     706.400us       3.83 Mb           0 b            10                  [[1, 256, 28, 28], [128, 256, 1, 1], [], [], [], [], [], [], []]            --  \n",
      "               aten::_convolution         0.04%     305.100us         0.79%       5.576ms     557.560us     285.000us         0.04%       6.878ms     687.800us       3.83 Mb           0 b            10  [[1, 256, 28, 28], [128, 256, 1, 1], [], [], [], [], [], [], [], [], [], [], []]            --  \n",
      "         aten::mkldnn_convolution         0.73%       5.188ms         0.75%       5.270ms     527.050us       6.415ms         0.91%       6.593ms     659.300us       3.83 Mb           0 b            10                          [[1, 256, 28, 28], [128, 256, 1, 1], [], [], [], [], []]            --  \n",
      "                aten::as_strided_         0.00%      24.100us         0.00%      24.100us       2.410us      39.000us         0.01%      39.000us       3.900us           0 b           0 b            10                                                    [[1, 128, 28, 28], [], [], []]            --  \n",
      "                    aten::resize_         0.00%       7.900us         0.00%       7.900us       0.790us      37.000us         0.01%      37.000us       3.700us           0 b           0 b            10                                                        [[1, 128, 28, 28], [], []]            --  \n",
      "                 aten::batch_norm         0.02%     168.900us         0.56%       3.932ms     393.230us     132.000us         0.02%       3.386ms     338.600us       3.83 Mb     -10.00 Kb            10                    [[1, 128, 28, 28], [128], [128], [128], [128], [], [], [], []]            --  \n",
      "     aten::_batch_norm_impl_index         0.05%     368.200us         0.53%       3.763ms     376.340us     136.000us         0.02%       3.254ms     325.400us       3.84 Mb           0 b            10                    [[1, 128, 28, 28], [128], [128], [128], [128], [], [], [], []]            --  \n",
      "          aten::native_batch_norm         0.41%       2.920ms         0.48%       3.382ms     338.190us       2.403ms         0.34%       3.082ms     308.200us       3.84 Mb     -20.00 Kb            10                        [[1, 128, 28, 28], [128], [128], [128], [128], [], [], []]            --  \n",
      "                 aten::empty_like         0.05%     368.700us         0.05%     384.200us      38.420us     212.000us         0.03%     289.000us      28.900us       3.83 Mb           0 b            10                                            [[1, 128, 28, 28], [], [], [], [], []]            --  \n",
      "                 aten::leaky_relu         0.02%     159.200us         0.02%     159.200us      15.920us     294.000us         0.04%     294.000us      29.400us       3.83 Mb       3.83 Mb            10                                                            [[1, 128, 28, 28], []]            --  \n",
      "                 aten::max_pool2d         0.04%     256.800us         0.74%       5.253ms     525.250us     159.000us         0.02%       7.267ms     726.700us       1.91 Mb      -3.83 Mb            10                                            [[1, 256, 28, 28], [], [], [], [], []]            --  \n",
      "    aten::max_pool2d_with_indices         0.71%       4.996ms         0.71%       4.996ms     499.570us       7.108ms         1.01%       7.108ms     710.800us       5.74 Mb       5.74 Mb            10                                            [[1, 256, 28, 28], [], [], [], [], []]            --  \n",
      "                     aten::conv2d         0.09%     668.200us        11.28%      79.701ms       2.657ms     445.000us         0.06%      80.908ms       2.697ms      11.48 Mb           0 b            30                          [[1, 256, 14, 14], [512, 256, 3, 3], [], [], [], [], []]     13872.660  \n",
      "                aten::convolution         0.09%     635.700us        11.18%      79.032ms       2.634ms     433.000us         0.06%      80.463ms       2.682ms      11.48 Mb           0 b            30                  [[1, 256, 14, 14], [512, 256, 3, 3], [], [], [], [], [], [], []]            --  \n",
      "               aten::_convolution         0.12%     871.900us        11.09%      78.397ms       2.613ms     631.000us         0.09%      80.030ms       2.668ms      11.48 Mb           0 b            30  [[1, 256, 14, 14], [512, 256, 3, 3], [], [], [], [], [], [], [], [], [], [], []]            --  \n",
      "         aten::mkldnn_convolution        10.92%      77.176ms        10.97%      77.525ms       2.584ms      78.907ms        11.17%      79.399ms       2.647ms      11.48 Mb           0 b            30                          [[1, 256, 14, 14], [512, 256, 3, 3], [], [], [], [], []]            --  \n",
      "                aten::as_strided_         0.02%     110.000us         0.02%     110.000us       3.667us     123.000us         0.02%     123.000us       4.100us           0 b           0 b            30                                                    [[1, 512, 14, 14], [], [], []]            --  \n",
      "                    aten::resize_         0.01%      40.600us         0.01%      40.600us       1.353us     109.000us         0.02%     109.000us       3.633us           0 b           0 b            30                                                        [[1, 512, 14, 14], [], []]            --  \n",
      "                 aten::batch_norm         0.11%     794.000us         1.92%      13.599ms     453.300us     838.000us         0.12%      14.398ms     479.933us      11.48 Mb    -120.00 Kb            30                    [[1, 512, 14, 14], [512], [512], [512], [512], [], [], [], []]            --  \n",
      "     aten::_batch_norm_impl_index         0.24%       1.701ms         1.81%      12.805ms     426.833us       1.205ms         0.17%      13.560ms     452.000us      11.60 Mb           0 b            30                    [[1, 512, 14, 14], [512], [512], [512], [512], [], [], [], []]            --  \n",
      "          aten::native_batch_norm         1.39%       9.846ms         1.56%      11.049ms     368.287us       8.775ms         1.24%      12.089ms     402.967us      11.60 Mb    -240.00 Kb            30                        [[1, 512, 14, 14], [512], [512], [512], [512], [], [], []]            --  \n",
      "                 aten::empty_like         0.11%     763.300us         0.12%     825.200us      27.507us     809.000us         0.11%       1.064ms      35.467us      11.48 Mb           0 b            30                                            [[1, 512, 14, 14], [], [], [], [], []]            --  \n",
      "                 aten::leaky_relu         0.10%     671.700us         0.10%     671.700us      22.390us     888.000us         0.13%     888.000us      29.600us      11.48 Mb      11.48 Mb            30                                                            [[1, 512, 14, 14], []]            --  \n",
      "                     aten::conv2d         0.07%     481.600us         1.90%      13.446ms     672.310us     402.000us         0.06%      15.041ms     752.050us       3.83 Mb           0 b            20                          [[1, 512, 14, 14], [256, 512, 1, 1], [], [], [], [], []]      1027.604  \n",
      "                aten::convolution         0.07%     469.700us         1.83%      12.965ms     648.230us     417.000us         0.06%      14.639ms     731.950us       3.83 Mb           0 b            20                  [[1, 512, 14, 14], [256, 512, 1, 1], [], [], [], [], [], [], []]            --  \n",
      "               aten::_convolution         0.09%     615.800us         1.77%      12.495ms     624.745us     545.000us         0.08%      14.222ms     711.100us       3.83 Mb           0 b            20  [[1, 512, 14, 14], [256, 512, 1, 1], [], [], [], [], [], [], [], [], [], [], []]            --  \n",
      "         aten::mkldnn_convolution         1.66%      11.719ms         1.68%      11.879ms     593.955us      13.291ms         1.88%      13.677ms     683.850us       3.83 Mb           0 b            20                          [[1, 512, 14, 14], [256, 512, 1, 1], [], [], [], [], []]            --  \n",
      "                aten::as_strided_         0.01%      47.200us         0.01%      47.200us       2.360us      79.000us         0.01%      79.000us       3.950us           0 b           0 b            20                                                    [[1, 256, 14, 14], [], [], []]            --  \n",
      "                    aten::resize_         0.00%      16.600us         0.00%      16.600us       0.830us      73.000us         0.01%      73.000us       3.650us           0 b           0 b            20                                                        [[1, 256, 14, 14], [], []]            --  \n",
      "                 aten::batch_norm         0.05%     347.800us         0.95%       6.688ms     334.415us     312.000us         0.04%       6.405ms     320.250us       3.83 Mb     -40.00 Kb            20                    [[1, 256, 14, 14], [256], [256], [256], [256], [], [], [], []]            --  \n",
      "     aten::_batch_norm_impl_index         0.12%     828.500us         0.90%       6.341ms     317.025us     321.000us         0.05%       6.093ms     304.650us       3.87 Mb           0 b            20                    [[1, 256, 14, 14], [256], [256], [256], [256], [], [], [], []]            --  \n",
      "          aten::native_batch_norm         0.65%       4.627ms         0.78%       5.485ms     274.260us       3.374ms         0.48%       5.702ms     285.100us       3.87 Mb     -80.00 Kb            20                        [[1, 256, 14, 14], [256], [256], [256], [256], [], [], []]            --  \n",
      "                 aten::empty_like         0.09%     633.300us         0.09%     666.100us      33.305us       1.143ms         0.16%       1.302ms      65.100us       3.83 Mb           0 b            20                                            [[1, 256, 14, 14], [], [], [], [], []]            --  \n",
      "                 aten::leaky_relu         0.04%     300.800us         0.04%     300.800us      15.040us     494.000us         0.07%     494.000us      24.700us       3.83 Mb       3.83 Mb            20                                                            [[1, 256, 14, 14], []]            --  \n",
      "                 aten::max_pool2d         0.04%     296.700us         0.44%       3.093ms     309.300us     174.000us         0.02%       4.302ms     430.200us     980.00 Kb      -1.91 Mb            10                                            [[1, 512, 14, 14], [], [], [], [], []]            --  \n",
      "    aten::max_pool2d_with_indices         0.40%       2.796ms         0.40%       2.796ms     279.630us       4.128ms         0.58%       4.128ms     412.800us       2.87 Mb       2.87 Mb            10                                            [[1, 512, 14, 14], [], [], [], [], []]            --  \n",
      "                     aten::conv2d         0.10%     675.300us        21.96%     155.179ms       5.173ms     526.000us         0.07%     156.890ms       5.230ms       5.74 Mb           0 b            30                           [[1, 512, 7, 7], [1024, 512, 3, 3], [], [], [], [], []]     13872.660  \n",
      "                aten::convolution         0.10%     681.900us        21.86%     154.503ms       5.150ms     577.000us         0.08%     156.364ms       5.212ms       5.74 Mb           0 b            30                   [[1, 512, 7, 7], [1024, 512, 3, 3], [], [], [], [], [], [], []]            --  \n",
      "               aten::_convolution         0.14%     954.700us        21.76%     153.822ms       5.127ms     750.000us         0.11%     155.787ms       5.193ms       5.74 Mb           0 b            30   [[1, 512, 7, 7], [1024, 512, 3, 3], [], [], [], [], [], [], [], [], [], [], []]            --  \n",
      "         aten::mkldnn_convolution        21.57%     152.453ms        21.63%     152.867ms       5.096ms     154.322ms        21.84%     155.037ms       5.168ms       5.74 Mb           0 b            30                           [[1, 512, 7, 7], [1024, 512, 3, 3], [], [], [], [], []]            --  \n",
      "                aten::as_strided_         0.02%     145.700us         0.02%     145.700us       4.857us     199.000us         0.03%     199.000us       6.633us           0 b           0 b            30                                                     [[1, 1024, 7, 7], [], [], []]            --  \n",
      "                    aten::resize_         0.01%      42.800us         0.01%      42.800us       1.427us     139.000us         0.02%     139.000us       4.633us           0 b           0 b            30                                                         [[1, 1024, 7, 7], [], []]            --  \n",
      "                 aten::batch_norm         0.10%     721.100us         1.66%      11.709ms     390.303us     621.000us         0.09%      11.531ms     384.367us       5.74 Mb    -240.00 Kb            30                 [[1, 1024, 7, 7], [1024], [1024], [1024], [1024], [], [], [], []]            --  \n",
      "     aten::_batch_norm_impl_index         0.22%       1.567ms         1.55%      10.988ms     366.267us       1.024ms         0.14%      10.910ms     363.667us       5.98 Mb           0 b            30                 [[1, 1024, 7, 7], [1024], [1024], [1024], [1024], [], [], [], []]            --  \n",
      "          aten::native_batch_norm         1.18%       8.314ms         1.33%       9.372ms     312.390us       7.424ms         1.05%       9.638ms     321.267us       5.98 Mb    -480.00 Kb            30                     [[1, 1024, 7, 7], [1024], [1024], [1024], [1024], [], [], []]            --  \n",
      "                 aten::empty_like         0.10%     704.600us         0.11%     765.500us      25.517us     603.000us         0.09%     872.000us      29.067us       5.74 Mb           0 b            30                                             [[1, 1024, 7, 7], [], [], [], [], []]            --  \n",
      "                 aten::leaky_relu         0.09%     621.100us         0.09%     621.100us      20.703us     868.000us         0.12%     868.000us      28.933us       5.74 Mb       5.74 Mb            30                                                             [[1, 1024, 7, 7], []]            --  \n",
      "                     aten::conv2d         0.06%     403.700us         2.30%      16.227ms     811.345us     356.000us         0.05%      18.452ms     922.600us       1.91 Mb           0 b            20                          [[1, 1024, 7, 7], [512, 1024, 1, 1], [], [], [], [], []]      1027.604  \n",
      "                aten::convolution         0.06%     426.400us         2.24%      15.823ms     791.160us     351.000us         0.05%      18.096ms     904.800us       1.91 Mb           0 b            20                  [[1, 1024, 7, 7], [512, 1024, 1, 1], [], [], [], [], [], [], []]            --  \n",
      "               aten::_convolution         0.08%     570.600us         2.18%      15.397ms     769.840us     520.000us         0.07%      17.745ms     887.250us       1.91 Mb           0 b            20  [[1, 1024, 7, 7], [512, 1024, 1, 1], [], [], [], [], [], [], [], [], [], [], []]            --  \n",
      "         aten::mkldnn_convolution         2.07%      14.642ms         2.10%      14.826ms     741.310us      16.872ms         2.39%      17.225ms     861.250us       1.91 Mb           0 b            20                          [[1, 1024, 7, 7], [512, 1024, 1, 1], [], [], [], [], []]            --  \n",
      "                aten::as_strided_         0.01%      61.400us         0.01%      61.400us       3.070us      81.000us         0.01%      81.000us       4.050us           0 b           0 b            20                                                      [[1, 512, 7, 7], [], [], []]            --  \n",
      "                    aten::resize_         0.00%      19.300us         0.00%      19.300us       0.965us      77.000us         0.01%      77.000us       3.850us           0 b           0 b            20                                                          [[1, 512, 7, 7], [], []]            --  \n",
      "                 aten::batch_norm         0.05%     349.000us         0.88%       6.233ms     311.650us     271.000us         0.04%       5.402ms     270.100us       1.91 Mb     -80.00 Kb            20                      [[1, 512, 7, 7], [512], [512], [512], [512], [], [], [], []]            --  \n",
      "     aten::_batch_norm_impl_index         0.14%     994.500us         0.83%       5.884ms     294.200us     407.000us         0.06%       5.131ms     256.550us       1.99 Mb           0 b            20                      [[1, 512, 7, 7], [512], [512], [512], [512], [], [], [], []]            --  \n",
      "          aten::native_batch_norm         0.61%       4.334ms         0.69%       4.862ms     243.095us       3.443ms         0.49%       4.640ms     232.000us       1.99 Mb    -160.00 Kb            20                          [[1, 512, 7, 7], [512], [512], [512], [512], [], [], []]            --  \n",
      "                 aten::empty_like         0.05%     333.800us         0.05%     367.200us      18.360us     216.000us         0.03%     315.000us      15.750us       1.91 Mb           0 b            20                                              [[1, 512, 7, 7], [], [], [], [], []]            --  \n",
      "                 aten::leaky_relu         0.03%     242.300us         0.03%     242.300us      12.115us     416.000us         0.06%     416.000us      20.800us       1.91 Mb       1.91 Mb            20                                                              [[1, 512, 7, 7], []]            --  \n",
      "                       ClassifyV2         0.35%       2.476ms         3.03%      21.405ms       2.140ms       2.005ms         0.28%      21.501ms       2.150ms      39.06 Kb           0 b            10                                                                                []            --  \n",
      "                     aten::conv2d         0.03%     217.500us         1.94%      13.721ms       1.372ms     187.000us         0.03%      14.850ms       1.485ms       1.87 Mb           0 b            10                         [[1, 1024, 7, 7], [1000, 1024, 1, 1], [], [], [], [], []]      1003.520  \n",
      "                aten::convolution         0.03%     215.700us         1.91%      13.504ms       1.350ms     178.000us         0.03%      14.663ms       1.466ms       1.87 Mb           0 b            10                 [[1, 1024, 7, 7], [1000, 1024, 1, 1], [], [], [], [], [], [], []]            --  \n",
      "               aten::_convolution         0.04%     302.100us         1.88%      13.288ms       1.329ms     267.000us         0.04%      14.485ms       1.448ms       1.87 Mb           0 b            10  [[1, 1024, 7, 7], [1000, 1024, 1, 1], [], [], [], [], [], [], [], [], [], [], []            --  \n",
      "         aten::mkldnn_convolution         1.82%      12.885ms         1.84%      12.986ms       1.299ms      14.043ms         1.99%      14.218ms       1.422ms       1.87 Mb           0 b            10                         [[1, 1024, 7, 7], [1000, 1024, 1, 1], [], [], [], [], []]            --  \n",
      "                aten::as_strided_         0.00%      33.300us         0.00%      33.300us       3.330us      40.000us         0.01%      40.000us       4.000us           0 b           0 b            10                                                     [[1, 1000, 7, 7], [], [], []]            --  \n",
      "                    aten::resize_         0.00%      11.000us         0.00%      11.000us       1.100us      39.000us         0.01%      39.000us       3.900us           0 b           0 b            10                                                         [[1, 1000, 7, 7], [], []]            --  \n",
      "         Adaptive Average Pooling         0.13%     947.500us         0.49%       3.482ms     348.190us     650.000us         0.09%       2.841ms     284.100us      -1.83 Mb      -1.87 Mb            10                                                                                []            --  \n",
      "        aten::adaptive_avg_pool2d         0.03%     209.800us         0.36%       2.534ms     253.440us     107.000us         0.02%       2.191ms     219.100us      39.06 Kb           0 b            10                                                             [[1, 1000, 7, 7], []]            --  \n",
      "                       aten::mean         0.08%     580.700us         0.33%       2.325ms     232.460us     553.000us         0.08%       2.084ms     208.400us      39.06 Kb      39.05 Kb            10                                                     [[1, 1000, 7, 7], [], [], []]            --  \n",
      "                        aten::sum         0.07%     500.500us         0.08%     544.200us      54.420us     423.000us         0.06%     541.000us      54.100us           0 b           0 b            10                                    [[1, 1000, 7, 7], [], [], [], [1, 1000, 1, 1]]            --  \n",
      "                      aten::fill_         0.01%      43.700us         0.01%      43.700us       4.370us     118.000us         0.02%     118.000us      11.800us           0 b           0 b            10                                                             [[1, 1000, 1, 1], []]            --  \n",
      "                       aten::div_         0.07%     512.100us         0.17%       1.200ms     119.970us     302.000us         0.04%     990.000us      99.000us           8 b         -32 b            10                                                             [[1, 1000, 1, 1], []]            --  \n",
      "                         aten::to         0.03%     183.300us         0.10%     687.600us      68.760us     173.000us         0.02%     688.000us      68.800us          40 b           0 b            10                                                              [[], [], [], [], []]            --  \n",
      "                   aten::_to_copy         0.06%     409.700us         0.07%     504.300us      50.430us     322.000us         0.05%     515.000us      51.500us          40 b           0 b            10                                                      [[], [], [], [], [], [], []]            --  \n",
      "              aten::empty_strided         0.01%      36.000us         0.01%      36.000us       3.600us      74.000us         0.01%      74.000us       7.400us          40 b          40 b            10                                                          [[], [], [], [], [], []]            --  \n",
      "                      aten::copy_         0.01%      58.600us         0.01%      58.600us       5.860us     119.000us         0.02%     119.000us      11.900us           0 b           0 b            10                                                                      [[], [], []]            --  \n",
      "                          Flatten         0.06%     444.800us         0.11%     812.600us      81.260us     504.000us         0.07%     828.000us      82.800us           0 b           0 b            10                                                                                []            --  \n",
      "                    aten::flatten         0.03%     244.700us         0.05%     367.800us      36.780us     154.000us         0.02%     324.000us      32.400us           0 b           0 b            10                                                         [[1, 1000, 1, 1], [], []]            --  \n",
      "                       aten::view         0.02%     123.100us         0.02%     123.100us      12.310us     170.000us         0.02%     170.000us      17.000us           0 b           0 b            10                                                             [[1, 1000, 1, 1], []]            --  \n",
      "                      Log Softmax         0.08%     592.900us         0.13%     912.300us      91.230us     622.000us         0.09%     977.000us      97.700us           0 b     -39.06 Kb            10                                                                                []            --  \n",
      "                aten::log_softmax         0.03%     211.700us         0.05%     319.400us      31.940us     175.000us         0.02%     355.000us      35.500us      39.06 Kb           0 b            10                                                               [[1, 1000], [], []]            --  \n",
      "               aten::_log_softmax         0.02%     107.700us         0.02%     107.700us      10.770us     180.000us         0.03%     180.000us      18.000us      39.06 Kb      39.06 Kb            10                                                               [[1, 1000], [], []]            --  \n",
      "---------------------------------  ------------  ------------  ------------  ------------  ------------  ------------  ------------  ------------  ------------  ------------  ------------  ------------  --------------------------------------------------------------------------------  ------------  \n",
      "Self CPU time total: 706.746ms\n",
      "Self CUDA time total: 706.587ms\n",
      "\n"
     ]
    }
   ],
   "source": [
    "with profile(activities=[ProfilerActivity.CPU, ProfilerActivity.CUDA],\n",
    "                                    schedule=torch.profiler.schedule(wait=1, warmup=1, active=10, repeat=1),\n",
    "                                    on_trace_ready=torch.profiler.tensorboard_trace_handler('../log/darknet19/inference_at_224'),\n",
    "                                    record_shapes=True,\n",
    "                                    profile_memory=True,\n",
    "                                    with_flops=True,\n",
    "                                    with_modules=True,\n",
    "                                    with_stack=False) as prof:\n",
    "    for i in range(12):\n",
    "        # torch.cuda.synchronize(device=device)\n",
    "        with record_function('inference'):\n",
    "            with torch.no_grad():\n",
    "                model(img)\n",
    "        # torch.cuda.synchronize(device=device)\n",
    "        prof.step()\n",
    "print(prof.key_averages(group_by_input_shape=True).table(row_limit=-1))"
   ]
  },
  {
   "cell_type": "code",
   "execution_count": 114,
   "id": "01d2449a-a22b-4aa5-9787-efbaaa6a6f3a",
   "metadata": {},
   "outputs": [
    {
     "data": {
      "text/plain": [
       "torch.Size([1, 3, 224, 224])"
      ]
     },
     "execution_count": 114,
     "metadata": {},
     "output_type": "execute_result"
    }
   ],
   "source": [
    "img.shape"
   ]
  },
  {
   "cell_type": "code",
   "execution_count": 125,
   "id": "006dd32e-21a9-4c8a-b802-d1e57e9504eb",
   "metadata": {
    "scrolled": true
   },
   "outputs": [
    {
     "name": "stdout",
     "output_type": "stream",
     "text": [
      "---------------------------------  ------------  ------------  ------------  ------------  ------------  ------------  ------------  ------------  --------------------------------------------------------------------------------  ------------  \n",
      "                             Name    Self CPU %      Self CPU   CPU total %     CPU total  CPU time avg       CPU Mem  Self CPU Mem    # of Calls                                                                      Input Shapes  Total MFLOPs  \n",
      "---------------------------------  ------------  ------------  ------------  ------------  ------------  ------------  ------------  ------------  --------------------------------------------------------------------------------  ------------  \n",
      "                    ProfilerStep*         0.05%      33.100us       100.00%      60.608ms      60.608ms           0 b           0 b             1                                                                                []            --  \n",
      "                        inference         1.06%     645.100us        99.95%      60.575ms      60.575ms           0 b      -8.33 Mb             1                                                                                []            --  \n",
      "                       Conv block         4.42%       2.677ms        82.66%      50.097ms       2.783ms      17.23 Mb     -34.45 Mb            18                                                                                []            --  \n",
      "                     aten::conv2d         0.01%       5.800us         2.48%       1.503ms       1.503ms       6.12 Mb           0 b             1                             [[1, 3, 224, 224], [32, 3, 3, 3], [], [], [], [], []]        86.704  \n",
      "                aten::convolution         0.02%      15.100us         2.47%       1.497ms       1.497ms       6.12 Mb           0 b             1                     [[1, 3, 224, 224], [32, 3, 3, 3], [], [], [], [], [], [], []]            --  \n",
      "               aten::_convolution         0.01%       8.900us         2.44%       1.482ms       1.482ms       6.12 Mb           0 b             1     [[1, 3, 224, 224], [32, 3, 3, 3], [], [], [], [], [], [], [], [], [], [], []]            --  \n",
      "         aten::mkldnn_convolution         2.41%       1.462ms         2.43%       1.473ms       1.473ms       6.12 Mb           0 b             1                             [[1, 3, 224, 224], [32, 3, 3, 3], [], [], [], [], []]            --  \n",
      "                      aten::empty         0.43%     261.400us         0.43%     261.400us       1.436us      34.80 Mb      34.80 Mb           182                                                          [[], [], [], [], [], []]            --  \n",
      "                aten::as_strided_         0.01%       4.600us         0.01%       4.600us       4.600us           0 b           0 b             1                                                   [[1, 32, 224, 224], [], [], []]            --  \n",
      "                    aten::resize_         0.00%       1.200us         0.00%       1.200us       1.200us           0 b           0 b             1                                                       [[1, 32, 224, 224], [], []]            --  \n",
      "                       aten::add_         0.30%     180.500us         0.30%     180.500us      10.028us           0 b           0 b            18                                                                      [[], [], []]            --  \n",
      "                 aten::batch_norm         0.01%       6.200us         3.42%       2.072ms       2.072ms       6.12 Mb        -256 b             1                       [[1, 32, 224, 224], [32], [32], [32], [32], [], [], [], []]            --  \n",
      "     aten::_batch_norm_impl_index         0.02%      12.700us         3.41%       2.065ms       2.065ms       6.13 Mb           0 b             1                       [[1, 32, 224, 224], [32], [32], [32], [32], [], [], [], []]            --  \n",
      "          aten::native_batch_norm         3.36%       2.038ms         3.39%       2.052ms       2.052ms       6.13 Mb        -512 b             1                           [[1, 32, 224, 224], [32], [32], [32], [32], [], [], []]            --  \n",
      "                 aten::empty_like         0.01%       4.100us         0.01%       5.600us       5.600us       6.12 Mb           0 b             1                                           [[1, 32, 224, 224], [], [], [], [], []]            --  \n",
      "                 aten::leaky_relu         0.63%     380.900us         0.63%     380.900us     380.900us       6.12 Mb       6.12 Mb             1                                                           [[1, 32, 224, 224], []]            --  \n",
      "                      Max pooling         0.59%     354.700us        13.50%       8.184ms       1.637ms      -8.90 Mb     -11.87 Mb             5                                                                                []            --  \n",
      "                 aten::max_pool2d         0.01%       8.900us         6.18%       3.746ms       3.746ms       1.53 Mb      -3.06 Mb             1                                           [[1, 32, 224, 224], [], [], [], [], []]            --  \n",
      "    aten::max_pool2d_with_indices         6.17%       3.737ms         6.17%       3.737ms       3.737ms       4.59 Mb       4.59 Mb             1                                           [[1, 32, 224, 224], [], [], [], [], []]            --  \n",
      "                     aten::conv2d         0.02%       9.200us         5.00%       3.031ms       3.031ms       3.06 Mb           0 b             1                           [[1, 32, 112, 112], [64, 32, 3, 3], [], [], [], [], []]       462.422  \n",
      "                aten::convolution         0.02%      12.900us         4.99%       3.022ms       3.022ms       3.06 Mb           0 b             1                   [[1, 32, 112, 112], [64, 32, 3, 3], [], [], [], [], [], [], []]            --  \n",
      "               aten::_convolution         0.03%      16.000us         4.96%       3.009ms       3.009ms       3.06 Mb           0 b             1   [[1, 32, 112, 112], [64, 32, 3, 3], [], [], [], [], [], [], [], [], [], [], []]            --  \n",
      "         aten::mkldnn_convolution         4.88%       2.955ms         4.94%       2.993ms       2.993ms       3.06 Mb           0 b             1                           [[1, 32, 112, 112], [64, 32, 3, 3], [], [], [], [], []]            --  \n",
      "                aten::as_strided_         0.01%       6.700us         0.01%       6.700us       6.700us           0 b           0 b             1                                                   [[1, 64, 112, 112], [], [], []]            --  \n",
      "                    aten::resize_         0.00%       2.800us         0.00%       2.800us       2.800us           0 b           0 b             1                                                       [[1, 64, 112, 112], [], []]            --  \n",
      "                 aten::batch_norm         0.01%       6.700us         1.78%       1.080ms       1.080ms       3.06 Mb        -512 b             1                       [[1, 64, 112, 112], [64], [64], [64], [64], [], [], [], []]            --  \n",
      "     aten::_batch_norm_impl_index         0.02%      13.600us         1.77%       1.073ms       1.073ms       3.06 Mb           0 b             1                       [[1, 64, 112, 112], [64], [64], [64], [64], [], [], [], []]            --  \n",
      "          aten::native_batch_norm         1.72%       1.044ms         1.75%       1.059ms       1.059ms       3.06 Mb      -1.00 Kb             1                           [[1, 64, 112, 112], [64], [64], [64], [64], [], [], []]            --  \n",
      "                 aten::empty_like         0.01%       3.600us         0.01%       5.400us       5.400us       3.06 Mb           0 b             1                                           [[1, 64, 112, 112], [], [], [], [], []]            --  \n",
      "                 aten::leaky_relu         0.18%     108.100us         0.18%     108.100us     108.100us       3.06 Mb       3.06 Mb             1                                                           [[1, 64, 112, 112], []]            --  \n",
      "                 aten::max_pool2d         0.02%      11.000us         3.71%       2.247ms       2.247ms     784.00 Kb      -1.53 Mb             1                                           [[1, 64, 112, 112], [], [], [], [], []]            --  \n",
      "    aten::max_pool2d_with_indices         3.69%       2.236ms         3.69%       2.236ms       2.236ms       2.30 Mb       2.30 Mb             1                                           [[1, 64, 112, 112], [], [], [], [], []]            --  \n",
      "                     aten::conv2d         0.02%      12.000us         7.47%       4.527ms       2.263ms       3.06 Mb           0 b             2                            [[1, 64, 56, 56], [128, 64, 3, 3], [], [], [], [], []]       924.844  \n",
      "                aten::convolution         0.03%      16.100us         7.45%       4.515ms       2.257ms       3.06 Mb           0 b             2                    [[1, 64, 56, 56], [128, 64, 3, 3], [], [], [], [], [], [], []]            --  \n",
      "               aten::_convolution         0.03%      21.000us         7.42%       4.499ms       2.249ms       3.06 Mb           0 b             2    [[1, 64, 56, 56], [128, 64, 3, 3], [], [], [], [], [], [], [], [], [], [], []]            --  \n",
      "         aten::mkldnn_convolution         7.35%       4.458ms         7.39%       4.478ms       2.239ms       3.06 Mb           0 b             2                            [[1, 64, 56, 56], [128, 64, 3, 3], [], [], [], [], []]            --  \n",
      "                aten::as_strided_         0.01%       8.500us         0.01%       8.500us       4.250us           0 b           0 b             2                                                    [[1, 128, 56, 56], [], [], []]            --  \n",
      "                    aten::resize_         0.00%       3.000us         0.00%       3.000us       1.500us           0 b           0 b             2                                                        [[1, 128, 56, 56], [], []]            --  \n",
      "                 aten::batch_norm         0.03%      16.300us         2.34%       1.421ms     710.300us       3.06 Mb      -2.00 Kb             2                    [[1, 128, 56, 56], [128], [128], [128], [128], [], [], [], []]            --  \n",
      "     aten::_batch_norm_impl_index         0.04%      21.300us         2.32%       1.404ms     702.150us       3.06 Mb           0 b             2                    [[1, 128, 56, 56], [128], [128], [128], [128], [], [], [], []]            --  \n",
      "          aten::native_batch_norm         2.24%       1.357ms         2.28%       1.380ms     690.150us       3.06 Mb      -4.00 Kb             2                        [[1, 128, 56, 56], [128], [128], [128], [128], [], [], []]            --  \n",
      "                 aten::empty_like         0.01%       8.700us         0.02%      11.500us       5.750us       3.06 Mb           0 b             2                                            [[1, 128, 56, 56], [], [], [], [], []]            --  \n",
      "                 aten::leaky_relu         0.10%      62.800us         0.10%      62.800us      31.400us       3.06 Mb       3.06 Mb             2                                                            [[1, 128, 56, 56], []]            --  \n",
      "                     aten::conv2d         0.01%       4.600us         0.74%     445.700us     445.700us     784.00 Kb           0 b             1                           [[1, 128, 56, 56], [64, 128, 1, 1], [], [], [], [], []]        51.380  \n",
      "                aten::convolution         0.01%       5.900us         0.73%     441.100us     441.100us     784.00 Kb           0 b             1                   [[1, 128, 56, 56], [64, 128, 1, 1], [], [], [], [], [], [], []]            --  \n",
      "               aten::_convolution         0.01%       8.900us         0.72%     435.200us     435.200us     784.00 Kb           0 b             1   [[1, 128, 56, 56], [64, 128, 1, 1], [], [], [], [], [], [], [], [], [], [], []]            --  \n",
      "         aten::mkldnn_convolution         0.69%     420.700us         0.70%     426.300us     426.300us     784.00 Kb           0 b             1                           [[1, 128, 56, 56], [64, 128, 1, 1], [], [], [], [], []]            --  \n",
      "                aten::as_strided_         0.00%       2.300us         0.00%       2.300us       2.300us           0 b           0 b             1                                                     [[1, 64, 56, 56], [], [], []]            --  \n",
      "                    aten::resize_         0.00%       0.600us         0.00%       0.600us       0.600us           0 b           0 b             1                                                         [[1, 64, 56, 56], [], []]            --  \n",
      "                 aten::batch_norm         0.01%       3.700us         0.42%     254.500us     254.500us     784.00 Kb        -512 b             1                         [[1, 64, 56, 56], [64], [64], [64], [64], [], [], [], []]            --  \n",
      "     aten::_batch_norm_impl_index         0.01%       6.300us         0.41%     250.800us     250.800us     784.50 Kb           0 b             1                         [[1, 64, 56, 56], [64], [64], [64], [64], [], [], [], []]            --  \n",
      "          aten::native_batch_norm         0.39%     234.600us         0.40%     243.700us     243.700us     784.50 Kb      -1.00 Kb             1                             [[1, 64, 56, 56], [64], [64], [64], [64], [], [], []]            --  \n",
      "                 aten::empty_like         0.01%       3.100us         0.01%       3.900us       3.900us     784.00 Kb           0 b             1                                             [[1, 64, 56, 56], [], [], [], [], []]            --  \n",
      "                 aten::leaky_relu         0.03%      15.200us         0.03%      15.200us      15.200us     784.00 Kb     784.00 Kb             1                                                             [[1, 64, 56, 56], []]            --  \n",
      "                 aten::max_pool2d         0.01%       4.500us         1.50%     910.900us     910.900us     392.00 Kb    -784.00 Kb             1                                            [[1, 128, 56, 56], [], [], [], [], []]            --  \n",
      "    aten::max_pool2d_with_indices         1.50%     906.400us         1.50%     906.400us     906.400us       1.15 Mb       1.15 Mb             1                                            [[1, 128, 56, 56], [], [], [], [], []]            --  \n",
      "                     aten::conv2d         0.01%       8.800us         7.11%       4.308ms       2.154ms       1.53 Mb           0 b             2                          [[1, 128, 28, 28], [256, 128, 3, 3], [], [], [], [], []]       924.844  \n",
      "                aten::convolution         0.02%      10.200us         7.09%       4.299ms       2.149ms       1.53 Mb           0 b             2                  [[1, 128, 28, 28], [256, 128, 3, 3], [], [], [], [], [], [], []]            --  \n",
      "               aten::_convolution         0.02%      14.300us         7.08%       4.288ms       2.144ms       1.53 Mb           0 b             2  [[1, 128, 28, 28], [256, 128, 3, 3], [], [], [], [], [], [], [], [], [], [], []]            --  \n",
      "         aten::mkldnn_convolution         7.03%       4.260ms         7.05%       4.274ms       2.137ms       1.53 Mb           0 b             2                          [[1, 128, 28, 28], [256, 128, 3, 3], [], [], [], [], []]            --  \n",
      "                aten::as_strided_         0.01%       5.500us         0.01%       5.500us       2.750us           0 b           0 b             2                                                    [[1, 256, 28, 28], [], [], []]            --  \n",
      "                    aten::resize_         0.00%       1.300us         0.00%       1.300us       0.650us           0 b           0 b             2                                                        [[1, 256, 28, 28], [], []]            --  \n",
      "                 aten::batch_norm         0.02%      10.400us         1.42%     859.400us     429.700us       1.53 Mb      -4.00 Kb             2                    [[1, 256, 28, 28], [256], [256], [256], [256], [], [], [], []]            --  \n",
      "     aten::_batch_norm_impl_index         0.03%      19.100us         1.40%     849.000us     424.500us       1.54 Mb           0 b             2                    [[1, 256, 28, 28], [256], [256], [256], [256], [], [], [], []]            --  \n",
      "          aten::native_batch_norm         1.32%     801.300us         1.37%     827.800us     413.900us       1.54 Mb      -8.00 Kb             2                        [[1, 256, 28, 28], [256], [256], [256], [256], [], [], []]            --  \n",
      "                 aten::empty_like         0.01%       6.500us         0.01%       8.800us       4.400us       1.53 Mb           0 b             2                                            [[1, 256, 28, 28], [], [], [], [], []]            --  \n",
      "                 aten::leaky_relu         0.14%      83.400us         0.14%      83.400us      41.700us       1.53 Mb       1.53 Mb             2                                                            [[1, 256, 28, 28], []]            --  \n",
      "                     aten::conv2d         0.01%       5.900us         0.81%     490.800us     490.800us     392.00 Kb           0 b             1                          [[1, 256, 28, 28], [128, 256, 1, 1], [], [], [], [], []]        51.380  \n",
      "                aten::convolution         0.01%       6.300us         0.80%     484.900us     484.900us     392.00 Kb           0 b             1                  [[1, 256, 28, 28], [128, 256, 1, 1], [], [], [], [], [], [], []]            --  \n",
      "               aten::_convolution         0.01%       8.400us         0.79%     478.600us     478.600us     392.00 Kb           0 b             1  [[1, 256, 28, 28], [128, 256, 1, 1], [], [], [], [], [], [], [], [], [], [], []]            --  \n",
      "         aten::mkldnn_convolution         0.76%     462.300us         0.78%     470.200us     470.200us     392.00 Kb           0 b             1                          [[1, 256, 28, 28], [128, 256, 1, 1], [], [], [], [], []]            --  \n",
      "                aten::as_strided_         0.00%       2.900us         0.00%       2.900us       2.900us           0 b           0 b             1                                                    [[1, 128, 28, 28], [], [], []]            --  \n",
      "                    aten::resize_         0.00%       0.600us         0.00%       0.600us       0.600us           0 b           0 b             1                                                        [[1, 128, 28, 28], [], []]            --  \n",
      "                 aten::batch_norm         0.01%       4.300us         0.27%     164.500us     164.500us     392.00 Kb      -1.00 Kb             1                    [[1, 128, 28, 28], [128], [128], [128], [128], [], [], [], []]            --  \n",
      "     aten::_batch_norm_impl_index         0.02%       9.200us         0.26%     160.200us     160.200us     393.00 Kb           0 b             1                    [[1, 128, 28, 28], [128], [128], [128], [128], [], [], [], []]            --  \n",
      "          aten::native_batch_norm         0.23%     141.300us         0.25%     150.100us     150.100us     393.00 Kb      -2.00 Kb             1                        [[1, 128, 28, 28], [128], [128], [128], [128], [], [], []]            --  \n",
      "                 aten::empty_like         0.01%       3.600us         0.01%       4.500us       4.500us     392.00 Kb           0 b             1                                            [[1, 128, 28, 28], [], [], [], [], []]            --  \n",
      "                 aten::leaky_relu         0.02%       9.700us         0.02%       9.700us       9.700us     392.00 Kb     392.00 Kb             1                                                            [[1, 128, 28, 28], []]            --  \n",
      "                 aten::max_pool2d         0.01%       5.600us         1.04%     629.500us     629.500us     196.00 Kb    -392.00 Kb             1                                            [[1, 256, 28, 28], [], [], [], [], []]            --  \n",
      "    aten::max_pool2d_with_indices         1.03%     623.900us         1.03%     623.900us     623.900us     588.00 Kb     588.00 Kb             1                                            [[1, 256, 28, 28], [], [], [], [], []]            --  \n",
      "                     aten::conv2d         0.02%      14.700us        12.08%       7.322ms       2.441ms       1.15 Mb           0 b             3                          [[1, 256, 14, 14], [512, 256, 3, 3], [], [], [], [], []]      1387.266  \n",
      "                aten::convolution         0.03%      17.000us        12.06%       7.307ms       2.436ms       1.15 Mb           0 b             3                  [[1, 256, 14, 14], [512, 256, 3, 3], [], [], [], [], [], [], []]            --  \n",
      "               aten::_convolution         0.03%      20.700us        12.03%       7.290ms       2.430ms       1.15 Mb           0 b             3  [[1, 256, 14, 14], [512, 256, 3, 3], [], [], [], [], [], [], [], [], [], [], []]            --  \n",
      "         aten::mkldnn_convolution        11.96%       7.249ms        11.99%       7.270ms       2.423ms       1.15 Mb           0 b             3                          [[1, 256, 14, 14], [512, 256, 3, 3], [], [], [], [], []]            --  \n",
      "                aten::as_strided_         0.01%       7.300us         0.01%       7.300us       2.433us           0 b           0 b             3                                                    [[1, 512, 14, 14], [], [], []]            --  \n",
      "                    aten::resize_         0.00%       2.000us         0.00%       2.000us       0.667us           0 b           0 b             3                                                        [[1, 512, 14, 14], [], []]            --  \n",
      "                 aten::batch_norm         0.02%      14.300us         0.95%     576.500us     192.167us       1.15 Mb     -12.00 Kb             3                    [[1, 512, 14, 14], [512], [512], [512], [512], [], [], [], []]            --  \n",
      "     aten::_batch_norm_impl_index         0.04%      24.100us         0.93%     562.200us     187.400us       1.16 Mb           0 b             3                    [[1, 512, 14, 14], [512], [512], [512], [512], [], [], [], []]            --  \n",
      "          aten::native_batch_norm         0.84%     507.800us         0.88%     535.400us     178.467us       1.16 Mb     -24.00 Kb             3                        [[1, 512, 14, 14], [512], [512], [512], [512], [], [], []]            --  \n",
      "                 aten::empty_like         0.02%      10.400us         0.02%      13.700us       4.567us       1.15 Mb           0 b             3                                            [[1, 512, 14, 14], [], [], [], [], []]            --  \n",
      "                 aten::leaky_relu         0.08%      46.000us         0.08%      46.000us      15.333us       1.15 Mb       1.15 Mb             3                                                            [[1, 512, 14, 14], []]            --  \n",
      "                     aten::conv2d         0.02%      10.800us         1.59%     965.200us     482.600us     392.00 Kb           0 b             2                          [[1, 512, 14, 14], [256, 512, 1, 1], [], [], [], [], []]       102.760  \n",
      "                aten::convolution         0.02%      11.400us         1.57%     954.400us     477.200us     392.00 Kb           0 b             2                  [[1, 512, 14, 14], [256, 512, 1, 1], [], [], [], [], [], [], []]            --  \n",
      "               aten::_convolution         0.03%      16.700us         1.56%     943.000us     471.500us     392.00 Kb           0 b             2  [[1, 512, 14, 14], [256, 512, 1, 1], [], [], [], [], [], [], [], [], [], [], []]            --  \n",
      "         aten::mkldnn_convolution         1.51%     916.700us         1.53%     926.300us     463.150us     392.00 Kb           0 b             2                          [[1, 512, 14, 14], [256, 512, 1, 1], [], [], [], [], []]            --  \n",
      "                aten::as_strided_         0.01%       3.500us         0.01%       3.500us       1.750us           0 b           0 b             2                                                    [[1, 256, 14, 14], [], [], []]            --  \n",
      "                    aten::resize_         0.00%       1.000us         0.00%       1.000us       0.500us           0 b           0 b             2                                                        [[1, 256, 14, 14], [], []]            --  \n",
      "                 aten::batch_norm         0.01%       6.900us         0.37%     223.600us     111.800us     392.00 Kb      -4.00 Kb             2                    [[1, 256, 14, 14], [256], [256], [256], [256], [], [], [], []]            --  \n",
      "     aten::_batch_norm_impl_index         0.02%      13.500us         0.36%     216.700us     108.350us     396.00 Kb           0 b             2                    [[1, 256, 14, 14], [256], [256], [256], [256], [], [], [], []]            --  \n",
      "          aten::native_batch_norm         0.31%     185.200us         0.33%     201.700us     100.850us     396.00 Kb      -8.00 Kb             2                        [[1, 256, 14, 14], [256], [256], [256], [256], [], [], []]            --  \n",
      "                 aten::empty_like         0.01%       6.200us         0.01%       8.400us       4.200us     392.00 Kb           0 b             2                                            [[1, 256, 14, 14], [], [], [], [], []]            --  \n",
      "                 aten::leaky_relu         0.04%      21.500us         0.04%      21.500us      10.750us     392.00 Kb     392.00 Kb             2                                                            [[1, 256, 14, 14], []]            --  \n",
      "                 aten::max_pool2d         0.01%       4.800us         0.49%     296.800us     296.800us      98.00 Kb    -196.00 Kb             1                                            [[1, 512, 14, 14], [], [], [], [], []]            --  \n",
      "    aten::max_pool2d_with_indices         0.48%     292.000us         0.48%     292.000us     292.000us     294.00 Kb     294.00 Kb             1                                            [[1, 512, 14, 14], [], [], [], [], []]            --  \n",
      "                     aten::conv2d         0.03%      16.300us        24.86%      15.069ms       5.023ms     588.00 Kb           0 b             3                           [[1, 512, 7, 7], [1024, 512, 3, 3], [], [], [], [], []]      1387.266  \n",
      "                aten::convolution         0.04%      24.200us        24.84%      15.052ms       5.017ms     588.00 Kb           0 b             3                   [[1, 512, 7, 7], [1024, 512, 3, 3], [], [], [], [], [], [], []]            --  \n",
      "               aten::_convolution         0.05%      27.300us        24.80%      15.028ms       5.009ms     588.00 Kb           0 b             3   [[1, 512, 7, 7], [1024, 512, 3, 3], [], [], [], [], [], [], [], [], [], [], []]            --  \n",
      "         aten::mkldnn_convolution        24.69%      14.966ms        24.75%      15.001ms       5.000ms     588.00 Kb           0 b             3                           [[1, 512, 7, 7], [1024, 512, 3, 3], [], [], [], [], []]            --  \n",
      "                aten::as_strided_         0.02%      11.500us         0.02%      11.500us       3.833us           0 b           0 b             3                                                     [[1, 1024, 7, 7], [], [], []]            --  \n",
      "                    aten::resize_         0.01%       4.700us         0.01%       4.700us       1.567us           0 b           0 b             3                                                         [[1, 1024, 7, 7], [], []]            --  \n",
      "                 aten::batch_norm         0.04%      23.400us         0.84%     508.800us     169.600us     588.00 Kb     -24.00 Kb             3                 [[1, 1024, 7, 7], [1024], [1024], [1024], [1024], [], [], [], []]            --  \n",
      "     aten::_batch_norm_impl_index         0.06%      35.800us         0.80%     485.400us     161.800us     612.00 Kb           0 b             3                 [[1, 1024, 7, 7], [1024], [1024], [1024], [1024], [], [], [], []]            --  \n",
      "          aten::native_batch_norm         0.66%     401.100us         0.73%     445.400us     148.467us     612.00 Kb     -48.00 Kb             3                     [[1, 1024, 7, 7], [1024], [1024], [1024], [1024], [], [], []]            --  \n",
      "                 aten::empty_like         0.03%      16.700us         0.04%      21.500us       7.167us     588.00 Kb           0 b             3                                             [[1, 1024, 7, 7], [], [], [], [], []]            --  \n",
      "                 aten::leaky_relu         0.09%      57.000us         0.09%      57.000us      19.000us     588.00 Kb     588.00 Kb             3                                                             [[1, 1024, 7, 7], []]            --  \n",
      "                     aten::conv2d         0.03%      15.400us         2.31%       1.397ms     698.550us     196.00 Kb           0 b             2                          [[1, 1024, 7, 7], [512, 1024, 1, 1], [], [], [], [], []]       102.760  \n",
      "                aten::convolution         0.03%      18.100us         2.28%       1.382ms     690.850us     196.00 Kb           0 b             2                  [[1, 1024, 7, 7], [512, 1024, 1, 1], [], [], [], [], [], [], []]            --  \n",
      "               aten::_convolution         0.04%      23.800us         2.25%       1.364ms     681.800us     196.00 Kb           0 b             2  [[1, 1024, 7, 7], [512, 1024, 1, 1], [], [], [], [], [], [], [], [], [], [], []]            --  \n",
      "         aten::mkldnn_convolution         2.19%       1.325ms         2.21%       1.340ms     669.900us     196.00 Kb           0 b             2                          [[1, 1024, 7, 7], [512, 1024, 1, 1], [], [], [], [], []]            --  \n",
      "                aten::as_strided_         0.01%       5.500us         0.01%       5.500us       2.750us           0 b           0 b             2                                                      [[1, 512, 7, 7], [], [], []]            --  \n",
      "                    aten::resize_         0.00%       1.900us         0.00%       1.900us       0.950us           0 b           0 b             2                                                          [[1, 512, 7, 7], [], []]            --  \n",
      "                 aten::batch_norm         0.02%      10.900us         0.36%     217.800us     108.900us     196.00 Kb      -8.00 Kb             2                      [[1, 512, 7, 7], [512], [512], [512], [512], [], [], [], []]            --  \n",
      "     aten::_batch_norm_impl_index         0.03%      19.300us         0.34%     206.900us     103.450us     204.00 Kb           0 b             2                      [[1, 512, 7, 7], [512], [512], [512], [512], [], [], [], []]            --  \n",
      "          aten::native_batch_norm         0.27%     161.400us         0.31%     185.200us      92.600us     204.00 Kb     -16.00 Kb             2                          [[1, 512, 7, 7], [512], [512], [512], [512], [], [], []]            --  \n",
      "                 aten::empty_like         0.01%       8.500us         0.02%      11.400us       5.700us     196.00 Kb           0 b             2                                              [[1, 512, 7, 7], [], [], [], [], []]            --  \n",
      "                 aten::leaky_relu         0.03%      19.800us         0.03%      19.800us       9.900us     196.00 Kb     196.00 Kb             2                                                              [[1, 512, 7, 7], []]            --  \n",
      "                       ClassifyV2         0.18%     108.700us         2.72%       1.648ms       1.648ms       3.91 Kb           0 b             1                                                                                []            --  \n",
      "                     aten::conv2d         0.02%       9.400us         2.11%       1.279ms       1.279ms     191.41 Kb           0 b             1                         [[1, 1024, 7, 7], [1000, 1024, 1, 1], [], [], [], [], []]       100.352  \n",
      "                aten::convolution         0.02%      11.500us         2.09%       1.270ms       1.270ms     191.41 Kb           0 b             1                 [[1, 1024, 7, 7], [1000, 1024, 1, 1], [], [], [], [], [], [], []]            --  \n",
      "               aten::_convolution         0.02%      14.800us         2.08%       1.258ms       1.258ms     191.41 Kb           0 b             1  [[1, 1024, 7, 7], [1000, 1024, 1, 1], [], [], [], [], [], [], [], [], [], [], []            --  \n",
      "         aten::mkldnn_convolution         2.04%       1.235ms         2.05%       1.243ms       1.243ms     191.41 Kb           0 b             1                         [[1, 1024, 7, 7], [1000, 1024, 1, 1], [], [], [], [], []]            --  \n",
      "                aten::as_strided_         0.00%       2.300us         0.00%       2.300us       2.300us           0 b           0 b             1                                                     [[1, 1000, 7, 7], [], [], []]            --  \n",
      "                    aten::resize_         0.00%       0.800us         0.00%       0.800us       0.800us           0 b           0 b             1                                                         [[1, 1000, 7, 7], [], []]            --  \n",
      "         Adaptive Average Pooling         0.12%      71.100us         0.28%     166.700us     166.700us    -187.50 Kb    -191.41 Kb             1                                                                                []            --  \n",
      "        aten::adaptive_avg_pool2d         0.01%       5.600us         0.16%      95.600us      95.600us       3.91 Kb           0 b             1                                                             [[1, 1000, 7, 7], []]            --  \n",
      "                       aten::mean         0.03%      15.400us         0.15%      90.000us      90.000us       3.91 Kb       3.91 Kb             1                                                     [[1, 1000, 7, 7], [], [], []]            --  \n",
      "                        aten::sum         0.05%      27.700us         0.05%      31.200us      31.200us           0 b           0 b             1                                    [[1, 1000, 7, 7], [], [], [], [1, 1000, 1, 1]]            --  \n",
      "                      aten::fill_         0.01%       3.500us         0.01%       3.500us       3.500us           0 b           0 b             1                                                             [[1, 1000, 1, 1], []]            --  \n",
      "                       aten::div_         0.03%      17.700us         0.07%      43.400us      43.400us           0 b          -4 b             1                                                             [[1, 1000, 1, 1], []]            --  \n",
      "                         aten::to         0.01%       5.600us         0.04%      25.700us      25.700us           4 b           0 b             1                                                              [[], [], [], [], []]            --  \n",
      "                   aten::_to_copy         0.02%      10.900us         0.03%      20.100us      20.100us           4 b           0 b             1                                                      [[], [], [], [], [], [], []]            --  \n",
      "              aten::empty_strided         0.01%       3.400us         0.01%       3.400us       3.400us           4 b           4 b             1                                                          [[], [], [], [], [], []]            --  \n",
      "                      aten::copy_         0.01%       5.800us         0.01%       5.800us       5.800us           0 b           0 b             1                                                                      [[], [], []]            --  \n",
      "                          Flatten         0.04%      25.500us         0.07%      42.400us      42.400us           0 b           0 b             1                                                                                []            --  \n",
      "                    aten::flatten         0.01%       7.400us         0.03%      16.900us      16.900us           0 b           0 b             1                                                         [[1, 1000, 1, 1], [], []]            --  \n",
      "                       aten::view         0.02%       9.500us         0.02%       9.500us       9.500us           0 b           0 b             1                                                             [[1, 1000, 1, 1], []]            --  \n",
      "                      Log Softmax         0.06%      36.400us         0.09%      51.600us      51.600us           0 b      -3.91 Kb             1                                                                                []            --  \n",
      "                aten::log_softmax         0.01%       5.400us         0.03%      15.200us      15.200us       3.91 Kb           0 b             1                                                               [[1, 1000], [], []]            --  \n",
      "               aten::_log_softmax         0.02%       9.800us         0.02%       9.800us       9.800us       3.91 Kb       3.91 Kb             1                                                               [[1, 1000], [], []]            --  \n",
      "---------------------------------  ------------  ------------  ------------  ------------  ------------  ------------  ------------  ------------  --------------------------------------------------------------------------------  ------------  \n",
      "Self CPU time total: 60.608ms\n",
      "\n"
     ]
    }
   ],
   "source": [
    "img = train_dataset[6][0].unsqueeze(0).to(device)\n",
    "with profile(activities=[ProfilerActivity.CPU],\n",
    "                                    schedule=torch.profiler.schedule(wait=1, warmup=1, active=1, repeat=1),\n",
    "                                    on_trace_ready=torch.profiler.tensorboard_trace_handler('../log/darknet19/inference_at_224'),\n",
    "                                    record_shapes=True,\n",
    "                                    profile_memory=True,\n",
    "                                    with_flops=True,\n",
    "                                    with_modules=True,\n",
    "                                    with_stack=False) as prof:\n",
    "    for i in range(3):\n",
    "        # torch.cuda.synchronize(device=device)\n",
    "        with record_function('inference'):\n",
    "            with torch.no_grad():\n",
    "                model(img)\n",
    "        # torch.cuda.synchronize(device=device)\n",
    "        prof.step()\n",
    "print(prof.key_averages(group_by_input_shape=True).table(row_limit=-1))"
   ]
  },
  {
   "cell_type": "markdown",
   "id": "7bbda685-2209-439b-ad06-2b1df4546208",
   "metadata": {},
   "source": [
    "# GFLOPs at 224x224 using Ultralytics functions"
   ]
  },
  {
   "cell_type": "code",
   "execution_count": 22,
   "id": "3a35eafd-8192-40c2-a17b-131c0a5232e7",
   "metadata": {},
   "outputs": [],
   "source": [
    "from ultralytics_flops import get_flops, get_flops_with_torch_profiler"
   ]
  },
  {
   "cell_type": "code",
   "execution_count": 23,
   "id": "34b7d9f4-58b7-4786-8683-247c2ff86c24",
   "metadata": {},
   "outputs": [
    {
     "data": {
      "text/plain": [
       "5.618206368"
      ]
     },
     "execution_count": 23,
     "metadata": {},
     "output_type": "execute_result"
    }
   ],
   "source": [
    "get_flops(model, imgsz=224)"
   ]
  },
  {
   "cell_type": "code",
   "execution_count": 24,
   "id": "0cd1b292-523b-4c02-a95a-08d5b88cf3f2",
   "metadata": {},
   "outputs": [
    {
     "data": {
      "text/plain": [
       "5.581979648"
      ]
     },
     "execution_count": 24,
     "metadata": {},
     "output_type": "execute_result"
    }
   ],
   "source": [
    "get_flops_with_torch_profiler(model, imgsz=224)"
   ]
  },
  {
   "cell_type": "markdown",
   "id": "1cf31eae-f124-4080-aeca-9cf530531355",
   "metadata": {},
   "source": [
    "# GFLOPs at 640x640 using Ultralytics functions"
   ]
  },
  {
   "cell_type": "code",
   "execution_count": 126,
   "id": "03795f4e-a355-4836-8734-16117e96f444",
   "metadata": {},
   "outputs": [],
   "source": [
    "from ultralytics_flops import get_flops, get_flops_with_torch_profiler"
   ]
  },
  {
   "cell_type": "code",
   "execution_count": 127,
   "id": "ab15f96a-855a-48f2-a59d-5f8fb0506d86",
   "metadata": {},
   "outputs": [
    {
     "data": {
      "text/plain": [
       "45.863692799999995"
      ]
     },
     "execution_count": 127,
     "metadata": {},
     "output_type": "execute_result"
    }
   ],
   "source": [
    "get_flops(model, imgsz=640)"
   ]
  },
  {
   "cell_type": "code",
   "execution_count": 128,
   "id": "1767ea84-60c5-4baa-8683-fafa12241b4b",
   "metadata": {},
   "outputs": [
    {
     "data": {
      "text/plain": [
       "45.5671808"
      ]
     },
     "execution_count": 128,
     "metadata": {},
     "output_type": "execute_result"
    }
   ],
   "source": [
    "get_flops_with_torch_profiler(model, imgsz=640)"
   ]
  },
  {
   "cell_type": "markdown",
   "id": "378058ae-3c50-407b-bdec-918e73c04470",
   "metadata": {},
   "source": [
    "# Count Parameters"
   ]
  },
  {
   "cell_type": "code",
   "execution_count": 207,
   "id": "7ed1cb6d-7a10-4249-a95b-91c871b6bf8a",
   "metadata": {},
   "outputs": [
    {
     "data": {
      "text/plain": [
       "20841376"
      ]
     },
     "execution_count": 207,
     "metadata": {},
     "output_type": "execute_result"
    }
   ],
   "source": [
    "count_parameters(model)"
   ]
  }
 ],
 "metadata": {
  "kernelspec": {
   "display_name": "New Python (GPU)",
   "language": "python",
   "name": "new_gpu_env"
  },
  "language_info": {
   "codemirror_mode": {
    "name": "ipython",
    "version": 3
   },
   "file_extension": ".py",
   "mimetype": "text/x-python",
   "name": "python",
   "nbconvert_exporter": "python",
   "pygments_lexer": "ipython3",
   "version": "3.9.20"
  }
 },
 "nbformat": 4,
 "nbformat_minor": 5
}
