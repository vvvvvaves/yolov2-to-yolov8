{
 "cells": [
  {
   "cell_type": "code",
   "execution_count": 58,
   "id": "01292845-357f-4c1f-b3dd-418e87ec5443",
   "metadata": {},
   "outputs": [],
   "source": [
    "import torch, pickle\n",
    "import torch.nn as nn\n",
    "import datetime"
   ]
  },
  {
   "cell_type": "code",
   "execution_count": 59,
   "id": "721662da-31f6-4b55-8ce2-5c3f6de1377c",
   "metadata": {},
   "outputs": [],
   "source": [
    "class Conv_BN_LeakyReLU(nn.Module):\n",
    "    def __init__(self, in_channels, out_channels, ksize, padding=0, stride=1, dilation=1):\n",
    "        super(Conv_BN_LeakyReLU, self).__init__()\n",
    "        self.convs = nn.Sequential(\n",
    "            nn.Conv2d(in_channels, out_channels, ksize, padding=padding, stride=stride, dilation=dilation,\n",
    "                     device='cuda:0', dtype=torch.float32),\n",
    "            nn.BatchNorm2d(out_channels, device='cuda:0', dtype=torch.float32),\n",
    "            nn.LeakyReLU(0.1, inplace=True)\n",
    "        )\n",
    "\n",
    "    def forward(self, x):\n",
    "        return self.convs(x)"
   ]
  },
  {
   "cell_type": "code",
   "execution_count": 60,
   "id": "6351d417-1479-4891-99d9-d2b917b54c2b",
   "metadata": {},
   "outputs": [],
   "source": [
    "class DarkNet_19(nn.Module):\n",
    "    def __init__(self):        \n",
    "        super(DarkNet_19, self).__init__()\n",
    "        # backbone network : DarkNet-19\n",
    "        # output : stride = 2, c = 32\n",
    "        self.conv_1 = nn.Sequential(\n",
    "            Conv_BN_LeakyReLU(3, 32, 3, 1),\n",
    "            nn.MaxPool2d((2,2), 2),\n",
    "        )\n",
    "\n",
    "        # output : stride = 4, c = 64\n",
    "        self.conv_2 = nn.Sequential(\n",
    "            Conv_BN_LeakyReLU(32, 64, 3, 1),\n",
    "            nn.MaxPool2d((2,2), 2)\n",
    "        )\n",
    "\n",
    "        # output : stride = 8, c = 128\n",
    "        self.conv_3 = nn.Sequential(\n",
    "            Conv_BN_LeakyReLU(64, 128, 3, 1),\n",
    "            Conv_BN_LeakyReLU(128, 64, 1),\n",
    "            Conv_BN_LeakyReLU(64, 128, 3, 1),\n",
    "            nn.MaxPool2d((2,2), 2)\n",
    "        )\n",
    "\n",
    "        # output : stride = 8, c = 256\n",
    "        self.conv_4 = nn.Sequential(\n",
    "            Conv_BN_LeakyReLU(128, 256, 3, 1),\n",
    "            Conv_BN_LeakyReLU(256, 128, 1),\n",
    "            Conv_BN_LeakyReLU(128, 256, 3, 1),\n",
    "        )\n",
    "\n",
    "        # output : stride = 16, c = 512\n",
    "        self.maxpool_4 = nn.MaxPool2d((2, 2), 2)\n",
    "        self.conv_5 = nn.Sequential(\n",
    "            Conv_BN_LeakyReLU(256, 512, 3, 1),\n",
    "            Conv_BN_LeakyReLU(512, 256, 1),\n",
    "            Conv_BN_LeakyReLU(256, 512, 3, 1),\n",
    "            Conv_BN_LeakyReLU(512, 256, 1),\n",
    "            Conv_BN_LeakyReLU(256, 512, 3, 1),\n",
    "        )\n",
    "        \n",
    "        # output : stride = 32, c = 1024\n",
    "        self.maxpool_5 = nn.MaxPool2d((2, 2), 2)\n",
    "        self.conv_6 = nn.Sequential(\n",
    "            Conv_BN_LeakyReLU(512, 1024, 3, 1),\n",
    "            Conv_BN_LeakyReLU(1024, 512, 1),\n",
    "            Conv_BN_LeakyReLU(512, 1024, 3, 1),\n",
    "            Conv_BN_LeakyReLU(1024, 512, 1),\n",
    "            Conv_BN_LeakyReLU(512, 1024, 3, 1)\n",
    "        )\n",
    "\n",
    "        self.conv_7 = nn.Conv2d(1024, 1000, kernel_size=(1,1), stride=(1,1), padding=(0,0), bias=True,\n",
    "                               device='cuda:0', dtype=torch.float32)\n",
    "        self.avg_pool = nn.AdaptiveAvgPool2d(1)\n",
    "        self.softmax = nn.LogSoftmax(dim=1)\n",
    "\n",
    "    def forward(self, x):\n",
    "        c1 = self.conv_1(x)\n",
    "        c2 = self.conv_2(c1)\n",
    "        c3 = self.conv_3(c2)\n",
    "        c3 = self.conv_4(c3)\n",
    "        c4 = self.conv_5(self.maxpool_4(c3))\n",
    "        c5 = self.conv_6(self.maxpool_5(c4))\n",
    "        out = self.conv_7(c5)\n",
    "        out = self.avg_pool(out)\n",
    "        out = out.flatten(1)\n",
    "        out = self.softmax(out)\n",
    "        return out\n",
    "\n"
   ]
  },
  {
   "cell_type": "code",
   "execution_count": 47,
   "id": "290492a1-09bb-4921-a94f-4147b755638b",
   "metadata": {},
   "outputs": [],
   "source": [
    "def build_darknet19(pretrained=False):\n",
    "    # model\n",
    "    model = DarkNet_19()\n",
    "\n",
    "    # load weight\n",
    "    if pretrained:\n",
    "        print('Loading pretrained weight ...')\n",
    "        url = \"https://github.com/yjh0410/image_classification_pytorch/releases/download/weight/darknet19.pth\"\n",
    "        # checkpoint state dict\n",
    "        checkpoint_state_dict = torch.hub.load_state_dict_from_url(\n",
    "            url=url, map_location=\"cpu\", check_hash=True)\n",
    "        # model state dict\n",
    "        model_state_dict = model.state_dict()\n",
    "        # check\n",
    "        for k in list(checkpoint_state_dict.keys()):\n",
    "            if k in model_state_dict:\n",
    "                shape_model = tuple(model_state_dict[k].shape)\n",
    "                shape_checkpoint = tuple(checkpoint_state_dict[k].shape)\n",
    "                if shape_model != shape_checkpoint:\n",
    "                    checkpoint_state_dict.pop(k)\n",
    "            else:\n",
    "                checkpoint_state_dict.pop(k)\n",
    "                print(k)\n",
    "\n",
    "        model.load_state_dict(checkpoint_state_dict)\n",
    "\n",
    "    return model"
   ]
  },
  {
   "cell_type": "code",
   "execution_count": 48,
   "id": "6f171ee0-b012-422f-820e-04d439f87f62",
   "metadata": {},
   "outputs": [],
   "source": [
    "import sys\n",
    "sys.path.insert(1, '../../')"
   ]
  },
  {
   "cell_type": "code",
   "execution_count": 49,
   "id": "3460112b-7895-4797-a8ae-0ee437e88605",
   "metadata": {},
   "outputs": [
    {
     "name": "stdout",
     "output_type": "stream",
     "text": [
      "Loading pretrained weight ...\n"
     ]
    }
   ],
   "source": [
    "model = build_darknet19(pretrained=True)"
   ]
  },
  {
   "cell_type": "code",
   "execution_count": 50,
   "id": "807f8907-8df0-47ba-a741-ab10c1d972e2",
   "metadata": {},
   "outputs": [
    {
     "name": "stdout",
     "output_type": "stream",
     "text": [
      "Means are: [0.44969913363456726, 0.44868946075439453, 0.45163223147392273]\n",
      "stds are: [0.28648287057876587, 0.28796446323394775, 0.2865694761276245]\n"
     ]
    }
   ],
   "source": [
    "import os\n",
    "from data_preprocessing import *\n",
    "data_path = '../../../datasets/imagenette2/'\n",
    "norms_path = os.path.join(data_path, 'norms.json')\n",
    "means = get_means(path=norms_path, train_loader=None)\n",
    "stds = get_stds(path=norms_path, train_loader=None)"
   ]
  },
  {
   "cell_type": "code",
   "execution_count": 51,
   "id": "f8136940-7af9-4706-b13f-c2bb56575e14",
   "metadata": {
    "scrolled": true
   },
   "outputs": [],
   "source": [
    "from torchvision import transforms \n",
    "transformations_val = transforms.Compose([transforms.Resize((224, 224)),\n",
    "                                                 transforms.ToTensor(),\n",
    "                                                 transforms.Normalize(mean=means, std=stds)\n",
    "                                                 ])"
   ]
  },
  {
   "cell_type": "code",
   "execution_count": 52,
   "id": "dfe01d90-7437-44e7-9ce3-338c5f2be6cc",
   "metadata": {},
   "outputs": [],
   "source": [
    "val_dataset = ImageNetSubset(path=data_path, train=False, transform=transformations_val, half=False, show=False)\n",
    "val_loader = DataLoader(val_dataset, batch_size=64, shuffle=False, num_workers=4)"
   ]
  },
  {
   "cell_type": "code",
   "execution_count": 53,
   "id": "31fc17f6-b791-415e-b99c-25bf1af6f434",
   "metadata": {},
   "outputs": [
    {
     "data": {
      "text/plain": [
       "device(type='cuda', index=0)"
      ]
     },
     "execution_count": 53,
     "metadata": {},
     "output_type": "execute_result"
    }
   ],
   "source": [
    "next(model.parameters()).device"
   ]
  },
  {
   "cell_type": "code",
   "execution_count": 57,
   "id": "7bdfd06b-4557-4c60-adc9-48584a13c6be",
   "metadata": {},
   "outputs": [
    {
     "name": "stdout",
     "output_type": "stream",
     "text": [
      "2024-12-11 12:58:31.445458 Batch 15 \n",
      "2024-12-11 12:58:36.836745 Batch 30 \n",
      "2024-12-11 12:58:41.320199 Batch 45 \n",
      "2024-12-11 12:58:44.542947 Batch 60 \n",
      "[Val] Accuracy: 8.1529%\n"
     ]
    }
   ],
   "source": [
    "model.eval()\n",
    "\n",
    "correct = 0\n",
    "total = 0\n",
    "with torch.no_grad():\n",
    "    for i, (imgs, labels) in enumerate(val_loader):\n",
    "        imgs = imgs.to('cuda:0')\n",
    "        labels = labels.to('cuda:0')\n",
    "        \n",
    "        if (i+1) % 15 == 0:\n",
    "            _datetime = datetime.datetime.now()\n",
    "            print(f\"{_datetime} Batch {i+1} \")\n",
    "\n",
    "        outputs = model(imgs)\n",
    "        preds = outputs.max(1)[1]\n",
    "\n",
    "        total += labels.shape[0]\n",
    "        correct += preds.eq(labels).sum().item()\n",
    "\n",
    "\n",
    "accuracy = round(correct / total * 100., 4)\n",
    "print(f\"[Val] Accuracy: {accuracy}%\")"
   ]
  },
  {
   "cell_type": "code",
   "execution_count": 43,
   "id": "ec3b0cb6-50ca-43c9-8996-494e9ad8ebcd",
   "metadata": {},
   "outputs": [
    {
     "data": {
      "text/plain": [
       "19827616"
      ]
     },
     "execution_count": 43,
     "metadata": {},
     "output_type": "execute_result"
    }
   ],
   "source": [
    "sum([p.numel() for p in Darknet19().parameters()])"
   ]
  },
  {
   "cell_type": "code",
   "execution_count": null,
   "id": "106508f8-4569-4964-850d-8f2020c0144f",
   "metadata": {},
   "outputs": [],
   "source": []
  }
 ],
 "metadata": {
  "kernelspec": {
   "display_name": "Python 3 (ipykernel)",
   "language": "python",
   "name": "python3"
  },
  "language_info": {
   "codemirror_mode": {
    "name": "ipython",
    "version": 3
   },
   "file_extension": ".py",
   "mimetype": "text/x-python",
   "name": "python",
   "nbconvert_exporter": "python",
   "pygments_lexer": "ipython3",
   "version": "3.9.20"
  }
 },
 "nbformat": 4,
 "nbformat_minor": 5
}
