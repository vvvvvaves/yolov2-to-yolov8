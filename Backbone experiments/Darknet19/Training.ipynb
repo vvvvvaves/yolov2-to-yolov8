{
 "cells": [
  {
   "cell_type": "code",
   "execution_count": 1,
   "id": "a5258e5c-2fd1-45d6-bf25-96674d504f91",
   "metadata": {},
   "outputs": [],
   "source": [
    "import torch\n",
    "import torch.nn as nn\n",
    "from torchvision import transforms\n",
    "from torch.utils.data import DataLoader\n",
    "from torch import optim"
   ]
  },
  {
   "cell_type": "code",
   "execution_count": 2,
   "id": "c9deb7c5-1256-4fdd-b447-69f25786c0e8",
   "metadata": {},
   "outputs": [],
   "source": [
    "import sys\n",
    "sys.path.insert(1, \"../../\")"
   ]
  },
  {
   "cell_type": "code",
   "execution_count": 3,
   "id": "43b63379-9363-448e-b927-2231dbb097b1",
   "metadata": {},
   "outputs": [],
   "source": [
    "from train import *\n",
    "from data_preprocessing import *\n",
    "from Models.darknet19 import *"
   ]
  },
  {
   "cell_type": "code",
   "execution_count": 4,
   "id": "cbdae16b-4251-46a6-865b-bfa81a9a5ea1",
   "metadata": {},
   "outputs": [],
   "source": [
    "if torch.cuda.is_available():\n",
    "    device=torch.device('cuda')\n",
    "else:\n",
    "    device=torch.device('cpu') "
   ]
  },
  {
   "cell_type": "code",
   "execution_count": 5,
   "id": "f9a44f5d-8396-4654-b118-82473d81ca3c",
   "metadata": {},
   "outputs": [],
   "source": [
    "model = Darknet19(num_classes=10, device=device, dtype=torch.float32)"
   ]
  },
  {
   "cell_type": "code",
   "execution_count": 6,
   "id": "ae3c5dd0-ac5d-4cbb-8463-d9ebe0621f3c",
   "metadata": {},
   "outputs": [],
   "source": [
    "data_path = '../../../dummy_datasets/'\n",
    "norms_path = os.path.join(data_path, 'norms.json')"
   ]
  },
  {
   "cell_type": "code",
   "execution_count": 7,
   "id": "e608e517-6da7-41c7-b62d-81cca6aecf54",
   "metadata": {},
   "outputs": [
    {
     "name": "stdout",
     "output_type": "stream",
     "text": [
      "Means are: [0.4405549168586731, 0.4407285749912262, 0.4381718039512634]\n",
      "stds are: [0.25142669677734375, 0.25270089507102966, 0.25131651759147644]\n"
     ]
    }
   ],
   "source": [
    "means = get_means(path=norms_path, train_loader=None)\n",
    "stds = get_stds(path=norms_path, train_loader=None)"
   ]
  },
  {
   "cell_type": "code",
   "execution_count": 8,
   "id": "840c3bfd-3f57-4508-9834-fd0c87b7532a",
   "metadata": {},
   "outputs": [],
   "source": [
    "transformations = transforms.Compose([transforms.ToTensor(),\n",
    "                                      transforms.Resize((224, 224)),\n",
    "                                      transforms.Normalize(mean=means, std=stds)])"
   ]
  },
  {
   "cell_type": "code",
   "execution_count": 9,
   "id": "dfaadddf-3f19-4b50-93b4-98cf177980fb",
   "metadata": {},
   "outputs": [],
   "source": [
    "train_dataset = ImageNetSubset(path=data_path, train=True, transform=transformations, half=False, show=False)\n",
    "val_dataset = ImageNetSubset(path=data_path, train=False, transform=transformations, half=False, show=False)"
   ]
  },
  {
   "cell_type": "code",
   "execution_count": 10,
   "id": "a5d356b0-68a7-44f8-bf1b-397f7889dfb9",
   "metadata": {},
   "outputs": [],
   "source": [
    "epochs=3\n",
    "train_loader = DataLoader(train_dataset, batch_size=256, shuffle=True, num_workers=4)\n",
    "val_loader = DataLoader(val_dataset, batch_size=256, shuffle=False, num_workers=4)"
   ]
  },
  {
   "cell_type": "code",
   "execution_count": 11,
   "id": "53e72a95-3140-4c39-afd7-e64d63bd5940",
   "metadata": {},
   "outputs": [],
   "source": [
    "optimizer = optim.SGD(model.parameters(), lr=0.001, momentum=0.9, weight_decay=0.0001)"
   ]
  },
  {
   "cell_type": "code",
   "execution_count": 12,
   "id": "85cc427f-08e2-43c3-a496-6f1c967a2325",
   "metadata": {},
   "outputs": [],
   "source": [
    "loss_fn = nn.NLLLoss()"
   ]
  },
  {
   "cell_type": "code",
   "execution_count": 13,
   "id": "d9efeae0-85c6-42a3-9006-f1f7de738641",
   "metadata": {},
   "outputs": [],
   "source": [
    "prof = torch.profiler.profile(\n",
    "        schedule=torch.profiler.schedule(wait=1, warmup=1, active=epochs-1, repeat=1),\n",
    "        on_trace_ready=torch.profiler.tensorboard_trace_handler('../log/darknet19/training'),\n",
    "        record_shapes=True,\n",
    "        profile_memory=True,\n",
    "        with_flops=True,\n",
    "        with_modules=True,\n",
    "        with_stack=True)"
   ]
  },
  {
   "cell_type": "markdown",
   "id": "d9c4a012-f83a-495c-929b-939db6549642",
   "metadata": {},
   "source": [
    "\n",
    "Profiling your personal module \n",
    "https://pytorch.org/tutorials/beginner/profiler.html"
   ]
  },
  {
   "cell_type": "code",
   "execution_count": 14,
   "id": "a40a8174-7e18-43aa-83fd-41a98bf6ea0b",
   "metadata": {},
   "outputs": [
    {
     "name": "stdout",
     "output_type": "stream",
     "text": [
      "2024-11-19 16:37:56.089342 Epoch 1 \n",
      "2024-11-19 16:38:02.690391 Batch 1 \n",
      "[Train] Accuracy: 10.0%, Loss per batch: 2.3282\n",
      "2024-11-19 16:38:13.309927 Batch 1 \n",
      "[Val] Accuracy: 10.0%, loss per batch: 2.3026\n",
      "2024-11-19 16:38:15.752782 Epoch 2 \n",
      "2024-11-19 16:38:22.127797 Batch 1 \n",
      "[Train] Accuracy: 10.0%, Loss per batch: 2.2475\n",
      "2024-11-19 16:38:32.535571 Batch 1 \n",
      "[Val] Accuracy: 10.0%, loss per batch: 2.3027\n",
      "2024-11-19 16:38:35.052158 Epoch 3 \n",
      "2024-11-19 16:38:41.338555 Batch 1 \n",
      "[Train] Accuracy: 20.0%, Loss per batch: 2.1348\n",
      "2024-11-19 16:38:52.197159 Batch 1 \n",
      "[Val] Accuracy: 10.0%, loss per batch: 2.3028\n"
     ]
    }
   ],
   "source": [
    "history, gradient_stats, prof = train(epochs, train_loader, val_loader, model, optimizer, loss_fn, prof, model_path = '../log/darknet19/training/models/')"
   ]
  },
  {
   "cell_type": "code",
   "execution_count": 15,
   "id": "fa05f1c3-29c2-4e09-aa9d-a35ea4057234",
   "metadata": {},
   "outputs": [
    {
     "name": "stdout",
     "output_type": "stream",
     "text": [
      "-------------------------------------------------------  ------------  ------------  ------------  ------------  ------------  ------------  ------------  ------------  ------------  \n",
      "                                                   Name    Self CPU %      Self CPU   CPU total %     CPU total  CPU time avg       CPU Mem  Self CPU Mem    # of Calls  Total MFLOPs  \n",
      "-------------------------------------------------------  ------------  ------------  ------------  ------------  ------------  ------------  ------------  ------------  ------------  \n",
      "                                          ProfilerStep*         0.89%     347.144ms       100.00%       39.181s       19.590s      75.64 Mb           0 b             2            --  \n",
      "                                          Training Loop         0.02%       9.691ms        53.80%       21.078s       10.539s      75.64 Mb     -34.46 Mb             2            --  \n",
      "                     Validation Loop Before Data Loader         3.91%        1.533s        97.87%       38.345s        9.586s     144.55 Mb       -1008 b             4            --  \n",
      "                                            aten::empty         0.03%      10.793ms         0.03%      10.793ms       8.935us       6.69 Gb       6.69 Gb          1208            --  \n",
      "                                          aten::random_         0.00%     101.700us         0.00%     101.700us      16.950us           0 b           0 b             6            --  \n",
      "                                             aten::item         0.00%     394.000us         0.00%     489.800us       3.950us           0 b           0 b           124            --  \n",
      "                              aten::_local_scalar_dense         0.00%      95.800us         0.00%      95.800us       0.773us           0 b           0 b           124            --  \n",
      "                                         aten::randperm         0.00%     118.800us         0.00%     236.600us      29.575us         960 b         -32 b             8            --  \n",
      "                                    aten::scalar_tensor         0.00%      12.400us         0.00%      12.400us       3.100us          32 b          32 b             4            --  \n",
      "                                          aten::resize_         0.00%     352.800us         0.00%     352.800us       2.233us           0 b           0 b           158            --  \n",
      "                                     aten::resolve_conj         0.00%      34.900us         0.00%      34.900us       0.104us           0 b           0 b           334            --  \n",
      "                                      aten::resolve_neg         0.00%      28.500us         0.00%      28.500us       0.085us           0 b           0 b           334            --  \n",
      "enumerate(DataLoader)#_MultiProcessingDataLoaderIter...        71.11%       27.860s        71.11%       27.860s        3.483s      68.91 Mb      68.91 Mb             8            --  \n",
      "                                             aten::set_         0.00%      53.700us         0.00%      53.700us       6.713us           0 b           0 b             8            --  \n",
      "                        Training Loop After Data Loader         0.00%       1.530ms        16.53%        6.477s        3.239s      75.64 Mb        -316 b             2            --  \n",
      "                                        Batch inference         0.01%       3.976ms         6.89%        2.700s        1.350s       3.55 Gb           0 b             2            --  \n",
      "                                             Conv block         0.09%      36.949ms        10.50%        4.116s      57.161ms       4.04 Gb      -2.02 Gb            72            --  \n",
      "                                           aten::conv2d         0.00%     924.400us         8.06%        3.156s      41.530ms       2.02 Gb           0 b            76    657915.740  \n",
      "                                      aten::convolution         0.01%       2.001ms         8.05%        3.155s      41.518ms       2.02 Gb           0 b            76            --  \n",
      "                                     aten::_convolution         0.00%       1.644ms         8.05%        3.153s      41.491ms       2.02 Gb           0 b            76            --  \n",
      "                               aten::mkldnn_convolution         8.03%        3.147s         8.04%        3.152s      41.470ms       2.02 Gb           0 b            76            --  \n",
      "                                      aten::as_strided_         0.00%       1.311ms         0.00%       1.311ms       7.899us           0 b           0 b           166            --  \n",
      "                                             aten::add_         0.11%      41.432ms         0.11%      41.432ms     161.843us           0 b           0 b           256            --  \n",
      "                                       aten::batch_norm         0.00%     642.900us         1.54%     601.508ms       8.354ms       2.02 Gb           0 b            72            --  \n",
      "                           aten::_batch_norm_impl_index         0.00%       1.365ms         1.53%     600.865ms       8.345ms       2.02 Gb           0 b            72            --  \n",
      "                                aten::native_batch_norm         1.52%     596.163ms         1.53%     599.242ms       8.323ms       2.02 Gb    -337.50 Kb            72            --  \n",
      "                                       aten::empty_like         0.00%       1.093ms         0.01%       4.488ms      30.737us       4.04 Gb           0 b           146            --  \n",
      "                                       aten::leaky_relu         0.83%     326.988ms         0.83%     326.988ms       4.542ms       2.02 Gb       2.02 Gb            72            --  \n",
      "                                            Max pooling         0.01%       5.447ms         2.66%        1.040s      52.015ms           0 b    -712.03 Mb            20            --  \n",
      "                                       aten::max_pool2d         0.18%      69.640ms         2.64%        1.035s      51.743ms     712.03 Mb    -356.02 Mb            20            --  \n",
      "                          aten::max_pool2d_with_indices         2.46%     965.211ms         2.46%     965.211ms      48.261ms       1.04 Gb       1.04 Gb            20            --  \n",
      "                                             ClassifyV2         0.00%     864.300us         0.02%       9.479ms       2.370ms       4.69 Kb           0 b             4            --  \n",
      "                               Adaptive Average Pooling         0.00%     615.500us         0.00%       1.068ms     266.875us    -225.00 Kb    -229.69 Kb             4            --  \n",
      "                              aten::adaptive_avg_pool2d         0.00%      25.700us         0.00%     452.000us     113.000us       4.69 Kb           0 b             4            --  \n",
      "                                             aten::mean         0.01%       3.269ms         0.07%      26.624ms     118.858us       5.55 Kb       5.22 Kb           224            --  \n",
      "                                              aten::sum         0.04%      16.154ms         0.04%      17.495ms      76.731us          32 b      -1.84 Kb           228            --  \n",
      "                                            aten::fill_         0.23%      89.236ms         0.23%      89.236ms     254.960us           0 b           0 b           350            --  \n",
      "                                             aten::div_         0.01%       2.815ms         0.02%       6.037ms      26.951us         336 b        -560 b           224            --  \n",
      "                                               aten::to         0.00%       1.024ms         0.01%       5.312ms       7.929us       2.25 Kb           0 b           670            --  \n",
      "                                         aten::_to_copy         0.01%       2.890ms         0.01%       4.288ms      12.612us       2.25 Kb           0 b           340            --  \n",
      "                                    aten::empty_strided         0.00%     964.500us         0.00%     964.500us       2.134us     151.27 Mb     151.27 Mb           452            --  \n",
      "                                            aten::copy_         0.05%      21.520ms         0.05%      21.520ms      42.196us           0 b           0 b           510            --  \n",
      "                                                Flatten         0.00%     209.100us         0.00%     272.800us      68.200us           0 b           0 b             4            --  \n",
      "                                          aten::flatten         0.00%     703.200us         0.00%     992.200us       8.704us           0 b           0 b           114            --  \n",
      "                                             aten::view         0.00%     298.800us         0.00%     298.800us       6.791us           0 b           0 b            44            --  \n",
      "                                            Log Softmax         0.00%     269.100us         0.00%     378.600us      94.650us           0 b      -4.69 Kb             4            --  \n",
      "                                      aten::log_softmax         0.00%      18.800us         0.00%     109.500us      27.375us       4.69 Kb           0 b             4            --  \n",
      "                                     aten::_log_softmax         0.00%      90.700us         0.00%      90.700us      22.675us       4.69 Kb       4.69 Kb             4            --  \n",
      "                                           Loss Forward         0.00%     173.900us         0.00%     223.400us     111.700us          16 b           0 b             2            --  \n",
      "                                      aten::nll_loss_nd         0.00%      19.300us         0.00%      81.400us      20.350us          24 b           0 b             4            --  \n",
      "                                         aten::nll_loss         0.00%      22.500us         0.00%      62.100us      15.525us          24 b          -8 b             4            --  \n",
      "                                 aten::nll_loss_forward         0.00%      39.600us         0.00%      39.600us       9.900us          32 b          32 b             4            --  \n",
      "                      Optimizer.zero_grad#SGD.zero_grad         0.00%     693.800us         0.00%     693.800us     346.900us     -75.64 Mb     -75.64 Mb             2            --  \n",
      "                                          Loss Backward         0.02%       5.996ms         9.38%        3.677s        1.839s      -3.40 Gb          -8 b             2            --  \n",
      "                                        aten::ones_like         0.00%      14.900us         0.00%      34.300us      17.150us           8 b           0 b             2            --  \n",
      "autograd::engine::evaluate_function: NllLossBackward...         0.00%      18.900us         0.00%      96.100us      48.050us       2.34 Kb          -8 b             2            --  \n",
      "                                       NllLossBackward0         0.00%      21.000us         0.00%      77.200us      38.600us       2.34 Kb           0 b             2            --  \n",
      "                                aten::nll_loss_backward         0.00%      54.900us         0.00%      56.200us      28.100us       2.34 Kb       2.34 Kb             2            --  \n",
      "                                            aten::zero_         0.00%     130.700us         0.23%      89.244ms       7.437ms           0 b           0 b            12            --  \n",
      "autograd::engine::evaluate_function: LogSoftmaxBackw...         0.00%       9.100us         0.00%      47.200us      23.600us           0 b      -2.34 Kb             2            --  \n",
      "                                    LogSoftmaxBackward0         0.00%      18.200us         0.00%      38.100us      19.050us       2.34 Kb           0 b             2            --  \n",
      "                       aten::_log_softmax_backward_data         0.00%      19.900us         0.00%      19.900us       9.950us       2.34 Kb       2.34 Kb             2            --  \n",
      "     autograd::engine::evaluate_function: ViewBackward0         0.00%       7.500us         0.00%      34.700us      17.350us           0 b           0 b             2            --  \n",
      "                                          ViewBackward0         0.00%      10.300us         0.00%      27.200us      13.600us           0 b           0 b             2            --  \n",
      "                                          aten::reshape         0.00%       7.100us         0.00%      16.900us       8.450us           0 b           0 b             2            --  \n",
      "     autograd::engine::evaluate_function: MeanBackward1         0.00%       8.300us         0.00%     539.600us     269.800us     112.50 Kb      -2.34 Kb             2            --  \n",
      "                                          MeanBackward1         0.00%     373.500us         0.00%     531.300us     265.650us     114.84 Kb           0 b             2            --  \n",
      "                                           aten::expand         0.00%      21.000us         0.00%      28.700us      14.350us           0 b           0 b             2            --  \n",
      "                                       aten::as_strided         0.00%     342.200us         0.00%     342.200us       0.750us           0 b           0 b           456            --  \n",
      "                                              aten::div         0.00%      79.200us         0.00%     129.100us      64.550us     114.84 Kb     114.84 Kb             2            --  \n",
      "autograd::engine::evaluate_function: ConvolutionBack...         0.00%       1.437ms         7.34%        2.876s      75.691ms    -882.54 Mb      -1.50 Gb            38            --  \n",
      "                                   ConvolutionBackward0         0.00%     609.100us         7.34%        2.875s      75.653ms     650.73 Mb           0 b            38            --  \n",
      "                             aten::convolution_backward         7.33%        2.872s         7.34%        2.874s      75.637ms     650.73 Mb           0 b            38            --  \n",
      "autograd::engine::evaluate_function: torch::autograd...         0.00%     609.400us         0.01%       2.719ms      24.723us           0 b           0 b           110            --  \n",
      "                        torch::autograd::AccumulateGrad         0.00%     790.300us         0.01%       2.110ms      19.183us           0 b           0 b           110            --  \n",
      "                                           aten::detach         0.00%       1.692ms         0.01%       2.767ms       6.288us           0 b           0 b           440            --  \n",
      "                                                 detach         0.00%       1.075ms         0.00%       1.075ms       2.442us           0 b           0 b           440            --  \n",
      "autograd::engine::evaluate_function: LeakyReluBackwa...         0.00%       1.612ms         0.47%     183.249ms       5.090ms      -1.01 Gb      -2.02 Gb            36            --  \n",
      "                                     LeakyReluBackward0         0.00%     537.300us         0.46%     181.636ms       5.045ms       1.01 Gb           0 b            36            --  \n",
      "                              aten::leaky_relu_backward         0.46%     181.099ms         0.46%     181.099ms       5.031ms       1.01 Gb       1.01 Gb            36            --  \n",
      "autograd::engine::evaluate_function: NativeBatchNorm...         0.37%     144.225ms         1.02%     400.554ms      11.127ms      -1.01 Gb      -2.02 Gb            36            --  \n",
      "                               NativeBatchNormBackward0         0.00%     929.900us         0.65%     256.329ms       7.120ms       1.01 Gb           0 b            36            --  \n",
      "                       aten::native_batch_norm_backward         0.65%     253.126ms         0.65%     255.399ms       7.094ms       1.01 Gb      -1.01 Gb            36            --  \n",
      "autograd::engine::evaluate_function: MaxPool2DWithIn...         0.02%       6.765ms         0.53%     207.568ms      20.757ms    -534.02 Mb      -1.22 Gb            10            --  \n",
      "                          MaxPool2DWithIndicesBackward0         0.00%     172.700us         0.51%     200.803ms      20.080ms     712.03 Mb           0 b            10            --  \n",
      "                 aten::max_pool2d_with_indices_backward         0.28%     111.388ms         0.51%     200.630ms      20.063ms     712.03 Mb     712.03 Mb            10            --  \n",
      "                                         Optimizer Step         0.00%     294.000us         0.25%      97.095ms      48.547ms           0 b           0 b             2            --  \n",
      "                                Optimizer.step#SGD.step         0.02%       8.032ms         0.25%      96.801ms      48.400ms           0 b    -151.27 Mb             2            --  \n",
      "                                              aten::add         0.08%      31.292ms         0.08%      31.292ms     284.475us     151.27 Mb     151.27 Mb           110        39.655  \n",
      "                                             aten::mul_         0.04%      14.913ms         0.04%      16.833ms     153.030us           0 b        -440 b           110            --  \n",
      "                                              aten::max         0.00%     201.000us         0.00%     616.600us     154.150us       1.41 Kb       1.41 Kb             4            --  \n",
      "                                       aten::unsqueeze_         0.00%     344.200us         0.00%     366.100us      45.762us           0 b           0 b             8            --  \n",
      "                                         aten::squeeze_         0.00%      44.900us         0.00%      49.500us       6.187us           0 b           0 b             8            --  \n",
      "                                               aten::eq         0.00%      32.100us         0.00%      32.100us       8.025us         120 b         120 b             4            --  \n",
      "                                        Validation Loop         0.02%       8.390ms        44.12%       17.285s        8.642s           0 b     -34.46 Mb             2            --  \n",
      "                      Validation Loop After Data Loader         0.00%     969.800us         6.32%        2.475s        1.237s       2.81 Kb        -324 b             2            --  \n",
      "                                        Batch Inference         0.01%       3.691ms         6.31%        2.473s        1.237s       2.34 Kb    -499.57 Mb             2            --  \n",
      "                                           aten::median         1.02%     400.816ms         1.08%     422.555ms       3.841ms         440 b    -151.27 Mb           110            --  \n",
      "                                            aten::clone         0.00%     678.200us         0.05%      21.533ms     195.757us     151.27 Mb           0 b           110            --  \n",
      "                                              aten::std         0.05%      18.480ms         0.08%      32.445ms     294.957us         440 b           0 b           110            --  \n",
      "                                        aten::unsqueeze         0.00%     249.500us         0.00%     286.200us       4.770us           0 b           0 b            60            --  \n",
      "                                           aten::select         0.00%     386.700us         0.00%     426.600us       7.110us           0 b           0 b            60            --  \n",
      "-------------------------------------------------------  ------------  ------------  ------------  ------------  ------------  ------------  ------------  ------------  ------------  \n",
      "Self CPU time total: 39.181s\n",
      "\n"
     ]
    }
   ],
   "source": [
    "print(prof.key_averages().table(row_limit=-1))"
   ]
  },
  {
   "cell_type": "code",
   "execution_count": 16,
   "id": "94813a5e-7688-415c-b928-8b7b61b8e6c4",
   "metadata": {},
   "outputs": [],
   "source": [
    "save_train_outputs('../log/darknet19/training', history, gradient_stats)"
   ]
  }
 ],
 "metadata": {
  "kernelspec": {
   "display_name": "Python 3 (ipykernel)",
   "language": "python",
   "name": "python3"
  },
  "language_info": {
   "codemirror_mode": {
    "name": "ipython",
    "version": 3
   },
   "file_extension": ".py",
   "mimetype": "text/x-python",
   "name": "python",
   "nbconvert_exporter": "python",
   "pygments_lexer": "ipython3",
   "version": "3.12.6"
  }
 },
 "nbformat": 4,
 "nbformat_minor": 5
}
