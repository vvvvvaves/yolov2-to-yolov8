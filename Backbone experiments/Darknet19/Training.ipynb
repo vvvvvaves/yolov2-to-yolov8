{
 "cells": [
  {
   "cell_type": "code",
   "execution_count": 17,
   "id": "a5258e5c-2fd1-45d6-bf25-96674d504f91",
   "metadata": {},
   "outputs": [],
   "source": [
    "import torch\n",
    "import torch.nn as nn\n",
    "from torchvision import transforms\n",
    "from torch.utils.data import DataLoader\n",
    "from torch import optim"
   ]
  },
  {
   "cell_type": "code",
   "execution_count": 18,
   "id": "c9deb7c5-1256-4fdd-b447-69f25786c0e8",
   "metadata": {},
   "outputs": [],
   "source": [
    "import sys\n",
    "sys.path.insert(1, \"../../\")"
   ]
  },
  {
   "cell_type": "code",
   "execution_count": 19,
   "id": "43b63379-9363-448e-b927-2231dbb097b1",
   "metadata": {},
   "outputs": [],
   "source": [
    "from train import *\n",
    "from data_preprocessing import *\n",
    "from Models.darknet19 import *"
   ]
  },
  {
   "cell_type": "code",
   "execution_count": 20,
   "id": "cbdae16b-4251-46a6-865b-bfa81a9a5ea1",
   "metadata": {},
   "outputs": [],
   "source": [
    "if torch.cuda.is_available():\n",
    "    device=torch.device('cuda')\n",
    "else:\n",
    "    device=torch.device('cpu') "
   ]
  },
  {
   "cell_type": "code",
   "execution_count": 21,
   "id": "f9a44f5d-8396-4654-b118-82473d81ca3c",
   "metadata": {},
   "outputs": [],
   "source": [
    "model = Darknet19(num_classes=10, device=device, dtype=torch.float32)"
   ]
  },
  {
   "cell_type": "code",
   "execution_count": 22,
   "id": "ae3c5dd0-ac5d-4cbb-8463-d9ebe0621f3c",
   "metadata": {},
   "outputs": [],
   "source": [
    "data_path = '../../../dummy_datasets/'\n",
    "norms_path = os.path.join(data_path, 'norms.json')"
   ]
  },
  {
   "cell_type": "code",
   "execution_count": 23,
   "id": "e608e517-6da7-41c7-b62d-81cca6aecf54",
   "metadata": {},
   "outputs": [
    {
     "name": "stdout",
     "output_type": "stream",
     "text": [
      "Means are: [0.4405549168586731, 0.4407285749912262, 0.4381718039512634]\n",
      "stds are: [0.25142669677734375, 0.25270089507102966, 0.25131651759147644]\n"
     ]
    }
   ],
   "source": [
    "means = get_means(path=norms_path, train_loader=None)\n",
    "stds = get_stds(path=norms_path, train_loader=None)"
   ]
  },
  {
   "cell_type": "code",
   "execution_count": 24,
   "id": "840c3bfd-3f57-4508-9834-fd0c87b7532a",
   "metadata": {},
   "outputs": [],
   "source": [
    "transformations = transforms.Compose([transforms.ToTensor(),\n",
    "                                      transforms.Resize((224, 224)),\n",
    "                                      transforms.Normalize(mean=means, std=stds)])"
   ]
  },
  {
   "cell_type": "code",
   "execution_count": 25,
   "id": "dfaadddf-3f19-4b50-93b4-98cf177980fb",
   "metadata": {},
   "outputs": [],
   "source": [
    "train_dataset = ImageNetSubset(path=data_path, train=True, transform=transformations, half=False, show=False)\n",
    "val_dataset = ImageNetSubset(path=data_path, train=False, transform=transformations, half=False, show=False)"
   ]
  },
  {
   "cell_type": "code",
   "execution_count": 26,
   "id": "a5d356b0-68a7-44f8-bf1b-397f7889dfb9",
   "metadata": {},
   "outputs": [],
   "source": [
    "epochs=10\n",
    "train_loader = DataLoader(train_dataset, batch_size=256, shuffle=True, num_workers=4)\n",
    "val_loader = DataLoader(val_dataset, batch_size=256, shuffle=False, num_workers=4)"
   ]
  },
  {
   "cell_type": "code",
   "execution_count": 27,
   "id": "53e72a95-3140-4c39-afd7-e64d63bd5940",
   "metadata": {},
   "outputs": [],
   "source": [
    "optimizer = optim.SGD(model.parameters(), lr=0.01, momentum=0.9, weight_decay=0.0001)"
   ]
  },
  {
   "cell_type": "code",
   "execution_count": 28,
   "id": "85cc427f-08e2-43c3-a496-6f1c967a2325",
   "metadata": {},
   "outputs": [],
   "source": [
    "loss_fn = nn.NLLLoss()"
   ]
  },
  {
   "cell_type": "code",
   "execution_count": 29,
   "id": "d9efeae0-85c6-42a3-9006-f1f7de738641",
   "metadata": {},
   "outputs": [],
   "source": [
    "prof = torch.profiler.profile(\n",
    "        schedule=torch.profiler.schedule(wait=1, warmup=1, active=epochs-1, repeat=1),\n",
    "        on_trace_ready=torch.profiler.tensorboard_trace_handler('../log/darknet19/training'),\n",
    "        record_shapes=True,\n",
    "        profile_memory=True,\n",
    "        with_flops=True,\n",
    "        with_modules=True,\n",
    "        with_stack=True)"
   ]
  },
  {
   "cell_type": "markdown",
   "id": "d9c4a012-f83a-495c-929b-939db6549642",
   "metadata": {},
   "source": [
    "\n",
    "Profiling your personal module \n",
    "https://pytorch.org/tutorials/beginner/profiler.html"
   ]
  },
  {
   "cell_type": "code",
   "execution_count": 30,
   "id": "a40a8174-7e18-43aa-83fd-41a98bf6ea0b",
   "metadata": {},
   "outputs": [
    {
     "name": "stdout",
     "output_type": "stream",
     "text": [
      "2024-11-20 21:03:12.683832 Epoch 1 \n",
      "2024-11-20 21:03:20.503767 Batch 1 \n",
      "[Train] Accuracy: 10.0%, Loss per batch: 2.3006\n",
      "2024-11-20 21:03:31.985205 Batch 1 \n",
      "[Val] Accuracy: 10.0%, loss per batch: 2.3026\n",
      "2024-11-20 21:03:35.002479 Epoch 2 \n",
      "2024-11-20 21:03:42.194661 Batch 1 \n",
      "[Train] Accuracy: 40.0%, Loss per batch: 2.0571\n",
      "2024-11-20 21:03:54.508004 Batch 1 \n",
      "[Val] Accuracy: 10.0%, loss per batch: 2.3027\n",
      "2024-11-20 21:03:57.794698 Epoch 3 \n",
      "2024-11-20 21:04:04.667948 Batch 1 \n",
      "[Train] Accuracy: 76.6667%, Loss per batch: 1.8533\n",
      "2024-11-20 21:04:16.021233 Batch 1 \n",
      "[Val] Accuracy: 10.0%, loss per batch: 2.3029\n",
      "2024-11-20 21:04:19.209112 Epoch 4 \n",
      "2024-11-20 21:04:26.609973 Batch 1 \n",
      "[Train] Accuracy: 86.6667%, Loss per batch: 1.5991\n",
      "2024-11-20 21:04:39.518533 Batch 1 \n",
      "[Val] Accuracy: 10.0%, loss per batch: 2.3035\n",
      "2024-11-20 21:04:42.690746 Epoch 5 \n",
      "2024-11-20 21:04:50.500902 Batch 1 \n",
      "[Train] Accuracy: 93.3333%, Loss per batch: 1.3299\n",
      "2024-11-20 21:05:03.106687 Batch 1 \n",
      "[Val] Accuracy: 10.0%, loss per batch: 2.3052\n",
      "2024-11-20 21:05:06.335841 Epoch 6 \n",
      "2024-11-20 21:05:15.201049 Batch 1 \n",
      "[Train] Accuracy: 93.3333%, Loss per batch: 1.0477\n",
      "2024-11-20 21:05:28.349762 Batch 1 \n",
      "[Val] Accuracy: 10.0%, loss per batch: 2.3089\n",
      "2024-11-20 21:05:31.464507 Epoch 7 \n",
      "2024-11-20 21:05:39.018348 Batch 1 \n",
      "[Train] Accuracy: 90.0%, Loss per batch: 0.8026\n",
      "2024-11-20 21:05:52.418243 Batch 1 \n",
      "[Val] Accuracy: 10.0%, loss per batch: 2.3163\n",
      "2024-11-20 21:05:55.505424 Epoch 8 \n",
      "2024-11-20 21:06:02.835955 Batch 1 \n",
      "[Train] Accuracy: 93.3333%, Loss per batch: 0.5466\n",
      "2024-11-20 21:06:14.548962 Batch 1 \n",
      "[Val] Accuracy: 10.0%, loss per batch: 2.3296\n",
      "2024-11-20 21:06:17.730974 Epoch 9 \n",
      "2024-11-20 21:06:24.930459 Batch 1 \n",
      "[Train] Accuracy: 100.0%, Loss per batch: 0.3445\n",
      "2024-11-20 21:06:45.651570 Batch 1 \n",
      "[Val] Accuracy: 10.0%, loss per batch: 2.3512\n",
      "2024-11-20 21:06:49.195629 Epoch 10 \n",
      "2024-11-20 21:06:56.646039 Batch 1 \n",
      "[Train] Accuracy: 100.0%, Loss per batch: 0.1892\n",
      "2024-11-20 21:07:09.997790 Batch 1 \n",
      "[Val] Accuracy: 10.0%, loss per batch: 2.3848\n"
     ]
    }
   ],
   "source": [
    "history, gradient_stats, prof = train(epochs, train_loader, val_loader, model, optimizer, loss_fn, prof, model_path = '../log/darknet19/training/models/')"
   ]
  },
  {
   "cell_type": "code",
   "execution_count": 31,
   "id": "fa05f1c3-29c2-4e09-aa9d-a35ea4057234",
   "metadata": {},
   "outputs": [
    {
     "name": "stdout",
     "output_type": "stream",
     "text": [
      "-------------------------------------------------------  ------------  ------------  ------------  ------------  ------------  ------------  ------------  ------------  ------------  \n",
      "                                                   Name    Self CPU %      Self CPU   CPU total %     CPU total  CPU time avg       CPU Mem  Self CPU Mem    # of Calls  Total MFLOPs  \n",
      "-------------------------------------------------------  ------------  ------------  ------------  ------------  ------------  ------------  ------------  ------------  ------------  \n",
      "                                          ProfilerStep*         0.63%        1.383s       100.00%      218.369s       24.263s      73.62 Mb      -1.99 Gb             9            --  \n",
      "                                          Training Loop         0.02%      50.267ms        51.74%      112.981s       12.553s      73.60 Mb    -155.05 Mb             9            --  \n",
      "                     Validation Loop Before Data Loader         4.08%        8.913s        96.85%      211.499s       11.750s     383.71 Mb      -4.43 Kb            18            --  \n",
      "                                            aten::empty         0.03%      59.259ms         0.03%      59.259ms       6.462us      30.12 Gb      30.12 Gb          9171            --  \n",
      "                                          aten::random_         0.00%     512.700us         0.00%     512.700us      18.989us           0 b           0 b            27            --  \n",
      "                                             aten::item         0.00%       5.105ms         0.00%       5.919ms       5.622us           0 b           0 b          1053            --  \n",
      "                              aten::_local_scalar_dense         0.00%     814.900us         0.00%     814.900us       0.774us           0 b           0 b          1053            --  \n",
      "                                         aten::randperm         0.00%     560.400us         0.00%       5.104ms     141.781us       4.22 Kb        -144 b            36            --  \n",
      "                                    aten::scalar_tensor         0.00%      67.800us         0.00%      67.800us       3.767us         144 b         144 b            18            --  \n",
      "                                          aten::resize_         0.00%       1.785ms         0.00%       1.785ms       2.511us           0 b           0 b           711            --  \n",
      "                                     aten::resolve_conj         0.00%     464.800us         0.00%     464.800us       0.117us           0 b           0 b          3978            --  \n",
      "                                      aten::resolve_neg         0.00%     453.100us         0.00%     453.100us       0.114us           0 b           0 b          3978            --  \n",
      "enumerate(DataLoader)#_MultiProcessingDataLoaderIter...        70.59%      154.149s        70.59%      154.149s        4.282s     310.08 Mb     310.08 Mb            36            --  \n",
      "                                             aten::set_         0.00%     237.300us         0.00%     237.300us       6.592us           0 b           0 b            36            --  \n",
      "                        Training Loop After Data Loader         0.00%       9.019ms        16.13%       35.225s        3.914s      73.62 Mb      -1.39 Kb             9            --  \n",
      "                                        Batch inference         0.01%      18.437ms         6.54%       14.283s        1.587s      15.97 Gb           0 b             9            --  \n",
      "                                             Conv block         0.15%     325.226ms        10.07%       21.991s      67.874ms      18.17 Gb      -9.08 Gb           324            --  \n",
      "                                           aten::conv2d         0.00%       5.004ms         7.76%       16.950s      49.560ms       9.09 Gb           0 b           342   2960620.831  \n",
      "                                      aten::convolution         0.00%       9.608ms         7.76%       16.945s      49.546ms       9.09 Gb           0 b           342            --  \n",
      "                                     aten::_convolution         0.00%       7.317ms         7.76%       16.935s      49.517ms       9.09 Gb           0 b           342            --  \n",
      "                               aten::mkldnn_convolution         7.74%       16.901s         7.75%       16.928s      49.496ms       9.09 Gb           0 b           342            --  \n",
      "                                      aten::as_strided_         0.00%       9.533ms         0.00%       9.533ms      12.761us           0 b           0 b           747            --  \n",
      "                                             aten::add_         0.09%     205.905ms         0.09%     205.905ms     178.737us           0 b           0 b          1152            --  \n",
      "                                       aten::batch_norm         0.00%       3.506ms         1.46%        3.179s       9.811ms       9.08 Gb           0 b           324            --  \n",
      "                           aten::_batch_norm_impl_index         0.00%       6.511ms         1.45%        3.175s       9.800ms       9.08 Gb           0 b           324            --  \n",
      "                                aten::native_batch_norm         1.44%        3.152s         1.45%        3.168s       9.777ms       9.08 Gb      -1.48 Mb           324            --  \n",
      "                                       aten::empty_like         0.00%       4.914ms         0.01%      16.936ms      25.778us      18.17 Gb           0 b           657            --  \n",
      "                                       aten::leaky_relu         0.72%        1.567s         0.72%        1.567s       4.838ms       9.08 Gb       9.08 Gb           324            --  \n",
      "                                            Max pooling         0.01%      25.002ms         2.48%        5.405s      60.058ms           0 b      -3.13 Gb            90            --  \n",
      "                                       aten::max_pool2d         0.14%     307.993ms         2.46%        5.380s      59.780ms       3.13 Gb      -1.56 Gb            90            --  \n",
      "                          aten::max_pool2d_with_indices         2.32%        5.072s         2.32%        5.072s      56.358ms       4.69 Gb       4.69 Gb            90            --  \n",
      "                                             ClassifyV2         0.00%       4.627ms         0.02%      47.147ms       2.619ms      21.09 Kb           0 b            18            --  \n",
      "                               Adaptive Average Pooling         0.00%       3.264ms         0.00%       5.523ms     306.817us   -1012.50 Kb      -1.01 Mb            18            --  \n",
      "                              aten::adaptive_avg_pool2d         0.00%     130.900us         0.00%       2.259ms     125.489us      21.09 Kb           0 b            18            --  \n",
      "                                             aten::mean         0.03%      55.084ms         0.15%     329.617ms     164.974us      28.83 Kb      27.15 Kb          1998            --  \n",
      "                                              aten::sum         0.08%     185.120ms         0.09%     201.811ms     100.105us         144 b     -12.52 Kb          2016            --  \n",
      "                                            aten::fill_         0.23%     499.512ms         0.23%     499.512ms     123.336us           0 b           0 b          4050            --  \n",
      "                                             aten::div_         0.01%      26.229ms         0.03%      73.722ms      36.898us       1.68 Kb      -6.12 Kb          1998            --  \n",
      "                                               aten::to         0.00%      10.185ms         0.03%      59.685ms       9.211us      13.99 Kb           0 b          6480            --  \n",
      "                                         aten::_to_copy         0.01%      26.792ms         0.02%      49.500ms      19.643us      13.99 Kb           0 b          2520            --  \n",
      "                                    aten::empty_strided         0.04%      89.734ms         0.04%      89.734ms      25.500us       1.33 Gb       1.33 Gb          3519            --  \n",
      "                                            aten::copy_         0.10%     216.342ms         0.10%     216.342ms      53.418us           0 b           0 b          4050            --  \n",
      "                                                Flatten         0.00%       1.123ms         0.00%       1.468ms      81.578us           0 b           0 b            18            --  \n",
      "                                          aten::flatten         0.00%       1.549ms         0.00%       3.212ms       6.261us           0 b           0 b           513            --  \n",
      "                                             aten::view         0.00%       1.710ms         0.00%       1.710ms       8.636us           0 b           0 b           198            --  \n",
      "                                            Log Softmax         0.00%       1.486ms         0.00%       1.977ms     109.833us           0 b     -21.09 Kb            18            --  \n",
      "                                      aten::log_softmax         0.00%     106.500us         0.00%     491.500us      27.306us      21.09 Kb           0 b            18            --  \n",
      "                                     aten::_log_softmax         0.00%     385.000us         0.00%     385.000us      21.389us      21.09 Kb      21.09 Kb            18            --  \n",
      "                                           Loss Forward         0.00%     827.700us         0.00%       1.079ms     119.911us          72 b           0 b             9            --  \n",
      "                                      aten::nll_loss_nd         0.00%     113.100us         0.00%     474.700us      26.372us         108 b           0 b            18            --  \n",
      "                                         aten::nll_loss         0.00%     129.000us         0.00%     361.600us      20.089us         108 b         -36 b            18            --  \n",
      "                                 aten::nll_loss_forward         0.00%     232.600us         0.00%     232.600us      12.922us         144 b         144 b            18            --  \n",
      "                      Optimizer.zero_grad#SGD.zero_grad         0.00%       1.656ms         0.00%       1.656ms     183.978us    -607.12 Mb    -607.12 Mb             9            --  \n",
      "                                          Loss Backward         0.01%      26.657ms         9.36%       20.450s        2.272s     -15.31 Gb         -36 b             9            --  \n",
      "                                        aten::ones_like         0.00%      81.600us         0.00%     181.900us      20.211us          36 b           0 b             9            --  \n",
      "autograd::engine::evaluate_function: NllLossBackward...         0.00%      90.900us         0.00%     502.600us      55.844us      10.51 Kb         -36 b             9            --  \n",
      "                                       NllLossBackward0         0.00%      88.900us         0.00%     411.700us      45.744us      10.55 Kb           0 b             9            --  \n",
      "                                aten::nll_loss_backward         0.00%     316.100us         0.00%     322.800us      35.867us      10.55 Kb      10.55 Kb             9            --  \n",
      "                                            aten::zero_         0.00%     516.300us         0.23%     498.447ms       9.231ms           0 b           0 b            54            --  \n",
      "autograd::engine::evaluate_function: LogSoftmaxBackw...         0.00%      56.100us         0.00%     266.900us      29.656us           0 b     -10.55 Kb             9            --  \n",
      "                                    LogSoftmaxBackward0         0.00%      79.100us         0.00%     210.800us      23.422us      10.55 Kb           0 b             9            --  \n",
      "                       aten::_log_softmax_backward_data         0.00%     131.700us         0.00%     131.700us      14.633us      10.55 Kb      10.55 Kb             9            --  \n",
      "     autograd::engine::evaluate_function: ViewBackward0         0.00%      43.800us         0.00%     195.100us      21.678us           0 b           0 b             9            --  \n",
      "                                          ViewBackward0         0.00%      60.600us         0.00%     151.300us      16.811us           0 b           0 b             9            --  \n",
      "                                          aten::reshape         0.00%      43.700us         0.00%      90.700us      10.078us           0 b           0 b             9            --  \n",
      "     autograd::engine::evaluate_function: MeanBackward1         0.00%      47.800us         0.00%       1.114ms     123.811us     506.25 Kb     -10.55 Kb             9            --  \n",
      "                                          MeanBackward1         0.00%     369.800us         0.00%       1.067ms     118.500us     516.80 Kb           0 b             9            --  \n",
      "                                           aten::expand         0.00%     101.800us         0.00%     128.500us      14.278us           0 b           0 b             9            --  \n",
      "                                       aten::as_strided         0.00%       4.291ms         0.00%       4.291ms       1.052us           0 b           0 b          4077            --  \n",
      "                                              aten::div         0.00%     383.500us         0.00%     568.200us      63.133us     516.80 Kb     516.76 Kb             9            --  \n",
      "autograd::engine::evaluate_function: ConvolutionBack...         0.02%      45.043ms         7.74%       16.895s      98.799ms      -3.88 Gb      -6.74 Gb           171            --  \n",
      "                                   ConvolutionBackward0         0.00%       3.187ms         7.72%       16.850s      98.535ms       2.86 Gb           0 b           171            --  \n",
      "                             aten::convolution_backward         7.71%       16.836s         7.71%       16.846s      98.517ms       2.86 Gb           0 b           171            --  \n",
      "autograd::engine::evaluate_function: torch::autograd...         0.00%       4.361ms         0.01%      14.018ms      28.319us           0 b           0 b           495            --  \n",
      "                        torch::autograd::AccumulateGrad         0.00%       4.116ms         0.00%       9.657ms      19.508us           0 b           0 b           495            --  \n",
      "                                           aten::detach         0.01%      12.869ms         0.01%      21.552ms       4.838us           0 b           0 b          4455            --  \n",
      "                                                 detach         0.00%       8.683ms         0.00%       8.683ms       1.949us           0 b           0 b          4455            --  \n",
      "autograd::engine::evaluate_function: LeakyReluBackwa...         0.03%      56.444ms         0.42%     918.786ms       5.672ms      -4.54 Gb      -9.08 Gb           162            --  \n",
      "                                     LeakyReluBackward0         0.00%       2.468ms         0.39%     862.342ms       5.323ms       4.54 Gb           0 b           162            --  \n",
      "                              aten::leaky_relu_backward         0.39%     859.874ms         0.39%     859.874ms       5.308ms       4.54 Gb       4.54 Gb           162            --  \n",
      "autograd::engine::evaluate_function: NativeBatchNorm...         0.11%     233.685ms         0.66%        1.441s       8.894ms      -4.54 Gb      -9.08 Gb           162            --  \n",
      "                               NativeBatchNormBackward0         0.00%       4.084ms         0.55%        1.207s       7.452ms       4.54 Gb           0 b           162            --  \n",
      "                       aten::native_batch_norm_backward         0.55%        1.197s         0.55%        1.203s       7.427ms       4.54 Gb      -4.54 Gb           162            --  \n",
      "autograd::engine::evaluate_function: MaxPool2DWithIn...         0.05%      98.407ms         0.53%        1.152s      25.610ms      -2.35 Gb      -5.48 Gb            45            --  \n",
      "                          MaxPool2DWithIndicesBackward0         0.00%       1.280ms         0.48%        1.054s      23.423ms       3.13 Gb           0 b            45            --  \n",
      "                 aten::max_pool2d_with_indices_backward         0.25%     554.335ms         0.48%        1.053s      23.395ms       3.13 Gb       3.13 Gb            45            --  \n",
      "                                         Optimizer Step         0.00%       1.280ms         0.22%     477.190ms      53.021ms           0 b           0 b             9            --  \n",
      "                                Optimizer.step#SGD.step         0.02%      36.946ms         0.22%     475.909ms      52.879ms           0 b    -680.73 Mb             9            --  \n",
      "                                              aten::add         0.07%     150.984ms         0.07%     150.984ms     305.019us     680.73 Mb     680.73 Mb           495       178.449  \n",
      "                                             aten::mul_         0.03%      74.755ms         0.04%      85.548ms     172.823us           0 b      -1.93 Kb           495            --  \n",
      "                                              aten::max         0.02%      32.894ms         0.02%      35.231ms      68.676us       8.26 Kb       6.33 Kb           513            --  \n",
      "                                       aten::unsqueeze_         0.00%     533.400us         0.00%     749.300us      20.814us           0 b           0 b            36            --  \n",
      "                                         aten::squeeze_         0.00%     255.600us         0.00%     328.200us       9.117us           0 b           0 b            36            --  \n",
      "                                               aten::eq         0.00%     191.400us         0.00%     191.400us      10.633us         540 b         540 b            18            --  \n",
      "                                        Validation Loop         0.02%      45.832ms        45.16%       98.614s       10.957s           0 b    -155.05 Mb             9            --  \n",
      "                      Validation Loop After Data Loader         0.00%       7.160ms         6.05%       13.205s        1.467s      12.66 Kb      -1.42 Kb             9            --  \n",
      "                                        Batch Inference         0.01%      17.964ms         6.04%       13.196s        1.466s      10.55 Kb      -2.20 Gb             9            --  \n",
      "                                           aten::median         1.92%        4.187s         2.05%        4.479s       4.524ms       3.87 Kb      -1.33 Gb           990            --  \n",
      "                                            aten::clone         0.00%       8.509ms         0.13%     289.281ms     292.203us       1.33 Gb           0 b           990            --  \n",
      "                                              aten::std         0.10%     208.224ms         0.18%     402.910ms     406.980us       3.87 Kb           0 b           990            --  \n",
      "                                              aten::min         0.01%      27.054ms         0.01%      28.144ms      56.856us       1.93 Kb           0 b           495            --  \n",
      "                                              aten::abs         0.13%     285.112ms         0.26%     559.336ms     188.329us       3.99 Gb       1.99 Gb          2970            --  \n",
      "                                        aten::unsqueeze         0.00%       3.638ms         0.00%       4.067ms       7.531us           0 b           0 b           540            --  \n",
      "                                           aten::select         0.00%       4.907ms         0.00%       5.428ms      10.052us           0 b           0 b           540            --  \n",
      "-------------------------------------------------------  ------------  ------------  ------------  ------------  ------------  ------------  ------------  ------------  ------------  \n",
      "Self CPU time total: 218.369s\n",
      "\n"
     ]
    }
   ],
   "source": [
    "print(prof.key_averages().table(row_limit=-1))"
   ]
  },
  {
   "cell_type": "code",
   "execution_count": 32,
   "id": "94813a5e-7688-415c-b928-8b7b61b8e6c4",
   "metadata": {},
   "outputs": [],
   "source": [
    "save_train_outputs('../log/darknet19/training', history, gradient_stats)"
   ]
  },
  {
   "cell_type": "code",
   "execution_count": null,
   "id": "3fc2884d-91a9-4aec-b3d1-80db0f950875",
   "metadata": {},
   "outputs": [],
   "source": []
  }
 ],
 "metadata": {
  "kernelspec": {
   "display_name": "Python 3 (ipykernel)",
   "language": "python",
   "name": "python3"
  },
  "language_info": {
   "codemirror_mode": {
    "name": "ipython",
    "version": 3
   },
   "file_extension": ".py",
   "mimetype": "text/x-python",
   "name": "python",
   "nbconvert_exporter": "python",
   "pygments_lexer": "ipython3",
   "version": "3.12.6"
  }
 },
 "nbformat": 4,
 "nbformat_minor": 5
}
