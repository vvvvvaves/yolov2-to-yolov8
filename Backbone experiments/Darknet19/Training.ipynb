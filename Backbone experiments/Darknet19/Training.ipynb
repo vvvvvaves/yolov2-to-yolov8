{
 "cells": [
  {
   "cell_type": "code",
   "execution_count": 1,
   "id": "a5258e5c-2fd1-45d6-bf25-96674d504f91",
   "metadata": {},
   "outputs": [],
   "source": [
    "import torch\n",
    "import torch.nn as nn\n",
    "from torchvision import transforms\n",
    "from torch.utils.data import DataLoader\n",
    "from torch import optim"
   ]
  },
  {
   "cell_type": "code",
   "execution_count": 2,
   "id": "c9deb7c5-1256-4fdd-b447-69f25786c0e8",
   "metadata": {},
   "outputs": [],
   "source": [
    "import sys\n",
    "sys.path.insert(1, \"../../\")"
   ]
  },
  {
   "cell_type": "code",
   "execution_count": 3,
   "id": "43b63379-9363-448e-b927-2231dbb097b1",
   "metadata": {},
   "outputs": [],
   "source": [
    "from train import *\n",
    "from data_preprocessing import *\n",
    "from Models.darknet19 import *"
   ]
  },
  {
   "cell_type": "code",
   "execution_count": 4,
   "id": "cbdae16b-4251-46a6-865b-bfa81a9a5ea1",
   "metadata": {},
   "outputs": [],
   "source": [
    "if torch.cuda.is_available():\n",
    "    device=torch.device('cuda')\n",
    "else:\n",
    "    device=torch.device('cpu') "
   ]
  },
  {
   "cell_type": "code",
   "execution_count": 5,
   "id": "f9a44f5d-8396-4654-b118-82473d81ca3c",
   "metadata": {},
   "outputs": [],
   "source": [
    "model = Darknet19(num_classes=10, device=device, dtype=torch.float32)"
   ]
  },
  {
   "cell_type": "code",
   "execution_count": 6,
   "id": "ae3c5dd0-ac5d-4cbb-8463-d9ebe0621f3c",
   "metadata": {},
   "outputs": [],
   "source": [
    "data_path = '../../../dummy_datasets/'\n",
    "norms_path = os.path.join(data_path, 'norms.json')"
   ]
  },
  {
   "cell_type": "code",
   "execution_count": 7,
   "id": "e608e517-6da7-41c7-b62d-81cca6aecf54",
   "metadata": {},
   "outputs": [
    {
     "name": "stdout",
     "output_type": "stream",
     "text": [
      "Means are: [0.4405549168586731, 0.4407285749912262, 0.4381718039512634]\n",
      "stds are: [0.25142669677734375, 0.25270089507102966, 0.25131651759147644]\n"
     ]
    }
   ],
   "source": [
    "means = get_means(path=norms_path, train_loader=None)\n",
    "stds = get_stds(path=norms_path, train_loader=None)"
   ]
  },
  {
   "cell_type": "code",
   "execution_count": 8,
   "id": "840c3bfd-3f57-4508-9834-fd0c87b7532a",
   "metadata": {},
   "outputs": [],
   "source": [
    "transformations = transforms.Compose([transforms.ToTensor(),\n",
    "                                      transforms.Resize((224, 224)),\n",
    "                                      transforms.Normalize(mean=means, std=stds)])"
   ]
  },
  {
   "cell_type": "code",
   "execution_count": 9,
   "id": "dfaadddf-3f19-4b50-93b4-98cf177980fb",
   "metadata": {},
   "outputs": [],
   "source": [
    "train_dataset = ImageNetSubset(path=data_path, train=True, transform=transformations, half=False, show=False)\n",
    "val_dataset = ImageNetSubset(path=data_path, train=False, transform=transformations, half=False, show=False)"
   ]
  },
  {
   "cell_type": "code",
   "execution_count": 10,
   "id": "a5d356b0-68a7-44f8-bf1b-397f7889dfb9",
   "metadata": {},
   "outputs": [],
   "source": [
    "epochs=3\n",
    "train_loader = DataLoader(train_dataset, batch_size=256, shuffle=True, num_workers=4)\n",
    "val_loader = DataLoader(val_dataset, batch_size=256, shuffle=False, num_workers=4)"
   ]
  },
  {
   "cell_type": "code",
   "execution_count": 11,
   "id": "53e72a95-3140-4c39-afd7-e64d63bd5940",
   "metadata": {},
   "outputs": [],
   "source": [
    "optimizer = optim.SGD(model.parameters(), lr=0.001, momentum=0.9, weight_decay=0.0001)"
   ]
  },
  {
   "cell_type": "code",
   "execution_count": 12,
   "id": "85cc427f-08e2-43c3-a496-6f1c967a2325",
   "metadata": {},
   "outputs": [],
   "source": [
    "loss_fn = nn.NLLLoss()"
   ]
  },
  {
   "cell_type": "code",
   "execution_count": 13,
   "id": "d9efeae0-85c6-42a3-9006-f1f7de738641",
   "metadata": {},
   "outputs": [],
   "source": [
    "prof = torch.profiler.profile(\n",
    "        schedule=torch.profiler.schedule(wait=1, warmup=1, active=epochs-2, repeat=1),\n",
    "        on_trace_ready=torch.profiler.tensorboard_trace_handler('../log/darknet19/training'),\n",
    "        record_shapes=True,\n",
    "        profile_memory=True,\n",
    "        with_flops=True,\n",
    "        with_modules=True,\n",
    "        with_stack=True)"
   ]
  },
  {
   "cell_type": "markdown",
   "id": "d9c4a012-f83a-495c-929b-939db6549642",
   "metadata": {},
   "source": [
    "\n",
    "Profiling your personal module \n",
    "https://pytorch.org/tutorials/beginner/profiler.html"
   ]
  },
  {
   "cell_type": "code",
   "execution_count": 14,
   "id": "a40a8174-7e18-43aa-83fd-41a98bf6ea0b",
   "metadata": {},
   "outputs": [
    {
     "name": "stdout",
     "output_type": "stream",
     "text": [
      "2024-11-17 19:12:05.175882 Epoch 1 \n",
      "2024-11-17 19:12:12.532035 Batch 1 \n",
      "[Train] Accuracy: 10.0%, Loss per batch: 2.3185\n",
      "2024-11-17 19:12:23.919938 Batch 1 \n",
      "[Val] Accuracy: 10.0%, loss per batch: 2.3026\n",
      "2024-11-17 19:12:26.459002 Epoch 2 \n",
      "2024-11-17 19:12:33.434262 Batch 1 \n",
      "[Train] Accuracy: 16.6667%, Loss per batch: 2.2335\n",
      "2024-11-17 19:12:46.145728 Batch 1 \n",
      "[Val] Accuracy: 10.0%, loss per batch: 2.3027\n",
      "2024-11-17 19:12:49.820462 Epoch 3 \n",
      "2024-11-17 19:12:57.171974 Batch 1 \n",
      "[Train] Accuracy: 36.6667%, Loss per batch: 2.1183\n",
      "2024-11-17 19:13:08.865044 Batch 1 \n",
      "[Val] Accuracy: 10.0%, loss per batch: 2.3028\n"
     ]
    }
   ],
   "source": [
    "history, gradient_stats, prof = train(epochs, train_loader, val_loader, model, optimizer, loss_fn, prof)"
   ]
  },
  {
   "cell_type": "code",
   "execution_count": 15,
   "id": "fa05f1c3-29c2-4e09-aa9d-a35ea4057234",
   "metadata": {},
   "outputs": [
    {
     "name": "stdout",
     "output_type": "stream",
     "text": [
      "-------------------------------------------------------  ------------  ------------  ------------  ------------  ------------  ------------  ------------  ------------  ------------  \n",
      "                                                   Name    Self CPU %      Self CPU   CPU total %     CPU total  CPU time avg       CPU Mem  Self CPU Mem    # of Calls  Total MFLOPs  \n",
      "-------------------------------------------------------  ------------  ------------  ------------  ------------  ------------  ------------  ------------  ------------  ------------  \n",
      "                                          ProfilerStep*         0.08%      16.922ms       100.00%       22.277s       22.277s      75.64 Mb           0 b             1            --  \n",
      "                                          Training Loop         0.02%       3.935ms        50.86%       11.331s       11.331s      75.64 Mb     -17.23 Mb             1            --  \n",
      "                     Validation Loop Before Data Loader         3.28%     731.327ms        98.54%       21.951s       10.975s     110.09 Mb        -504 b             2            --  \n",
      "                                            aten::empty         0.03%       6.535ms         0.03%       6.535ms      10.819us       3.35 Gb       3.35 Gb           604            --  \n",
      "                                          aten::random_         0.00%      51.300us         0.00%      51.300us      17.100us           0 b           0 b             3            --  \n",
      "                                             aten::item         0.00%     227.500us         0.00%     285.700us       4.608us           0 b           0 b            62            --  \n",
      "                              aten::_local_scalar_dense         0.00%      58.200us         0.00%      58.200us       0.939us           0 b           0 b            62            --  \n",
      "                                         aten::randperm         0.00%      43.400us         0.00%      85.800us      21.450us         480 b         -16 b             4            --  \n",
      "                                    aten::scalar_tensor         0.00%       5.100us         0.00%       5.100us       2.550us          16 b          16 b             2            --  \n",
      "                                          aten::resize_         0.00%     167.900us         0.00%     167.900us       2.125us           0 b           0 b            79            --  \n",
      "                                     aten::resolve_conj         0.00%      19.100us         0.00%      19.100us       0.114us           0 b           0 b           167            --  \n",
      "                                      aten::resolve_neg         0.00%      18.500us         0.00%      18.500us       0.111us           0 b           0 b           167            --  \n",
      "enumerate(DataLoader)#_MultiProcessingDataLoaderIter...        74.15%       16.518s        74.15%       16.518s        4.130s      34.45 Mb      34.45 Mb             4            --  \n",
      "                                             aten::set_         0.00%      28.800us         0.00%      28.800us       7.200us           0 b           0 b             4            --  \n",
      "                        Training Loop After Data Loader         0.00%     707.300us        15.18%        3.382s        3.382s      75.64 Mb        -158 b             1            --  \n",
      "                                        Batch inference         0.01%       2.435ms         6.47%        1.440s        1.440s       1.77 Gb           0 b             1            --  \n",
      "                                             Conv block         0.08%      17.884ms         9.80%        2.183s      60.633ms       2.02 Gb      -1.01 Gb            36            --  \n",
      "                                           aten::conv2d         0.00%     395.700us         7.46%        1.661s      43.722ms       1.01 Gb           0 b            38    328957.870  \n",
      "                                      aten::convolution         0.00%     933.800us         7.46%        1.661s      43.712ms       1.01 Gb           0 b            38            --  \n",
      "                                     aten::_convolution         0.00%     750.400us         7.45%        1.660s      43.687ms       1.01 Gb           0 b            38            --  \n",
      "                               aten::mkldnn_convolution         7.44%        1.657s         7.45%        1.659s      43.667ms       1.01 Gb           0 b            38            --  \n",
      "                                      aten::as_strided_         0.00%     594.700us         0.00%     594.700us       7.165us           0 b           0 b            83            --  \n",
      "                                             aten::add_         0.08%      18.268ms         0.08%      18.268ms     142.717us           0 b           0 b           128            --  \n",
      "                                       aten::batch_norm         0.00%     283.300us         1.47%     327.067ms       9.085ms       1.01 Gb           0 b            36            --  \n",
      "                           aten::_batch_norm_impl_index         0.00%     654.100us         1.47%     326.783ms       9.077ms       1.01 Gb           0 b            36            --  \n",
      "                                aten::native_batch_norm         1.46%     324.625ms         1.46%     326.020ms       9.056ms       1.01 Gb    -168.75 Kb            36            --  \n",
      "                                       aten::empty_like         0.00%     390.600us         0.02%       3.573ms      48.941us       2.02 Gb           0 b            73            --  \n",
      "                                       aten::leaky_relu         0.81%     179.524ms         0.81%     179.524ms       4.987ms       1.01 Gb       1.01 Gb            36            --  \n",
      "                                            Max pooling         0.01%       2.511ms         2.54%     566.423ms      56.642ms           0 b    -356.02 Mb            10            --  \n",
      "                                       aten::max_pool2d         0.11%      23.496ms         2.53%     563.912ms      56.391ms     356.02 Mb    -178.01 Mb            10            --  \n",
      "                          aten::max_pool2d_with_indices         2.43%     540.416ms         2.43%     540.416ms      54.042ms     534.02 Mb     534.02 Mb            10            --  \n",
      "                               Adaptive Average Pooling         0.00%     324.400us         0.00%     556.400us     278.200us    -112.50 Kb    -114.84 Kb             2            --  \n",
      "                              aten::adaptive_avg_pool2d         0.00%      15.100us         0.00%     232.000us     116.000us       2.34 Kb           0 b             2            --  \n",
      "                                             aten::mean         0.01%       2.353ms         0.07%      16.387ms     146.312us       2.77 Kb       2.66 Kb           112            --  \n",
      "                                              aten::sum         0.04%       8.991ms         0.04%       9.871ms      86.588us          16 b        -944 b           114            --  \n",
      "                                            aten::fill_         0.25%      55.625ms         0.25%      55.625ms     317.855us           0 b           0 b           175            --  \n",
      "                                             aten::div_         0.01%       2.338ms         0.02%       4.241ms      37.868us         120 b        -328 b           112            --  \n",
      "                                               aten::to         0.00%     618.200us         0.01%       2.769ms       8.266us       1.12 Kb           0 b           335            --  \n",
      "                                         aten::_to_copy         0.01%       1.387ms         0.01%       2.151ms      12.652us       1.12 Kb           0 b           170            --  \n",
      "                                    aten::empty_strided         0.00%     637.600us         0.00%     637.600us       2.821us      75.64 Mb      75.64 Mb           226            --  \n",
      "                                            aten::copy_         0.06%      13.658ms         0.06%      13.658ms      53.559us           0 b           0 b           255            --  \n",
      "                                                Flatten         0.00%     109.700us         0.00%     150.100us      75.050us           0 b           0 b             2            --  \n",
      "                                          aten::flatten         0.00%     171.200us         0.00%     408.000us       7.158us           0 b           0 b            57            --  \n",
      "                                             aten::view         0.00%     241.900us         0.00%     241.900us      10.995us           0 b           0 b            22            --  \n",
      "                                            Log Softmax         0.00%     154.000us         0.00%     214.800us     107.400us           0 b      -2.34 Kb             2            --  \n",
      "                                      aten::log_softmax         0.00%      10.300us         0.00%      60.800us      30.400us       2.34 Kb           0 b             2            --  \n",
      "                                     aten::_log_softmax         0.00%      50.500us         0.00%      50.500us      25.250us       2.34 Kb       2.34 Kb             2            --  \n",
      "                                           Loss Forward         0.00%      83.200us         0.00%     111.000us     111.000us           8 b           0 b             1            --  \n",
      "                                      aten::nll_loss_nd         0.00%       9.900us         0.00%      46.400us      23.200us          12 b           0 b             2            --  \n",
      "                                         aten::nll_loss         0.00%      14.000us         0.00%      36.500us      18.250us          12 b          -4 b             2            --  \n",
      "                                 aten::nll_loss_forward         0.00%      22.500us         0.00%      22.500us      11.250us          16 b          16 b             2            --  \n",
      "                      Optimizer.zero_grad#SGD.zero_grad         0.00%     442.300us         0.00%     442.300us     442.300us           0 b           0 b             1            --  \n",
      "                                          Loss Backward         0.01%       3.206ms         8.51%        1.896s        1.896s      -1.70 Gb          -4 b             1            --  \n",
      "                                        aten::ones_like         0.00%       7.600us         0.00%      18.300us      18.300us           4 b           0 b             1            --  \n",
      "autograd::engine::evaluate_function: NllLossBackward...         0.00%      11.700us         0.00%      55.500us      55.500us       1.17 Kb          -4 b             1            --  \n",
      "                                       NllLossBackward0         0.00%      14.400us         0.00%      43.800us      43.800us       1.17 Kb           0 b             1            --  \n",
      "                                aten::nll_loss_backward         0.00%      28.300us         0.00%      29.400us      29.400us       1.17 Kb       1.17 Kb             1            --  \n",
      "                                            aten::zero_         0.00%      75.500us         0.25%      55.615ms       9.269ms           0 b           0 b             6            --  \n",
      "autograd::engine::evaluate_function: LogSoftmaxBackw...         0.00%       4.400us         0.00%      28.800us      28.800us           0 b      -1.17 Kb             1            --  \n",
      "                                    LogSoftmaxBackward0         0.00%      11.100us         0.00%      24.400us      24.400us       1.17 Kb           0 b             1            --  \n",
      "                       aten::_log_softmax_backward_data         0.00%      13.300us         0.00%      13.300us      13.300us       1.17 Kb       1.17 Kb             1            --  \n",
      "     autograd::engine::evaluate_function: ViewBackward0         0.00%       3.000us         0.00%      17.600us      17.600us           0 b           0 b             1            --  \n",
      "                                          ViewBackward0         0.00%       6.000us         0.00%      14.600us      14.600us           0 b           0 b             1            --  \n",
      "                                          aten::reshape         0.00%       3.500us         0.00%       8.600us       8.600us           0 b           0 b             1            --  \n",
      "     autograd::engine::evaluate_function: MeanBackward1         0.00%       5.600us         0.00%       1.019ms       1.019ms      56.25 Kb      -1.17 Kb             1            --  \n",
      "                                          MeanBackward1         0.00%      13.300us         0.00%       1.013ms       1.013ms      57.42 Kb           0 b             1            --  \n",
      "                                           aten::expand         0.00%     928.600us         0.00%     935.000us     935.000us           0 b           0 b             1            --  \n",
      "                                       aten::as_strided         0.00%     292.900us         0.00%     292.900us       1.285us           0 b           0 b           228            --  \n",
      "                                              aten::div         0.00%      37.400us         0.00%      64.700us      64.700us      57.42 Kb      57.42 Kb             1            --  \n",
      "autograd::engine::evaluate_function: ConvolutionBack...         0.00%     649.400us         6.81%        1.516s      79.788ms    -441.27 Mb    -766.64 Mb            19            --  \n",
      "                                   ConvolutionBackward0         0.00%     288.700us         6.80%        1.515s      79.754ms     325.37 Mb           0 b            19            --  \n",
      "                             aten::convolution_backward         6.80%        1.514s         6.80%        1.515s      79.739ms     325.37 Mb           0 b            19            --  \n",
      "autograd::engine::evaluate_function: torch::autograd...         0.00%     309.600us         0.01%       1.144ms      20.805us           0 b           0 b            55            --  \n",
      "                        torch::autograd::AccumulateGrad         0.00%     386.300us         0.00%     834.700us      15.176us           0 b           0 b            55            --  \n",
      "                                           aten::detach         0.00%     528.200us         0.00%       1.054ms       4.792us           0 b           0 b           220            --  \n",
      "                                                 detach         0.00%     526.000us         0.00%     526.000us       2.391us           0 b           0 b           220            --  \n",
      "autograd::engine::evaluate_function: LeakyReluBackwa...         0.03%       7.720ms         0.42%      94.188ms       5.233ms    -516.80 Mb      -1.01 Gb            18            --  \n",
      "                                     LeakyReluBackward0         0.00%     241.800us         0.39%      86.469ms       4.804ms     516.80 Mb           0 b            18            --  \n",
      "                              aten::leaky_relu_backward         0.39%      86.227ms         0.39%      86.227ms       4.790ms     516.80 Mb     516.80 Mb            18            --  \n",
      "autograd::engine::evaluate_function: NativeBatchNorm...         0.22%      47.966ms         0.75%     166.069ms       9.226ms    -516.80 Mb      -1.01 Gb            18            --  \n",
      "                               NativeBatchNormBackward0         0.00%     384.600us         0.53%     118.102ms       6.561ms     516.85 Mb           0 b            18            --  \n",
      "                       aten::native_batch_norm_backward         0.52%     115.057ms         0.53%     117.718ms       6.540ms     516.85 Mb    -516.80 Mb            18            --  \n",
      "autograd::engine::evaluate_function: MaxPool2DWithIn...         0.00%     201.900us         0.52%     114.769ms      22.954ms    -267.01 Mb    -623.03 Mb             5            --  \n",
      "                          MaxPool2DWithIndicesBackward0         0.00%      79.700us         0.51%     114.567ms      22.913ms     356.02 Mb           0 b             5            --  \n",
      "                 aten::max_pool2d_with_indices_backward         0.26%      58.874ms         0.51%     114.487ms      22.897ms     356.02 Mb     356.02 Mb             5            --  \n",
      "                                         Optimizer Step         0.00%     134.100us         0.20%      43.927ms      43.927ms           0 b           0 b             1            --  \n",
      "                                Optimizer.step#SGD.step         0.02%       3.800ms         0.20%      43.793ms      43.793ms           0 b     -75.64 Mb             1            --  \n",
      "                                              aten::add         0.06%      14.143ms         0.06%      14.143ms     257.136us      75.64 Mb      75.64 Mb            55        19.828  \n",
      "                                             aten::mul_         0.03%       7.181ms         0.04%       7.956ms     144.651us           0 b        -220 b            55            --  \n",
      "                                              aten::max         0.00%      84.800us         0.00%     426.000us     213.000us         720 b         720 b             2            --  \n",
      "                                       aten::unsqueeze_         0.00%     316.700us         0.00%     324.400us      81.100us           0 b           0 b             4            --  \n",
      "                                         aten::squeeze_         0.00%      14.900us         0.00%      16.800us       4.200us           0 b           0 b             4            --  \n",
      "                                               aten::eq         0.00%      18.800us         0.00%      18.800us       9.400us          60 b          60 b             2            --  \n",
      "                                        Validation Loop         0.02%       3.520ms        47.71%       10.627s       10.627s           0 b     -17.23 Mb             1            --  \n",
      "                      Validation Loop After Data Loader         0.00%     959.100us         5.92%        1.319s        1.319s       1.41 Kb        -162 b             1            --  \n",
      "                                        Batch Inference         0.01%       1.811ms         5.91%        1.318s        1.318s       1.17 Kb    -249.79 Mb             1            --  \n",
      "                                           aten::median         1.16%     259.206ms         1.23%     273.144ms       4.966ms         220 b     -75.64 Mb            55            --  \n",
      "                                            aten::clone         0.00%     420.500us         0.06%      13.794ms     250.795us      75.64 Mb           0 b            55            --  \n",
      "                                              aten::std         0.05%      10.865ms         0.09%      19.009ms     345.613us         220 b           0 b            55            --  \n",
      "                                        aten::unsqueeze         0.00%     162.100us         0.00%     189.500us       6.317us           0 b           0 b            30            --  \n",
      "-------------------------------------------------------  ------------  ------------  ------------  ------------  ------------  ------------  ------------  ------------  ------------  \n",
      "Self CPU time total: 22.277s\n",
      "\n"
     ]
    }
   ],
   "source": [
    "print(prof.key_averages())"
   ]
  },
  {
   "cell_type": "code",
   "execution_count": 16,
   "id": "94813a5e-7688-415c-b928-8b7b61b8e6c4",
   "metadata": {},
   "outputs": [
    {
     "ename": "NameError",
     "evalue": "name 'json' is not defined",
     "output_type": "error",
     "traceback": [
      "\u001b[1;31m---------------------------------------------------------------------------\u001b[0m",
      "\u001b[1;31mNameError\u001b[0m                                 Traceback (most recent call last)",
      "Cell \u001b[1;32mIn[16], line 1\u001b[0m\n\u001b[1;32m----> 1\u001b[0m \u001b[43msave_train_outputs\u001b[49m\u001b[43m(\u001b[49m\u001b[38;5;124;43m'\u001b[39;49m\u001b[38;5;124;43m../log/darknet19/training\u001b[39;49m\u001b[38;5;124;43m'\u001b[39;49m\u001b[43m,\u001b[49m\u001b[43m \u001b[49m\u001b[43mhistory\u001b[49m\u001b[43m,\u001b[49m\u001b[43m \u001b[49m\u001b[43mgradient_stats\u001b[49m\u001b[43m,\u001b[49m\u001b[43m \u001b[49m\u001b[43mprof\u001b[49m\u001b[43m)\u001b[49m\n",
      "File \u001b[1;32mC:\\Me\\PJAIT\\Thesis\\Code\\yolov2-to-yolov8\\Backbone experiments\\Darknet19\\../..\\train.py:26\u001b[0m, in \u001b[0;36msave_train_outputs\u001b[1;34m(path, history, gradient_stats, prof)\u001b[0m\n\u001b[0;32m     21\u001b[0m _dict \u001b[38;5;241m=\u001b[39m {\u001b[38;5;124m'\u001b[39m\u001b[38;5;124mhistory\u001b[39m\u001b[38;5;124m'\u001b[39m: history,\n\u001b[0;32m     22\u001b[0m          \u001b[38;5;124m'\u001b[39m\u001b[38;5;124mgradient_stats\u001b[39m\u001b[38;5;124m'\u001b[39m: gradient_stats,\n\u001b[0;32m     23\u001b[0m          \u001b[38;5;124m'\u001b[39m\u001b[38;5;124mprof\u001b[39m\u001b[38;5;124m'\u001b[39m: prof}\n\u001b[0;32m     25\u001b[0m \u001b[38;5;28;01mwith\u001b[39;00m \u001b[38;5;28mopen\u001b[39m(os\u001b[38;5;241m.\u001b[39mpath\u001b[38;5;241m.\u001b[39mjoin(path, \u001b[38;5;124m'\u001b[39m\u001b[38;5;124mtrain_outputs.json\u001b[39m\u001b[38;5;124m'\u001b[39m), \u001b[38;5;124m'\u001b[39m\u001b[38;5;124mwb\u001b[39m\u001b[38;5;124m'\u001b[39m) \u001b[38;5;28;01mas\u001b[39;00m file:\n\u001b[1;32m---> 26\u001b[0m     \u001b[43mjson\u001b[49m\u001b[38;5;241m.\u001b[39mdump(_dict, file)\n",
      "\u001b[1;31mNameError\u001b[0m: name 'json' is not defined"
     ]
    }
   ],
   "source": [
    "save_train_outputs('../log/darknet19/training', history, gradient_stats, prof)"
   ]
  },
  {
   "cell_type": "code",
   "execution_count": null,
   "id": "e721e698-4fdb-4ce2-9b6c-4b736babb6da",
   "metadata": {},
   "outputs": [],
   "source": []
  }
 ],
 "metadata": {
  "kernelspec": {
   "display_name": "Python 3 (ipykernel)",
   "language": "python",
   "name": "python3"
  },
  "language_info": {
   "codemirror_mode": {
    "name": "ipython",
    "version": 3
   },
   "file_extension": ".py",
   "mimetype": "text/x-python",
   "name": "python",
   "nbconvert_exporter": "python",
   "pygments_lexer": "ipython3",
   "version": "3.12.6"
  }
 },
 "nbformat": 4,
 "nbformat_minor": 5
}
