{
 "cells": [
  {
   "cell_type": "code",
   "execution_count": 1,
   "id": "a5258e5c-2fd1-45d6-bf25-96674d504f91",
   "metadata": {},
   "outputs": [],
   "source": [
    "import torch\n",
    "import torch.nn as nn\n",
    "from torchvision import transforms\n",
    "from torch.utils.data import DataLoader\n",
    "from torch import optim"
   ]
  },
  {
   "cell_type": "code",
   "execution_count": 2,
   "id": "c9deb7c5-1256-4fdd-b447-69f25786c0e8",
   "metadata": {},
   "outputs": [],
   "source": [
    "import sys\n",
    "sys.path.insert(1, \"../../\")"
   ]
  },
  {
   "cell_type": "code",
   "execution_count": 3,
   "id": "43b63379-9363-448e-b927-2231dbb097b1",
   "metadata": {},
   "outputs": [],
   "source": [
    "from train import *\n",
    "from data_preprocessing import *\n",
    "from data_augmentation import *\n",
    "from Models.darknet19 import *\n",
    "import torch.optim.lr_scheduler as lr_scheduler"
   ]
  },
  {
   "cell_type": "code",
   "execution_count": 4,
   "id": "cbdae16b-4251-46a6-865b-bfa81a9a5ea1",
   "metadata": {},
   "outputs": [],
   "source": [
    "if torch.cuda.is_available():\n",
    "    device=torch.device('cuda')\n",
    "else:\n",
    "    device=torch.device('cpu') "
   ]
  },
  {
   "cell_type": "code",
   "execution_count": 5,
   "id": "f9a44f5d-8396-4654-b118-82473d81ca3c",
   "metadata": {},
   "outputs": [],
   "source": [
    "model = Darknet19(num_classes=10, device=device, dtype=torch.float32)"
   ]
  },
  {
   "cell_type": "code",
   "execution_count": 6,
   "id": "ae3c5dd0-ac5d-4cbb-8463-d9ebe0621f3c",
   "metadata": {},
   "outputs": [],
   "source": [
    "data_path = '../../../datasets/imagenette2/'\n",
    "norms_path = os.path.join(data_path, 'norms.json')"
   ]
  },
  {
   "cell_type": "code",
   "execution_count": 7,
   "id": "e608e517-6da7-41c7-b62d-81cca6aecf54",
   "metadata": {},
   "outputs": [
    {
     "name": "stdout",
     "output_type": "stream",
     "text": [
      "Means are: [0.44969913363456726, 0.44868946075439453, 0.45163223147392273]\n",
      "stds are: [0.28648287057876587, 0.28796446323394775, 0.2865694761276245]\n"
     ]
    }
   ],
   "source": [
    "means = get_means(path=norms_path, train_loader=None)\n",
    "stds = get_stds(path=norms_path, train_loader=None)"
   ]
  },
  {
   "cell_type": "code",
   "execution_count": 8,
   "id": "840c3bfd-3f57-4508-9834-fd0c87b7532a",
   "metadata": {},
   "outputs": [],
   "source": [
    "transformations = transforms.Compose([transforms.RandomResizedCrop((224, 224)),\n",
    "                                              Augmentation(),\n",
    "                                              transforms.ToTensor(),\n",
    "                                              transforms.Normalize(mean=means, std=stds)])\n",
    "transformations_val = transforms.Compose([transforms.Resize((224, 224)),\n",
    "                                                 transforms.ToTensor(),\n",
    "                                                 transforms.Normalize(mean=means, std=stds)\n",
    "                                                 ])"
   ]
  },
  {
   "cell_type": "code",
   "execution_count": 9,
   "id": "dfaadddf-3f19-4b50-93b4-98cf177980fb",
   "metadata": {},
   "outputs": [],
   "source": [
    "train_dataset = ImageNetSubset(path=data_path, train=True, transform=transformations, half=False, show=False)\n",
    "val_dataset = ImageNetSubset(path=data_path, train=False, transform=transformations_val, half=False, show=False)"
   ]
  },
  {
   "cell_type": "code",
   "execution_count": 10,
   "id": "a5d356b0-68a7-44f8-bf1b-397f7889dfb9",
   "metadata": {},
   "outputs": [],
   "source": [
    "epochs=10\n",
    "train_loader = DataLoader(train_dataset, batch_size=64, shuffle=True, num_workers=1)\n",
    "val_loader = DataLoader(val_dataset, batch_size=64, shuffle=False, num_workers=1)"
   ]
  },
  {
   "cell_type": "code",
   "execution_count": 11,
   "id": "53e72a95-3140-4c39-afd7-e64d63bd5940",
   "metadata": {},
   "outputs": [],
   "source": [
    "optimizer = optim.SGD(model.parameters(), lr=0.01, momentum=0.9, weight_decay=0.0001)"
   ]
  },
  {
   "cell_type": "code",
   "execution_count": 12,
   "id": "85cc427f-08e2-43c3-a496-6f1c967a2325",
   "metadata": {},
   "outputs": [],
   "source": [
    "loss_fn = nn.NLLLoss()"
   ]
  },
  {
   "cell_type": "code",
   "execution_count": 13,
   "id": "a40a8174-7e18-43aa-83fd-41a98bf6ea0b",
   "metadata": {},
   "outputs": [],
   "source": [
    "scheduler = lr_scheduler.ExponentialLR(optimizer, gamma=0.9)"
   ]
  },
  {
   "cell_type": "code",
   "execution_count": 14,
   "id": "fab25057-2897-45cf-867e-7fc1e4a401d4",
   "metadata": {},
   "outputs": [
    {
     "name": "stdout",
     "output_type": "stream",
     "text": [
      "2024-12-07 15:49:40.183470 Epoch 1 \n",
      "2024-12-07 15:49:50.834510 Batch 15 \n",
      "2024-12-07 15:49:58.022726 Batch 30 \n",
      "2024-12-07 15:50:05.015643 Batch 45 \n",
      "2024-12-07 15:50:12.731429 Batch 60 \n",
      "2024-12-07 15:50:19.538197 Batch 75 \n",
      "2024-12-07 15:50:26.834931 Batch 90 \n",
      "2024-12-07 15:50:33.876804 Batch 105 \n",
      "2024-12-07 15:50:40.614984 Batch 120 \n",
      "2024-12-07 15:50:47.247678 Batch 135 \n",
      "[Train] Accuracy: 26.8983%, Loss per batch: 2.0627\n",
      "2024-12-07 15:51:01.635421 Batch 15 \n",
      "2024-12-07 15:51:06.528626 Batch 30 \n",
      "2024-12-07 15:51:12.092164 Batch 45 \n",
      "2024-12-07 15:51:17.176225 Batch 60 \n",
      "[Val] Accuracy: 35.2102%, loss per batch: 2.0472\n",
      "Epoch 1: SGD lr 0.0100 -> 0.0090\n",
      "2024-12-07 15:51:18.253939 Epoch 2 \n",
      "2024-12-07 15:51:30.077576 Batch 15 \n",
      "2024-12-07 15:51:39.247111 Batch 30 \n",
      "2024-12-07 15:51:48.455247 Batch 45 \n",
      "2024-12-07 15:51:57.723957 Batch 60 \n",
      "2024-12-07 15:52:06.898526 Batch 75 \n",
      "2024-12-07 15:52:16.104288 Batch 90 \n",
      "2024-12-07 15:52:25.300340 Batch 105 \n",
      "2024-12-07 15:52:34.530803 Batch 120 \n",
      "2024-12-07 15:52:43.758470 Batch 135 \n",
      "[Train] Accuracy: 39.3283%, Loss per batch: 1.7536\n",
      "2024-12-07 15:52:59.617726 Batch 15 \n",
      "2024-12-07 15:53:03.951803 Batch 30 \n",
      "2024-12-07 15:53:08.969287 Batch 45 \n",
      "2024-12-07 15:53:13.592417 Batch 60 \n",
      "[Val] Accuracy: 41.7325%, loss per batch: 1.7282\n",
      "Epoch 2: SGD lr 0.0090 -> 0.0081\n",
      "2024-12-07 15:53:14.596326 Epoch 3 \n",
      "2024-12-07 15:53:26.378411 Batch 15 \n",
      "2024-12-07 15:53:35.599344 Batch 30 \n",
      "2024-12-07 15:53:44.831721 Batch 45 \n",
      "2024-12-07 15:53:54.194661 Batch 60 \n",
      "2024-12-07 15:54:03.738249 Batch 75 \n",
      "2024-12-07 15:54:13.322174 Batch 90 \n",
      "2024-12-07 15:54:23.024064 Batch 105 \n",
      "2024-12-07 15:54:33.822093 Batch 120 \n",
      "2024-12-07 15:54:44.590259 Batch 135 \n",
      "[Train] Accuracy: 45.2212%, Loss per batch: 1.5966\n",
      "2024-12-07 15:55:02.045299 Batch 15 \n",
      "2024-12-07 15:55:06.592146 Batch 30 \n",
      "2024-12-07 15:55:11.703867 Batch 45 \n",
      "2024-12-07 15:55:16.338174 Batch 60 \n",
      "[Val] Accuracy: 48.2038%, loss per batch: 1.4836\n",
      "Epoch 3: SGD lr 0.0081 -> 0.0073\n",
      "2024-12-07 15:55:17.309241 Epoch 4 \n",
      "2024-12-07 15:55:30.379031 Batch 15 \n",
      "2024-12-07 15:55:41.034098 Batch 30 \n",
      "2024-12-07 15:55:51.730953 Batch 45 \n",
      "2024-12-07 15:56:02.430154 Batch 60 \n",
      "2024-12-07 15:56:13.168726 Batch 75 \n",
      "2024-12-07 15:56:23.883255 Batch 90 \n",
      "2024-12-07 15:56:34.637159 Batch 105 \n",
      "2024-12-07 15:56:45.365395 Batch 120 \n",
      "2024-12-07 15:56:56.091842 Batch 135 \n",
      "[Train] Accuracy: 49.2766%, Loss per batch: 1.5044\n",
      "2024-12-07 15:57:14.556236 Batch 15 \n",
      "2024-12-07 15:57:20.348633 Batch 30 \n",
      "2024-12-07 15:57:26.248244 Batch 45 \n",
      "2024-12-07 15:57:32.187606 Batch 60 \n",
      "[Val] Accuracy: 50.1911%, loss per batch: 1.5637\n",
      "Epoch 4: SGD lr 0.0073 -> 0.0066\n",
      "2024-12-07 15:57:33.575671 Epoch 5 \n",
      "2024-12-07 15:59:15.525098 Batch 15 \n",
      "2024-12-07 16:00:59.516600 Batch 30 \n",
      "2024-12-07 16:02:43.379647 Batch 45 \n",
      "2024-12-07 16:04:27.327693 Batch 60 \n",
      "2024-12-07 16:06:11.191913 Batch 75 \n",
      "2024-12-07 16:07:55.111312 Batch 90 \n",
      "2024-12-07 16:09:39.002248 Batch 105 \n",
      "2024-12-07 16:11:22.973845 Batch 120 \n",
      "2024-12-07 16:13:06.896037 Batch 135 \n",
      "[Train] Accuracy: 51.8323%, Loss per batch: 1.4302\n",
      "2024-12-07 16:14:50.617870 Batch 15 \n",
      "2024-12-07 16:14:55.031098 Batch 30 \n",
      "2024-12-07 16:15:00.257082 Batch 45 \n",
      "2024-12-07 16:15:04.978723 Batch 60 \n",
      "[Val] Accuracy: 51.6178%, loss per batch: 1.4744\n",
      "Epoch 5: SGD lr 0.0066 -> 0.0059\n",
      "2024-12-07 16:15:07.033317 Epoch 6 \n",
      "2024-12-07 16:16:20.555839 Batch 15 \n",
      "2024-12-07 16:17:38.623011 Batch 30 \n",
      "2024-12-07 16:18:56.732407 Batch 45 \n",
      "2024-12-07 16:20:14.841185 Batch 60 \n",
      "2024-12-07 16:21:32.926620 Batch 75 \n",
      "2024-12-07 16:22:51.008863 Batch 90 \n",
      "2024-12-07 16:24:09.102868 Batch 105 \n",
      "2024-12-07 16:25:27.150291 Batch 120 \n",
      "2024-12-07 16:26:45.233840 Batch 135 \n",
      "[Train] Accuracy: 54.7576%, Loss per batch: 1.3589\n",
      "2024-12-07 16:28:04.329272 Batch 15 \n",
      "2024-12-07 16:28:08.790138 Batch 30 \n",
      "2024-12-07 16:28:13.964233 Batch 45 \n",
      "2024-12-07 16:28:18.684823 Batch 60 \n",
      "[Val] Accuracy: 57.172%, loss per batch: 1.2848\n",
      "Epoch 6: SGD lr 0.0059 -> 0.0053\n",
      "2024-12-07 16:28:20.733187 Epoch 7 \n",
      "2024-12-07 16:30:13.557836 Batch 15 \n",
      "2024-12-07 16:32:11.264172 Batch 30 \n",
      "2024-12-07 16:34:09.271376 Batch 45 \n",
      "2024-12-07 16:36:10.142514 Batch 60 \n"
     ]
    },
    {
     "ename": "KeyboardInterrupt",
     "evalue": "",
     "output_type": "error",
     "traceback": [
      "\u001b[1;31m---------------------------------------------------------------------------\u001b[0m",
      "\u001b[1;31mKeyboardInterrupt\u001b[0m                         Traceback (most recent call last)",
      "Cell \u001b[1;32mIn[14], line 1\u001b[0m\n\u001b[1;32m----> 1\u001b[0m history, gradient_stats \u001b[38;5;241m=\u001b[39m \u001b[43mtrain\u001b[49m\u001b[43m(\u001b[49m\u001b[43mepochs\u001b[49m\u001b[43m,\u001b[49m\u001b[43m \u001b[49m\u001b[43mtrain_loader\u001b[49m\u001b[43m,\u001b[49m\u001b[43m \u001b[49m\u001b[43mval_loader\u001b[49m\u001b[43m,\u001b[49m\u001b[43m \u001b[49m\u001b[43mmodel\u001b[49m\u001b[43m,\u001b[49m\u001b[43m \u001b[49m\u001b[43moptimizer\u001b[49m\u001b[43m,\u001b[49m\u001b[43m \u001b[49m\u001b[43mloss_fn\u001b[49m\u001b[43m,\u001b[49m\u001b[43m \u001b[49m\u001b[43mscheduler\u001b[49m\u001b[43m,\u001b[49m\u001b[43m \u001b[49m\u001b[43moutputs_path\u001b[49m\u001b[38;5;241;43m=\u001b[39;49m\u001b[38;5;124;43m'\u001b[39;49m\u001b[38;5;124;43m../../log/darknet19/training/\u001b[39;49m\u001b[38;5;124;43m'\u001b[39;49m\u001b[43m)\u001b[49m\n",
      "File \u001b[1;32mC:\\Me\\PJAIT\\Thesis\\Code\\yolov2-to-yolov8\\Backbone experiments\\Darknet19\\../..\\train.py:73\u001b[0m, in \u001b[0;36mtrain\u001b[1;34m(epochs, train_loader, val_loader, model, optimizer, loss_fn, scheduler, outputs_path, save_at, save_grad, resume)\u001b[0m\n\u001b[0;32m     71\u001b[0m _datetime \u001b[38;5;241m=\u001b[39m datetime\u001b[38;5;241m.\u001b[39mdatetime\u001b[38;5;241m.\u001b[39mnow()\n\u001b[0;32m     72\u001b[0m \u001b[38;5;28mprint\u001b[39m(\u001b[38;5;124mf\u001b[39m\u001b[38;5;124m\"\u001b[39m\u001b[38;5;132;01m{\u001b[39;00m_datetime\u001b[38;5;132;01m}\u001b[39;00m\u001b[38;5;124m Epoch \u001b[39m\u001b[38;5;132;01m{\u001b[39;00mepoch\u001b[38;5;132;01m}\u001b[39;00m\u001b[38;5;124m \u001b[39m\u001b[38;5;124m\"\u001b[39m)\n\u001b[1;32m---> 73\u001b[0m train_accuracy, train_loss \u001b[38;5;241m=\u001b[39m \u001b[43mtraining_loop\u001b[49m\u001b[43m(\u001b[49m\u001b[43moptimizer\u001b[49m\u001b[43m,\u001b[49m\u001b[43m \u001b[49m\u001b[43mmodel\u001b[49m\u001b[43m,\u001b[49m\u001b[43m \u001b[49m\u001b[43mloss_fn\u001b[49m\u001b[43m,\u001b[49m\u001b[43m \u001b[49m\u001b[43mtrain_loader\u001b[49m\u001b[43m)\u001b[49m\n\u001b[0;32m     75\u001b[0m val_accuracy, val_loss \u001b[38;5;241m=\u001b[39m validation_loop(model, val_loader, loss_fn)\n\u001b[0;32m     76\u001b[0m _gradient_stats \u001b[38;5;241m=\u001b[39m get_gradient_stats(model)\n",
      "File \u001b[1;32mC:\\Me\\PJAIT\\Thesis\\Code\\yolov2-to-yolov8\\Backbone experiments\\Darknet19\\../..\\training_loop.py:33\u001b[0m, in \u001b[0;36mtraining_loop\u001b[1;34m(optimizer, model, loss_fn, train_loader)\u001b[0m\n\u001b[0;32m     29\u001b[0m loss\u001b[38;5;241m.\u001b[39mbackward()\n\u001b[0;32m     31\u001b[0m optimizer\u001b[38;5;241m.\u001b[39mstep()\n\u001b[1;32m---> 33\u001b[0m loss_train \u001b[38;5;241m+\u001b[39m\u001b[38;5;241m=\u001b[39m \u001b[43mloss\u001b[49m\u001b[38;5;241;43m.\u001b[39;49m\u001b[43mitem\u001b[49m\u001b[43m(\u001b[49m\u001b[43m)\u001b[49m\n\u001b[0;32m     34\u001b[0m preds \u001b[38;5;241m=\u001b[39m outputs\u001b[38;5;241m.\u001b[39mmax(\u001b[38;5;241m1\u001b[39m)[\u001b[38;5;241m1\u001b[39m]\n\u001b[0;32m     35\u001b[0m correct \u001b[38;5;241m+\u001b[39m\u001b[38;5;241m=\u001b[39m preds\u001b[38;5;241m.\u001b[39meq(labels)\u001b[38;5;241m.\u001b[39msum()\u001b[38;5;241m.\u001b[39mitem()\n",
      "\u001b[1;31mKeyboardInterrupt\u001b[0m: "
     ]
    }
   ],
   "source": [
    "history, gradient_stats = train(epochs, train_loader, val_loader, model, optimizer, loss_fn, scheduler, outputs_path='../../log/darknet19/training/')"
   ]
  },
  {
   "cell_type": "code",
   "execution_count": null,
   "id": "ee7f490a-e00d-4d96-bd40-df7958480629",
   "metadata": {},
   "outputs": [],
   "source": [
    "history, gradient_stats = train(epochs, train_loader, val_loader, model, optimizer, loss_fn, scheduler, outputs_path='../../log/darknet19/training/', resume=True)"
   ]
  },
  {
   "cell_type": "code",
   "execution_count": null,
   "id": "5c4030f1-bcd7-4d8b-bf3f-6f5548858b72",
   "metadata": {},
   "outputs": [],
   "source": []
  }
 ],
 "metadata": {
  "kernelspec": {
   "display_name": "New Python (GPU)",
   "language": "python",
   "name": "new_gpu_env"
  },
  "language_info": {
   "codemirror_mode": {
    "name": "ipython",
    "version": 3
   },
   "file_extension": ".py",
   "mimetype": "text/x-python",
   "name": "python",
   "nbconvert_exporter": "python",
   "pygments_lexer": "ipython3",
   "version": "3.9.20"
  }
 },
 "nbformat": 4,
 "nbformat_minor": 5
}
