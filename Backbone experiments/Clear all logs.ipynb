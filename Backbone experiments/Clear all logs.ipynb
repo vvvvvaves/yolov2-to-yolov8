{
 "cells": [
  {
   "cell_type": "code",
   "execution_count": 16,
   "id": "4ee0901a-8763-4dff-9fa0-8541009e717a",
   "metadata": {},
   "outputs": [],
   "source": [
    "import os, fnmatch"
   ]
  },
  {
   "cell_type": "code",
   "execution_count": 17,
   "id": "1e25ed4b-d677-407f-bbbe-0783c0da2411",
   "metadata": {},
   "outputs": [],
   "source": [
    "def clear_all_logs(path='./log'):\n",
    "    matches = []\n",
    "    for root, dirnames, filenames in os.walk(path):\n",
    "        for filename in fnmatch.filter(filenames, '*.pickle'):\n",
    "            matches.append(os.path.join(root, filename))\n",
    "\n",
    "        for filename in fnmatch.filter(filenames, '*.pt.trace.json'):\n",
    "            matches.append(os.path.join(root, filename))\n",
    "\n",
    "        for filename in fnmatch.filter(filenames, '*.pt'):\n",
    "            matches.append(os.path.join(root, filename))\n",
    "\n",
    "    for match in matches:\n",
    "        os.remove(match)"
   ]
  },
  {
   "cell_type": "code",
   "execution_count": 18,
   "id": "3e74664d-f090-4a7e-9342-e6824222cc3e",
   "metadata": {},
   "outputs": [],
   "source": [
    "clear_all_logs()"
   ]
  },
  {
   "cell_type": "code",
   "execution_count": null,
   "id": "113b7151-067e-4a4d-a4c6-21991a2cc1fb",
   "metadata": {},
   "outputs": [],
   "source": []
  }
 ],
 "metadata": {
  "kernelspec": {
   "display_name": "Python 3 (ipykernel)",
   "language": "python",
   "name": "python3"
  },
  "language_info": {
   "codemirror_mode": {
    "name": "ipython",
    "version": 3
   },
   "file_extension": ".py",
   "mimetype": "text/x-python",
   "name": "python",
   "nbconvert_exporter": "python",
   "pygments_lexer": "ipython3",
   "version": "3.9.20"
  }
 },
 "nbformat": 4,
 "nbformat_minor": 5
}
