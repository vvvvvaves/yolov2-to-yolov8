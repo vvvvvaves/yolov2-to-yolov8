{
 "cells": [
  {
   "cell_type": "code",
   "execution_count": 1,
   "id": "a5258e5c-2fd1-45d6-bf25-96674d504f91",
   "metadata": {},
   "outputs": [],
   "source": [
    "import torch\n",
    "import torch.nn as nn\n",
    "from torchvision import transforms\n",
    "from torch.utils.data import DataLoader\n",
    "from torch import optim"
   ]
  },
  {
   "cell_type": "code",
   "execution_count": 2,
   "id": "c9deb7c5-1256-4fdd-b447-69f25786c0e8",
   "metadata": {},
   "outputs": [],
   "source": [
    "import sys\n",
    "sys.path.insert(1, \"../\")"
   ]
  },
  {
   "cell_type": "code",
   "execution_count": 3,
   "id": "43b63379-9363-448e-b927-2231dbb097b1",
   "metadata": {},
   "outputs": [],
   "source": [
    "from train import *\n",
    "from data_preprocessing import *\n",
    "from Models.yolov8cls_path import *"
   ]
  },
  {
   "cell_type": "code",
   "execution_count": 4,
   "id": "cbdae16b-4251-46a6-865b-bfa81a9a5ea1",
   "metadata": {},
   "outputs": [],
   "source": [
    "if torch.cuda.is_available():\n",
    "    device=torch.device('cuda')\n",
    "else:\n",
    "    device=torch.device('cpu') "
   ]
  },
  {
   "cell_type": "code",
   "execution_count": 5,
   "id": "8fa53c4a-3fb5-4406-9cea-f145fe80399e",
   "metadata": {},
   "outputs": [],
   "source": [
    "model = Model(num_classes=10)"
   ]
  },
  {
   "cell_type": "code",
   "execution_count": 6,
   "id": "ae3c5dd0-ac5d-4cbb-8463-d9ebe0621f3c",
   "metadata": {},
   "outputs": [],
   "source": [
    "data_path = '../../dummy_datasets/'\n",
    "norms_path = os.path.join(data_path, 'norms.json')"
   ]
  },
  {
   "cell_type": "code",
   "execution_count": 7,
   "id": "e608e517-6da7-41c7-b62d-81cca6aecf54",
   "metadata": {},
   "outputs": [
    {
     "name": "stdout",
     "output_type": "stream",
     "text": [
      "Means are: [0.4405549168586731, 0.4407285749912262, 0.4381718039512634]\n",
      "stds are: [0.25142669677734375, 0.25270089507102966, 0.25131651759147644]\n"
     ]
    }
   ],
   "source": [
    "means = get_means(path=norms_path, train_loader=None)\n",
    "stds = get_stds(path=norms_path, train_loader=None)"
   ]
  },
  {
   "cell_type": "code",
   "execution_count": 8,
   "id": "840c3bfd-3f57-4508-9834-fd0c87b7532a",
   "metadata": {},
   "outputs": [],
   "source": [
    "transformations = transforms.Compose([transforms.ToTensor(),\n",
    "                                      transforms.Resize((224, 224)),\n",
    "                                      transforms.Normalize(mean=means, std=stds)])"
   ]
  },
  {
   "cell_type": "code",
   "execution_count": 9,
   "id": "dfaadddf-3f19-4b50-93b4-98cf177980fb",
   "metadata": {},
   "outputs": [],
   "source": [
    "train_dataset = ImageNetSubset(path=data_path, train=True, transform=transformations, half=False, show=False)\n",
    "val_dataset = ImageNetSubset(path=data_path, train=False, transform=transformations, half=False, show=False)"
   ]
  },
  {
   "cell_type": "code",
   "execution_count": 10,
   "id": "a5d356b0-68a7-44f8-bf1b-397f7889dfb9",
   "metadata": {},
   "outputs": [],
   "source": [
    "epochs=3\n",
    "train_loader = DataLoader(train_dataset, batch_size=256, shuffle=True, num_workers=4)\n",
    "val_loader = DataLoader(val_dataset, batch_size=256, shuffle=False, num_workers=4)"
   ]
  },
  {
   "cell_type": "code",
   "execution_count": 11,
   "id": "53e72a95-3140-4c39-afd7-e64d63bd5940",
   "metadata": {},
   "outputs": [],
   "source": [
    "optimizer = optim.SGD(model.parameters(), lr=0.001, momentum=0.9, weight_decay=0.0001)"
   ]
  },
  {
   "cell_type": "code",
   "execution_count": 12,
   "id": "85cc427f-08e2-43c3-a496-6f1c967a2325",
   "metadata": {},
   "outputs": [],
   "source": [
    "loss_fn = nn.NLLLoss()"
   ]
  },
  {
   "cell_type": "code",
   "execution_count": 13,
   "id": "d9efeae0-85c6-42a3-9006-f1f7de738641",
   "metadata": {},
   "outputs": [],
   "source": [
    "prof = torch.profiler.profile(\n",
    "        # schedule=torch.profiler.schedule(wait=0, warmup=0, active=1, repeat=1),\n",
    "        on_trace_ready=torch.profiler.tensorboard_trace_handler('./log/darknet19'),\n",
    "        record_shapes=True,\n",
    "        profile_memory=True,\n",
    "        with_flops=True,\n",
    "        with_modules=True,\n",
    "        with_stack=True)"
   ]
  },
  {
   "cell_type": "markdown",
   "id": "d9c4a012-f83a-495c-929b-939db6549642",
   "metadata": {},
   "source": [
    "\n",
    "Profiling your personal module \n",
    "https://pytorch.org/tutorials/beginner/profiler.html"
   ]
  },
  {
   "cell_type": "code",
   "execution_count": 14,
   "id": "a40a8174-7e18-43aa-83fd-41a98bf6ea0b",
   "metadata": {},
   "outputs": [
    {
     "name": "stdout",
     "output_type": "stream",
     "text": [
      "2024-11-16 18:25:15.257475 Epoch 1: \n",
      "2024-11-16 18:25:21.629539 Batch 1: \n",
      "torch.Size([30, 10, 1, 1])\n",
      "torch.Size([30, 10])\n",
      "[Train] Accuracy: 13.3333, Loss per batch: 2.2849\n",
      "2024-11-16 18:25:33.310796 Batch 1: \n",
      "torch.Size([256, 10, 1, 1])\n",
      "torch.Size([256, 10])\n",
      "2024-11-16 18:25:44.577420 Batch 2: \n",
      "torch.Size([244, 10, 1, 1])\n",
      "torch.Size([244, 10])\n",
      "[Val] Accuracy: 10.0%, loss per batch: 2.3026\n",
      "2024-11-16 18:25:55.961150 Epoch 2: \n",
      "2024-11-16 18:26:04.550771 Batch 1: \n",
      "torch.Size([30, 10, 1, 1])\n",
      "torch.Size([30, 10])\n",
      "[Train] Accuracy: 23.3333, Loss per batch: 2.2079\n",
      "2024-11-16 18:26:16.975491 Batch 1: \n",
      "torch.Size([256, 10, 1, 1])\n",
      "torch.Size([256, 10])\n",
      "2024-11-16 18:26:26.980195 Batch 2: \n",
      "torch.Size([244, 10, 1, 1])\n",
      "torch.Size([244, 10])\n",
      "[Val] Accuracy: 10.0%, loss per batch: 2.3027\n",
      "2024-11-16 18:26:39.092225 Epoch 3: \n",
      "2024-11-16 18:26:45.962882 Batch 1: \n",
      "torch.Size([30, 10, 1, 1])\n",
      "torch.Size([30, 10])\n",
      "[Train] Accuracy: 40.0, Loss per batch: 2.0945\n",
      "2024-11-16 18:26:59.123262 Batch 1: \n",
      "torch.Size([256, 10, 1, 1])\n",
      "torch.Size([256, 10])\n",
      "2024-11-16 18:27:09.713768 Batch 2: \n",
      "torch.Size([244, 10, 1, 1])\n",
      "torch.Size([244, 10])\n",
      "[Val] Accuracy: 10.0%, loss per batch: 2.3028\n"
     ]
    }
   ],
   "source": [
    "history, gradient_stats, prof = train(epochs, train_loader, val_loader, model, optimizer, loss_fn, prof)"
   ]
  },
  {
   "cell_type": "markdown",
   "id": "1826fb63-f1e9-4b4e-9bf6-6b061b127c33",
   "metadata": {},
   "source": [
    "## Inference time"
   ]
  },
  {
   "cell_type": "code",
   "execution_count": 13,
   "id": "1172cfb5-01c8-4345-a282-521bee61df45",
   "metadata": {},
   "outputs": [],
   "source": [
    "from ultralytics import YOLO"
   ]
  },
  {
   "cell_type": "code",
   "execution_count": 31,
   "id": "74740f5f-cc6f-4b40-9fbb-d8ab96d0ca13",
   "metadata": {},
   "outputs": [],
   "source": [
    "model = YOLO('../Models/yolov8s-cls.pt')"
   ]
  },
  {
   "cell_type": "code",
   "execution_count": 32,
   "id": "1efca0eb-46fa-4f8f-962d-c203f45fc057",
   "metadata": {},
   "outputs": [],
   "source": [
    "# model = model.model"
   ]
  },
  {
   "cell_type": "code",
   "execution_count": 33,
   "id": "0c74c18e-ac17-4de9-a2a4-4787cb14017d",
   "metadata": {},
   "outputs": [],
   "source": [
    "img = torch.rand(1,3,640,640)\n",
    "_ = transforms.Compose([transforms.Normalize(mean=[0.5, 0.5, 0.5],\n",
    "                        std=[0.5, 0.5, 0.5])])\n",
    "img = _(img)"
   ]
  },
  {
   "cell_type": "code",
   "execution_count": 37,
   "id": "d2426ee4-b05b-47a4-8824-f1f603966f87",
   "metadata": {},
   "outputs": [
    {
     "name": "stdout",
     "output_type": "stream",
     "text": [
      "\n",
      "0: 640x640 velvet 0.96, wool 0.01, window_screen 0.00, chain_mail 0.00, honeycomb 0.00, 97.3ms\n",
      "Speed: 0.0ms preprocess, 97.3ms inference, 0.0ms postprocess per image at shape (1, 3, 640, 640)\n",
      "-----------------------------  ------------  ------------  ------------  ------------  ------------  ------------  ------------  \n",
      "                         Name    Self CPU %      Self CPU   CPU total %     CPU total  CPU time avg    # of Calls  Total MFLOPs  \n",
      "-----------------------------  ------------  ------------  ------------  ------------  ------------  ------------  ------------  \n",
      "                  aten::empty         0.28%     300.800us         0.28%     300.800us       5.277us            57            --  \n",
      "                     aten::to         0.03%      32.300us         2.71%       2.874ms     261.264us            11            --  \n",
      "             aten::lift_fresh         0.00%       2.000us         0.00%       2.000us       1.000us             2            --  \n",
      "                aten::detach_         0.00%       1.700us         0.00%       1.700us       0.850us             2            --  \n",
      "                    aten::max         0.42%     450.300us         0.43%     454.700us     454.700us             1            --  \n",
      "                  aten::fill_         0.01%       8.500us         0.01%       8.500us       4.250us             2            --  \n",
      "                     aten::gt         0.03%      31.600us         0.08%      83.800us      83.800us             1            --  \n",
      "               aten::_to_copy         0.05%      52.400us         2.68%       2.842ms     710.400us             4            --  \n",
      "          aten::empty_strided         0.02%      16.400us         0.02%      16.400us       4.100us             4            --  \n",
      "                  aten::copy_         3.34%       3.548ms         3.34%       3.548ms     443.487us             8            --  \n",
      "             aten::is_nonzero         0.01%       7.000us         0.02%      17.200us      17.200us             1            --  \n",
      "                   aten::item         0.03%      27.300us         0.03%      32.100us       5.350us             6            --  \n",
      "    aten::_local_scalar_dense         0.00%       4.800us         0.00%       4.800us       0.800us             6            --  \n",
      "                 aten::unbind         0.02%      25.900us         0.06%      64.500us      32.250us             2            --  \n",
      "                 aten::select         0.05%      57.300us         0.07%      69.500us       9.929us             7            --  \n",
      "             aten::as_strided         0.05%      48.800us         0.05%      48.800us       1.435us            34            --  \n",
      "                 aten::conv2d         0.24%     252.300us        81.08%      86.020ms       3.308ms            26     12445.286  \n",
      "            aten::convolution         0.22%     232.300us        80.85%      85.767ms       3.299ms            26            --  \n",
      "           aten::_convolution         0.41%     440.200us        80.63%      85.535ms       3.290ms            26            --  \n",
      "     aten::mkldnn_convolution        79.78%      84.633ms        80.21%      85.095ms       3.273ms            26            --  \n",
      "            aten::as_strided_         0.15%     157.000us         0.15%     157.000us       6.038us            26            --  \n",
      "                aten::resize_         0.05%      50.700us         0.05%      50.700us       1.878us            27            --  \n",
      "                  aten::silu_         7.24%       7.676ms         7.24%       7.676ms     295.231us            26            --  \n",
      "                  aten::chunk         0.03%      28.600us         0.16%     172.800us      43.200us             4            --  \n",
      "                  aten::split         0.04%      37.900us         0.14%     144.200us      36.050us             4            --  \n",
      "                 aten::narrow         0.10%     108.000us         0.25%     268.700us      12.214us            22            --  \n",
      "                  aten::slice         0.13%     138.100us         0.16%     169.000us       7.348us            23            --  \n",
      "                    aten::add         3.63%       3.849ms         3.63%       3.849ms     641.517us             6         2.150  \n",
      "                    aten::cat         2.28%       2.419ms         2.43%       2.581ms     645.350us             4            --  \n",
      "    aten::adaptive_avg_pool2d         0.01%       6.700us         0.11%     114.500us     114.500us             1            --  \n",
      "                   aten::mean         0.02%      17.200us         0.10%     107.800us     107.800us             1            --  \n",
      "                    aten::sum         0.04%      38.200us         0.04%      43.800us      43.800us             1            --  \n",
      "                   aten::div_         0.02%      22.000us         0.04%      46.800us      46.800us             1            --  \n",
      "                aten::flatten         0.01%       8.800us         0.01%      14.400us      14.400us             1            --  \n",
      "                   aten::view         0.01%       5.600us         0.01%       5.600us       5.600us             1            --  \n",
      "               aten::dropout_         0.00%       1.300us         0.00%       1.300us       1.300us             1            --  \n",
      "                 aten::linear         0.01%      14.300us         0.29%     308.600us     308.600us             1            --  \n",
      "                      aten::t         0.01%      11.100us         0.02%      18.100us      18.100us             1            --  \n",
      "              aten::transpose         0.00%       4.900us         0.01%       7.000us       7.000us             1            --  \n",
      "                  aten::addmm         0.25%     261.600us         0.26%     276.200us     276.200us             1         2.560  \n",
      "                 aten::expand         0.01%       5.700us         0.01%       6.400us       6.400us             1            --  \n",
      "           aten::resolve_conj         0.00%       2.000us         0.00%       2.000us       0.500us             4            --  \n",
      "                aten::softmax         0.00%       4.900us         0.02%      19.500us      19.500us             1            --  \n",
      "               aten::_softmax         0.01%      14.600us         0.01%      14.600us      14.600us             1            --  \n",
      "                aten::permute         0.01%       9.100us         0.01%      10.500us      10.500us             1            --  \n",
      "             aten::contiguous         0.01%       6.000us         0.73%     775.000us     775.000us             1            --  \n",
      "                  aten::clone         0.01%       6.600us         0.72%     769.000us     769.000us             1            --  \n",
      "             aten::empty_like         0.00%       3.500us         0.01%       6.700us       6.700us             1            --  \n",
      "                    aten::mul         0.50%     530.500us         0.51%     545.600us     545.600us             1         1.229  \n",
      "                  aten::clamp         0.15%     158.700us         0.15%     158.900us     158.900us             1            --  \n",
      "                 aten::detach         0.00%       5.200us         0.00%       5.200us       5.200us             1            --  \n",
      "            aten::resolve_neg         0.00%       0.400us         0.00%       0.400us       0.200us             2            --  \n",
      "                    aten::neg         0.02%      23.600us         0.02%      23.600us      23.600us             1            --  \n",
      "                aten::argsort         0.01%       8.200us         0.29%     306.900us     306.900us             1            --  \n",
      "                   aten::sort         0.23%     242.600us         0.28%     298.700us     298.700us             1            --  \n",
      "                 aten::arange         0.03%      35.500us         0.06%      64.800us      32.400us             2            --  \n",
      "-----------------------------  ------------  ------------  ------------  ------------  ------------  ------------  ------------  \n",
      "Self CPU time total: 106.086ms\n",
      "\n"
     ]
    }
   ],
   "source": [
    "with torch.autograd.profiler.profile(use_device='cpu',\n",
    "                                    record_shapes=True,\n",
    "                                    # profile_memory=True,\n",
    "                                    with_flops=True,\n",
    "                                    with_modules=True,\n",
    "                                    with_stack=True) as prof:\n",
    "   model.predict(img)\n",
    "print(prof.key_averages().table(row_limit=-1))"
   ]
  },
  {
   "cell_type": "code",
   "execution_count": 36,
   "id": "c1e538f2-314d-45e9-8b66-31e52438f3a5",
   "metadata": {},
   "outputs": [
    {
     "data": {
      "text/plain": [
       "41641.984"
      ]
     },
     "execution_count": 36,
     "metadata": {},
     "output_type": "execute_result"
    }
   ],
   "source": [
    "6.451+41631.744+2.560 +1.229"
   ]
  },
  {
   "cell_type": "markdown",
   "id": "73e51cb9-eb5e-4869-9d89-db1aa508b589",
   "metadata": {},
   "source": [
    "YOLOv8n</br>\n",
    "Mine: 3.290265 GFLOPs ; On the website: 4.3 GFLOPs</br>\n",
    "YOLOv8s</br>\n",
    "Mine: 12.449996 GFLOPs ; On the website: 13.5 GFLOPs</br>\n",
    "YOLOv8m</br>\n",
    "Mine: 41.640755 GFLOPs ; On the website: 42.7 GFLOPs"
   ]
  },
  {
   "cell_type": "code",
   "execution_count": 38,
   "id": "30e53e69-e300-4f84-90f7-480a1209f866",
   "metadata": {},
   "outputs": [],
   "source": [
    "from Models.yolov8cls_path import *"
   ]
  },
  {
   "cell_type": "code",
   "execution_count": 41,
   "id": "352e4593-7d14-4b72-8cdd-3d5225ed5516",
   "metadata": {},
   "outputs": [],
   "source": [
    "model = Model(num_classes=1000, \n",
    "              residual_connection=True, \n",
    "              CSP=True, \n",
    "              add_hidden=True,\n",
    "              classifyV8=True,\n",
    "              bottleneck=1.0, \n",
    "              variant='s', \n",
    "              device=device, \n",
    "              dtype=torch.float32)"
   ]
  },
  {
   "cell_type": "code",
   "execution_count": 42,
   "id": "29fc3388-72b7-4eb7-9cac-f681ba4571bd",
   "metadata": {},
   "outputs": [],
   "source": [
    "img = torch.rand(1,3,640,640)\n",
    "_ = transforms.Compose([transforms.Normalize(mean=[0.5, 0.5, 0.5],\n",
    "                        std=[0.5, 0.5, 0.5])])\n",
    "img = _(img)"
   ]
  },
  {
   "cell_type": "code",
   "execution_count": 44,
   "id": "dc68c711-c0d1-4307-a6ad-4fe6f73d6a89",
   "metadata": {},
   "outputs": [
    {
     "name": "stdout",
     "output_type": "stream",
     "text": [
      "--------------------------------  ------------  ------------  ------------  ------------  ------------  ------------  ------------  \n",
      "                            Name    Self CPU %      Self CPU   CPU total %     CPU total  CPU time avg    # of Calls  Total MFLOPs  \n",
      "--------------------------------  ------------  ------------  ------------  ------------  ------------  ------------  ------------  \n",
      "                      Conv block         8.01%      15.271ms        93.67%     178.537ms       6.867ms            26            --  \n",
      "                    aten::conv2d         0.27%     511.200us        57.42%     109.447ms       4.209ms            26     12445.286  \n",
      "               aten::convolution         0.46%     879.600us        57.15%     108.935ms       4.190ms            26            --  \n",
      "              aten::_convolution         0.26%     489.100us        56.69%     108.056ms       4.156ms            26            --  \n",
      "        aten::mkldnn_convolution        56.11%     106.956ms        56.44%     107.567ms       4.137ms            26            --  \n",
      "                     aten::empty         0.42%     802.800us         0.42%     802.800us       3.088us           260            --  \n",
      "               aten::as_strided_         0.08%     160.900us         0.08%     160.900us       6.188us            26            --  \n",
      "                   aten::resize_         0.03%      52.500us         0.03%      52.500us       2.019us            26            --  \n",
      "                      aten::add_         0.23%     433.300us         0.23%     433.300us      16.665us            26            --  \n",
      "                aten::batch_norm         0.11%     209.000us        15.64%      29.818ms       1.147ms            26            --  \n",
      "    aten::_batch_norm_impl_index         0.24%     463.600us        15.53%      29.609ms       1.139ms            26            --  \n",
      "         aten::native_batch_norm        15.00%      28.585ms        15.26%      29.091ms       1.119ms            26            --  \n",
      "                aten::empty_like         0.08%     154.600us         0.14%     270.100us      10.388us            26            --  \n",
      "                      aten::silu        12.37%      23.568ms        12.37%      23.568ms     906.477us            26            --  \n",
      "                       C2f block         0.81%       1.540ms        49.59%      94.513ms      23.628ms             4            --  \n",
      "                     aten::chunk         0.02%      35.500us         0.12%     236.100us      59.025us             4            --  \n",
      "                     aten::split         0.05%     102.100us         0.11%     200.600us      50.150us             4            --  \n",
      "                    aten::narrow         0.07%     133.600us         0.18%     340.400us      15.473us            22            --  \n",
      "                     aten::slice         0.09%     167.300us         0.11%     206.800us       9.400us            22            --  \n",
      "                aten::as_strided         0.02%      43.300us         0.02%      43.300us       1.804us            24            --  \n",
      "                Bottleneck block         0.72%       1.375ms        24.01%      45.757ms       7.626ms             6            --  \n",
      "                       aten::add         1.10%       2.093ms         1.10%       2.093ms     348.850us             6         2.150  \n",
      "                       aten::cat         2.72%       5.192ms         2.85%       5.434ms       1.358ms             4            --  \n",
      "                      ClassifyV8         0.10%     199.000us         3.36%       6.396ms       6.396ms             1            --  \n",
      "        Adaptive Average Pooling         0.08%     146.400us         0.18%     350.400us     350.400us             1            --  \n",
      "       aten::adaptive_avg_pool2d         0.00%       7.600us         0.11%     204.000us     204.000us             1            --  \n",
      "                      aten::mean         0.02%      39.300us         0.10%     196.400us     196.400us             1            --  \n",
      "                       aten::sum         0.05%     102.800us         0.06%     107.200us     107.200us             1            --  \n",
      "                     aten::fill_         0.00%       4.400us         0.00%       4.400us       4.400us             1            --  \n",
      "                      aten::div_         0.01%      20.400us         0.03%      49.900us      49.900us             1            --  \n",
      "                        aten::to         0.00%       5.200us         0.02%      29.500us      29.500us             1            --  \n",
      "                  aten::_to_copy         0.01%      14.700us         0.01%      24.300us      24.300us             1            --  \n",
      "             aten::empty_strided         0.00%       3.800us         0.00%       3.800us       3.800us             1            --  \n",
      "                     aten::copy_         0.01%      11.600us         0.01%      11.600us       5.800us             2            --  \n",
      "                         Flatten         0.04%      74.200us         0.05%      94.700us      94.700us             1            --  \n",
      "                   aten::flatten         0.00%       6.100us         0.01%      20.500us      20.500us             1            --  \n",
      "                      aten::view         0.01%      14.400us         0.01%      14.400us      14.400us             1            --  \n",
      "                    Linear layer         0.06%     122.800us         0.30%     568.300us     568.300us             1            --  \n",
      "                    aten::linear         0.01%      17.900us         0.23%     445.500us     445.500us             1            --  \n",
      "                         aten::t         0.01%      17.200us         0.01%      26.300us      26.300us             1            --  \n",
      "                 aten::transpose         0.00%       6.100us         0.00%       9.100us       9.100us             1            --  \n",
      "                     aten::addmm         0.20%     389.300us         0.21%     401.300us     401.300us             1         2.560  \n",
      "                    aten::expand         0.00%       4.900us         0.00%       5.700us       5.700us             1            --  \n",
      "              aten::resolve_conj         0.00%       0.500us         0.00%       0.500us       0.250us             2            --  \n",
      "                     Log Softmax         0.06%     122.900us         0.09%     174.000us     174.000us             1            --  \n",
      "               aten::log_softmax         0.01%      13.300us         0.03%      51.100us      51.100us             1            --  \n",
      "              aten::_log_softmax         0.02%      37.800us         0.02%      37.800us      37.800us             1            --  \n",
      "--------------------------------  ------------  ------------  ------------  ------------  ------------  ------------  ------------  \n",
      "Self CPU time total: 190.602ms\n",
      "\n"
     ]
    }
   ],
   "source": [
    "with torch.autograd.profiler.profile(use_device='cpu',\n",
    "                                    record_shapes=True,\n",
    "                                    # profile_memory=True,\n",
    "                                    with_flops=True,\n",
    "                                    with_modules=True,\n",
    "                                    with_stack=True) as prof:\n",
    "   model(img)\n",
    "print(prof.key_averages().table(row_limit=-1))"
   ]
  },
  {
   "cell_type": "code",
   "execution_count": 46,
   "id": "88ffe079-6960-46d0-af78-9d7fb05f1fae",
   "metadata": {},
   "outputs": [],
   "source": [
    "from torch.profiler import profile, ProfilerActivity"
   ]
  },
  {
   "cell_type": "code",
   "execution_count": 47,
   "id": "f05481a5-366d-46bf-8b33-6d53ad2bfbc4",
   "metadata": {},
   "outputs": [
    {
     "name": "stdout",
     "output_type": "stream",
     "text": [
      "--------------------------------  ------------  ------------  ------------  ------------  ------------  ------------  ------------  ------------  ------------  \n",
      "                            Name    Self CPU %      Self CPU   CPU total %     CPU total  CPU time avg       CPU Mem  Self CPU Mem    # of Calls  Total MFLOPs  \n",
      "--------------------------------  ------------  ------------  ------------  ------------  ------------  ------------  ------------  ------------  ------------  \n",
      "                   ProfilerStep*         1.04%      10.654ms       100.00%        1.025s     102.514ms     210.21 Mb      -1.90 Gb            10            --  \n",
      "                      Conv block         7.14%      73.200ms        90.87%     931.522ms       3.583ms       1.93 Gb           0 b           260            --  \n",
      "                    aten::conv2d         0.21%       2.163ms        58.33%     597.986ms       2.300ms     660.16 Mb           0 b           260    124452.864  \n",
      "               aten::convolution         0.48%       4.951ms        58.12%     595.823ms       2.292ms     660.16 Mb           0 b           260            --  \n",
      "              aten::_convolution         0.36%       3.681ms        57.64%     590.872ms       2.273ms     660.16 Mb           0 b           260            --  \n",
      "        aten::mkldnn_convolution        56.93%     583.573ms        57.28%     587.190ms       2.258ms     660.16 Mb           0 b           260            --  \n",
      "                     aten::empty         0.52%       5.344ms         0.52%       5.344ms       2.055us       1.29 Gb       1.29 Gb          2600            --  \n",
      "               aten::as_strided_         0.12%       1.253ms         0.12%       1.253ms       4.819us           0 b           0 b           260            --  \n",
      "                   aten::resize_         0.04%     399.100us         0.04%     399.100us       1.535us           0 b           0 b           260            --  \n",
      "                      aten::add_         0.32%       3.315ms         0.32%       3.315ms      12.752us           0 b           0 b           260            --  \n",
      "                aten::batch_norm         0.15%       1.547ms        18.07%     185.251ms     712.503us     660.58 Mb           0 b           260            --  \n",
      "    aten::_batch_norm_impl_index         0.37%       3.782ms        17.92%     183.704ms     706.552us     660.58 Mb           0 b           260            --  \n",
      "         aten::native_batch_norm        17.08%     175.093ms        17.51%     179.526ms     690.486us     660.58 Mb    -865.00 Kb           260            --  \n",
      "                aten::empty_like         0.14%       1.450ms         0.20%       2.019ms       7.767us     660.16 Mb           0 b           260            --  \n",
      "                      aten::silu         7.00%      71.771ms         7.00%      71.771ms     276.041us     660.16 Mb     660.16 Mb           260            --  \n",
      "                       C2f block         1.17%      12.023ms        61.61%     631.585ms      15.790ms       1.36 Gb     -82.03 Mb            40            --  \n",
      "                     aten::chunk         0.03%     304.300us         0.22%       2.226ms      55.662us           0 b           0 b            40            --  \n",
      "                     aten::split         0.08%     793.400us         0.19%       1.922ms      48.055us           0 b           0 b            40            --  \n",
      "                    aten::narrow         0.12%       1.217ms         0.28%       2.917ms      13.261us           0 b           0 b           220            --  \n",
      "                     aten::slice         0.13%       1.376ms         0.17%       1.701ms       7.731us           0 b           0 b           220            --  \n",
      "                aten::as_strided         0.04%     369.100us         0.04%     369.100us       1.538us           0 b           0 b           240            --  \n",
      "                Bottleneck block         0.91%       9.286ms        30.32%     310.784ms       5.180ms     574.32 Mb           0 b            60            --  \n",
      "                       aten::add         1.28%      13.166ms         1.28%      13.166ms     219.428us      82.03 Mb      82.03 Mb            60        21.504  \n",
      "                       aten::cat         3.16%      32.365ms         3.33%      34.154ms     853.843us     199.22 Mb     199.22 Mb            40            --  \n",
      "                      ClassifyV8         0.15%       1.587ms         4.21%      43.204ms       4.320ms      39.25 Mb           0 b            10            --  \n",
      "        Adaptive Average Pooling         0.10%       1.074ms         0.30%       3.044ms     304.420us     -19.48 Mb     -19.53 Mb            10            --  \n",
      "       aten::adaptive_avg_pool2d         0.04%     397.400us         0.19%       1.971ms     197.070us      50.00 Kb           0 b            10            --  \n",
      "                      aten::mean         0.02%     233.200us         0.15%       1.573ms     157.330us      50.00 Kb      49.98 Kb            10            --  \n",
      "                       aten::sum         0.08%     845.800us         0.09%     888.500us      88.850us           0 b           0 b            10            --  \n",
      "                     aten::fill_         0.00%      42.700us         0.00%      42.700us       4.270us           0 b           0 b            10            --  \n",
      "                      aten::div_         0.02%     187.300us         0.04%     451.600us      45.160us          16 b         -24 b            10            --  \n",
      "                        aten::to         0.00%      49.400us         0.03%     264.300us      26.430us          40 b           0 b            10            --  \n",
      "                  aten::_to_copy         0.01%     121.000us         0.02%     214.900us      21.490us          40 b           0 b            10            --  \n",
      "             aten::empty_strided         0.00%      39.100us         0.00%      39.100us       3.910us          40 b          40 b            10            --  \n",
      "                     aten::copy_         0.01%     115.000us         0.01%     115.000us       5.750us           0 b           0 b            20            --  \n",
      "                         Flatten         0.06%     578.200us         0.07%     762.700us      76.270us           0 b           0 b            10            --  \n",
      "                   aten::flatten         0.01%      60.800us         0.02%     184.500us      18.450us           0 b           0 b            10            --  \n",
      "                      aten::view         0.01%     123.700us         0.01%     123.700us      12.370us           0 b           0 b            10            --  \n",
      "                    Linear layer         0.10%       1.020ms         0.56%       5.708ms     570.770us      39.06 Kb           0 b            10            --  \n",
      "                    aten::linear         0.02%     158.600us         0.46%       4.688ms     468.780us      39.06 Kb           0 b            10            --  \n",
      "                         aten::t         0.01%     106.300us         0.02%     204.400us      20.440us           0 b           0 b            10            --  \n",
      "                 aten::transpose         0.01%      71.700us         0.01%      98.100us       9.810us           0 b           0 b            10            --  \n",
      "                     aten::addmm         0.41%       4.175ms         0.42%       4.325ms     432.480us      39.06 Kb      39.06 Kb            10        25.600  \n",
      "                    aten::expand         0.01%      65.400us         0.01%      82.800us       8.280us           0 b           0 b            10            --  \n",
      "              aten::resolve_conj         0.00%       7.100us         0.00%       7.100us       0.355us           0 b           0 b            20            --  \n",
      "                     Log Softmax         0.08%     785.700us         0.10%       1.006ms     100.560us           0 b     -39.06 Kb            10            --  \n",
      "               aten::log_softmax         0.01%      54.700us         0.02%     219.900us      21.990us      39.06 Kb           0 b            10            --  \n",
      "              aten::_log_softmax         0.02%     165.200us         0.02%     165.200us      16.520us      39.06 Kb      39.06 Kb            10            --  \n",
      "--------------------------------  ------------  ------------  ------------  ------------  ------------  ------------  ------------  ------------  ------------  \n",
      "Self CPU time total: 1.025s\n",
      "\n"
     ]
    }
   ],
   "source": [
    "with profile(activities=[ProfilerActivity.CPU],\n",
    "                                    schedule=torch.profiler.schedule(wait=1, warmup=2, active=10, repeat=1),\n",
    "                                    on_trace_ready=torch.profiler.tensorboard_trace_handler('../log/darknet19/inference'),\n",
    "                                    record_shapes=True,\n",
    "                                    profile_memory=True,\n",
    "                                    with_flops=True,\n",
    "                                    with_modules=True,\n",
    "                                    with_stack=True) as prof:\n",
    "    for i in range(13):\n",
    "        out = model(img)\n",
    "        prof.step()\n",
    "print(prof.key_averages().table(row_limit=-1))"
   ]
  },
  {
   "cell_type": "code",
   "execution_count": 64,
   "id": "ac497efb-f9c7-46fa-b5da-f25a734941b7",
   "metadata": {},
   "outputs": [],
   "source": [
    "img = train_dataset[0][0].unsqueeze(0)"
   ]
  },
  {
   "cell_type": "code",
   "execution_count": 65,
   "id": "c9793ace-d3a4-483d-b339-973e341c9a00",
   "metadata": {},
   "outputs": [
    {
     "data": {
      "text/plain": [
       "torch.Size([1, 3, 224, 224])"
      ]
     },
     "execution_count": 65,
     "metadata": {},
     "output_type": "execute_result"
    }
   ],
   "source": [
    "img.shape"
   ]
  },
  {
   "cell_type": "code",
   "execution_count": 61,
   "id": "539996eb-f8c6-4bde-8ce2-2fba39ea9712",
   "metadata": {},
   "outputs": [],
   "source": [
    "img = torch.rand(1,3,640,640)\n",
    "_ = transforms.Compose([transforms.Normalize(mean=[0.5, 0.5, 0.5],\n",
    "                        std=[0.5, 0.5, 0.5])])\n",
    "img = _(img)"
   ]
  },
  {
   "cell_type": "code",
   "execution_count": 62,
   "id": "34d42e37-5ac9-4b15-819e-d537b1e8f9c4",
   "metadata": {},
   "outputs": [
    {
     "data": {
      "text/plain": [
       "torch.Size([1, 3, 640, 640])"
      ]
     },
     "execution_count": 62,
     "metadata": {},
     "output_type": "execute_result"
    }
   ],
   "source": [
    "img.shape"
   ]
  },
  {
   "cell_type": "code",
   "execution_count": 66,
   "id": "4d3bd5cd-ae69-49d8-bef1-aa9897ac1bbc",
   "metadata": {},
   "outputs": [
    {
     "name": "stdout",
     "output_type": "stream",
     "text": [
      "--------------------------------  ------------  ------------  ------------  ------------  ------------  ------------  ------------  ------------  ------------  \n",
      "                            Name    Self CPU %      Self CPU   CPU total %     CPU total  CPU time avg       CPU Mem  Self CPU Mem    # of Calls  Total MFLOPs  \n",
      "--------------------------------  ------------  ------------  ------------  ------------  ------------  ------------  ------------  ------------  ------------  \n",
      "                   ProfilerStep*         2.94%       8.735ms       100.00%     297.577ms      29.758ms       9.50 Mb    -255.63 Mb            10            --  \n",
      "                      Conv block        14.37%      42.772ms        85.05%     253.078ms     973.378us     243.03 Mb           0 b           260            --  \n",
      "                    aten::conv2d         0.68%       2.027ms        50.46%     150.159ms     577.536us      80.87 Mb           0 b           260     15245.476  \n",
      "               aten::convolution         1.39%       4.149ms        49.78%     148.132ms     569.740us      80.87 Mb           0 b           260            --  \n",
      "              aten::_convolution         1.03%       3.073ms        48.39%     143.983ms     553.782us      80.87 Mb           0 b           260            --  \n",
      "        aten::mkldnn_convolution        42.04%     125.095ms        42.66%     126.950ms     528.958us      79.91 Mb           0 b           240            --  \n",
      "                     aten::empty         1.45%       4.300ms         1.45%       4.300ms       1.654us     170.66 Mb     170.66 Mb          2600            --  \n",
      "               aten::as_strided_         0.20%     581.100us         0.20%     581.100us       2.421us           0 b           0 b           240            --  \n",
      "                   aten::resize_         0.10%     285.700us         0.10%     285.700us       1.099us     980.00 Kb     980.00 Kb           260            --  \n",
      "                      aten::add_         0.57%       1.704ms         0.57%       1.704ms       6.552us           0 b           0 b           260            --  \n",
      "                aten::batch_norm         0.43%       1.290ms        15.52%      46.183ms     177.626us      81.29 Mb           0 b           260            --  \n",
      "    aten::_batch_norm_impl_index         0.90%       2.685ms        15.09%      44.893ms     172.664us      81.29 Mb           0 b           260            --  \n",
      "         aten::native_batch_norm        12.65%      37.651ms        14.08%      41.887ms     161.102us      81.29 Mb    -865.00 Kb           260            --  \n",
      "                aten::empty_like         0.48%       1.423ms         0.67%       1.981ms       7.620us      80.87 Mb           0 b           260            --  \n",
      "                      aten::silu         4.12%      12.261ms         4.12%      12.261ms      47.158us      80.87 Mb      80.87 Mb           260            --  \n",
      "                       C2f block         2.57%       7.651ms        66.11%     196.714ms       4.918ms     171.08 Mb     -10.05 Mb            40            --  \n",
      "                     aten::chunk         0.08%     230.800us         0.62%       1.859ms      46.465us           0 b           0 b            40            --  \n",
      "                     aten::split         0.23%     684.700us         0.55%       1.628ms      40.695us           0 b           0 b            40            --  \n",
      "                    aten::narrow         0.32%     959.200us         0.78%       2.327ms      10.576us           0 b           0 b           220            --  \n",
      "                     aten::slice         0.38%       1.138ms         0.46%       1.368ms       6.216us           0 b           0 b           220            --  \n",
      "                aten::as_strided         0.09%     259.700us         0.09%     259.700us       1.082us           0 b           0 b           240            --  \n",
      "                Bottleneck block         2.36%       7.037ms        36.65%     109.060ms       1.818ms      70.44 Mb           0 b            60            --  \n",
      "                       aten::add         1.36%       4.042ms         1.36%       4.042ms      67.365us      10.05 Mb      10.05 Mb            60         2.634  \n",
      "                       aten::cat         1.29%       3.843ms         1.76%       5.227ms     130.670us      24.40 Mb      24.40 Mb            40            --  \n",
      "               aten::thnn_conv2d         0.05%     145.000us         4.69%      13.961ms     698.040us     980.00 Kb           0 b            20            --  \n",
      "      aten::_slow_conv2d_forward         4.57%      13.585ms         4.64%      13.816ms     690.790us     980.00 Kb      -8.61 Mb            20            --  \n",
      "                      aten::view         0.05%     161.400us         0.05%     161.400us       5.380us           0 b           0 b            30            --  \n",
      "                      ClassifyV8         0.48%       1.417ms         8.10%      24.114ms       2.411ms       4.97 Mb           0 b            10            --  \n",
      "        Adaptive Average Pooling         0.29%     867.800us         0.66%       1.951ms     195.120us      -2.34 Mb      -2.39 Mb            10            --  \n",
      "       aten::adaptive_avg_pool2d         0.02%      57.300us         0.36%       1.083ms     108.340us      50.00 Kb           0 b            10            --  \n",
      "                      aten::mean         0.07%     198.700us         0.34%       1.026ms     102.610us      50.00 Kb      49.99 Kb            10            --  \n",
      "                       aten::sum         0.11%     332.500us         0.12%     371.400us      37.140us           0 b           0 b            10            --  \n",
      "                     aten::fill_         0.01%      38.900us         0.01%      38.900us       3.890us           0 b           0 b            10            --  \n",
      "                      aten::div_         0.07%     196.000us         0.15%     456.000us      45.600us           8 b         -32 b            10            --  \n",
      "                        aten::to         0.02%      48.900us         0.09%     260.000us      26.000us          40 b           0 b            10            --  \n",
      "                  aten::_to_copy         0.04%     115.000us         0.07%     211.100us      21.110us          40 b           0 b            10            --  \n",
      "             aten::empty_strided         0.01%      38.900us         0.01%      38.900us       3.890us          40 b          40 b            10            --  \n",
      "                     aten::copy_         0.04%     109.100us         0.04%     109.100us       5.455us           0 b           0 b            20            --  \n",
      "                         Flatten         0.18%     535.500us         0.24%     703.700us      70.370us           0 b           0 b            10            --  \n",
      "                   aten::flatten         0.02%      59.100us         0.06%     168.200us      16.820us           0 b           0 b            10            --  \n",
      "                    Linear layer         0.29%     854.400us         1.65%       4.904ms     490.440us      39.06 Kb           0 b            10            --  \n",
      "                    aten::linear         0.04%     132.600us         1.36%       4.050ms     405.000us      39.06 Kb           0 b            10            --  \n",
      "                         aten::t         0.03%     100.100us         0.06%     182.500us      18.250us           0 b           0 b            10            --  \n",
      "                 aten::transpose         0.02%      60.400us         0.03%      82.400us       8.240us           0 b           0 b            10            --  \n",
      "                     aten::addmm         1.21%       3.612ms         1.26%       3.735ms     373.490us      39.06 Kb      39.06 Kb            10        25.600  \n",
      "                    aten::expand         0.02%      54.100us         0.02%      62.700us       6.270us           0 b           0 b            10            --  \n",
      "              aten::resolve_conj         0.00%       8.500us         0.00%       8.500us       0.425us           0 b           0 b            20            --  \n",
      "                     Log Softmax         0.25%     751.500us         0.33%     971.300us      97.130us           0 b     -39.06 Kb            10            --  \n",
      "               aten::log_softmax         0.02%      58.300us         0.07%     219.800us      21.980us      39.06 Kb           0 b            10            --  \n",
      "              aten::_log_softmax         0.05%     161.500us         0.05%     161.500us      16.150us      39.06 Kb      39.06 Kb            10            --  \n",
      "--------------------------------  ------------  ------------  ------------  ------------  ------------  ------------  ------------  ------------  ------------  \n",
      "Self CPU time total: 297.577ms\n",
      "\n"
     ]
    }
   ],
   "source": [
    "with profile(activities=[ProfilerActivity.CPU],\n",
    "                                    schedule=torch.profiler.schedule(wait=1, warmup=1, active=10, repeat=1),\n",
    "                                    on_trace_ready=torch.profiler.tensorboard_trace_handler('../../log/YOLOv8cls-version-5/inference'),\n",
    "                                    record_shapes=True,\n",
    "                                    profile_memory=True,\n",
    "                                    with_flops=True,\n",
    "                                    with_modules=True,\n",
    "                                    with_stack=True) as prof:\n",
    "    for i in range(12):\n",
    "        out = model(img)\n",
    "        prof.step()\n",
    "print(prof.key_averages().table(row_limit=-1))"
   ]
  },
  {
   "cell_type": "markdown",
   "id": "3b6704f6-7bb1-494d-8402-0f9879acaf6e",
   "metadata": {},
   "source": [
    "# FLOPS ARE DIFFERENT DEPENDING ON THE IMG SIZE"
   ]
  },
  {
   "cell_type": "markdown",
   "id": "fa7efe0b-aea1-480c-97fb-56feb38188d8",
   "metadata": {},
   "source": [
    "such a dumb mistake. I forgot to change image size for YOLOv8!"
   ]
  },
  {
   "cell_type": "code",
   "execution_count": null,
   "id": "0d7854e6-758a-49fa-9435-ebf4e1467ad9",
   "metadata": {},
   "outputs": [],
   "source": []
  }
 ],
 "metadata": {
  "kernelspec": {
   "display_name": "Python 3 (ipykernel)",
   "language": "python",
   "name": "python3"
  },
  "language_info": {
   "codemirror_mode": {
    "name": "ipython",
    "version": 3
   },
   "file_extension": ".py",
   "mimetype": "text/x-python",
   "name": "python",
   "nbconvert_exporter": "python",
   "pygments_lexer": "ipython3",
   "version": "3.12.6"
  }
 },
 "nbformat": 4,
 "nbformat_minor": 5
}
