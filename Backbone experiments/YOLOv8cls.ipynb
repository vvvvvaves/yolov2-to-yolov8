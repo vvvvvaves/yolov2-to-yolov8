{
 "cells": [
  {
   "cell_type": "code",
   "execution_count": 1,
   "id": "a5258e5c-2fd1-45d6-bf25-96674d504f91",
   "metadata": {},
   "outputs": [],
   "source": [
    "import torch\n",
    "import torch.nn as nn\n",
    "from torchvision import transforms\n",
    "from torch.utils.data import DataLoader\n",
    "from torch import optim"
   ]
  },
  {
   "cell_type": "code",
   "execution_count": 2,
   "id": "c9deb7c5-1256-4fdd-b447-69f25786c0e8",
   "metadata": {},
   "outputs": [],
   "source": [
    "import sys\n",
    "sys.path.insert(1, \"../\")"
   ]
  },
  {
   "cell_type": "code",
   "execution_count": 3,
   "id": "43b63379-9363-448e-b927-2231dbb097b1",
   "metadata": {},
   "outputs": [],
   "source": [
    "from train import *\n",
    "from data_preprocessing import *\n",
    "from Models.yolov8cls_path import *"
   ]
  },
  {
   "cell_type": "code",
   "execution_count": 4,
   "id": "cbdae16b-4251-46a6-865b-bfa81a9a5ea1",
   "metadata": {},
   "outputs": [],
   "source": [
    "if torch.cuda.is_available():\n",
    "    device=torch.device('cuda')\n",
    "else:\n",
    "    device=torch.device('cpu') "
   ]
  },
  {
   "cell_type": "code",
   "execution_count": 5,
   "id": "8fa53c4a-3fb5-4406-9cea-f145fe80399e",
   "metadata": {},
   "outputs": [],
   "source": [
    "model = Model(num_classes=10)"
   ]
  },
  {
   "cell_type": "code",
   "execution_count": 6,
   "id": "ae3c5dd0-ac5d-4cbb-8463-d9ebe0621f3c",
   "metadata": {},
   "outputs": [],
   "source": [
    "data_path = '../../dummy_datasets/'\n",
    "norms_path = os.path.join(data_path, 'norms.json')"
   ]
  },
  {
   "cell_type": "code",
   "execution_count": 7,
   "id": "e608e517-6da7-41c7-b62d-81cca6aecf54",
   "metadata": {},
   "outputs": [
    {
     "name": "stdout",
     "output_type": "stream",
     "text": [
      "Means are: [0.4405549168586731, 0.4407285749912262, 0.4381718039512634]\n",
      "stds are: [0.25142669677734375, 0.25270089507102966, 0.25131651759147644]\n"
     ]
    }
   ],
   "source": [
    "means = get_means(path=norms_path, train_loader=None)\n",
    "stds = get_stds(path=norms_path, train_loader=None)"
   ]
  },
  {
   "cell_type": "code",
   "execution_count": 8,
   "id": "840c3bfd-3f57-4508-9834-fd0c87b7532a",
   "metadata": {},
   "outputs": [],
   "source": [
    "transformations = transforms.Compose([transforms.ToTensor(),\n",
    "                                      transforms.Resize((224, 224)),\n",
    "                                      transforms.Normalize(mean=means, std=stds)])"
   ]
  },
  {
   "cell_type": "code",
   "execution_count": 9,
   "id": "dfaadddf-3f19-4b50-93b4-98cf177980fb",
   "metadata": {},
   "outputs": [],
   "source": [
    "train_dataset = ImageNetSubset(path=data_path, train=True, transform=transformations, half=False, show=False)\n",
    "val_dataset = ImageNetSubset(path=data_path, train=False, transform=transformations, half=False, show=False)"
   ]
  },
  {
   "cell_type": "code",
   "execution_count": 10,
   "id": "a5d356b0-68a7-44f8-bf1b-397f7889dfb9",
   "metadata": {},
   "outputs": [],
   "source": [
    "epochs=3\n",
    "train_loader = DataLoader(train_dataset, batch_size=256, shuffle=True, num_workers=4)\n",
    "val_loader = DataLoader(val_dataset, batch_size=256, shuffle=False, num_workers=4)"
   ]
  },
  {
   "cell_type": "code",
   "execution_count": 11,
   "id": "53e72a95-3140-4c39-afd7-e64d63bd5940",
   "metadata": {},
   "outputs": [],
   "source": [
    "optimizer = optim.SGD(model.parameters(), lr=0.001, momentum=0.9, weight_decay=0.0001)"
   ]
  },
  {
   "cell_type": "code",
   "execution_count": 12,
   "id": "85cc427f-08e2-43c3-a496-6f1c967a2325",
   "metadata": {},
   "outputs": [],
   "source": [
    "loss_fn = nn.NLLLoss()"
   ]
  },
  {
   "cell_type": "code",
   "execution_count": 13,
   "id": "d9efeae0-85c6-42a3-9006-f1f7de738641",
   "metadata": {},
   "outputs": [],
   "source": [
    "prof = torch.profiler.profile(\n",
    "        # schedule=torch.profiler.schedule(wait=0, warmup=0, active=1, repeat=1),\n",
    "        on_trace_ready=torch.profiler.tensorboard_trace_handler('./log/darknet19'),\n",
    "        record_shapes=True,\n",
    "        profile_memory=True,\n",
    "        with_flops=True,\n",
    "        with_modules=True,\n",
    "        with_stack=True)"
   ]
  },
  {
   "cell_type": "markdown",
   "id": "d9c4a012-f83a-495c-929b-939db6549642",
   "metadata": {},
   "source": [
    "\n",
    "Profiling your personal module \n",
    "https://pytorch.org/tutorials/beginner/profiler.html"
   ]
  },
  {
   "cell_type": "code",
   "execution_count": 14,
   "id": "a40a8174-7e18-43aa-83fd-41a98bf6ea0b",
   "metadata": {},
   "outputs": [
    {
     "name": "stdout",
     "output_type": "stream",
     "text": [
      "2024-11-16 18:25:15.257475 Epoch 1: \n",
      "2024-11-16 18:25:21.629539 Batch 1: \n",
      "torch.Size([30, 10, 1, 1])\n",
      "torch.Size([30, 10])\n",
      "[Train] Accuracy: 13.3333, Loss per batch: 2.2849\n",
      "2024-11-16 18:25:33.310796 Batch 1: \n",
      "torch.Size([256, 10, 1, 1])\n",
      "torch.Size([256, 10])\n",
      "2024-11-16 18:25:44.577420 Batch 2: \n",
      "torch.Size([244, 10, 1, 1])\n",
      "torch.Size([244, 10])\n",
      "[Val] Accuracy: 10.0%, loss per batch: 2.3026\n",
      "2024-11-16 18:25:55.961150 Epoch 2: \n",
      "2024-11-16 18:26:04.550771 Batch 1: \n",
      "torch.Size([30, 10, 1, 1])\n",
      "torch.Size([30, 10])\n",
      "[Train] Accuracy: 23.3333, Loss per batch: 2.2079\n",
      "2024-11-16 18:26:16.975491 Batch 1: \n",
      "torch.Size([256, 10, 1, 1])\n",
      "torch.Size([256, 10])\n",
      "2024-11-16 18:26:26.980195 Batch 2: \n",
      "torch.Size([244, 10, 1, 1])\n",
      "torch.Size([244, 10])\n",
      "[Val] Accuracy: 10.0%, loss per batch: 2.3027\n",
      "2024-11-16 18:26:39.092225 Epoch 3: \n",
      "2024-11-16 18:26:45.962882 Batch 1: \n",
      "torch.Size([30, 10, 1, 1])\n",
      "torch.Size([30, 10])\n",
      "[Train] Accuracy: 40.0, Loss per batch: 2.0945\n",
      "2024-11-16 18:26:59.123262 Batch 1: \n",
      "torch.Size([256, 10, 1, 1])\n",
      "torch.Size([256, 10])\n",
      "2024-11-16 18:27:09.713768 Batch 2: \n",
      "torch.Size([244, 10, 1, 1])\n",
      "torch.Size([244, 10])\n",
      "[Val] Accuracy: 10.0%, loss per batch: 2.3028\n"
     ]
    }
   ],
   "source": [
    "history, gradient_stats, prof = train(epochs, train_loader, val_loader, model, optimizer, loss_fn, prof)"
   ]
  },
  {
   "cell_type": "markdown",
   "id": "1826fb63-f1e9-4b4e-9bf6-6b061b127c33",
   "metadata": {},
   "source": [
    "## Inference time"
   ]
  },
  {
   "cell_type": "code",
   "execution_count": 58,
   "id": "1172cfb5-01c8-4345-a282-521bee61df45",
   "metadata": {},
   "outputs": [],
   "source": [
    "from ultralytics import YOLO"
   ]
  },
  {
   "cell_type": "code",
   "execution_count": 59,
   "id": "74740f5f-cc6f-4b40-9fbb-d8ab96d0ca13",
   "metadata": {},
   "outputs": [],
   "source": [
    "model = YOLO('../Models/yolov8m-cls.pt')"
   ]
  },
  {
   "cell_type": "code",
   "execution_count": 60,
   "id": "1efca0eb-46fa-4f8f-962d-c203f45fc057",
   "metadata": {},
   "outputs": [],
   "source": [
    "# model = model.model"
   ]
  },
  {
   "cell_type": "code",
   "execution_count": 70,
   "id": "0c74c18e-ac17-4de9-a2a4-4787cb14017d",
   "metadata": {},
   "outputs": [],
   "source": [
    "img = torch.rand(1,3,640,640)\n",
    "_ = transforms.Compose([transforms.Normalize(mean=[0.5, 0.5, 0.5],\n",
    "                        std=[0.5, 0.5, 0.5])])\n",
    "img = _(img)"
   ]
  },
  {
   "cell_type": "code",
   "execution_count": 71,
   "id": "d2426ee4-b05b-47a4-8824-f1f603966f87",
   "metadata": {},
   "outputs": [
    {
     "name": "stdout",
     "output_type": "stream",
     "text": [
      "\n",
      "0: 640x640 chain 0.14, velvet 0.08, honeycomb 0.06, wall_clock 0.06, spotlight 0.05, 292.6ms\n",
      "Speed: 8.0ms preprocess, 292.6ms inference, 9.6ms postprocess per image at shape (1, 3, 640, 640)\n",
      "-----------------------------  ------------  ------------  ------------  ------------  ------------  ------------  ------------  \n",
      "                         Name    Self CPU %      Self CPU   CPU total %     CPU total  CPU time avg    # of Calls  Total MFLOPs  \n",
      "-----------------------------  ------------  ------------  ------------  ------------  ------------  ------------  ------------  \n",
      "                  aten::empty         0.18%     529.000us         0.18%     529.000us       6.531us            81            --  \n",
      "                     aten::to         0.01%      41.800us         0.24%     707.100us      64.282us            11            --  \n",
      "             aten::lift_fresh         0.00%       2.500us         0.00%       2.500us       1.250us             2            --  \n",
      "                aten::detach_         0.00%       0.900us         0.00%       0.900us       0.450us             2            --  \n",
      "                    aten::max         0.11%     327.100us         0.11%     334.300us     334.300us             1            --  \n",
      "                  aten::fill_         0.00%       8.900us         0.00%       8.900us       4.450us             2            --  \n",
      "                     aten::gt         0.01%      40.900us         0.03%      98.000us      98.000us             1            --  \n",
      "               aten::_to_copy         0.03%      78.000us         0.23%     665.300us     166.325us             4            --  \n",
      "          aten::empty_strided         0.01%      17.100us         0.01%      17.100us       4.275us             4            --  \n",
      "                  aten::copy_         0.44%       1.288ms         0.44%       1.288ms     161.013us             8            --  \n",
      "             aten::is_nonzero         0.00%       6.800us         0.01%      17.000us      17.000us             1            --  \n",
      "                   aten::item         0.01%      23.700us         0.01%      28.600us       4.767us             6            --  \n",
      "    aten::_local_scalar_dense         0.00%       4.900us         0.00%       4.900us       0.817us             6            --  \n",
      "                 aten::unbind         0.01%      29.800us         0.03%      74.300us      37.150us             2            --  \n",
      "                 aten::select         0.02%      57.900us         0.02%      71.400us      10.200us             7            --  \n",
      "             aten::as_strided         0.02%      61.000us         0.02%      61.000us       1.525us            40            --  \n",
      "                 aten::conv2d         0.13%     371.100us        90.50%     266.349ms       7.009ms            38     41631.744  \n",
      "            aten::convolution         0.12%     359.700us        90.37%     265.978ms       6.999ms            38            --  \n",
      "           aten::_convolution         0.24%     695.400us        90.25%     265.618ms       6.990ms            38            --  \n",
      "     aten::mkldnn_convolution        89.74%     264.121ms        90.01%     264.923ms       6.972ms            38            --  \n",
      "            aten::as_strided_         0.08%     241.300us         0.08%     241.300us       6.350us            38            --  \n",
      "                aten::resize_         0.03%      74.300us         0.03%      74.300us       1.905us            39            --  \n",
      "                  aten::silu_         4.10%      12.064ms         4.10%      12.064ms     317.474us            38            --  \n",
      "                  aten::chunk         0.01%      36.100us         0.07%     215.900us      53.975us             4            --  \n",
      "                  aten::split         0.02%      44.500us         0.06%     179.800us      44.950us             4            --  \n",
      "                 aten::narrow         0.05%     147.100us         0.13%     371.900us      13.282us            28            --  \n",
      "                  aten::slice         0.07%     194.000us         0.08%     233.500us       8.052us            29            --  \n",
      "                    aten::add         1.79%       5.267ms         1.79%       5.267ms     438.917us            12         6.451  \n",
      "                    aten::cat         1.97%       5.812ms         2.06%       6.048ms       1.512ms             4            --  \n",
      "    aten::adaptive_avg_pool2d         0.00%      14.100us         0.05%     150.000us     150.000us             1            --  \n",
      "                   aten::mean         0.01%      19.500us         0.05%     135.900us     135.900us             1            --  \n",
      "                    aten::sum         0.02%      62.100us         0.02%      68.400us      68.400us             1            --  \n",
      "                   aten::div_         0.01%      20.700us         0.02%      48.000us      48.000us             1            --  \n",
      "                aten::flatten         0.00%       7.100us         0.00%      10.500us      10.500us             1            --  \n",
      "                   aten::view         0.00%       3.400us         0.00%       3.400us       3.400us             1            --  \n",
      "               aten::dropout_         0.00%       2.300us         0.00%       2.300us       2.300us             1            --  \n",
      "                 aten::linear         0.01%      20.300us         0.16%     457.400us     457.400us             1            --  \n",
      "                      aten::t         0.00%      11.900us         0.01%      22.000us      22.000us             1            --  \n",
      "              aten::transpose         0.00%       7.100us         0.00%      10.100us      10.100us             1            --  \n",
      "                  aten::addmm         0.13%     397.300us         0.14%     415.100us     415.100us             1         2.560  \n",
      "                 aten::expand         0.00%       8.500us         0.00%       9.300us       9.300us             1            --  \n",
      "           aten::resolve_conj         0.00%       1.600us         0.00%       1.600us       0.400us             4            --  \n",
      "                aten::softmax         0.00%       5.900us         0.00%      14.300us      14.300us             1            --  \n",
      "               aten::_softmax         0.00%       8.400us         0.00%       8.400us       8.400us             1            --  \n",
      "                aten::permute         0.00%      11.000us         0.00%      13.600us      13.600us             1            --  \n",
      "             aten::contiguous         0.00%       5.400us         0.25%     722.100us     722.100us             1            --  \n",
      "                  aten::clone         0.00%      10.700us         0.24%     716.700us     716.700us             1            --  \n",
      "             aten::empty_like         0.00%       5.400us         0.00%       8.600us       8.600us             1            --  \n",
      "                    aten::mul         0.21%     603.800us         0.21%     623.800us     623.800us             1         1.229  \n",
      "                  aten::clamp         0.29%     865.100us         0.30%     868.900us     868.900us             1            --  \n",
      "                 aten::detach         0.00%       4.200us         0.00%       4.200us       4.200us             1            --  \n",
      "            aten::resolve_neg         0.00%       0.400us         0.00%       0.400us       0.200us             2            --  \n",
      "                    aten::neg         0.01%      18.600us         0.01%      18.600us      18.600us             1            --  \n",
      "                aten::argsort         0.00%       7.400us         0.10%     282.100us     282.100us             1            --  \n",
      "                   aten::sort         0.07%     214.400us         0.09%     274.700us     274.700us             1            --  \n",
      "                 aten::arange         0.01%      38.100us         0.02%      71.400us      35.700us             2            --  \n",
      "-----------------------------  ------------  ------------  ------------  ------------  ------------  ------------  ------------  \n",
      "Self CPU time total: 294.321ms\n",
      "\n"
     ]
    }
   ],
   "source": [
    "with torch.autograd.profiler.profile(use_device='cpu',\n",
    "                                    record_shapes=True,\n",
    "                                    # profile_memory=True,\n",
    "                                    with_flops=True,\n",
    "                                    with_modules=True,\n",
    "                                    with_stack=True) as prof:\n",
    "   model.predict(img)\n",
    "print(prof.key_averages().table(row_limit=-1))"
   ]
  },
  {
   "cell_type": "code",
   "execution_count": 65,
   "id": "c1e538f2-314d-45e9-8b66-31e52438f3a5",
   "metadata": {},
   "outputs": [
    {
     "data": {
      "text/plain": [
       "41641.984"
      ]
     },
     "execution_count": 65,
     "metadata": {},
     "output_type": "execute_result"
    }
   ],
   "source": [
    "6.451+41631.744+2.560 +1.229"
   ]
  },
  {
   "cell_type": "markdown",
   "id": "73e51cb9-eb5e-4869-9d89-db1aa508b589",
   "metadata": {},
   "source": [
    "YOLOv8n</br>\n",
    "Mine: 3.290265 GFLOPs ; On the website: 4.3 GFLOPs</br>\n",
    "YOLOv8s</br>\n",
    "Mine: 12.449996 GFLOPs ; On the website: 13.5 GFLOPs</br>\n",
    "YOLOv8m</br>\n",
    "Mine: 41.640755 GFLOPs ; On the website: 42.7 GFLOPs"
   ]
  },
  {
   "cell_type": "code",
   "execution_count": null,
   "id": "30e53e69-e300-4f84-90f7-480a1209f866",
   "metadata": {},
   "outputs": [],
   "source": []
  }
 ],
 "metadata": {
  "kernelspec": {
   "display_name": "Python 3 (ipykernel)",
   "language": "python",
   "name": "python3"
  },
  "language_info": {
   "codemirror_mode": {
    "name": "ipython",
    "version": 3
   },
   "file_extension": ".py",
   "mimetype": "text/x-python",
   "name": "python",
   "nbconvert_exporter": "python",
   "pygments_lexer": "ipython3",
   "version": "3.12.6"
  }
 },
 "nbformat": 4,
 "nbformat_minor": 5
}
