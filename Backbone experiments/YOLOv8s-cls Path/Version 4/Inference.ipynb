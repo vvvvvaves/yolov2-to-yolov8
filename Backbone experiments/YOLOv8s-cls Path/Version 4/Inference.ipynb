{
 "cells": [
  {
   "cell_type": "code",
   "execution_count": 1,
   "id": "a5258e5c-2fd1-45d6-bf25-96674d504f91",
   "metadata": {},
   "outputs": [],
   "source": [
    "import os\n",
    "import torch\n",
    "import torch.nn as nn\n",
    "from torchvision import transforms"
   ]
  },
  {
   "cell_type": "code",
   "execution_count": 2,
   "id": "c9deb7c5-1256-4fdd-b447-69f25786c0e8",
   "metadata": {},
   "outputs": [],
   "source": [
    "import sys\n",
    "sys.path.insert(1, \"../../../\")"
   ]
  },
  {
   "cell_type": "code",
   "execution_count": 3,
   "id": "43b63379-9363-448e-b927-2231dbb097b1",
   "metadata": {},
   "outputs": [],
   "source": [
    "from data_preprocessing import get_means, get_stds, ImageNetSubset\n",
    "from Models.yolov8cls_path import Model"
   ]
  },
  {
   "cell_type": "code",
   "execution_count": 4,
   "id": "cbdae16b-4251-46a6-865b-bfa81a9a5ea1",
   "metadata": {},
   "outputs": [],
   "source": [
    "if torch.cuda.is_available():\n",
    "    device=torch.device('cuda')\n",
    "else:\n",
    "    device=torch.device('cpu') "
   ]
  },
  {
   "cell_type": "code",
   "execution_count": 5,
   "id": "ae3c5dd0-ac5d-4cbb-8463-d9ebe0621f3c",
   "metadata": {},
   "outputs": [],
   "source": [
    "data_path = '../../../../dummy_datasets/'\n",
    "norms_path = os.path.join(data_path, 'norms.json')"
   ]
  },
  {
   "cell_type": "code",
   "execution_count": 6,
   "id": "e608e517-6da7-41c7-b62d-81cca6aecf54",
   "metadata": {},
   "outputs": [
    {
     "name": "stdout",
     "output_type": "stream",
     "text": [
      "Means are: [0.4405549168586731, 0.4407285749912262, 0.4381718039512634]\n",
      "stds are: [0.25142669677734375, 0.25270089507102966, 0.25131651759147644]\n"
     ]
    }
   ],
   "source": [
    "means = get_means(path=norms_path, train_loader=None)\n",
    "stds = get_stds(path=norms_path, train_loader=None)"
   ]
  },
  {
   "cell_type": "code",
   "execution_count": 7,
   "id": "840c3bfd-3f57-4508-9834-fd0c87b7532a",
   "metadata": {},
   "outputs": [],
   "source": [
    "transformations = transforms.Compose([transforms.ToTensor(),\n",
    "                                      transforms.Resize((224, 224)),\n",
    "                                      transforms.Normalize(mean=means, std=stds)])"
   ]
  },
  {
   "cell_type": "code",
   "execution_count": 8,
   "id": "dfaadddf-3f19-4b50-93b4-98cf177980fb",
   "metadata": {},
   "outputs": [],
   "source": [
    "train_dataset = ImageNetSubset(path=data_path, train=True, transform=transformations, half=False, show=False)"
   ]
  },
  {
   "cell_type": "markdown",
   "id": "102fb805-2a55-41c6-8ef3-82c9c46dca89",
   "metadata": {},
   "source": [
    "# Inference"
   ]
  },
  {
   "cell_type": "code",
   "execution_count": 1,
   "id": "0334802c-836d-4d5e-84fb-3bb63513304b",
   "metadata": {},
   "outputs": [
    {
     "ename": "NameError",
     "evalue": "name 'Model' is not defined",
     "output_type": "error",
     "traceback": [
      "\u001b[1;31m---------------------------------------------------------------------------\u001b[0m",
      "\u001b[1;31mNameError\u001b[0m                                 Traceback (most recent call last)",
      "Cell \u001b[1;32mIn[1], line 1\u001b[0m\n\u001b[1;32m----> 1\u001b[0m model \u001b[38;5;241m=\u001b[39m \u001b[43mModel\u001b[49m(num_classes\u001b[38;5;241m=\u001b[39m\u001b[38;5;241m10\u001b[39m, \n\u001b[0;32m      2\u001b[0m               residual_connection\u001b[38;5;241m=\u001b[39m\u001b[38;5;28;01mTrue\u001b[39;00m, \n\u001b[0;32m      3\u001b[0m               CSP\u001b[38;5;241m=\u001b[39m\u001b[38;5;28;01mTrue\u001b[39;00m, \n\u001b[0;32m      4\u001b[0m               add_hidden\u001b[38;5;241m=\u001b[39m\u001b[38;5;28;01mTrue\u001b[39;00m,\n\u001b[0;32m      5\u001b[0m               classifyV8\u001b[38;5;241m=\u001b[39m\u001b[38;5;28;01mFalse\u001b[39;00m,\n\u001b[0;32m      6\u001b[0m               bottleneck\u001b[38;5;241m=\u001b[39m\u001b[38;5;241m1.0\u001b[39m, \n\u001b[0;32m      7\u001b[0m               variant\u001b[38;5;241m=\u001b[39m\u001b[38;5;124m'\u001b[39m\u001b[38;5;124ms\u001b[39m\u001b[38;5;124m'\u001b[39m, \n\u001b[0;32m      8\u001b[0m               device\u001b[38;5;241m=\u001b[39mdevice, \n\u001b[0;32m      9\u001b[0m               dtype\u001b[38;5;241m=\u001b[39mtorch\u001b[38;5;241m.\u001b[39mfloat32)\n",
      "\u001b[1;31mNameError\u001b[0m: name 'Model' is not defined"
     ]
    }
   ],
   "source": [
    "model = Model(num_classes=10, \n",
    "              residual_connection=True, \n",
    "              CSP=True, \n",
    "              add_hidden=True,\n",
    "              classifyV8=False,\n",
    "              bottleneck=1.0, \n",
    "              variant='s', \n",
    "              device=device, \n",
    "              dtype=torch.float32)"
   ]
  },
  {
   "cell_type": "code",
   "execution_count": 10,
   "id": "0c74c18e-ac17-4de9-a2a4-4787cb14017d",
   "metadata": {},
   "outputs": [],
   "source": [
    "img = train_dataset[0][0].unsqueeze(0)"
   ]
  },
  {
   "cell_type": "code",
   "execution_count": 11,
   "id": "49cee9ed-c904-430e-8547-65f4a7d374fa",
   "metadata": {},
   "outputs": [],
   "source": [
    "from torch.profiler import profile, ProfilerActivity"
   ]
  },
  {
   "cell_type": "code",
   "execution_count": 14,
   "id": "d2426ee4-b05b-47a4-8824-f1f603966f87",
   "metadata": {},
   "outputs": [
    {
     "name": "stdout",
     "output_type": "stream",
     "text": [
      "--------------------------------  ------------  ------------  ------------  ------------  ------------  ------------  ------------  ------------  ------------  \n",
      "                            Name    Self CPU %      Self CPU   CPU total %     CPU total  CPU time avg       CPU Mem  Self CPU Mem    # of Calls  Total KFLOPs  \n",
      "--------------------------------  ------------  ------------  ------------  ------------  ------------  ------------  ------------  ------------  ------------  \n",
      "                      Conv block        14.46%       8.547ms        93.98%      55.566ms       2.223ms      23.58 Mb           0 b            25            --  \n",
      "                    aten::conv2d         0.96%     565.700us        55.47%      32.798ms       1.261ms       7.85 Mb           0 b            26   1383753.728  \n",
      "               aten::convolution         0.97%     575.000us        54.52%      32.232ms       1.240ms       7.85 Mb           0 b            26            --  \n",
      "              aten::_convolution         0.71%     421.400us        53.54%      31.657ms       1.218ms       7.85 Mb           0 b            26            --  \n",
      "        aten::mkldnn_convolution        44.63%      26.384ms        45.19%      26.721ms       1.113ms       7.75 Mb           0 b            24            --  \n",
      "                     aten::empty         2.50%       1.479ms         2.50%       1.479ms       5.871us      16.56 Mb      16.56 Mb           252            --  \n",
      "               aten::as_strided_         0.19%     109.900us         0.19%     109.900us       4.579us           0 b           0 b            24            --  \n",
      "                   aten::resize_         0.13%      76.400us         0.13%      76.400us       2.938us      98.00 Kb      98.00 Kb            26            --  \n",
      "                      aten::add_         0.57%     337.500us         0.57%     337.500us      13.500us           0 b           0 b            25            --  \n",
      "                aten::batch_norm         0.27%     161.200us        20.27%      11.983ms     479.308us       7.88 Mb           0 b            25            --  \n",
      "    aten::_batch_norm_impl_index         0.56%     330.500us        19.99%      11.821ms     472.860us       7.88 Mb           0 b            25            --  \n",
      "         aten::native_batch_norm        17.05%      10.082ms        19.36%      11.446ms     457.828us       7.88 Mb     -66.50 Kb            25            --  \n",
      "                aten::empty_like         0.20%     121.100us         0.31%     181.000us       7.240us       7.85 Mb           0 b            25            --  \n",
      "                      aten::silu         3.73%       2.203ms         3.73%       2.203ms      88.132us       7.85 Mb       7.85 Mb            25            --  \n",
      "                     aten::chunk         0.05%      27.300us         0.39%     228.600us      57.150us           0 b           0 b             4            --  \n",
      "                     aten::split         0.15%      88.800us         0.34%     201.300us      50.325us           0 b           0 b             4            --  \n",
      "                    aten::narrow         0.14%      84.900us         0.40%     234.500us      16.750us           0 b           0 b            14            --  \n",
      "                     aten::slice         0.21%     122.900us         0.25%     149.600us      10.686us           0 b           0 b            14            --  \n",
      "                aten::as_strided         0.05%      26.700us         0.05%      26.700us       1.907us           0 b           0 b            14            --  \n",
      "                       aten::add         0.61%     359.800us         0.61%     359.800us      59.967us       1.00 Mb       1.00 Mb             6       263.424  \n",
      "                        [memory]         0.00%       0.000us         0.00%       0.000us       0.000us     -26.02 Mb     -26.02 Mb           136            --  \n",
      "                       aten::cat         3.48%       2.059ms         3.69%       2.181ms     545.275us       1.44 Mb       1.44 Mb             4            --  \n",
      "               aten::thnn_conv2d         0.04%      24.600us         7.64%       4.515ms       2.257ms      98.00 Kb           0 b             2            --  \n",
      "      aten::_slow_conv2d_forward         7.51%       4.439ms         7.59%       4.490ms       2.245ms      98.00 Kb    -882.00 Kb             2            --  \n",
      "                      aten::view         0.04%      22.300us         0.04%      22.300us       7.433us           0 b           0 b             3            --  \n",
      "        Adaptive Average Pooling         0.27%     160.100us         0.43%     256.900us     256.900us      -1.88 Kb      -1.91 Kb             1            --  \n",
      "       aten::adaptive_avg_pool2d         0.01%       6.000us         0.16%      96.800us      96.800us          40 b           0 b             1            --  \n",
      "                      aten::mean         0.04%      22.000us         0.15%      90.800us      90.800us          40 b          40 b             1            --  \n",
      "                       aten::sum         0.03%      15.600us         0.03%      20.100us      20.100us           0 b           0 b             1            --  \n",
      "                     aten::fill_         0.01%       4.500us         0.01%       4.500us       4.500us           0 b           0 b             1            --  \n",
      "                      aten::div_         0.03%      19.800us         0.08%      48.700us      48.700us           0 b          -4 b             1            --  \n",
      "                        aten::to         0.01%       5.300us         0.05%      28.900us      28.900us           4 b           0 b             1            --  \n",
      "                  aten::_to_copy         0.02%      13.000us         0.04%      23.600us      23.600us           4 b           0 b             1            --  \n",
      "             aten::empty_strided         0.01%       4.300us         0.01%       4.300us       4.300us           4 b           4 b             1            --  \n",
      "                     aten::copy_         0.01%       6.300us         0.01%       6.300us       6.300us           0 b           0 b             1            --  \n",
      "                         Flatten         0.11%      64.200us         0.14%      83.000us      83.000us           0 b           0 b             1            --  \n",
      "                   aten::flatten         0.01%       6.100us         0.03%      18.800us      18.800us           0 b           0 b             1            --  \n",
      "                     Log Softmax         0.22%     127.800us         0.25%     147.200us     147.200us           0 b         -40 b             1            --  \n",
      "               aten::log_softmax         0.01%       5.300us         0.03%      19.400us      19.400us          40 b           0 b             1            --  \n",
      "              aten::_log_softmax         0.02%      14.100us         0.02%      14.100us      14.100us          40 b          40 b             1            --  \n",
      "--------------------------------  ------------  ------------  ------------  ------------  ------------  ------------  ------------  ------------  ------------  \n",
      "Self CPU time total: 59.125ms\n",
      "\n"
     ]
    }
   ],
   "source": [
    "with profile(activities=[ProfilerActivity.CPU, ProfilerActivity.CUDA],\n",
    "                                    schedule=torch.profiler.schedule(wait=1, warmup=1, active=10, repeat=1),\n",
    "                                    on_trace_ready=torch.profiler.tensorboard_trace_handler('../../log/YOLOv8cls-version-4/inference'),\n",
    "                                    record_shapes=True,\n",
    "                                    profile_memory=True,\n",
    "                                    with_flops=True,\n",
    "                                    with_modules=True,\n",
    "                                    with_stack=True) as prof:\n",
    "    for i in range(11):\n",
    "        out = model(img)\n",
    "        prof.step()\n",
    "print(prof.key_averages().table(row_limit=-1))"
   ]
  },
  {
   "cell_type": "code",
   "execution_count": null,
   "id": "46741b04-4824-45cd-a455-f6c34b76b2c3",
   "metadata": {},
   "outputs": [],
   "source": []
  }
 ],
 "metadata": {
  "kernelspec": {
   "display_name": "Python 3 (ipykernel)",
   "language": "python",
   "name": "python3"
  },
  "language_info": {
   "codemirror_mode": {
    "name": "ipython",
    "version": 3
   },
   "file_extension": ".py",
   "mimetype": "text/x-python",
   "name": "python",
   "nbconvert_exporter": "python",
   "pygments_lexer": "ipython3",
   "version": "3.12.6"
  }
 },
 "nbformat": 4,
 "nbformat_minor": 5
}
