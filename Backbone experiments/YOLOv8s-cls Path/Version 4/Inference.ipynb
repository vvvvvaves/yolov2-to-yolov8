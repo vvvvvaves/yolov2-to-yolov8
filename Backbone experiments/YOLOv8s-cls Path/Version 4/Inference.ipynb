{
 "cells": [
  {
   "cell_type": "code",
   "execution_count": 1,
   "id": "a5258e5c-2fd1-45d6-bf25-96674d504f91",
   "metadata": {},
   "outputs": [],
   "source": [
    "import os\n",
    "import torch\n",
    "import torch.nn as nn\n",
    "from torchvision import transforms"
   ]
  },
  {
   "cell_type": "code",
   "execution_count": 2,
   "id": "c9deb7c5-1256-4fdd-b447-69f25786c0e8",
   "metadata": {},
   "outputs": [],
   "source": [
    "import sys\n",
    "sys.path.insert(1, \"../../../\")"
   ]
  },
  {
   "cell_type": "code",
   "execution_count": 29,
   "id": "43b63379-9363-448e-b927-2231dbb097b1",
   "metadata": {},
   "outputs": [],
   "source": [
    "from data_preprocessing import get_means, get_stds, ImageNetSubset\n",
    "from Models.yolov8cls_path import Model"
   ]
  },
  {
   "cell_type": "code",
   "execution_count": 4,
   "id": "cbdae16b-4251-46a6-865b-bfa81a9a5ea1",
   "metadata": {},
   "outputs": [],
   "source": [
    "if torch.cuda.is_available():\n",
    "    device=torch.device('cuda')\n",
    "else:\n",
    "    device=torch.device('cpu') "
   ]
  },
  {
   "cell_type": "code",
   "execution_count": 5,
   "id": "ae3c5dd0-ac5d-4cbb-8463-d9ebe0621f3c",
   "metadata": {},
   "outputs": [],
   "source": [
    "data_path = '../../../../dummy_datasets/'\n",
    "norms_path = os.path.join(data_path, 'norms.json')"
   ]
  },
  {
   "cell_type": "code",
   "execution_count": 6,
   "id": "e608e517-6da7-41c7-b62d-81cca6aecf54",
   "metadata": {},
   "outputs": [
    {
     "name": "stdout",
     "output_type": "stream",
     "text": [
      "Means are: [0.4405549168586731, 0.4407285749912262, 0.4381718039512634]\n",
      "stds are: [0.25142669677734375, 0.25270089507102966, 0.25131651759147644]\n"
     ]
    }
   ],
   "source": [
    "means = get_means(path=norms_path, train_loader=None)\n",
    "stds = get_stds(path=norms_path, train_loader=None)"
   ]
  },
  {
   "cell_type": "markdown",
   "id": "102fb805-2a55-41c6-8ef3-82c9c46dca89",
   "metadata": {},
   "source": [
    "# Inference at 640x640"
   ]
  },
  {
   "cell_type": "code",
   "execution_count": 7,
   "id": "840c3bfd-3f57-4508-9834-fd0c87b7532a",
   "metadata": {},
   "outputs": [],
   "source": [
    "transformations = transforms.Compose([transforms.ToTensor(),\n",
    "                                      transforms.Resize((640, 640)),\n",
    "                                      transforms.Normalize(mean=means, std=stds)])"
   ]
  },
  {
   "cell_type": "code",
   "execution_count": 8,
   "id": "dfaadddf-3f19-4b50-93b4-98cf177980fb",
   "metadata": {},
   "outputs": [],
   "source": [
    "train_dataset = ImageNetSubset(path=data_path, train=True, transform=transformations, half=False, show=False)"
   ]
  },
  {
   "cell_type": "code",
   "execution_count": 9,
   "id": "0c74c18e-ac17-4de9-a2a4-4787cb14017d",
   "metadata": {},
   "outputs": [],
   "source": [
    "img = train_dataset[0][0].unsqueeze(0)"
   ]
  },
  {
   "cell_type": "code",
   "execution_count": 10,
   "id": "49cee9ed-c904-430e-8547-65f4a7d374fa",
   "metadata": {},
   "outputs": [],
   "source": [
    "from torch.profiler import profile, ProfilerActivity"
   ]
  },
  {
   "cell_type": "code",
   "execution_count": 11,
   "id": "1985ba25-7f2f-4cc6-81a4-b567e48ccab9",
   "metadata": {},
   "outputs": [],
   "source": [
    "model = Model(num_classes=1000, \n",
    "              residual_connection=True, \n",
    "              CSP=True, \n",
    "              add_hidden=True,\n",
    "              classifyV8=False,\n",
    "              bottleneck=1.0, \n",
    "              variant='s', \n",
    "              device=device, \n",
    "              dtype=torch.float32)"
   ]
  },
  {
   "cell_type": "code",
   "execution_count": 16,
   "id": "d2426ee4-b05b-47a4-8824-f1f603966f87",
   "metadata": {
    "scrolled": true
   },
   "outputs": [
    {
     "name": "stdout",
     "output_type": "stream",
     "text": [
      "--------------------------------  ------------  ------------  ------------  ------------  ------------  ------------  ------------  ------------  ------------  \n",
      "                            Name    Self CPU %      Self CPU   CPU total %     CPU total  CPU time avg       CPU Mem  Self CPU Mem    # of Calls  Total MFLOPs  \n",
      "--------------------------------  ------------  ------------  ------------  ------------  ------------  ------------  ------------  ------------  ------------  \n",
      "                   ProfilerStep*         0.77%      11.556ms       100.00%        1.507s     150.693ms       5.49 Mb      -2.10 Gb            10            --  \n",
      "                      Conv block         6.10%      91.849ms        93.42%        1.408s       5.414ms       1.93 Gb           0 b           260            --  \n",
      "                    aten::conv2d         0.17%       2.598ms        62.34%     939.378ms       3.613ms     660.16 Mb           0 b           260    124452.864  \n",
      "               aten::convolution         0.42%       6.379ms        62.16%     936.780ms       3.603ms     660.16 Mb           0 b           260            --  \n",
      "              aten::_convolution         0.32%       4.861ms        61.74%     930.401ms       3.578ms     660.16 Mb           0 b           260            --  \n",
      "        aten::mkldnn_convolution        61.08%     920.483ms        61.42%     925.540ms       3.560ms     660.16 Mb           0 b           260            --  \n",
      "                     aten::empty         0.41%       6.196ms         0.41%       6.196ms       2.383us       1.29 Gb       1.29 Gb          2600            --  \n",
      "               aten::as_strided_         0.12%       1.853ms         0.12%       1.853ms       7.127us           0 b           0 b           260            --  \n",
      "                   aten::resize_         0.05%     703.500us         0.05%     703.500us       2.706us           0 b           0 b           260            --  \n",
      "                      aten::add_         0.30%       4.493ms         0.30%       4.493ms      17.281us           0 b           0 b           260            --  \n",
      "                aten::batch_norm         0.13%       2.020ms        19.16%     288.771ms       1.111ms     660.58 Mb           0 b           260            --  \n",
      "    aten::_batch_norm_impl_index         0.31%       4.675ms        19.03%     286.750ms       1.103ms     660.58 Mb           0 b           260            --  \n",
      "         aten::native_batch_norm        18.36%     276.723ms        18.69%     281.651ms       1.083ms     660.58 Mb    -865.00 Kb           260            --  \n",
      "                aten::empty_like         0.11%       1.657ms         0.16%       2.432ms       9.356us     660.16 Mb           0 b           260            --  \n",
      "                      aten::silu         5.52%      83.223ms         5.52%      83.223ms     320.088us     660.16 Mb     660.16 Mb           260            --  \n",
      "                       C2f block         0.91%      13.773ms        63.14%     951.416ms      23.785ms       1.36 Gb     -82.03 Mb            40            --  \n",
      "                     aten::chunk         0.02%     361.700us         0.17%       2.591ms      64.777us           0 b           0 b            40            --  \n",
      "                     aten::split         0.06%     918.800us         0.15%       2.229ms      55.735us           0 b           0 b            40            --  \n",
      "                    aten::narrow         0.09%       1.403ms         0.23%       3.413ms      15.513us           0 b           0 b           220            --  \n",
      "                     aten::slice         0.10%       1.549ms         0.13%       2.010ms       9.137us           0 b           0 b           220            --  \n",
      "                aten::as_strided         0.03%     495.300us         0.03%     495.300us       2.064us           0 b           0 b           240            --  \n",
      "                Bottleneck block         0.77%      11.677ms        33.20%     500.298ms       8.338ms     574.32 Mb           0 b            60            --  \n",
      "                       aten::add         1.02%      15.334ms         1.02%      15.334ms     255.560us      82.03 Mb      82.03 Mb            60        21.504  \n",
      "                       aten::cat         1.92%      28.996ms         2.06%      31.099ms     777.465us     199.22 Mb     199.22 Mb            40            --  \n",
      "                      ClassifyV8         0.12%       1.829ms         4.34%      65.333ms       6.533ms      39.25 Mb           0 b            10            --  \n",
      "        Adaptive Average Pooling         0.09%       1.374ms         0.26%       3.918ms     391.780us     -19.48 Mb     -19.53 Mb            10            --  \n",
      "       aten::adaptive_avg_pool2d         0.03%     448.000us         0.17%       2.544ms     254.360us      50.00 Kb           0 b            10            --  \n",
      "                      aten::mean         0.02%     302.900us         0.14%       2.096ms     209.560us      50.00 Kb      50.00 Kb            10            --  \n",
      "                       aten::sum         0.08%       1.224ms         0.08%       1.269ms     126.890us           0 b           0 b            10            --  \n",
      "                     aten::fill_         0.00%      44.700us         0.00%      44.700us       4.470us           0 b           0 b            10            --  \n",
      "                      aten::div_         0.02%     226.700us         0.03%     523.800us      52.380us           0 b         -40 b            10            --  \n",
      "                        aten::to         0.00%      71.500us         0.02%     297.100us      29.710us          40 b           0 b            10            --  \n",
      "                  aten::_to_copy         0.01%     127.500us         0.01%     225.600us      22.560us          40 b           0 b            10            --  \n",
      "             aten::empty_strided         0.00%      42.400us         0.00%      42.400us       4.240us          40 b          40 b            10            --  \n",
      "                     aten::copy_         0.01%     137.400us         0.01%     137.400us       6.870us           0 b           0 b            20            --  \n",
      "                         Flatten         0.04%     653.200us         0.06%     852.400us      85.240us           0 b           0 b            10            --  \n",
      "                   aten::flatten         0.00%      67.400us         0.01%     199.200us      19.920us           0 b           0 b            10            --  \n",
      "                      aten::view         0.01%     131.800us         0.01%     131.800us      13.180us           0 b           0 b            10            --  \n",
      "                    Linear layer         0.07%       1.081ms         0.37%       5.505ms     550.520us      39.06 Kb           0 b            10            --  \n",
      "                    aten::linear         0.01%     186.600us         0.29%       4.424ms     442.390us      39.06 Kb           0 b            10            --  \n",
      "                         aten::t         0.01%      99.300us         0.01%     197.700us      19.770us           0 b           0 b            10            --  \n",
      "                 aten::transpose         0.00%      70.800us         0.01%      98.400us       9.840us           0 b           0 b            10            --  \n",
      "                     aten::addmm         0.26%       3.887ms         0.27%       4.040ms     403.960us      39.06 Kb      39.06 Kb            10        25.600  \n",
      "                    aten::expand         0.00%      56.300us         0.00%      63.400us       6.340us           0 b           0 b            10            --  \n",
      "              aten::resolve_conj         0.00%       7.400us         0.00%       7.400us       0.370us           0 b           0 b            20            --  \n",
      "                     Log Softmax         0.06%     838.900us         0.07%       1.082ms     108.220us           0 b     -39.06 Kb            10            --  \n",
      "               aten::log_softmax         0.00%      59.100us         0.02%     243.300us      24.330us      39.06 Kb           0 b            10            --  \n",
      "              aten::_log_softmax         0.01%     184.200us         0.01%     184.200us      18.420us      39.06 Kb      39.06 Kb            10            --  \n",
      "--------------------------------  ------------  ------------  ------------  ------------  ------------  ------------  ------------  ------------  ------------  \n",
      "Self CPU time total: 1.507s\n",
      "\n"
     ]
    }
   ],
   "source": [
    "with profile(activities=[ProfilerActivity.CPU],\n",
    "                                    schedule=torch.profiler.schedule(wait=1, warmup=1, active=10, repeat=1),\n",
    "                                    on_trace_ready=torch.profiler.tensorboard_trace_handler('../../log/YOLOv8cls-version-4/inference_at_640'),\n",
    "                                    record_shapes=True,\n",
    "                                    profile_memory=True,\n",
    "                                    with_flops=True,\n",
    "                                    with_modules=True,\n",
    "                                    with_stack=True) as prof:\n",
    "    for i in range(12):\n",
    "        out = model(img)\n",
    "        prof.step()\n",
    "print(prof.key_averages().table(row_limit=-1))"
   ]
  },
  {
   "cell_type": "markdown",
   "id": "24787ea0-1f86-4bab-b24b-ccded3c81c81",
   "metadata": {},
   "source": [
    "# Inference at 224x224"
   ]
  },
  {
   "cell_type": "code",
   "execution_count": 23,
   "id": "77eac3b8-9ed6-4db9-b6e5-65bd9861c3a6",
   "metadata": {},
   "outputs": [],
   "source": [
    "transformations = transforms.Compose([transforms.ToTensor(),\n",
    "                                      transforms.Resize((224, 224)),\n",
    "                                      transforms.Normalize(mean=means, std=stds)])"
   ]
  },
  {
   "cell_type": "code",
   "execution_count": 24,
   "id": "4219c9d9-09e2-4ade-ab92-02bb95131795",
   "metadata": {},
   "outputs": [],
   "source": [
    "train_dataset = ImageNetSubset(path=data_path, train=True, transform=transformations, half=False, show=False)"
   ]
  },
  {
   "cell_type": "code",
   "execution_count": 25,
   "id": "15b23676-1f8a-4498-856c-d62c6ee1de3d",
   "metadata": {},
   "outputs": [],
   "source": [
    "img = train_dataset[0][0].unsqueeze(0)"
   ]
  },
  {
   "cell_type": "code",
   "execution_count": 26,
   "id": "11d18247-d309-4d50-9218-d0620b8d5dc0",
   "metadata": {},
   "outputs": [],
   "source": [
    "from torch.profiler import profile, ProfilerActivity"
   ]
  },
  {
   "cell_type": "code",
   "execution_count": 27,
   "id": "92b301dc-1ace-4c82-8e00-29a02be15f70",
   "metadata": {},
   "outputs": [],
   "source": [
    "model = Model(num_classes=1000, \n",
    "              residual_connection=True, \n",
    "              CSP=True, \n",
    "              add_hidden=True,\n",
    "              classifyV8=False,\n",
    "              bottleneck=1.0, \n",
    "              variant='s', \n",
    "              device=device, \n",
    "              dtype=torch.float32)"
   ]
  },
  {
   "cell_type": "code",
   "execution_count": 28,
   "id": "26b41568-7310-4ccb-9bde-3f94a048a7b6",
   "metadata": {
    "scrolled": true
   },
   "outputs": [
    {
     "name": "stdout",
     "output_type": "stream",
     "text": [
      "--------------------------------  ------------  ------------  ------------  ------------  ------------  ------------  ------------  ------------  ------------  \n",
      "                            Name    Self CPU %      Self CPU   CPU total %     CPU total  CPU time avg       CPU Mem  Self CPU Mem    # of Calls  Total MFLOPs  \n",
      "--------------------------------  ------------  ------------  ------------  ------------  ------------  ------------  ------------  ------------  ------------  \n",
      "                   ProfilerStep*         2.15%       8.163ms       100.00%     378.933ms      37.893ms      11.61 Mb    -253.52 Mb            10            --  \n",
      "                      Conv block        14.38%      54.475ms        87.37%     331.087ms       1.273ms     243.03 Mb           0 b           260            --  \n",
      "                    aten::conv2d         0.62%       2.354ms        53.95%     204.421ms     786.235us      80.87 Mb           0 b           260     15245.476  \n",
      "               aten::convolution         1.27%       4.809ms        53.33%     202.067ms     777.182us      80.87 Mb           0 b           260            --  \n",
      "              aten::_convolution         0.95%       3.585ms        52.06%     197.258ms     758.686us      80.87 Mb           0 b           260            --  \n",
      "        aten::mkldnn_convolution        45.97%     174.185ms        46.74%     177.127ms     738.028us      79.91 Mb           0 b           240            --  \n",
      "                     aten::empty         1.40%       5.314ms         1.40%       5.314ms       2.044us     170.66 Mb     170.66 Mb          2600            --  \n",
      "               aten::as_strided_         0.23%     865.300us         0.23%     865.300us       3.605us           0 b           0 b           240            --  \n",
      "                   aten::resize_         0.09%     344.800us         0.09%     344.800us       1.326us     980.00 Kb     980.00 Kb           260            --  \n",
      "                      aten::add_         0.59%       2.237ms         0.59%       2.237ms       8.605us           0 b           0 b           260            --  \n",
      "                aten::batch_norm         0.37%       1.410ms        14.80%      56.078ms     215.684us      81.29 Mb           0 b           260            --  \n",
      "    aten::_batch_norm_impl_index         0.81%       3.060ms        14.43%      54.668ms     210.260us      81.29 Mb           0 b           260            --  \n",
      "         aten::native_batch_norm        12.29%      46.585ms        13.52%      51.240ms     197.078us      81.29 Mb    -865.00 Kb           260            --  \n",
      "                aten::empty_like         0.42%       1.606ms         0.58%       2.192ms       8.431us      80.87 Mb           0 b           260            --  \n",
      "                      aten::silu         3.66%      13.876ms         3.66%      13.876ms      53.368us      80.87 Mb      80.87 Mb           260            --  \n",
      "                       C2f block         2.42%       9.183ms        66.25%     251.050ms       6.276ms     171.08 Mb     -10.05 Mb            40            --  \n",
      "                     aten::chunk         0.06%     245.900us         0.55%       2.076ms      51.893us           0 b           0 b            40            --  \n",
      "                     aten::split         0.21%     794.400us         0.48%       1.830ms      45.745us           0 b           0 b            40            --  \n",
      "                    aten::narrow         0.31%       1.161ms         0.72%       2.719ms      12.358us           0 b           0 b           220            --  \n",
      "                     aten::slice         0.34%       1.270ms         0.41%       1.558ms       7.080us           0 b           0 b           220            --  \n",
      "                aten::as_strided         0.08%     320.000us         0.08%     320.000us       1.333us           0 b           0 b           240            --  \n",
      "                Bottleneck block         2.21%       8.367ms        36.68%     139.006ms       2.317ms      70.44 Mb           0 b            60            --  \n",
      "                       aten::add         0.91%       3.447ms         0.91%       3.447ms      57.453us      10.05 Mb      10.05 Mb            60         2.634  \n",
      "                       aten::cat         1.15%       4.369ms         1.60%       6.052ms     151.302us      24.40 Mb      24.40 Mb            40            --  \n",
      "               aten::thnn_conv2d         0.04%     151.600us         4.37%      16.546ms     827.310us     980.00 Kb           0 b            20            --  \n",
      "      aten::_slow_conv2d_forward         4.27%      16.171ms         4.33%      16.395ms     819.730us     980.00 Kb      -8.61 Mb            20            --  \n",
      "                      aten::view         0.05%     180.400us         0.05%     180.400us       6.013us           0 b           0 b            30            --  \n",
      "                      ClassifyV8         0.44%       1.666ms         7.23%      27.387ms       2.739ms       4.97 Mb           0 b            10            --  \n",
      "        Adaptive Average Pooling         0.26%     975.900us         0.62%       2.349ms     234.890us      -2.34 Mb      -2.39 Mb            10            --  \n",
      "       aten::adaptive_avg_pool2d         0.02%      59.100us         0.36%       1.373ms     137.300us      50.00 Kb           0 b            10            --  \n",
      "                      aten::mean         0.06%     209.600us         0.35%       1.314ms     131.390us      50.00 Kb      49.98 Kb            10            --  \n",
      "                       aten::sum         0.16%     605.200us         0.17%     648.000us      64.800us           0 b           0 b            10            --  \n",
      "                     aten::fill_         0.01%      42.800us         0.01%      42.800us       4.280us           0 b           0 b            10            --  \n",
      "                      aten::div_         0.05%     176.900us         0.12%     456.300us      45.630us          16 b         -24 b            10            --  \n",
      "                        aten::to         0.01%      50.800us         0.07%     279.400us      27.940us          40 b           0 b            10            --  \n",
      "                  aten::_to_copy         0.03%     119.900us         0.06%     228.600us      22.860us          40 b           0 b            10            --  \n",
      "             aten::empty_strided         0.01%      56.400us         0.01%      56.400us       5.640us          40 b          40 b            10            --  \n",
      "                     aten::copy_         0.03%     125.800us         0.03%     125.800us       6.290us           0 b           0 b            20            --  \n",
      "                         Flatten         0.15%     575.300us         0.20%     757.000us      75.700us           0 b           0 b            10            --  \n",
      "                   aten::flatten         0.02%      59.100us         0.05%     181.700us      18.170us           0 b           0 b            10            --  \n",
      "                    Linear layer         0.26%     981.700us         1.24%       4.705ms     470.530us      39.06 Kb           0 b            10            --  \n",
      "                    aten::linear         0.04%     144.100us         0.98%       3.724ms     372.360us      39.06 Kb           0 b            10            --  \n",
      "                         aten::t         0.03%      97.200us         0.05%     185.600us      18.560us           0 b           0 b            10            --  \n",
      "                 aten::transpose         0.02%      62.600us         0.02%      88.400us       8.840us           0 b           0 b            10            --  \n",
      "                     aten::addmm         0.86%       3.256ms         0.90%       3.394ms     339.390us      39.06 Kb      39.06 Kb            10        25.600  \n",
      "                    aten::expand         0.01%      51.800us         0.02%      58.500us       5.850us           0 b           0 b            10            --  \n",
      "              aten::resolve_conj         0.00%       6.100us         0.00%       6.100us       0.305us           0 b           0 b            20            --  \n",
      "                     Log Softmax         0.22%     827.000us         0.29%       1.081ms     108.090us           0 b     -39.06 Kb            10            --  \n",
      "               aten::log_softmax         0.01%      56.600us         0.07%     253.900us      25.390us      39.06 Kb           0 b            10            --  \n",
      "              aten::_log_softmax         0.05%     197.300us         0.05%     197.300us      19.730us      39.06 Kb      39.06 Kb            10            --  \n",
      "--------------------------------  ------------  ------------  ------------  ------------  ------------  ------------  ------------  ------------  ------------  \n",
      "Self CPU time total: 378.933ms\n",
      "\n"
     ]
    }
   ],
   "source": [
    "with profile(activities=[ProfilerActivity.CPU],\n",
    "                                    schedule=torch.profiler.schedule(wait=1, warmup=1, active=10, repeat=1),\n",
    "                                    on_trace_ready=torch.profiler.tensorboard_trace_handler('../../log/YOLOv8cls-version-4/inference_at_224'),\n",
    "                                    record_shapes=True,\n",
    "                                    profile_memory=True,\n",
    "                                    with_flops=True,\n",
    "                                    with_modules=True,\n",
    "                                    with_stack=True) as prof:\n",
    "    for i in range(12):\n",
    "        out = model(img)\n",
    "        prof.step()\n",
    "print(prof.key_averages().table(row_limit=-1))"
   ]
  }
 ],
 "metadata": {
  "kernelspec": {
   "display_name": "Python 3 (ipykernel)",
   "language": "python",
   "name": "python3"
  },
  "language_info": {
   "codemirror_mode": {
    "name": "ipython",
    "version": 3
   },
   "file_extension": ".py",
   "mimetype": "text/x-python",
   "name": "python",
   "nbconvert_exporter": "python",
   "pygments_lexer": "ipython3",
   "version": "3.12.6"
  }
 },
 "nbformat": 4,
 "nbformat_minor": 5
}
