{
 "cells": [
  {
   "cell_type": "code",
   "execution_count": 15,
   "id": "a5258e5c-2fd1-45d6-bf25-96674d504f91",
   "metadata": {},
   "outputs": [],
   "source": [
    "import torch\n",
    "import torch.nn as nn\n",
    "from torchvision import transforms\n",
    "from torch.utils.data import DataLoader\n",
    "from torch import optim"
   ]
  },
  {
   "cell_type": "code",
   "execution_count": 16,
   "id": "c9deb7c5-1256-4fdd-b447-69f25786c0e8",
   "metadata": {},
   "outputs": [],
   "source": [
    "import sys\n",
    "sys.path.insert(1, \"../../../\")"
   ]
  },
  {
   "cell_type": "code",
   "execution_count": 17,
   "id": "43b63379-9363-448e-b927-2231dbb097b1",
   "metadata": {},
   "outputs": [],
   "source": [
    "from train import *\n",
    "from data_preprocessing import *\n",
    "from Models.yolov8cls_path import Model"
   ]
  },
  {
   "cell_type": "code",
   "execution_count": 18,
   "id": "cbdae16b-4251-46a6-865b-bfa81a9a5ea1",
   "metadata": {},
   "outputs": [],
   "source": [
    "if torch.cuda.is_available():\n",
    "    device=torch.device('cuda')\n",
    "else:\n",
    "    device=torch.device('cpu') "
   ]
  },
  {
   "cell_type": "code",
   "execution_count": 19,
   "id": "f9a44f5d-8396-4654-b118-82473d81ca3c",
   "metadata": {},
   "outputs": [],
   "source": [
    "model = Model(num_classes=10, \n",
    "              residual_connection=True, \n",
    "              CSP=True, \n",
    "              add_hidden=False,\n",
    "              classifyV8=False,\n",
    "              bottleneck=1.0, \n",
    "              variant='s', \n",
    "              device=device, \n",
    "              dtype=torch.float32)"
   ]
  },
  {
   "cell_type": "code",
   "execution_count": 20,
   "id": "ae3c5dd0-ac5d-4cbb-8463-d9ebe0621f3c",
   "metadata": {},
   "outputs": [],
   "source": [
    "data_path = '../../../../dummy_datasets/'\n",
    "norms_path = os.path.join(data_path, 'norms.json')"
   ]
  },
  {
   "cell_type": "code",
   "execution_count": 21,
   "id": "e608e517-6da7-41c7-b62d-81cca6aecf54",
   "metadata": {},
   "outputs": [
    {
     "name": "stdout",
     "output_type": "stream",
     "text": [
      "Means are: [0.4405549168586731, 0.4407285749912262, 0.4381718039512634]\n",
      "stds are: [0.25142669677734375, 0.25270089507102966, 0.25131651759147644]\n"
     ]
    }
   ],
   "source": [
    "means = get_means(path=norms_path, train_loader=None)\n",
    "stds = get_stds(path=norms_path, train_loader=None)"
   ]
  },
  {
   "cell_type": "code",
   "execution_count": 22,
   "id": "840c3bfd-3f57-4508-9834-fd0c87b7532a",
   "metadata": {},
   "outputs": [],
   "source": [
    "transformations = transforms.Compose([transforms.ToTensor(),\n",
    "                                      transforms.Resize((224, 224)),\n",
    "                                      transforms.Normalize(mean=means, std=stds)])"
   ]
  },
  {
   "cell_type": "code",
   "execution_count": 23,
   "id": "dfaadddf-3f19-4b50-93b4-98cf177980fb",
   "metadata": {},
   "outputs": [],
   "source": [
    "train_dataset = ImageNetSubset(path=data_path, train=True, transform=transformations, half=False, show=False)\n",
    "val_dataset = ImageNetSubset(path=data_path, train=False, transform=transformations, half=False, show=False)"
   ]
  },
  {
   "cell_type": "code",
   "execution_count": 24,
   "id": "a5d356b0-68a7-44f8-bf1b-397f7889dfb9",
   "metadata": {},
   "outputs": [],
   "source": [
    "epochs=3\n",
    "train_loader = DataLoader(train_dataset, batch_size=256, shuffle=True, num_workers=4)\n",
    "val_loader = DataLoader(val_dataset, batch_size=256, shuffle=False, num_workers=4)"
   ]
  },
  {
   "cell_type": "code",
   "execution_count": 25,
   "id": "53e72a95-3140-4c39-afd7-e64d63bd5940",
   "metadata": {},
   "outputs": [],
   "source": [
    "optimizer = optim.SGD(model.parameters(), lr=0.001, momentum=0.9, weight_decay=0.0001)"
   ]
  },
  {
   "cell_type": "code",
   "execution_count": 26,
   "id": "85cc427f-08e2-43c3-a496-6f1c967a2325",
   "metadata": {},
   "outputs": [],
   "source": [
    "loss_fn = nn.NLLLoss()"
   ]
  },
  {
   "cell_type": "code",
   "execution_count": 27,
   "id": "d9efeae0-85c6-42a3-9006-f1f7de738641",
   "metadata": {},
   "outputs": [],
   "source": [
    "prof = torch.profiler.profile(\n",
    "        schedule=torch.profiler.schedule(wait=1, warmup=1, active=epochs-2, repeat=1),\n",
    "        on_trace_ready=torch.profiler.tensorboard_trace_handler('../../log/YOLOv8cls-version-3/training'),\n",
    "        record_shapes=True,\n",
    "        profile_memory=True,\n",
    "        with_flops=True,\n",
    "        with_modules=True,\n",
    "        with_stack=True)"
   ]
  },
  {
   "cell_type": "markdown",
   "id": "d9c4a012-f83a-495c-929b-939db6549642",
   "metadata": {},
   "source": [
    "\n",
    "Profiling your personal module \n",
    "https://pytorch.org/tutorials/beginner/profiler.html"
   ]
  },
  {
   "cell_type": "code",
   "execution_count": 28,
   "id": "a40a8174-7e18-43aa-83fd-41a98bf6ea0b",
   "metadata": {},
   "outputs": [
    {
     "name": "stdout",
     "output_type": "stream",
     "text": [
      "2024-11-18 18:53:11.795806 Epoch 1 \n",
      "2024-11-18 18:53:18.114568 Batch 1 \n",
      "[Train] Accuracy: 10.0%, Loss per batch: 2.3226\n",
      "2024-11-18 18:53:27.642926 Batch 1 \n",
      "[Val] Accuracy: 10.0%, loss per batch: 2.3026\n",
      "2024-11-18 18:53:29.123064 Epoch 2 \n",
      "2024-11-18 18:53:35.597716 Batch 1 \n",
      "[Train] Accuracy: 10.0%, Loss per batch: 2.3034\n",
      "2024-11-18 18:53:44.072715 Batch 1 \n",
      "[Val] Accuracy: 10.0%, loss per batch: 2.3026\n",
      "2024-11-18 18:53:46.663439 Epoch 3 \n",
      "2024-11-18 18:53:53.065273 Batch 1 \n",
      "[Train] Accuracy: 10.0%, Loss per batch: 2.2702\n",
      "2024-11-18 18:54:02.588692 Batch 1 \n",
      "[Val] Accuracy: 10.0%, loss per batch: 2.3027\n"
     ]
    }
   ],
   "source": [
    "history, gradient_stats, prof = train(epochs, train_loader, val_loader, model, optimizer, loss_fn, prof, model_path='../../log/YOLOv8cls-version-3/training/models/')"
   ]
  },
  {
   "cell_type": "code",
   "execution_count": 29,
   "id": "fa05f1c3-29c2-4e09-aa9d-a35ea4057234",
   "metadata": {},
   "outputs": [
    {
     "name": "stdout",
     "output_type": "stream",
     "text": [
      "-------------------------------------------------------  ------------  ------------  ------------  ------------  ------------  ------------  ------------  ------------  ------------  \n",
      "                                                   Name    Self CPU %      Self CPU   CPU total %     CPU total  CPU time avg       CPU Mem  Self CPU Mem    # of Calls  Total MFLOPs  \n",
      "-------------------------------------------------------  ------------  ------------  ------------  ------------  ------------  ------------  ------------  ------------  ------------  \n",
      "                                          ProfilerStep*         0.11%      17.888ms       100.00%       16.315s       16.315s      16.07 Mb           0 b             1            --  \n",
      "                                          Training Loop         0.03%       4.998ms        52.41%        8.551s        8.551s      16.07 Mb     -17.23 Mb             1            --  \n",
      "                     Validation Loop Before Data Loader         4.07%     664.478ms        99.45%       16.226s        8.113s      50.53 Mb        -504 b             2            --  \n",
      "                                            aten::empty         0.02%       2.827ms         0.02%       2.827ms       3.361us       1.77 Gb       1.77 Gb           841            --  \n",
      "                                          aten::random_         0.00%      46.300us         0.00%      46.300us      15.433us           0 b           0 b             3            --  \n",
      "                                             aten::item         0.00%     201.700us         0.00%     248.100us       2.989us           0 b           0 b            83            --  \n",
      "                              aten::_local_scalar_dense         0.00%      46.400us         0.00%      46.400us       0.559us           0 b           0 b            83            --  \n",
      "                                         aten::randperm         0.00%      75.000us         0.00%     146.100us      36.525us         480 b         -16 b             4            --  \n",
      "                                    aten::scalar_tensor         0.00%       9.200us         0.00%       9.200us       4.600us          16 b          16 b             2            --  \n",
      "                                          aten::resize_         0.00%     205.600us         0.00%     205.600us       1.921us           0 b           0 b           107            --  \n",
      "                                     aten::resolve_conj         0.00%      28.800us         0.00%      28.800us       0.125us           0 b           0 b           230            --  \n",
      "                                      aten::resolve_neg         0.00%      21.900us         0.00%      21.900us       0.095us           0 b           0 b           230            --  \n",
      "enumerate(DataLoader)#_MultiProcessingDataLoaderIter...        86.80%       14.161s        86.80%       14.161s        3.540s      34.45 Mb      34.45 Mb             4            --  \n",
      "                                             aten::set_         0.00%      21.800us         0.00%      21.800us       5.450us           0 b           0 b             4            --  \n",
      "                        Training Loop After Data Loader         0.00%     642.700us         6.27%        1.023s        1.023s      16.07 Mb        -158 b             1            --  \n",
      "                                        Batch inference         0.02%       2.939ms         2.44%     397.822ms     397.822ms     727.86 Mb     -51.68 Mb             1            --  \n",
      "                                             Conv block         0.13%      20.522ms         4.54%     740.760ms      14.815ms     941.75 Mb    -470.86 Mb            50            --  \n",
      "                                           aten::conv2d         0.00%     496.500us         3.26%     532.468ms      10.240ms     470.97 Mb           0 b            52     83025.224  \n",
      "                                      aten::convolution         0.01%       1.026ms         3.26%     531.971ms      10.230ms     470.97 Mb           0 b            52            --  \n",
      "                                     aten::_convolution         0.01%     984.900us         3.25%     530.945ms      10.210ms     470.97 Mb     -43.07 Mb            52            --  \n",
      "                               aten::mkldnn_convolution         3.20%     522.270ms         3.21%     523.397ms      10.065ms     470.97 Mb           0 b            52            --  \n",
      "                                      aten::as_strided_         0.00%     718.600us         0.00%     718.600us       6.474us           0 b           0 b           111            --  \n",
      "                                             aten::add_         0.02%       3.403ms         0.02%       3.403ms      19.011us           0 b           0 b           179            --  \n",
      "                                       aten::batch_norm         0.00%     380.600us         0.75%     121.973ms       2.439ms     470.89 Mb           0 b            50            --  \n",
      "                           aten::_batch_norm_impl_index         0.01%     993.700us         0.75%     121.593ms       2.432ms     470.89 Mb           0 b            50            --  \n",
      "                                aten::native_batch_norm         0.73%     119.472ms         0.74%     120.475ms       2.410ms     470.89 Mb     -99.75 Kb            50            --  \n",
      "                                       aten::empty_like         0.00%     614.200us         0.01%       1.305ms      11.154us       1.07 Gb           0 b           117            --  \n",
      "                                             aten::silu         0.41%      66.559ms         0.41%      66.559ms       1.331ms     470.86 Mb     470.86 Mb            50            --  \n",
      "                                            aten::chunk         0.00%      66.300us         0.00%     470.400us      58.800us           0 b           0 b             8            --  \n",
      "                                            aten::split         0.00%     162.400us         0.00%     404.100us      50.513us           0 b           0 b             8            --  \n",
      "                                           aten::narrow         0.00%     297.800us         0.01%     912.800us      19.017us           0 b           0 b            48            --  \n",
      "                                            aten::slice         0.00%     501.900us         0.00%     615.000us      12.812us           0 b           0 b            48            --  \n",
      "                                       aten::as_strided         0.00%     305.700us         0.00%     305.700us       0.881us           0 b           0 b           347            --  \n",
      "                                       aten::contiguous         0.00%      91.400us         0.23%      38.217ms       2.389ms     150.73 Mb           0 b            16            --  \n",
      "                                            aten::clone         0.01%       1.050ms         0.25%      40.241ms     437.402us     166.80 Mb           0 b            92            --  \n",
      "                                            aten::copy_         0.24%      39.228ms         0.24%      39.228ms     109.269us           0 b           0 b           359            --  \n",
      "                                              aten::add         0.11%      17.201ms         0.11%      17.201ms     186.970us      97.90 Mb      97.90 Mb            92        25.663  \n",
      "                                              aten::cat         0.12%      19.677ms         0.12%      20.213ms       1.684ms     129.20 Mb     129.20 Mb            12            --  \n",
      "                               Adaptive Average Pooling         0.00%     247.300us         0.00%     429.200us     214.600us    -112.50 Kb    -114.84 Kb             2            --  \n",
      "                              aten::adaptive_avg_pool2d         0.00%       9.800us         0.00%     181.900us      90.950us       2.34 Kb           0 b             2            --  \n",
      "                                             aten::mean         0.01%       1.409ms         0.06%       9.133ms      59.306us       2.94 Kb       2.76 Kb           154            --  \n",
      "                                              aten::sum         0.02%       3.751ms         0.03%       4.386ms      28.113us          16 b       -1008 b           156            --  \n",
      "                                            aten::fill_         0.00%      64.600us         0.00%      64.600us       0.277us           0 b           0 b           233            --  \n",
      "                                             aten::div_         0.01%       1.680ms         0.02%       3.414ms      22.171us         184 b        -432 b           154            --  \n",
      "                                               aten::to         0.00%     574.300us         0.02%       2.768ms       6.005us       1.37 Kb           0 b           461            --  \n",
      "                                         aten::_to_copy         0.01%       1.478ms         0.01%       2.194ms       9.415us       1.37 Kb           0 b           233            --  \n",
      "                                    aten::empty_strided         0.00%     479.900us         0.00%     479.900us       1.548us      16.07 Mb      16.07 Mb           310            --  \n",
      "                                                Flatten         0.00%      98.200us         0.00%     129.300us      64.650us           0 b           0 b             2            --  \n",
      "                                          aten::flatten         0.00%     129.200us         0.00%     263.200us       3.374us           0 b           0 b            78            --  \n",
      "                                             aten::view         0.00%     139.400us         0.00%     139.400us       4.807us           0 b           0 b            29            --  \n",
      "                                            Log Softmax         0.00%     138.400us         0.00%     177.000us      88.500us           0 b      -2.34 Kb             2            --  \n",
      "                                      aten::log_softmax         0.00%       9.100us         0.00%      38.600us      19.300us       2.34 Kb           0 b             2            --  \n",
      "                                     aten::_log_softmax         0.00%      29.500us         0.00%      29.500us      14.750us       2.34 Kb       2.34 Kb             2            --  \n",
      "                                           Loss Forward         0.00%      95.000us         0.00%     120.800us     120.800us           8 b           0 b             1            --  \n",
      "                                      aten::nll_loss_nd         0.00%       9.200us         0.00%      40.000us      20.000us          12 b           0 b             2            --  \n",
      "                                         aten::nll_loss         0.00%       9.900us         0.00%      30.800us      15.400us          12 b          -4 b             2            --  \n",
      "                                 aten::nll_loss_forward         0.00%      20.900us         0.00%      20.900us      10.450us          16 b          16 b             2            --  \n",
      "                      Optimizer.zero_grad#SGD.zero_grad         0.00%     177.200us         0.00%     177.200us     177.200us           0 b           0 b             1            --  \n",
      "                                          Loss Backward         0.02%       3.381ms         3.75%     611.495ms     611.495ms    -711.78 Mb          -4 b             1            --  \n",
      "                                        aten::ones_like         0.00%       8.200us         0.00%      23.400us      23.400us           4 b           0 b             1            --  \n",
      "autograd::engine::evaluate_function: NllLossBackward...         0.00%       8.400us         0.00%      36.800us      36.800us       1.17 Kb          -4 b             1            --  \n",
      "                                       NllLossBackward0         0.00%      10.200us         0.00%      28.400us      28.400us       1.17 Kb           0 b             1            --  \n",
      "                                aten::nll_loss_backward         0.00%      17.600us         0.00%      18.200us      18.200us       1.17 Kb       1.17 Kb             1            --  \n",
      "                                            aten::zero_         0.00%       0.600us         0.00%       0.600us       0.600us           0 b           0 b             1            --  \n",
      "autograd::engine::evaluate_function: LogSoftmaxBackw...         0.00%       5.500us         0.00%      22.300us      22.300us           0 b      -1.17 Kb             1            --  \n",
      "                                    LogSoftmaxBackward0         0.00%       8.700us         0.00%      16.800us      16.800us       1.17 Kb           0 b             1            --  \n",
      "                       aten::_log_softmax_backward_data         0.00%       8.100us         0.00%       8.100us       8.100us       1.17 Kb       1.17 Kb             1            --  \n",
      "     autograd::engine::evaluate_function: ViewBackward0         0.00%       4.300us         0.00%      18.300us      18.300us           0 b           0 b             1            --  \n",
      "                                          ViewBackward0         0.00%       4.800us         0.00%      14.000us      14.000us           0 b           0 b             1            --  \n",
      "                                          aten::reshape         0.00%       3.800us         0.00%       9.200us       9.200us           0 b           0 b             1            --  \n",
      "     autograd::engine::evaluate_function: MeanBackward1         0.00%       5.100us         0.00%      85.300us      85.300us      56.25 Kb      -1.17 Kb             1            --  \n",
      "                                          MeanBackward1         0.00%      11.700us         0.00%      80.200us      80.200us      57.42 Kb           0 b             1            --  \n",
      "                                           aten::expand         0.00%       9.000us         0.00%      11.100us      11.100us           0 b           0 b             1            --  \n",
      "                                              aten::div         0.00%      39.800us         0.00%      57.400us      57.400us      57.42 Kb      57.42 Kb             1            --  \n",
      "autograd::engine::evaluate_function: ConvolutionBack...         0.01%       1.003ms         3.10%     505.216ms      19.431ms    -249.59 Mb    -522.60 Mb            26            --  \n",
      "                                   ConvolutionBackward0         0.00%     381.300us         3.06%     499.982ms      19.230ms     251.47 Mb           0 b            26            --  \n",
      "                             aten::convolution_backward         2.86%     466.987ms         3.06%     499.601ms      19.215ms     251.47 Mb    -107.67 Mb            26            --  \n",
      "autograd::engine::evaluate_function: torch::autograd...         0.00%     421.700us         0.01%       1.763ms      23.200us           0 b           0 b            76            --  \n",
      "                        torch::autograd::AccumulateGrad         0.00%     503.100us         0.01%       1.341ms      17.651us           0 b           0 b            76            --  \n",
      "                                           aten::detach         0.01%     947.800us         0.01%       1.671ms       5.497us           0 b           0 b           304            --  \n",
      "                                                 detach         0.00%     723.300us         0.00%     723.300us       2.379us           0 b           0 b           304            --  \n",
      "     autograd::engine::evaluate_function: SiluBackward0         0.00%     722.300us         0.26%      43.004ms       1.720ms    -205.28 Mb    -440.71 Mb            25            --  \n",
      "                                          SiluBackward0         0.00%     267.400us         0.26%      42.281ms       1.691ms     235.43 Mb           0 b            25            --  \n",
      "                                    aten::silu_backward         0.26%      42.014ms         0.26%      42.014ms       1.681ms     235.43 Mb     235.43 Mb            25            --  \n",
      "autograd::engine::evaluate_function: NativeBatchNorm...         0.00%     806.000us         0.31%      51.005ms       2.040ms    -235.43 Mb    -470.89 Mb            25            --  \n",
      "                               NativeBatchNormBackward0         0.00%     462.800us         0.31%      50.200ms       2.008ms     235.46 Mb           0 b            25            --  \n",
      "                       aten::native_batch_norm_backward         0.30%      49.202ms         0.30%      49.737ms       1.989ms     235.46 Mb    -235.43 Mb            25            --  \n",
      "      autograd::engine::evaluate_function: CatBackward0         0.00%      23.900us         0.00%     191.300us      47.825us           0 b           0 b             4            --  \n",
      "                                           CatBackward0         0.00%      32.100us         0.00%     167.400us      41.850us           0 b           0 b             4            --  \n",
      "      autograd::engine::evaluate_function: AddBackward0         0.00%      36.800us         0.00%      50.700us       8.450us           0 b           0 b             6            --  \n",
      "                                           AddBackward0         0.00%      13.900us         0.00%      13.900us       2.317us           0 b           0 b             6            --  \n",
      "    autograd::engine::evaluate_function: SplitBackward0         0.00%      66.800us         0.04%       6.697ms       1.674ms     -21.53 Mb     -64.60 Mb             4            --  \n",
      "                                         SplitBackward0         0.00%      51.800us         0.04%       6.630ms       1.657ms      43.07 Mb           0 b             4            --  \n",
      "                                         Optimizer Step         0.00%     107.800us         0.08%      12.618ms      12.618ms           0 b           0 b             1            --  \n",
      "                                Optimizer.step#SGD.step         0.03%       5.200ms         0.08%      12.510ms      12.510ms           0 b     -16.07 Mb             1            --  \n",
      "                                             aten::mul_         0.01%       1.295ms         0.01%       2.235ms      29.404us           0 b        -304 b            76            --  \n",
      "                                              aten::max         0.00%      76.100us         0.00%     115.100us      57.550us         720 b         720 b             2            --  \n",
      "                                       aten::unsqueeze_         0.00%      17.500us         0.00%      25.300us       6.325us           0 b           0 b             4            --  \n",
      "                                         aten::squeeze_         0.00%      12.200us         0.00%      13.700us       3.425us           0 b           0 b             4            --  \n",
      "                                               aten::eq         0.00%      29.500us         0.00%      29.500us      14.750us          60 b          60 b             2            --  \n",
      "-------------------------------------------------------  ------------  ------------  ------------  ------------  ------------  ------------  ------------  ------------  ------------  \n",
      "Self CPU time total: 16.315s\n",
      "\n"
     ]
    }
   ],
   "source": [
    "print(prof.key_averages().table(row_limit=-1))"
   ]
  },
  {
   "cell_type": "code",
   "execution_count": 30,
   "id": "94813a5e-7688-415c-b928-8b7b61b8e6c4",
   "metadata": {},
   "outputs": [
    {
     "ename": "TypeError",
     "evalue": "Object of type DataFrame is not JSON serializable",
     "output_type": "error",
     "traceback": [
      "\u001b[1;31m---------------------------------------------------------------------------\u001b[0m",
      "\u001b[1;31mTypeError\u001b[0m                                 Traceback (most recent call last)",
      "Cell \u001b[1;32mIn[30], line 1\u001b[0m\n\u001b[1;32m----> 1\u001b[0m \u001b[43msave_train_outputs\u001b[49m\u001b[43m(\u001b[49m\u001b[38;5;124;43m'\u001b[39;49m\u001b[38;5;124;43m../log/YOLOv8cls-version-3/training\u001b[39;49m\u001b[38;5;124;43m'\u001b[39;49m\u001b[43m,\u001b[49m\u001b[43m \u001b[49m\u001b[43mhistory\u001b[49m\u001b[43m,\u001b[49m\u001b[43m \u001b[49m\u001b[43mgradient_stats\u001b[49m\u001b[43m,\u001b[49m\u001b[43m \u001b[49m\u001b[43mprof\u001b[49m\u001b[43m)\u001b[49m\n",
      "File \u001b[1;32mC:\\Me\\PJAIT\\Thesis\\Code\\yolov2-to-yolov8\\Backbone experiments\\YOLOv8s-cls Path\\Version 3\\../../..\\train.py:27\u001b[0m, in \u001b[0;36msave_train_outputs\u001b[1;34m(path, history, gradient_stats, prof)\u001b[0m\n\u001b[0;32m     22\u001b[0m _dict \u001b[38;5;241m=\u001b[39m {\u001b[38;5;124m'\u001b[39m\u001b[38;5;124mhistory\u001b[39m\u001b[38;5;124m'\u001b[39m: history,\n\u001b[0;32m     23\u001b[0m          \u001b[38;5;124m'\u001b[39m\u001b[38;5;124mgradient_stats\u001b[39m\u001b[38;5;124m'\u001b[39m: gradient_stats,\n\u001b[0;32m     24\u001b[0m          \u001b[38;5;124m'\u001b[39m\u001b[38;5;124mprof\u001b[39m\u001b[38;5;124m'\u001b[39m: prof}\n\u001b[0;32m     26\u001b[0m \u001b[38;5;28;01mwith\u001b[39;00m \u001b[38;5;28mopen\u001b[39m(os\u001b[38;5;241m.\u001b[39mpath\u001b[38;5;241m.\u001b[39mjoin(path, \u001b[38;5;124m'\u001b[39m\u001b[38;5;124mtrain_outputs.json\u001b[39m\u001b[38;5;124m'\u001b[39m), \u001b[38;5;124m'\u001b[39m\u001b[38;5;124mw\u001b[39m\u001b[38;5;124m'\u001b[39m) \u001b[38;5;28;01mas\u001b[39;00m file:\n\u001b[1;32m---> 27\u001b[0m     \u001b[43mjson\u001b[49m\u001b[38;5;241;43m.\u001b[39;49m\u001b[43mdump\u001b[49m\u001b[43m(\u001b[49m\u001b[43m_dict\u001b[49m\u001b[43m,\u001b[49m\u001b[43m \u001b[49m\u001b[43mfile\u001b[49m\u001b[43m)\u001b[49m\n",
      "File \u001b[1;32m~\\AppData\\Local\\Programs\\Python\\Python312\\Lib\\json\\__init__.py:179\u001b[0m, in \u001b[0;36mdump\u001b[1;34m(obj, fp, skipkeys, ensure_ascii, check_circular, allow_nan, cls, indent, separators, default, sort_keys, **kw)\u001b[0m\n\u001b[0;32m    173\u001b[0m     iterable \u001b[38;5;241m=\u001b[39m \u001b[38;5;28mcls\u001b[39m(skipkeys\u001b[38;5;241m=\u001b[39mskipkeys, ensure_ascii\u001b[38;5;241m=\u001b[39mensure_ascii,\n\u001b[0;32m    174\u001b[0m         check_circular\u001b[38;5;241m=\u001b[39mcheck_circular, allow_nan\u001b[38;5;241m=\u001b[39mallow_nan, indent\u001b[38;5;241m=\u001b[39mindent,\n\u001b[0;32m    175\u001b[0m         separators\u001b[38;5;241m=\u001b[39mseparators,\n\u001b[0;32m    176\u001b[0m         default\u001b[38;5;241m=\u001b[39mdefault, sort_keys\u001b[38;5;241m=\u001b[39msort_keys, \u001b[38;5;241m*\u001b[39m\u001b[38;5;241m*\u001b[39mkw)\u001b[38;5;241m.\u001b[39miterencode(obj)\n\u001b[0;32m    177\u001b[0m \u001b[38;5;66;03m# could accelerate with writelines in some versions of Python, at\u001b[39;00m\n\u001b[0;32m    178\u001b[0m \u001b[38;5;66;03m# a debuggability cost\u001b[39;00m\n\u001b[1;32m--> 179\u001b[0m \u001b[43m\u001b[49m\u001b[38;5;28;43;01mfor\u001b[39;49;00m\u001b[43m \u001b[49m\u001b[43mchunk\u001b[49m\u001b[43m \u001b[49m\u001b[38;5;129;43;01min\u001b[39;49;00m\u001b[43m \u001b[49m\u001b[43miterable\u001b[49m\u001b[43m:\u001b[49m\n\u001b[0;32m    180\u001b[0m \u001b[43m    \u001b[49m\u001b[43mfp\u001b[49m\u001b[38;5;241;43m.\u001b[39;49m\u001b[43mwrite\u001b[49m\u001b[43m(\u001b[49m\u001b[43mchunk\u001b[49m\u001b[43m)\u001b[49m\n",
      "File \u001b[1;32m~\\AppData\\Local\\Programs\\Python\\Python312\\Lib\\json\\encoder.py:432\u001b[0m, in \u001b[0;36m_make_iterencode.<locals>._iterencode\u001b[1;34m(o, _current_indent_level)\u001b[0m\n\u001b[0;32m    430\u001b[0m     \u001b[38;5;28;01myield from\u001b[39;00m _iterencode_list(o, _current_indent_level)\n\u001b[0;32m    431\u001b[0m \u001b[38;5;28;01melif\u001b[39;00m \u001b[38;5;28misinstance\u001b[39m(o, \u001b[38;5;28mdict\u001b[39m):\n\u001b[1;32m--> 432\u001b[0m     \u001b[38;5;28;01myield from\u001b[39;00m _iterencode_dict(o, _current_indent_level)\n\u001b[0;32m    433\u001b[0m \u001b[38;5;28;01melse\u001b[39;00m:\n\u001b[0;32m    434\u001b[0m     \u001b[38;5;28;01mif\u001b[39;00m markers \u001b[38;5;129;01mis\u001b[39;00m \u001b[38;5;129;01mnot\u001b[39;00m \u001b[38;5;28;01mNone\u001b[39;00m:\n",
      "File \u001b[1;32m~\\AppData\\Local\\Programs\\Python\\Python312\\Lib\\json\\encoder.py:406\u001b[0m, in \u001b[0;36m_make_iterencode.<locals>._iterencode_dict\u001b[1;34m(dct, _current_indent_level)\u001b[0m\n\u001b[0;32m    404\u001b[0m         \u001b[38;5;28;01melse\u001b[39;00m:\n\u001b[0;32m    405\u001b[0m             chunks \u001b[38;5;241m=\u001b[39m _iterencode(value, _current_indent_level)\n\u001b[1;32m--> 406\u001b[0m         \u001b[38;5;28;01myield from\u001b[39;00m chunks\n\u001b[0;32m    407\u001b[0m \u001b[38;5;28;01mif\u001b[39;00m newline_indent \u001b[38;5;129;01mis\u001b[39;00m \u001b[38;5;129;01mnot\u001b[39;00m \u001b[38;5;28;01mNone\u001b[39;00m:\n\u001b[0;32m    408\u001b[0m     _current_indent_level \u001b[38;5;241m-\u001b[39m\u001b[38;5;241m=\u001b[39m \u001b[38;5;241m1\u001b[39m\n",
      "File \u001b[1;32m~\\AppData\\Local\\Programs\\Python\\Python312\\Lib\\json\\encoder.py:439\u001b[0m, in \u001b[0;36m_make_iterencode.<locals>._iterencode\u001b[1;34m(o, _current_indent_level)\u001b[0m\n\u001b[0;32m    437\u001b[0m         \u001b[38;5;28;01mraise\u001b[39;00m \u001b[38;5;167;01mValueError\u001b[39;00m(\u001b[38;5;124m\"\u001b[39m\u001b[38;5;124mCircular reference detected\u001b[39m\u001b[38;5;124m\"\u001b[39m)\n\u001b[0;32m    438\u001b[0m     markers[markerid] \u001b[38;5;241m=\u001b[39m o\n\u001b[1;32m--> 439\u001b[0m o \u001b[38;5;241m=\u001b[39m \u001b[43m_default\u001b[49m\u001b[43m(\u001b[49m\u001b[43mo\u001b[49m\u001b[43m)\u001b[49m\n\u001b[0;32m    440\u001b[0m \u001b[38;5;28;01myield from\u001b[39;00m _iterencode(o, _current_indent_level)\n\u001b[0;32m    441\u001b[0m \u001b[38;5;28;01mif\u001b[39;00m markers \u001b[38;5;129;01mis\u001b[39;00m \u001b[38;5;129;01mnot\u001b[39;00m \u001b[38;5;28;01mNone\u001b[39;00m:\n",
      "File \u001b[1;32m~\\AppData\\Local\\Programs\\Python\\Python312\\Lib\\json\\encoder.py:180\u001b[0m, in \u001b[0;36mJSONEncoder.default\u001b[1;34m(self, o)\u001b[0m\n\u001b[0;32m    161\u001b[0m \u001b[38;5;28;01mdef\u001b[39;00m \u001b[38;5;21mdefault\u001b[39m(\u001b[38;5;28mself\u001b[39m, o):\n\u001b[0;32m    162\u001b[0m \u001b[38;5;250m    \u001b[39m\u001b[38;5;124;03m\"\"\"Implement this method in a subclass such that it returns\u001b[39;00m\n\u001b[0;32m    163\u001b[0m \u001b[38;5;124;03m    a serializable object for ``o``, or calls the base implementation\u001b[39;00m\n\u001b[0;32m    164\u001b[0m \u001b[38;5;124;03m    (to raise a ``TypeError``).\u001b[39;00m\n\u001b[1;32m   (...)\u001b[0m\n\u001b[0;32m    178\u001b[0m \n\u001b[0;32m    179\u001b[0m \u001b[38;5;124;03m    \"\"\"\u001b[39;00m\n\u001b[1;32m--> 180\u001b[0m     \u001b[38;5;28;01mraise\u001b[39;00m \u001b[38;5;167;01mTypeError\u001b[39;00m(\u001b[38;5;124mf\u001b[39m\u001b[38;5;124m'\u001b[39m\u001b[38;5;124mObject of type \u001b[39m\u001b[38;5;132;01m{\u001b[39;00mo\u001b[38;5;241m.\u001b[39m\u001b[38;5;18m__class__\u001b[39m\u001b[38;5;241m.\u001b[39m\u001b[38;5;18m__name__\u001b[39m\u001b[38;5;132;01m}\u001b[39;00m\u001b[38;5;124m \u001b[39m\u001b[38;5;124m'\u001b[39m\n\u001b[0;32m    181\u001b[0m                     \u001b[38;5;124mf\u001b[39m\u001b[38;5;124m'\u001b[39m\u001b[38;5;124mis not JSON serializable\u001b[39m\u001b[38;5;124m'\u001b[39m)\n",
      "\u001b[1;31mTypeError\u001b[0m: Object of type DataFrame is not JSON serializable"
     ]
    }
   ],
   "source": [
    "save_train_outputs('../../log/YOLOv8cls-version-3/training', history, gradient_stats)"
   ]
  },
  {
   "cell_type": "code",
   "execution_count": null,
   "id": "e721e698-4fdb-4ce2-9b6c-4b736babb6da",
   "metadata": {},
   "outputs": [],
   "source": []
  }
 ],
 "metadata": {
  "kernelspec": {
   "display_name": "Python 3 (ipykernel)",
   "language": "python",
   "name": "python3"
  },
  "language_info": {
   "codemirror_mode": {
    "name": "ipython",
    "version": 3
   },
   "file_extension": ".py",
   "mimetype": "text/x-python",
   "name": "python",
   "nbconvert_exporter": "python",
   "pygments_lexer": "ipython3",
   "version": "3.12.6"
  }
 },
 "nbformat": 4,
 "nbformat_minor": 5
}
