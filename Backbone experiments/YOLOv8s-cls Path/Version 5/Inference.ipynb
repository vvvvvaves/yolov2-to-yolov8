{
 "cells": [
  {
   "cell_type": "code",
   "execution_count": 25,
   "id": "a5258e5c-2fd1-45d6-bf25-96674d504f91",
   "metadata": {},
   "outputs": [],
   "source": [
    "import os\n",
    "import torch\n",
    "import torch.nn as nn\n",
    "from torchvision import transforms"
   ]
  },
  {
   "cell_type": "code",
   "execution_count": 26,
   "id": "c9deb7c5-1256-4fdd-b447-69f25786c0e8",
   "metadata": {},
   "outputs": [],
   "source": [
    "import sys\n",
    "sys.path.insert(1, \"../../../\")"
   ]
  },
  {
   "cell_type": "code",
   "execution_count": 27,
   "id": "43b63379-9363-448e-b927-2231dbb097b1",
   "metadata": {},
   "outputs": [],
   "source": [
    "from data_preprocessing import get_means, get_stds, ImageNetSubset\n",
    "from Models.yolov8cls_path import Model"
   ]
  },
  {
   "cell_type": "code",
   "execution_count": 28,
   "id": "cbdae16b-4251-46a6-865b-bfa81a9a5ea1",
   "metadata": {},
   "outputs": [],
   "source": [
    "if torch.cuda.is_available():\n",
    "    device=torch.device('cuda')\n",
    "else:\n",
    "    device=torch.device('cpu') "
   ]
  },
  {
   "cell_type": "code",
   "execution_count": 29,
   "id": "ae3c5dd0-ac5d-4cbb-8463-d9ebe0621f3c",
   "metadata": {},
   "outputs": [],
   "source": [
    "data_path = '../../../../dummy_datasets/'\n",
    "norms_path = os.path.join(data_path, 'norms.json')"
   ]
  },
  {
   "cell_type": "code",
   "execution_count": 30,
   "id": "e608e517-6da7-41c7-b62d-81cca6aecf54",
   "metadata": {},
   "outputs": [
    {
     "name": "stdout",
     "output_type": "stream",
     "text": [
      "Means are: [0.4405549168586731, 0.4407285749912262, 0.4381718039512634]\n",
      "stds are: [0.25142669677734375, 0.25270089507102966, 0.25131651759147644]\n"
     ]
    }
   ],
   "source": [
    "means = get_means(path=norms_path, train_loader=None)\n",
    "stds = get_stds(path=norms_path, train_loader=None)"
   ]
  },
  {
   "cell_type": "code",
   "execution_count": 31,
   "id": "840c3bfd-3f57-4508-9834-fd0c87b7532a",
   "metadata": {},
   "outputs": [],
   "source": [
    "transformations = transforms.Compose([transforms.ToTensor(),\n",
    "                                      transforms.Resize((224, 224)),\n",
    "                                      transforms.Normalize(mean=means, std=stds)])"
   ]
  },
  {
   "cell_type": "code",
   "execution_count": 32,
   "id": "dfaadddf-3f19-4b50-93b4-98cf177980fb",
   "metadata": {},
   "outputs": [],
   "source": [
    "train_dataset = ImageNetSubset(path=data_path, train=True, transform=transformations, half=False, show=False)"
   ]
  },
  {
   "cell_type": "markdown",
   "id": "102fb805-2a55-41c6-8ef3-82c9c46dca89",
   "metadata": {},
   "source": [
    "# Inference"
   ]
  },
  {
   "cell_type": "code",
   "execution_count": 33,
   "id": "0334802c-836d-4d5e-84fb-3bb63513304b",
   "metadata": {},
   "outputs": [],
   "source": [
    "model = Model(num_classes=10, \n",
    "              residual_connection=True, \n",
    "              CSP=True, \n",
    "              add_hidden=True,\n",
    "              classifyV8=True,\n",
    "              bottleneck=1.0, \n",
    "              variant='s', \n",
    "              device=device, \n",
    "              dtype=torch.float32)"
   ]
  },
  {
   "cell_type": "code",
   "execution_count": 34,
   "id": "0c74c18e-ac17-4de9-a2a4-4787cb14017d",
   "metadata": {},
   "outputs": [],
   "source": [
    "img = train_dataset[0][0].unsqueeze(0)"
   ]
  },
  {
   "cell_type": "code",
   "execution_count": 35,
   "id": "49cee9ed-c904-430e-8547-65f4a7d374fa",
   "metadata": {},
   "outputs": [],
   "source": [
    "from torch.profiler import profile, ProfilerActivity"
   ]
  },
  {
   "cell_type": "code",
   "execution_count": 36,
   "id": "d2426ee4-b05b-47a4-8824-f1f603966f87",
   "metadata": {},
   "outputs": [
    {
     "name": "stdout",
     "output_type": "stream",
     "text": [
      "--------------------------------  ------------  ------------  ------------  ------------  ------------  ------------  ------------  ------------  ------------  \n",
      "                            Name    Self CPU %      Self CPU   CPU total %     CPU total  CPU time avg       CPU Mem  Self CPU Mem    # of Calls  Total KFLOPs  \n",
      "--------------------------------  ------------  ------------  ------------  ------------  ------------  ------------  ------------  ------------  ------------  \n",
      "                   ProfilerStep*         5.25%      15.476ms       100.00%     294.617ms      29.462ms       6.43 Mb    -268.71 Mb            10            --  \n",
      "                      Conv block        14.82%      43.674ms        90.15%     265.590ms       1.022ms     243.03 Mb           0 b           260            --  \n",
      "                    aten::conv2d         0.71%       2.086ms        55.56%     163.694ms     629.590us      80.87 Mb           0 b           260  15245475.840  \n",
      "               aten::convolution         1.12%       3.302ms        54.85%     161.607ms     621.566us      80.87 Mb           0 b           260            --  \n",
      "              aten::_convolution         0.94%       2.780ms        53.73%     158.305ms     608.867us      80.87 Mb           0 b           260            --  \n",
      "        aten::mkldnn_convolution        47.82%     140.872ms        48.44%     142.722ms     594.675us      79.91 Mb           0 b           240            --  \n",
      "                     aten::empty         1.29%       3.795ms         1.29%       3.795ms       1.460us     170.66 Mb     170.66 Mb          2600            --  \n",
      "               aten::as_strided_         0.22%     645.600us         0.22%     645.600us       2.690us           0 b           0 b           240            --  \n",
      "                   aten::resize_         0.08%     235.800us         0.08%     235.800us       0.907us     980.00 Kb     980.00 Kb           260            --  \n",
      "                      aten::add_         0.63%       1.858ms         0.63%       1.858ms       7.146us           0 b           0 b           260            --  \n",
      "                aten::batch_norm         0.51%       1.506ms        15.44%      45.486ms     174.946us      81.29 Mb           0 b           260            --  \n",
      "    aten::_batch_norm_impl_index         0.76%       2.230ms        14.93%      43.980ms     169.154us      81.29 Mb           0 b           260            --  \n",
      "         aten::native_batch_norm        12.92%      38.064ms        14.07%      41.447ms     159.410us      81.29 Mb    -865.00 Kb           260            --  \n",
      "                aten::empty_like         0.34%       1.002ms         0.51%       1.492ms       5.737us      80.87 Mb           0 b           260            --  \n",
      "                      aten::silu         3.69%      10.879ms         3.69%      10.879ms      41.842us      80.87 Mb      80.87 Mb           260            --  \n",
      "                     aten::chunk         0.07%     209.100us         0.56%       1.659ms      41.485us           0 b           0 b            40            --  \n",
      "                     aten::split         0.22%     651.300us         0.49%       1.450ms      36.258us           0 b           0 b            40            --  \n",
      "                    aten::narrow         0.38%       1.131ms         0.78%       2.293ms      10.423us           0 b           0 b           220            --  \n",
      "                     aten::slice         0.32%     954.300us         0.39%       1.162ms       5.282us           0 b           0 b           220            --  \n",
      "                aten::as_strided         0.08%     233.700us         0.08%     233.700us       0.974us           0 b           0 b           240            --  \n",
      "                       aten::add         0.68%       2.014ms         0.68%       2.014ms      33.572us      10.05 Mb      10.05 Mb            60      2634.240  \n",
      "                       aten::cat         1.18%       3.466ms         1.68%       4.960ms     123.993us      24.40 Mb      24.40 Mb            40            --  \n",
      "               aten::thnn_conv2d         0.04%     121.300us         4.35%      12.804ms     640.185us     980.00 Kb           0 b            20            --  \n",
      "      aten::_slow_conv2d_forward         4.24%      12.486ms         4.30%      12.682ms     634.120us     980.00 Kb      -8.61 Mb            20            --  \n",
      "                      aten::view         0.05%     161.500us         0.05%     161.500us       5.383us           0 b           0 b            30            --  \n",
      "        Adaptive Average Pooling         0.29%     867.500us         0.67%       1.975ms     197.470us      -2.34 Mb      -2.39 Mb            10            --  \n",
      "       aten::adaptive_avg_pool2d         0.02%      54.800us         0.38%       1.107ms     110.720us      50.00 Kb           0 b            10            --  \n",
      "                      aten::mean         0.07%     200.000us         0.36%       1.052ms     105.240us      50.00 Kb      49.98 Kb            10            --  \n",
      "                       aten::sum         0.13%     369.200us         0.14%     408.600us      40.860us           0 b           0 b            10            --  \n",
      "                     aten::fill_         0.01%      39.400us         0.01%      39.400us       3.940us           0 b           0 b            10            --  \n",
      "                      aten::div_         0.06%     180.100us         0.15%     443.800us      44.380us          16 b         -24 b            10            --  \n",
      "                        aten::to         0.02%      45.300us         0.09%     263.700us      26.370us          40 b           0 b            10            --  \n",
      "                  aten::_to_copy         0.04%     111.400us         0.07%     218.400us      21.840us          40 b           0 b            10            --  \n",
      "             aten::empty_strided         0.01%      34.900us         0.01%      34.900us       3.490us          40 b          40 b            10            --  \n",
      "                     aten::copy_         0.04%     120.000us         0.04%     120.000us       6.000us           0 b           0 b            20            --  \n",
      "                         Flatten         0.17%     504.600us         0.23%     678.700us      67.870us           0 b           0 b            10            --  \n",
      "                   aten::flatten         0.02%      65.600us         0.06%     174.100us      17.410us           0 b           0 b            10            --  \n",
      "                    Linear layer         0.23%     686.400us         0.48%       1.427ms     142.750us         400 b           0 b            10            --  \n",
      "                    aten::linear         0.04%     111.400us         0.25%     741.100us      74.110us         400 b           0 b            10            --  \n",
      "                         aten::t         0.03%      90.700us         0.05%     160.400us      16.040us           0 b           0 b            10            --  \n",
      "                 aten::transpose         0.02%      50.300us         0.02%      69.700us       6.970us           0 b           0 b            10            --  \n",
      "                     aten::addmm         0.13%     368.800us         0.16%     469.300us      46.930us         400 b         400 b            10       256.000  \n",
      "                    aten::expand         0.01%      39.600us         0.02%      46.200us       4.620us           0 b           0 b            10            --  \n",
      "              aten::resolve_conj         0.00%       6.400us         0.00%       6.400us       0.320us           0 b           0 b            20            --  \n",
      "                     Log Softmax         0.23%     670.100us         0.28%     836.300us      83.630us           0 b        -400 b            10            --  \n",
      "               aten::log_softmax         0.02%      47.100us         0.06%     166.200us      16.620us         400 b           0 b            10            --  \n",
      "              aten::_log_softmax         0.04%     119.100us         0.04%     119.100us      11.910us         400 b         400 b            10            --  \n",
      "--------------------------------  ------------  ------------  ------------  ------------  ------------  ------------  ------------  ------------  ------------  \n",
      "Self CPU time total: 294.617ms\n",
      "\n"
     ]
    }
   ],
   "source": [
    "prof = profile(activities=[ProfilerActivity.CPU, ProfilerActivity.CUDA],\n",
    "                                    schedule=torch.profiler.schedule(wait=1, warmup=1, active=10, repeat=1),\n",
    "                                    on_trace_ready=torch.profiler.tensorboard_trace_handler('../../log/YOLOv8cls-version-5/inference'),\n",
    "                                    record_shapes=True,\n",
    "                                    profile_memory=True,\n",
    "                                    with_flops=True,\n",
    "                                    with_modules=True,\n",
    "                                    with_stack=True)\n",
    "\n",
    "prof.start()\n",
    "for i in range(12):\n",
    "    out = model(img)\n",
    "    prof.step()\n",
    "prof.stop()\n",
    "print(prof.key_averages().table(row_limit=-1))"
   ]
  },
  {
   "cell_type": "code",
   "execution_count": null,
   "id": "46741b04-4824-45cd-a455-f6c34b76b2c3",
   "metadata": {},
   "outputs": [],
   "source": []
  }
 ],
 "metadata": {
  "kernelspec": {
   "display_name": "Python 3 (ipykernel)",
   "language": "python",
   "name": "python3"
  },
  "language_info": {
   "codemirror_mode": {
    "name": "ipython",
    "version": 3
   },
   "file_extension": ".py",
   "mimetype": "text/x-python",
   "name": "python",
   "nbconvert_exporter": "python",
   "pygments_lexer": "ipython3",
   "version": "3.12.6"
  }
 },
 "nbformat": 4,
 "nbformat_minor": 5
}
