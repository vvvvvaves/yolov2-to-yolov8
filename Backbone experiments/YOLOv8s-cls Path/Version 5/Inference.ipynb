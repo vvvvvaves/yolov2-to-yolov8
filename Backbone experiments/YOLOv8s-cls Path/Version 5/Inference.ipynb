{
 "cells": [
  {
   "cell_type": "code",
   "execution_count": 1,
   "id": "a5258e5c-2fd1-45d6-bf25-96674d504f91",
   "metadata": {},
   "outputs": [],
   "source": [
    "import os\n",
    "import torch\n",
    "import torch.nn as nn\n",
    "from torchvision import transforms"
   ]
  },
  {
   "cell_type": "code",
   "execution_count": 2,
   "id": "c9deb7c5-1256-4fdd-b447-69f25786c0e8",
   "metadata": {},
   "outputs": [],
   "source": [
    "import sys\n",
    "sys.path.insert(1, \"../../../\")"
   ]
  },
  {
   "cell_type": "code",
   "execution_count": 3,
   "id": "43b63379-9363-448e-b927-2231dbb097b1",
   "metadata": {},
   "outputs": [],
   "source": [
    "from data_preprocessing import get_means, get_stds, ImageNetSubset\n",
    "from Models.yolov8cls_path import Model"
   ]
  },
  {
   "cell_type": "code",
   "execution_count": 4,
   "id": "cbdae16b-4251-46a6-865b-bfa81a9a5ea1",
   "metadata": {},
   "outputs": [],
   "source": [
    "if torch.cuda.is_available():\n",
    "    device=torch.device('cuda')\n",
    "else:\n",
    "    device=torch.device('cpu') "
   ]
  },
  {
   "cell_type": "code",
   "execution_count": 5,
   "id": "ae3c5dd0-ac5d-4cbb-8463-d9ebe0621f3c",
   "metadata": {},
   "outputs": [],
   "source": [
    "data_path = '../../../../dummy_datasets/'\n",
    "norms_path = os.path.join(data_path, 'norms.json')"
   ]
  },
  {
   "cell_type": "code",
   "execution_count": 6,
   "id": "e608e517-6da7-41c7-b62d-81cca6aecf54",
   "metadata": {},
   "outputs": [
    {
     "name": "stdout",
     "output_type": "stream",
     "text": [
      "Means are: [0.4405549168586731, 0.4407285749912262, 0.4381718039512634]\n",
      "stds are: [0.25142669677734375, 0.25270089507102966, 0.25131651759147644]\n"
     ]
    }
   ],
   "source": [
    "means = get_means(path=norms_path, train_loader=None)\n",
    "stds = get_stds(path=norms_path, train_loader=None)"
   ]
  },
  {
   "cell_type": "code",
   "execution_count": 7,
   "id": "840c3bfd-3f57-4508-9834-fd0c87b7532a",
   "metadata": {},
   "outputs": [],
   "source": [
    "transformations = transforms.Compose([transforms.ToTensor(),\n",
    "                                      transforms.Resize((224, 224)),\n",
    "                                      transforms.Normalize(mean=means, std=stds)])"
   ]
  },
  {
   "cell_type": "code",
   "execution_count": 8,
   "id": "dfaadddf-3f19-4b50-93b4-98cf177980fb",
   "metadata": {},
   "outputs": [],
   "source": [
    "train_dataset = ImageNetSubset(path=data_path, train=True, transform=transformations, half=False, show=False)"
   ]
  },
  {
   "cell_type": "markdown",
   "id": "102fb805-2a55-41c6-8ef3-82c9c46dca89",
   "metadata": {},
   "source": [
    "# Inference"
   ]
  },
  {
   "cell_type": "code",
   "execution_count": 62,
   "id": "0c74c18e-ac17-4de9-a2a4-4787cb14017d",
   "metadata": {},
   "outputs": [],
   "source": [
    "img = train_dataset[0][0].unsqueeze(0)"
   ]
  },
  {
   "cell_type": "code",
   "execution_count": 63,
   "id": "49cee9ed-c904-430e-8547-65f4a7d374fa",
   "metadata": {},
   "outputs": [],
   "source": [
    "from torch.profiler import profile, ProfilerActivity"
   ]
  },
  {
   "cell_type": "code",
   "execution_count": 67,
   "id": "1985ba25-7f2f-4cc6-81a4-b567e48ccab9",
   "metadata": {},
   "outputs": [],
   "source": [
    "model = Model(num_classes=1000, \n",
    "              residual_connection=True, \n",
    "              CSP=True, \n",
    "              add_hidden=True,\n",
    "              classifyV8=True,\n",
    "              bottleneck=1.0, \n",
    "              variant='s', \n",
    "              device=device, \n",
    "              dtype=torch.float32)"
   ]
  },
  {
   "cell_type": "code",
   "execution_count": 69,
   "id": "d2426ee4-b05b-47a4-8824-f1f603966f87",
   "metadata": {
    "scrolled": true
   },
   "outputs": [
    {
     "name": "stdout",
     "output_type": "stream",
     "text": [
      "--------------------------------  ------------  ------------  ------------  ------------  ------------  ------------  ------------  ------------  ------------  \n",
      "                            Name    Self CPU %      Self CPU   CPU total %     CPU total  CPU time avg       CPU Mem  Self CPU Mem    # of Calls  Total MFLOPs  \n",
      "--------------------------------  ------------  ------------  ------------  ------------  ------------  ------------  ------------  ------------  ------------  \n",
      "                   ProfilerStep*         2.20%       7.229ms       100.00%     327.848ms      32.785ms       7.83 Mb    -257.30 Mb            10            --  \n",
      "                      Conv block        13.67%      44.813ms        87.48%     286.798ms       1.103ms     243.03 Mb           0 b           260            --  \n",
      "                    aten::conv2d         0.68%       2.219ms        54.94%     180.114ms     692.746us      80.87 Mb           0 b           260     15245.476  \n",
      "               aten::convolution         1.28%       4.208ms        54.26%     177.895ms     684.211us      80.87 Mb           0 b           260            --  \n",
      "              aten::_convolution         0.94%       3.068ms        52.98%     173.687ms     668.028us      80.87 Mb           0 b           260            --  \n",
      "        aten::mkldnn_convolution        46.92%     153.829ms        47.50%     155.731ms     648.880us      79.91 Mb           0 b           240            --  \n",
      "                     aten::empty         1.29%       4.220ms         1.29%       4.220ms       1.623us     170.66 Mb     170.66 Mb          2600            --  \n",
      "               aten::as_strided_         0.20%     656.600us         0.20%     656.600us       2.736us           0 b           0 b           240            --  \n",
      "                   aten::resize_         0.08%     271.800us         0.08%     271.800us       1.045us     980.00 Kb     980.00 Kb           260            --  \n",
      "                      aten::add_         0.57%       1.885ms         0.57%       1.885ms       7.249us           0 b           0 b           260            --  \n",
      "                aten::batch_norm         0.36%       1.164ms        14.67%      48.109ms     185.033us      81.29 Mb           0 b           260            --  \n",
      "    aten::_batch_norm_impl_index         0.86%       2.814ms        14.32%      46.945ms     180.556us      81.29 Mb           0 b           260            --  \n",
      "         aten::native_batch_norm        12.13%      39.781ms        13.36%      43.813ms     168.512us      81.29 Mb    -865.00 Kb           260            --  \n",
      "                aten::empty_like         0.39%       1.265ms         0.54%       1.761ms       6.772us      80.87 Mb           0 b           260            --  \n",
      "                      aten::silu         3.62%      11.878ms         3.62%      11.878ms      45.683us      80.87 Mb      80.87 Mb           260            --  \n",
      "                       C2f block         2.39%       7.843ms        65.86%     215.905ms       5.398ms     171.08 Mb     -10.05 Mb            40            --  \n",
      "                     aten::chunk         0.08%     266.200us         0.56%       1.835ms      45.875us           0 b           0 b            40            --  \n",
      "                     aten::split         0.21%     692.000us         0.48%       1.569ms      39.220us           0 b           0 b            40            --  \n",
      "                    aten::narrow         0.28%     932.900us         0.68%       2.228ms      10.126us           0 b           0 b           220            --  \n",
      "                     aten::slice         0.32%       1.053ms         0.39%       1.295ms       5.885us           0 b           0 b           220            --  \n",
      "                aten::as_strided         0.08%     269.400us         0.08%     269.400us       1.123us           0 b           0 b           240            --  \n",
      "                Bottleneck block         2.18%       7.163ms        36.22%     118.756ms       1.979ms      70.44 Mb           0 b            60            --  \n",
      "                       aten::add         0.82%       2.685ms         0.82%       2.685ms      44.752us      10.05 Mb      10.05 Mb            60         2.634  \n",
      "                       aten::cat         1.18%       3.856ms         1.59%       5.206ms     130.160us      24.40 Mb      24.40 Mb            40            --  \n",
      "               aten::thnn_conv2d         0.04%     129.200us         4.54%      14.888ms     744.400us     980.00 Kb           0 b            20            --  \n",
      "      aten::_slow_conv2d_forward         4.43%      14.532ms         4.50%      14.759ms     737.940us     980.00 Kb      -8.61 Mb            20            --  \n",
      "                      aten::view         0.05%     171.000us         0.05%     171.000us       5.700us           0 b           0 b            30            --  \n",
      "                      ClassifyV8         0.42%       1.388ms         7.30%      23.944ms       2.394ms       4.97 Mb           0 b            10            --  \n",
      "        Adaptive Average Pooling         0.26%     843.400us         0.59%       1.935ms     193.540us      -2.34 Mb      -2.39 Mb            10            --  \n",
      "       aten::adaptive_avg_pool2d         0.02%      53.300us         0.33%       1.092ms     109.200us      50.00 Kb           0 b            10            --  \n",
      "                      aten::mean         0.06%     187.000us         0.32%       1.039ms     103.870us      50.00 Kb      49.99 Kb            10            --  \n",
      "                       aten::sum         0.12%     403.000us         0.14%     445.900us      44.590us           0 b           0 b            10            --  \n",
      "                     aten::fill_         0.01%      42.900us         0.01%      42.900us       4.290us           0 b           0 b            10            --  \n",
      "                      aten::div_         0.05%     165.900us         0.12%     405.800us      40.580us           8 b         -32 b            10            --  \n",
      "                        aten::to         0.01%      45.000us         0.07%     239.900us      23.990us          40 b           0 b            10            --  \n",
      "                  aten::_to_copy         0.03%     105.500us         0.06%     194.900us      19.490us          40 b           0 b            10            --  \n",
      "             aten::empty_strided         0.01%      34.200us         0.01%      34.200us       3.420us          40 b          40 b            10            --  \n",
      "                     aten::copy_         0.03%     112.400us         0.03%     112.400us       5.620us           0 b           0 b            20            --  \n",
      "                         Flatten         0.16%     508.400us         0.20%     670.100us      67.010us           0 b           0 b            10            --  \n",
      "                   aten::flatten         0.02%      55.100us         0.05%     161.700us      16.170us           0 b           0 b            10            --  \n",
      "                    Linear layer         0.25%     817.400us         1.27%       4.166ms     416.630us      39.06 Kb           0 b            10            --  \n",
      "                    aten::linear         0.04%     125.200us         1.02%       3.349ms     334.890us      39.06 Kb           0 b            10            --  \n",
      "                         aten::t         0.03%      90.800us         0.05%     167.500us      16.750us           0 b           0 b            10            --  \n",
      "                 aten::transpose         0.02%      56.900us         0.02%      76.700us       7.670us           0 b           0 b            10            --  \n",
      "                     aten::addmm         0.90%       2.938ms         0.93%       3.056ms     305.620us      39.06 Kb      39.06 Kb            10        25.600  \n",
      "                    aten::expand         0.01%      46.800us         0.02%      54.300us       5.430us           0 b           0 b            10            --  \n",
      "              aten::resolve_conj         0.00%       6.800us         0.00%       6.800us       0.340us           0 b           0 b            20            --  \n",
      "                     Log Softmax         0.22%     729.600us         0.28%     929.900us      92.990us           0 b     -39.06 Kb            10            --  \n",
      "               aten::log_softmax         0.02%      49.400us         0.06%     200.300us      20.030us      39.06 Kb           0 b            10            --  \n",
      "              aten::_log_softmax         0.05%     150.900us         0.05%     150.900us      15.090us      39.06 Kb      39.06 Kb            10            --  \n",
      "--------------------------------  ------------  ------------  ------------  ------------  ------------  ------------  ------------  ------------  ------------  \n",
      "Self CPU time total: 327.848ms\n",
      "\n"
     ]
    }
   ],
   "source": [
    "with profile(activities=[ProfilerActivity.CPU],\n",
    "                                    schedule=torch.profiler.schedule(wait=1, warmup=1, active=10, repeat=1),\n",
    "                                    on_trace_ready=torch.profiler.tensorboard_trace_handler('../../log/YOLOv8cls-version-5/inference'),\n",
    "                                    record_shapes=True,\n",
    "                                    profile_memory=True,\n",
    "                                    with_flops=True,\n",
    "                                    with_modules=True,\n",
    "                                    with_stack=True) as prof:\n",
    "    for i in range(12):\n",
    "        out = model(img)\n",
    "        prof.step()\n",
    "print(prof.key_averages().table(row_limit=-1))"
   ]
  },
  {
   "cell_type": "code",
   "execution_count": 66,
   "id": "10ed6fa2-847d-4d4f-abba-5d5b4053b600",
   "metadata": {},
   "outputs": [],
   "source": [
    "model = Model(num_classes=1000, \n",
    "              residual_connection=True, \n",
    "              CSP=True, \n",
    "              add_hidden=True,\n",
    "              classifyV8=True,\n",
    "              bottleneck=1.0, \n",
    "              variant='s', \n",
    "              device=device, \n",
    "              dtype=torch.float32)"
   ]
  },
  {
   "cell_type": "code",
   "execution_count": 41,
   "id": "46741b04-4824-45cd-a455-f6c34b76b2c3",
   "metadata": {},
   "outputs": [
    {
     "name": "stdout",
     "output_type": "stream",
     "text": [
      "--------------------------------  ------------  ------------  ------------  ------------  ------------  ------------  ------------  ------------  ------------  \n",
      "                            Name    Self CPU %      Self CPU   CPU total %     CPU total  CPU time avg       CPU Mem  Self CPU Mem    # of Calls  Total KFLOPs  \n",
      "--------------------------------  ------------  ------------  ------------  ------------  ------------  ------------  ------------  ------------  ------------  \n",
      "                      Conv block        23.94%       5.663ms        83.74%      19.806ms     761.758us      12.52 Mb           0 b            26            --  \n",
      "                    aten::conv2d         0.71%     169.100us        39.53%       9.350ms     359.615us       4.16 Mb           0 b            26    402612.224  \n",
      "               aten::convolution         1.62%     383.300us        38.82%       9.181ms     353.112us       4.16 Mb           0 b            26            --  \n",
      "              aten::_convolution         1.16%     275.200us        37.20%       8.798ms     338.369us       4.16 Mb           0 b            26            --  \n",
      "        aten::mkldnn_convolution        27.85%       6.587ms        28.60%       6.764ms     397.853us       3.59 Mb           0 b            17            --  \n",
      "                     aten::empty         2.10%     496.000us         2.10%     496.000us       1.930us       9.98 Mb       9.98 Mb           257            --  \n",
      "               aten::as_strided_         0.23%      54.900us         0.23%      54.900us       3.229us           0 b           0 b            17            --  \n",
      "                   aten::resize_         0.17%      40.400us         0.17%      40.400us       1.554us     588.00 Kb     588.00 Kb            26            --  \n",
      "                      aten::add_         0.86%     203.100us         0.86%     203.100us       7.812us           0 b           0 b            26            --  \n",
      "                aten::batch_norm         0.52%     124.000us        15.54%       3.676ms     141.388us       4.19 Mb           0 b            26            --  \n",
      "    aten::_batch_norm_impl_index         1.08%     255.800us        15.02%       3.552ms     136.619us       4.19 Mb           0 b            26            --  \n",
      "         aten::native_batch_norm        11.83%       2.798ms        13.78%       3.260ms     125.385us       4.19 Mb     -53.25 Kb            26            --  \n",
      "                aten::empty_like         0.58%     136.300us         0.86%     204.100us       7.850us       4.16 Mb           0 b            26            --  \n",
      "                      aten::silu         3.86%     913.100us         3.86%     913.100us      35.119us       4.16 Mb       4.16 Mb            26            --  \n",
      "                       C2f block         3.69%     871.600us        67.54%      15.974ms       3.994ms       8.55 Mb    -514.50 Kb             4            --  \n",
      "                     aten::chunk         0.09%      22.200us         0.73%     173.800us      43.450us           0 b           0 b             4            --  \n",
      "                     aten::split         0.28%      66.200us         0.64%     151.600us      37.900us           0 b           0 b             4            --  \n",
      "                    aten::narrow         1.63%     386.700us         2.13%     504.600us      26.558us           0 b           0 b            19            --  \n",
      "                     aten::slice         0.41%      95.800us         0.50%     117.900us       6.205us           0 b           0 b            19            --  \n",
      "                aten::as_strided         0.11%      25.400us         0.11%      25.400us       1.210us           0 b           0 b            21            --  \n",
      "                Bottleneck block         3.03%     716.300us        34.84%       8.240ms       1.373ms       3.52 Mb           0 b             6            --  \n",
      "                       aten::add         0.58%     137.600us         0.58%     137.600us      22.933us     514.50 Kb     514.50 Kb             6       131.712  \n",
      "                       aten::cat         1.16%     274.100us         2.93%     693.300us     173.325us       1.22 Mb       1.22 Mb             4            --  \n",
      "                        [memory]         0.00%       0.000us         0.00%       0.000us       0.000us     -13.50 Mb     -13.50 Mb           135            --  \n",
      "               aten::thnn_conv2d         0.20%      48.400us         7.44%       1.759ms     195.433us     588.00 Kb           0 b             9            --  \n",
      "      aten::_slow_conv2d_forward         6.90%       1.633ms         7.23%       1.711ms     190.056us     588.00 Kb      -2.15 Mb             9            --  \n",
      "                      aten::view         0.14%      32.400us         0.14%      32.400us       2.492us           0 b           0 b            13            --  \n",
      "                    aten::detach         0.02%       4.200us         0.02%       4.200us       1.400us           0 b           0 b             3            --  \n",
      "                      ClassifyV8         0.67%     159.400us         8.97%       2.121ms       2.121ms     508.91 Kb           0 b             1            --  \n",
      "        Adaptive Average Pooling         0.49%     116.100us         1.02%     240.400us     240.400us    -240.00 Kb    -245.00 Kb             1            --  \n",
      "       aten::adaptive_avg_pool2d         0.03%       8.100us         0.53%     124.300us     124.300us       5.00 Kb           0 b             1            --  \n",
      "                      aten::mean         0.10%      22.800us         0.49%     116.200us     116.200us       5.00 Kb       5.00 Kb             1            --  \n",
      "                       aten::sum         0.17%      40.500us         0.19%      44.800us      44.800us           0 b           0 b             1            --  \n",
      "                     aten::fill_         0.02%       4.300us         0.02%       4.300us       4.300us           0 b           0 b             1            --  \n",
      "                      aten::div_         0.08%      19.600us         0.21%      48.600us      48.600us           0 b          -4 b             1            --  \n",
      "                        aten::to         0.02%       5.400us         0.12%      29.000us      29.000us           4 b           0 b             1            --  \n",
      "                  aten::_to_copy         0.06%      13.700us         0.10%      23.600us      23.600us           4 b           0 b             1            --  \n",
      "             aten::empty_strided         0.02%       3.900us         0.02%       3.900us       3.900us           4 b           4 b             1            --  \n",
      "                     aten::copy_         0.05%      12.400us         0.05%      12.400us       6.200us           0 b           0 b             2            --  \n",
      "                         Flatten         0.26%      62.000us         0.33%      78.800us      78.800us           0 b           0 b             1            --  \n",
      "                   aten::flatten         0.02%       5.400us         0.07%      16.800us      16.800us           0 b           0 b             1            --  \n",
      "                    Linear layer         0.92%     217.200us         2.63%     621.700us     621.700us       3.91 Kb           0 b             1            --  \n",
      "                    aten::linear         0.06%      14.600us         1.71%     404.500us     404.500us       3.91 Kb           0 b             1            --  \n",
      "                         aten::t         0.05%      11.600us         0.09%      21.200us      21.200us           0 b           0 b             1            --  \n",
      "                 aten::transpose         0.03%       7.100us         0.04%       9.600us       9.600us           0 b           0 b             1            --  \n",
      "                     aten::addmm         1.50%     355.000us         1.56%     368.700us     368.700us       3.91 Kb       3.91 Kb             1      2560.000  \n",
      "                    aten::expand         0.03%       6.000us         0.03%       6.800us       6.800us           0 b           0 b             1            --  \n",
      "              aten::resolve_conj         0.00%       0.500us         0.00%       0.500us       0.250us           0 b           0 b             2            --  \n",
      "                     Log Softmax         0.53%     126.300us         0.65%     153.400us     153.400us           0 b      -3.91 Kb             1            --  \n",
      "               aten::log_softmax         0.03%       6.300us         0.11%      27.100us      27.100us       3.91 Kb           0 b             1            --  \n",
      "              aten::_log_softmax         0.09%      20.800us         0.09%      20.800us      20.800us       3.91 Kb       3.91 Kb             1            --  \n",
      "--------------------------------  ------------  ------------  ------------  ------------  ------------  ------------  ------------  ------------  ------------  \n",
      "Self CPU time total: 23.652ms\n",
      "\n"
     ]
    }
   ],
   "source": [
    "with profile(activities=[ProfilerActivity.CPU, ProfilerActivity.CUDA],\n",
    "                                    # schedule=torch.profiler.schedule(wait=1, warmup=1, active=1, repeat=1),\n",
    "                                    on_trace_ready=torch.profiler.tensorboard_trace_handler('../../log/YOLOv8cls-version-5/inference'),\n",
    "                                    record_shapes=True,\n",
    "                                    profile_memory=True,\n",
    "                                    with_flops=True,\n",
    "                                    with_modules=True,\n",
    "                                    with_stack=True) as prof:\n",
    "    out = model(img)\n",
    "print(prof.key_averages().table(row_limit=-1))"
   ]
  },
  {
   "cell_type": "code",
   "execution_count": 43,
   "id": "b9e7e554-6f51-489c-805e-94d4ada7b47a",
   "metadata": {},
   "outputs": [],
   "source": [
    "model = Model(num_classes=1000, \n",
    "              residual_connection=True, \n",
    "              CSP=True, \n",
    "              add_hidden=True,\n",
    "              classifyV8=True,\n",
    "              bottleneck=1.0, \n",
    "              variant='s', \n",
    "              device=device, \n",
    "              dtype=torch.float32)"
   ]
  },
  {
   "cell_type": "code",
   "execution_count": 51,
   "id": "03c841ca-0032-44f4-a4e1-5a8a865b66de",
   "metadata": {},
   "outputs": [],
   "source": [
    "model = torch.load('../../../Models/yolov8n-cls.pt')['model']"
   ]
  },
  {
   "cell_type": "code",
   "execution_count": 52,
   "id": "c2c7efbc-fefc-47ed-94a9-3685106bde77",
   "metadata": {},
   "outputs": [],
   "source": [
    "img = train_dataset[0][0].unsqueeze(0).half()"
   ]
  },
  {
   "cell_type": "code",
   "execution_count": 53,
   "id": "780e2336-6ba3-440a-b94e-f0ecb59c4763",
   "metadata": {},
   "outputs": [
    {
     "name": "stdout",
     "output_type": "stream",
     "text": [
      "--------------------------------  ------------  ------------  ------------  ------------  ------------  ------------  ------------  \n",
      "                            Name    Self CPU %      Self CPU   CPU total %     CPU total  CPU time avg    # of Calls  Total KFLOPs  \n",
      "--------------------------------  ------------  ------------  ------------  ------------  ------------  ------------  ------------  \n",
      "                    aten::conv2d         0.07%     217.500us        98.27%     326.319ms      12.551ms            26    402612.224  \n",
      "               aten::convolution         0.08%     249.400us        98.20%     326.102ms      12.542ms            26            --  \n",
      "              aten::_convolution         0.11%     357.300us        98.13%     325.852ms      12.533ms            26            --  \n",
      "               aten::thnn_conv2d         0.07%     221.400us        98.02%     325.495ms      12.519ms            26            --  \n",
      "      aten::_slow_conv2d_forward        97.87%     325.012ms        97.95%     325.274ms      12.511ms            26            --  \n",
      "                     aten::empty         0.11%     355.200us         0.11%     355.200us       1.785us           199            --  \n",
      "                      aten::view         0.03%     100.900us         0.03%     100.900us       2.803us            36            --  \n",
      "                   aten::resize_         0.02%      67.700us         0.02%      67.700us       2.604us            26            --  \n",
      "                aten::batch_norm         0.05%     149.500us         0.65%       2.148ms      82.612us            26            --  \n",
      "    aten::_batch_norm_impl_index         0.11%     380.600us         0.60%       1.998ms      76.862us            26            --  \n",
      "         aten::native_batch_norm         0.36%       1.207ms         0.46%       1.530ms      58.842us            26            --  \n",
      "                aten::empty_like         0.04%     139.700us         0.07%     223.200us       8.585us            26            --  \n",
      "                      aten::silu         0.42%       1.399ms         0.42%       1.399ms      53.800us            26            --  \n",
      "                    aten::detach         0.00%      14.600us         0.00%      14.600us       1.622us             9            --  \n",
      "                     aten::chunk         0.01%      43.500us         0.06%     207.000us      51.750us             4            --  \n",
      "                     aten::split         0.02%      65.400us         0.05%     163.500us      40.875us             4            --  \n",
      "                    aten::narrow         0.02%      80.800us         0.06%     197.800us      10.411us            19            --  \n",
      "                     aten::slice         0.03%      94.000us         0.04%     117.000us       6.158us            19            --  \n",
      "                aten::as_strided         0.01%      25.300us         0.01%      25.300us       1.205us            21            --  \n",
      "                       aten::add         0.03%      91.000us         0.03%      91.000us      15.167us             6       131.712  \n",
      "                       aten::cat         0.06%     197.800us         0.09%     297.500us      74.375us             4            --  \n",
      "       aten::adaptive_avg_pool2d         0.00%       7.300us         0.05%     166.200us     166.200us             1            --  \n",
      "                      aten::mean         0.01%      23.000us         0.05%     158.900us     158.900us             1            --  \n",
      "                        aten::to         0.00%      11.600us         0.02%      79.800us      19.950us             4            --  \n",
      "                  aten::_to_copy         0.01%      21.200us         0.02%      68.200us      17.050us             4            --  \n",
      "             aten::empty_strided         0.00%       5.800us         0.00%       5.800us       1.450us             4            --  \n",
      "                     aten::copy_         0.01%      47.500us         0.01%      47.500us       9.500us             5            --  \n",
      "                       aten::sum         0.01%      36.400us         0.02%      79.300us      79.300us             1            --  \n",
      "                     aten::fill_         0.00%       4.600us         0.00%       4.600us       4.600us             1            --  \n",
      "                      aten::div_         0.00%      15.100us         0.01%      26.100us      26.100us             1            --  \n",
      "                   aten::flatten         0.00%       9.400us         0.00%      15.500us      15.500us             1            --  \n",
      "                  aten::dropout_         0.00%       1.800us         0.00%       1.800us       1.800us             1            --  \n",
      "                    aten::linear         0.00%      13.500us         0.42%       1.405ms       1.405ms             1            --  \n",
      "                         aten::t         0.00%       8.400us         0.00%      15.700us      15.700us             1            --  \n",
      "                 aten::transpose         0.00%       5.600us         0.00%       7.300us       7.300us             1            --  \n",
      "                     aten::addmm         0.41%       1.366ms         0.41%       1.376ms       1.376ms             1      2560.000  \n",
      "                    aten::expand         0.00%       2.900us         0.00%       3.500us       3.500us             1            --  \n",
      "              aten::resolve_conj         0.00%       0.700us         0.00%       0.700us       0.350us             2            --  \n",
      "                   aten::softmax         0.00%       4.300us         0.01%      23.600us      23.600us             1            --  \n",
      "                  aten::_softmax         0.01%      19.300us         0.01%      19.300us      19.300us             1            --  \n",
      "--------------------------------  ------------  ------------  ------------  ------------  ------------  ------------  ------------  \n",
      "Self CPU time total: 332.074ms\n",
      "\n"
     ]
    }
   ],
   "source": [
    "with torch.autograd.profiler.profile(use_device='cpu',\n",
    "                                    record_shapes=True,\n",
    "                                    # profile_memory=True,\n",
    "                                    with_flops=True,\n",
    "                                    with_modules=True,\n",
    "                                    with_stack=True) as prof:\n",
    "   model.predict(img)\n",
    "print(prof.key_averages().table(row_limit=-1))"
   ]
  },
  {
   "cell_type": "code",
   "execution_count": 61,
   "id": "a01bc13a-7298-46b0-8bdf-0b30bcc19b65",
   "metadata": {},
   "outputs": [
    {
     "data": {
      "text/plain": [
       "0.402612"
      ]
     },
     "execution_count": 61,
     "metadata": {},
     "output_type": "execute_result"
    }
   ],
   "source": [
    "402612*10**3/10**9"
   ]
  },
  {
   "cell_type": "code",
   "execution_count": null,
   "id": "3df28337-94f0-40bf-bdec-4dcb8110cfcb",
   "metadata": {},
   "outputs": [],
   "source": []
  }
 ],
 "metadata": {
  "kernelspec": {
   "display_name": "Python 3 (ipykernel)",
   "language": "python",
   "name": "python3"
  },
  "language_info": {
   "codemirror_mode": {
    "name": "ipython",
    "version": 3
   },
   "file_extension": ".py",
   "mimetype": "text/x-python",
   "name": "python",
   "nbconvert_exporter": "python",
   "pygments_lexer": "ipython3",
   "version": "3.12.6"
  }
 },
 "nbformat": 4,
 "nbformat_minor": 5
}
