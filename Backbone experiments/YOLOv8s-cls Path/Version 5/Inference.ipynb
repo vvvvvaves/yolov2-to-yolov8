{
 "cells": [
  {
   "cell_type": "code",
   "execution_count": 1,
   "id": "a5258e5c-2fd1-45d6-bf25-96674d504f91",
   "metadata": {},
   "outputs": [],
   "source": [
    "import os\n",
    "import torch\n",
    "import torch.nn as nn\n",
    "from torchvision import transforms"
   ]
  },
  {
   "cell_type": "code",
   "execution_count": 2,
   "id": "c9deb7c5-1256-4fdd-b447-69f25786c0e8",
   "metadata": {},
   "outputs": [],
   "source": [
    "import sys\n",
    "sys.path.insert(1, \"../../../\")"
   ]
  },
  {
   "cell_type": "code",
   "execution_count": 3,
   "id": "43b63379-9363-448e-b927-2231dbb097b1",
   "metadata": {},
   "outputs": [],
   "source": [
    "from data_preprocessing import get_means, get_stds, ImageNetSubset\n",
    "from Models.yolov8cls_path import Model\n",
    "from evaluation import count_parameters"
   ]
  },
  {
   "cell_type": "code",
   "execution_count": 4,
   "id": "cbdae16b-4251-46a6-865b-bfa81a9a5ea1",
   "metadata": {},
   "outputs": [],
   "source": [
    "if torch.cuda.is_available():\n",
    "    device=torch.device('cuda')\n",
    "else:\n",
    "    device=torch.device('cpu') "
   ]
  },
  {
   "cell_type": "code",
   "execution_count": 5,
   "id": "ae3c5dd0-ac5d-4cbb-8463-d9ebe0621f3c",
   "metadata": {},
   "outputs": [],
   "source": [
    "data_path = '../../../../dummy_datasets/'\n",
    "norms_path = os.path.join(data_path, 'norms.json')"
   ]
  },
  {
   "cell_type": "code",
   "execution_count": 6,
   "id": "e608e517-6da7-41c7-b62d-81cca6aecf54",
   "metadata": {},
   "outputs": [
    {
     "name": "stdout",
     "output_type": "stream",
     "text": [
      "Means are: [0.4405549168586731, 0.4407285749912262, 0.4381718039512634]\n",
      "stds are: [0.25142669677734375, 0.25270089507102966, 0.25131651759147644]\n"
     ]
    }
   ],
   "source": [
    "means = get_means(path=norms_path, train_loader=None)\n",
    "stds = get_stds(path=norms_path, train_loader=None)"
   ]
  },
  {
   "cell_type": "markdown",
   "id": "102fb805-2a55-41c6-8ef3-82c9c46dca89",
   "metadata": {},
   "source": [
    "# Inference at 640x640"
   ]
  },
  {
   "cell_type": "code",
   "execution_count": 7,
   "id": "840c3bfd-3f57-4508-9834-fd0c87b7532a",
   "metadata": {},
   "outputs": [],
   "source": [
    "transformations = transforms.Compose([transforms.ToTensor(),\n",
    "                                      transforms.Resize((640, 640)),\n",
    "                                      transforms.Normalize(mean=means, std=stds)])"
   ]
  },
  {
   "cell_type": "code",
   "execution_count": 8,
   "id": "dfaadddf-3f19-4b50-93b4-98cf177980fb",
   "metadata": {},
   "outputs": [],
   "source": [
    "train_dataset = ImageNetSubset(path=data_path, train=True, transform=transformations, half=False, show=False)"
   ]
  },
  {
   "cell_type": "code",
   "execution_count": 9,
   "id": "0c74c18e-ac17-4de9-a2a4-4787cb14017d",
   "metadata": {},
   "outputs": [],
   "source": [
    "img = train_dataset[0][0].unsqueeze(0)"
   ]
  },
  {
   "cell_type": "code",
   "execution_count": 10,
   "id": "49cee9ed-c904-430e-8547-65f4a7d374fa",
   "metadata": {},
   "outputs": [],
   "source": [
    "from torch.profiler import profile, ProfilerActivity"
   ]
  },
  {
   "cell_type": "code",
   "execution_count": 11,
   "id": "1985ba25-7f2f-4cc6-81a4-b567e48ccab9",
   "metadata": {},
   "outputs": [],
   "source": [
    "model = Model(num_classes=1000, \n",
    "              residual_connection=True, \n",
    "              CSP=True, \n",
    "              add_hidden=True,\n",
    "              classifyV8=True,\n",
    "              bottleneck=1.0, \n",
    "              variant='s', \n",
    "              device=device, \n",
    "              dtype=torch.float32)"
   ]
  },
  {
   "cell_type": "code",
   "execution_count": 12,
   "id": "d2426ee4-b05b-47a4-8824-f1f603966f87",
   "metadata": {
    "scrolled": true
   },
   "outputs": [
    {
     "name": "stdout",
     "output_type": "stream",
     "text": [
      "--------------------------------  ------------  ------------  ------------  ------------  ------------  ------------  ------------  ------------  ------------  \n",
      "                            Name    Self CPU %      Self CPU   CPU total %     CPU total  CPU time avg       CPU Mem  Self CPU Mem    # of Calls  Total MFLOPs  \n",
      "--------------------------------  ------------  ------------  ------------  ------------  ------------  ------------  ------------  ------------  ------------  \n",
      "                   ProfilerStep*         0.76%       9.953ms       100.00%        1.315s     131.480ms     210.21 Mb      -1.90 Gb            10            --  \n",
      "                      Conv block         5.69%      74.864ms        93.40%        1.228s       4.723ms       1.93 Gb           0 b           260            --  \n",
      "                    aten::conv2d         0.17%       2.250ms        61.75%     811.913ms       3.123ms     660.16 Mb           0 b           260    124452.864  \n",
      "               aten::convolution         0.42%       5.519ms        61.58%     809.663ms       3.114ms     660.16 Mb           0 b           260            --  \n",
      "              aten::_convolution         0.28%       3.684ms        61.16%     804.144ms       3.093ms     660.16 Mb           0 b           260            --  \n",
      "        aten::mkldnn_convolution        60.57%     796.417ms        60.88%     800.460ms       3.079ms     660.16 Mb           0 b           260            --  \n",
      "                     aten::empty         0.43%       5.625ms         0.43%       5.625ms       2.163us       1.29 Gb       1.29 Gb          2600            --  \n",
      "               aten::as_strided_         0.11%       1.391ms         0.11%       1.391ms       5.352us           0 b           0 b           260            --  \n",
      "                   aten::resize_         0.03%     420.300us         0.03%     420.300us       1.617us           0 b           0 b           260            --  \n",
      "                      aten::add_         0.28%       3.711ms         0.28%       3.711ms      14.275us           0 b           0 b           260            --  \n",
      "                aten::batch_norm         0.12%       1.617ms        20.15%     264.982ms       1.019ms     660.58 Mb           0 b           260            --  \n",
      "    aten::_batch_norm_impl_index         0.30%       4.001ms        20.03%     263.365ms       1.013ms     660.58 Mb           0 b           260            --  \n",
      "         aten::native_batch_norm        19.36%     254.483ms        19.70%     258.952ms     995.970us     660.58 Mb    -865.00 Kb           260            --  \n",
      "                aten::empty_like         0.11%       1.488ms         0.16%       2.143ms       8.243us     660.16 Mb           0 b           260            --  \n",
      "                      aten::silu         5.51%      72.489ms         5.51%      72.489ms     278.804us     660.16 Mb     660.16 Mb           260            --  \n",
      "                       C2f block         0.89%      11.753ms        62.59%     822.871ms      20.572ms       1.36 Gb     -82.03 Mb            40            --  \n",
      "                     aten::chunk         0.02%     327.900us         0.17%       2.259ms      56.465us           0 b           0 b            40            --  \n",
      "                     aten::split         0.06%     770.900us         0.15%       1.931ms      48.268us           0 b           0 b            40            --  \n",
      "                    aten::narrow         0.08%       1.089ms         0.22%       2.873ms      13.059us           0 b           0 b           220            --  \n",
      "                     aten::slice         0.11%       1.452ms         0.14%       1.784ms       8.107us           0 b           0 b           220            --  \n",
      "                aten::as_strided         0.03%     362.500us         0.03%     362.500us       1.510us           0 b           0 b           240            --  \n",
      "                Bottleneck block         0.73%       9.565ms        33.39%     438.995ms       7.317ms     574.32 Mb           0 b            60            --  \n",
      "                       aten::add         0.95%      12.502ms         0.95%      12.502ms     208.375us      82.03 Mb      82.03 Mb            60        21.504  \n",
      "                       aten::cat         2.13%      27.986ms         2.26%      29.699ms     742.473us     199.22 Mb     199.22 Mb            40            --  \n",
      "                      ClassifyV8         0.12%       1.589ms         3.98%      52.286ms       5.229ms      39.25 Mb           0 b            10            --  \n",
      "        Adaptive Average Pooling         0.08%       1.066ms         0.24%       3.097ms     309.720us     -19.48 Mb     -19.53 Mb            10            --  \n",
      "       aten::adaptive_avg_pool2d         0.03%     344.100us         0.15%       2.031ms     203.080us      50.00 Kb           0 b            10            --  \n",
      "                      aten::mean         0.02%     232.700us         0.13%       1.687ms     168.670us      50.00 Kb      49.99 Kb            10            --  \n",
      "                       aten::sum         0.07%     974.800us         0.08%       1.017ms     101.730us           0 b           0 b            10            --  \n",
      "                     aten::fill_         0.00%      42.500us         0.00%      42.500us       4.250us           0 b           0 b            10            --  \n",
      "                      aten::div_         0.01%     180.100us         0.03%     436.700us      43.670us           8 b         -32 b            10            --  \n",
      "                        aten::to         0.00%      48.500us         0.02%     256.600us      25.660us          40 b           0 b            10            --  \n",
      "                  aten::_to_copy         0.01%     115.100us         0.02%     208.100us      20.810us          40 b           0 b            10            --  \n",
      "             aten::empty_strided         0.00%      36.600us         0.00%      36.600us       3.660us          40 b          40 b            10            --  \n",
      "                     aten::copy_         0.01%     114.500us         0.01%     114.500us       5.725us           0 b           0 b            20            --  \n",
      "                         Flatten         0.05%     597.400us         0.06%     775.200us      77.520us           0 b           0 b            10            --  \n",
      "                   aten::flatten         0.00%      59.800us         0.01%     177.800us      17.780us           0 b           0 b            10            --  \n",
      "                      aten::view         0.01%     118.000us         0.01%     118.000us      11.800us           0 b           0 b            10            --  \n",
      "                    Linear layer         0.07%     858.200us         0.36%       4.735ms     473.450us      39.06 Kb           0 b            10            --  \n",
      "                    aten::linear         0.01%     143.900us         0.29%       3.876ms     387.630us      39.06 Kb           0 b            10            --  \n",
      "                         aten::t         0.01%      87.400us         0.01%     170.900us      17.090us           0 b           0 b            10            --  \n",
      "                 aten::transpose         0.00%      58.900us         0.01%      83.500us       8.350us           0 b           0 b            10            --  \n",
      "                     aten::addmm         0.26%       3.444ms         0.27%       3.561ms     356.150us      39.06 Kb      39.06 Kb            10        25.600  \n",
      "                    aten::expand         0.00%      45.600us         0.00%      52.100us       5.210us           0 b           0 b            10            --  \n",
      "              aten::resolve_conj         0.00%       6.900us         0.00%       6.900us       0.345us           0 b           0 b            20            --  \n",
      "                     Log Softmax         0.05%     713.500us         0.07%     913.700us      91.370us           0 b     -39.06 Kb            10            --  \n",
      "               aten::log_softmax         0.00%      47.500us         0.02%     200.200us      20.020us      39.06 Kb           0 b            10            --  \n",
      "              aten::_log_softmax         0.01%     152.700us         0.01%     152.700us      15.270us      39.06 Kb      39.06 Kb            10            --  \n",
      "--------------------------------  ------------  ------------  ------------  ------------  ------------  ------------  ------------  ------------  ------------  \n",
      "Self CPU time total: 1.315s\n",
      "\n"
     ]
    }
   ],
   "source": [
    "with profile(activities=[ProfilerActivity.CPU],\n",
    "                                    schedule=torch.profiler.schedule(wait=1, warmup=1, active=10, repeat=1),\n",
    "                                    on_trace_ready=torch.profiler.tensorboard_trace_handler('../../log/YOLOv8cls-version-5/inference_at_640'),\n",
    "                                    record_shapes=True,\n",
    "                                    profile_memory=True,\n",
    "                                    with_flops=True,\n",
    "                                    with_modules=True,\n",
    "                                    with_stack=True) as prof:\n",
    "    for i in range(12):\n",
    "        out = model(img)\n",
    "        prof.step()\n",
    "print(prof.key_averages().table(row_limit=-1))"
   ]
  },
  {
   "cell_type": "markdown",
   "id": "ce5b44e5-7f7e-4a76-861f-2bf3ebd644c3",
   "metadata": {},
   "source": [
    "# Inference at 640x640 using Ultralytics functions"
   ]
  },
  {
   "cell_type": "code",
   "execution_count": 13,
   "id": "687df1ca-149f-4453-a59e-71f901ccdaae",
   "metadata": {},
   "outputs": [],
   "source": [
    "from ultralytics_flops import get_flops, get_flops_with_torch_profiler"
   ]
  },
  {
   "cell_type": "code",
   "execution_count": 14,
   "id": "974af443-24d1-42b4-8344-f366140b15b0",
   "metadata": {},
   "outputs": [
    {
     "data": {
      "text/plain": [
       "13.609779199999998"
      ]
     },
     "execution_count": 14,
     "metadata": {},
     "output_type": "execute_result"
    }
   ],
   "source": [
    "get_flops(model, imgsz=640)"
   ]
  },
  {
   "cell_type": "code",
   "execution_count": 15,
   "id": "cd76820f-6b5b-45c7-a89b-5c554d20a03c",
   "metadata": {},
   "outputs": [
    {
     "data": {
      "text/plain": [
       "12.7034368"
      ]
     },
     "execution_count": 15,
     "metadata": {},
     "output_type": "execute_result"
    }
   ],
   "source": [
    "get_flops_with_torch_profiler(model, imgsz=640)"
   ]
  },
  {
   "cell_type": "markdown",
   "id": "24787ea0-1f86-4bab-b24b-ccded3c81c81",
   "metadata": {},
   "source": [
    "# Inference at 224x224"
   ]
  },
  {
   "cell_type": "code",
   "execution_count": 23,
   "id": "77eac3b8-9ed6-4db9-b6e5-65bd9861c3a6",
   "metadata": {},
   "outputs": [],
   "source": [
    "transformations = transforms.Compose([transforms.ToTensor(),\n",
    "                                      transforms.Resize((224, 224)),\n",
    "                                      transforms.Normalize(mean=means, std=stds)])"
   ]
  },
  {
   "cell_type": "code",
   "execution_count": 24,
   "id": "4219c9d9-09e2-4ade-ab92-02bb95131795",
   "metadata": {},
   "outputs": [],
   "source": [
    "train_dataset = ImageNetSubset(path=data_path, train=True, transform=transformations, half=False, show=False)"
   ]
  },
  {
   "cell_type": "code",
   "execution_count": 25,
   "id": "15b23676-1f8a-4498-856c-d62c6ee1de3d",
   "metadata": {},
   "outputs": [],
   "source": [
    "img = train_dataset[0][0].unsqueeze(0)"
   ]
  },
  {
   "cell_type": "code",
   "execution_count": 26,
   "id": "11d18247-d309-4d50-9218-d0620b8d5dc0",
   "metadata": {},
   "outputs": [],
   "source": [
    "from torch.profiler import profile, ProfilerActivity"
   ]
  },
  {
   "cell_type": "code",
   "execution_count": 27,
   "id": "92b301dc-1ace-4c82-8e00-29a02be15f70",
   "metadata": {},
   "outputs": [],
   "source": [
    "model = Model(num_classes=1000, \n",
    "              residual_connection=True, \n",
    "              CSP=True, \n",
    "              add_hidden=True,\n",
    "              classifyV8=True,\n",
    "              bottleneck=1.0, \n",
    "              variant='s', \n",
    "              device=device, \n",
    "              dtype=torch.float32)"
   ]
  },
  {
   "cell_type": "code",
   "execution_count": 44,
   "id": "26b41568-7310-4ccb-9bde-3f94a048a7b6",
   "metadata": {
    "scrolled": true
   },
   "outputs": [
    {
     "name": "stdout",
     "output_type": "stream",
     "text": [
      "--------------------------------  ------------  ------------  ------------  ------------  ------------  ------------  ------------  ------------  ------------  \n",
      "                            Name    Self CPU %      Self CPU   CPU total %     CPU total  CPU time avg       CPU Mem  Self CPU Mem    # of Calls  Total MFLOPs  \n",
      "--------------------------------  ------------  ------------  ------------  ------------  ------------  ------------  ------------  ------------  ------------  \n",
      "                   ProfilerStep*         0.75%      12.339ms       100.00%        1.643s     164.315ms      13.30 Mb      -2.10 Gb            10            --  \n",
      "                      Conv block         6.49%     106.631ms        93.46%        1.536s       5.907ms       1.93 Gb           0 b           260            --  \n",
      "                    aten::conv2d         0.18%       3.025ms        60.24%     989.766ms       3.807ms     660.16 Mb           0 b           260    124452.864  \n",
      "               aten::convolution         0.43%       7.040ms        60.05%     986.742ms       3.795ms     660.16 Mb           0 b           260            --  \n",
      "              aten::_convolution         0.31%       5.092ms        59.62%     979.702ms       3.768ms     660.16 Mb           0 b           260            --  \n",
      "        aten::mkldnn_convolution        58.96%     968.858ms        59.31%     974.609ms       3.748ms     660.16 Mb           0 b           260            --  \n",
      "                     aten::empty         0.49%       8.003ms         0.49%       8.003ms       3.078us       1.29 Gb       1.29 Gb          2600            --  \n",
      "               aten::as_strided_         0.12%       1.915ms         0.12%       1.915ms       7.367us           0 b           0 b           260            --  \n",
      "                   aten::resize_         0.04%     607.300us         0.04%     607.300us       2.336us           0 b           0 b           260            --  \n",
      "                      aten::add_         0.30%       4.882ms         0.30%       4.882ms      18.777us           0 b           0 b           260            --  \n",
      "                aten::batch_norm         0.18%       2.927ms        20.78%     341.521ms       1.314ms     660.58 Mb           0 b           260            --  \n",
      "    aten::_batch_norm_impl_index         0.34%       5.621ms        20.61%     338.594ms       1.302ms     660.58 Mb           0 b           260            --  \n",
      "         aten::native_batch_norm        19.85%     326.195ms        20.23%     332.388ms       1.278ms     660.58 Mb    -865.00 Kb           260            --  \n",
      "                aten::empty_like         0.12%       2.004ms         0.17%       2.864ms      11.016us     660.16 Mb           0 b           260            --  \n",
      "                      aten::silu         5.65%      92.914ms         5.65%      92.914ms     357.362us     660.16 Mb     660.16 Mb           260            --  \n",
      "                       C2f block         0.97%      15.967ms        65.24%        1.072s      26.799ms       1.36 Gb     -82.03 Mb            40            --  \n",
      "                     aten::chunk         0.02%     401.100us         0.17%       2.734ms      68.343us           0 b           0 b            40            --  \n",
      "                     aten::split         0.06%     969.100us         0.14%       2.333ms      58.315us           0 b           0 b            40            --  \n",
      "                    aten::narrow         0.09%       1.423ms         0.22%       3.562ms      16.189us           0 b           0 b           220            --  \n",
      "                     aten::slice         0.10%       1.700ms         0.13%       2.138ms       9.720us           0 b           0 b           220            --  \n",
      "                aten::as_strided         0.03%     477.400us         0.03%     477.400us       1.989us           0 b           0 b           240            --  \n",
      "                Bottleneck block         0.85%      13.893ms        34.88%     573.203ms       9.553ms     574.32 Mb           0 b            60            --  \n",
      "                       aten::add         0.90%      14.811ms         0.90%      14.811ms     246.845us      82.03 Mb      82.03 Mb            60        21.504  \n",
      "                       aten::cat         1.95%      32.003ms         2.08%      34.201ms     855.030us     199.22 Mb     199.22 Mb            40            --  \n",
      "                      ClassifyV8         0.12%       2.022ms         3.98%      65.375ms       6.538ms      39.25 Mb           0 b            10            --  \n",
      "        Adaptive Average Pooling         0.08%       1.392ms         0.24%       3.931ms     393.100us     -19.48 Mb     -19.53 Mb            10            --  \n",
      "       aten::adaptive_avg_pool2d         0.03%     431.200us         0.15%       2.539ms     253.940us      50.00 Kb           0 b            10            --  \n",
      "                      aten::mean         0.02%     270.800us         0.13%       2.108ms     210.820us      50.00 Kb      50.00 Kb            10            --  \n",
      "                       aten::sum         0.07%       1.159ms         0.07%       1.209ms     120.870us           0 b           0 b            10            --  \n",
      "                     aten::fill_         0.00%      50.000us         0.00%      50.000us       5.000us           0 b           0 b            10            --  \n",
      "                      aten::div_         0.02%     249.600us         0.04%     628.700us      62.870us           0 b         -40 b            10            --  \n",
      "                        aten::to         0.00%      69.600us         0.02%     379.100us      37.910us          40 b           0 b            10            --  \n",
      "                  aten::_to_copy         0.01%     195.700us         0.02%     309.500us      30.950us          40 b           0 b            10            --  \n",
      "             aten::empty_strided         0.00%      45.500us         0.00%      45.500us       4.550us          40 b          40 b            10            --  \n",
      "                     aten::copy_         0.01%     134.000us         0.01%     134.000us       6.700us           0 b           0 b            20            --  \n",
      "                         Flatten         0.04%     620.400us         0.05%     833.900us      83.390us           0 b           0 b            10            --  \n",
      "                   aten::flatten         0.00%      72.900us         0.01%     213.500us      21.350us           0 b           0 b            10            --  \n",
      "                      aten::view         0.01%     140.600us         0.01%     140.600us      14.060us           0 b           0 b            10            --  \n",
      "                    Linear layer         0.07%       1.114ms         0.34%       5.541ms     554.140us      39.06 Kb           0 b            10            --  \n",
      "                    aten::linear         0.01%     197.600us         0.27%       4.427ms     442.740us      39.06 Kb           0 b            10            --  \n",
      "                         aten::t         0.01%     120.700us         0.01%     219.600us      21.960us           0 b           0 b            10            --  \n",
      "                 aten::transpose         0.00%      68.300us         0.01%      98.900us       9.890us           0 b           0 b            10            --  \n",
      "                     aten::addmm         0.24%       3.871ms         0.24%       4.010ms     401.020us      39.06 Kb      39.06 Kb            10        25.600  \n",
      "                    aten::expand         0.00%      58.600us         0.00%      66.900us       6.690us           0 b           0 b            10            --  \n",
      "              aten::resolve_conj         0.00%       6.700us         0.00%       6.700us       0.335us           0 b           0 b            20            --  \n",
      "                     Log Softmax         0.06%     910.100us         0.07%       1.163ms     116.310us           0 b     -39.06 Kb            10            --  \n",
      "               aten::log_softmax         0.00%      56.900us         0.02%     253.000us      25.300us      39.06 Kb           0 b            10            --  \n",
      "              aten::_log_softmax         0.01%     196.100us         0.01%     196.100us      19.610us      39.06 Kb      39.06 Kb            10            --  \n",
      "--------------------------------  ------------  ------------  ------------  ------------  ------------  ------------  ------------  ------------  ------------  \n",
      "Self CPU time total: 1.643s\n",
      "\n"
     ]
    }
   ],
   "source": [
    "with profile(activities=[ProfilerActivity.CPU],\n",
    "                                    schedule=torch.profiler.schedule(wait=1, warmup=1, active=10, repeat=1),\n",
    "                                    on_trace_ready=torch.profiler.tensorboard_trace_handler('../../log/YOLOv8cls-version-5/inference_at_224'),\n",
    "                                    record_shapes=True,\n",
    "                                    profile_memory=True,\n",
    "                                    with_flops=True,\n",
    "                                    with_modules=True,\n",
    "                                    with_stack=True) as prof:\n",
    "    for i in range(12):\n",
    "        out = model(img)\n",
    "        prof.step()\n",
    "print(prof.key_averages().table(row_limit=-1))"
   ]
  },
  {
   "cell_type": "markdown",
   "id": "f407744c-dfde-4535-b21b-f86b97b511f5",
   "metadata": {},
   "source": [
    "# Count Parameters"
   ]
  },
  {
   "cell_type": "markdown",
   "id": "f915c3d0-a275-452a-a5c5-fe2150583424",
   "metadata": {},
   "source": [
    "My implementation:"
   ]
  },
  {
   "cell_type": "code",
   "execution_count": 30,
   "id": "89a625a4-0da2-4489-af19-370d730debb8",
   "metadata": {},
   "outputs": [
    {
     "data": {
      "text/plain": [
       "6361736"
      ]
     },
     "execution_count": 30,
     "metadata": {},
     "output_type": "execute_result"
    }
   ],
   "source": [
    "count_parameters(model)"
   ]
  },
  {
   "cell_type": "markdown",
   "id": "c500e66b-3e69-425f-9aab-5fe87bbdd8db",
   "metadata": {},
   "source": [
    "Ultralytics implementation:"
   ]
  },
  {
   "cell_type": "code",
   "execution_count": 36,
   "id": "3c7db038-50d7-4aba-be67-24de675dbeef",
   "metadata": {},
   "outputs": [],
   "source": [
    "model = torch.load('../../../Models/yolov8s-cls.pt')['model'].model"
   ]
  },
  {
   "cell_type": "code",
   "execution_count": 37,
   "id": "12ff82dd-fa58-45f6-b938-4bcb9b334fce",
   "metadata": {},
   "outputs": [
    {
     "data": {
      "text/plain": [
       "6361736"
      ]
     },
     "execution_count": 37,
     "metadata": {},
     "output_type": "execute_result"
    }
   ],
   "source": [
    "count_parameters(model)"
   ]
  }
 ],
 "metadata": {
  "kernelspec": {
   "display_name": "Python 3 (ipykernel)",
   "language": "python",
   "name": "python3"
  },
  "language_info": {
   "codemirror_mode": {
    "name": "ipython",
    "version": 3
   },
   "file_extension": ".py",
   "mimetype": "text/x-python",
   "name": "python",
   "nbconvert_exporter": "python",
   "pygments_lexer": "ipython3",
   "version": "3.12.6"
  }
 },
 "nbformat": 4,
 "nbformat_minor": 5
}
