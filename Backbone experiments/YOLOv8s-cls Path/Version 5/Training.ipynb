{
 "cells": [
  {
   "cell_type": "code",
   "execution_count": 18,
   "id": "a5258e5c-2fd1-45d6-bf25-96674d504f91",
   "metadata": {},
   "outputs": [],
   "source": [
    "import torch\n",
    "import torch.nn as nn\n",
    "from torchvision import transforms\n",
    "from torch.utils.data import DataLoader\n",
    "from torch import optim"
   ]
  },
  {
   "cell_type": "code",
   "execution_count": 19,
   "id": "c9deb7c5-1256-4fdd-b447-69f25786c0e8",
   "metadata": {},
   "outputs": [],
   "source": [
    "import sys\n",
    "sys.path.insert(1, \"../../../\")"
   ]
  },
  {
   "cell_type": "code",
   "execution_count": 20,
   "id": "43b63379-9363-448e-b927-2231dbb097b1",
   "metadata": {},
   "outputs": [],
   "source": [
    "from train import *\n",
    "from data_preprocessing import *\n",
    "from Models.yolov8cls_path import Model"
   ]
  },
  {
   "cell_type": "code",
   "execution_count": 21,
   "id": "cbdae16b-4251-46a6-865b-bfa81a9a5ea1",
   "metadata": {},
   "outputs": [],
   "source": [
    "if torch.cuda.is_available():\n",
    "    device=torch.device('cuda')\n",
    "else:\n",
    "    device=torch.device('cpu') "
   ]
  },
  {
   "cell_type": "code",
   "execution_count": 22,
   "id": "f9a44f5d-8396-4654-b118-82473d81ca3c",
   "metadata": {},
   "outputs": [],
   "source": [
    "model = Model(num_classes=10, \n",
    "              residual_connection=True, \n",
    "              CSP=True, \n",
    "              add_hidden=True,\n",
    "              classifyV8=True,\n",
    "              bottleneck=1.0, \n",
    "              variant='s', \n",
    "              device=device, \n",
    "              dtype=torch.float32)"
   ]
  },
  {
   "cell_type": "code",
   "execution_count": 23,
   "id": "ae3c5dd0-ac5d-4cbb-8463-d9ebe0621f3c",
   "metadata": {},
   "outputs": [],
   "source": [
    "data_path = '../../../../dummy_datasets/'\n",
    "norms_path = os.path.join(data_path, 'norms.json')"
   ]
  },
  {
   "cell_type": "code",
   "execution_count": 24,
   "id": "e608e517-6da7-41c7-b62d-81cca6aecf54",
   "metadata": {},
   "outputs": [
    {
     "name": "stdout",
     "output_type": "stream",
     "text": [
      "Means are: [0.4405549168586731, 0.4407285749912262, 0.4381718039512634]\n",
      "stds are: [0.25142669677734375, 0.25270089507102966, 0.25131651759147644]\n"
     ]
    }
   ],
   "source": [
    "means = get_means(path=norms_path, train_loader=None)\n",
    "stds = get_stds(path=norms_path, train_loader=None)"
   ]
  },
  {
   "cell_type": "code",
   "execution_count": 25,
   "id": "840c3bfd-3f57-4508-9834-fd0c87b7532a",
   "metadata": {},
   "outputs": [],
   "source": [
    "transformations = transforms.Compose([transforms.ToTensor(),\n",
    "                                      transforms.Resize((224, 224)),\n",
    "                                      transforms.Normalize(mean=means, std=stds)])"
   ]
  },
  {
   "cell_type": "code",
   "execution_count": 26,
   "id": "dfaadddf-3f19-4b50-93b4-98cf177980fb",
   "metadata": {},
   "outputs": [],
   "source": [
    "train_dataset = ImageNetSubset(path=data_path, train=True, transform=transformations, half=False, show=False)\n",
    "val_dataset = ImageNetSubset(path=data_path, train=False, transform=transformations, half=False, show=False)"
   ]
  },
  {
   "cell_type": "code",
   "execution_count": 11,
   "id": "a5d356b0-68a7-44f8-bf1b-397f7889dfb9",
   "metadata": {},
   "outputs": [],
   "source": [
    "epochs=10\n",
    "train_loader = DataLoader(train_dataset, batch_size=256, shuffle=True, num_workers=4)\n",
    "val_loader = DataLoader(val_dataset, batch_size=256, shuffle=False, num_workers=4)"
   ]
  },
  {
   "cell_type": "code",
   "execution_count": 12,
   "id": "53e72a95-3140-4c39-afd7-e64d63bd5940",
   "metadata": {},
   "outputs": [],
   "source": [
    "optimizer = optim.SGD(model.parameters(), lr=0.01, momentum=0.9, weight_decay=0.0001)"
   ]
  },
  {
   "cell_type": "code",
   "execution_count": 13,
   "id": "85cc427f-08e2-43c3-a496-6f1c967a2325",
   "metadata": {},
   "outputs": [],
   "source": [
    "loss_fn = nn.NLLLoss()"
   ]
  },
  {
   "cell_type": "code",
   "execution_count": 14,
   "id": "d9efeae0-85c6-42a3-9006-f1f7de738641",
   "metadata": {},
   "outputs": [],
   "source": [
    "prof = torch.profiler.profile(\n",
    "        schedule=torch.profiler.schedule(wait=1, warmup=1, active=epochs-2, repeat=1),\n",
    "        on_trace_ready=torch.profiler.tensorboard_trace_handler('../../log/YOLOv8cls-version-5/training'),\n",
    "        record_shapes=True,\n",
    "        profile_memory=True,\n",
    "        with_flops=True,\n",
    "        with_modules=True,\n",
    "        with_stack=True)"
   ]
  },
  {
   "cell_type": "markdown",
   "id": "d9c4a012-f83a-495c-929b-939db6549642",
   "metadata": {},
   "source": [
    "\n",
    "Profiling your personal module \n",
    "https://pytorch.org/tutorials/beginner/profiler.html"
   ]
  },
  {
   "cell_type": "code",
   "execution_count": 15,
   "id": "a40a8174-7e18-43aa-83fd-41a98bf6ea0b",
   "metadata": {},
   "outputs": [
    {
     "name": "stdout",
     "output_type": "stream",
     "text": [
      "2024-11-20 21:08:12.937560 Epoch 1 \n",
      "2024-11-20 21:08:19.144918 Batch 1 \n",
      "[Train] Accuracy: 6.6667%, Loss per batch: 2.3275\n",
      "2024-11-20 21:08:28.191479 Batch 1 \n",
      "[Val] Accuracy: 10.0%, loss per batch: 2.3028\n",
      "2024-11-20 21:08:29.817436 Epoch 2 \n",
      "2024-11-20 21:08:35.971528 Batch 1 \n",
      "[Train] Accuracy: 23.3333%, Loss per batch: 2.1452\n",
      "2024-11-20 21:08:44.549557 Batch 1 \n",
      "[Val] Accuracy: 10.0%, loss per batch: 2.3028\n",
      "2024-11-20 21:08:46.142679 Epoch 3 \n",
      "2024-11-20 21:08:53.517662 Batch 1 \n",
      "[Train] Accuracy: 30.0%, Loss per batch: 2.0105\n",
      "2024-11-20 21:09:01.908913 Batch 1 \n",
      "[Val] Accuracy: 10.0%, loss per batch: 2.3028\n",
      "2024-11-20 21:09:03.520542 Epoch 4 \n",
      "2024-11-20 21:09:09.981119 Batch 1 \n",
      "[Train] Accuracy: 36.6667%, Loss per batch: 1.9328\n",
      "2024-11-20 21:09:18.563198 Batch 1 \n",
      "[Val] Accuracy: 10.0%, loss per batch: 2.303\n",
      "2024-11-20 21:09:20.199726 Epoch 5 \n",
      "2024-11-20 21:09:26.589242 Batch 1 \n",
      "[Train] Accuracy: 46.6667%, Loss per batch: 1.7953\n",
      "2024-11-20 21:09:34.883322 Batch 1 \n",
      "[Val] Accuracy: 10.0%, loss per batch: 2.3036\n",
      "2024-11-20 21:09:36.478466 Epoch 6 \n",
      "2024-11-20 21:09:42.898261 Batch 1 \n",
      "[Train] Accuracy: 56.6667%, Loss per batch: 1.7191\n",
      "2024-11-20 21:09:51.368531 Batch 1 \n",
      "[Val] Accuracy: 10.0%, loss per batch: 2.3047\n",
      "2024-11-20 21:09:53.205623 Epoch 7 \n",
      "2024-11-20 21:10:00.231277 Batch 1 \n",
      "[Train] Accuracy: 63.3333%, Loss per batch: 1.6117\n",
      "2024-11-20 21:10:12.821202 Batch 1 \n",
      "[Val] Accuracy: 10.0%, loss per batch: 2.3067\n",
      "2024-11-20 21:10:14.522275 Epoch 8 \n",
      "2024-11-20 21:10:21.662261 Batch 1 \n",
      "[Train] Accuracy: 76.6667%, Loss per batch: 1.5289\n",
      "2024-11-20 21:10:30.240477 Batch 1 \n",
      "[Val] Accuracy: 10.0%, loss per batch: 2.31\n",
      "2024-11-20 21:10:31.834618 Epoch 9 \n",
      "2024-11-20 21:10:37.994177 Batch 1 \n",
      "[Train] Accuracy: 73.3333%, Loss per batch: 1.4578\n",
      "2024-11-20 21:10:46.600775 Batch 1 \n",
      "[Val] Accuracy: 10.0%, loss per batch: 2.315\n",
      "2024-11-20 21:11:06.296847 Epoch 10 \n",
      "2024-11-20 21:11:12.462974 Batch 1 \n",
      "[Train] Accuracy: 76.6667%, Loss per batch: 1.3781\n",
      "2024-11-20 21:11:23.637955 Batch 1 \n",
      "[Val] Accuracy: 10.0%, loss per batch: 2.3221\n"
     ]
    }
   ],
   "source": [
    "history, gradient_stats, prof = train(epochs, train_loader, val_loader, model, optimizer, loss_fn, prof, model_path='../../log/YOLOv8cls-version-5/training/models/')"
   ]
  },
  {
   "cell_type": "code",
   "execution_count": 16,
   "id": "fa05f1c3-29c2-4e09-aa9d-a35ea4057234",
   "metadata": {},
   "outputs": [
    {
     "name": "stdout",
     "output_type": "stream",
     "text": [
      "-------------------------------------------------------  ------------  ------------  ------------  ------------  ------------  ------------  ------------  ------------  ------------  \n",
      "                                                   Name    Self CPU %      Self CPU   CPU total %     CPU total  CPU time avg       CPU Mem  Self CPU Mem    # of Calls  Total MFLOPs  \n",
      "-------------------------------------------------------  ------------  ------------  ------------  ------------  ------------  ------------  ------------  ------------  ------------  \n",
      "                                          ProfilerStep*         0.55%     766.350ms       100.00%      138.347s       17.293s      19.45 Mb    -466.33 Mb             8            --  \n",
      "                                          Training Loop         0.03%      38.355ms        51.31%       70.990s        8.874s      19.43 Mb    -137.83 Mb             8            --  \n",
      "                     Validation Loop Before Data Loader         4.35%        6.020s        98.46%      136.220s        8.514s     295.08 Mb      -3.94 Kb            16            --  \n",
      "                                            aten::empty         0.03%      35.018ms         0.03%      35.018ms       2.980us      14.78 Gb      14.78 Gb         11752            --  \n",
      "                                          aten::random_         0.00%     452.700us         0.00%     452.700us      18.863us           0 b           0 b            24            --  \n",
      "                                             aten::item         0.00%       3.513ms         0.00%       4.221ms       3.159us           0 b           0 b          1336            --  \n",
      "                              aten::_local_scalar_dense         0.00%     708.200us         0.00%     708.200us       0.530us           0 b           0 b          1336            --  \n",
      "                                         aten::randperm         0.00%     809.500us         0.00%       1.644ms      51.384us       3.75 Kb        -128 b            32            --  \n",
      "                                    aten::scalar_tensor         0.00%      61.300us         0.00%      61.300us       3.831us         128 b         128 b            16            --  \n",
      "                                          aten::resize_         0.00%       1.956ms         0.00%       1.956ms       2.285us           0 b           0 b           856            --  \n",
      "                                     aten::resolve_conj         0.00%     545.700us         0.00%     545.700us       0.105us           0 b           0 b          5208            --  \n",
      "                                      aten::resolve_neg         0.00%     477.200us         0.00%     477.200us       0.093us           0 b           0 b          5136            --  \n",
      "enumerate(DataLoader)#_MultiProcessingDataLoaderIter...        83.98%      116.188s        83.98%      116.188s        3.631s     275.63 Mb     275.63 Mb            32            --  \n",
      "                                             aten::set_         0.00%     180.000us         0.00%     180.000us       5.625us           0 b           0 b            32            --  \n",
      "                        Training Loop After Data Loader         0.00%       6.791ms         7.40%       10.242s        1.280s      19.44 Mb      -1.23 Kb             8            --  \n",
      "                                        Batch inference         0.01%       7.001ms         3.13%        4.332s     541.468ms       6.04 Gb    -172.27 Mb             8            --  \n",
      "                                             Conv block         0.13%     174.482ms         5.57%        7.707s      18.527ms       7.58 Gb      -3.79 Gb           416            --  \n",
      "                                           aten::conv2d         0.00%       4.649ms         4.13%        5.715s      13.738ms       3.79 Gb           0 b           416    731782.840  \n",
      "                                      aten::convolution         0.01%      10.211ms         4.13%        5.710s      13.727ms       3.79 Gb           0 b           416            --  \n",
      "                                     aten::_convolution         0.01%       9.352ms         4.12%        5.700s      13.702ms       3.79 Gb    -344.53 Mb           416            --  \n",
      "                               aten::mkldnn_convolution         4.06%        5.619s         4.07%        5.632s      13.539ms       3.79 Gb           0 b           416            --  \n",
      "                                      aten::as_strided_         0.00%       6.272ms         0.00%       6.272ms       7.064us           0 b           0 b           888            --  \n",
      "                                             aten::add_         0.04%      55.096ms         0.04%      55.096ms      35.870us           0 b           0 b          1536            --  \n",
      "                                       aten::batch_norm         0.00%       3.428ms         0.85%        1.180s       2.836ms       3.79 Gb           0 b           416            --  \n",
      "                           aten::_batch_norm_impl_index         0.01%       7.872ms         0.85%        1.176s       2.827ms       3.79 Gb           0 b           416            --  \n",
      "                                aten::native_batch_norm         0.84%        1.158s         0.84%        1.167s       2.806ms       3.79 Gb      -1.01 Mb           416            --  \n",
      "                                       aten::empty_like         0.01%       7.216ms         0.01%      13.340ms      13.781us       8.76 Gb           0 b           968            --  \n",
      "                                             aten::silu         0.46%     634.086ms         0.46%     634.086ms       1.524ms       3.79 Gb       3.79 Gb           416            --  \n",
      "                                              C2f block         0.02%      24.126ms         3.41%        4.711s      73.609ms       4.91 Gb      -1.04 Gb            64            --  \n",
      "                                            aten::chunk         0.00%       1.056ms         0.00%       5.470ms      85.469us           0 b           0 b            64            --  \n",
      "                                            aten::split         0.00%       1.429ms         0.00%       4.414ms      68.966us           0 b           0 b            64            --  \n",
      "                                           aten::narrow         0.00%       4.238ms         0.01%      10.654ms      20.177us           0 b           0 b           528            --  \n",
      "                                            aten::slice         0.00%       5.257ms         0.00%       6.415ms      12.150us           0 b           0 b           528            --  \n",
      "                                       aten::as_strided         0.00%       5.503ms         0.00%       5.503ms       0.970us           0 b           0 b          5672            --  \n",
      "                                       Bottleneck block         0.02%      23.492ms         1.72%        2.382s      24.818ms       2.12 Gb    -241.17 Mb            96            --  \n",
      "                                       aten::contiguous         0.00%       1.375ms         0.21%     286.683ms       2.240ms       1.18 Gb           0 b           128            --  \n",
      "                                            aten::clone         0.01%      10.179ms         0.23%     322.190ms     228.828us       1.48 Gb           0 b          1408            --  \n",
      "                                            aten::copy_         0.23%     314.580ms         0.23%     314.580ms      59.670us           0 b           0 b          5272            --  \n",
      "                                              aten::add         0.12%     165.135ms         0.12%     165.135ms     210.632us     878.96 Mb     878.96 Mb           784       230.414  \n",
      "                                              aten::cat         0.17%     236.292ms         0.18%     242.311ms       2.524ms       1.48 Gb       1.48 Gb            96            --  \n",
      "                                             ClassifyV8         0.00%       3.160ms         0.19%     265.891ms      16.618ms     116.11 Mb           0 b            16            --  \n",
      "                               Adaptive Average Pooling         0.00%       2.961ms         0.01%      15.518ms     969.875us    -112.50 Mb    -114.84 Mb            16            --  \n",
      "                              aten::adaptive_avg_pool2d         0.00%     141.900us         0.01%      12.557ms     784.794us       2.34 Mb           0 b            16            --  \n",
      "                                             aten::mean         0.02%      31.387ms         0.14%     190.020ms      73.765us       2.35 Mb       2.35 Mb          2576            --  \n",
      "                                              aten::sum         0.06%      83.598ms         0.07%      97.643ms      37.555us         448 b     -12.81 Kb          2600            --  \n",
      "                                            aten::fill_         0.00%       1.822ms         0.00%       1.822ms       0.353us           0 b           0 b          5168            --  \n",
      "                                             aten::div_         0.02%      25.582ms         0.04%      61.856ms      24.012us       3.23 Kb      -6.83 Kb          2576            --  \n",
      "                                               aten::to         0.01%      10.513ms         0.03%      45.530ms       5.446us      16.34 Kb           0 b          8360            --  \n",
      "                                         aten::_to_copy         0.02%      23.693ms         0.03%      35.018ms      10.808us      16.34 Kb           8 b          3240            --  \n",
      "                                    aten::empty_strided         0.01%       7.954ms         0.01%       7.954ms       1.757us     310.90 Mb     310.90 Mb          4528            --  \n",
      "                                                Flatten         0.00%       1.058ms         0.00%       1.384ms      86.519us           0 b           0 b            16            --  \n",
      "                                          aten::flatten         0.00%       1.308ms         0.00%       2.831ms       4.316us           0 b           0 b           656            --  \n",
      "                                             aten::view         0.00%       1.571ms         0.00%       1.571ms       6.334us           0 b           0 b           248            --  \n",
      "                                           Linear layer         0.00%       1.667ms         0.00%       3.753ms     234.538us      -1.15 Mb      -1.17 Mb            16            --  \n",
      "                                           aten::linear         0.00%     288.200us         0.00%       2.085ms     130.338us      18.75 Kb           0 b            16            --  \n",
      "                                                aten::t         0.00%     317.800us         0.00%     644.700us      13.431us           0 b           0 b            48            --  \n",
      "                                        aten::transpose         0.00%     248.200us         0.00%     326.900us       6.810us           0 b           0 b            48            --  \n",
      "                                            aten::addmm         0.00%       1.264ms         0.00%       1.471ms      91.925us      18.75 Kb      18.75 Kb            16        12.288  \n",
      "                                           aten::expand         0.00%     130.800us         0.00%     151.400us       6.308us           0 b           0 b            24            --  \n",
      "                                            Log Softmax         0.00%       1.214ms         0.00%       1.591ms      99.456us           0 b     -18.75 Kb            16            --  \n",
      "                                      aten::log_softmax         0.00%      87.400us         0.00%     376.900us      23.556us      18.75 Kb           0 b            16            --  \n",
      "                                     aten::_log_softmax         0.00%     289.500us         0.00%     289.500us      18.094us      18.75 Kb      18.75 Kb            16            --  \n",
      "                                           Loss Forward         0.00%     717.800us         0.00%     933.900us     116.738us          64 b           0 b             8            --  \n",
      "                                      aten::nll_loss_nd         0.00%      92.500us         0.00%     426.300us      26.644us          96 b           0 b            16            --  \n",
      "                                         aten::nll_loss         0.00%     149.300us         0.00%     333.800us      20.862us          96 b         -32 b            16            --  \n",
      "                                 aten::nll_loss_forward         0.00%     184.500us         0.00%     184.500us      11.531us         128 b         128 b            16            --  \n",
      "                      Optimizer.zero_grad#SGD.zero_grad         0.00%       2.157ms         0.00%       2.157ms     269.625us    -136.01 Mb    -136.01 Mb             8            --  \n",
      "                                          Loss Backward         0.02%      26.994ms         4.19%        5.794s     724.304ms      -5.88 Gb         -32 b             8            --  \n",
      "                                        aten::ones_like         0.00%      71.000us         0.00%     159.100us      19.887us          32 b           0 b             8            --  \n",
      "autograd::engine::evaluate_function: NllLossBackward...         0.00%      69.700us         0.00%     285.700us      35.712us       9.34 Kb         -32 b             8            --  \n",
      "                                       NllLossBackward0         0.00%      70.900us         0.00%     216.000us      27.000us       9.38 Kb           0 b             8            --  \n",
      "                                aten::nll_loss_backward         0.00%     139.500us         0.00%     145.100us      18.138us       9.38 Kb       9.38 Kb             8            --  \n",
      "                                            aten::zero_         0.00%       5.600us         0.00%       5.600us       0.700us           0 b           0 b             8            --  \n",
      "autograd::engine::evaluate_function: LogSoftmaxBackw...         0.00%      57.900us         0.00%     193.200us      24.150us           0 b      -9.38 Kb             8            --  \n",
      "                                    LogSoftmaxBackward0         0.00%      67.000us         0.00%     135.300us      16.912us       9.38 Kb           0 b             8            --  \n",
      "                       aten::_log_softmax_backward_data         0.00%      68.300us         0.00%      68.300us       8.537us       9.38 Kb       9.38 Kb             8            --  \n",
      "    autograd::engine::evaluate_function: AddmmBackward0         0.00%     194.200us         0.00%       1.332ms     166.562us     390.94 Kb      -1.18 Mb             8            --  \n",
      "                                         AddmmBackward0         0.00%     195.200us         0.00%     957.500us     119.687us       1.56 Mb           0 b             8            --  \n",
      "                                               aten::mm         0.00%     509.000us         0.00%     515.400us      32.213us       1.56 Mb       1.56 Mb            16        12.288  \n",
      "autograd::engine::evaluate_function: torch::autograd...         0.00%       3.435ms         0.01%      14.443ms      22.567us           0 b           0 b           640            --  \n",
      "                        torch::autograd::AccumulateGrad         0.00%       5.154ms         0.01%      11.007ms      17.199us           0 b           0 b           640            --  \n",
      "                                           aten::detach         0.01%      14.808ms         0.02%      24.837ms       4.312us           0 b           0 b          5760            --  \n",
      "                                                 detach         0.01%      10.029ms         0.01%      10.029ms       1.741us           0 b           0 b          5760            --  \n",
      "        autograd::engine::evaluate_function: TBackward0         0.00%      38.600us         0.00%     133.700us      16.712us           0 b           0 b             8            --  \n",
      "                                             TBackward0         0.00%      23.700us         0.00%      95.100us      11.888us           0 b           0 b             8            --  \n",
      "     autograd::engine::evaluate_function: ViewBackward0         0.00%      30.500us         0.00%     102.100us      12.762us           0 b           0 b             8            --  \n",
      "                                          ViewBackward0         0.00%      33.000us         0.00%      71.600us       8.950us           0 b           0 b             8            --  \n",
      "                                          aten::reshape         0.00%      23.400us         0.00%      38.600us       4.825us           0 b           0 b             8            --  \n",
      "     autograd::engine::evaluate_function: MeanBackward1         0.00%      71.600us         0.01%       8.370ms       1.046ms      56.25 Mb      -1.17 Mb             8            --  \n",
      "                                          MeanBackward1         0.00%      76.600us         0.01%       8.299ms       1.037ms      57.42 Mb           0 b             8            --  \n",
      "                                              aten::div         0.01%       8.030ms         0.01%       8.165ms       1.021ms      57.42 Mb      57.42 Mb             8            --  \n",
      "     autograd::engine::evaluate_function: SiluBackward0         0.00%       6.416ms         0.25%     343.299ms       1.650ms      -1.73 Gb      -3.62 Gb           208            --  \n",
      "                                          SiluBackward0         0.00%       2.668ms         0.24%     336.882ms       1.620ms       1.90 Gb           0 b           208            --  \n",
      "                                    aten::silu_backward         0.24%     334.215ms         0.24%     334.215ms       1.607ms       1.90 Gb       1.90 Gb           208            --  \n",
      "autograd::engine::evaluate_function: NativeBatchNorm...         0.00%       6.554ms         0.32%     445.259ms       2.141ms      -1.90 Gb      -3.79 Gb           208            --  \n",
      "                               NativeBatchNormBackward0         0.00%       4.081ms         0.32%     438.705ms       2.109ms       1.90 Gb           0 b           208            --  \n",
      "                       aten::native_batch_norm_backward         0.31%     428.276ms         0.31%     434.624ms       2.090ms       1.90 Gb      -1.90 Gb           208            --  \n",
      "autograd::engine::evaluate_function: ConvolutionBack...         0.01%      10.114ms         3.52%        4.865s      23.390ms      -2.15 Gb      -4.37 Gb           208            --  \n",
      "                                   ConvolutionBackward0         0.00%       3.762ms         3.49%        4.824s      23.194ms       2.23 Gb           0 b           208            --  \n",
      "                             aten::convolution_backward         3.31%        4.584s         3.48%        4.821s      23.176ms       2.23 Gb    -861.33 Mb           208            --  \n",
      "      autograd::engine::evaluate_function: CatBackward0         0.00%     221.100us         0.00%       2.272ms      71.009us           0 b           0 b            32            --  \n",
      "                                           CatBackward0         0.00%     401.800us         0.00%       2.051ms      64.100us           0 b           0 b            32            --  \n",
      "      autograd::engine::evaluate_function: AddBackward0         0.00%       1.912ms         0.03%      40.150ms     836.469us     241.17 Mb           0 b            48            --  \n",
      "                                           AddBackward0         0.00%     112.800us         0.00%     112.800us       2.350us           0 b           0 b            48            --  \n",
      "    autograd::engine::evaluate_function: SplitBackward0         0.00%     573.500us         0.03%      46.405ms       1.450ms    -413.44 Mb    -757.97 Mb            32            --  \n",
      "                                         SplitBackward0         0.00%     374.700us         0.03%      45.832ms       1.432ms     344.53 Mb           0 b            32            --  \n",
      "                                         Optimizer Step         0.00%     796.400us         0.08%     104.487ms      13.061ms           0 b           0 b             8            --  \n",
      "                                Optimizer.step#SGD.step         0.02%      29.765ms         0.07%     103.691ms      12.961ms           0 b    -155.44 Mb             8            --  \n",
      "                                             aten::mul_         0.01%      14.367ms         0.02%      22.300ms      34.843us           0 b      -2.50 Kb           640            --  \n",
      "                                              aten::max         0.01%      12.508ms         0.01%      14.142ms      21.558us       8.12 Kb       5.62 Kb           656            --  \n",
      "                                       aten::unsqueeze_         0.00%     159.100us         0.00%     253.000us       7.906us           0 b           0 b            32            --  \n",
      "                                         aten::squeeze_         0.00%     163.600us         0.00%     182.300us       5.697us           0 b           0 b            32            --  \n",
      "                                               aten::eq         0.00%     257.200us         0.00%     257.200us      16.075us         480 b         480 b            16            --  \n",
      "                                        Validation Loop         0.03%      35.235ms        47.20%       65.303s        8.163s           0 b    -137.83 Mb             8            --  \n",
      "                      Validation Loop After Data Loader         0.00%       4.976ms         2.72%        3.767s     470.935ms      11.25 Kb      -1.27 Kb             8            --  \n",
      "                                        Batch Inference         0.01%       7.522ms         2.72%        3.761s     470.168ms       9.38 Kb      -1.60 Gb             8            --  \n",
      "                                           aten::median         0.63%     869.751ms         0.66%     908.684ms     709.909us       5.25 Kb    -310.89 Mb          1280            --  \n",
      "                                              aten::std         0.05%      70.315ms         0.12%     165.798ms     129.530us       5.00 Kb           0 b          1280            --  \n",
      "                                              aten::min         0.01%       9.373ms         0.01%      10.338ms      16.154us       2.50 Kb           0 b           640            --  \n",
      "                                              aten::abs         0.05%      74.973ms         0.10%     137.663ms      35.850us     932.66 Mb     466.33 Mb          3840            --  \n",
      "                                        aten::unsqueeze         0.00%       2.824ms         0.00%       3.237ms       5.325us           0 b           0 b           608            --  \n",
      "                                           aten::select         0.00%       3.636ms         0.00%       4.082ms       6.713us           0 b           0 b           608            --  \n",
      "-------------------------------------------------------  ------------  ------------  ------------  ------------  ------------  ------------  ------------  ------------  ------------  \n",
      "Self CPU time total: 138.347s\n",
      "\n"
     ]
    }
   ],
   "source": [
    "print(prof.key_averages().table(row_limit=-1))"
   ]
  },
  {
   "cell_type": "code",
   "execution_count": 17,
   "id": "94813a5e-7688-415c-b928-8b7b61b8e6c4",
   "metadata": {},
   "outputs": [],
   "source": [
    "save_train_outputs('../../log/YOLOv8cls-version-5/training', history, gradient_stats)"
   ]
  },
  {
   "cell_type": "code",
   "execution_count": null,
   "id": "e721e698-4fdb-4ce2-9b6c-4b736babb6da",
   "metadata": {},
   "outputs": [],
   "source": []
  }
 ],
 "metadata": {
  "kernelspec": {
   "display_name": "Python 3 (ipykernel)",
   "language": "python",
   "name": "python3"
  },
  "language_info": {
   "codemirror_mode": {
    "name": "ipython",
    "version": 3
   },
   "file_extension": ".py",
   "mimetype": "text/x-python",
   "name": "python",
   "nbconvert_exporter": "python",
   "pygments_lexer": "ipython3",
   "version": "3.12.6"
  }
 },
 "nbformat": 4,
 "nbformat_minor": 5
}
