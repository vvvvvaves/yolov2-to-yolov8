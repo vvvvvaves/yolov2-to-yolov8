{
 "cells": [
  {
   "cell_type": "code",
   "execution_count": 1,
   "id": "04833633-3c8f-4d84-8869-c36d9a0cd69e",
   "metadata": {},
   "outputs": [],
   "source": [
    "# import os\n",
    "# os.environ['CUDA_LAUNCH_BLOCKING'] = \"1\""
   ]
  },
  {
   "cell_type": "markdown",
   "id": "fe0a0a4b-7479-40b1-abdd-1227b6940040",
   "metadata": {},
   "source": [
    "https://lernapparat.de/debug-device-assert/"
   ]
  },
  {
   "cell_type": "code",
   "execution_count": 1,
   "id": "a5258e5c-2fd1-45d6-bf25-96674d504f91",
   "metadata": {},
   "outputs": [],
   "source": [
    "import torch\n",
    "import torch.nn as nn\n",
    "from torchvision import transforms\n",
    "from torch.utils.data import DataLoader\n",
    "import torch.optim.lr_scheduler as lr_scheduler\n",
    "from torch import optim"
   ]
  },
  {
   "cell_type": "code",
   "execution_count": 2,
   "id": "c9deb7c5-1256-4fdd-b447-69f25786c0e8",
   "metadata": {},
   "outputs": [],
   "source": [
    "import sys\n",
    "sys.path.insert(1, \"../../../\")"
   ]
  },
  {
   "cell_type": "code",
   "execution_count": 3,
   "id": "43b63379-9363-448e-b927-2231dbb097b1",
   "metadata": {},
   "outputs": [],
   "source": [
    "from train import *\n",
    "from data_preprocessing import *\n",
    "from evaluation import *\n",
    "from data_augmentation import Enhanced\n",
    "import albumentations as A\n",
    "from Models.yolov8cls_path import Model"
   ]
  },
  {
   "cell_type": "code",
   "execution_count": 4,
   "id": "cbdae16b-4251-46a6-865b-bfa81a9a5ea1",
   "metadata": {},
   "outputs": [],
   "source": [
    "if torch.cuda.is_available():\n",
    "    device=torch.device('cuda')\n",
    "else:\n",
    "    device=torch.device('cpu') "
   ]
  },
  {
   "cell_type": "code",
   "execution_count": 5,
   "id": "f9a44f5d-8396-4654-b118-82473d81ca3c",
   "metadata": {},
   "outputs": [],
   "source": [
    "model = Model(num_classes=10, \n",
    "              residual_connection=True, \n",
    "              CSP=True, \n",
    "              add_hidden=True,\n",
    "              classifyV8=True,\n",
    "              bottleneck=1.0, \n",
    "              variant='s', \n",
    "              device=device, \n",
    "              dtype=torch.float32)"
   ]
  },
  {
   "cell_type": "code",
   "execution_count": 6,
   "id": "ae3c5dd0-ac5d-4cbb-8463-d9ebe0621f3c",
   "metadata": {},
   "outputs": [],
   "source": [
    "data_path = '../../../../datasets/imagenette2/'\n",
    "norms_path = os.path.join(data_path, 'norms.json')"
   ]
  },
  {
   "cell_type": "code",
   "execution_count": 7,
   "id": "e608e517-6da7-41c7-b62d-81cca6aecf54",
   "metadata": {},
   "outputs": [
    {
     "name": "stdout",
     "output_type": "stream",
     "text": [
      "Means are: [0.44969913363456726, 0.44868946075439453, 0.45163223147392273]\n",
      "stds are: [0.28648287057876587, 0.28796446323394775, 0.2865694761276245]\n"
     ]
    }
   ],
   "source": [
    "means = get_means(path=norms_path, train_loader=None)\n",
    "stds = get_stds(path=norms_path, train_loader=None)"
   ]
  },
  {
   "cell_type": "markdown",
   "id": "d9c4a012-f83a-495c-929b-939db6549642",
   "metadata": {},
   "source": [
    "\n",
    "Profiling your personal module \n",
    "https://pytorch.org/tutorials/beginner/profiler.html"
   ]
  },
  {
   "cell_type": "markdown",
   "id": "eb61344e-ef51-4068-9304-62ac2f686ae7",
   "metadata": {},
   "source": [
    "https://discuss.pytorch.org/t/how-to-prevent-overfitting/1902\n",
    "Right now, with my augmented dataset, at epoch 8, I am getting a testset Top1 accuracy of 45% but a trainset Top1 accuracy of 69%."
   ]
  },
  {
   "cell_type": "markdown",
   "id": "2f4a702f-1ae5-4573-a299-a90db5b87b7f",
   "metadata": {},
   "source": [
    "You should strongly consider data augmentation in some meaningful way. If you’re attempting to do classification then think about what augmentations might add useful information and help distinguish classes in your dataset. In one of my cases, introducing background variation increased recognition rate by over 50%. Basically, with small datasets there is too much overfitting so you want the network to learn real-world distinctions vs. irrelevant artifacts like backgrounds / shadows etc."
   ]
  },
  {
   "cell_type": "code",
   "execution_count": 14,
   "id": "6d4f81f6-3dfe-4256-8c57-66f92768ed89",
   "metadata": {},
   "outputs": [],
   "source": [
    "transformations = transforms.Compose([transforms.RandomResizedCrop((224, 224)),\n",
    "                                              Enhanced(),\n",
    "                                              transforms.ToTensor(),\n",
    "                                              transforms.Normalize(mean=means, std=stds)])\n",
    "transformations_val = transforms.Compose([transforms.Resize((224, 224)),\n",
    "                                                 transforms.ToTensor(),\n",
    "                                                 transforms.Normalize(mean=means, std=stds)\n",
    "                                                 ])"
   ]
  },
  {
   "cell_type": "code",
   "execution_count": 15,
   "id": "0f555ed4-dfcf-4f5f-9a71-3e40a7ea2521",
   "metadata": {},
   "outputs": [],
   "source": [
    "train_dataset = ImageNetSubset(path=data_path, train=True, transform=transformations, half=False, show=False)\n",
    "val_dataset = ImageNetSubset(path=data_path, train=False, transform=transformations_val, half=False, show=False)"
   ]
  },
  {
   "cell_type": "code",
   "execution_count": 16,
   "id": "1ae476e6-947b-46a5-bed5-729af9ee6bb7",
   "metadata": {},
   "outputs": [],
   "source": [
    "epochs=10\n",
    "train_loader = DataLoader(train_dataset, batch_size=64, shuffle=True, num_workers=1)\n",
    "val_loader = DataLoader(val_dataset, batch_size=64, shuffle=False, num_workers=1)"
   ]
  },
  {
   "cell_type": "code",
   "execution_count": 17,
   "id": "ab049c64-2683-432e-acd7-e3494df498f7",
   "metadata": {},
   "outputs": [],
   "source": [
    "optimizer = optim.SGD(model.parameters(), lr=0.01, momentum=0.9, weight_decay=0.0001)"
   ]
  },
  {
   "cell_type": "code",
   "execution_count": 18,
   "id": "b3846504-a142-444a-85cb-d8ab411cc449",
   "metadata": {},
   "outputs": [],
   "source": [
    "loss_fn = nn.NLLLoss()"
   ]
  },
  {
   "cell_type": "code",
   "execution_count": 19,
   "id": "9fb7d049-0696-4341-991c-9b3bfbb0ce01",
   "metadata": {},
   "outputs": [],
   "source": [
    "scheduler = lr_scheduler.ExponentialLR(optimizer, gamma=0.9)"
   ]
  },
  {
   "cell_type": "code",
   "execution_count": 20,
   "id": "daee47e0-df3f-4342-b462-ef2104f8a7ce",
   "metadata": {
    "scrolled": true
   },
   "outputs": [
    {
     "name": "stdout",
     "output_type": "stream",
     "text": [
      "2024-12-07 14:06:00.224155 Epoch 1 \n",
      "2024-12-07 14:06:09.869190 Batch 15 \n",
      "2024-12-07 14:06:16.042379 Batch 30 \n",
      "2024-12-07 14:06:22.022253 Batch 45 \n",
      "2024-12-07 14:06:28.492673 Batch 60 \n",
      "2024-12-07 14:06:34.574045 Batch 75 \n",
      "2024-12-07 14:06:40.752027 Batch 90 \n",
      "2024-12-07 14:06:46.905772 Batch 105 \n",
      "2024-12-07 14:06:53.112687 Batch 120 \n",
      "2024-12-07 14:06:59.125117 Batch 135 \n",
      "[Train] Accuracy: 26.9722%, Loss per batch: 2.0187\n",
      "2024-12-07 14:07:12.202801 Batch 15 \n",
      "2024-12-07 14:07:16.356016 Batch 30 \n",
      "2024-12-07 14:07:21.137501 Batch 45 \n",
      "2024-12-07 14:07:25.524896 Batch 60 \n",
      "[Val] Accuracy: 37.2994%, loss per batch: 1.7506\n",
      "Epoch 1: SGD lr 0.0100 -> 0.0090\n",
      "2024-12-07 14:07:26.510718 Epoch 2 \n",
      "2024-12-07 14:07:35.331384 Batch 15 \n",
      "2024-12-07 14:07:41.556997 Batch 30 \n",
      "2024-12-07 14:07:48.011367 Batch 45 \n",
      "2024-12-07 14:07:54.167854 Batch 60 \n",
      "2024-12-07 14:08:00.364776 Batch 75 \n",
      "2024-12-07 14:08:06.556103 Batch 90 \n",
      "2024-12-07 14:08:12.763918 Batch 105 \n",
      "2024-12-07 14:08:18.916852 Batch 120 \n",
      "2024-12-07 14:08:25.207377 Batch 135 \n",
      "[Train] Accuracy: 39.3389%, Loss per batch: 1.7333\n",
      "2024-12-07 14:08:37.756162 Batch 15 \n",
      "2024-12-07 14:08:41.939144 Batch 30 \n",
      "2024-12-07 14:08:46.809867 Batch 45 \n",
      "2024-12-07 14:08:51.373631 Batch 60 \n",
      "[Val] Accuracy: 39.0318%, loss per batch: 1.6871\n",
      "Epoch 2: SGD lr 0.0090 -> 0.0081\n",
      "2024-12-07 14:08:52.237854 Epoch 3 \n",
      "2024-12-07 14:09:01.301011 Batch 15 \n",
      "2024-12-07 14:09:08.006347 Batch 30 \n",
      "2024-12-07 14:09:14.106530 Batch 45 \n",
      "2024-12-07 14:09:20.500496 Batch 60 \n",
      "2024-12-07 14:09:26.743435 Batch 75 \n",
      "2024-12-07 14:09:32.819848 Batch 90 \n",
      "2024-12-07 14:09:38.993802 Batch 105 \n",
      "2024-12-07 14:09:45.147186 Batch 120 \n",
      "2024-12-07 14:09:51.411490 Batch 135 \n",
      "[Train] Accuracy: 44.9572%, Loss per batch: 1.5895\n",
      "2024-12-07 14:10:04.130166 Batch 15 \n",
      "2024-12-07 14:10:08.483206 Batch 30 \n",
      "2024-12-07 14:10:13.378196 Batch 45 \n",
      "2024-12-07 14:10:17.886872 Batch 60 \n",
      "[Val] Accuracy: 43.5414%, loss per batch: 1.6537\n",
      "Epoch 3: SGD lr 0.0081 -> 0.0073\n",
      "2024-12-07 14:10:18.735534 Epoch 4 \n",
      "2024-12-07 14:10:27.722175 Batch 15 \n",
      "2024-12-07 14:10:34.128957 Batch 30 \n",
      "2024-12-07 14:10:40.415183 Batch 45 \n",
      "2024-12-07 14:10:46.582260 Batch 60 \n",
      "2024-12-07 14:10:52.456927 Batch 75 \n",
      "2024-12-07 14:10:59.023809 Batch 90 \n",
      "2024-12-07 14:11:05.808029 Batch 105 \n",
      "2024-12-07 14:11:12.183417 Batch 120 \n",
      "2024-12-07 14:11:18.554051 Batch 135 \n",
      "[Train] Accuracy: 49.9736%, Loss per batch: 1.4745\n",
      "2024-12-07 14:11:31.602532 Batch 15 \n",
      "2024-12-07 14:11:35.788441 Batch 30 \n",
      "2024-12-07 14:11:40.716121 Batch 45 \n",
      "2024-12-07 14:11:45.379991 Batch 60 \n",
      "[Val] Accuracy: 49.0191%, loss per batch: 1.5009\n",
      "Epoch 4: SGD lr 0.0073 -> 0.0066\n",
      "2024-12-07 14:11:46.285773 Epoch 5 \n",
      "2024-12-07 14:11:55.425425 Batch 15 \n",
      "2024-12-07 14:12:01.950665 Batch 30 \n",
      "2024-12-07 14:12:08.017267 Batch 45 \n",
      "2024-12-07 14:12:14.417012 Batch 60 \n",
      "2024-12-07 14:12:20.729628 Batch 75 \n",
      "2024-12-07 14:12:26.991519 Batch 90 \n",
      "2024-12-07 14:12:33.395355 Batch 105 \n",
      "2024-12-07 14:12:39.741342 Batch 120 \n",
      "2024-12-07 14:12:46.007155 Batch 135 \n",
      "[Train] Accuracy: 51.9168%, Loss per batch: 1.4024\n",
      "2024-12-07 14:12:59.087571 Batch 15 \n",
      "2024-12-07 14:13:03.453209 Batch 30 \n",
      "2024-12-07 14:13:08.444677 Batch 45 \n",
      "2024-12-07 14:13:12.986557 Batch 60 \n",
      "[Val] Accuracy: 55.3885%, loss per batch: 1.3604\n",
      "Epoch 5: SGD lr 0.0066 -> 0.0059\n",
      "2024-12-07 14:13:13.862257 Epoch 6 \n",
      "2024-12-07 14:13:22.895426 Batch 15 \n",
      "2024-12-07 14:13:29.981975 Batch 30 \n",
      "2024-12-07 14:13:36.790002 Batch 45 \n",
      "2024-12-07 14:13:43.224344 Batch 60 \n",
      "2024-12-07 14:13:49.942045 Batch 75 \n",
      "2024-12-07 14:13:56.330586 Batch 90 \n",
      "2024-12-07 14:14:02.839385 Batch 105 \n",
      "2024-12-07 14:14:09.300358 Batch 120 \n",
      "2024-12-07 14:14:15.881806 Batch 135 \n",
      "[Train] Accuracy: 55.0533%, Loss per batch: 1.315\n",
      "2024-12-07 14:14:28.676918 Batch 15 \n",
      "2024-12-07 14:14:32.894026 Batch 30 \n",
      "2024-12-07 14:14:37.831274 Batch 45 \n",
      "2024-12-07 14:14:42.575706 Batch 60 \n",
      "[Val] Accuracy: 60.6115%, loss per batch: 1.2001\n",
      "Epoch 6: SGD lr 0.0059 -> 0.0053\n",
      "2024-12-07 14:14:43.459909 Epoch 7 \n",
      "2024-12-07 14:14:52.697427 Batch 15 \n",
      "2024-12-07 14:14:59.353894 Batch 30 \n",
      "2024-12-07 14:15:05.735097 Batch 45 \n",
      "2024-12-07 14:15:12.130970 Batch 60 \n",
      "2024-12-07 14:15:18.421926 Batch 75 \n",
      "2024-12-07 14:15:24.905105 Batch 90 \n",
      "2024-12-07 14:15:31.267247 Batch 105 \n",
      "2024-12-07 14:15:37.338206 Batch 120 \n",
      "2024-12-07 14:15:43.645149 Batch 135 \n",
      "[Train] Accuracy: 58.7285%, Loss per batch: 1.2386\n",
      "2024-12-07 14:15:56.592850 Batch 15 \n",
      "2024-12-07 14:16:00.984643 Batch 30 \n",
      "2024-12-07 14:16:05.997010 Batch 45 \n",
      "2024-12-07 14:16:10.567603 Batch 60 \n",
      "[Val] Accuracy: 58.2166%, loss per batch: 1.2697\n",
      "Epoch 7: SGD lr 0.0053 -> 0.0048\n",
      "2024-12-07 14:16:11.432127 Epoch 8 \n",
      "2024-12-07 14:16:21.055768 Batch 15 \n",
      "2024-12-07 14:16:27.346451 Batch 30 \n",
      "2024-12-07 14:16:33.853455 Batch 45 \n",
      "2024-12-07 14:16:39.967585 Batch 60 \n",
      "2024-12-07 14:16:46.492569 Batch 75 \n",
      "2024-12-07 14:16:52.924638 Batch 90 \n",
      "2024-12-07 14:16:59.348106 Batch 105 \n",
      "2024-12-07 14:17:05.849536 Batch 120 \n",
      "2024-12-07 14:17:11.862476 Batch 135 \n",
      "[Train] Accuracy: 59.3304%, Loss per batch: 1.2131\n",
      "2024-12-07 14:17:25.091503 Batch 15 \n",
      "2024-12-07 14:17:29.390498 Batch 30 \n",
      "2024-12-07 14:17:34.346934 Batch 45 \n",
      "2024-12-07 14:17:39.117143 Batch 60 \n",
      "[Val] Accuracy: 63.0573%, loss per batch: 1.1345\n",
      "Epoch 8: SGD lr 0.0048 -> 0.0043\n",
      "2024-12-07 14:17:40.014768 Epoch 9 \n",
      "2024-12-07 14:17:49.216814 Batch 15 \n",
      "2024-12-07 14:17:55.812715 Batch 30 \n",
      "2024-12-07 14:18:02.118449 Batch 45 \n",
      "2024-12-07 14:18:08.576841 Batch 60 \n",
      "2024-12-07 14:18:14.730716 Batch 75 \n",
      "2024-12-07 14:18:21.144449 Batch 90 \n",
      "2024-12-07 14:18:27.640584 Batch 105 \n",
      "2024-12-07 14:18:34.307503 Batch 120 \n",
      "2024-12-07 14:18:40.971715 Batch 135 \n",
      "[Train] Accuracy: 61.1891%, Loss per batch: 1.1455\n",
      "2024-12-07 14:18:54.172749 Batch 15 \n",
      "2024-12-07 14:18:58.918836 Batch 30 \n",
      "2024-12-07 14:19:03.901506 Batch 45 \n",
      "2024-12-07 14:19:08.575471 Batch 60 \n",
      "[Val] Accuracy: 65.8854%, loss per batch: 1.0602\n",
      "Epoch 9: SGD lr 0.0043 -> 0.0039\n",
      "2024-12-07 14:19:09.473353 Epoch 10 \n",
      "2024-12-07 14:19:18.781116 Batch 15 \n",
      "2024-12-07 14:19:25.270126 Batch 30 \n",
      "2024-12-07 14:19:31.760410 Batch 45 \n",
      "2024-12-07 14:19:38.057266 Batch 60 \n",
      "2024-12-07 14:19:44.567954 Batch 75 \n",
      "2024-12-07 14:19:50.937884 Batch 90 \n",
      "2024-12-07 14:19:57.369299 Batch 105 \n",
      "2024-12-07 14:20:03.967828 Batch 120 \n",
      "2024-12-07 14:20:10.717090 Batch 135 \n",
      "[Train] Accuracy: 63.2907%, Loss per batch: 1.1009\n",
      "2024-12-07 14:20:23.611195 Batch 15 \n",
      "2024-12-07 14:20:27.921866 Batch 30 \n",
      "2024-12-07 14:20:33.130526 Batch 45 \n",
      "2024-12-07 14:20:37.677800 Batch 60 \n",
      "[Val] Accuracy: 68.4331%, loss per batch: 0.9997\n",
      "Epoch 10: SGD lr 0.0039 -> 0.0035\n"
     ]
    }
   ],
   "source": [
    "history, gradient_stats = train(epochs, train_loader, val_loader, model, optimizer, loss_fn, scheduler, outputs_path='../../log/YOLOv8cls-version-5/training/')"
   ]
  },
  {
   "cell_type": "code",
   "execution_count": 21,
   "id": "2fa7035e-ebd2-42ab-86e4-9e5e198f6f84",
   "metadata": {
    "scrolled": true
   },
   "outputs": [
    {
     "name": "stderr",
     "output_type": "stream",
     "text": [
      "C:\\Me\\PJAIT\\Thesis\\Code\\yolov2-to-yolov8\\Backbone experiments\\YOLOv8s-cls Path\\Version 5\\../../..\\train.py:54: FutureWarning: You are using `torch.load` with `weights_only=False` (the current default value), which uses the default pickle module implicitly. It is possible to construct malicious pickle data which will execute arbitrary code during unpickling (See https://github.com/pytorch/pytorch/blob/main/SECURITY.md#untrusted-models for more details). In a future release, the default value for `weights_only` will be flipped to `True`. This limits the functions that could be executed during unpickling. Arbitrary objects will no longer be allowed to be loaded via this mode unless they are explicitly allowlisted by the user via `torch.serialization.add_safe_globals`. We recommend you start setting `weights_only=True` for any use case where you don't have full control of the loaded file. Please open an issue on GitHub for any issues related to this experimental feature.\n",
      "  state = torch.load(os.path.join(outputs_path, f\"state.pt\"))\n"
     ]
    },
    {
     "name": "stdout",
     "output_type": "stream",
     "text": [
      "2024-12-07 14:20:38.658041 Epoch 11 \n",
      "2024-12-07 14:20:47.712814 Batch 15 \n",
      "2024-12-07 14:20:54.171735 Batch 30 \n",
      "2024-12-07 14:21:00.653908 Batch 45 \n",
      "2024-12-07 14:21:07.491037 Batch 60 \n",
      "2024-12-07 14:21:13.954850 Batch 75 \n",
      "2024-12-07 14:21:20.843946 Batch 90 \n",
      "2024-12-07 14:21:27.246901 Batch 105 \n",
      "2024-12-07 14:21:33.677726 Batch 120 \n",
      "2024-12-07 14:21:40.244739 Batch 135 \n",
      "[Train] Accuracy: 63.502%, Loss per batch: 1.0965\n",
      "2024-12-07 14:21:53.246922 Batch 15 \n",
      "2024-12-07 14:21:57.672707 Batch 30 \n",
      "2024-12-07 14:22:02.717983 Batch 45 \n",
      "2024-12-07 14:22:07.347411 Batch 60 \n",
      "[Val] Accuracy: 68.5605%, loss per batch: 0.9629\n",
      "Epoch 11: SGD lr 0.0035 -> 0.0031\n",
      "2024-12-07 14:22:08.266599 Epoch 12 \n",
      "2024-12-07 14:22:17.505447 Batch 15 \n",
      "2024-12-07 14:22:24.095250 Batch 30 \n",
      "2024-12-07 14:22:30.704912 Batch 45 \n",
      "2024-12-07 14:22:36.968797 Batch 60 \n",
      "2024-12-07 14:22:43.579601 Batch 75 \n",
      "2024-12-07 14:22:50.042921 Batch 90 \n",
      "2024-12-07 14:22:56.974166 Batch 105 \n",
      "2024-12-07 14:23:03.322007 Batch 120 \n",
      "2024-12-07 14:23:09.510999 Batch 135 \n",
      "[Train] Accuracy: 65.1811%, Loss per batch: 1.039\n",
      "2024-12-07 14:23:22.631704 Batch 15 \n",
      "2024-12-07 14:23:26.963791 Batch 30 \n",
      "2024-12-07 14:23:32.185582 Batch 45 \n",
      "2024-12-07 14:23:36.808007 Batch 60 \n",
      "[Val] Accuracy: 68.7134%, loss per batch: 0.9579\n",
      "Epoch 12: SGD lr 0.0031 -> 0.0028\n",
      "2024-12-07 14:23:37.714798 Epoch 13 \n",
      "2024-12-07 14:23:47.152544 Batch 15 \n",
      "2024-12-07 14:23:53.595554 Batch 30 \n",
      "2024-12-07 14:24:00.043079 Batch 45 \n",
      "2024-12-07 14:24:06.697061 Batch 60 \n",
      "2024-12-07 14:24:12.999346 Batch 75 \n",
      "2024-12-07 14:24:19.353163 Batch 90 \n",
      "2024-12-07 14:24:25.820618 Batch 105 \n",
      "2024-12-07 14:24:32.454673 Batch 120 \n",
      "2024-12-07 14:24:38.694536 Batch 135 \n",
      "[Train] Accuracy: 66.2055%, Loss per batch: 1.013\n",
      "2024-12-07 14:24:51.950520 Batch 15 \n",
      "2024-12-07 14:24:56.253414 Batch 30 \n",
      "2024-12-07 14:25:01.299121 Batch 45 \n",
      "2024-12-07 14:25:06.081260 Batch 60 \n",
      "[Val] Accuracy: 71.7197%, loss per batch: 0.8933\n",
      "Epoch 13: SGD lr 0.0028 -> 0.0025\n",
      "2024-12-07 14:25:06.964746 Epoch 14 \n",
      "2024-12-07 14:25:16.021674 Batch 15 \n",
      "2024-12-07 14:25:22.683234 Batch 30 \n",
      "2024-12-07 14:25:29.278935 Batch 45 \n",
      "2024-12-07 14:25:35.702807 Batch 60 \n",
      "2024-12-07 14:25:42.090741 Batch 75 \n",
      "2024-12-07 14:25:48.544587 Batch 90 \n",
      "2024-12-07 14:25:55.028270 Batch 105 \n",
      "2024-12-07 14:26:01.725231 Batch 120 \n",
      "2024-12-07 14:26:08.018382 Batch 135 \n",
      "[Train] Accuracy: 67.2827%, Loss per batch: 0.9871\n",
      "2024-12-07 14:26:21.520373 Batch 15 \n",
      "2024-12-07 14:26:25.975272 Batch 30 \n",
      "2024-12-07 14:26:31.029695 Batch 45 \n",
      "2024-12-07 14:26:35.667284 Batch 60 \n",
      "[Val] Accuracy: 71.8726%, loss per batch: 0.8692\n",
      "Epoch 14: SGD lr 0.0025 -> 0.0023\n",
      "2024-12-07 14:26:36.553343 Epoch 15 \n",
      "2024-12-07 14:26:45.713043 Batch 15 \n",
      "2024-12-07 14:26:52.157307 Batch 30 \n",
      "2024-12-07 14:26:58.453512 Batch 45 \n",
      "2024-12-07 14:27:05.139984 Batch 60 \n",
      "2024-12-07 14:27:11.523725 Batch 75 \n",
      "2024-12-07 14:27:18.231744 Batch 90 \n",
      "2024-12-07 14:27:24.797675 Batch 105 \n",
      "2024-12-07 14:27:31.342013 Batch 120 \n",
      "2024-12-07 14:27:37.783015 Batch 135 \n",
      "[Train] Accuracy: 68.022%, Loss per batch: 0.9527\n",
      "2024-12-07 14:27:51.265500 Batch 15 \n",
      "2024-12-07 14:27:55.977090 Batch 30 \n",
      "2024-12-07 14:28:01.174269 Batch 45 \n",
      "2024-12-07 14:28:05.662624 Batch 60 \n",
      "[Val] Accuracy: 72.2038%, loss per batch: 0.8493\n",
      "Epoch 15: SGD lr 0.0023 -> 0.0021\n",
      "2024-12-07 14:28:06.493432 Epoch 16 \n",
      "2024-12-07 14:28:15.470814 Batch 15 \n",
      "2024-12-07 14:28:21.980091 Batch 30 \n",
      "2024-12-07 14:28:28.252592 Batch 45 \n",
      "2024-12-07 14:28:34.677615 Batch 60 \n",
      "2024-12-07 14:28:40.919262 Batch 75 \n",
      "2024-12-07 14:28:47.578350 Batch 90 \n",
      "2024-12-07 14:28:53.997303 Batch 105 \n",
      "2024-12-07 14:29:00.056902 Batch 120 \n",
      "2024-12-07 14:29:06.471719 Batch 135 \n",
      "[Train] Accuracy: 69.3949%, Loss per batch: 0.9313\n",
      "2024-12-07 14:29:19.500958 Batch 15 \n",
      "2024-12-07 14:29:23.912815 Batch 30 \n",
      "2024-12-07 14:29:28.844928 Batch 45 \n",
      "2024-12-07 14:29:33.363447 Batch 60 \n",
      "[Val] Accuracy: 73.3248%, loss per batch: 0.8094\n",
      "Epoch 16: SGD lr 0.0021 -> 0.0019\n",
      "2024-12-07 14:29:34.193806 Epoch 17 \n",
      "2024-12-07 14:29:43.345426 Batch 15 \n",
      "2024-12-07 14:29:49.781212 Batch 30 \n",
      "2024-12-07 14:29:56.021342 Batch 45 \n",
      "2024-12-07 14:30:02.064045 Batch 60 \n",
      "2024-12-07 14:30:08.569364 Batch 75 \n",
      "2024-12-07 14:30:14.752676 Batch 90 \n",
      "2024-12-07 14:30:21.143398 Batch 105 \n",
      "2024-12-07 14:30:27.622179 Batch 120 \n",
      "2024-12-07 14:30:33.699792 Batch 135 \n",
      "[Train] Accuracy: 69.2365%, Loss per batch: 0.9115\n",
      "2024-12-07 14:30:46.622289 Batch 15 \n",
      "2024-12-07 14:30:50.858045 Batch 30 \n",
      "2024-12-07 14:30:55.818695 Batch 45 \n",
      "2024-12-07 14:31:00.387291 Batch 60 \n",
      "[Val] Accuracy: 74.0127%, loss per batch: 0.805\n",
      "Epoch 17: SGD lr 0.0019 -> 0.0017\n",
      "2024-12-07 14:31:01.247794 Epoch 18 \n",
      "2024-12-07 14:31:10.180285 Batch 15 \n",
      "2024-12-07 14:31:16.594836 Batch 30 \n",
      "2024-12-07 14:31:22.780617 Batch 45 \n",
      "2024-12-07 14:31:29.144037 Batch 60 \n",
      "2024-12-07 14:31:35.576282 Batch 75 \n",
      "2024-12-07 14:31:42.273711 Batch 90 \n",
      "2024-12-07 14:31:49.398354 Batch 105 \n",
      "2024-12-07 14:31:55.863278 Batch 120 \n",
      "2024-12-07 14:32:02.238861 Batch 135 \n",
      "[Train] Accuracy: 71.0212%, Loss per batch: 0.8804\n",
      "2024-12-07 14:32:15.351634 Batch 15 \n",
      "2024-12-07 14:32:19.706183 Batch 30 \n",
      "2024-12-07 14:32:24.637535 Batch 45 \n",
      "2024-12-07 14:32:29.134349 Batch 60 \n",
      "[Val] Accuracy: 74.1656%, loss per batch: 0.789\n",
      "Epoch 18: SGD lr 0.0017 -> 0.0015\n",
      "2024-12-07 14:32:29.965955 Epoch 19 \n",
      "2024-12-07 14:32:39.115363 Batch 15 \n",
      "2024-12-07 14:32:45.543010 Batch 30 \n",
      "2024-12-07 14:32:52.086985 Batch 45 \n",
      "2024-12-07 14:32:58.336295 Batch 60 \n",
      "2024-12-07 14:33:05.197762 Batch 75 \n",
      "2024-12-07 14:33:11.288831 Batch 90 \n",
      "2024-12-07 14:33:17.330634 Batch 105 \n",
      "2024-12-07 14:33:23.691736 Batch 120 \n",
      "2024-12-07 14:33:30.164605 Batch 135 \n",
      "[Train] Accuracy: 70.6938%, Loss per batch: 0.8826\n",
      "2024-12-07 14:33:43.078906 Batch 15 \n",
      "2024-12-07 14:33:47.334053 Batch 30 \n",
      "2024-12-07 14:33:52.352825 Batch 45 \n",
      "2024-12-07 14:33:56.824107 Batch 60 \n",
      "[Val] Accuracy: 73.8599%, loss per batch: 0.8022\n",
      "Epoch 19: SGD lr 0.0015 -> 0.0014\n",
      "2024-12-07 14:33:57.671772 Epoch 20 \n",
      "2024-12-07 14:34:06.950692 Batch 15 \n",
      "2024-12-07 14:34:13.629564 Batch 30 \n",
      "2024-12-07 14:34:19.663724 Batch 45 \n",
      "2024-12-07 14:34:26.463218 Batch 60 \n",
      "2024-12-07 14:34:32.720196 Batch 75 \n",
      "2024-12-07 14:34:39.084255 Batch 90 \n",
      "2024-12-07 14:34:45.298930 Batch 105 \n",
      "2024-12-07 14:34:51.514223 Batch 120 \n",
      "2024-12-07 14:34:58.100131 Batch 135 \n",
      "[Train] Accuracy: 71.5176%, Loss per batch: 0.8559\n",
      "2024-12-07 14:35:10.706233 Batch 15 \n",
      "2024-12-07 14:35:15.169196 Batch 30 \n",
      "2024-12-07 14:35:20.093401 Batch 45 \n",
      "2024-12-07 14:35:24.583716 Batch 60 \n",
      "[Val] Accuracy: 75.7452%, loss per batch: 0.7456\n",
      "Epoch 20: SGD lr 0.0014 -> 0.0012\n"
     ]
    }
   ],
   "source": [
    "history, gradient_stats = train(epochs, train_loader, val_loader, model, optimizer, \n",
    "                                loss_fn, scheduler, outputs_path='../../log/YOLOv8cls-version-5/training/', resume=True)"
   ]
  },
  {
   "cell_type": "code",
   "execution_count": 22,
   "id": "b644c10b-b387-4bf8-9fc4-688ca03ff939",
   "metadata": {},
   "outputs": [
    {
     "data": {
      "text/plain": [
       "<module 'matplotlib.pyplot' from 'C:\\\\Vstanovlene\\\\Anaconda Distribution\\\\envs\\\\new_gpu_env\\\\lib\\\\site-packages\\\\matplotlib\\\\pyplot.py'>"
      ]
     },
     "execution_count": 22,
     "metadata": {},
     "output_type": "execute_result"
    },
    {
     "data": {
      "image/png": "[encoded data removed]",
      "text/plain": [
       "<Figure size 640x480 with 1 Axes>"
      ]
     },
     "metadata": {},
     "output_type": "display_data"
    }
   ],
   "source": [
    "history = load_train_outputs('../../log/YOLOv8cls-version-5/training/')['history']\n",
    "plot_accuracy(history)"
   ]
  },
  {
   "cell_type": "code",
   "execution_count": null,
   "id": "7ed9d7b5-9066-40c2-baad-550c0cb21edb",
   "metadata": {},
   "outputs": [],
   "source": []
  }
 ],
 "metadata": {
  "kernelspec": {
   "display_name": "New Python (GPU)",
   "language": "python",
   "name": "new_gpu_env"
  },
  "language_info": {
   "codemirror_mode": {
    "name": "ipython",
    "version": 3
   },
   "file_extension": ".py",
   "mimetype": "text/x-python",
   "name": "python",
   "nbconvert_exporter": "python",
   "pygments_lexer": "ipython3",
   "version": "3.9.20"
  }
 },
 "nbformat": 4,
 "nbformat_minor": 5
}
