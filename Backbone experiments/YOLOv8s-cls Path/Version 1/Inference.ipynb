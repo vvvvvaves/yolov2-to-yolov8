{
 "cells": [
  {
   "cell_type": "code",
   "execution_count": 13,
   "id": "a5258e5c-2fd1-45d6-bf25-96674d504f91",
   "metadata": {},
   "outputs": [],
   "source": [
    "import os\n",
    "import torch\n",
    "import torch.nn as nn\n",
    "from torchvision import transforms"
   ]
  },
  {
   "cell_type": "code",
   "execution_count": 14,
   "id": "c9deb7c5-1256-4fdd-b447-69f25786c0e8",
   "metadata": {},
   "outputs": [],
   "source": [
    "import sys\n",
    "sys.path.insert(1, \"../../../\")"
   ]
  },
  {
   "cell_type": "code",
   "execution_count": 15,
   "id": "43b63379-9363-448e-b927-2231dbb097b1",
   "metadata": {},
   "outputs": [],
   "source": [
    "from data_preprocessing import get_means, get_stds, ImageNetSubset\n",
    "from Models.yolov8cls_path import Model"
   ]
  },
  {
   "cell_type": "code",
   "execution_count": 16,
   "id": "cbdae16b-4251-46a6-865b-bfa81a9a5ea1",
   "metadata": {},
   "outputs": [],
   "source": [
    "if torch.cuda.is_available():\n",
    "    device=torch.device('cuda')\n",
    "else:\n",
    "    device=torch.device('cpu') "
   ]
  },
  {
   "cell_type": "code",
   "execution_count": 17,
   "id": "ae3c5dd0-ac5d-4cbb-8463-d9ebe0621f3c",
   "metadata": {},
   "outputs": [],
   "source": [
    "data_path = '../../../../dummy_datasets/'\n",
    "norms_path = os.path.join(data_path, 'norms.json')"
   ]
  },
  {
   "cell_type": "code",
   "execution_count": 18,
   "id": "e608e517-6da7-41c7-b62d-81cca6aecf54",
   "metadata": {},
   "outputs": [
    {
     "name": "stdout",
     "output_type": "stream",
     "text": [
      "Means are: [0.4405549168586731, 0.4407285749912262, 0.4381718039512634]\n",
      "stds are: [0.25142669677734375, 0.25270089507102966, 0.25131651759147644]\n"
     ]
    }
   ],
   "source": [
    "means = get_means(path=norms_path, train_loader=None)\n",
    "stds = get_stds(path=norms_path, train_loader=None)"
   ]
  },
  {
   "cell_type": "code",
   "execution_count": 19,
   "id": "840c3bfd-3f57-4508-9834-fd0c87b7532a",
   "metadata": {},
   "outputs": [],
   "source": [
    "transformations = transforms.Compose([transforms.ToTensor(),\n",
    "                                      transforms.Resize((224, 224)),\n",
    "                                      transforms.Normalize(mean=means, std=stds)])"
   ]
  },
  {
   "cell_type": "code",
   "execution_count": 20,
   "id": "dfaadddf-3f19-4b50-93b4-98cf177980fb",
   "metadata": {},
   "outputs": [],
   "source": [
    "train_dataset = ImageNetSubset(path=data_path, train=True, transform=transformations, half=False, show=False)"
   ]
  },
  {
   "cell_type": "markdown",
   "id": "102fb805-2a55-41c6-8ef3-82c9c46dca89",
   "metadata": {},
   "source": [
    "# Inference"
   ]
  },
  {
   "cell_type": "code",
   "execution_count": 21,
   "id": "0334802c-836d-4d5e-84fb-3bb63513304b",
   "metadata": {},
   "outputs": [],
   "source": [
    "model = Model(num_classes=10, \n",
    "              residual_connection=False, \n",
    "              CSP=False, \n",
    "              add_hidden=False,\n",
    "              classifyV8=False,\n",
    "              bottleneck=1.0, \n",
    "              variant='s', \n",
    "              device=device, \n",
    "              dtype=torch.float32)"
   ]
  },
  {
   "cell_type": "code",
   "execution_count": 22,
   "id": "0c74c18e-ac17-4de9-a2a4-4787cb14017d",
   "metadata": {},
   "outputs": [],
   "source": [
    "img = train_dataset[0][0].unsqueeze(0)"
   ]
  },
  {
   "cell_type": "code",
   "execution_count": 23,
   "id": "49cee9ed-c904-430e-8547-65f4a7d374fa",
   "metadata": {},
   "outputs": [],
   "source": [
    "from torch.profiler import profile, ProfilerActivity"
   ]
  },
  {
   "cell_type": "code",
   "execution_count": 24,
   "id": "d2426ee4-b05b-47a4-8824-f1f603966f87",
   "metadata": {},
   "outputs": [
    {
     "name": "stdout",
     "output_type": "stream",
     "text": [
      "--------------------------------  ------------  ------------  ------------  ------------  ------------  ------------  ------------  ------------  ------------  \n",
      "                            Name    Self CPU %      Self CPU   CPU total %     CPU total  CPU time avg       CPU Mem  Self CPU Mem    # of Calls  Total GFLOPs  \n",
      "--------------------------------  ------------  ------------  ------------  ------------  ------------  ------------  ------------  ------------  ------------  \n",
      "                   ProfilerStep*         3.33%      12.511ms       100.00%     376.182ms      37.618ms       3.57 Mb    -292.58 Mb            10            --  \n",
      "                      Conv block        11.06%      41.615ms        95.01%     357.405ms       1.430ms     296.15 Mb           0 b           250            --  \n",
      "                    aten::conv2d         0.41%       1.555ms        68.01%     255.833ms     983.972us      98.59 Mb           0 b           260        34.647  \n",
      "               aten::convolution         0.91%       3.414ms        67.59%     254.278ms     977.992us      98.59 Mb           0 b           260            --  \n",
      "              aten::_convolution         0.73%       2.754ms        66.69%     250.864ms     964.862us      98.59 Mb           0 b           260            --  \n",
      "        aten::mkldnn_convolution        65.42%     246.091ms        65.95%     248.110ms     954.270us      98.59 Mb           0 b           260            --  \n",
      "                     aten::empty         0.96%       3.630ms         0.96%       3.630ms       1.440us     198.45 Mb     198.45 Mb          2520            --  \n",
      "               aten::as_strided_         0.18%     667.900us         0.18%     667.900us       2.569us           0 b           0 b           260            --  \n",
      "                   aten::resize_         0.05%     193.800us         0.05%     193.800us       0.745us           0 b           0 b           260            --  \n",
      "                      aten::add_         0.47%       1.784ms         0.47%       1.784ms       7.137us           0 b           0 b           250            --  \n",
      "                aten::batch_norm         0.41%       1.532ms        13.26%      49.899ms     199.594us      99.00 Mb           0 b           250            --  \n",
      "    aten::_batch_norm_impl_index         0.66%       2.492ms        12.86%      48.366ms     193.465us      99.00 Mb           0 b           250            --  \n",
      "         aten::native_batch_norm        11.24%      42.270ms        12.12%      45.607ms     182.426us      99.00 Mb    -875.00 Kb           250            --  \n",
      "                aten::empty_like         0.30%       1.133ms         0.41%       1.525ms       6.099us      98.57 Mb           0 b           250            --  \n",
      "                      aten::silu         2.99%      11.236ms         2.99%      11.236ms      44.944us      98.57 Mb      98.57 Mb           250            --  \n",
      "        Adaptive Average Pooling         0.26%     987.400us         0.49%       1.846ms     184.650us     -18.75 Kb     -19.14 Kb            10            --  \n",
      "       aten::adaptive_avg_pool2d         0.02%      57.700us         0.23%     859.100us      85.910us         400 b           0 b            10            --  \n",
      "                      aten::mean         0.05%     204.900us         0.21%     801.400us      80.140us         400 b         392 b            10            --  \n",
      "                       aten::sum         0.04%     145.100us         0.05%     183.800us      18.380us           0 b           0 b            10            --  \n",
      "                     aten::fill_         0.01%      38.700us         0.01%      38.700us       3.870us           0 b           0 b            10            --  \n",
      "                      aten::div_         0.05%     175.800us         0.11%     412.700us      41.270us           8 b         -32 b            10            --  \n",
      "                        aten::to         0.01%      43.900us         0.06%     236.900us      23.690us          40 b           0 b            10            --  \n",
      "                  aten::_to_copy         0.03%     104.100us         0.05%     193.000us      19.300us          40 b           0 b            10            --  \n",
      "             aten::empty_strided         0.01%      35.700us         0.01%      35.700us       3.570us          40 b          40 b            10            --  \n",
      "                     aten::copy_         0.01%      53.200us         0.01%      53.200us       5.320us           0 b           0 b            10            --  \n",
      "                         Flatten         0.13%     486.500us         0.18%     659.800us      65.980us           0 b           0 b            10            --  \n",
      "                   aten::flatten         0.01%      56.400us         0.05%     173.300us      17.330us           0 b           0 b            10            --  \n",
      "                      aten::view         0.03%     116.900us         0.03%     116.900us      11.690us           0 b           0 b            10            --  \n",
      "                     Log Softmax         0.17%     624.300us         0.21%     798.800us      79.880us           0 b        -400 b            10            --  \n",
      "               aten::log_softmax         0.01%      48.200us         0.05%     174.500us      17.450us         400 b           0 b            10            --  \n",
      "              aten::_log_softmax         0.03%     126.300us         0.03%     126.300us      12.630us         400 b         400 b            10            --  \n",
      "--------------------------------  ------------  ------------  ------------  ------------  ------------  ------------  ------------  ------------  ------------  \n",
      "Self CPU time total: 376.182ms\n",
      "\n"
     ]
    }
   ],
   "source": [
    "prof = profile(activities=[ProfilerActivity.CPU, ProfilerActivity.CUDA],\n",
    "                                    schedule=torch.profiler.schedule(wait=1, warmup=1, active=10, repeat=1),\n",
    "                                    on_trace_ready=torch.profiler.tensorboard_trace_handler('../../log/YOLOv8cls-version-1/inference'),\n",
    "                                    record_shapes=True,\n",
    "                                    profile_memory=True,\n",
    "                                    with_flops=True,\n",
    "                                    with_modules=True,\n",
    "                                    with_stack=True)\n",
    "\n",
    "prof.start()\n",
    "for i in range(12):\n",
    "    out = model(img)\n",
    "    prof.step()\n",
    "prof.stop()\n",
    "print(prof.key_averages().table(row_limit=-1))"
   ]
  },
  {
   "cell_type": "code",
   "execution_count": null,
   "id": "aefb9e5b-a378-4c26-b1e1-5ba2ffa83698",
   "metadata": {},
   "outputs": [],
   "source": []
  }
 ],
 "metadata": {
  "kernelspec": {
   "display_name": "Python 3 (ipykernel)",
   "language": "python",
   "name": "python3"
  },
  "language_info": {
   "codemirror_mode": {
    "name": "ipython",
    "version": 3
   },
   "file_extension": ".py",
   "mimetype": "text/x-python",
   "name": "python",
   "nbconvert_exporter": "python",
   "pygments_lexer": "ipython3",
   "version": "3.12.6"
  }
 },
 "nbformat": 4,
 "nbformat_minor": 5
}
