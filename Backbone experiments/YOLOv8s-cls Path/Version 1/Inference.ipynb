{
 "cells": [
  {
   "cell_type": "code",
   "execution_count": 1,
   "id": "a5258e5c-2fd1-45d6-bf25-96674d504f91",
   "metadata": {},
   "outputs": [],
   "source": [
    "import os\n",
    "import torch\n",
    "import torch.nn as nn\n",
    "from torchvision import transforms"
   ]
  },
  {
   "cell_type": "code",
   "execution_count": 2,
   "id": "c9deb7c5-1256-4fdd-b447-69f25786c0e8",
   "metadata": {},
   "outputs": [],
   "source": [
    "import sys\n",
    "sys.path.insert(1, \"../../../\")"
   ]
  },
  {
   "cell_type": "code",
   "execution_count": 3,
   "id": "43b63379-9363-448e-b927-2231dbb097b1",
   "metadata": {},
   "outputs": [],
   "source": [
    "from data_preprocessing import get_means, get_stds, ImageNetSubset\n",
    "from Models.yolov8cls_path import Model"
   ]
  },
  {
   "cell_type": "code",
   "execution_count": 4,
   "id": "cbdae16b-4251-46a6-865b-bfa81a9a5ea1",
   "metadata": {},
   "outputs": [],
   "source": [
    "if torch.cuda.is_available():\n",
    "    device=torch.device('cuda')\n",
    "else:\n",
    "    device=torch.device('cpu') "
   ]
  },
  {
   "cell_type": "code",
   "execution_count": 5,
   "id": "ae3c5dd0-ac5d-4cbb-8463-d9ebe0621f3c",
   "metadata": {},
   "outputs": [],
   "source": [
    "data_path = '../../../../dummy_datasets/'\n",
    "norms_path = os.path.join(data_path, 'norms.json')"
   ]
  },
  {
   "cell_type": "code",
   "execution_count": 6,
   "id": "e608e517-6da7-41c7-b62d-81cca6aecf54",
   "metadata": {},
   "outputs": [
    {
     "name": "stdout",
     "output_type": "stream",
     "text": [
      "Means are: [0.4405549168586731, 0.4407285749912262, 0.4381718039512634]\n",
      "stds are: [0.25142669677734375, 0.25270089507102966, 0.25131651759147644]\n"
     ]
    }
   ],
   "source": [
    "means = get_means(path=norms_path, train_loader=None)\n",
    "stds = get_stds(path=norms_path, train_loader=None)"
   ]
  },
  {
   "cell_type": "code",
   "execution_count": 7,
   "id": "840c3bfd-3f57-4508-9834-fd0c87b7532a",
   "metadata": {},
   "outputs": [],
   "source": [
    "transformations = transforms.Compose([transforms.ToTensor(),\n",
    "                                      transforms.Resize((224, 224)),\n",
    "                                      transforms.Normalize(mean=means, std=stds)])"
   ]
  },
  {
   "cell_type": "code",
   "execution_count": 8,
   "id": "dfaadddf-3f19-4b50-93b4-98cf177980fb",
   "metadata": {},
   "outputs": [],
   "source": [
    "train_dataset = ImageNetSubset(path=data_path, train=True, transform=transformations, half=False, show=False)"
   ]
  },
  {
   "cell_type": "markdown",
   "id": "102fb805-2a55-41c6-8ef3-82c9c46dca89",
   "metadata": {},
   "source": [
    "# Inference"
   ]
  },
  {
   "cell_type": "code",
   "execution_count": 9,
   "id": "0334802c-836d-4d5e-84fb-3bb63513304b",
   "metadata": {},
   "outputs": [],
   "source": [
    "model = Model(num_classes=10, \n",
    "              residual_connection=False, \n",
    "              CSP=False, \n",
    "              add_hidden=False,\n",
    "              classifyV8=False,\n",
    "              bottleneck=1.0, \n",
    "              variant='s', \n",
    "              device=device, \n",
    "              dtype=torch.float32)"
   ]
  },
  {
   "cell_type": "code",
   "execution_count": 10,
   "id": "0c74c18e-ac17-4de9-a2a4-4787cb14017d",
   "metadata": {},
   "outputs": [],
   "source": [
    "img = train_dataset[0][0].unsqueeze(0)"
   ]
  },
  {
   "cell_type": "code",
   "execution_count": 11,
   "id": "49cee9ed-c904-430e-8547-65f4a7d374fa",
   "metadata": {},
   "outputs": [],
   "source": [
    "from torch.profiler import profile, ProfilerActivity"
   ]
  },
  {
   "cell_type": "code",
   "execution_count": 13,
   "id": "d2426ee4-b05b-47a4-8824-f1f603966f87",
   "metadata": {},
   "outputs": [
    {
     "name": "stderr",
     "output_type": "stream",
     "text": [
      "C:\\Users\\work&studies\\AppData\\Local\\Programs\\Python\\Python312\\Lib\\site-packages\\torch\\autograd\\profiler.py:257: UserWarning: CUDA is not available, disabling CUDA profiling\n",
      "  warn(\"CUDA is not available, disabling CUDA profiling\")\n"
     ]
    },
    {
     "name": "stdout",
     "output_type": "stream",
     "text": [
      "--------------------------------  ------------  ------------  ------------  ------------  ------------  ------------  ------------  ------------  ------------  \n",
      "                            Name    Self CPU %      Self CPU   CPU total %     CPU total  CPU time avg       CPU Mem  Self CPU Mem    # of Calls  Total GFLOPs  \n",
      "--------------------------------  ------------  ------------  ------------  ------------  ------------  ------------  ------------  ------------  ------------  \n",
      "                   ProfilerStep*         1.78%       6.667ms       100.00%     374.315ms      37.431ms      29.62 Mb    -236.92 Mb            10            --  \n",
      "                      Conv block        13.20%      49.425ms        93.22%     348.920ms       1.551ms     266.53 Mb           0 b           225            --  \n",
      "                    aten::conv2d         0.41%       1.521ms        64.48%     241.350ms       1.031ms      88.73 Mb           0 b           234        31.182  \n",
      "               aten::convolution         0.96%       3.587ms        64.07%     239.829ms       1.025ms      88.73 Mb           0 b           234            --  \n",
      "              aten::_convolution         0.66%       2.472ms        63.11%     236.242ms       1.010ms      88.73 Mb           0 b           234            --  \n",
      "        aten::mkldnn_convolution        61.83%     231.439ms        62.45%     233.770ms     999.019us      88.73 Mb           0 b           234            --  \n",
      "                     aten::empty         1.05%       3.942ms         1.05%       3.942ms       1.738us     178.60 Mb     178.60 Mb          2268            --  \n",
      "               aten::as_strided_         0.20%     763.500us         0.20%     763.500us       3.263us           0 b           0 b           234            --  \n",
      "                   aten::resize_         0.06%     224.800us         0.06%     224.800us       0.961us           0 b           0 b           234            --  \n",
      "                      aten::add_         0.54%       2.018ms         0.54%       2.018ms       8.967us           0 b           0 b           225            --  \n",
      "                aten::batch_norm         0.41%       1.520ms        12.78%      47.849ms     212.662us      89.10 Mb           0 b           225            --  \n",
      "    aten::_batch_norm_impl_index         0.74%       2.758ms        12.38%      46.329ms     205.904us      89.10 Mb           0 b           225            --  \n",
      "         aten::native_batch_norm        10.72%      40.132ms        11.56%      43.289ms     192.395us      89.10 Mb    -787.00 Kb           225            --  \n",
      "                aten::empty_like         0.22%     839.900us         0.34%       1.267ms       5.633us      88.72 Mb           0 b           225            --  \n",
      "                      aten::silu         2.83%      10.600ms         2.83%      10.600ms      47.109us      88.72 Mb      88.72 Mb           225            --  \n",
      "                       C2f block         1.58%       5.925ms        77.71%     290.890ms       8.080ms     186.36 Mb           0 b            36            --  \n",
      "                Bottleneck block         1.68%       6.289ms        59.03%     220.955ms       4.092ms     108.71 Mb           0 b            54            --  \n",
      "                      ClassifyV2         0.32%       1.196ms         1.74%       6.515ms     723.878us         360 b           0 b             9            --  \n",
      "        Adaptive Average Pooling         0.23%     863.600us         0.44%       1.633ms     181.489us     -16.88 Kb     -17.23 Kb             9            --  \n",
      "       aten::adaptive_avg_pool2d         0.01%      50.000us         0.21%     769.800us      85.533us         360 b           0 b             9            --  \n",
      "                      aten::mean         0.05%     171.300us         0.19%     719.800us      79.978us         360 b         344 b             9            --  \n",
      "                       aten::sum         0.04%     136.300us         0.05%     171.300us      19.033us           0 b           0 b             9            --  \n",
      "                     aten::fill_         0.01%      35.000us         0.01%      35.000us       3.889us           0 b           0 b             9            --  \n",
      "                      aten::div_         0.04%     155.700us         0.10%     377.200us      41.911us          16 b         -20 b             9            --  \n",
      "                        aten::to         0.01%      41.500us         0.06%     221.500us      24.611us          36 b           0 b             9            --  \n",
      "                  aten::_to_copy         0.03%      97.200us         0.05%     180.000us      20.000us          36 b           0 b             9            --  \n",
      "             aten::empty_strided         0.01%      36.000us         0.01%      36.000us       4.000us          36 b          36 b             9            --  \n",
      "                     aten::copy_         0.01%      46.800us         0.01%      46.800us       5.200us           0 b           0 b             9            --  \n",
      "                         Flatten         0.12%     451.100us         0.16%     607.800us      67.533us           0 b           0 b             9            --  \n",
      "                   aten::flatten         0.01%      52.000us         0.04%     156.700us      17.411us           0 b           0 b             9            --  \n",
      "                      aten::view         0.03%     104.700us         0.03%     104.700us      11.633us           0 b           0 b             9            --  \n",
      "                     Log Softmax         0.16%     602.400us         0.20%     756.400us      84.044us           0 b        -360 b             9            --  \n",
      "               aten::log_softmax         0.01%      41.700us         0.04%     154.000us      17.111us         360 b           0 b             9            --  \n",
      "              aten::_log_softmax         0.03%     112.300us         0.03%     112.300us      12.478us         360 b         360 b             9            --  \n",
      "--------------------------------  ------------  ------------  ------------  ------------  ------------  ------------  ------------  ------------  ------------  \n",
      "Self CPU time total: 374.315ms\n",
      "\n"
     ]
    }
   ],
   "source": [
    "with profile(activities=[ProfilerActivity.CPU, ProfilerActivity.CUDA],\n",
    "                                    schedule=torch.profiler.schedule(wait=1, warmup=1, active=10, repeat=1),\n",
    "                                    on_trace_ready=torch.profiler.tensorboard_trace_handler('../../log/YOLOv8cls-version-1/inference'),\n",
    "                                    record_shapes=True,\n",
    "                                    profile_memory=True,\n",
    "                                    with_flops=True,\n",
    "                                    with_modules=True,\n",
    "                                    with_stack=True) as prof:\n",
    "    for i in range(11):\n",
    "        out = model(img)\n",
    "        prof.step()\n",
    "print(prof.key_averages().table(row_limit=-1))"
   ]
  },
  {
   "cell_type": "code",
   "execution_count": null,
   "id": "aefb9e5b-a378-4c26-b1e1-5ba2ffa83698",
   "metadata": {},
   "outputs": [],
   "source": []
  }
 ],
 "metadata": {
  "kernelspec": {
   "display_name": "Python 3 (ipykernel)",
   "language": "python",
   "name": "python3"
  },
  "language_info": {
   "codemirror_mode": {
    "name": "ipython",
    "version": 3
   },
   "file_extension": ".py",
   "mimetype": "text/x-python",
   "name": "python",
   "nbconvert_exporter": "python",
   "pygments_lexer": "ipython3",
   "version": "3.12.6"
  }
 },
 "nbformat": 4,
 "nbformat_minor": 5
}
