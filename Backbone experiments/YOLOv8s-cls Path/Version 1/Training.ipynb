{
 "cells": [
  {
   "cell_type": "code",
   "execution_count": 1,
   "id": "a5258e5c-2fd1-45d6-bf25-96674d504f91",
   "metadata": {},
   "outputs": [],
   "source": [
    "import torch\n",
    "import torch.nn as nn\n",
    "from torchvision import transforms\n",
    "from torch.utils.data import DataLoader\n",
    "from torch import optim"
   ]
  },
  {
   "cell_type": "code",
   "execution_count": 2,
   "id": "c9deb7c5-1256-4fdd-b447-69f25786c0e8",
   "metadata": {},
   "outputs": [],
   "source": [
    "import sys\n",
    "sys.path.insert(1, \"../../../\")"
   ]
  },
  {
   "cell_type": "code",
   "execution_count": 3,
   "id": "43b63379-9363-448e-b927-2231dbb097b1",
   "metadata": {},
   "outputs": [],
   "source": [
    "from train import *\n",
    "from data_preprocessing import *\n",
    "from Models.yolov8cls_path import Model"
   ]
  },
  {
   "cell_type": "code",
   "execution_count": 4,
   "id": "cbdae16b-4251-46a6-865b-bfa81a9a5ea1",
   "metadata": {},
   "outputs": [],
   "source": [
    "if torch.cuda.is_available():\n",
    "    device=torch.device('cuda')\n",
    "else:\n",
    "    device=torch.device('cpu') "
   ]
  },
  {
   "cell_type": "code",
   "execution_count": 5,
   "id": "f9a44f5d-8396-4654-b118-82473d81ca3c",
   "metadata": {},
   "outputs": [],
   "source": [
    "model = Model(num_classes=10, \n",
    "              residual_connection=False, \n",
    "              CSP=False, \n",
    "              add_hidden=False,\n",
    "              classifyV8=False,\n",
    "              bottleneck=1.0, \n",
    "              variant='s', \n",
    "              device=device, \n",
    "              dtype=torch.float32)"
   ]
  },
  {
   "cell_type": "code",
   "execution_count": 6,
   "id": "ae3c5dd0-ac5d-4cbb-8463-d9ebe0621f3c",
   "metadata": {},
   "outputs": [],
   "source": [
    "data_path = '../../../../dummy_datasets/'\n",
    "norms_path = os.path.join(data_path, 'norms.json')"
   ]
  },
  {
   "cell_type": "code",
   "execution_count": 7,
   "id": "e608e517-6da7-41c7-b62d-81cca6aecf54",
   "metadata": {},
   "outputs": [
    {
     "name": "stdout",
     "output_type": "stream",
     "text": [
      "Means are: [0.4405549168586731, 0.4407285749912262, 0.4381718039512634]\n",
      "stds are: [0.25142669677734375, 0.25270089507102966, 0.25131651759147644]\n"
     ]
    }
   ],
   "source": [
    "means = get_means(path=norms_path, train_loader=None)\n",
    "stds = get_stds(path=norms_path, train_loader=None)"
   ]
  },
  {
   "cell_type": "code",
   "execution_count": 8,
   "id": "840c3bfd-3f57-4508-9834-fd0c87b7532a",
   "metadata": {},
   "outputs": [],
   "source": [
    "transformations = transforms.Compose([transforms.ToTensor(),\n",
    "                                      transforms.Resize((224, 224)),\n",
    "                                      transforms.Normalize(mean=means, std=stds)])"
   ]
  },
  {
   "cell_type": "code",
   "execution_count": 9,
   "id": "dfaadddf-3f19-4b50-93b4-98cf177980fb",
   "metadata": {},
   "outputs": [],
   "source": [
    "train_dataset = ImageNetSubset(path=data_path, train=True, transform=transformations, half=False, show=False)\n",
    "val_dataset = ImageNetSubset(path=data_path, train=False, transform=transformations, half=False, show=False)"
   ]
  },
  {
   "cell_type": "code",
   "execution_count": 10,
   "id": "a5d356b0-68a7-44f8-bf1b-397f7889dfb9",
   "metadata": {},
   "outputs": [],
   "source": [
    "epochs=3\n",
    "train_loader = DataLoader(train_dataset, batch_size=256, shuffle=True, num_workers=4)\n",
    "val_loader = DataLoader(val_dataset, batch_size=256, shuffle=False, num_workers=4)"
   ]
  },
  {
   "cell_type": "code",
   "execution_count": 11,
   "id": "53e72a95-3140-4c39-afd7-e64d63bd5940",
   "metadata": {},
   "outputs": [],
   "source": [
    "optimizer = optim.SGD(model.parameters(), lr=0.001, momentum=0.9, weight_decay=0.0001)"
   ]
  },
  {
   "cell_type": "code",
   "execution_count": 12,
   "id": "85cc427f-08e2-43c3-a496-6f1c967a2325",
   "metadata": {},
   "outputs": [],
   "source": [
    "loss_fn = nn.NLLLoss()"
   ]
  },
  {
   "cell_type": "code",
   "execution_count": 13,
   "id": "d9efeae0-85c6-42a3-9006-f1f7de738641",
   "metadata": {},
   "outputs": [],
   "source": [
    "prof = torch.profiler.profile(\n",
    "        schedule=torch.profiler.schedule(wait=1, warmup=1, active=epochs-2, repeat=1),\n",
    "        on_trace_ready=torch.profiler.tensorboard_trace_handler('../../log/YOLOv8cls-version-1/training'),\n",
    "        record_shapes=True,\n",
    "        profile_memory=True,\n",
    "        with_flops=True,\n",
    "        with_modules=True,\n",
    "        with_stack=True)"
   ]
  },
  {
   "cell_type": "markdown",
   "id": "d9c4a012-f83a-495c-929b-939db6549642",
   "metadata": {},
   "source": [
    "\n",
    "Profiling your personal module \n",
    "https://pytorch.org/tutorials/beginner/profiler.html"
   ]
  },
  {
   "cell_type": "code",
   "execution_count": 14,
   "id": "a40a8174-7e18-43aa-83fd-41a98bf6ea0b",
   "metadata": {},
   "outputs": [
    {
     "name": "stdout",
     "output_type": "stream",
     "text": [
      "2024-11-18 18:49:11.307658 Epoch 1 \n",
      "2024-11-18 18:49:17.839504 Batch 1 \n",
      "[Train] Accuracy: 3.3333%, Loss per batch: 2.2994\n",
      "2024-11-18 18:49:27.340634 Batch 1 \n",
      "[Val] Accuracy: 10.0%, loss per batch: 2.3026\n",
      "2024-11-18 18:49:29.112506 Epoch 2 \n",
      "2024-11-18 18:49:35.304282 Batch 1 \n",
      "[Train] Accuracy: 16.6667%, Loss per batch: 2.2013\n",
      "2024-11-18 18:49:44.882793 Batch 1 \n",
      "[Val] Accuracy: 10.0%, loss per batch: 2.3026\n",
      "2024-11-18 18:49:47.964879 Epoch 3 \n",
      "2024-11-18 18:49:54.711951 Batch 1 \n",
      "[Train] Accuracy: 30.0%, Loss per batch: 2.1409\n",
      "2024-11-18 18:50:04.638938 Batch 1 \n",
      "[Val] Accuracy: 10.0%, loss per batch: 2.3026\n"
     ]
    }
   ],
   "source": [
    "history, gradient_stats, prof = train(epochs, train_loader, val_loader, model, optimizer, loss_fn, prof)"
   ]
  },
  {
   "cell_type": "code",
   "execution_count": 15,
   "id": "fa05f1c3-29c2-4e09-aa9d-a35ea4057234",
   "metadata": {},
   "outputs": [
    {
     "name": "stdout",
     "output_type": "stream",
     "text": [
      "-------------------------------------------------------  ------------  ------------  ------------  ------------  ------------  ------------  ------------  ------------  ------------  \n",
      "                                                   Name    Self CPU %      Self CPU   CPU total %     CPU total  CPU time avg       CPU Mem  Self CPU Mem    # of Calls  Total MFLOPs  \n",
      "-------------------------------------------------------  ------------  ------------  ------------  ------------  ------------  ------------  ------------  ------------  ------------  \n",
      "                                          ProfilerStep*         0.09%      15.888ms       100.00%       17.607s       17.607s      38.23 Mb           0 b             1            --  \n",
      "                                          Training Loop         0.03%       5.631ms        53.04%        9.339s        9.339s      38.23 Mb     -17.23 Mb             1            --  \n",
      "                     Validation Loop Before Data Loader         4.05%     712.282ms        99.04%       17.438s        8.719s      72.69 Mb        -504 b             2            --  \n",
      "                                            aten::empty         0.02%       3.827ms         0.02%       3.827ms       4.594us       2.14 Gb       2.14 Gb           833            --  \n",
      "                                          aten::random_         0.00%      67.100us         0.00%      67.100us      22.367us           0 b           0 b             3            --  \n",
      "                                             aten::item         0.00%     243.900us         0.00%     299.000us       3.602us           0 b           0 b            83            --  \n",
      "                              aten::_local_scalar_dense         0.00%      55.100us         0.00%      55.100us       0.664us           0 b           0 b            83            --  \n",
      "                                         aten::randperm         0.00%      78.000us         0.00%     149.800us      37.450us         480 b         -16 b             4            --  \n",
      "                                    aten::scalar_tensor         0.00%       6.400us         0.00%       6.400us       3.200us          16 b          16 b             2            --  \n",
      "                                          aten::resize_         0.00%     256.900us         0.00%     256.900us       2.401us           0 b           0 b           107            --  \n",
      "                                     aten::resolve_conj         0.00%      21.000us         0.00%      21.000us       0.091us           0 b           0 b           230            --  \n",
      "                                      aten::resolve_neg         0.00%      15.800us         0.00%      15.800us       0.069us           0 b           0 b           230            --  \n",
      "enumerate(DataLoader)#_MultiProcessingDataLoaderIter...        78.25%       13.777s        78.25%       13.777s        3.444s      34.45 Mb      34.45 Mb             4            --  \n",
      "                                             aten::set_         0.00%      28.600us         0.00%      28.600us       7.150us           0 b           0 b             4            --  \n",
      "                        Training Loop After Data Loader         0.01%       1.158ms        12.62%        2.223s        2.223s      38.23 Mb        -158 b             1            --  \n",
      "                                        Batch inference         0.01%       2.249ms         4.16%     731.683ms     731.683ms     887.21 Mb           0 b             1            --  \n",
      "                                             Conv block         0.14%      23.788ms         8.23%        1.449s      28.975ms       1.16 Gb    -591.45 Mb            50            --  \n",
      "                                           aten::conv2d         0.00%     582.500us         6.19%        1.091s      20.972ms     591.56 Mb           0 b            52    207879.168  \n",
      "                                      aten::convolution         0.01%       1.276ms         6.19%        1.090s      20.961ms     591.56 Mb           0 b            52            --  \n",
      "                                     aten::_convolution         0.01%       1.038ms         6.18%        1.089s      20.936ms     591.56 Mb           0 b            52            --  \n",
      "                               aten::mkldnn_convolution         6.17%        1.086s         6.18%        1.088s      20.916ms     591.56 Mb           0 b            52            --  \n",
      "                                      aten::as_strided_         0.01%     891.500us         0.01%     891.500us       8.032us           0 b           0 b           111            --  \n",
      "                                             aten::add_         0.04%       7.682ms         0.04%       7.682ms      43.403us           0 b           0 b           177            --  \n",
      "                                       aten::batch_norm         0.00%     412.100us         1.09%     192.523ms       3.850ms     591.49 Mb           0 b            50            --  \n",
      "                           aten::_batch_norm_impl_index         0.01%     904.000us         1.09%     192.111ms       3.842ms     591.49 Mb           0 b            50            --  \n",
      "                                aten::native_batch_norm         1.08%     189.894ms         1.09%     191.052ms       3.821ms     591.49 Mb    -131.25 Kb            50            --  \n",
      "                                       aten::empty_like         0.00%     644.100us         0.01%       1.362ms      12.968us       1.24 Gb           0 b           105            --  \n",
      "                                             aten::silu         0.81%     143.232ms         0.81%     143.232ms       2.865ms     591.45 Mb     591.45 Mb            50            --  \n",
      "                               Adaptive Average Pooling         0.00%     314.300us         0.00%     547.500us     273.750us    -112.50 Kb    -114.84 Kb             2            --  \n",
      "                              aten::adaptive_avg_pool2d         0.00%      15.000us         0.00%     233.200us     116.600us       2.34 Kb           0 b             2            --  \n",
      "                                             aten::mean         0.01%       1.700ms         0.07%      12.112ms      78.649us       2.94 Kb       2.78 Kb           154            --  \n",
      "                                              aten::sum         0.04%       6.163ms         0.04%       6.956ms      44.590us          16 b      -1.05 Kb           156            --  \n",
      "                                            aten::fill_         0.00%      76.800us         0.00%      76.800us       0.330us           0 b           0 b           233            --  \n",
      "                                             aten::div_         0.01%       1.491ms         0.02%       3.543ms      23.008us         160 b        -456 b           154            --  \n",
      "                                               aten::to         0.00%     769.100us         0.02%       3.800ms       8.244us       1.37 Kb           0 b           461            --  \n",
      "                                         aten::_to_copy         0.01%       2.126ms         0.02%       3.031ms      13.010us       1.37 Kb           0 b           233            --  \n",
      "                                    aten::empty_strided         0.00%     635.600us         0.00%     635.600us       2.050us      38.23 Mb      38.23 Mb           310            --  \n",
      "                                            aten::copy_         0.43%      76.387ms         0.43%      76.387ms     217.627us           0 b           0 b           351            --  \n",
      "                                                Flatten         0.00%     119.800us         0.00%     154.700us      77.350us           0 b           0 b             2            --  \n",
      "                                          aten::flatten         0.00%     148.400us         0.00%     301.600us       3.867us           0 b           0 b            78            --  \n",
      "                                             aten::view         0.00%     159.800us         0.00%     159.800us       5.510us           0 b           0 b            29            --  \n",
      "                                            Log Softmax         0.00%     163.300us         0.00%     209.600us     104.800us           0 b      -2.34 Kb             2            --  \n",
      "                                      aten::log_softmax         0.00%      10.700us         0.00%      46.300us      23.150us       2.34 Kb           0 b             2            --  \n",
      "                                     aten::_log_softmax         0.00%      35.600us         0.00%      35.600us      17.800us       2.34 Kb       2.34 Kb             2            --  \n",
      "                                           Loss Forward         0.00%      98.500us         0.00%     125.600us     125.600us           8 b           0 b             1            --  \n",
      "                                      aten::nll_loss_nd         0.00%      11.400us         0.00%      47.700us      23.850us          12 b           0 b             2            --  \n",
      "                                         aten::nll_loss         0.00%      13.800us         0.00%      36.300us      18.150us          12 b          -4 b             2            --  \n",
      "                                 aten::nll_loss_forward         0.00%      22.500us         0.00%      22.500us      11.250us          16 b          16 b             2            --  \n",
      "                      Optimizer.zero_grad#SGD.zero_grad         0.00%     731.100us         0.00%     731.100us     731.100us           0 b           0 b             1            --  \n",
      "                                          Loss Backward         0.02%       4.078ms         8.32%        1.465s        1.465s    -848.98 Mb          -4 b             1            --  \n",
      "                                        aten::ones_like         0.00%       9.200us         0.00%      22.100us      22.100us           4 b           0 b             1            --  \n",
      "autograd::engine::evaluate_function: NllLossBackward...         0.00%       9.900us         0.00%      58.300us      58.300us       1.17 Kb          -4 b             1            --  \n",
      "                                       NllLossBackward0         0.00%      25.600us         0.00%      48.400us      48.400us       1.17 Kb           0 b             1            --  \n",
      "                                aten::nll_loss_backward         0.00%      21.900us         0.00%      22.800us      22.800us       1.17 Kb       1.17 Kb             1            --  \n",
      "                                            aten::zero_         0.00%       0.900us         0.00%       0.900us       0.900us           0 b           0 b             1            --  \n",
      "autograd::engine::evaluate_function: LogSoftmaxBackw...         0.00%       6.000us         0.00%      45.200us      45.200us           0 b      -1.17 Kb             1            --  \n",
      "                                    LogSoftmaxBackward0         0.00%      27.600us         0.00%      39.200us      39.200us       1.17 Kb           0 b             1            --  \n",
      "                       aten::_log_softmax_backward_data         0.00%      11.600us         0.00%      11.600us      11.600us       1.17 Kb       1.17 Kb             1            --  \n",
      "     autograd::engine::evaluate_function: ViewBackward0         0.00%       4.400us         0.00%      21.000us      21.000us           0 b           0 b             1            --  \n",
      "                                          ViewBackward0         0.00%       5.200us         0.00%      16.600us      16.600us           0 b           0 b             1            --  \n",
      "                                          aten::reshape         0.00%       4.800us         0.00%      11.400us      11.400us           0 b           0 b             1            --  \n",
      "     autograd::engine::evaluate_function: MeanBackward1         0.00%       5.000us         0.00%     102.300us     102.300us      56.25 Kb      -1.17 Kb             1            --  \n",
      "                                          MeanBackward1         0.00%      15.200us         0.00%      97.300us      97.300us      57.42 Kb           0 b             1            --  \n",
      "                                           aten::expand         0.00%      11.300us         0.00%      15.300us      15.300us           0 b           0 b             1            --  \n",
      "                                       aten::as_strided         0.00%     267.200us         0.00%     267.200us       0.870us           0 b           0 b           307            --  \n",
      "                                              aten::div         0.00%      44.800us         0.00%      66.800us      66.800us      57.42 Kb      57.42 Kb             1            --  \n",
      "autograd::engine::evaluate_function: ConvolutionBack...         0.01%       1.296ms         7.30%        1.285s      49.440ms    -257.59 Mb    -591.50 Mb            26            --  \n",
      "                                   ConvolutionBackward0         0.00%     618.500us         7.29%        1.284s      49.390ms     333.91 Mb           0 b            26            --  \n",
      "                             aten::convolution_backward         6.87%        1.210s         7.29%        1.284s      49.366ms     333.91 Mb     -86.13 Mb            26            --  \n",
      "autograd::engine::evaluate_function: torch::autograd...         0.00%     505.100us         0.01%       2.026ms      26.655us           0 b           0 b            76            --  \n",
      "                        torch::autograd::AccumulateGrad         0.00%     761.400us         0.01%       1.521ms      20.009us           0 b           0 b            76            --  \n",
      "                                           aten::detach         0.00%     723.500us         0.01%       1.415ms       4.654us           0 b           0 b           304            --  \n",
      "                                                 detach         0.00%     691.200us         0.00%     691.200us       2.274us           0 b           0 b           304            --  \n",
      "     autograd::engine::evaluate_function: SiluBackward0         0.07%      11.784ms         0.42%      73.624ms       2.945ms    -295.72 Mb    -591.45 Mb            25            --  \n",
      "                                          SiluBackward0         0.00%     319.900us         0.35%      61.840ms       2.474ms     295.72 Mb           0 b            25            --  \n",
      "                                    aten::silu_backward         0.35%      61.520ms         0.35%      61.520ms       2.461ms     295.72 Mb     295.72 Mb            25            --  \n",
      "autograd::engine::evaluate_function: NativeBatchNorm...         0.03%       5.862ms         0.57%      99.715ms       3.989ms    -295.72 Mb    -591.49 Mb            25            --  \n",
      "                               NativeBatchNormBackward0         0.00%     790.300us         0.53%      93.854ms       3.754ms     295.77 Mb           0 b            25            --  \n",
      "                       aten::native_batch_norm_backward         0.52%      92.243ms         0.53%      93.063ms       3.723ms     295.77 Mb    -295.72 Mb            25            --  \n",
      "                                       aten::contiguous         0.00%      62.900us         0.41%      71.808ms      17.952ms      86.13 Mb           0 b             4            --  \n",
      "                                            aten::clone         0.00%     552.100us         0.44%      76.625ms     957.817us     124.36 Mb           0 b            80            --  \n",
      "                                         Optimizer Step         0.00%     342.800us         0.13%      23.667ms      23.667ms           0 b           0 b             1            --  \n",
      "                                Optimizer.step#SGD.step         0.02%       4.080ms         0.13%      23.325ms      23.325ms           0 b     -38.23 Mb             1            --  \n",
      "                                              aten::add         0.04%       6.667ms         0.04%       6.667ms      87.724us      38.23 Mb      38.23 Mb            76        10.022  \n",
      "                                             aten::mul_         0.02%       3.725ms         0.03%       5.388ms      70.892us           0 b        -304 b            76            --  \n",
      "                                              aten::max         0.00%      92.100us         0.00%     136.900us      68.450us         720 b         720 b             2            --  \n",
      "                                       aten::unsqueeze_         0.00%      18.700us         0.00%      26.600us       6.650us           0 b           0 b             4            --  \n",
      "                                         aten::squeeze_         0.00%      16.000us         0.00%      18.200us       4.550us           0 b           0 b             4            --  \n",
      "                                               aten::eq         0.00%      15.900us         0.00%      15.900us       7.950us          60 b          60 b             2            --  \n",
      "                                        Validation Loop         0.03%       5.859ms        46.06%        8.110s        8.110s           0 b     -17.23 Mb             1            --  \n",
      "                      Validation Loop After Data Loader         0.01%     885.600us         4.12%     725.293ms     725.293ms       1.41 Kb        -162 b             1            --  \n",
      "                                        Batch Inference         0.01%       2.224ms         4.11%     724.278ms     724.278ms       1.17 Kb    -295.72 Mb             1            --  \n",
      "                                           aten::median         0.67%     117.778ms         0.70%     122.818ms       1.616ms         304 b     -38.23 Mb            76            --  \n",
      "                                              aten::std         0.04%       6.276ms         0.07%      12.494ms     164.393us         304 b           0 b            76            --  \n",
      "                                        aten::unsqueeze         0.00%     151.100us         0.00%     177.000us       4.658us           0 b           0 b            38            --  \n",
      "                                           aten::select         0.00%     188.900us         0.00%     241.200us       6.347us           0 b           0 b            38            --  \n",
      "-------------------------------------------------------  ------------  ------------  ------------  ------------  ------------  ------------  ------------  ------------  ------------  \n",
      "Self CPU time total: 17.607s\n",
      "\n"
     ]
    }
   ],
   "source": [
    "print(prof.key_averages())"
   ]
  },
  {
   "cell_type": "code",
   "execution_count": 16,
   "id": "94813a5e-7688-415c-b928-8b7b61b8e6c4",
   "metadata": {},
   "outputs": [
    {
     "ename": "TypeError",
     "evalue": "Object of type DataFrame is not JSON serializable",
     "output_type": "error",
     "traceback": [
      "\u001b[1;31m---------------------------------------------------------------------------\u001b[0m",
      "\u001b[1;31mTypeError\u001b[0m                                 Traceback (most recent call last)",
      "Cell \u001b[1;32mIn[16], line 1\u001b[0m\n\u001b[1;32m----> 1\u001b[0m \u001b[43msave_train_outputs\u001b[49m\u001b[43m(\u001b[49m\u001b[38;5;124;43m'\u001b[39;49m\u001b[38;5;124;43m../log/YOLOv8cls-version-1/training\u001b[39;49m\u001b[38;5;124;43m'\u001b[39;49m\u001b[43m,\u001b[49m\u001b[43m \u001b[49m\u001b[43mhistory\u001b[49m\u001b[43m,\u001b[49m\u001b[43m \u001b[49m\u001b[43mgradient_stats\u001b[49m\u001b[43m,\u001b[49m\u001b[43m \u001b[49m\u001b[43mprof\u001b[49m\u001b[43m)\u001b[49m\n",
      "File \u001b[1;32mC:\\Me\\PJAIT\\Thesis\\Code\\yolov2-to-yolov8\\Backbone experiments\\YOLOv8s-cls Path\\Version 1\\../../..\\train.py:27\u001b[0m, in \u001b[0;36msave_train_outputs\u001b[1;34m(path, history, gradient_stats, prof)\u001b[0m\n\u001b[0;32m     22\u001b[0m _dict \u001b[38;5;241m=\u001b[39m {\u001b[38;5;124m'\u001b[39m\u001b[38;5;124mhistory\u001b[39m\u001b[38;5;124m'\u001b[39m: history,\n\u001b[0;32m     23\u001b[0m          \u001b[38;5;124m'\u001b[39m\u001b[38;5;124mgradient_stats\u001b[39m\u001b[38;5;124m'\u001b[39m: gradient_stats,\n\u001b[0;32m     24\u001b[0m          \u001b[38;5;124m'\u001b[39m\u001b[38;5;124mprof\u001b[39m\u001b[38;5;124m'\u001b[39m: prof}\n\u001b[0;32m     26\u001b[0m \u001b[38;5;28;01mwith\u001b[39;00m \u001b[38;5;28mopen\u001b[39m(os\u001b[38;5;241m.\u001b[39mpath\u001b[38;5;241m.\u001b[39mjoin(path, \u001b[38;5;124m'\u001b[39m\u001b[38;5;124mtrain_outputs.json\u001b[39m\u001b[38;5;124m'\u001b[39m), \u001b[38;5;124m'\u001b[39m\u001b[38;5;124mw\u001b[39m\u001b[38;5;124m'\u001b[39m) \u001b[38;5;28;01mas\u001b[39;00m file:\n\u001b[1;32m---> 27\u001b[0m     \u001b[43mjson\u001b[49m\u001b[38;5;241;43m.\u001b[39;49m\u001b[43mdump\u001b[49m\u001b[43m(\u001b[49m\u001b[43m_dict\u001b[49m\u001b[43m,\u001b[49m\u001b[43m \u001b[49m\u001b[43mfile\u001b[49m\u001b[43m)\u001b[49m\n",
      "File \u001b[1;32m~\\AppData\\Local\\Programs\\Python\\Python312\\Lib\\json\\__init__.py:179\u001b[0m, in \u001b[0;36mdump\u001b[1;34m(obj, fp, skipkeys, ensure_ascii, check_circular, allow_nan, cls, indent, separators, default, sort_keys, **kw)\u001b[0m\n\u001b[0;32m    173\u001b[0m     iterable \u001b[38;5;241m=\u001b[39m \u001b[38;5;28mcls\u001b[39m(skipkeys\u001b[38;5;241m=\u001b[39mskipkeys, ensure_ascii\u001b[38;5;241m=\u001b[39mensure_ascii,\n\u001b[0;32m    174\u001b[0m         check_circular\u001b[38;5;241m=\u001b[39mcheck_circular, allow_nan\u001b[38;5;241m=\u001b[39mallow_nan, indent\u001b[38;5;241m=\u001b[39mindent,\n\u001b[0;32m    175\u001b[0m         separators\u001b[38;5;241m=\u001b[39mseparators,\n\u001b[0;32m    176\u001b[0m         default\u001b[38;5;241m=\u001b[39mdefault, sort_keys\u001b[38;5;241m=\u001b[39msort_keys, \u001b[38;5;241m*\u001b[39m\u001b[38;5;241m*\u001b[39mkw)\u001b[38;5;241m.\u001b[39miterencode(obj)\n\u001b[0;32m    177\u001b[0m \u001b[38;5;66;03m# could accelerate with writelines in some versions of Python, at\u001b[39;00m\n\u001b[0;32m    178\u001b[0m \u001b[38;5;66;03m# a debuggability cost\u001b[39;00m\n\u001b[1;32m--> 179\u001b[0m \u001b[43m\u001b[49m\u001b[38;5;28;43;01mfor\u001b[39;49;00m\u001b[43m \u001b[49m\u001b[43mchunk\u001b[49m\u001b[43m \u001b[49m\u001b[38;5;129;43;01min\u001b[39;49;00m\u001b[43m \u001b[49m\u001b[43miterable\u001b[49m\u001b[43m:\u001b[49m\n\u001b[0;32m    180\u001b[0m \u001b[43m    \u001b[49m\u001b[43mfp\u001b[49m\u001b[38;5;241;43m.\u001b[39;49m\u001b[43mwrite\u001b[49m\u001b[43m(\u001b[49m\u001b[43mchunk\u001b[49m\u001b[43m)\u001b[49m\n",
      "File \u001b[1;32m~\\AppData\\Local\\Programs\\Python\\Python312\\Lib\\json\\encoder.py:432\u001b[0m, in \u001b[0;36m_make_iterencode.<locals>._iterencode\u001b[1;34m(o, _current_indent_level)\u001b[0m\n\u001b[0;32m    430\u001b[0m     \u001b[38;5;28;01myield from\u001b[39;00m _iterencode_list(o, _current_indent_level)\n\u001b[0;32m    431\u001b[0m \u001b[38;5;28;01melif\u001b[39;00m \u001b[38;5;28misinstance\u001b[39m(o, \u001b[38;5;28mdict\u001b[39m):\n\u001b[1;32m--> 432\u001b[0m     \u001b[38;5;28;01myield from\u001b[39;00m _iterencode_dict(o, _current_indent_level)\n\u001b[0;32m    433\u001b[0m \u001b[38;5;28;01melse\u001b[39;00m:\n\u001b[0;32m    434\u001b[0m     \u001b[38;5;28;01mif\u001b[39;00m markers \u001b[38;5;129;01mis\u001b[39;00m \u001b[38;5;129;01mnot\u001b[39;00m \u001b[38;5;28;01mNone\u001b[39;00m:\n",
      "File \u001b[1;32m~\\AppData\\Local\\Programs\\Python\\Python312\\Lib\\json\\encoder.py:406\u001b[0m, in \u001b[0;36m_make_iterencode.<locals>._iterencode_dict\u001b[1;34m(dct, _current_indent_level)\u001b[0m\n\u001b[0;32m    404\u001b[0m         \u001b[38;5;28;01melse\u001b[39;00m:\n\u001b[0;32m    405\u001b[0m             chunks \u001b[38;5;241m=\u001b[39m _iterencode(value, _current_indent_level)\n\u001b[1;32m--> 406\u001b[0m         \u001b[38;5;28;01myield from\u001b[39;00m chunks\n\u001b[0;32m    407\u001b[0m \u001b[38;5;28;01mif\u001b[39;00m newline_indent \u001b[38;5;129;01mis\u001b[39;00m \u001b[38;5;129;01mnot\u001b[39;00m \u001b[38;5;28;01mNone\u001b[39;00m:\n\u001b[0;32m    408\u001b[0m     _current_indent_level \u001b[38;5;241m-\u001b[39m\u001b[38;5;241m=\u001b[39m \u001b[38;5;241m1\u001b[39m\n",
      "File \u001b[1;32m~\\AppData\\Local\\Programs\\Python\\Python312\\Lib\\json\\encoder.py:439\u001b[0m, in \u001b[0;36m_make_iterencode.<locals>._iterencode\u001b[1;34m(o, _current_indent_level)\u001b[0m\n\u001b[0;32m    437\u001b[0m         \u001b[38;5;28;01mraise\u001b[39;00m \u001b[38;5;167;01mValueError\u001b[39;00m(\u001b[38;5;124m\"\u001b[39m\u001b[38;5;124mCircular reference detected\u001b[39m\u001b[38;5;124m\"\u001b[39m)\n\u001b[0;32m    438\u001b[0m     markers[markerid] \u001b[38;5;241m=\u001b[39m o\n\u001b[1;32m--> 439\u001b[0m o \u001b[38;5;241m=\u001b[39m \u001b[43m_default\u001b[49m\u001b[43m(\u001b[49m\u001b[43mo\u001b[49m\u001b[43m)\u001b[49m\n\u001b[0;32m    440\u001b[0m \u001b[38;5;28;01myield from\u001b[39;00m _iterencode(o, _current_indent_level)\n\u001b[0;32m    441\u001b[0m \u001b[38;5;28;01mif\u001b[39;00m markers \u001b[38;5;129;01mis\u001b[39;00m \u001b[38;5;129;01mnot\u001b[39;00m \u001b[38;5;28;01mNone\u001b[39;00m:\n",
      "File \u001b[1;32m~\\AppData\\Local\\Programs\\Python\\Python312\\Lib\\json\\encoder.py:180\u001b[0m, in \u001b[0;36mJSONEncoder.default\u001b[1;34m(self, o)\u001b[0m\n\u001b[0;32m    161\u001b[0m \u001b[38;5;28;01mdef\u001b[39;00m \u001b[38;5;21mdefault\u001b[39m(\u001b[38;5;28mself\u001b[39m, o):\n\u001b[0;32m    162\u001b[0m \u001b[38;5;250m    \u001b[39m\u001b[38;5;124;03m\"\"\"Implement this method in a subclass such that it returns\u001b[39;00m\n\u001b[0;32m    163\u001b[0m \u001b[38;5;124;03m    a serializable object for ``o``, or calls the base implementation\u001b[39;00m\n\u001b[0;32m    164\u001b[0m \u001b[38;5;124;03m    (to raise a ``TypeError``).\u001b[39;00m\n\u001b[1;32m   (...)\u001b[0m\n\u001b[0;32m    178\u001b[0m \n\u001b[0;32m    179\u001b[0m \u001b[38;5;124;03m    \"\"\"\u001b[39;00m\n\u001b[1;32m--> 180\u001b[0m     \u001b[38;5;28;01mraise\u001b[39;00m \u001b[38;5;167;01mTypeError\u001b[39;00m(\u001b[38;5;124mf\u001b[39m\u001b[38;5;124m'\u001b[39m\u001b[38;5;124mObject of type \u001b[39m\u001b[38;5;132;01m{\u001b[39;00mo\u001b[38;5;241m.\u001b[39m\u001b[38;5;18m__class__\u001b[39m\u001b[38;5;241m.\u001b[39m\u001b[38;5;18m__name__\u001b[39m\u001b[38;5;132;01m}\u001b[39;00m\u001b[38;5;124m \u001b[39m\u001b[38;5;124m'\u001b[39m\n\u001b[0;32m    181\u001b[0m                     \u001b[38;5;124mf\u001b[39m\u001b[38;5;124m'\u001b[39m\u001b[38;5;124mis not JSON serializable\u001b[39m\u001b[38;5;124m'\u001b[39m)\n",
      "\u001b[1;31mTypeError\u001b[0m: Object of type DataFrame is not JSON serializable"
     ]
    }
   ],
   "source": [
    "save_train_outputs('../../log/YOLOv8cls-version-1/training', history, gradient_stats, prof)"
   ]
  }
 ],
 "metadata": {
  "kernelspec": {
   "display_name": "Python 3 (ipykernel)",
   "language": "python",
   "name": "python3"
  },
  "language_info": {
   "codemirror_mode": {
    "name": "ipython",
    "version": 3
   },
   "file_extension": ".py",
   "mimetype": "text/x-python",
   "name": "python",
   "nbconvert_exporter": "python",
   "pygments_lexer": "ipython3",
   "version": "3.12.6"
  }
 },
 "nbformat": 4,
 "nbformat_minor": 5
}
