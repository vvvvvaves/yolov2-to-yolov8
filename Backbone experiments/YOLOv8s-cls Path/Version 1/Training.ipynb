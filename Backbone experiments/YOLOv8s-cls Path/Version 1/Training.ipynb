{
 "cells": [
  {
   "cell_type": "code",
   "execution_count": 1,
   "id": "a5258e5c-2fd1-45d6-bf25-96674d504f91",
   "metadata": {},
   "outputs": [],
   "source": [
    "import torch\n",
    "import torch.nn as nn\n",
    "from torchvision import transforms\n",
    "from torch.utils.data import DataLoader\n",
    "from torch import optim"
   ]
  },
  {
   "cell_type": "code",
   "execution_count": 2,
   "id": "c9deb7c5-1256-4fdd-b447-69f25786c0e8",
   "metadata": {},
   "outputs": [],
   "source": [
    "import sys\n",
    "sys.path.insert(1, \"../../../\")"
   ]
  },
  {
   "cell_type": "code",
   "execution_count": 3,
   "id": "43b63379-9363-448e-b927-2231dbb097b1",
   "metadata": {},
   "outputs": [],
   "source": [
    "from train import *\n",
    "from data_preprocessing import *\n",
    "from Models.yolov8cls_path import Model"
   ]
  },
  {
   "cell_type": "code",
   "execution_count": 4,
   "id": "cbdae16b-4251-46a6-865b-bfa81a9a5ea1",
   "metadata": {},
   "outputs": [],
   "source": [
    "if torch.cuda.is_available():\n",
    "    device=torch.device('cuda')\n",
    "else:\n",
    "    device=torch.device('cpu') "
   ]
  },
  {
   "cell_type": "code",
   "execution_count": 5,
   "id": "f9a44f5d-8396-4654-b118-82473d81ca3c",
   "metadata": {},
   "outputs": [],
   "source": [
    "model = Model(num_classes=10, \n",
    "              residual_connection=False, \n",
    "              CSP=False, \n",
    "              add_hidden=False,\n",
    "              classifyV8=False,\n",
    "              bottleneck=1.0, \n",
    "              variant='s', \n",
    "              device=device, \n",
    "              dtype=torch.float32)"
   ]
  },
  {
   "cell_type": "code",
   "execution_count": 6,
   "id": "ae3c5dd0-ac5d-4cbb-8463-d9ebe0621f3c",
   "metadata": {},
   "outputs": [],
   "source": [
    "data_path = '../../../../dummy_datasets/'\n",
    "norms_path = os.path.join(data_path, 'norms.json')"
   ]
  },
  {
   "cell_type": "code",
   "execution_count": 7,
   "id": "e608e517-6da7-41c7-b62d-81cca6aecf54",
   "metadata": {},
   "outputs": [
    {
     "name": "stdout",
     "output_type": "stream",
     "text": [
      "Means are: [0.4405549168586731, 0.4407285749912262, 0.4381718039512634]\n",
      "stds are: [0.25142669677734375, 0.25270089507102966, 0.25131651759147644]\n"
     ]
    }
   ],
   "source": [
    "means = get_means(path=norms_path, train_loader=None)\n",
    "stds = get_stds(path=norms_path, train_loader=None)"
   ]
  },
  {
   "cell_type": "code",
   "execution_count": 8,
   "id": "840c3bfd-3f57-4508-9834-fd0c87b7532a",
   "metadata": {},
   "outputs": [],
   "source": [
    "transformations = transforms.Compose([transforms.ToTensor(),\n",
    "                                      transforms.Resize((224, 224)),\n",
    "                                      transforms.Normalize(mean=means, std=stds)])"
   ]
  },
  {
   "cell_type": "code",
   "execution_count": 9,
   "id": "dfaadddf-3f19-4b50-93b4-98cf177980fb",
   "metadata": {},
   "outputs": [],
   "source": [
    "train_dataset = ImageNetSubset(path=data_path, train=True, transform=transformations, half=False, show=False)\n",
    "val_dataset = ImageNetSubset(path=data_path, train=False, transform=transformations, half=False, show=False)"
   ]
  },
  {
   "cell_type": "code",
   "execution_count": 10,
   "id": "a5d356b0-68a7-44f8-bf1b-397f7889dfb9",
   "metadata": {},
   "outputs": [],
   "source": [
    "epochs=3\n",
    "train_loader = DataLoader(train_dataset, batch_size=256, shuffle=True, num_workers=4)\n",
    "val_loader = DataLoader(val_dataset, batch_size=256, shuffle=False, num_workers=4)"
   ]
  },
  {
   "cell_type": "code",
   "execution_count": 11,
   "id": "53e72a95-3140-4c39-afd7-e64d63bd5940",
   "metadata": {},
   "outputs": [],
   "source": [
    "optimizer = optim.SGD(model.parameters(), lr=0.001, momentum=0.9, weight_decay=0.0001)"
   ]
  },
  {
   "cell_type": "code",
   "execution_count": 12,
   "id": "85cc427f-08e2-43c3-a496-6f1c967a2325",
   "metadata": {},
   "outputs": [],
   "source": [
    "loss_fn = nn.NLLLoss()"
   ]
  },
  {
   "cell_type": "code",
   "execution_count": 13,
   "id": "d9efeae0-85c6-42a3-9006-f1f7de738641",
   "metadata": {},
   "outputs": [],
   "source": [
    "prof = torch.profiler.profile(\n",
    "        schedule=torch.profiler.schedule(wait=1, warmup=1, active=epochs-1, repeat=1),\n",
    "        on_trace_ready=torch.profiler.tensorboard_trace_handler('../../log/YOLOv8cls-version-1/training'),\n",
    "        record_shapes=True,\n",
    "        profile_memory=True,\n",
    "        with_flops=True,\n",
    "        with_modules=True,\n",
    "        with_stack=True)"
   ]
  },
  {
   "cell_type": "markdown",
   "id": "d9c4a012-f83a-495c-929b-939db6549642",
   "metadata": {},
   "source": [
    "\n",
    "Profiling your personal module \n",
    "https://pytorch.org/tutorials/beginner/profiler.html"
   ]
  },
  {
   "cell_type": "code",
   "execution_count": 14,
   "id": "a40a8174-7e18-43aa-83fd-41a98bf6ea0b",
   "metadata": {},
   "outputs": [
    {
     "name": "stdout",
     "output_type": "stream",
     "text": [
      "2024-11-19 17:15:47.508767 Epoch 1 \n",
      "2024-11-19 17:15:54.395214 Batch 1 \n",
      "[Train] Accuracy: 13.3333%, Loss per batch: 2.3916\n",
      "2024-11-19 17:16:04.326856 Batch 1 \n",
      "[Val] Accuracy: 10.0%, loss per batch: 2.3026\n",
      "2024-11-19 17:16:06.322092 Epoch 2 \n",
      "2024-11-19 17:16:14.181832 Batch 1 \n",
      "[Train] Accuracy: 13.3333%, Loss per batch: 2.2731\n",
      "2024-11-19 17:16:24.149510 Batch 1 \n",
      "[Val] Accuracy: 10.0%, loss per batch: 2.3026\n",
      "2024-11-19 17:16:26.375236 Epoch 3 \n",
      "2024-11-19 17:16:33.375616 Batch 1 \n",
      "[Train] Accuracy: 23.3333%, Loss per batch: 2.1828\n",
      "2024-11-19 17:16:43.276707 Batch 1 \n",
      "[Val] Accuracy: 10.0%, loss per batch: 2.3026\n"
     ]
    }
   ],
   "source": [
    "history, gradient_stats, prof = train(epochs, train_loader, val_loader, model, optimizer, loss_fn, prof, model_path='../../log/YOLOv8cls-version-1/training/models/')"
   ]
  },
  {
   "cell_type": "code",
   "execution_count": 15,
   "id": "fa05f1c3-29c2-4e09-aa9d-a35ea4057234",
   "metadata": {},
   "outputs": [
    {
     "name": "stdout",
     "output_type": "stream",
     "text": [
      "-------------------------------------------------------  ------------  ------------  ------------  ------------  ------------  ------------  ------------  ------------  ------------  \n",
      "                                                   Name    Self CPU %      Self CPU   CPU total %     CPU total  CPU time avg       CPU Mem  Self CPU Mem    # of Calls  Total MFLOPs  \n",
      "-------------------------------------------------------  ------------  ------------  ------------  ------------  ------------  ------------  ------------  ------------  ------------  \n",
      "                                          ProfilerStep*         0.80%     310.976ms       100.00%       39.049s       19.525s      38.23 Mb    -229.38 Mb             2            --  \n",
      "                                          Training Loop         0.03%      10.945ms        53.39%       20.848s       10.424s      38.23 Mb     -34.46 Mb             2            --  \n",
      "                     Validation Loop Before Data Loader         3.89%        1.520s        97.67%       38.140s        9.535s     107.14 Mb       -1008 b             4            --  \n",
      "                                            aten::empty         0.02%       8.822ms         0.02%       8.822ms       3.526us       4.29 Gb       4.29 Gb          2502            --  \n",
      "                                          aten::random_         0.00%     111.300us         0.00%     111.300us      18.550us           0 b           0 b             6            --  \n",
      "                                             aten::item         0.00%       1.295ms         0.00%       1.488ms       4.678us           0 b           0 b           318            --  \n",
      "                              aten::_local_scalar_dense         0.00%     192.100us         0.00%     192.100us       0.604us           0 b           0 b           318            --  \n",
      "                                         aten::randperm         0.00%     630.000us         0.00%       1.040ms     129.962us         960 b         -32 b             8            --  \n",
      "                                    aten::scalar_tensor         0.00%      23.800us         0.00%      23.800us       5.950us          32 b          32 b             4            --  \n",
      "                                          aten::resize_         0.00%     501.800us         0.00%     501.800us       2.345us           0 b           0 b           214            --  \n",
      "                                     aten::resolve_conj         0.00%      89.800us         0.00%      89.800us       0.098us           0 b           0 b           916            --  \n",
      "                                      aten::resolve_neg         0.00%      87.100us         0.00%      87.100us       0.095us           0 b           0 b           916            --  \n",
      "enumerate(DataLoader)#_MultiProcessingDataLoaderIter...        79.94%       31.215s        79.94%       31.215s        3.902s      68.91 Mb      68.91 Mb             8            --  \n",
      "                                             aten::set_         0.00%      54.700us         0.00%      54.700us       6.837us           0 b           0 b             8            --  \n",
      "                        Training Loop After Data Loader         0.00%       1.918ms        10.11%        3.948s        1.974s      38.23 Mb        -316 b             2            --  \n",
      "                                        Batch inference         0.01%       2.476ms         3.91%        1.528s     764.170ms       1.73 Gb           0 b             2            --  \n",
      "                                             Conv block         0.13%      50.496ms         7.58%        2.959s      29.591ms       2.31 Gb      -1.16 Gb           100            --  \n",
      "                                           aten::conv2d         0.00%       1.687ms         6.03%        2.356s      22.658ms       1.16 Gb           0 b           104    415758.336  \n",
      "                                      aten::convolution         0.01%       2.645ms         6.03%        2.355s      22.642ms       1.16 Gb           0 b           104            --  \n",
      "                                     aten::_convolution         0.01%       2.046ms         6.02%        2.352s      22.617ms       1.16 Gb           0 b           104            --  \n",
      "                               aten::mkldnn_convolution         6.01%        2.347s         6.02%        2.350s      22.597ms       1.16 Gb           0 b           104            --  \n",
      "                                      aten::as_strided_         0.00%       1.660ms         0.00%       1.660ms       7.478us           0 b           0 b           222            --  \n",
      "                                             aten::add_         0.04%      16.107ms         0.04%      16.107ms      45.499us           0 b           0 b           354            --  \n",
      "                                       aten::batch_norm         0.00%       1.522ms         0.92%     359.336ms       3.593ms       1.16 Gb           0 b           100            --  \n",
      "                           aten::_batch_norm_impl_index         0.01%       2.218ms         0.92%     357.815ms       3.578ms       1.16 Gb           0 b           100            --  \n",
      "                                aten::native_batch_norm         0.90%     352.789ms         0.91%     355.261ms       3.553ms       1.16 Gb    -262.50 Kb           100            --  \n",
      "                                       aten::empty_like         0.00%       1.524ms         0.01%       2.943ms      14.012us       2.48 Gb           0 b           210            --  \n",
      "                                             aten::silu         0.50%     196.700ms         0.50%     196.700ms       1.967ms       1.16 Gb       1.16 Gb           100            --  \n",
      "                                              C2f block         0.01%       4.626ms         5.79%        2.262s     141.383ms       1.30 Gb    -206.72 Mb            16            --  \n",
      "                                       Bottleneck block         0.01%       4.229ms         4.64%        1.814s      75.569ms     844.14 Mb    -120.59 Mb            24            --  \n",
      "                                             ClassifyV2         0.00%     887.500us         0.03%       9.925ms       2.481ms       4.69 Kb           0 b             4            --  \n",
      "                               Adaptive Average Pooling         0.01%       2.109ms         0.01%       3.242ms     810.425us    -225.00 Kb    -229.69 Kb             4            --  \n",
      "                              aten::adaptive_avg_pool2d         0.00%      49.800us         0.00%       1.133ms     283.125us       4.69 Kb           0 b             4            --  \n",
      "                                             aten::mean         0.02%       8.492ms         0.14%      55.050ms      89.951us       7.06 Kb       6.28 Kb           612            --  \n",
      "                                              aten::sum         0.07%      26.490ms         0.08%      30.661ms      49.775us          32 b      -3.28 Kb           616            --  \n",
      "                                            aten::fill_         0.00%     325.200us         0.00%     325.200us       0.353us           0 b           0 b           922            --  \n",
      "                                             aten::div_         0.02%       7.147ms         0.04%      16.114ms      26.330us         800 b      -1.61 Kb           612            --  \n",
      "                                               aten::to         0.01%       2.928ms         0.03%      12.541ms       7.456us       3.93 Kb           0 b          1682            --  \n",
      "                                         aten::_to_copy         0.02%       6.455ms         0.02%       9.614ms      12.485us       3.93 Kb           0 b           770            --  \n",
      "                                    aten::empty_strided         0.01%       2.689ms         0.01%       2.689ms       2.499us     152.92 Mb     152.92 Mb          1076            --  \n",
      "                                            aten::copy_         0.19%      75.700ms         0.19%      75.700ms      61.345us           0 b           0 b          1234            --  \n",
      "                                                Flatten         0.00%     228.500us         0.00%     328.000us      82.000us           0 b           0 b             4            --  \n",
      "                                          aten::flatten         0.00%     365.000us         0.00%     819.000us       5.250us           0 b           0 b           156            --  \n",
      "                                             aten::view         0.00%     465.900us         0.00%     465.900us       8.033us           0 b           0 b            58            --  \n",
      "                                            Log Softmax         0.00%     332.400us         0.00%     446.600us     111.650us           0 b      -4.69 Kb             4            --  \n",
      "                                      aten::log_softmax         0.00%      21.600us         0.00%     114.200us      28.550us       4.69 Kb           0 b             4            --  \n",
      "                                     aten::_log_softmax         0.00%      92.600us         0.00%      92.600us      23.150us       4.69 Kb       4.69 Kb             4            --  \n",
      "                                           Loss Forward         0.00%     187.600us         0.00%     535.100us     267.550us          16 b           0 b             2            --  \n",
      "                                      aten::nll_loss_nd         0.00%      30.400us         0.00%     400.000us     100.000us          24 b           0 b             4            --  \n",
      "                                         aten::nll_loss         0.00%     322.300us         0.00%     369.600us      92.400us          24 b          -8 b             4            --  \n",
      "                                 aten::nll_loss_forward         0.00%      47.300us         0.00%      47.300us      11.825us          32 b          32 b             4            --  \n",
      "                      Optimizer.zero_grad#SGD.zero_grad         0.00%     674.700us         0.00%     674.700us     337.350us     -38.23 Mb     -38.23 Mb             2            --  \n",
      "                                          Loss Backward         0.02%       6.921ms         6.05%        2.364s        1.182s      -1.66 Gb          -8 b             2            --  \n",
      "                                        aten::ones_like         0.00%      11.900us         0.00%      44.300us      22.150us           8 b           0 b             2            --  \n",
      "autograd::engine::evaluate_function: NllLossBackward...         0.00%      39.000us         0.00%     104.000us      52.000us       2.34 Kb          -8 b             2            --  \n",
      "                                       NllLossBackward0         0.00%      21.100us         0.00%      65.000us      32.500us       2.34 Kb           0 b             2            --  \n",
      "                                aten::nll_loss_backward         0.00%      42.100us         0.00%      43.900us      21.950us       2.34 Kb       2.34 Kb             2            --  \n",
      "                                            aten::zero_         0.00%       1.800us         0.00%       1.800us       0.900us           0 b           0 b             2            --  \n",
      "autograd::engine::evaluate_function: LogSoftmaxBackw...         0.00%      13.700us         0.00%      58.200us      29.100us           0 b      -2.34 Kb             2            --  \n",
      "                                    LogSoftmaxBackward0         0.00%      25.800us         0.00%      44.500us      22.250us       2.34 Kb           0 b             2            --  \n",
      "                       aten::_log_softmax_backward_data         0.00%      18.700us         0.00%      18.700us       9.350us       2.34 Kb       2.34 Kb             2            --  \n",
      "     autograd::engine::evaluate_function: ViewBackward0         0.00%       7.600us         0.00%      38.300us      19.150us           0 b           0 b             2            --  \n",
      "                                          ViewBackward0         0.00%      12.100us         0.00%      30.700us      15.350us           0 b           0 b             2            --  \n",
      "                                          aten::reshape         0.00%       6.700us         0.00%      18.600us       9.300us           0 b           0 b             2            --  \n",
      "     autograd::engine::evaluate_function: MeanBackward1         0.00%      28.000us         0.00%     223.900us     111.950us     112.50 Kb      -2.34 Kb             2            --  \n",
      "                                          MeanBackward1         0.00%      28.900us         0.00%     195.900us      97.950us     114.84 Kb           0 b             2            --  \n",
      "                                           aten::expand         0.00%      19.900us         0.00%      26.600us      13.300us           0 b           0 b             2            --  \n",
      "                                       aten::as_strided         0.00%       1.174ms         0.00%       1.174ms       0.960us           0 b           0 b          1222            --  \n",
      "                                              aten::div         0.00%      95.900us         0.00%     140.400us      70.200us     114.84 Kb     114.84 Kb             2            --  \n",
      "autograd::engine::evaluate_function: ConvolutionBack...         0.00%       1.823ms         5.39%        2.106s      40.504ms    -515.18 Mb      -1.16 Gb            52            --  \n",
      "                                   ConvolutionBackward0         0.00%       1.348ms         5.39%        2.104s      40.468ms     667.82 Mb           0 b            52            --  \n",
      "                             aten::convolution_backward         5.24%        2.046s         5.39%        2.103s      40.443ms     667.82 Mb    -172.27 Mb            52            --  \n",
      "autograd::engine::evaluate_function: torch::autograd...         0.00%     859.400us         0.01%       3.851ms      25.336us           0 b           0 b           152            --  \n",
      "                        torch::autograd::AccumulateGrad         0.00%       1.212ms         0.01%       2.992ms      19.682us           0 b           0 b           152            --  \n",
      "                                           aten::detach         0.01%       3.125ms         0.01%       5.174ms       4.863us           0 b           0 b          1064            --  \n",
      "                                                 detach         0.01%       2.049ms         0.01%       2.049ms       1.926us           0 b           0 b          1064            --  \n",
      "     autograd::engine::evaluate_function: SiluBackward0         0.00%       1.433ms         0.28%     107.753ms       2.155ms    -591.45 Mb      -1.16 Gb            50            --  \n",
      "                                          SiluBackward0         0.00%     550.800us         0.27%     106.321ms       2.126ms     591.45 Mb           0 b            50            --  \n",
      "                                    aten::silu_backward         0.27%     105.770ms         0.27%     105.770ms       2.115ms     591.45 Mb     591.45 Mb            50            --  \n",
      "autograd::engine::evaluate_function: NativeBatchNorm...         0.00%       1.802ms         0.35%     138.593ms       2.772ms    -591.45 Mb      -1.16 Gb            50            --  \n",
      "                               NativeBatchNormBackward0         0.00%       1.062ms         0.35%     136.791ms       2.736ms     591.53 Mb           0 b            50            --  \n",
      "                       aten::native_batch_norm_backward         0.34%     134.217ms         0.35%     135.729ms       2.715ms     591.53 Mb    -591.45 Mb            50            --  \n",
      "                                       aten::contiguous         0.00%       1.346ms         0.14%      54.691ms       6.836ms     172.27 Mb           0 b             8            --  \n",
      "                                            aten::clone         0.01%       2.775ms         0.20%      77.517ms     248.452us     325.18 Mb           0 b           312            --  \n",
      "                                         Optimizer Step         0.00%     465.800us         0.13%      52.055ms      26.028ms           0 b           0 b             2            --  \n",
      "                                Optimizer.step#SGD.step         0.02%       9.528ms         0.13%      51.589ms      25.795ms           0 b     -76.46 Mb             2            --  \n",
      "                                              aten::add         0.04%      15.311ms         0.04%      15.311ms     100.730us      76.46 Mb      76.46 Mb           152        20.043  \n",
      "                                             aten::mul_         0.02%       8.467ms         0.03%      11.759ms      77.359us           0 b        -608 b           152            --  \n",
      "                                              aten::max         0.00%     193.200us         0.00%     296.000us      74.000us       1.41 Kb       1.41 Kb             4            --  \n",
      "                                       aten::unsqueeze_         0.00%      43.000us         0.00%      60.000us       7.500us           0 b           0 b             8            --  \n",
      "                                         aten::squeeze_         0.00%      37.800us         0.00%      42.800us       5.350us           0 b           0 b             8            --  \n",
      "                                               aten::eq         0.00%      38.100us         0.00%      38.100us       9.525us         120 b         120 b             4            --  \n",
      "                                        Validation Loop         0.03%      10.657ms        44.34%       17.314s        8.657s           0 b     -34.46 Mb             2            --  \n",
      "                      Validation Loop After Data Loader         0.00%     949.800us         3.73%        1.456s     727.898ms       2.81 Kb        -324 b             2            --  \n",
      "                                        Batch Inference         0.01%       2.541ms         3.72%        1.455s     727.282ms       2.34 Kb    -264.14 Mb             2            --  \n",
      "                                           aten::median         1.13%     440.326ms         1.19%     465.023ms       1.530ms       1.19 Kb    -152.92 Mb           304            --  \n",
      "                                              aten::std         0.06%      25.305ms         0.14%      53.179ms     174.931us       1.19 Kb           0 b           304            --  \n",
      "                                              aten::abs         0.06%      25.260ms         0.12%      47.590ms      52.182us     458.76 Mb     229.38 Mb           912            --  \n",
      "                                        aten::unsqueeze         0.00%     736.800us         0.00%     864.100us       5.685us           0 b           0 b           152            --  \n",
      "                                           aten::select         0.00%       1.358ms         0.00%       1.577ms      10.374us           0 b           0 b           152            --  \n",
      "-------------------------------------------------------  ------------  ------------  ------------  ------------  ------------  ------------  ------------  ------------  ------------  \n",
      "Self CPU time total: 39.049s\n",
      "\n"
     ]
    }
   ],
   "source": [
    "print(prof.key_averages().table(row_limit=-1))"
   ]
  },
  {
   "cell_type": "code",
   "execution_count": 16,
   "id": "94813a5e-7688-415c-b928-8b7b61b8e6c4",
   "metadata": {},
   "outputs": [],
   "source": [
    "save_train_outputs('../../log/YOLOv8cls-version-1/training', history, gradient_stats)"
   ]
  }
 ],
 "metadata": {
  "kernelspec": {
   "display_name": "Python 3 (ipykernel)",
   "language": "python",
   "name": "python3"
  },
  "language_info": {
   "codemirror_mode": {
    "name": "ipython",
    "version": 3
   },
   "file_extension": ".py",
   "mimetype": "text/x-python",
   "name": "python",
   "nbconvert_exporter": "python",
   "pygments_lexer": "ipython3",
   "version": "3.12.6"
  }
 },
 "nbformat": 4,
 "nbformat_minor": 5
}
