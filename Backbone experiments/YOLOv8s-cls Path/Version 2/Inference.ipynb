{
 "cells": [
  {
   "cell_type": "code",
   "execution_count": 1,
   "id": "a5258e5c-2fd1-45d6-bf25-96674d504f91",
   "metadata": {},
   "outputs": [],
   "source": [
    "import os\n",
    "import torch\n",
    "import torch.nn as nn\n",
    "from torchvision import transforms"
   ]
  },
  {
   "cell_type": "code",
   "execution_count": 2,
   "id": "c9deb7c5-1256-4fdd-b447-69f25786c0e8",
   "metadata": {},
   "outputs": [],
   "source": [
    "import sys\n",
    "sys.path.insert(1, \"../../../\")"
   ]
  },
  {
   "cell_type": "code",
   "execution_count": 3,
   "id": "43b63379-9363-448e-b927-2231dbb097b1",
   "metadata": {},
   "outputs": [],
   "source": [
    "from data_preprocessing import get_means, get_stds, ImageNetSubset\n",
    "from Models.yolov8cls_path import Model"
   ]
  },
  {
   "cell_type": "code",
   "execution_count": 4,
   "id": "cbdae16b-4251-46a6-865b-bfa81a9a5ea1",
   "metadata": {},
   "outputs": [],
   "source": [
    "if torch.cuda.is_available():\n",
    "    device=torch.device('cuda')\n",
    "else:\n",
    "    device=torch.device('cpu') "
   ]
  },
  {
   "cell_type": "code",
   "execution_count": 5,
   "id": "ae3c5dd0-ac5d-4cbb-8463-d9ebe0621f3c",
   "metadata": {},
   "outputs": [],
   "source": [
    "data_path = '../../../../dummy_datasets/'\n",
    "norms_path = os.path.join(data_path, 'norms.json')"
   ]
  },
  {
   "cell_type": "code",
   "execution_count": 6,
   "id": "e608e517-6da7-41c7-b62d-81cca6aecf54",
   "metadata": {},
   "outputs": [
    {
     "name": "stdout",
     "output_type": "stream",
     "text": [
      "Means are: [0.4405549168586731, 0.4407285749912262, 0.4381718039512634]\n",
      "stds are: [0.25142669677734375, 0.25270089507102966, 0.25131651759147644]\n"
     ]
    }
   ],
   "source": [
    "means = get_means(path=norms_path, train_loader=None)\n",
    "stds = get_stds(path=norms_path, train_loader=None)"
   ]
  },
  {
   "cell_type": "code",
   "execution_count": 7,
   "id": "840c3bfd-3f57-4508-9834-fd0c87b7532a",
   "metadata": {},
   "outputs": [],
   "source": [
    "transformations = transforms.Compose([transforms.ToTensor(),\n",
    "                                      transforms.Resize((224, 224)),\n",
    "                                      transforms.Normalize(mean=means, std=stds)])"
   ]
  },
  {
   "cell_type": "code",
   "execution_count": 8,
   "id": "dfaadddf-3f19-4b50-93b4-98cf177980fb",
   "metadata": {},
   "outputs": [],
   "source": [
    "train_dataset = ImageNetSubset(path=data_path, train=True, transform=transformations, half=False, show=False)"
   ]
  },
  {
   "cell_type": "markdown",
   "id": "102fb805-2a55-41c6-8ef3-82c9c46dca89",
   "metadata": {},
   "source": [
    "# Inference"
   ]
  },
  {
   "cell_type": "code",
   "execution_count": 9,
   "id": "0334802c-836d-4d5e-84fb-3bb63513304b",
   "metadata": {},
   "outputs": [],
   "source": [
    "model = Model(num_classes=10, \n",
    "              residual_connection=True, \n",
    "              CSP=False, \n",
    "              add_hidden=False,\n",
    "              classifyV8=False,\n",
    "              bottleneck=1.0, \n",
    "              variant='s', \n",
    "              device=device, \n",
    "              dtype=torch.float32)"
   ]
  },
  {
   "cell_type": "code",
   "execution_count": 10,
   "id": "0c74c18e-ac17-4de9-a2a4-4787cb14017d",
   "metadata": {},
   "outputs": [],
   "source": [
    "img = train_dataset[0][0].unsqueeze(0)"
   ]
  },
  {
   "cell_type": "code",
   "execution_count": 11,
   "id": "49cee9ed-c904-430e-8547-65f4a7d374fa",
   "metadata": {},
   "outputs": [],
   "source": [
    "from torch.profiler import profile, ProfilerActivity"
   ]
  },
  {
   "cell_type": "code",
   "execution_count": 12,
   "id": "d2426ee4-b05b-47a4-8824-f1f603966f87",
   "metadata": {},
   "outputs": [
    {
     "name": "stdout",
     "output_type": "stream",
     "text": [
      "--------------------------------  ------------  ------------  ------------  ------------  ------------  ------------  ------------  ------------  ------------  \n",
      "                            Name    Self CPU %      Self CPU   CPU total %     CPU total  CPU time avg       CPU Mem  Self CPU Mem    # of Calls  Total KFLOPs  \n",
      "--------------------------------  ------------  ------------  ------------  ------------  ------------  ------------  ------------  ------------  ------------  \n",
      "                      Conv block        10.78%       5.399ms        97.25%      48.690ms       1.948ms      29.61 Mb           0 b            25            --  \n",
      "                    aten::conv2d         0.29%     146.100us        72.98%      36.536ms       1.405ms       9.86 Mb           0 b            26   3464652.800  \n",
      "               aten::convolution         0.79%     396.500us        72.69%      36.390ms       1.400ms       9.86 Mb           0 b            26            --  \n",
      "              aten::_convolution         0.50%     251.400us        71.90%      35.994ms       1.384ms       9.86 Mb           0 b            26            --  \n",
      "        aten::mkldnn_convolution        70.93%      35.513ms        71.39%      35.742ms       1.375ms       9.86 Mb           0 b            26            --  \n",
      "                     aten::empty         0.67%     335.700us         0.67%     335.700us       1.332us      19.84 Mb      19.84 Mb           252            --  \n",
      "               aten::as_strided_         0.16%      78.100us         0.16%      78.100us       3.004us           0 b           0 b            26            --  \n",
      "                   aten::resize_         0.05%      27.100us         0.05%      27.100us       1.042us           0 b           0 b            26            --  \n",
      "                      aten::add_         0.39%     194.400us         0.39%     194.400us       7.776us           0 b           0 b            25            --  \n",
      "                aten::batch_norm         0.18%      91.700us         9.40%       4.704ms     188.148us       9.90 Mb           0 b            25            --  \n",
      "    aten::_batch_norm_impl_index         0.43%     217.100us         9.21%       4.612ms     184.480us       9.90 Mb           0 b            25            --  \n",
      "         aten::native_batch_norm         8.21%       4.108ms         8.73%       4.371ms     174.828us       9.90 Mb     -85.50 Kb            25            --  \n",
      "                aten::empty_like         0.15%      76.000us         0.22%     110.100us       4.404us       9.86 Mb           0 b            25            --  \n",
      "                      aten::silu         4.55%       2.279ms         4.55%       2.279ms      91.172us       9.86 Mb       9.86 Mb            25            --  \n",
      "                       aten::add         0.94%     470.100us         0.94%     470.100us      78.350us       2.01 Mb       2.01 Mb             6       526.848  \n",
      "                        [memory]         0.00%       0.000us         0.00%       0.000us       0.000us      -2.01 Mb      -2.01 Mb             6            --  \n",
      "        Adaptive Average Pooling         0.28%     142.200us         0.53%     267.300us     267.300us      -1.88 Kb      -1.91 Kb             1            --  \n",
      "       aten::adaptive_avg_pool2d         0.03%      14.400us         0.25%     125.100us     125.100us          40 b           0 b             1            --  \n",
      "                      aten::mean         0.07%      34.300us         0.22%     110.700us     110.700us          40 b          40 b             1            --  \n",
      "                       aten::sum         0.05%      26.700us         0.06%      29.700us      29.700us           0 b           0 b             1            --  \n",
      "                     aten::fill_         0.01%       3.000us         0.01%       3.000us       3.000us           0 b           0 b             1            --  \n",
      "                      aten::div_         0.03%      17.000us         0.09%      46.700us      46.700us           0 b          -4 b             1            --  \n",
      "                        aten::to         0.01%       4.900us         0.06%      29.700us      29.700us           4 b           0 b             1            --  \n",
      "                  aten::_to_copy         0.03%      16.900us         0.05%      24.800us      24.800us           4 b           0 b             1            --  \n",
      "             aten::empty_strided         0.01%       3.000us         0.01%       3.000us       3.000us           4 b           4 b             1            --  \n",
      "                     aten::copy_         0.01%       4.900us         0.01%       4.900us       4.900us           0 b           0 b             1            --  \n",
      "                         Flatten         0.14%      70.300us         0.18%      88.900us      88.900us           0 b           0 b             1            --  \n",
      "                   aten::flatten         0.01%       6.600us         0.04%      18.600us      18.600us           0 b           0 b             1            --  \n",
      "                      aten::view         0.02%      12.000us         0.02%      12.000us      12.000us           0 b           0 b             1            --  \n",
      "                     Log Softmax         0.16%      82.400us         0.25%     125.500us     125.500us           0 b         -40 b             1            --  \n",
      "               aten::log_softmax         0.02%       9.900us         0.09%      43.100us      43.100us          40 b           0 b             1            --  \n",
      "              aten::_log_softmax         0.07%      33.200us         0.07%      33.200us      33.200us          40 b          40 b             1            --  \n",
      "--------------------------------  ------------  ------------  ------------  ------------  ------------  ------------  ------------  ------------  ------------  \n",
      "Self CPU time total: 50.064ms\n",
      "\n"
     ]
    },
    {
     "name": "stderr",
     "output_type": "stream",
     "text": [
      "C:\\Users\\work&studies\\AppData\\Local\\Programs\\Python\\Python312\\Lib\\site-packages\\torch\\autograd\\profiler.py:257: UserWarning: CUDA is not available, disabling CUDA profiling\n",
      "  warn(\"CUDA is not available, disabling CUDA profiling\")\n"
     ]
    }
   ],
   "source": [
    "with profile(activities=[ProfilerActivity.CPU, ProfilerActivity.CUDA],\n",
    "                                    schedule=torch.profiler.schedule(wait=1, warmup=1, active=10, repeat=1),\n",
    "                                    on_trace_ready=torch.profiler.tensorboard_trace_handler('../../log/YOLOv8cls-version-2/inference'),\n",
    "                                    record_shapes=True,\n",
    "                                    profile_memory=True,\n",
    "                                    with_flops=True,\n",
    "                                    with_modules=True,\n",
    "                                    with_stack=True) as prof:\n",
    "    for i in range(11):\n",
    "        out = model(img)\n",
    "        prof.step()\n",
    "print(prof.key_averages().table(row_limit=-1))"
   ]
  }
 ],
 "metadata": {
  "kernelspec": {
   "display_name": "Python 3 (ipykernel)",
   "language": "python",
   "name": "python3"
  },
  "language_info": {
   "codemirror_mode": {
    "name": "ipython",
    "version": 3
   },
   "file_extension": ".py",
   "mimetype": "text/x-python",
   "name": "python",
   "nbconvert_exporter": "python",
   "pygments_lexer": "ipython3",
   "version": "3.12.6"
  }
 },
 "nbformat": 4,
 "nbformat_minor": 5
}
